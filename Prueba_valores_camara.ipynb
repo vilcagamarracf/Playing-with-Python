{
 "cells": [
  {
   "cell_type": "markdown",
   "id": "ff064ff8-c967-4f8c-b0ee-4b1bf1a4ca49",
   "metadata": {},
   "source": [
    "# Prueba de valores de cámara"
   ]
  },
  {
   "cell_type": "markdown",
   "id": "46ff4a51-e387-4642-9bf1-4f45482eb13d",
   "metadata": {},
   "source": [
    "Referencia: https://github.com/mict11000/free-forest"
   ]
  },
  {
   "cell_type": "code",
   "execution_count": 1,
   "id": "83808303-37d0-42cd-9528-17f2985c0192",
   "metadata": {},
   "outputs": [],
   "source": [
    "import FlightPath as fp"
   ]
  },
  {
   "cell_type": "code",
   "execution_count": 15,
   "id": "9bc14c89-f377-4511-af66-15667e576165",
   "metadata": {},
   "outputs": [
    {
     "name": "stdout",
     "output_type": "stream",
     "text": [
      "16.3 14.18 10.37 4112 3008\n",
      "4.5 3.84 3.07 320 256\n",
      "*********************************** Results ***********************************\n",
      "Pixel pitch X (um): 7.75 \n",
      "Pixel pitch Y (um): 4.29\n",
      "Pixel side ratio is: 1.8065268065268065\n",
      "===============================================================================\n",
      "*********************************** Results ***********************************\n",
      "Horizontal Field of View (°): 90.0 \n",
      "Vertical Field of View (°): 45.0 \n",
      "Diagonal Field of View (°): 94.5 \n",
      "Wide angle (75° to 100°)\n",
      "===============================================================================\n"
     ]
    },
    {
     "data": {
      "text/plain": [
       "(90.0, 45.0, 94.5)"
      ]
     },
     "execution_count": 15,
     "metadata": {},
     "output_type": "execute_result"
    }
   ],
   "source": [
    "# Interior Orientation \n",
    "\n",
    "# Lens and Multispectral Imager Information\n",
    "fl = 8 # focal lenght in milimeters\n",
    "\n",
    "sw = 16 # sensor Width in milimeters     # <------\n",
    "sh = 6.63 # sensor Heigth in milimeters  # <------\n",
    "\n",
    "Xpx = 2064 # the image width in pixels\n",
    "Ypx = 1544 # the image height in pixels\n",
    "\n",
    "# Exterior orientation \n",
    "\n",
    "h = 100 # flying height above ground in meters (m)\n",
    "E, N = 418553.52, 8632067.97 # UTM coordinates (easting and northing) from EXIF:GPSLatitude,GPSLongitude\n",
    "crs18Sepgs = 32718 # CRS UTM 18S\n",
    "xgimbal, ygimbal, zgimbal = 0, 0, 325 # Roll, Pitch, Yaw in degree from EXIF\n",
    "\n",
    "altumPT_ms = fp.CameraUAV(sw, sh, Xpx, Ypx, fl) \n",
    "\n",
    "# Lens and Panchromatic Imager Information\n",
    "fl, sw, sh, Xpx, Ypx = 16.3, 14.18, 10.37, 4112, 3008\n",
    "print(fl, sw, sh, Xpx, Ypx)\n",
    "altumPT_pc = fp.CameraUAV(sw, sh, Xpx, Ypx, fl)\n",
    "\n",
    "# Sensor Térmico y Sensor Pancromático\n",
    "# Lens and Thermal Imager Information\n",
    "fl, sw, sh, Xpx, Ypx = 4.5, 3.84, 3.07, 320, 256\n",
    "print(fl, sw, sh, Xpx, Ypx)\n",
    "altumPT_tr = fp.CameraUAV(sw, sh, Xpx, Ypx, fl)\n",
    "\n",
    "# distancia desde el centro de un píxel hasta el centro del siguiente medido en micrómetros\n",
    "altumPT_ms.focalLen\n",
    "\n",
    "# Campo de visión (Field of View - FoV)\n",
    "altumPT_ms.pixelPitch_(view=True) # 3.75 pixel size in microns\n",
    "\n",
    "# Campo de visión (Field of View - FoV)\n",
    "altumPT_ms.FoV_(view=True)"
   ]
  },
  {
   "cell_type": "code",
   "execution_count": null,
   "id": "642092ab-29dd-4409-a351-74cfb79530b3",
   "metadata": {},
   "outputs": [],
   "source": []
  }
 ],
 "metadata": {
  "kernelspec": {
   "display_name": "Python 3 (ipykernel)",
   "language": "python",
   "name": "python3"
  },
  "language_info": {
   "codemirror_mode": {
    "name": "ipython",
    "version": 3
   },
   "file_extension": ".py",
   "mimetype": "text/x-python",
   "name": "python",
   "nbconvert_exporter": "python",
   "pygments_lexer": "ipython3",
   "version": "3.10.13"
  }
 },
 "nbformat": 4,
 "nbformat_minor": 5
}
