{
  "nbformat": 4,
  "nbformat_minor": 0,
  "metadata": {
    "colab": {
      "name": "F1_Earth_Engine.ipynb",
      "provenance": [],
      "collapsed_sections": [
        "7EdbFfC8_M_5",
        "YkSZMai-Tbs3",
        "XDyz5Yijb23N",
        "Pqswn4v1yD9n",
        "zSivwT_J76Mk",
        "LdiSzI9B8BNN",
        "xs9Ka7Np8EaU",
        "Ovx71J88CJcd",
        "cA6AXJTulkBT",
        "-vNfTfz9loJ_",
        "jiy-pYag0Y0p",
        "M3kPUjFf0goe",
        "w3PUSwup562d",
        "cJvw_seyIOgz",
        "t_V5ODyKJKUp",
        "O6I5IoeGpk3U",
        "mWiCx_w36HB9",
        "j74uz7NGvo3z",
        "NYi--ITCEHv3",
        "DFzhUq2rtDGi",
        "l80c27SVAn6j",
        "vqiGyvt0tyih",
        "vKBWgTQYt5Ew",
        "jhUutYjkr_J1",
        "GGjXpB9csPXm",
        "bJuaDsp8vNYi"
      ],
      "mount_file_id": "1CRjp4fYEeiBv1G2BeJYcQFPSkORiz5N5",
      "authorship_tag": "ABX9TyOSrZDRfEarWTWjsbsuK3rq",
      "include_colab_link": true
    },
    "kernelspec": {
      "display_name": "Python 3",
      "name": "python3"
    }
  },
  "cells": [
    {
      "cell_type": "markdown",
      "metadata": {
        "id": "view-in-github",
        "colab_type": "text"
      },
      "source": [
        "<a href=\"https://colab.research.google.com/github/vilcagamarracf/Playing-with-Python/blob/main/Crop_classification_EE.ipynb\" target=\"_parent\"><img src=\"https://colab.research.google.com/assets/colab-badge.svg\" alt=\"Open In Colab\"/></a>"
      ]
    },
    {
      "cell_type": "markdown",
      "metadata": {
        "id": "416xglPyC_Fk"
      },
      "source": [
        "***Important Note: Access to [Google Earth Engine](https://earthengine.google.com/) is currently only available to registered users. The [Google Earth Engine API](https://github.com/google/earthengine-api) is in active development, and users should expect the API to change. When (not if) API changes occur, applications that use the API will likely need to be updated.***\n"
      ]
    },
    {
      "cell_type": "markdown",
      "metadata": {
        "id": "6whWTU8R6Jux"
      },
      "source": [
        "<center>\n",
        "<h1>Google Earth Engine with Python </h1>\n",
        "<h2> Crop Classification using the GEE Python API, Valle de Chincha, Ica. </h2>\n",
        "</center>\n",
        "\n",
        "***Information about this project***\n",
        "```\n",
        "FILE          : 00_Tesis_Cesar_Vilca.ipynb \n",
        "AUTHOR        : Cesar Francisco Vilca Gamarra \n",
        "EMAIL         : vilcagamarracf@gmail.com \n",
        "ORGANIZATION  : UNALM \n",
        "CREATION DATE : 15 June 2020 \n",
        "DEPENDENCIES  : earthengine-api, os, pandas, urllib, plotly, numpy, folium \n",
        "PURPOSE       : Download Sentinel Products \n",
        "```\n",
        "<center>\n",
        "<img src= 'https://miro.medium.com/max/1350/1*bOokbEeXpF1Z4gd_BpL93w.jpeg' width=50%/>\n",
        "</center>\n"
      ]
    },
    {
      "cell_type": "code",
      "metadata": {
        "colab": {
          "base_uri": "https://localhost:8080/",
          "height": 37
        },
        "id": "hPb5tK3t6Ok8",
        "cellView": "form",
        "outputId": "e5124a7f-e7fc-4a1e-818d-d77a68515be0"
      },
      "source": [
        "#@markdown Banner\n",
        "%%html\n",
        "<marquee style='width: 30%; color: blue;'><b>¡Tesis en proceso! </b></marquee>"
      ],
      "execution_count": null,
      "outputs": [
        {
          "output_type": "display_data",
          "data": {
            "text/html": [
              "<marquee style='width: 30%; color: blue;'><b>¡Tesis en proceso! </b></marquee>"
            ],
            "text/plain": [
              "<IPython.core.display.HTML object>"
            ]
          },
          "metadata": {
            "tags": []
          }
        }
      ]
    },
    {
      "cell_type": "markdown",
      "metadata": {
        "id": "J0t8DqaUHFkl"
      },
      "source": [
        "# *1. Introducción*"
      ]
    },
    {
      "cell_type": "markdown",
      "metadata": {
        "id": "LDFxYA7cJRUt"
      },
      "source": [
        "\"*Aquí va una introducción interesante*\"\n",
        "\n",
        "Hablar de:\n",
        "- Situación del país\n",
        "- ¿Es necesario realizar esta investigación? (clasificar cultivos)\n",
        "- Aprendizaje automático (*Machine Learning* en ingles)\n",
        "- Su aplicación en la Agricultura\n"
      ]
    },
    {
      "cell_type": "markdown",
      "metadata": {
        "id": "9Z6ihylGG_UO"
      },
      "source": [
        "# *2. Metodología*"
      ]
    },
    {
      "cell_type": "markdown",
      "metadata": {
        "id": "guoPVW2lJTfq"
      },
      "source": [
        "La presente investigación se desarrollará de la siguiente manera:\n",
        "\n",
        "1. **Fase: Earth Engine**\n",
        "  - **Earth Engine**: Obtención y pre-procesamiento (control de calidad) de imágenes satelitáles   \n",
        "3. **Fase: ML-Random Forest**\n",
        "  - Elaboración del modelo (Algoritmo de clasificación Random Forest)\n",
        "  - Procesamiento de imágenes con el modelo (Entrenamiento)\n",
        "  - Validación del modelo (con datos de campo)"
      ]
    },
    {
      "cell_type": "markdown",
      "metadata": {
        "id": "OjtdMhiNFBUA"
      },
      "source": [
        "# *3. Desarrollo*\n",
        "\n"
      ]
    },
    {
      "cell_type": "markdown",
      "metadata": {
        "id": "G3T6bZds_wBP"
      },
      "source": [
        "## Fase 1: Earth Engine\n",
        "\n",
        "\n",
        "\n",
        "\n"
      ]
    },
    {
      "cell_type": "markdown",
      "metadata": {
        "id": "Bzgb4cF8_eB8"
      },
      "source": [
        "**Objetivo**:\n",
        "- Obtener imágenes (de EE) del área de estudio para su procesamiento y posterior ingesta al modelo (clasificación supervisada mediante el método de ensamble Random Forest).\n",
        "\n",
        "Pasos:\n",
        "\n",
        "1. Creación de cuenta en EE\n",
        "2. EE en Colab (como IDE de python de manera online)\n",
        "3. Obtención de imágenes satelitales [Sentinel-2](https://developers.google.com/earth-engine/datasets/catalog/COPERNICUS_S2_SR#description) mediante EE en Colab ([EE Datasets](https://developers.google.com/earth-engine/datasets/))\n",
        "4. Tratamiento de imágenes (máscara de nubes - [Sentinel-2 Cloud Probability](https://developers.google.com/earth-engine/datasets/catalog/COPERNICUS_S2_CLOUD_PROBABILITY)\n",
        ")"
      ]
    },
    {
      "cell_type": "markdown",
      "metadata": {
        "id": "BXmn9-qcMWgM"
      },
      "source": [
        "### Trabajo Previo en GEE\n",
        "\n",
        "1. GEE Python API en Colab\n",
        "2. Region of Interest (ROI): Chincha\n",
        "3. Visualización rápida de imágenes (Mediana)\n",
        "4. Visualización de propiedades\n",
        "5. Visualización de mejor imagen"
      ]
    },
    {
      "cell_type": "markdown",
      "metadata": {
        "id": "An-SRMwGRnj-"
      },
      "source": [
        "#### ***1. GEE Python API en Colab***"
      ]
    },
    {
      "cell_type": "markdown",
      "metadata": {
        "id": "INm2Kg0uQKDv"
      },
      "source": [
        "Revisar la versión actual de [Google Earth Engine API](https://github.com/google/earthengine-api)"
      ]
    },
    {
      "cell_type": "code",
      "metadata": {
        "id": "vUC-giU332oP"
      },
      "source": [
        "# @markdown Ver upgrade de packages: [foro](https://stackoverflow.com/questions/5183672/how-do-i-update-a-python-package)\n",
        "!pip list --outdated\n",
        "\n",
        "# https://medium.com/python-in-plain-english/understand-python-import-module-and-package-c5b4289bbf60"
      ],
      "execution_count": null,
      "outputs": []
    },
    {
      "cell_type": "code",
      "metadata": {
        "colab": {
          "base_uri": "https://localhost:8080/"
        },
        "id": "7MBw1v-QBL5K",
        "outputId": "e949ab69-8a90-4e0c-a275-92ea09b22b76"
      },
      "source": [
        "#Revisar la versión actual de Google Earth Engine API\n",
        "# https://github.com/google/earthengine-api\n",
        "import ee\n",
        "print('GEE Version:',ee.__version__)"
      ],
      "execution_count": null,
      "outputs": [
        {
          "output_type": "stream",
          "text": [
            "GEE Version: 0.1.258\n"
          ],
          "name": "stdout"
        }
      ]
    },
    {
      "cell_type": "code",
      "metadata": {
        "id": "E8AKrqGUBL5K"
      },
      "source": [
        "# Para actualizar la versión de google earth engine. \n",
        "# 29 de Octubre, 2020: GEE Version: 0.1.240\n",
        "#!pip install folium --upgrade \n",
        "\n",
        "!pip install earthengine-api --upgrade "
      ],
      "execution_count": null,
      "outputs": []
    },
    {
      "cell_type": "code",
      "metadata": {
        "id": "y1o3KKEzso2r",
        "colab": {
          "base_uri": "https://localhost:8080/"
        },
        "cellView": "form",
        "outputId": "d27e3fe7-9797-4bb1-b947-24f33962a04c"
      },
      "source": [
        "#@markdown *Credenciales Google Earth Engine*\n",
        "import os \n",
        "credential = '{\"refresh_token\":\"1//09lhqedCNpNDsCgYIARAAGAkSNwF-L9IraEP8FyJma46WSiEHhOMsZqSoTPJsi3Lar0C4nZUwj2QCZ_i66-McVzy4NmMalQL17KM\"}'\n",
        "credential_file_path = os.path.expanduser(\"~/.config/earthengine/\")\n",
        "os.makedirs(credential_file_path,exist_ok=True)\n",
        "with open(credential_file_path + 'credentials', 'w') as file:\n",
        "    file.write(credential)\n",
        "import ee\n",
        "ee.Initialize()\n",
        "print('Ya estás logeado.')\n",
        "print('GEE Version:',ee.__version__)"
      ],
      "execution_count": null,
      "outputs": [
        {
          "output_type": "stream",
          "text": [
            "Ya estás logeado.\n",
            "GEE Version: 0.1.260\n"
          ],
          "name": "stdout"
        }
      ]
    },
    {
      "cell_type": "code",
      "metadata": {
        "colab": {
          "base_uri": "https://localhost:8080/"
        },
        "id": "SJ6adBwQLhpA",
        "cellView": "form",
        "outputId": "4b2097dd-2126-4bf5-981e-0d458c70c905"
      },
      "source": [
        "# @markdown Importar:\n",
        "# @markdown - `mapdisplay`: Variable global: `mapViz`\n",
        "# @markdown - `ee_get_dates`\n",
        "# @markdown - `conv_fecha`\n",
        "# @markdown - `ver_rangos`\n",
        "# @markdown - `ROI CHINCHA`\n",
        "# @markdown - `create_dateranges`\n",
        "\n",
        "\n",
        "# mapdisplay\n",
        "import folium \n",
        "def mapdisplay(center, dicc, Tiles=\"OpensTreetMap\",zoom_start=10):\n",
        "    '''\n",
        "    Crea mapas interactivos usando la librería `folium`\n",
        "\n",
        "    - `center`: Center of the map (Latitude and Longitude) (`list`)\n",
        "    - `dicc`: Earth Engine Geometries or Tiles dictionary (`dict`)\n",
        "    - `Tiles=`: \n",
        "    Mapbox Bright \n",
        "    Mapbox Control Room\n",
        "    Stamen Terrain\n",
        "    Stamen Toner\n",
        "    stamenwatercolor\n",
        "    cartodbpositron\n",
        "    - `zoom_start=`: Initial zoom level for the map (`int`)\n",
        "\n",
        "    Return: A folium.Map object\n",
        "    '''\n",
        "    # Centrado de imagen (El [::-1] lee inversamente la lista)\n",
        "    center = center[::-1]\n",
        "\n",
        "    # Agregando parámetros de visualización\n",
        "    global mapViz\n",
        "    mapViz = folium.Map(location=center,tiles=Tiles, zoom_start=zoom_start, control_scale=True)\n",
        "\n",
        "    # Seteando la visualización de Images\n",
        "    for k,v in dicc.items():\n",
        "      if ee.image.Image in [type(x) for x in v.values()]:\n",
        "        folium.TileLayer(tiles = v[\"tile_fetcher\"].url_format,\n",
        "                         attr  = 'Google Earth Engine',\n",
        "                         overlay =True,\n",
        "                         name  = k).add_to(mapViz)\n",
        "      else:\n",
        "        folium.GeoJson(data = v,\n",
        "                       name = k).add_to(mapViz)\n",
        "    # Agregar: Minimapa\n",
        "    from folium.plugins import MiniMap\n",
        "    minimap = MiniMap(\n",
        "        tile_layer=\"OpensTreetMap\", \n",
        "        position=\"bottomright\", \n",
        "        zoom_level_fixed=7)\n",
        "    mapViz.add_child(minimap) # https://nbviewer.jupyter.org/github/python-visualization/folium/blob/master/examples/MiniMap.ipynb\n",
        "\n",
        "    # Fullscreen (no funciona en colab)\n",
        "    # plugins.Fullscreen().add_to(mapViz)\n",
        "\n",
        "    # Agregando el control de layers\n",
        "    mapViz.add_child(folium.LayerControl())\n",
        "    return mapViz\n",
        "print('mapdisplay(center, dicc, Tiles=\"OpensTreetMap\",zoom_start=10) listo!')\n",
        "\n",
        "# ee_get_dates ----------------------------------------\n",
        "from datetime import datetime as dt\n",
        "def ee_get_dates(ic):\n",
        "  \"\"\"\n",
        "  Permite obtener información de la Fecha y Hora de toma de imágen por el satélite.\n",
        "  - ic: `ee.ImageCollection()`\n",
        "  \"\"\"\n",
        "  dates = ic.aggregate_array('system:time_start').getInfo()\n",
        "  anonym = lambda x: dt.utcfromtimestamp(x/1000).strftime('%Y-%m-%d %H:%M:%S')\n",
        "  return list(map(anonym, dates))\n",
        "print('ee_get_dates(ic) listo!')\n",
        "\n",
        "# conv_fecha ----------------------------------------\n",
        "def conv_fecha(img, getInfo=None):\n",
        "  '''\n",
        "  Convierte el formato de UNIX Time al formato %Y-%m-%d %H:%M:%S\n",
        "  img: ee.Image\n",
        "  getInfo = True : cuando se tiene ya el .getInfo() \n",
        "  '''\n",
        "  from datetime import datetime as dt\n",
        "  if getInfo is None:\n",
        "    return dt.utcfromtimestamp(img.getInfo()['properties'][\"system:time_start\"]/1000).strftime('%Y-%m-%d %H:%M:%S')\n",
        "  if getInfo==True:\n",
        "    return dt.utcfromtimestamp(img['properties'][\"system:time_start\"]/1000).strftime('%Y-%m-%d %H:%M:%S')\n",
        "print('conv_fecha(img, getInfo=None) listo!')\n",
        "\n",
        "# ROI CHINCHA ----------------------------------------\n",
        "\n",
        "area_total = ee.FeatureCollection('users/CesarVilca/area_total')\n",
        "roi_clip = area_total.geometry().bounds()\n",
        "\n",
        "centroide = [-76.0908, -13.4589]\n",
        "print('roi, roi_clip y centroide listos!')\n",
        "\n",
        "# ver_rangos\n",
        "\n",
        "Start_date = '2012-01-01'\n",
        "End_date   = '2021-01-31'\n",
        "range_date = [Start_date, End_date]\n",
        "\n",
        "def ver_rangos(img_col, range_date= [Start_date, End_date]):\n",
        "  \"\"\"\n",
        "  Devuelve los rangos de fechas existente en un rango inicial escrito manualmente como input.\n",
        "  Pasos:\n",
        "  1. `Reducer.minMax()` devuelve un valor min y max\n",
        "  2. `icol.reduceColumns()` devuelve un diccionario con el min-max\n",
        "  more info: https://developers.google.com/earth-engine/apidocs/ee-imagecollection-reducecolumns?hl=en\n",
        "  \"\"\"\n",
        "  \n",
        "  rango = img_col.reduceColumns(ee.Reducer.minMax(), [\"system:time_start\"]) # Retorna un ee.dictionary: {'max': 1608132402761, 'min': 1545060401000}\n",
        "\n",
        "  # Obtención de la fecha min y max del image collection en formato ISO standard 8601\n",
        "  # Javascript trabaja las fechas con milisegundos (se deja así)\n",
        "  # Python     trabaja las fechas con segundos (por eso /1000)\n",
        "  init_date = ee.Date(rango.get('min')).getInfo()['value']/1000.\n",
        "  last_date = ee.Date(rango.get('max')).getInfo()['value']/1000.\n",
        "\n",
        "  # Dar formato a las fechas  \n",
        "  from datetime import datetime as dt\n",
        "  init_date_f = dt.utcfromtimestamp(init_date).strftime('%Y-%m-%d') # %H:%M:%S\n",
        "  last_date_f = dt.utcfromtimestamp(last_date).strftime('%Y-%m-%d') # %H:%M:%S\n",
        "  \n",
        "  # Obtenga el rango de fechas de las imágenes en la colección.\n",
        "  range_date = [Start_date, End_date]\n",
        "  print('Total imágenes: {}'.format(img_col.size().getInfo()))\n",
        "  print('Rango Temporal Ingresado : {} - {}'.format(range_date[0], range_date[1]))\n",
        "  print('Rango Temporal Real      : {} - {}'.format(init_date_f, last_date_f))\n",
        "print('ver_rangos(icol, range_date= [Start_date, End_date]) listo!')\n",
        "\n",
        "# create_dateranges ----------------------------------------\n",
        "def create_dateranges(init_date, time, range_1, range_2):\n",
        "  '''\n",
        "  init_date: '20XX' for monthly dates, '20XX-XX' for daily dates(string)\n",
        "  time: 'year', 'month', 'day' (string)\n",
        "  range_1: 1, ... 12 for monthly values (int)\n",
        "  range_2: 1, ... 13 for monthly values (int)\n",
        "\n",
        "  Returns a date ranges in a list form.\n",
        "  '''\n",
        "  ranges = []\n",
        "  def create_dates(date, plus_time):\n",
        "     ''' \n",
        "     init_date: string values only, example:  '2013-1'\n",
        "     time: 'year', 'month', 'day'\n",
        "  \n",
        "     more info: https://developers.google.com/earth-engine/apidocs/ee-date-getrange\n",
        "     '''\n",
        "     var_time = ee.Date(date).getRange(plus_time).getInfo().get('dates')\n",
        "  \n",
        "     from datetime import datetime as dt #-%d\n",
        "     Start_Date = dt.utcfromtimestamp(var_time[0]/1000).strftime('%Y-%m')\n",
        "     End_Date   = dt.utcfromtimestamp(var_time[1]/1000).strftime('%Y-%m')\n",
        "     return  [Start_Date, End_Date, i-1]\n",
        "  \n",
        "  for i in range(range_1, range_2+1):\n",
        "    ranges.append(create_dates(init_date+'-'+str(i), time))\n",
        "  return ranges\n",
        "print('create_dateranges(init_date, time, range_1, range_2) listo!')"
      ],
      "execution_count": null,
      "outputs": [
        {
          "output_type": "stream",
          "text": [
            "mapdisplay(center, dicc, Tiles=\"OpensTreetMap\",zoom_start=10) listo!\n",
            "ee_get_dates(ic) listo!\n",
            "conv_fecha(img, getInfo=None) listo!\n",
            "roi, roi_clip y centroide listos!\n",
            "ver_rangos(icol, range_date= [Start_date, End_date]) listo!\n",
            "create_dateranges(init_date, time, range_1, range_2) listo!\n"
          ],
          "name": "stdout"
        }
      ]
    },
    {
      "cell_type": "markdown",
      "metadata": {
        "id": "7EdbFfC8_M_5"
      },
      "source": [
        "#### ***2. Region of Interest (ROI): Chincha***"
      ]
    },
    {
      "cell_type": "code",
      "metadata": {
        "id": "k_cHG8XxWBUC"
      },
      "source": [
        "area_total = ee.FeatureCollection('users/CesarVilca/area_total')\n",
        "roi_clip = area_total.geometry().bounds()\n",
        "\n",
        "centroide = [-76.0908, -13.4589]\n",
        "\n",
        "# Visualización\n",
        "# dicc = {'area total': area_total.getInfo(), \n",
        "#         'roi_clip'  : roi_clip.getInfo()}\n",
        "\n",
        "# mapdisplay(centroide, dicc, zoom_start=12)"
      ],
      "execution_count": null,
      "outputs": []
    },
    {
      "cell_type": "markdown",
      "metadata": {
        "id": "YkSZMai-Tbs3"
      },
      "source": [
        "#### ***3. Visualización rápida de imágenes (Mediana)***"
      ]
    },
    {
      "cell_type": "markdown",
      "metadata": {
        "id": "sWoWkm87j4jD"
      },
      "source": [
        "Source: [Exploring Satellite Imagery — Part II - Girija Shankar Behera](https://medium.com/swlh/exploring-satellite-imagery-part-ii-44bd2a5ee85c)\n",
        "\n",
        "> Sentinel-2A launched on 23June, 2015 and Sentinel-2B launched on 7March, 2017 under the Copernicus programme as Earth Observation satellites. The two satellites also known as twin satellites, form a constellation, phasing at 180° to each other. The earlier one alone is able to complete a full cycle of earth in about 10days, with the second one coming up, they together take 5 days for the same.\n"
      ]
    },
    {
      "cell_type": "markdown",
      "metadata": {
        "id": "qJ5Wr2k_Eql4"
      },
      "source": [
        "- **OJO**: La mediana (`.median()`) produce mejores visualizaciones a comparación del promedio `.mean()`."
      ]
    },
    {
      "cell_type": "markdown",
      "metadata": {
        "id": "0ZP9wTyPMoNK"
      },
      "source": [
        " 1. Identificar el producto y fecha de interés disponible:\n",
        "\n",
        "Satellite | Data Availability | For the study area\n",
        ":---: | :---: | :---:\n",
        "Landsat 7 SR | 1999-01-01 – Present | ---\n",
        "Landsat 8 SR | 2013-04-11 – Present | ---\n",
        "Sentinel-2   | 2015-06-23 – Present | 2015-11-28 – Present\n",
        "Sentinel-2 SR| 2017-03-28 – Present | 2018-12-17 – Present\n",
        "\n",
        " 2. Selección del producto:\n",
        " - USGS Landsat 7 Surface Reflectance Tier 1: `ee.ImageCollection(\"LANDSAT/LE07/C01/T1_SR\")`\n",
        " - USGS Landsat 8 Surface Reflectance Tier 1: `ee.ImageCollection(\"LANDSAT/LC08/C01/T1_SR\")`\n",
        " - Sentinel-2 MSI: MultiSpectral Instrument, Level-1C: `ee.ImageCollection(\"COPERNICUS/S2\")`\n",
        " - Sentinel-2 MSI: MultiSpectral Instrument, Level-2A: `ee.ImageCollection(\"COPERNICUS/S2_SR\")`\n",
        "\n"
      ]
    },
    {
      "cell_type": "code",
      "metadata": {
        "id": "oxHhBhzs_cSQ",
        "cellView": "form",
        "colab": {
          "base_uri": "https://localhost:8080/",
          "height": 907
        },
        "outputId": "55aa70c4-8ca2-4855-ab42-7eefe68efd7f"
      },
      "source": [
        "#@title Visualización de Imágenes Satelitales\n",
        "\n",
        "#-----------------------------------------\n",
        "#    Filtrado de ee.ImageCollection()\n",
        "#-----------------------------------------\n",
        "\n",
        "#@markdown 1. Selección del producto:\n",
        "Product_name = 'COPERNICUS/S2_SR'  #@param [\"COPERNICUS/S2\", \"COPERNICUS/S2_SR\"]\n",
        "\n",
        "#@markdown 2. Seleccionamos las fechas de interés:\n",
        "Start_date = '2012-12-17'  #@param {type: \"date\"}\n",
        "End_date   = '2021-02-12'  #@param {type: \"date\"}\n",
        "\n",
        "#@markdown 3. Porcentaje de Nubosidad:\n",
        "Cloud_Pixel_Percentage =    100#@param {type:\"number\"}\n",
        "\n",
        "#  Parametros globales\n",
        "range_date = [Start_date, End_date]\n",
        "\n",
        "#@markdown 4. Variable del ImageColecction: **`img_col`**\n",
        "# ee.ImageCollection filtrado de fechas, area y % de nubes\n",
        "img_col = ee.ImageCollection(Product_name)\\\n",
        "         .filterDate(range_date[0], range_date[1])\\\n",
        "         .filterBounds(ee.Geometry.Point(-76.13, -13.48))\\\n",
        "         .filter(ee.Filter.lt('CLOUDY_PIXEL_PERCENTAGE', Cloud_Pixel_Percentage)) \n",
        "\n",
        "#-----------------------------------------\n",
        "#                  Fechas\n",
        "#-----------------------------------------\n",
        "# Ver rangos temporales reales e introducidos manualmente + cantidad de imgs\n",
        "ver_rangos(img_col, range_date=range_date)\n",
        "\n",
        "#-----------------------------------------\n",
        "#              Visualización \n",
        "#-----------------------------------------\n",
        "#@markdown 5. Visualización de imagen en RGB (Median) \n",
        "# Retorna: ee.Image\n",
        "img_col_clip = img_col.select(['B4','B3','B2'])\\\n",
        "                        .median()\\\n",
        "                        .divide(10000)\\\n",
        "                        .clip(roi_clip) # válido solo en ee.Image\n",
        "\n",
        "# Visualización de la imagen en color natural\n",
        "bands  = ['B4','B3','B2'] # Natural Color\n",
        "mydicc = {\n",
        "    'Natural Color': img_col_clip.getMapId({'min':0,'max':0.3,'bands':bands}),\n",
        "    'Region of interest (ROI)': area_total.getInfo()}\n",
        "\n",
        "mapdisplay(centroide, mydicc,zoom_start=12)"
      ],
      "execution_count": null,
      "outputs": [
        {
          "output_type": "stream",
          "text": [
            "Total imágenes: 156\n",
            "Rango Temporal Ingresado : 2012-12-17 - 2021-02-12\n",
            "Rango Temporal Real      : 2018-12-17 - 2021-02-09\n"
          ],
          "name": "stdout"
        },
        {
          "output_type": "execute_result",
          "data": {
            "text/html": [
              "<div style=\"width:100%;\"><div style=\"position:relative;width:100%;height:0;padding-bottom:60%;\"><span style=\"color:#565656\">Make this Notebook Trusted to load map: File -> Trust Notebook</span><iframe src=\"about:blank\" style=\"position:absolute;width:100%;height:100%;left:0;top:0;border:none !important;\" data-html=%3C%21DOCTYPE%20html%3E%0A%3Chead%3E%20%20%20%20%0A%20%20%20%20%3Cmeta%20http-equiv%3D%22content-type%22%20content%3D%22text/html%3B%20charset%3DUTF-8%22%20/%3E%0A%20%20%20%20%3Cscript%3EL_PREFER_CANVAS%3Dfalse%3B%20L_NO_TOUCH%3Dfalse%3B%20L_DISABLE_3D%3Dfalse%3B%3C/script%3E%0A%20%20%20%20%3Cscript%20src%3D%22https%3A//cdn.jsdelivr.net/npm/leaflet%401.4.0/dist/leaflet.js%22%3E%3C/script%3E%0A%20%20%20%20%3Cscript%20src%3D%22https%3A//code.jquery.com/jquery-1.12.4.min.js%22%3E%3C/script%3E%0A%20%20%20%20%3Cscript%20src%3D%22https%3A//maxcdn.bootstrapcdn.com/bootstrap/3.2.0/js/bootstrap.min.js%22%3E%3C/script%3E%0A%20%20%20%20%3Cscript%20src%3D%22https%3A//cdnjs.cloudflare.com/ajax/libs/Leaflet.awesome-markers/2.0.2/leaflet.awesome-markers.js%22%3E%3C/script%3E%0A%20%20%20%20%3Clink%20rel%3D%22stylesheet%22%20href%3D%22https%3A//cdn.jsdelivr.net/npm/leaflet%401.4.0/dist/leaflet.css%22/%3E%0A%20%20%20%20%3Clink%20rel%3D%22stylesheet%22%20href%3D%22https%3A//maxcdn.bootstrapcdn.com/bootstrap/3.2.0/css/bootstrap.min.css%22/%3E%0A%20%20%20%20%3Clink%20rel%3D%22stylesheet%22%20href%3D%22https%3A//maxcdn.bootstrapcdn.com/bootstrap/3.2.0/css/bootstrap-theme.min.css%22/%3E%0A%20%20%20%20%3Clink%20rel%3D%22stylesheet%22%20href%3D%22https%3A//maxcdn.bootstrapcdn.com/font-awesome/4.6.3/css/font-awesome.min.css%22/%3E%0A%20%20%20%20%3Clink%20rel%3D%22stylesheet%22%20href%3D%22https%3A//cdnjs.cloudflare.com/ajax/libs/Leaflet.awesome-markers/2.0.2/leaflet.awesome-markers.css%22/%3E%0A%20%20%20%20%3Clink%20rel%3D%22stylesheet%22%20href%3D%22https%3A//rawcdn.githack.com/python-visualization/folium/master/folium/templates/leaflet.awesome.rotate.css%22/%3E%0A%20%20%20%20%3Cstyle%3Ehtml%2C%20body%20%7Bwidth%3A%20100%25%3Bheight%3A%20100%25%3Bmargin%3A%200%3Bpadding%3A%200%3B%7D%3C/style%3E%0A%20%20%20%20%3Cstyle%3E%23map%20%7Bposition%3Aabsolute%3Btop%3A0%3Bbottom%3A0%3Bright%3A0%3Bleft%3A0%3B%7D%3C/style%3E%0A%20%20%20%20%0A%20%20%20%20%3Cmeta%20name%3D%22viewport%22%20content%3D%22width%3Ddevice-width%2C%0A%20%20%20%20%20%20%20%20initial-scale%3D1.0%2C%20maximum-scale%3D1.0%2C%20user-scalable%3Dno%22%20/%3E%0A%20%20%20%20%3Cstyle%3E%23map_411a6bd7cf764ac4b2c55be02d544be9%20%7B%0A%20%20%20%20%20%20%20%20position%3A%20relative%3B%0A%20%20%20%20%20%20%20%20width%3A%20100.0%25%3B%0A%20%20%20%20%20%20%20%20height%3A%20100.0%25%3B%0A%20%20%20%20%20%20%20%20left%3A%200.0%25%3B%0A%20%20%20%20%20%20%20%20top%3A%200.0%25%3B%0A%20%20%20%20%20%20%20%20%7D%0A%20%20%20%20%3C/style%3E%0A%20%20%20%20%3Cscript%20src%3D%22https%3A//cdnjs.cloudflare.com/ajax/libs/leaflet-minimap/3.6.1/Control.MiniMap.js%22%3E%3C/script%3E%0A%20%20%20%20%3Clink%20rel%3D%22stylesheet%22%20href%3D%22https%3A//cdnjs.cloudflare.com/ajax/libs/leaflet-minimap/3.6.1/Control.MiniMap.css%22/%3E%0A%3C/head%3E%0A%3Cbody%3E%20%20%20%20%0A%20%20%20%20%0A%20%20%20%20%3Cdiv%20class%3D%22folium-map%22%20id%3D%22map_411a6bd7cf764ac4b2c55be02d544be9%22%20%3E%3C/div%3E%0A%3C/body%3E%0A%3Cscript%3E%20%20%20%20%0A%20%20%20%20%0A%20%20%20%20%0A%20%20%20%20%20%20%20%20var%20bounds%20%3D%20null%3B%0A%20%20%20%20%0A%0A%20%20%20%20var%20map_411a6bd7cf764ac4b2c55be02d544be9%20%3D%20L.map%28%0A%20%20%20%20%20%20%20%20%27map_411a6bd7cf764ac4b2c55be02d544be9%27%2C%20%7B%0A%20%20%20%20%20%20%20%20center%3A%20%5B-13.4589%2C%20-76.0908%5D%2C%0A%20%20%20%20%20%20%20%20zoom%3A%2012%2C%0A%20%20%20%20%20%20%20%20maxBounds%3A%20bounds%2C%0A%20%20%20%20%20%20%20%20layers%3A%20%5B%5D%2C%0A%20%20%20%20%20%20%20%20worldCopyJump%3A%20false%2C%0A%20%20%20%20%20%20%20%20crs%3A%20L.CRS.EPSG3857%2C%0A%20%20%20%20%20%20%20%20zoomControl%3A%20true%2C%0A%20%20%20%20%20%20%20%20%7D%29%3B%0AL.control.scale%28%29.addTo%28map_411a6bd7cf764ac4b2c55be02d544be9%29%3B%0A%0A%20%20%20%20%0A%20%20%20%20var%20tile_layer_53d94a59f9bf40c784ffe82afffd3aa1%20%3D%20L.tileLayer%28%0A%20%20%20%20%20%20%20%20%27https%3A//%7Bs%7D.tile.openstreetmap.org/%7Bz%7D/%7Bx%7D/%7By%7D.png%27%2C%0A%20%20%20%20%20%20%20%20%7B%0A%20%20%20%20%20%20%20%20%22attribution%22%3A%20null%2C%0A%20%20%20%20%20%20%20%20%22detectRetina%22%3A%20false%2C%0A%20%20%20%20%20%20%20%20%22maxNativeZoom%22%3A%2018%2C%0A%20%20%20%20%20%20%20%20%22maxZoom%22%3A%2018%2C%0A%20%20%20%20%20%20%20%20%22minZoom%22%3A%200%2C%0A%20%20%20%20%20%20%20%20%22noWrap%22%3A%20false%2C%0A%20%20%20%20%20%20%20%20%22opacity%22%3A%201%2C%0A%20%20%20%20%20%20%20%20%22subdomains%22%3A%20%22abc%22%2C%0A%20%20%20%20%20%20%20%20%22tms%22%3A%20false%0A%7D%29.addTo%28map_411a6bd7cf764ac4b2c55be02d544be9%29%3B%0A%20%20%20%20var%20tile_layer_e02c18d46d59482e85521a624a6b091c%20%3D%20L.tileLayer%28%0A%20%20%20%20%20%20%20%20%27https%3A//earthengine.googleapis.com/v1alpha/projects/earthengine-legacy/maps/259b118a0dca4638adf4b9751ef12050-913c569f1d0c0b9078a6e2e8ff42a6bb/tiles/%7Bz%7D/%7Bx%7D/%7By%7D%27%2C%0A%20%20%20%20%20%20%20%20%7B%0A%20%20%20%20%20%20%20%20%22attribution%22%3A%20%22Google%20Earth%20Engine%22%2C%0A%20%20%20%20%20%20%20%20%22detectRetina%22%3A%20false%2C%0A%20%20%20%20%20%20%20%20%22maxNativeZoom%22%3A%2018%2C%0A%20%20%20%20%20%20%20%20%22maxZoom%22%3A%2018%2C%0A%20%20%20%20%20%20%20%20%22minZoom%22%3A%200%2C%0A%20%20%20%20%20%20%20%20%22noWrap%22%3A%20false%2C%0A%20%20%20%20%20%20%20%20%22opacity%22%3A%201%2C%0A%20%20%20%20%20%20%20%20%22subdomains%22%3A%20%22abc%22%2C%0A%20%20%20%20%20%20%20%20%22tms%22%3A%20false%0A%7D%29.addTo%28map_411a6bd7cf764ac4b2c55be02d544be9%29%3B%0A%20%20%20%20%0A%20%20%20%20%20%20%20%20var%20geo_json_a76737b345dd43c5b6d4f374742909f1%20%3D%20L.geoJson%28%0A%20%20%20%20%20%20%20%20%20%20%20%20%7B%22columns%22%3A%20%7B%22Area_km2%22%3A%20%22Float%22%2C%20%22Id%22%3A%20%22Integer%22%2C%20%22Perimtr_km%22%3A%20%22Float%22%2C%20%22system%3Aindex%22%3A%20%22String%22%7D%2C%20%22features%22%3A%20%5B%7B%22geometry%22%3A%20%7B%22coordinates%22%3A%20%5B%5B%5B-76.21400100068792%2C%20-13.379082365478837%5D%2C%20%5B-76.19690924627443%2C%20-13.420788328107367%5D%2C%20%5B-76.19032313566917%2C%20-13.453112374789164%5D%2C%20%5B-76.19302981713273%2C%20-13.46658776926764%5D%2C%20%5B-76.19426498894764%2C%20-13.4796440219646%5D%2C%20%5B-76.19134873784438%2C%20-13.51180301675605%5D%2C%20%5B-76.19124172961685%2C%20-13.519985518078322%5D%2C%20%5B-76.19131300948693%2C%20-13.534339336791442%5D%2C%20%5B-76.19034542183866%2C%20-13.546111309863274%5D%2C%20%5B-76.19222717490919%2C%20-13.57121607868102%5D%2C%20%5B-76.19335976926851%2C%20-13.593475893533407%5D%2C%20%5B-76.1641036567425%2C%20-13.59404218559391%5D%2C%20%5B-76.16298886243861%2C%20-13.591059122430352%5D%2C%20%5B-76.15473504848498%2C%20-13.590381300459178%5D%2C%20%5B-76.14817572695577%2C%20-13.586640139664455%5D%2C%20%5B-76.14425173055545%2C%20-13.584209944112068%5D%2C%20%5B-76.14014935419998%2C%20-13.583451877218959%5D%2C%20%5B-76.13397348358332%2C%20-13.582760733873311%5D%2C%20%5B-76.13174392248185%2C%20-13.57715113914108%5D%2C%20%5B-76.1282479503149%2C%20-13.574832413547302%5D%2C%20%5B-76.12029295909937%2C%20-13.572776771199262%5D%2C%20%5B-76.1161281871084%2C%20-13.571479146461087%5D%2C%20%5B-76.11159774285684%2C%20-13.5697668543442%5D%2C%20%5B-76.10578304411895%2C%20-13.567519456427966%5D%2C%20%5B-76.10301843138927%2C%20-13.564661230467713%5D%2C%20%5B-76.10044553300098%2C%20-13.56383183986704%5D%2C%20%5B-76.09825161971622%2C%20-13.56551732445099%5D%2C%20%5B-76.09574562524533%2C%20-13.565347947635557%5D%2C%20%5B-76.09071128475304%2C%20-13.560108487367737%5D%2C%20%5B-76.08892760500079%2C%20-13.558561143026884%5D%2C%20%5B-76.08544062725132%2C%20-13.557740646622603%5D%2C%20%5B-76.08239061064528%2C%20-13.55931026128806%5D%2C%20%5B-76.07855128671218%2C%20-13.561236588444428%5D%2C%20%5B-76.07457820181025%2C%20-13.561914370050244%5D%2C%20%5B-76.07158618624956%2C%20-13.562525274746339%5D%2C%20%5B-76.0704803729242%2C%20-13.560554371174643%5D%2C%20%5B-76.06954839543062%2C%20-13.557210072875886%5D%2C%20%5B-76.066779245802%2C%20-13.553335118943796%5D%2C%20%5B-76.06553964291385%2C%20-13.54957159379624%5D%2C%20%5B-76.06265462840668%2C%20-13.546534970325915%5D%2C%20%5B-76.06026005228506%2C%20-13.544274240895064%5D%2C%20%5B-76.05926568591107%2C%20-13.541286611593844%5D%2C%20%5B-76.05925674516774%2C%20-13.539195285249933%5D%2C%20%5B-76.05814649508143%2C%20-13.536029287259245%5D%2C%20%5B-76.05616657703598%2C%20-13.531253615670643%5D%2C%20%5B-76.05328154310497%2C%20-13.527797838797383%5D%2C%20%5B-76.05308094291736%2C%20-13.52444905401908%5D%2C%20%5B-76.05135529119912%2C%20-13.521167155479853%5D%2C%20%5B-76.05176552606473%2C%20-13.517158411594698%5D%2C%20%5B-76.04978560482496%2C%20-13.511424026041821%5D%2C%20%5B-76.04884923779957%2C%20-13.507063009459303%5D%2C%20%5B-76.04853708453453%2C%20-13.505332840281847%5D%2C%20%5B-76.04498764150382%2C%20-13.503972866214843%5D%2C%20%5B-76.04240134998406%2C%20-13.500334180443035%5D%2C%20%5B-76.04068459508125%2C%20-13.498126976904052%5D%2C%20%5B-76.03608729457149%2C%20-13.495397993833596%5D%2C%20%5B-76.03314429026688%2C%20-13.49361438464367%5D%2C%20%5B-76.03270726117594%2C%20-13.490863076231049%5D%2C%20%5B-76.02840870183408%2C%20-13.485739547089075%5D%2C%20%5B-76.02698183993132%2C%20-13.481200185068476%5D%2C%20%5B-76.02690595862221%2C%20-13.478150227582477%5D%2C%20%5B-76.02359290642518%2C%20-13.478569323155192%5D%2C%20%5B-76.01956183218219%2C%20-13.478226013461457%5D%2C%20%5B-76.01466133995814%2C%20-13.476210508535582%5D%2C%20%5B-76.01086662011507%2C%20-13.47455168380951%5D%2C%20%5B-76.0027020370278%2C%20-13.468152848452686%5D%2C%20%5B-75.99376150787204%2C%20-13.469334549952144%5D%2C%20%5B-75.99164790827008%2C%20-13.472429203151393%5D%2C%20%5B-75.98798248811542%2C%20-13.473160422191894%5D%2C%20%5B-75.98696581420268%2C%20-13.475389989197614%5D%2C%20%5B-75.9863236912098%2C%20-13.479768884401281%5D%2C%20%5B-75.98231048819302%2C%20-13.484736244481958%5D%2C%20%5B-75.97791382060716%2C%20-13.485400728996593%5D%2C%20%5B-75.97650477436342%2C%20-13.481744208668008%5D%2C%20%5B-75.97882347514725%2C%20-13.475064505144%5D%2C%20%5B-75.98129828999734%2C%20-13.469887433885805%5D%2C%20%5B-75.98612751097306%2C%20-13.468072613980896%5D%2C%20%5B-75.98662695076933%2C%20-13.463979136775455%5D%2C%20%5B-75.98786655276906%2C%20-13.462828757267998%5D%2C%20%5B-75.9925619897979%2C%20-13.462882229149107%5D%2C%20%5B-75.99211163645884%2C%20-13.46065717322885%5D%2C%20%5B-75.9865333336219%2C%20-13.459100923025732%5D%2C%20%5B-75.98190474179559%2C%20-13.456679624035747%5D%2C%20%5B-75.9802058375162%2C%20-13.454316257919945%5D%2C%20%5B-75.97609458227255%2C%20-13.45218039740223%5D%2C%20%5B-75.97218835219086%2C%20-13.447600894974997%5D%2C%20%5B-75.96768914291765%2C%20-13.441233334574113%5D%2C%20%5B-75.97512246382304%2C%20-13.43573072397478%5D%2C%20%5B-75.97895730989494%2C%20-13.441170908048036%5D%2C%20%5B-75.98493244407692%2C%20-13.444207541976155%5D%2C%20%5B-75.98884752748351%2C%20-13.445915358158942%5D%2C%20%5B-75.99237919168644%2C%20-13.448390128041538%5D%2C%20%5B-75.99746255453594%2C%20-13.448657716014703%5D%2C%20%5B-76.00148019071203%2C%20-13.450552841806152%5D%2C%20%5B-76.00504305990263%2C%20-13.449478180230592%5D%2C%20%5B-76.00925237378084%2C%20-13.448167211732422%5D%2C%20%5B-76.01303376650465%2C%20-13.449183835172564%5D%2C%20%5B-76.01660103187206%2C%20-13.44858185131698%5D%2C%20%5B-76.02031094349495%2C%20-13.449928537633957%5D%2C%20%5B-76.0204403108891%2C%20-13.446450445402519%5D%2C%20%5B-76.01797885632462%2C%20-13.44212952771693%5D%2C%20%5B-76.02063201525831%2C%20-13.439257901285119%5D%2C%20%5B-76.01376059818804%2C%20-13.43716211781141%5D%2C%20%5B-76.00571635680126%2C%20-13.435240294549187%5D%2C%20%5B-76.00880650232897%2C%20-13.430638499858192%5D%2C%20%5B-76.0154862768492%2C%20-13.429746663121348%5D%2C%20%5B-76.02064990174942%2C%20-13.430415496308028%5D%2C%20%5B-76.02312910643195%2C%20-13.43379547559527%5D%2C%20%5B-76.02671426294756%2C%20-13.435846674750932%5D%2C%20%5B-76.02866733281208%2C%20-13.439855416288891%5D%2C%20%5B-76.03506619251095%2C%20-13.44092119793986%5D%2C%20%5B-76.03935577971993%2C%20-13.442339173716052%5D%2C%20%5B-76.04346268001238%2C%20-13.442664635976648%5D%2C%20%5B-76.04552272414082%2C%20-13.444381386990893%5D%2C%20%5B-76.04945565945042%2C%20-13.444996749569983%5D%2C%20%5B-76.0540931475901%2C%20-13.446642187054902%5D%2C%20%5B-76.05727250543849%2C%20-13.448809294409221%5D%2C%20%5B-76.06043842313052%2C%20-13.449027808615773%5D%2C%20%5B-76.06242722026612%2C%20-13.447583012323216%5D%2C%20%5B-76.06241827972819%2C%20-13.445054710211386%5D%2C%20%5B-76.06428666248685%2C%20-13.443097185340077%5D%2C%20%5B-76.06692193573427%2C%20-13.44297231709275%5D%2C%20%5B-76.06873679358416%2C%20-13.441643552297153%5D%2C%20%5B-76.07294177573077%2C%20-13.438120859570772%5D%2C%20%5B-76.07568858475558%2C%20-13.435414171077442%5D%2C%20%5B-76.07309782477466%2C%20-13.43295272622332%5D%2C%20%5B-76.07085939359027%2C%20-13.430897117769586%5D%2C%20%5B-76.07114025059306%2C%20-13.42860063862487%5D%2C%20%5B-76.08170388068505%2C%20-13.416899944923246%5D%2C%20%5B-76.08569923962558%2C%20-13.418719276811565%5D%2C%20%5B-76.0879422080093%2C%20-13.421006830527588%5D%2C%20%5B-76.08923975505826%2C%20-13.42341468924107%5D%2C%20%5B-76.0928159332795%2C%20-13.423222941170659%5D%2C%20%5B-76.09357845217953%2C%20-13.422933107447896%5D%2C%20%5B-76.09373899124923%2C%20-13.419892057182526%5D%2C%20%5B-76.09542012667688%2C%20-13.414603574211789%5D%2C%20%5B-76.09977216793072%2C%20-13.404708826500517%5D%2C%20%5B-76.09138018080043%2C%20-13.39631678550664%5D%2C%20%5B-76.09511684060976%2C%20-13.385655084151242%5D%2C%20%5B-76.10357576538814%2C%20-13.378324317991028%5D%2C%20%5B-76.11478151964388%2C%20-13.371635611363567%5D%2C%20%5B-76.12158161652219%2C%20-13.362396364507434%5D%2C%20%5B-76.13171720291724%2C%20-13.348715860242809%5D%2C%20%5B-76.13877594038823%2C%20-13.343061728652401%5D%2C%20%5B-76.15077983708495%2C%20-13.337568131319205%5D%2C%20%5B-76.16224866863475%2C%20-13.334821340636616%5D%2C%20%5B-76.17382894826706%2C%20-13.330223966948397%5D%2C%20%5B-76.18741582029423%2C%20-13.323762703663462%5D%2C%20%5B-76.1939662565119%2C%20-13.32672356814775%5D%2C%20%5B-76.20044978692843%2C%20-13.342120820522293%5D%2C%20%5B-76.20664340944472%2C%20-13.359315146827063%5D%2C%20%5B-76.21400100068792%2C%20-13.379082365478837%5D%5D%5D%2C%20%22type%22%3A%20%22Polygon%22%7D%2C%20%22id%22%3A%20%2200000000000000000000%22%2C%20%22properties%22%3A%20%7B%22Area_km2%22%3A%20386.85128113%2C%20%22Id%22%3A%200%2C%20%22Perimtr_km%22%3A%20111.975420623%2C%20%22highlight%22%3A%20%7B%7D%2C%20%22style%22%3A%20%7B%7D%7D%2C%20%22type%22%3A%20%22Feature%22%7D%5D%2C%20%22id%22%3A%20%22users/CesarVilca/area_total%22%2C%20%22properties%22%3A%20%7B%22system%3Aasset_size%22%3A%2010237%7D%2C%20%22type%22%3A%20%22FeatureCollection%22%2C%20%22version%22%3A%201598146816292394%7D%2C%0A%20%20%20%20%20%20%20%20%20%20%20%20%7B%0A%20%20%20%20%20%20%20%20%20%20%20%20%7D%0A%20%20%20%20%20%20%20%20%29.addTo%28map_411a6bd7cf764ac4b2c55be02d544be9%20%29%3B%0A%20%20%20%20%20%20%20%20geo_json_a76737b345dd43c5b6d4f374742909f1.setStyle%28function%28feature%29%20%7Breturn%20feature.properties.style%3B%7D%29%3B%0A%20%20%20%20%20%20%20%20%0A%20%20%20%20%0A%0A%20%20%20%20%20%20%20%20var%20tile_layer_b4faf9b7f048404aa5452f1e90f6ced5%20%3D%20L.tileLayer%28%0A%20%20%20%20%20%20%20%20%27https%3A//%7Bs%7D.tile.openstreetmap.org/%7Bz%7D/%7Bx%7D/%7By%7D.png%27%2C%0A%20%20%20%20%20%20%20%20%7B%0A%20%20%20%20%20%20%20%20%22attribution%22%3A%20null%2C%0A%20%20%20%20%20%20%20%20%22detectRetina%22%3A%20false%2C%0A%20%20%20%20%20%20%20%20%22maxNativeZoom%22%3A%2018%2C%0A%20%20%20%20%20%20%20%20%22maxZoom%22%3A%2018%2C%0A%20%20%20%20%20%20%20%20%22minZoom%22%3A%200%2C%0A%20%20%20%20%20%20%20%20%22noWrap%22%3A%20false%2C%0A%20%20%20%20%20%20%20%20%22opacity%22%3A%201%2C%0A%20%20%20%20%20%20%20%20%22subdomains%22%3A%20%22abc%22%2C%0A%20%20%20%20%20%20%20%20%22tms%22%3A%20false%0A%7D%20%29%3B%0A%0A%20%20%20%20%20%20%20%20var%20mini_map_42566102175a4d12804a30380f691609%20%3D%20new%20L.Control.MiniMap%28%20tile_layer_b4faf9b7f048404aa5452f1e90f6ced5%2C%0A%20%20%20%20%20%20%20%20%20%7B%0A%20%20%22autoToggleDisplay%22%3A%20false%2C%0A%20%20%22centerFixed%22%3A%20false%2C%0A%20%20%22collapsedHeight%22%3A%2025%2C%0A%20%20%22collapsedWidth%22%3A%2025%2C%0A%20%20%22height%22%3A%20150%2C%0A%20%20%22minimized%22%3A%20false%2C%0A%20%20%22position%22%3A%20%22bottomright%22%2C%0A%20%20%22toggleDisplay%22%3A%20false%2C%0A%20%20%22width%22%3A%20150%2C%0A%20%20%22zoomAnimation%22%3A%20false%2C%0A%20%20%22zoomLevelFixed%22%3A%207%2C%0A%20%20%22zoomLevelOffset%22%3A%20-5%0A%7D%29%3B%0A%20%20%20%20%20%20%20%20map_411a6bd7cf764ac4b2c55be02d544be9.addControl%28mini_map_42566102175a4d12804a30380f691609%29%3B%0A%0A%20%20%20%20%20%20%20%20%0A%20%20%20%20%0A%20%20%20%20%20%20%20%20%20%20%20%20var%20layer_control_95cbbfec81bb47388f37148f0914f41c%20%3D%20%7B%0A%20%20%20%20%20%20%20%20%20%20%20%20%20%20%20%20base_layers%20%3A%20%7B%20%22openstreetmap%22%20%3A%20tile_layer_53d94a59f9bf40c784ffe82afffd3aa1%2C%20%7D%2C%0A%20%20%20%20%20%20%20%20%20%20%20%20%20%20%20%20overlays%20%3A%20%7B%20%22Natural%20Color%22%20%3A%20tile_layer_e02c18d46d59482e85521a624a6b091c%2C%22Region%20of%20interest%20%28ROI%29%22%20%3A%20geo_json_a76737b345dd43c5b6d4f374742909f1%2C%20%7D%0A%20%20%20%20%20%20%20%20%20%20%20%20%20%20%20%20%7D%3B%0A%20%20%20%20%20%20%20%20%20%20%20%20L.control.layers%28%0A%20%20%20%20%20%20%20%20%20%20%20%20%20%20%20%20layer_control_95cbbfec81bb47388f37148f0914f41c.base_layers%2C%0A%20%20%20%20%20%20%20%20%20%20%20%20%20%20%20%20layer_control_95cbbfec81bb47388f37148f0914f41c.overlays%2C%0A%20%20%20%20%20%20%20%20%20%20%20%20%20%20%20%20%7Bposition%3A%20%27topright%27%2C%0A%20%20%20%20%20%20%20%20%20%20%20%20%20%20%20%20%20collapsed%3A%20true%2C%0A%20%20%20%20%20%20%20%20%20%20%20%20%20%20%20%20%20autoZIndex%3A%20true%0A%20%20%20%20%20%20%20%20%20%20%20%20%20%20%20%20%7D%29.addTo%28map_411a6bd7cf764ac4b2c55be02d544be9%29%3B%0A%20%20%20%20%20%20%20%20%20%20%20%20%0A%20%20%20%20%20%20%20%20%0A%3C/script%3E onload=\"this.contentDocument.open();this.contentDocument.write(    decodeURIComponent(this.getAttribute('data-html')));this.contentDocument.close();\" allowfullscreen webkitallowfullscreen mozallowfullscreen></iframe></div></div>"
            ],
            "text/plain": [
              "<folium.folium.Map at 0x7f221288a990>"
            ]
          },
          "metadata": {
            "tags": []
          },
          "execution_count": 6
        }
      ]
    },
    {
      "cell_type": "markdown",
      "metadata": {
        "id": "XDyz5Yijb23N"
      },
      "source": [
        "#### **4. Visualización de propiedades**"
      ]
    },
    {
      "cell_type": "code",
      "metadata": {
        "id": "-Gtqg57PqxFu"
      },
      "source": [
        "# @markdown ee.ImageCollection de prueba\n",
        "Start_date = '2018-12-11'\n",
        "End_date   = '2020-01-31'\n",
        "range_date = [Start_date, End_date]\n",
        "\n",
        "img_col = ee.ImageCollection('COPERNICUS/S2_SR')\\\n",
        "            .filterDate(Start_date, End_date)\\\n",
        "            .filterBounds(ee.Geometry.Point(-74.904844,-12.401923))\\\n",
        "            .sort('CLOUDY_PIXEL_PERCENTAGE')"
      ],
      "execution_count": null,
      "outputs": []
    },
    {
      "cell_type": "code",
      "metadata": {
        "id": "jTpVCQflcM7-"
      },
      "source": [
        "# Leer diccionarios con .keys()\n",
        "img_col.getInfo().keys() # Output: dict_keys(['type', 'bands', 'id', 'version', 'properties', 'features'])\n",
        "\n",
        "# Leer values de un key (diccionario -> key:value)\n",
        "img_col.getInfo()['properties'] # Probar con la primera imagen: .first()\n",
        "\n",
        "# Cantidad de imagenes en ee.ImageCollection\n",
        "img_col.size().getInfo() # Output: 82"
      ],
      "execution_count": null,
      "outputs": []
    },
    {
      "cell_type": "code",
      "metadata": {
        "id": "NGUhC9a2sHF-"
      },
      "source": [
        "# Ver bandas de una imagen\n",
        "img_col.first().bandNames().getInfo()   # Output: ['B4', 'B3', 'B2']\n",
        "\n",
        "# Ver ID:\n",
        "img_col.first().get('system:index').getInfo()       # Output: 20190730T151711_20190730T151807_T18LWM\n",
        "\n",
        "# Visualizar propiedades de una imagen\n",
        "img_prueba1 = ee.Image('COPERNICUS/S2_SR/20190730T151711_20190730T151807_T18LWM')\n",
        "img_prueba1.getInfo()['properties']"
      ],
      "execution_count": null,
      "outputs": []
    },
    {
      "cell_type": "markdown",
      "metadata": {
        "id": "6SAoBSMkHfJH"
      },
      "source": [
        "\n",
        "> Propiedades de ImageCollection: `ee.ImageCollection.aggregate_stats('propiedad')`\n",
        "\n",
        "- [Sentinel-2 MSI: MultiSpectral Instrument, Level-2A](https://developers.google.com/earth-engine/datasets/catalog/COPERNICUS_S2_SR#image-properties)\n",
        "- Ojo: Las propiedades de tipo DOUBLE si abren, los de tipo STRING no\n"
      ]
    },
    {
      "cell_type": "code",
      "metadata": {
        "colab": {
          "base_uri": "https://localhost:8080/"
        },
        "id": "FysKlLHFto5-",
        "outputId": "01b20ef1-4e16-4b37-90c4-8e089710ee43"
      },
      "source": [
        "# Listar propiedades\n",
        "for i, key in enumerate(img_col.first().getInfo()['properties'].keys(), 1):\n",
        "  print(i, key) # 59: CLOUDY_PIXEL_PERCENTAGE"
      ],
      "execution_count": null,
      "outputs": [
        {
          "output_type": "stream",
          "text": [
            "1 DATATAKE_IDENTIFIER\n",
            "2 AOT_RETRIEVAL_ACCURACY\n",
            "3 SPACECRAFT_NAME\n",
            "4 SATURATED_DEFECTIVE_PIXEL_PERCENTAGE\n",
            "5 MEAN_INCIDENCE_AZIMUTH_ANGLE_B8A\n",
            "6 CLOUD_SHADOW_PERCENTAGE\n",
            "7 MEAN_SOLAR_AZIMUTH_ANGLE\n",
            "8 system:footprint\n",
            "9 VEGETATION_PERCENTAGE\n",
            "10 SOLAR_IRRADIANCE_B12\n",
            "11 SOLAR_IRRADIANCE_B10\n",
            "12 SENSOR_QUALITY\n",
            "13 SOLAR_IRRADIANCE_B11\n",
            "14 GENERATION_TIME\n",
            "15 SOLAR_IRRADIANCE_B8A\n",
            "16 FORMAT_CORRECTNESS\n",
            "17 CLOUD_COVERAGE_ASSESSMENT\n",
            "18 THIN_CIRRUS_PERCENTAGE\n",
            "19 system:time_end\n",
            "20 WATER_VAPOUR_RETRIEVAL_ACCURACY\n",
            "21 system:time_start\n",
            "22 DATASTRIP_ID\n",
            "23 PROCESSING_BASELINE\n",
            "24 SENSING_ORBIT_NUMBER\n",
            "25 NODATA_PIXEL_PERCENTAGE\n",
            "26 SENSING_ORBIT_DIRECTION\n",
            "27 GENERAL_QUALITY\n",
            "28 GRANULE_ID\n",
            "29 REFLECTANCE_CONVERSION_CORRECTION\n",
            "30 MEDIUM_PROBA_CLOUDS_PERCENTAGE\n",
            "31 MEAN_INCIDENCE_AZIMUTH_ANGLE_B8\n",
            "32 DATATAKE_TYPE\n",
            "33 MEAN_INCIDENCE_AZIMUTH_ANGLE_B9\n",
            "34 MEAN_INCIDENCE_AZIMUTH_ANGLE_B6\n",
            "35 MEAN_INCIDENCE_AZIMUTH_ANGLE_B7\n",
            "36 MEAN_INCIDENCE_AZIMUTH_ANGLE_B4\n",
            "37 MEAN_INCIDENCE_ZENITH_ANGLE_B1\n",
            "38 NOT_VEGETATED_PERCENTAGE\n",
            "39 MEAN_INCIDENCE_AZIMUTH_ANGLE_B5\n",
            "40 RADIOMETRIC_QUALITY\n",
            "41 MEAN_INCIDENCE_AZIMUTH_ANGLE_B2\n",
            "42 MEAN_INCIDENCE_AZIMUTH_ANGLE_B3\n",
            "43 MEAN_INCIDENCE_ZENITH_ANGLE_B5\n",
            "44 MEAN_INCIDENCE_AZIMUTH_ANGLE_B1\n",
            "45 MEAN_INCIDENCE_ZENITH_ANGLE_B4\n",
            "46 MEAN_INCIDENCE_ZENITH_ANGLE_B3\n",
            "47 MEAN_INCIDENCE_ZENITH_ANGLE_B2\n",
            "48 MEAN_INCIDENCE_ZENITH_ANGLE_B9\n",
            "49 MEAN_INCIDENCE_ZENITH_ANGLE_B8\n",
            "50 MEAN_INCIDENCE_ZENITH_ANGLE_B7\n",
            "51 DARK_FEATURES_PERCENTAGE\n",
            "52 HIGH_PROBA_CLOUDS_PERCENTAGE\n",
            "53 MEAN_INCIDENCE_ZENITH_ANGLE_B6\n",
            "54 UNCLASSIFIED_PERCENTAGE\n",
            "55 MEAN_SOLAR_ZENITH_ANGLE\n",
            "56 MEAN_INCIDENCE_ZENITH_ANGLE_B8A\n",
            "57 RADIATIVE_TRANSFER_ACCURACY\n",
            "58 MGRS_TILE\n",
            "59 CLOUDY_PIXEL_PERCENTAGE\n",
            "60 PRODUCT_ID\n",
            "61 MEAN_INCIDENCE_ZENITH_ANGLE_B10\n",
            "62 SOLAR_IRRADIANCE_B9\n",
            "63 SNOW_ICE_PERCENTAGE\n",
            "64 DEGRADED_MSI_DATA_PERCENTAGE\n",
            "65 MEAN_INCIDENCE_ZENITH_ANGLE_B11\n",
            "66 MEAN_INCIDENCE_ZENITH_ANGLE_B12\n",
            "67 SOLAR_IRRADIANCE_B6\n",
            "68 MEAN_INCIDENCE_AZIMUTH_ANGLE_B10\n",
            "69 SOLAR_IRRADIANCE_B5\n",
            "70 MEAN_INCIDENCE_AZIMUTH_ANGLE_B11\n",
            "71 SOLAR_IRRADIANCE_B8\n",
            "72 MEAN_INCIDENCE_AZIMUTH_ANGLE_B12\n",
            "73 SOLAR_IRRADIANCE_B7\n",
            "74 SOLAR_IRRADIANCE_B2\n",
            "75 SOLAR_IRRADIANCE_B1\n",
            "76 SOLAR_IRRADIANCE_B4\n",
            "77 GEOMETRIC_QUALITY\n",
            "78 SOLAR_IRRADIANCE_B3\n",
            "79 system:asset_size\n",
            "80 WATER_PERCENTAGE\n",
            "81 system:index\n"
          ],
          "name": "stdout"
        }
      ]
    },
    {
      "cell_type": "code",
      "metadata": {
        "id": "B67hpew9743i"
      },
      "source": [
        "# Estadísticas de un ee.ImageCollection\n",
        "img_col.aggregate_stats('CLOUDY_PIXEL_PERCENTAGE').getInfo() # Notese la imagen con mínimo porcentaje de nubes\n",
        "\n",
        "# Ejemplo: Todos los porcentajes de nubosidad en cada imagen mediante un histograma\n",
        "img_col.aggregate_histogram('CLOUDY_PIXEL_PERCENTAGE').getInfo()"
      ],
      "execution_count": null,
      "outputs": []
    },
    {
      "cell_type": "code",
      "metadata": {
        "id": "sPR5l2CWtEEo"
      },
      "source": [
        "# Comparando propiedades: Con y sin clip (¿Cambian las propiedades o no?)\n",
        "img_prueba1 = ee.Image('COPERNICUS/S2_SR/20190730T151711_20190730T151807_T18LWM')\n",
        "img_prueba1.getInfo()['properties']\n",
        "\n",
        "img_prueba2 = ee.Image('COPERNICUS/S2_SR/20190730T151711_20190730T151807_T18LWM').clip(roi_clip)\n",
        "img_prueba2.getInfo()['properties'] # Ver en otra celda"
      ],
      "execution_count": null,
      "outputs": []
    },
    {
      "cell_type": "markdown",
      "metadata": {
        "id": "eNi2U577nYO2"
      },
      "source": [
        "*Evaluando el primer mes de 2019 (`s_19_01_imgc`)*"
      ]
    },
    {
      "cell_type": "code",
      "metadata": {
        "colab": {
          "base_uri": "https://localhost:8080/"
        },
        "id": "rrDXTZEdenqD",
        "outputId": "5f4b913a-1bfc-4719-8d44-6536ea84bbd0"
      },
      "source": [
        "# ImageCollection para el mes de enero 2019\n",
        "img_s2_enero = ee.ImageCollection('COPERNICUS/S2_SR')\\\n",
        "                 .filterDate('2019-01', '2019-02')\\\n",
        "                 .filterBounds(roi)\n",
        "\n",
        "# guardar diccionario de metadatos del image collection\n",
        "dic0 = img_s2_enero.getInfo() \n",
        "\n",
        "# Imprimir las keys del diccionario (metadatos del imagecollection)\n",
        "print(dic0.keys()) # dict_keys(['type', 'bands', 'id', 'version', 'properties', 'features']) \n",
        "\n",
        "# Histograma de la propiedad 'CLOUDY_PIXEL_PERCENTAGE'\n",
        "img_s2_enero.aggregate_histogram('CLOUDY_PIXEL_PERCENTAGE').getInfo() # No es en orden de fechas, sino numérico\n",
        "\n",
        "# Ver fechas\n",
        "ee_get_dates(img_s2_enero) # Función\n",
        "conv_fecha(img_s2_enero.first())"
      ],
      "execution_count": null,
      "outputs": [
        {
          "output_type": "execute_result",
          "data": {
            "text/plain": [
              "{'11.442228': 1,\n",
              " '37.127514': 1,\n",
              " '43.483208': 1,\n",
              " '48.092331': 1,\n",
              " '52.611271': 1,\n",
              " '58.199064': 1,\n",
              " '63.706253': 1}"
            ]
          },
          "metadata": {
            "tags": []
          },
          "execution_count": 48
        }
      ]
    },
    {
      "cell_type": "code",
      "metadata": {
        "colab": {
          "base_uri": "https://localhost:8080/"
        },
        "id": "NDaKOE5YpxfW",
        "outputId": "a677a468-8ac9-4d55-9d1f-7081667de6e4"
      },
      "source": [
        "for i in range(7): # [0,7> dependiendo de la cantidad de imagenes, si no esta en el rango -> IndexError: list index out of range\n",
        "  print(str(dic0['features'][i]['properties']['CLOUDY_PIXEL_PERCENTAGE'])+' %',\n",
        "        ':' ,\n",
        "        dt.utcfromtimestamp(dic0['features'][i]['properties']['GENERATION_TIME']/1000).strftime('%Y-%m-%d %H:%M:%S')) # system:time_start vs GENERATION_TIME"
      ],
      "execution_count": null,
      "outputs": [
        {
          "output_type": "stream",
          "text": [
            "48.092331 % : 2019-01-01 18:56:59\n",
            "58.199064 % : 2019-01-06 20:46:37\n",
            "43.483208 % : 2019-01-11 18:58:38\n",
            "37.127514 % : 2019-01-16 19:19:16\n",
            "63.706253 % : 2019-01-21 18:58:40\n",
            "11.442228 % : 2019-01-26 19:18:31\n",
            "52.611271 % : 2019-01-31 19:00:34\n"
          ],
          "name": "stdout"
        }
      ]
    },
    {
      "cell_type": "code",
      "metadata": {
        "id": "KtDDuF0kiGwq"
      },
      "source": [
        "# .sort para odernar ascendente o descendente según la propiedad \n",
        "#dic1 = s_19_01_imgc.sort('CLOUDY_PIXEL_PERCENTAGE', True).getInfo() # getInfo() retorna diccionarios\n",
        "\n",
        "# No hacer\n",
        "#print(dic0.items())"
      ],
      "execution_count": null,
      "outputs": []
    },
    {
      "cell_type": "code",
      "metadata": {
        "colab": {
          "base_uri": "https://localhost:8080/",
          "height": 34
        },
        "id": "fHAQIpR-jxAQ",
        "outputId": "8f0a5f1f-4d1d-48f0-fdbf-96d9e8a2de6c"
      },
      "source": [
        "dic0['features'][0].keys()"
      ],
      "execution_count": null,
      "outputs": [
        {
          "output_type": "execute_result",
          "data": {
            "text/plain": [
              "dict_keys(['type', 'bands', 'id', 'version', 'properties'])"
            ]
          },
          "metadata": {
            "tags": []
          },
          "execution_count": 82
        }
      ]
    },
    {
      "cell_type": "code",
      "metadata": {
        "colab": {
          "base_uri": "https://localhost:8080/",
          "height": 247
        },
        "id": "yz65qHZ-gNXa",
        "outputId": "c8e5f1ac-a2dd-48a2-b845-b098eed645d2"
      },
      "source": [
        "img_s2_enero.aggregate_stats('CLOUDY_PIXEL_PERCENTAGE').getInfo()"
      ],
      "execution_count": null,
      "outputs": [
        {
          "output_type": "execute_result",
          "data": {
            "text/plain": [
              "{'max': 63.706253,\n",
              " 'mean': 44.951695571428566,\n",
              " 'min': 11.442228,\n",
              " 'sample_sd': 17.233772904754087,\n",
              " 'sample_var': 297.0029285326361,\n",
              " 'sum': 314.66186899999997,\n",
              " 'sum_sq': 15926.60211442055,\n",
              " 'total_count': 7,\n",
              " 'total_sd': 15.955373350136922,\n",
              " 'total_var': 254.5739387422595,\n",
              " 'valid_count': 7,\n",
              " 'weight_sum': 7,\n",
              " 'weighted_sum': 314.66186899999997}"
            ]
          },
          "metadata": {
            "tags": []
          },
          "execution_count": 25
        }
      ]
    },
    {
      "cell_type": "code",
      "metadata": {
        "id": "UgiI4yPmSg76"
      },
      "source": [
        "img_s2_enero.propertyNames().getInfo()"
      ],
      "execution_count": null,
      "outputs": []
    },
    {
      "cell_type": "code",
      "metadata": {
        "id": "3IX5TYTqbYcq"
      },
      "source": [
        "# Obtener la mejor imágen (respecto al porcentaje de nubes)\n",
        "image = ee.Image(img_s2_enero.sort('CLOUDY_PIXEL_PERCENTAGE').first()) # no es necesario colocar ,opt_ascending=True\n",
        "print('Least cloudy image:')\n",
        "image.getInfo()"
      ],
      "execution_count": null,
      "outputs": []
    },
    {
      "cell_type": "code",
      "metadata": {
        "id": "uYCZVzFhfTVZ"
      },
      "source": [
        "# Para visualizar el porcentaje de nubes como lista\n",
        "img_col.aggregate_array('CLOUD_COVER').getInfo() # 1.65\n",
        "\n",
        "img_col.aggregate_array('CLOUD_COVER_LAND').getInfo() # 3.8%"
      ],
      "execution_count": null,
      "outputs": []
    },
    {
      "cell_type": "markdown",
      "metadata": {
        "id": "Pqswn4v1yD9n"
      },
      "source": [
        "#### ***5. Visualización de mejor imagen***\n"
      ]
    },
    {
      "cell_type": "markdown",
      "metadata": {
        "id": "zSivwT_J76Mk"
      },
      "source": [
        "##### Sentinel-2"
      ]
    },
    {
      "cell_type": "code",
      "metadata": {
        "id": "tMs_CTvElZlv",
        "colab": {
          "base_uri": "https://localhost:8080/",
          "height": 996
        },
        "cellView": "form",
        "outputId": "9866c364-bc85-42f6-dcde-b5bb2238a067"
      },
      "source": [
        "# @title Visualización rápida Sentinel-2\n",
        "# @markdown Primera imagen registrada: `2018-12-17`\n",
        "\n",
        "#@markdown 1. Seleccionamos las fechas de interés:\n",
        "Start_date = '2012-12-17'  #@param {type: \"date\"}\n",
        "End_date   = '2021-02-11'  #@param {type: \"date\"}\n",
        "range_date = [Start_date, End_date]\n",
        "\n",
        "img_s2 = ee.ImageCollection('COPERNICUS/S2_SR')\\\n",
        "        .filterDate(Start_date, End_date)\\\n",
        "        .filterBounds(ee.Geometry.Point(-76.13, -13.48))\\\n",
        "        .sort('CLOUDY_PIXEL_PERCENTAGE')\n",
        "# [-74.904844,-12.401923]\n",
        "# Chincha: -76.13, -13.48\n",
        "# Lima   : -76.94,-12.06\n",
        "#img_s2.getInfo().keys() # dict_keys(['type', 'bands', 'id', 'version', 'properties'])\n",
        "#img_s2.bandNames().getInfo()\n",
        "\n",
        "bands = ['B4','B3','B2']\n",
        "# img_s2_rgb_proyecto = img_s2.first().select(bands).clip(limite)\n",
        "img_s2_rgb = img_s2.first().multiply(0.0001) # .clip(roi_clip)\n",
        "# Fecha de toma\n",
        "ver_rangos(img_s2, range_date=range_date)\n",
        "# ID\n",
        "print()\n",
        "print('Mejor imagen:')\n",
        "print('% nubosidad: ', img_s2.first().getInfo()['properties']['CLOUDY_PIXEL_PERCENTAGE'])\n",
        "print('Image ID:', img_s2.first().getInfo().get('id'))\n",
        "print('Fecha:'   , conv_fecha(img_s2.first()))\n",
        "\n",
        "# Visualizacion: Mapdisplay\n",
        "dict_img_s2 = {'img_s2': img_s2_rgb.getMapId({'min':0.0, 'max':0.3, 'bands': bands})}\n",
        "mapdisplay(centroide, dict_img_s2, zoom_start=12)"
      ],
      "execution_count": null,
      "outputs": [
        {
          "output_type": "stream",
          "text": [
            "Total imágenes: 156\n",
            "Rango Temporal Ingresado : 2012-12-17 - 2021-02-11\n",
            "Rango Temporal Real      : 2018-12-17 - 2021-02-09\n",
            "\n",
            "Mejor imagen:\n",
            "% nubosidad:  0.200305\n",
            "Image ID: COPERNICUS/S2_SR/20190501T151711_20190501T151806_T18LUL\n",
            "Fecha: 2019-05-01 15:26:50\n"
          ],
          "name": "stdout"
        },
        {
          "output_type": "execute_result",
          "data": {
            "text/html": [
              "<div style=\"width:100%;\"><div style=\"position:relative;width:100%;height:0;padding-bottom:60%;\"><span style=\"color:#565656\">Make this Notebook Trusted to load map: File -> Trust Notebook</span><iframe src=\"about:blank\" style=\"position:absolute;width:100%;height:100%;left:0;top:0;border:none !important;\" data-html=%3C%21DOCTYPE%20html%3E%0A%3Chead%3E%20%20%20%20%0A%20%20%20%20%3Cmeta%20http-equiv%3D%22content-type%22%20content%3D%22text/html%3B%20charset%3DUTF-8%22%20/%3E%0A%20%20%20%20%3Cscript%3EL_PREFER_CANVAS%3Dfalse%3B%20L_NO_TOUCH%3Dfalse%3B%20L_DISABLE_3D%3Dfalse%3B%3C/script%3E%0A%20%20%20%20%3Cscript%20src%3D%22https%3A//cdn.jsdelivr.net/npm/leaflet%401.4.0/dist/leaflet.js%22%3E%3C/script%3E%0A%20%20%20%20%3Cscript%20src%3D%22https%3A//code.jquery.com/jquery-1.12.4.min.js%22%3E%3C/script%3E%0A%20%20%20%20%3Cscript%20src%3D%22https%3A//maxcdn.bootstrapcdn.com/bootstrap/3.2.0/js/bootstrap.min.js%22%3E%3C/script%3E%0A%20%20%20%20%3Cscript%20src%3D%22https%3A//cdnjs.cloudflare.com/ajax/libs/Leaflet.awesome-markers/2.0.2/leaflet.awesome-markers.js%22%3E%3C/script%3E%0A%20%20%20%20%3Clink%20rel%3D%22stylesheet%22%20href%3D%22https%3A//cdn.jsdelivr.net/npm/leaflet%401.4.0/dist/leaflet.css%22/%3E%0A%20%20%20%20%3Clink%20rel%3D%22stylesheet%22%20href%3D%22https%3A//maxcdn.bootstrapcdn.com/bootstrap/3.2.0/css/bootstrap.min.css%22/%3E%0A%20%20%20%20%3Clink%20rel%3D%22stylesheet%22%20href%3D%22https%3A//maxcdn.bootstrapcdn.com/bootstrap/3.2.0/css/bootstrap-theme.min.css%22/%3E%0A%20%20%20%20%3Clink%20rel%3D%22stylesheet%22%20href%3D%22https%3A//maxcdn.bootstrapcdn.com/font-awesome/4.6.3/css/font-awesome.min.css%22/%3E%0A%20%20%20%20%3Clink%20rel%3D%22stylesheet%22%20href%3D%22https%3A//cdnjs.cloudflare.com/ajax/libs/Leaflet.awesome-markers/2.0.2/leaflet.awesome-markers.css%22/%3E%0A%20%20%20%20%3Clink%20rel%3D%22stylesheet%22%20href%3D%22https%3A//rawcdn.githack.com/python-visualization/folium/master/folium/templates/leaflet.awesome.rotate.css%22/%3E%0A%20%20%20%20%3Cstyle%3Ehtml%2C%20body%20%7Bwidth%3A%20100%25%3Bheight%3A%20100%25%3Bmargin%3A%200%3Bpadding%3A%200%3B%7D%3C/style%3E%0A%20%20%20%20%3Cstyle%3E%23map%20%7Bposition%3Aabsolute%3Btop%3A0%3Bbottom%3A0%3Bright%3A0%3Bleft%3A0%3B%7D%3C/style%3E%0A%20%20%20%20%0A%20%20%20%20%3Cmeta%20name%3D%22viewport%22%20content%3D%22width%3Ddevice-width%2C%0A%20%20%20%20%20%20%20%20initial-scale%3D1.0%2C%20maximum-scale%3D1.0%2C%20user-scalable%3Dno%22%20/%3E%0A%20%20%20%20%3Cstyle%3E%23map_f5618696e8ff409b99d5be9a628e78a1%20%7B%0A%20%20%20%20%20%20%20%20position%3A%20relative%3B%0A%20%20%20%20%20%20%20%20width%3A%20100.0%25%3B%0A%20%20%20%20%20%20%20%20height%3A%20100.0%25%3B%0A%20%20%20%20%20%20%20%20left%3A%200.0%25%3B%0A%20%20%20%20%20%20%20%20top%3A%200.0%25%3B%0A%20%20%20%20%20%20%20%20%7D%0A%20%20%20%20%3C/style%3E%0A%20%20%20%20%3Cscript%20src%3D%22https%3A//cdnjs.cloudflare.com/ajax/libs/leaflet-minimap/3.6.1/Control.MiniMap.js%22%3E%3C/script%3E%0A%20%20%20%20%3Clink%20rel%3D%22stylesheet%22%20href%3D%22https%3A//cdnjs.cloudflare.com/ajax/libs/leaflet-minimap/3.6.1/Control.MiniMap.css%22/%3E%0A%3C/head%3E%0A%3Cbody%3E%20%20%20%20%0A%20%20%20%20%0A%20%20%20%20%3Cdiv%20class%3D%22folium-map%22%20id%3D%22map_f5618696e8ff409b99d5be9a628e78a1%22%20%3E%3C/div%3E%0A%3C/body%3E%0A%3Cscript%3E%20%20%20%20%0A%20%20%20%20%0A%20%20%20%20%0A%20%20%20%20%20%20%20%20var%20bounds%20%3D%20null%3B%0A%20%20%20%20%0A%0A%20%20%20%20var%20map_f5618696e8ff409b99d5be9a628e78a1%20%3D%20L.map%28%0A%20%20%20%20%20%20%20%20%27map_f5618696e8ff409b99d5be9a628e78a1%27%2C%20%7B%0A%20%20%20%20%20%20%20%20center%3A%20%5B-13.4589%2C%20-76.0908%5D%2C%0A%20%20%20%20%20%20%20%20zoom%3A%2012%2C%0A%20%20%20%20%20%20%20%20maxBounds%3A%20bounds%2C%0A%20%20%20%20%20%20%20%20layers%3A%20%5B%5D%2C%0A%20%20%20%20%20%20%20%20worldCopyJump%3A%20false%2C%0A%20%20%20%20%20%20%20%20crs%3A%20L.CRS.EPSG3857%2C%0A%20%20%20%20%20%20%20%20zoomControl%3A%20true%2C%0A%20%20%20%20%20%20%20%20%7D%29%3B%0AL.control.scale%28%29.addTo%28map_f5618696e8ff409b99d5be9a628e78a1%29%3B%0A%0A%20%20%20%20%0A%20%20%20%20var%20tile_layer_e81be00521df4128a0c0546d994b2845%20%3D%20L.tileLayer%28%0A%20%20%20%20%20%20%20%20%27https%3A//%7Bs%7D.tile.openstreetmap.org/%7Bz%7D/%7Bx%7D/%7By%7D.png%27%2C%0A%20%20%20%20%20%20%20%20%7B%0A%20%20%20%20%20%20%20%20%22attribution%22%3A%20null%2C%0A%20%20%20%20%20%20%20%20%22detectRetina%22%3A%20false%2C%0A%20%20%20%20%20%20%20%20%22maxNativeZoom%22%3A%2018%2C%0A%20%20%20%20%20%20%20%20%22maxZoom%22%3A%2018%2C%0A%20%20%20%20%20%20%20%20%22minZoom%22%3A%200%2C%0A%20%20%20%20%20%20%20%20%22noWrap%22%3A%20false%2C%0A%20%20%20%20%20%20%20%20%22opacity%22%3A%201%2C%0A%20%20%20%20%20%20%20%20%22subdomains%22%3A%20%22abc%22%2C%0A%20%20%20%20%20%20%20%20%22tms%22%3A%20false%0A%7D%29.addTo%28map_f5618696e8ff409b99d5be9a628e78a1%29%3B%0A%20%20%20%20var%20tile_layer_0d53628f8c8440e790100d522b275f8c%20%3D%20L.tileLayer%28%0A%20%20%20%20%20%20%20%20%27https%3A//earthengine.googleapis.com/v1alpha/projects/earthengine-legacy/maps/95e5563de712360a49b2fca092b47d04-857444176f9cdecc232484872f696ef6/tiles/%7Bz%7D/%7Bx%7D/%7By%7D%27%2C%0A%20%20%20%20%20%20%20%20%7B%0A%20%20%20%20%20%20%20%20%22attribution%22%3A%20%22Google%20Earth%20Engine%22%2C%0A%20%20%20%20%20%20%20%20%22detectRetina%22%3A%20false%2C%0A%20%20%20%20%20%20%20%20%22maxNativeZoom%22%3A%2018%2C%0A%20%20%20%20%20%20%20%20%22maxZoom%22%3A%2018%2C%0A%20%20%20%20%20%20%20%20%22minZoom%22%3A%200%2C%0A%20%20%20%20%20%20%20%20%22noWrap%22%3A%20false%2C%0A%20%20%20%20%20%20%20%20%22opacity%22%3A%201%2C%0A%20%20%20%20%20%20%20%20%22subdomains%22%3A%20%22abc%22%2C%0A%20%20%20%20%20%20%20%20%22tms%22%3A%20false%0A%7D%29.addTo%28map_f5618696e8ff409b99d5be9a628e78a1%29%3B%0A%20%20%20%20%0A%0A%20%20%20%20%20%20%20%20var%20tile_layer_7d5745145049444f8ebc036df11dd9f0%20%3D%20L.tileLayer%28%0A%20%20%20%20%20%20%20%20%27https%3A//%7Bs%7D.tile.openstreetmap.org/%7Bz%7D/%7Bx%7D/%7By%7D.png%27%2C%0A%20%20%20%20%20%20%20%20%7B%0A%20%20%20%20%20%20%20%20%22attribution%22%3A%20null%2C%0A%20%20%20%20%20%20%20%20%22detectRetina%22%3A%20false%2C%0A%20%20%20%20%20%20%20%20%22maxNativeZoom%22%3A%2018%2C%0A%20%20%20%20%20%20%20%20%22maxZoom%22%3A%2018%2C%0A%20%20%20%20%20%20%20%20%22minZoom%22%3A%200%2C%0A%20%20%20%20%20%20%20%20%22noWrap%22%3A%20false%2C%0A%20%20%20%20%20%20%20%20%22opacity%22%3A%201%2C%0A%20%20%20%20%20%20%20%20%22subdomains%22%3A%20%22abc%22%2C%0A%20%20%20%20%20%20%20%20%22tms%22%3A%20false%0A%7D%20%29%3B%0A%0A%20%20%20%20%20%20%20%20var%20mini_map_88692306dbda4096bf96ad1216a33a27%20%3D%20new%20L.Control.MiniMap%28%20tile_layer_7d5745145049444f8ebc036df11dd9f0%2C%0A%20%20%20%20%20%20%20%20%20%7B%0A%20%20%22autoToggleDisplay%22%3A%20false%2C%0A%20%20%22centerFixed%22%3A%20false%2C%0A%20%20%22collapsedHeight%22%3A%2025%2C%0A%20%20%22collapsedWidth%22%3A%2025%2C%0A%20%20%22height%22%3A%20150%2C%0A%20%20%22minimized%22%3A%20false%2C%0A%20%20%22position%22%3A%20%22bottomright%22%2C%0A%20%20%22toggleDisplay%22%3A%20false%2C%0A%20%20%22width%22%3A%20150%2C%0A%20%20%22zoomAnimation%22%3A%20false%2C%0A%20%20%22zoomLevelFixed%22%3A%207%2C%0A%20%20%22zoomLevelOffset%22%3A%20-5%0A%7D%29%3B%0A%20%20%20%20%20%20%20%20map_f5618696e8ff409b99d5be9a628e78a1.addControl%28mini_map_88692306dbda4096bf96ad1216a33a27%29%3B%0A%0A%20%20%20%20%20%20%20%20%0A%20%20%20%20%0A%20%20%20%20%20%20%20%20%20%20%20%20var%20layer_control_684c9867690b4d0c99ae30da69fc4453%20%3D%20%7B%0A%20%20%20%20%20%20%20%20%20%20%20%20%20%20%20%20base_layers%20%3A%20%7B%20%22openstreetmap%22%20%3A%20tile_layer_e81be00521df4128a0c0546d994b2845%2C%20%7D%2C%0A%20%20%20%20%20%20%20%20%20%20%20%20%20%20%20%20overlays%20%3A%20%7B%20%22img_s2%22%20%3A%20tile_layer_0d53628f8c8440e790100d522b275f8c%2C%20%7D%0A%20%20%20%20%20%20%20%20%20%20%20%20%20%20%20%20%7D%3B%0A%20%20%20%20%20%20%20%20%20%20%20%20L.control.layers%28%0A%20%20%20%20%20%20%20%20%20%20%20%20%20%20%20%20layer_control_684c9867690b4d0c99ae30da69fc4453.base_layers%2C%0A%20%20%20%20%20%20%20%20%20%20%20%20%20%20%20%20layer_control_684c9867690b4d0c99ae30da69fc4453.overlays%2C%0A%20%20%20%20%20%20%20%20%20%20%20%20%20%20%20%20%7Bposition%3A%20%27topright%27%2C%0A%20%20%20%20%20%20%20%20%20%20%20%20%20%20%20%20%20collapsed%3A%20true%2C%0A%20%20%20%20%20%20%20%20%20%20%20%20%20%20%20%20%20autoZIndex%3A%20true%0A%20%20%20%20%20%20%20%20%20%20%20%20%20%20%20%20%7D%29.addTo%28map_f5618696e8ff409b99d5be9a628e78a1%29%3B%0A%20%20%20%20%20%20%20%20%20%20%20%20%0A%20%20%20%20%20%20%20%20%0A%3C/script%3E onload=\"this.contentDocument.open();this.contentDocument.write(    decodeURIComponent(this.getAttribute('data-html')));this.contentDocument.close();\" allowfullscreen webkitallowfullscreen mozallowfullscreen></iframe></div></div>"
            ],
            "text/plain": [
              "<folium.folium.Map at 0x7f7e12075250>"
            ]
          },
          "metadata": {
            "tags": []
          },
          "execution_count": 5
        }
      ]
    },
    {
      "cell_type": "markdown",
      "metadata": {
        "id": "LdiSzI9B8BNN"
      },
      "source": [
        "##### Landsat 8"
      ]
    },
    {
      "cell_type": "code",
      "metadata": {
        "id": "JRMbt5dvVUth",
        "colab": {
          "base_uri": "https://localhost:8080/",
          "height": 996
        },
        "cellView": "form",
        "outputId": "beeda548-c27e-4fea-aa9e-997e7e5602dc"
      },
      "source": [
        "#@title Visualización rápida Landsat8\n",
        "# @markdown Primera imagen registrada: `2013-03-24`\n",
        "#@markdown 1. Seleccionamos las fechas de interés:\n",
        "\n",
        "Start_date = '2011-12-17'  #@param {type: \"date\"}\n",
        "End_date   = '2021-02-11'  #@param {type: \"date\"}\n",
        "range_date = [Start_date, End_date]\n",
        "\n",
        "img_col = ee.ImageCollection(\"LANDSAT/LC08/C01/T1_SR\")\\\n",
        "        .filterDate(Start_date, End_date)\\\n",
        "        .filterBounds(ee.Geometry.Point(-76.13, -13.48))\\\n",
        "        .sort('CLOUD_COVER')#\\.first()\n",
        "\n",
        "bands = ['B4','B3','B2']\n",
        "img_rgb = img_col.first().multiply(0.0001).select(bands)   #.clip(roi_clip)\n",
        "# --- Visualización de fechas ----------\n",
        "#ver_rangos(img_rgb, range_date=range_date)\n",
        "\n",
        "# --- Visualizacion de imagen ----------\n",
        "\n",
        "# Fecha de toma\n",
        "ver_rangos(img_col, range_date=range_date)\n",
        "# ID\n",
        "print()\n",
        "print('Mejor imagen:')\n",
        "print('% nubosidad:', img_col.first().getInfo()['properties']['CLOUD_COVER'])\n",
        "print('Image ID:',img_col.first().getInfo().get('id'))\n",
        "print('Fecha:', conv_fecha(img_col.first()))\n",
        "\n",
        "\n",
        "# Visualizacion: Mapdisplay\n",
        "dict_img = {'img': img_rgb.getMapId({'min':0.0, 'max':0.3, 'bands': bands})} # ,'roi': roi_clip.getInfo()\n",
        "mapdisplay(centroide, dict_img, zoom_start=12)"
      ],
      "execution_count": null,
      "outputs": [
        {
          "output_type": "stream",
          "text": [
            "Total imágenes: 176\n",
            "Rango Temporal Ingresado : 2011-12-17 - 2021-02-11\n",
            "Rango Temporal Real      : 2013-03-24 - 2021-01-29\n",
            "\n",
            "Mejor imagen:\n",
            "% nubosidad: 1.65\n",
            "Image ID: LANDSAT/LC08/C01/T1_SR/LC08_007069_20160405\n",
            "Fecha: 2016-04-05 15:10:59\n"
          ],
          "name": "stdout"
        },
        {
          "output_type": "execute_result",
          "data": {
            "text/html": [
              "<div style=\"width:100%;\"><div style=\"position:relative;width:100%;height:0;padding-bottom:60%;\"><span style=\"color:#565656\">Make this Notebook Trusted to load map: File -> Trust Notebook</span><iframe src=\"about:blank\" style=\"position:absolute;width:100%;height:100%;left:0;top:0;border:none !important;\" data-html=%3C%21DOCTYPE%20html%3E%0A%3Chead%3E%20%20%20%20%0A%20%20%20%20%3Cmeta%20http-equiv%3D%22content-type%22%20content%3D%22text/html%3B%20charset%3DUTF-8%22%20/%3E%0A%20%20%20%20%3Cscript%3EL_PREFER_CANVAS%3Dfalse%3B%20L_NO_TOUCH%3Dfalse%3B%20L_DISABLE_3D%3Dfalse%3B%3C/script%3E%0A%20%20%20%20%3Cscript%20src%3D%22https%3A//cdn.jsdelivr.net/npm/leaflet%401.4.0/dist/leaflet.js%22%3E%3C/script%3E%0A%20%20%20%20%3Cscript%20src%3D%22https%3A//code.jquery.com/jquery-1.12.4.min.js%22%3E%3C/script%3E%0A%20%20%20%20%3Cscript%20src%3D%22https%3A//maxcdn.bootstrapcdn.com/bootstrap/3.2.0/js/bootstrap.min.js%22%3E%3C/script%3E%0A%20%20%20%20%3Cscript%20src%3D%22https%3A//cdnjs.cloudflare.com/ajax/libs/Leaflet.awesome-markers/2.0.2/leaflet.awesome-markers.js%22%3E%3C/script%3E%0A%20%20%20%20%3Clink%20rel%3D%22stylesheet%22%20href%3D%22https%3A//cdn.jsdelivr.net/npm/leaflet%401.4.0/dist/leaflet.css%22/%3E%0A%20%20%20%20%3Clink%20rel%3D%22stylesheet%22%20href%3D%22https%3A//maxcdn.bootstrapcdn.com/bootstrap/3.2.0/css/bootstrap.min.css%22/%3E%0A%20%20%20%20%3Clink%20rel%3D%22stylesheet%22%20href%3D%22https%3A//maxcdn.bootstrapcdn.com/bootstrap/3.2.0/css/bootstrap-theme.min.css%22/%3E%0A%20%20%20%20%3Clink%20rel%3D%22stylesheet%22%20href%3D%22https%3A//maxcdn.bootstrapcdn.com/font-awesome/4.6.3/css/font-awesome.min.css%22/%3E%0A%20%20%20%20%3Clink%20rel%3D%22stylesheet%22%20href%3D%22https%3A//cdnjs.cloudflare.com/ajax/libs/Leaflet.awesome-markers/2.0.2/leaflet.awesome-markers.css%22/%3E%0A%20%20%20%20%3Clink%20rel%3D%22stylesheet%22%20href%3D%22https%3A//rawcdn.githack.com/python-visualization/folium/master/folium/templates/leaflet.awesome.rotate.css%22/%3E%0A%20%20%20%20%3Cstyle%3Ehtml%2C%20body%20%7Bwidth%3A%20100%25%3Bheight%3A%20100%25%3Bmargin%3A%200%3Bpadding%3A%200%3B%7D%3C/style%3E%0A%20%20%20%20%3Cstyle%3E%23map%20%7Bposition%3Aabsolute%3Btop%3A0%3Bbottom%3A0%3Bright%3A0%3Bleft%3A0%3B%7D%3C/style%3E%0A%20%20%20%20%0A%20%20%20%20%3Cmeta%20name%3D%22viewport%22%20content%3D%22width%3Ddevice-width%2C%0A%20%20%20%20%20%20%20%20initial-scale%3D1.0%2C%20maximum-scale%3D1.0%2C%20user-scalable%3Dno%22%20/%3E%0A%20%20%20%20%3Cstyle%3E%23map_79c02207f96e4623bd657af357a1c2a9%20%7B%0A%20%20%20%20%20%20%20%20position%3A%20relative%3B%0A%20%20%20%20%20%20%20%20width%3A%20100.0%25%3B%0A%20%20%20%20%20%20%20%20height%3A%20100.0%25%3B%0A%20%20%20%20%20%20%20%20left%3A%200.0%25%3B%0A%20%20%20%20%20%20%20%20top%3A%200.0%25%3B%0A%20%20%20%20%20%20%20%20%7D%0A%20%20%20%20%3C/style%3E%0A%20%20%20%20%3Cscript%20src%3D%22https%3A//cdnjs.cloudflare.com/ajax/libs/leaflet-minimap/3.6.1/Control.MiniMap.js%22%3E%3C/script%3E%0A%20%20%20%20%3Clink%20rel%3D%22stylesheet%22%20href%3D%22https%3A//cdnjs.cloudflare.com/ajax/libs/leaflet-minimap/3.6.1/Control.MiniMap.css%22/%3E%0A%3C/head%3E%0A%3Cbody%3E%20%20%20%20%0A%20%20%20%20%0A%20%20%20%20%3Cdiv%20class%3D%22folium-map%22%20id%3D%22map_79c02207f96e4623bd657af357a1c2a9%22%20%3E%3C/div%3E%0A%3C/body%3E%0A%3Cscript%3E%20%20%20%20%0A%20%20%20%20%0A%20%20%20%20%0A%20%20%20%20%20%20%20%20var%20bounds%20%3D%20null%3B%0A%20%20%20%20%0A%0A%20%20%20%20var%20map_79c02207f96e4623bd657af357a1c2a9%20%3D%20L.map%28%0A%20%20%20%20%20%20%20%20%27map_79c02207f96e4623bd657af357a1c2a9%27%2C%20%7B%0A%20%20%20%20%20%20%20%20center%3A%20%5B-13.4589%2C%20-76.0908%5D%2C%0A%20%20%20%20%20%20%20%20zoom%3A%2012%2C%0A%20%20%20%20%20%20%20%20maxBounds%3A%20bounds%2C%0A%20%20%20%20%20%20%20%20layers%3A%20%5B%5D%2C%0A%20%20%20%20%20%20%20%20worldCopyJump%3A%20false%2C%0A%20%20%20%20%20%20%20%20crs%3A%20L.CRS.EPSG3857%2C%0A%20%20%20%20%20%20%20%20zoomControl%3A%20true%2C%0A%20%20%20%20%20%20%20%20%7D%29%3B%0AL.control.scale%28%29.addTo%28map_79c02207f96e4623bd657af357a1c2a9%29%3B%0A%0A%20%20%20%20%0A%20%20%20%20var%20tile_layer_ff284273b1144446a60ed8b88a7ddc61%20%3D%20L.tileLayer%28%0A%20%20%20%20%20%20%20%20%27https%3A//%7Bs%7D.tile.openstreetmap.org/%7Bz%7D/%7Bx%7D/%7By%7D.png%27%2C%0A%20%20%20%20%20%20%20%20%7B%0A%20%20%20%20%20%20%20%20%22attribution%22%3A%20null%2C%0A%20%20%20%20%20%20%20%20%22detectRetina%22%3A%20false%2C%0A%20%20%20%20%20%20%20%20%22maxNativeZoom%22%3A%2018%2C%0A%20%20%20%20%20%20%20%20%22maxZoom%22%3A%2018%2C%0A%20%20%20%20%20%20%20%20%22minZoom%22%3A%200%2C%0A%20%20%20%20%20%20%20%20%22noWrap%22%3A%20false%2C%0A%20%20%20%20%20%20%20%20%22opacity%22%3A%201%2C%0A%20%20%20%20%20%20%20%20%22subdomains%22%3A%20%22abc%22%2C%0A%20%20%20%20%20%20%20%20%22tms%22%3A%20false%0A%7D%29.addTo%28map_79c02207f96e4623bd657af357a1c2a9%29%3B%0A%20%20%20%20var%20tile_layer_cfa13fed01514ad38f36cca2cd8088ac%20%3D%20L.tileLayer%28%0A%20%20%20%20%20%20%20%20%27https%3A//earthengine.googleapis.com/v1alpha/projects/earthengine-legacy/maps/42da523eff96b99fb80978233b6fc185-0260378d4fcc3ab2b4bd3c30989b95ac/tiles/%7Bz%7D/%7Bx%7D/%7By%7D%27%2C%0A%20%20%20%20%20%20%20%20%7B%0A%20%20%20%20%20%20%20%20%22attribution%22%3A%20%22Google%20Earth%20Engine%22%2C%0A%20%20%20%20%20%20%20%20%22detectRetina%22%3A%20false%2C%0A%20%20%20%20%20%20%20%20%22maxNativeZoom%22%3A%2018%2C%0A%20%20%20%20%20%20%20%20%22maxZoom%22%3A%2018%2C%0A%20%20%20%20%20%20%20%20%22minZoom%22%3A%200%2C%0A%20%20%20%20%20%20%20%20%22noWrap%22%3A%20false%2C%0A%20%20%20%20%20%20%20%20%22opacity%22%3A%201%2C%0A%20%20%20%20%20%20%20%20%22subdomains%22%3A%20%22abc%22%2C%0A%20%20%20%20%20%20%20%20%22tms%22%3A%20false%0A%7D%29.addTo%28map_79c02207f96e4623bd657af357a1c2a9%29%3B%0A%20%20%20%20%0A%0A%20%20%20%20%20%20%20%20var%20tile_layer_e52d550bcb3942719cb0eeae197cb904%20%3D%20L.tileLayer%28%0A%20%20%20%20%20%20%20%20%27https%3A//%7Bs%7D.tile.openstreetmap.org/%7Bz%7D/%7Bx%7D/%7By%7D.png%27%2C%0A%20%20%20%20%20%20%20%20%7B%0A%20%20%20%20%20%20%20%20%22attribution%22%3A%20null%2C%0A%20%20%20%20%20%20%20%20%22detectRetina%22%3A%20false%2C%0A%20%20%20%20%20%20%20%20%22maxNativeZoom%22%3A%2018%2C%0A%20%20%20%20%20%20%20%20%22maxZoom%22%3A%2018%2C%0A%20%20%20%20%20%20%20%20%22minZoom%22%3A%200%2C%0A%20%20%20%20%20%20%20%20%22noWrap%22%3A%20false%2C%0A%20%20%20%20%20%20%20%20%22opacity%22%3A%201%2C%0A%20%20%20%20%20%20%20%20%22subdomains%22%3A%20%22abc%22%2C%0A%20%20%20%20%20%20%20%20%22tms%22%3A%20false%0A%7D%20%29%3B%0A%0A%20%20%20%20%20%20%20%20var%20mini_map_2451ac32cece450699f2337ef33a2770%20%3D%20new%20L.Control.MiniMap%28%20tile_layer_e52d550bcb3942719cb0eeae197cb904%2C%0A%20%20%20%20%20%20%20%20%20%7B%0A%20%20%22autoToggleDisplay%22%3A%20false%2C%0A%20%20%22centerFixed%22%3A%20false%2C%0A%20%20%22collapsedHeight%22%3A%2025%2C%0A%20%20%22collapsedWidth%22%3A%2025%2C%0A%20%20%22height%22%3A%20150%2C%0A%20%20%22minimized%22%3A%20false%2C%0A%20%20%22position%22%3A%20%22bottomright%22%2C%0A%20%20%22toggleDisplay%22%3A%20false%2C%0A%20%20%22width%22%3A%20150%2C%0A%20%20%22zoomAnimation%22%3A%20false%2C%0A%20%20%22zoomLevelFixed%22%3A%207%2C%0A%20%20%22zoomLevelOffset%22%3A%20-5%0A%7D%29%3B%0A%20%20%20%20%20%20%20%20map_79c02207f96e4623bd657af357a1c2a9.addControl%28mini_map_2451ac32cece450699f2337ef33a2770%29%3B%0A%0A%20%20%20%20%20%20%20%20%0A%20%20%20%20%0A%20%20%20%20%20%20%20%20%20%20%20%20var%20layer_control_edfc2141b0dc430081cb418a6ace9c14%20%3D%20%7B%0A%20%20%20%20%20%20%20%20%20%20%20%20%20%20%20%20base_layers%20%3A%20%7B%20%22openstreetmap%22%20%3A%20tile_layer_ff284273b1144446a60ed8b88a7ddc61%2C%20%7D%2C%0A%20%20%20%20%20%20%20%20%20%20%20%20%20%20%20%20overlays%20%3A%20%7B%20%22img%22%20%3A%20tile_layer_cfa13fed01514ad38f36cca2cd8088ac%2C%20%7D%0A%20%20%20%20%20%20%20%20%20%20%20%20%20%20%20%20%7D%3B%0A%20%20%20%20%20%20%20%20%20%20%20%20L.control.layers%28%0A%20%20%20%20%20%20%20%20%20%20%20%20%20%20%20%20layer_control_edfc2141b0dc430081cb418a6ace9c14.base_layers%2C%0A%20%20%20%20%20%20%20%20%20%20%20%20%20%20%20%20layer_control_edfc2141b0dc430081cb418a6ace9c14.overlays%2C%0A%20%20%20%20%20%20%20%20%20%20%20%20%20%20%20%20%7Bposition%3A%20%27topright%27%2C%0A%20%20%20%20%20%20%20%20%20%20%20%20%20%20%20%20%20collapsed%3A%20true%2C%0A%20%20%20%20%20%20%20%20%20%20%20%20%20%20%20%20%20autoZIndex%3A%20true%0A%20%20%20%20%20%20%20%20%20%20%20%20%20%20%20%20%7D%29.addTo%28map_79c02207f96e4623bd657af357a1c2a9%29%3B%0A%20%20%20%20%20%20%20%20%20%20%20%20%0A%20%20%20%20%20%20%20%20%0A%3C/script%3E onload=\"this.contentDocument.open();this.contentDocument.write(    decodeURIComponent(this.getAttribute('data-html')));this.contentDocument.close();\" allowfullscreen webkitallowfullscreen mozallowfullscreen></iframe></div></div>"
            ],
            "text/plain": [
              "<folium.folium.Map at 0x7efc1f274950>"
            ]
          },
          "metadata": {
            "tags": []
          },
          "execution_count": 6
        }
      ]
    },
    {
      "cell_type": "markdown",
      "metadata": {
        "id": "xs9Ka7Np8EaU"
      },
      "source": [
        "##### Landsat 7"
      ]
    },
    {
      "cell_type": "code",
      "metadata": {
        "id": "e5743E5yc_h-",
        "cellView": "form",
        "colab": {
          "base_uri": "https://localhost:8080/",
          "height": 996
        },
        "outputId": "5778d9a4-81c8-4a42-864b-be6898028152"
      },
      "source": [
        "# @title Visualización rápida Landsat 7\n",
        "# @markdown Primera Imagen registrada: `1999-08-05` (Falló en: May 31, 2003)\n",
        "# @markdown 1. Seleccionamos las fechas de interés:\n",
        "Start_date = '1999-01-01'  #@param {type: \"date\"}\n",
        "End_date   = '2021-02-12'  #@param {type: \"date\"}\n",
        "range_date = [Start_date, End_date]\n",
        "\n",
        "img_col = ee.ImageCollection(\"LANDSAT/LE07/C01/T1_SR\")\\\n",
        "        .filterDate(Start_date, End_date)\\\n",
        "        .filterBounds(ee.Geometry.Point(-77.03, -13.48))\\\n",
        "        .sort('CLOUD_COVER')#\\.first()\n",
        "\n",
        "bands = ['B3','B2','B1']\n",
        "img_rgb = img_col.first().multiply(0.0001).select(bands)   #.clip(roi_clip)\n",
        "# --- Visualización de fechas ----------\n",
        "ver_rangos(img_col, range_date=range_date)\n",
        "\n",
        "# --- Visualizacion de imagen ----------\n",
        "# ID\n",
        "print()\n",
        "print('Mejor imagen:')\n",
        "print('% nubosidad:', img_col.first().getInfo()['properties']['CLOUD_COVER'])\n",
        "print('Image ID:',img_col.first().getInfo().get('id'))\n",
        "print('Fecha:', conv_fecha(img_col.first()))\n",
        "\n",
        "# Visualizacion: Mapdisplay\n",
        "dict_img = {'img': img_rgb.getMapId({'min':0.0, 'max':0.3, 'bands': bands})} # ,'roi': roi_clip.getInfo()\n",
        "mapdisplay(centroide, dict_img, zoom_start=12)"
      ],
      "execution_count": null,
      "outputs": [
        {
          "output_type": "stream",
          "text": [
            "Total imágenes: 419\n",
            "Rango Temporal Ingresado : 1999-01-01 - 2021-02-12\n",
            "Rango Temporal Real      : 1999-08-05 - 2021-02-06\n",
            "\n",
            "Mejor imagen:\n",
            "% nubosidad: 0\n",
            "Image ID: LANDSAT/LE07/C01/T1_SR/LE07_007069_20060520\n",
            "Fecha: 2006-05-20 15:01:25\n"
          ],
          "name": "stdout"
        },
        {
          "output_type": "execute_result",
          "data": {
            "text/html": [
              "<div style=\"width:100%;\"><div style=\"position:relative;width:100%;height:0;padding-bottom:60%;\"><span style=\"color:#565656\">Make this Notebook Trusted to load map: File -> Trust Notebook</span><iframe src=\"about:blank\" style=\"position:absolute;width:100%;height:100%;left:0;top:0;border:none !important;\" data-html=%3C%21DOCTYPE%20html%3E%0A%3Chead%3E%20%20%20%20%0A%20%20%20%20%3Cmeta%20http-equiv%3D%22content-type%22%20content%3D%22text/html%3B%20charset%3DUTF-8%22%20/%3E%0A%20%20%20%20%3Cscript%3EL_PREFER_CANVAS%3Dfalse%3B%20L_NO_TOUCH%3Dfalse%3B%20L_DISABLE_3D%3Dfalse%3B%3C/script%3E%0A%20%20%20%20%3Cscript%20src%3D%22https%3A//cdn.jsdelivr.net/npm/leaflet%401.4.0/dist/leaflet.js%22%3E%3C/script%3E%0A%20%20%20%20%3Cscript%20src%3D%22https%3A//code.jquery.com/jquery-1.12.4.min.js%22%3E%3C/script%3E%0A%20%20%20%20%3Cscript%20src%3D%22https%3A//maxcdn.bootstrapcdn.com/bootstrap/3.2.0/js/bootstrap.min.js%22%3E%3C/script%3E%0A%20%20%20%20%3Cscript%20src%3D%22https%3A//cdnjs.cloudflare.com/ajax/libs/Leaflet.awesome-markers/2.0.2/leaflet.awesome-markers.js%22%3E%3C/script%3E%0A%20%20%20%20%3Clink%20rel%3D%22stylesheet%22%20href%3D%22https%3A//cdn.jsdelivr.net/npm/leaflet%401.4.0/dist/leaflet.css%22/%3E%0A%20%20%20%20%3Clink%20rel%3D%22stylesheet%22%20href%3D%22https%3A//maxcdn.bootstrapcdn.com/bootstrap/3.2.0/css/bootstrap.min.css%22/%3E%0A%20%20%20%20%3Clink%20rel%3D%22stylesheet%22%20href%3D%22https%3A//maxcdn.bootstrapcdn.com/bootstrap/3.2.0/css/bootstrap-theme.min.css%22/%3E%0A%20%20%20%20%3Clink%20rel%3D%22stylesheet%22%20href%3D%22https%3A//maxcdn.bootstrapcdn.com/font-awesome/4.6.3/css/font-awesome.min.css%22/%3E%0A%20%20%20%20%3Clink%20rel%3D%22stylesheet%22%20href%3D%22https%3A//cdnjs.cloudflare.com/ajax/libs/Leaflet.awesome-markers/2.0.2/leaflet.awesome-markers.css%22/%3E%0A%20%20%20%20%3Clink%20rel%3D%22stylesheet%22%20href%3D%22https%3A//rawcdn.githack.com/python-visualization/folium/master/folium/templates/leaflet.awesome.rotate.css%22/%3E%0A%20%20%20%20%3Cstyle%3Ehtml%2C%20body%20%7Bwidth%3A%20100%25%3Bheight%3A%20100%25%3Bmargin%3A%200%3Bpadding%3A%200%3B%7D%3C/style%3E%0A%20%20%20%20%3Cstyle%3E%23map%20%7Bposition%3Aabsolute%3Btop%3A0%3Bbottom%3A0%3Bright%3A0%3Bleft%3A0%3B%7D%3C/style%3E%0A%20%20%20%20%0A%20%20%20%20%3Cmeta%20name%3D%22viewport%22%20content%3D%22width%3Ddevice-width%2C%0A%20%20%20%20%20%20%20%20initial-scale%3D1.0%2C%20maximum-scale%3D1.0%2C%20user-scalable%3Dno%22%20/%3E%0A%20%20%20%20%3Cstyle%3E%23map_a98d5a7919a540abacb7e9919c8efa89%20%7B%0A%20%20%20%20%20%20%20%20position%3A%20relative%3B%0A%20%20%20%20%20%20%20%20width%3A%20100.0%25%3B%0A%20%20%20%20%20%20%20%20height%3A%20100.0%25%3B%0A%20%20%20%20%20%20%20%20left%3A%200.0%25%3B%0A%20%20%20%20%20%20%20%20top%3A%200.0%25%3B%0A%20%20%20%20%20%20%20%20%7D%0A%20%20%20%20%3C/style%3E%0A%20%20%20%20%3Cscript%20src%3D%22https%3A//cdnjs.cloudflare.com/ajax/libs/leaflet-minimap/3.6.1/Control.MiniMap.js%22%3E%3C/script%3E%0A%20%20%20%20%3Clink%20rel%3D%22stylesheet%22%20href%3D%22https%3A//cdnjs.cloudflare.com/ajax/libs/leaflet-minimap/3.6.1/Control.MiniMap.css%22/%3E%0A%3C/head%3E%0A%3Cbody%3E%20%20%20%20%0A%20%20%20%20%0A%20%20%20%20%3Cdiv%20class%3D%22folium-map%22%20id%3D%22map_a98d5a7919a540abacb7e9919c8efa89%22%20%3E%3C/div%3E%0A%3C/body%3E%0A%3Cscript%3E%20%20%20%20%0A%20%20%20%20%0A%20%20%20%20%0A%20%20%20%20%20%20%20%20var%20bounds%20%3D%20null%3B%0A%20%20%20%20%0A%0A%20%20%20%20var%20map_a98d5a7919a540abacb7e9919c8efa89%20%3D%20L.map%28%0A%20%20%20%20%20%20%20%20%27map_a98d5a7919a540abacb7e9919c8efa89%27%2C%20%7B%0A%20%20%20%20%20%20%20%20center%3A%20%5B-13.4589%2C%20-76.0908%5D%2C%0A%20%20%20%20%20%20%20%20zoom%3A%2012%2C%0A%20%20%20%20%20%20%20%20maxBounds%3A%20bounds%2C%0A%20%20%20%20%20%20%20%20layers%3A%20%5B%5D%2C%0A%20%20%20%20%20%20%20%20worldCopyJump%3A%20false%2C%0A%20%20%20%20%20%20%20%20crs%3A%20L.CRS.EPSG3857%2C%0A%20%20%20%20%20%20%20%20zoomControl%3A%20true%2C%0A%20%20%20%20%20%20%20%20%7D%29%3B%0AL.control.scale%28%29.addTo%28map_a98d5a7919a540abacb7e9919c8efa89%29%3B%0A%0A%20%20%20%20%0A%20%20%20%20var%20tile_layer_ed37a6162971423d88e2977803dd1222%20%3D%20L.tileLayer%28%0A%20%20%20%20%20%20%20%20%27https%3A//%7Bs%7D.tile.openstreetmap.org/%7Bz%7D/%7Bx%7D/%7By%7D.png%27%2C%0A%20%20%20%20%20%20%20%20%7B%0A%20%20%20%20%20%20%20%20%22attribution%22%3A%20null%2C%0A%20%20%20%20%20%20%20%20%22detectRetina%22%3A%20false%2C%0A%20%20%20%20%20%20%20%20%22maxNativeZoom%22%3A%2018%2C%0A%20%20%20%20%20%20%20%20%22maxZoom%22%3A%2018%2C%0A%20%20%20%20%20%20%20%20%22minZoom%22%3A%200%2C%0A%20%20%20%20%20%20%20%20%22noWrap%22%3A%20false%2C%0A%20%20%20%20%20%20%20%20%22opacity%22%3A%201%2C%0A%20%20%20%20%20%20%20%20%22subdomains%22%3A%20%22abc%22%2C%0A%20%20%20%20%20%20%20%20%22tms%22%3A%20false%0A%7D%29.addTo%28map_a98d5a7919a540abacb7e9919c8efa89%29%3B%0A%20%20%20%20var%20tile_layer_0e049124bf86414c8945f4152c16a6cb%20%3D%20L.tileLayer%28%0A%20%20%20%20%20%20%20%20%27https%3A//earthengine.googleapis.com/v1alpha/projects/earthengine-legacy/maps/6478d35a9fc088734f3f7abeac8ca178-c2ed09976a22b316cc0ac1690c74cf6b/tiles/%7Bz%7D/%7Bx%7D/%7By%7D%27%2C%0A%20%20%20%20%20%20%20%20%7B%0A%20%20%20%20%20%20%20%20%22attribution%22%3A%20%22Google%20Earth%20Engine%22%2C%0A%20%20%20%20%20%20%20%20%22detectRetina%22%3A%20false%2C%0A%20%20%20%20%20%20%20%20%22maxNativeZoom%22%3A%2018%2C%0A%20%20%20%20%20%20%20%20%22maxZoom%22%3A%2018%2C%0A%20%20%20%20%20%20%20%20%22minZoom%22%3A%200%2C%0A%20%20%20%20%20%20%20%20%22noWrap%22%3A%20false%2C%0A%20%20%20%20%20%20%20%20%22opacity%22%3A%201%2C%0A%20%20%20%20%20%20%20%20%22subdomains%22%3A%20%22abc%22%2C%0A%20%20%20%20%20%20%20%20%22tms%22%3A%20false%0A%7D%29.addTo%28map_a98d5a7919a540abacb7e9919c8efa89%29%3B%0A%20%20%20%20%0A%0A%20%20%20%20%20%20%20%20var%20tile_layer_bf3dd0c6cfb044abbbd048d3cff38d6c%20%3D%20L.tileLayer%28%0A%20%20%20%20%20%20%20%20%27https%3A//%7Bs%7D.tile.openstreetmap.org/%7Bz%7D/%7Bx%7D/%7By%7D.png%27%2C%0A%20%20%20%20%20%20%20%20%7B%0A%20%20%20%20%20%20%20%20%22attribution%22%3A%20null%2C%0A%20%20%20%20%20%20%20%20%22detectRetina%22%3A%20false%2C%0A%20%20%20%20%20%20%20%20%22maxNativeZoom%22%3A%2018%2C%0A%20%20%20%20%20%20%20%20%22maxZoom%22%3A%2018%2C%0A%20%20%20%20%20%20%20%20%22minZoom%22%3A%200%2C%0A%20%20%20%20%20%20%20%20%22noWrap%22%3A%20false%2C%0A%20%20%20%20%20%20%20%20%22opacity%22%3A%201%2C%0A%20%20%20%20%20%20%20%20%22subdomains%22%3A%20%22abc%22%2C%0A%20%20%20%20%20%20%20%20%22tms%22%3A%20false%0A%7D%20%29%3B%0A%0A%20%20%20%20%20%20%20%20var%20mini_map_6910a016bd3a4f5e82fddabc358563bd%20%3D%20new%20L.Control.MiniMap%28%20tile_layer_bf3dd0c6cfb044abbbd048d3cff38d6c%2C%0A%20%20%20%20%20%20%20%20%20%7B%0A%20%20%22autoToggleDisplay%22%3A%20false%2C%0A%20%20%22centerFixed%22%3A%20false%2C%0A%20%20%22collapsedHeight%22%3A%2025%2C%0A%20%20%22collapsedWidth%22%3A%2025%2C%0A%20%20%22height%22%3A%20150%2C%0A%20%20%22minimized%22%3A%20false%2C%0A%20%20%22position%22%3A%20%22bottomright%22%2C%0A%20%20%22toggleDisplay%22%3A%20false%2C%0A%20%20%22width%22%3A%20150%2C%0A%20%20%22zoomAnimation%22%3A%20false%2C%0A%20%20%22zoomLevelFixed%22%3A%207%2C%0A%20%20%22zoomLevelOffset%22%3A%20-5%0A%7D%29%3B%0A%20%20%20%20%20%20%20%20map_a98d5a7919a540abacb7e9919c8efa89.addControl%28mini_map_6910a016bd3a4f5e82fddabc358563bd%29%3B%0A%0A%20%20%20%20%20%20%20%20%0A%20%20%20%20%0A%20%20%20%20%20%20%20%20%20%20%20%20var%20layer_control_95cc31d9429f40b1bc68625001cee869%20%3D%20%7B%0A%20%20%20%20%20%20%20%20%20%20%20%20%20%20%20%20base_layers%20%3A%20%7B%20%22openstreetmap%22%20%3A%20tile_layer_ed37a6162971423d88e2977803dd1222%2C%20%7D%2C%0A%20%20%20%20%20%20%20%20%20%20%20%20%20%20%20%20overlays%20%3A%20%7B%20%22img%22%20%3A%20tile_layer_0e049124bf86414c8945f4152c16a6cb%2C%20%7D%0A%20%20%20%20%20%20%20%20%20%20%20%20%20%20%20%20%7D%3B%0A%20%20%20%20%20%20%20%20%20%20%20%20L.control.layers%28%0A%20%20%20%20%20%20%20%20%20%20%20%20%20%20%20%20layer_control_95cc31d9429f40b1bc68625001cee869.base_layers%2C%0A%20%20%20%20%20%20%20%20%20%20%20%20%20%20%20%20layer_control_95cc31d9429f40b1bc68625001cee869.overlays%2C%0A%20%20%20%20%20%20%20%20%20%20%20%20%20%20%20%20%7Bposition%3A%20%27topright%27%2C%0A%20%20%20%20%20%20%20%20%20%20%20%20%20%20%20%20%20collapsed%3A%20true%2C%0A%20%20%20%20%20%20%20%20%20%20%20%20%20%20%20%20%20autoZIndex%3A%20true%0A%20%20%20%20%20%20%20%20%20%20%20%20%20%20%20%20%7D%29.addTo%28map_a98d5a7919a540abacb7e9919c8efa89%29%3B%0A%20%20%20%20%20%20%20%20%20%20%20%20%0A%20%20%20%20%20%20%20%20%0A%3C/script%3E onload=\"this.contentDocument.open();this.contentDocument.write(    decodeURIComponent(this.getAttribute('data-html')));this.contentDocument.close();\" allowfullscreen webkitallowfullscreen mozallowfullscreen></iframe></div></div>"
            ],
            "text/plain": [
              "<folium.folium.Map at 0x7efc1f2bae50>"
            ]
          },
          "metadata": {
            "tags": []
          },
          "execution_count": 7
        }
      ]
    },
    {
      "cell_type": "markdown",
      "metadata": {
        "id": "2uWMlgPPu4VA"
      },
      "source": [
        "### Pruebas\n",
        "\n",
        "1. Selección de mejores imágenes\n",
        "2. Aplicación de máscara de nubes\n",
        "3. Aplicación de Índices de Vegetación"
      ]
    },
    {
      "cell_type": "markdown",
      "metadata": {
        "id": "t5MJ6ObtBBE5"
      },
      "source": [
        "#### **Prueba 1 - Selección de mejores imágenes**\n",
        "\n"
      ]
    },
    {
      "cell_type": "markdown",
      "metadata": {
        "id": "p2ny_ELd-9ye"
      },
      "source": [
        "> Filtrado en ee.ImageCollection : [Filtering](https://developers.google.com/earth-engine/guides/ic_visualization#filtering)\n",
        "\n",
        "- Ejemplo de filtrado de porcentaje de nubes a nivel mundial:\n",
        "```\n",
        "s2col = ee.ImageCollection('COPERNICUS/S2_SR').filter(ee.Filter.lt('CLOUDY_PIXEL_PERCENTAGE', 0.1))\n",
        "s2col.size().getInfo() # 570616 \n",
        "s2col = ee.ImageCollection('COPERNICUS/S2_SR').filter(ee.Filter.lt('CLOUDY_PIXEL_PERCENTAGE', 100))\n",
        "s2col.size().getInfo() # 8241221 WOW!!!\n",
        "```"
      ]
    },
    {
      "cell_type": "markdown",
      "metadata": {
        "id": "SF9MCs7I6CPq"
      },
      "source": [
        "##### ***1. Visualización de mejores imágenes Sentinel-2 por mes según % de nubosidad(2019-2020)***"
      ]
    },
    {
      "cell_type": "code",
      "metadata": {
        "id": "t_ssMeEjGr2V",
        "colab": {
          "base_uri": "https://localhost:8080/",
          "height": 821
        },
        "outputId": "05df0d39-1399-4d7c-9226-776b26841092"
      },
      "source": [
        "@markdown *Visualización de imágenes Sentinel-2 (2019-2020)*\n",
        "# 1. Fechas: 12 elementos en cada lista \n",
        "meses_2019 = create_dateranges('2019','month', 1, 12) \n",
        "meses_2020 = create_dateranges('2020','month', 1, 12)\n",
        "\n",
        "# 2. Filtrado de ImageCollection\n",
        "punto = [-76.13, -13.48]\n",
        "\n",
        "imgs_2019 = [ee.ImageCollection('COPERNICUS/S2_SR')\\\n",
        "             .filterDate(meses_2019[i][0], meses_2019[i][1])\\\n",
        "             .filterBounds(ee.Geometry.Point(punto)) for i in range(12)] # range(len(meses_2019))\n",
        "\n",
        "imgs_2020 = [ee.ImageCollection('COPERNICUS/S2_SR')\\\n",
        "             .filterDate(meses_2020[i][0], meses_2020[i][1])\\\n",
        "             .filterBounds(ee.Geometry.Point(punto)) for i in range(12)] # range(len(meses_2020))\n",
        "\n",
        "# Seleccionar bandas (opcional): bands = ['B4','B3','B2', 'B8', 'B11']\n",
        "\n",
        "# 3. Ordenar por nubosidad: .sort('CLOUDY_PIXEL_PERCENTAGE', opt_ascending= True) -> Menor Nubosidad \n",
        "imgs_2019_best = [imgs_2019[i].sort('CLOUDY_PIXEL_PERCENTAGE').first() for i in range(12)] #.select(bands)\n",
        "imgs_2020_best = [imgs_2020[i].sort('CLOUDY_PIXEL_PERCENTAGE').first() for i in range(12)] # ee.Image()\n",
        "\n",
        "imgs_2019_info = [imgs_2019_best[i].getInfo() for i in range(12)] # list class -> 12 images\n",
        "imgs_2020_info = [imgs_2020_best[i].getInfo() for i in range(12)] # list class -> 12 images\n",
        "\n",
        "# ------ Visualización RGB ---------------\n",
        "\n",
        "# imgs_2019_best_1 = [imgs_2019_best[i].clip(roi_clip).divide(10000) for i in range(12)] #pprint(imgs_2019_best_1)\n",
        "# imgs_2020_best_1 = [imgs_2020_best[i].clip(roi_clip).divide(10000) for i in range(12)] #pprint(imgs_2020_best_1)\n",
        "\n",
        "# --------------------------------- PROPIEDADES --------------------------------------------------\n",
        "fechas19 = [meses_2019[i][0] for i in range(12)]\n",
        "fechas20 = [meses_2020[i][0] for i in range(12)]\n",
        "\n",
        "imgs_2019_size = [imgs_2019[i].size().getInfo() for i in range(12)]\n",
        "imgs_2020_size = [imgs_2020[i].size().getInfo() for i in range(12)]\n",
        "\n",
        "imgs_2019_clouds = [imgs_2019_info[i]['properties']['CLOUDY_PIXEL_PERCENTAGE'] for i in range(12)]\n",
        "imgs_2020_clouds = [imgs_2020_info[i]['properties']['CLOUDY_PIXEL_PERCENTAGE'] for i in range(12)]\n",
        "\n",
        "imgs_2019_id = [imgs_2019_info[i]['id'] for i in range(12)]\n",
        "imgs_2020_id = [imgs_2020_info[i]['id'] for i in range(12)]\n",
        "\n",
        "imgs_2019_dates = [conv_fecha(imgs_2019_info[i], getInfo=True) for i in range(12)] \n",
        "imgs_2020_dates = [conv_fecha(imgs_2020_info[i], getInfo=True) for i in range(12)]\n",
        "\n",
        "# Para visualizar por completo cualquier propiedad: print() \n",
        "fecha  = fechas19 + fechas20\n",
        "imgs   = imgs_2019_size + imgs_2020_size\n",
        "clouds = imgs_2019_clouds + imgs_2020_clouds\n",
        "id     = imgs_2019_id + imgs_2020_id\n",
        "dates  = imgs_2019_dates + imgs_2020_dates\n",
        "\n",
        "# Propiedades de la mejor imagen según porcentaje de nubosidad (DataFrame)\n",
        "data = {'Fecha': fecha,\n",
        "        'Imgs': imgs,\n",
        "        'Clouds Perc (%)': clouds,\n",
        "        'Time-start': dates} # 'ID best Image': id\n",
        "\n",
        "# -------- DataFrame Section -----------------\n",
        "import pandas as pd\n",
        "df = pd.DataFrame.from_dict(data) \n",
        "# print('DataFrame Name: data\\n', )\n",
        "display(df)\n",
        "# df.head(25)\n",
        "\n",
        "sum_19 = 0\n",
        "for i in range(12):\n",
        "  sum_19 =+ sum_19+ data['Imgs'][i]\n",
        "print('Imagenes 2019:', sum_19)\n",
        "\n",
        "sum_20 = 0\n",
        "for i in range(13,24):\n",
        "  sum_20 =+ sum_20 + data['Imgs'][i]\n",
        "\n",
        "print('Imagenes 2020:',sum_20)\n",
        "print('Total:', sum_19+sum_20)\n",
        "\n",
        "# df.to_csv('busqueda_sentinel_2.csv')"
      ],
      "execution_count": null,
      "outputs": [
        {
          "output_type": "display_data",
          "data": {
            "text/html": [
              "<div>\n",
              "<style scoped>\n",
              "    .dataframe tbody tr th:only-of-type {\n",
              "        vertical-align: middle;\n",
              "    }\n",
              "\n",
              "    .dataframe tbody tr th {\n",
              "        vertical-align: top;\n",
              "    }\n",
              "\n",
              "    .dataframe thead th {\n",
              "        text-align: right;\n",
              "    }\n",
              "</style>\n",
              "<table border=\"1\" class=\"dataframe\">\n",
              "  <thead>\n",
              "    <tr style=\"text-align: right;\">\n",
              "      <th></th>\n",
              "      <th>Fecha</th>\n",
              "      <th>Imgs</th>\n",
              "      <th>Clouds Perc (%)</th>\n",
              "      <th>Time-start</th>\n",
              "    </tr>\n",
              "  </thead>\n",
              "  <tbody>\n",
              "    <tr>\n",
              "      <th>0</th>\n",
              "      <td>2019-01</td>\n",
              "      <td>7</td>\n",
              "      <td>11.442228</td>\n",
              "      <td>2019-01-26 15:26:47</td>\n",
              "    </tr>\n",
              "    <tr>\n",
              "      <th>1</th>\n",
              "      <td>2019-02</td>\n",
              "      <td>5</td>\n",
              "      <td>9.898520</td>\n",
              "      <td>2019-02-05 15:26:47</td>\n",
              "    </tr>\n",
              "    <tr>\n",
              "      <th>2</th>\n",
              "      <td>2019-03</td>\n",
              "      <td>6</td>\n",
              "      <td>2.984784</td>\n",
              "      <td>2019-03-17 15:26:45</td>\n",
              "    </tr>\n",
              "    <tr>\n",
              "      <th>3</th>\n",
              "      <td>2019-04</td>\n",
              "      <td>6</td>\n",
              "      <td>0.355404</td>\n",
              "      <td>2019-04-11 15:26:48</td>\n",
              "    </tr>\n",
              "    <tr>\n",
              "      <th>4</th>\n",
              "      <td>2019-05</td>\n",
              "      <td>7</td>\n",
              "      <td>0.200305</td>\n",
              "      <td>2019-05-01 15:26:50</td>\n",
              "    </tr>\n",
              "    <tr>\n",
              "      <th>5</th>\n",
              "      <td>2019-06</td>\n",
              "      <td>5</td>\n",
              "      <td>61.382124</td>\n",
              "      <td>2019-06-15 15:26:54</td>\n",
              "    </tr>\n",
              "    <tr>\n",
              "      <th>6</th>\n",
              "      <td>2019-07</td>\n",
              "      <td>6</td>\n",
              "      <td>25.321462</td>\n",
              "      <td>2019-07-25 15:26:55</td>\n",
              "    </tr>\n",
              "    <tr>\n",
              "      <th>7</th>\n",
              "      <td>2019-08</td>\n",
              "      <td>6</td>\n",
              "      <td>52.501521</td>\n",
              "      <td>2019-08-19 15:26:49</td>\n",
              "    </tr>\n",
              "    <tr>\n",
              "      <th>8</th>\n",
              "      <td>2019-09</td>\n",
              "      <td>6</td>\n",
              "      <td>38.420651</td>\n",
              "      <td>2019-09-08 15:26:45</td>\n",
              "    </tr>\n",
              "    <tr>\n",
              "      <th>9</th>\n",
              "      <td>2019-10</td>\n",
              "      <td>6</td>\n",
              "      <td>34.763734</td>\n",
              "      <td>2019-10-28 15:26:50</td>\n",
              "    </tr>\n",
              "    <tr>\n",
              "      <th>10</th>\n",
              "      <td>2019-11</td>\n",
              "      <td>6</td>\n",
              "      <td>28.812340</td>\n",
              "      <td>2019-11-02 15:26:47</td>\n",
              "    </tr>\n",
              "    <tr>\n",
              "      <th>11</th>\n",
              "      <td>2019-12</td>\n",
              "      <td>6</td>\n",
              "      <td>6.928885</td>\n",
              "      <td>2019-12-27 15:26:41</td>\n",
              "    </tr>\n",
              "    <tr>\n",
              "      <th>12</th>\n",
              "      <td>2020-01</td>\n",
              "      <td>6</td>\n",
              "      <td>6.048869</td>\n",
              "      <td>2020-01-11 15:26:41</td>\n",
              "    </tr>\n",
              "    <tr>\n",
              "      <th>13</th>\n",
              "      <td>2020-02</td>\n",
              "      <td>5</td>\n",
              "      <td>19.667815</td>\n",
              "      <td>2020-02-05 15:26:38</td>\n",
              "    </tr>\n",
              "    <tr>\n",
              "      <th>14</th>\n",
              "      <td>2020-03</td>\n",
              "      <td>7</td>\n",
              "      <td>8.777887</td>\n",
              "      <td>2020-03-11 15:26:44</td>\n",
              "    </tr>\n",
              "    <tr>\n",
              "      <th>15</th>\n",
              "      <td>2020-04</td>\n",
              "      <td>6</td>\n",
              "      <td>0.246134</td>\n",
              "      <td>2020-04-20 15:26:41</td>\n",
              "    </tr>\n",
              "    <tr>\n",
              "      <th>16</th>\n",
              "      <td>2020-05</td>\n",
              "      <td>6</td>\n",
              "      <td>16.075766</td>\n",
              "      <td>2020-05-10 15:26:45</td>\n",
              "    </tr>\n",
              "    <tr>\n",
              "      <th>17</th>\n",
              "      <td>2020-06</td>\n",
              "      <td>6</td>\n",
              "      <td>63.625009</td>\n",
              "      <td>2020-06-19 15:26:49</td>\n",
              "    </tr>\n",
              "    <tr>\n",
              "      <th>18</th>\n",
              "      <td>2020-07</td>\n",
              "      <td>6</td>\n",
              "      <td>16.602519</td>\n",
              "      <td>2020-07-24 15:26:52</td>\n",
              "    </tr>\n",
              "    <tr>\n",
              "      <th>19</th>\n",
              "      <td>2020-08</td>\n",
              "      <td>6</td>\n",
              "      <td>26.728040</td>\n",
              "      <td>2020-08-13 15:26:52</td>\n",
              "    </tr>\n",
              "    <tr>\n",
              "      <th>20</th>\n",
              "      <td>2020-09</td>\n",
              "      <td>7</td>\n",
              "      <td>6.147412</td>\n",
              "      <td>2020-09-27 15:26:49</td>\n",
              "    </tr>\n",
              "    <tr>\n",
              "      <th>21</th>\n",
              "      <td>2020-10</td>\n",
              "      <td>6</td>\n",
              "      <td>5.864685</td>\n",
              "      <td>2020-10-22 15:26:52</td>\n",
              "    </tr>\n",
              "    <tr>\n",
              "      <th>22</th>\n",
              "      <td>2020-11</td>\n",
              "      <td>5</td>\n",
              "      <td>52.209438</td>\n",
              "      <td>2020-11-11 15:26:50</td>\n",
              "    </tr>\n",
              "    <tr>\n",
              "      <th>23</th>\n",
              "      <td>2020-12</td>\n",
              "      <td>7</td>\n",
              "      <td>6.746043</td>\n",
              "      <td>2020-12-21 15:26:45</td>\n",
              "    </tr>\n",
              "  </tbody>\n",
              "</table>\n",
              "</div>"
            ],
            "text/plain": [
              "      Fecha  Imgs  Clouds Perc (%)           Time-start\n",
              "0   2019-01     7        11.442228  2019-01-26 15:26:47\n",
              "1   2019-02     5         9.898520  2019-02-05 15:26:47\n",
              "2   2019-03     6         2.984784  2019-03-17 15:26:45\n",
              "3   2019-04     6         0.355404  2019-04-11 15:26:48\n",
              "4   2019-05     7         0.200305  2019-05-01 15:26:50\n",
              "5   2019-06     5        61.382124  2019-06-15 15:26:54\n",
              "6   2019-07     6        25.321462  2019-07-25 15:26:55\n",
              "7   2019-08     6        52.501521  2019-08-19 15:26:49\n",
              "8   2019-09     6        38.420651  2019-09-08 15:26:45\n",
              "9   2019-10     6        34.763734  2019-10-28 15:26:50\n",
              "10  2019-11     6        28.812340  2019-11-02 15:26:47\n",
              "11  2019-12     6         6.928885  2019-12-27 15:26:41\n",
              "12  2020-01     6         6.048869  2020-01-11 15:26:41\n",
              "13  2020-02     5        19.667815  2020-02-05 15:26:38\n",
              "14  2020-03     7         8.777887  2020-03-11 15:26:44\n",
              "15  2020-04     6         0.246134  2020-04-20 15:26:41\n",
              "16  2020-05     6        16.075766  2020-05-10 15:26:45\n",
              "17  2020-06     6        63.625009  2020-06-19 15:26:49\n",
              "18  2020-07     6        16.602519  2020-07-24 15:26:52\n",
              "19  2020-08     6        26.728040  2020-08-13 15:26:52\n",
              "20  2020-09     7         6.147412  2020-09-27 15:26:49\n",
              "21  2020-10     6         5.864685  2020-10-22 15:26:52\n",
              "22  2020-11     5        52.209438  2020-11-11 15:26:50\n",
              "23  2020-12     7         6.746043  2020-12-21 15:26:45"
            ]
          },
          "metadata": {
            "tags": []
          }
        },
        {
          "output_type": "stream",
          "text": [
            "Imagenes 2019: 72\n",
            "Imagenes 2020: 67\n",
            "Total: 139\n"
          ],
          "name": "stdout"
        }
      ]
    },
    {
      "cell_type": "code",
      "metadata": {
        "colab": {
          "base_uri": "https://localhost:8080/",
          "height": 767
        },
        "id": "M5gvlWUfbMYU",
        "outputId": "e6b68cac-6c58-46c3-b7ba-12587b7ffcd9"
      },
      "source": [
        "def add_date_info(df):\n",
        "  # df['Timestamp'] = pd.to_datetime(df['Time-start'], unit='ms')\n",
        "  df['Year'] = pd.DatetimeIndex(df['Time-start']).year\n",
        "  df['Month'] = pd.DatetimeIndex(df['Time-start']).month\n",
        "  df['Day'] = pd.DatetimeIndex(df['Time-start']).day\n",
        "  df['DOY'] = pd.DatetimeIndex(df['Time-start']).dayofyear\n",
        "  return df\n",
        "\n",
        "add_date_info(df)\n",
        "df = df.drop(columns=['Time-start'])\n",
        "df"
      ],
      "execution_count": null,
      "outputs": [
        {
          "output_type": "execute_result",
          "data": {
            "text/html": [
              "<div>\n",
              "<style scoped>\n",
              "    .dataframe tbody tr th:only-of-type {\n",
              "        vertical-align: middle;\n",
              "    }\n",
              "\n",
              "    .dataframe tbody tr th {\n",
              "        vertical-align: top;\n",
              "    }\n",
              "\n",
              "    .dataframe thead th {\n",
              "        text-align: right;\n",
              "    }\n",
              "</style>\n",
              "<table border=\"1\" class=\"dataframe\">\n",
              "  <thead>\n",
              "    <tr style=\"text-align: right;\">\n",
              "      <th></th>\n",
              "      <th>Fecha</th>\n",
              "      <th>Imgs</th>\n",
              "      <th>Clouds Perc (%)</th>\n",
              "      <th>Year</th>\n",
              "      <th>Month</th>\n",
              "      <th>Day</th>\n",
              "      <th>DOY</th>\n",
              "    </tr>\n",
              "  </thead>\n",
              "  <tbody>\n",
              "    <tr>\n",
              "      <th>0</th>\n",
              "      <td>2019-01</td>\n",
              "      <td>7</td>\n",
              "      <td>11.442228</td>\n",
              "      <td>2019</td>\n",
              "      <td>1</td>\n",
              "      <td>26</td>\n",
              "      <td>26</td>\n",
              "    </tr>\n",
              "    <tr>\n",
              "      <th>1</th>\n",
              "      <td>2019-02</td>\n",
              "      <td>5</td>\n",
              "      <td>9.898520</td>\n",
              "      <td>2019</td>\n",
              "      <td>2</td>\n",
              "      <td>5</td>\n",
              "      <td>36</td>\n",
              "    </tr>\n",
              "    <tr>\n",
              "      <th>2</th>\n",
              "      <td>2019-03</td>\n",
              "      <td>6</td>\n",
              "      <td>2.984784</td>\n",
              "      <td>2019</td>\n",
              "      <td>3</td>\n",
              "      <td>17</td>\n",
              "      <td>76</td>\n",
              "    </tr>\n",
              "    <tr>\n",
              "      <th>3</th>\n",
              "      <td>2019-04</td>\n",
              "      <td>6</td>\n",
              "      <td>0.355404</td>\n",
              "      <td>2019</td>\n",
              "      <td>4</td>\n",
              "      <td>11</td>\n",
              "      <td>101</td>\n",
              "    </tr>\n",
              "    <tr>\n",
              "      <th>4</th>\n",
              "      <td>2019-05</td>\n",
              "      <td>7</td>\n",
              "      <td>0.200305</td>\n",
              "      <td>2019</td>\n",
              "      <td>5</td>\n",
              "      <td>1</td>\n",
              "      <td>121</td>\n",
              "    </tr>\n",
              "    <tr>\n",
              "      <th>5</th>\n",
              "      <td>2019-06</td>\n",
              "      <td>5</td>\n",
              "      <td>61.382124</td>\n",
              "      <td>2019</td>\n",
              "      <td>6</td>\n",
              "      <td>15</td>\n",
              "      <td>166</td>\n",
              "    </tr>\n",
              "    <tr>\n",
              "      <th>6</th>\n",
              "      <td>2019-07</td>\n",
              "      <td>6</td>\n",
              "      <td>25.321462</td>\n",
              "      <td>2019</td>\n",
              "      <td>7</td>\n",
              "      <td>25</td>\n",
              "      <td>206</td>\n",
              "    </tr>\n",
              "    <tr>\n",
              "      <th>7</th>\n",
              "      <td>2019-08</td>\n",
              "      <td>6</td>\n",
              "      <td>52.501521</td>\n",
              "      <td>2019</td>\n",
              "      <td>8</td>\n",
              "      <td>19</td>\n",
              "      <td>231</td>\n",
              "    </tr>\n",
              "    <tr>\n",
              "      <th>8</th>\n",
              "      <td>2019-09</td>\n",
              "      <td>6</td>\n",
              "      <td>38.420651</td>\n",
              "      <td>2019</td>\n",
              "      <td>9</td>\n",
              "      <td>8</td>\n",
              "      <td>251</td>\n",
              "    </tr>\n",
              "    <tr>\n",
              "      <th>9</th>\n",
              "      <td>2019-10</td>\n",
              "      <td>6</td>\n",
              "      <td>34.763734</td>\n",
              "      <td>2019</td>\n",
              "      <td>10</td>\n",
              "      <td>28</td>\n",
              "      <td>301</td>\n",
              "    </tr>\n",
              "    <tr>\n",
              "      <th>10</th>\n",
              "      <td>2019-11</td>\n",
              "      <td>6</td>\n",
              "      <td>28.812340</td>\n",
              "      <td>2019</td>\n",
              "      <td>11</td>\n",
              "      <td>2</td>\n",
              "      <td>306</td>\n",
              "    </tr>\n",
              "    <tr>\n",
              "      <th>11</th>\n",
              "      <td>2019-12</td>\n",
              "      <td>6</td>\n",
              "      <td>6.928885</td>\n",
              "      <td>2019</td>\n",
              "      <td>12</td>\n",
              "      <td>27</td>\n",
              "      <td>361</td>\n",
              "    </tr>\n",
              "    <tr>\n",
              "      <th>12</th>\n",
              "      <td>2020-01</td>\n",
              "      <td>6</td>\n",
              "      <td>6.048869</td>\n",
              "      <td>2020</td>\n",
              "      <td>1</td>\n",
              "      <td>11</td>\n",
              "      <td>11</td>\n",
              "    </tr>\n",
              "    <tr>\n",
              "      <th>13</th>\n",
              "      <td>2020-02</td>\n",
              "      <td>5</td>\n",
              "      <td>19.667815</td>\n",
              "      <td>2020</td>\n",
              "      <td>2</td>\n",
              "      <td>5</td>\n",
              "      <td>36</td>\n",
              "    </tr>\n",
              "    <tr>\n",
              "      <th>14</th>\n",
              "      <td>2020-03</td>\n",
              "      <td>7</td>\n",
              "      <td>8.777887</td>\n",
              "      <td>2020</td>\n",
              "      <td>3</td>\n",
              "      <td>11</td>\n",
              "      <td>71</td>\n",
              "    </tr>\n",
              "    <tr>\n",
              "      <th>15</th>\n",
              "      <td>2020-04</td>\n",
              "      <td>6</td>\n",
              "      <td>0.246134</td>\n",
              "      <td>2020</td>\n",
              "      <td>4</td>\n",
              "      <td>20</td>\n",
              "      <td>111</td>\n",
              "    </tr>\n",
              "    <tr>\n",
              "      <th>16</th>\n",
              "      <td>2020-05</td>\n",
              "      <td>6</td>\n",
              "      <td>16.075766</td>\n",
              "      <td>2020</td>\n",
              "      <td>5</td>\n",
              "      <td>10</td>\n",
              "      <td>131</td>\n",
              "    </tr>\n",
              "    <tr>\n",
              "      <th>17</th>\n",
              "      <td>2020-06</td>\n",
              "      <td>6</td>\n",
              "      <td>63.625009</td>\n",
              "      <td>2020</td>\n",
              "      <td>6</td>\n",
              "      <td>19</td>\n",
              "      <td>171</td>\n",
              "    </tr>\n",
              "    <tr>\n",
              "      <th>18</th>\n",
              "      <td>2020-07</td>\n",
              "      <td>6</td>\n",
              "      <td>16.602519</td>\n",
              "      <td>2020</td>\n",
              "      <td>7</td>\n",
              "      <td>24</td>\n",
              "      <td>206</td>\n",
              "    </tr>\n",
              "    <tr>\n",
              "      <th>19</th>\n",
              "      <td>2020-08</td>\n",
              "      <td>6</td>\n",
              "      <td>26.728040</td>\n",
              "      <td>2020</td>\n",
              "      <td>8</td>\n",
              "      <td>13</td>\n",
              "      <td>226</td>\n",
              "    </tr>\n",
              "    <tr>\n",
              "      <th>20</th>\n",
              "      <td>2020-09</td>\n",
              "      <td>7</td>\n",
              "      <td>6.147412</td>\n",
              "      <td>2020</td>\n",
              "      <td>9</td>\n",
              "      <td>27</td>\n",
              "      <td>271</td>\n",
              "    </tr>\n",
              "    <tr>\n",
              "      <th>21</th>\n",
              "      <td>2020-10</td>\n",
              "      <td>6</td>\n",
              "      <td>5.864685</td>\n",
              "      <td>2020</td>\n",
              "      <td>10</td>\n",
              "      <td>22</td>\n",
              "      <td>296</td>\n",
              "    </tr>\n",
              "    <tr>\n",
              "      <th>22</th>\n",
              "      <td>2020-11</td>\n",
              "      <td>5</td>\n",
              "      <td>52.209438</td>\n",
              "      <td>2020</td>\n",
              "      <td>11</td>\n",
              "      <td>11</td>\n",
              "      <td>316</td>\n",
              "    </tr>\n",
              "    <tr>\n",
              "      <th>23</th>\n",
              "      <td>2020-12</td>\n",
              "      <td>7</td>\n",
              "      <td>6.746043</td>\n",
              "      <td>2020</td>\n",
              "      <td>12</td>\n",
              "      <td>21</td>\n",
              "      <td>356</td>\n",
              "    </tr>\n",
              "  </tbody>\n",
              "</table>\n",
              "</div>"
            ],
            "text/plain": [
              "      Fecha  Imgs  Clouds Perc (%)  Year  Month  Day  DOY\n",
              "0   2019-01     7        11.442228  2019      1   26   26\n",
              "1   2019-02     5         9.898520  2019      2    5   36\n",
              "2   2019-03     6         2.984784  2019      3   17   76\n",
              "3   2019-04     6         0.355404  2019      4   11  101\n",
              "4   2019-05     7         0.200305  2019      5    1  121\n",
              "5   2019-06     5        61.382124  2019      6   15  166\n",
              "6   2019-07     6        25.321462  2019      7   25  206\n",
              "7   2019-08     6        52.501521  2019      8   19  231\n",
              "8   2019-09     6        38.420651  2019      9    8  251\n",
              "9   2019-10     6        34.763734  2019     10   28  301\n",
              "10  2019-11     6        28.812340  2019     11    2  306\n",
              "11  2019-12     6         6.928885  2019     12   27  361\n",
              "12  2020-01     6         6.048869  2020      1   11   11\n",
              "13  2020-02     5        19.667815  2020      2    5   36\n",
              "14  2020-03     7         8.777887  2020      3   11   71\n",
              "15  2020-04     6         0.246134  2020      4   20  111\n",
              "16  2020-05     6        16.075766  2020      5   10  131\n",
              "17  2020-06     6        63.625009  2020      6   19  171\n",
              "18  2020-07     6        16.602519  2020      7   24  206\n",
              "19  2020-08     6        26.728040  2020      8   13  226\n",
              "20  2020-09     7         6.147412  2020      9   27  271\n",
              "21  2020-10     6         5.864685  2020     10   22  296\n",
              "22  2020-11     5        52.209438  2020     11   11  316\n",
              "23  2020-12     7         6.746043  2020     12   21  356"
            ]
          },
          "metadata": {
            "tags": []
          },
          "execution_count": 16
        }
      ]
    },
    {
      "cell_type": "markdown",
      "metadata": {
        "id": "Ovx71J88CJcd"
      },
      "source": [
        "###### Visualizaciones"
      ]
    },
    {
      "cell_type": "code",
      "metadata": {
        "id": "cp3k53ymgG7w",
        "cellView": "form"
      },
      "source": [
        "# @markdown Diccionarios generados: `imgs_2019_id`, `imgs_2020_id` \n",
        "imgs_2019_id = ['COPERNICUS/S2_SR/20190126T151709_20190126T151946_T18LUL',\n",
        "                'COPERNICUS/S2_SR/20190205T151709_20190205T152124_T18LUL',\n",
        "                'COPERNICUS/S2_SR/20190317T151659_20190317T151944_T18LUL',\n",
        "                'COPERNICUS/S2_SR/20190411T151711_20190411T152328_T18LUL',\n",
        "                'COPERNICUS/S2_SR/20190501T151711_20190501T151806_T18LUL',\n",
        "                'COPERNICUS/S2_SR/20190615T151709_20190615T152011_T18LUL',\n",
        "                'COPERNICUS/S2_SR/20190725T151709_20190725T152436_T18LUL',\n",
        "                'COPERNICUS/S2_SR/20190819T151711_20190819T151812_T18LUL',\n",
        "                'COPERNICUS/S2_SR/20190908T151701_20190908T151801_T18LUL',\n",
        "                'COPERNICUS/S2_SR/20191028T151711_20191028T152253_T18LUL',\n",
        "                'COPERNICUS/S2_SR/20191102T151709_20191102T151711_T18LUL',\n",
        "                'COPERNICUS/S2_SR/20191227T151701_20191227T152458_T18LUL']\n",
        "\n",
        "imgs_2020_id = ['COPERNICUS/S2_SR/20200111T151659_20200111T151911_T18LUL',\n",
        "                'COPERNICUS/S2_SR/20200205T151701_20200205T151919_T18LUL',\n",
        "                'COPERNICUS/S2_SR/20200311T151659_20200311T152350_T18LUL',\n",
        "                'COPERNICUS/S2_SR/20200420T151659_20200420T151727_T18LUL',\n",
        "                'COPERNICUS/S2_SR/20200510T151659_20200510T152614_T18LUL',\n",
        "                'COPERNICUS/S2_SR/20200619T151709_20200619T151919_T18LUL',\n",
        "                'COPERNICUS/S2_SR/20200724T151711_20200724T151814_T18LUL',\n",
        "                'COPERNICUS/S2_SR/20200813T151711_20200813T151800_T18LUL',\n",
        "                'COPERNICUS/S2_SR/20200927T151709_20200927T151805_T18LUL',\n",
        "                'COPERNICUS/S2_SR/20201022T151711_20201022T152346_T18LUL',\n",
        "                'COPERNICUS/S2_SR/20201111T151711_20201111T152537_T18LUL',\n",
        "                'COPERNICUS/S2_SR/20201221T151701_20201221T152622_T18LUL']"
      ],
      "execution_count": null,
      "outputs": []
    },
    {
      "cell_type": "code",
      "metadata": {
        "id": "arp_jO8BSFqM"
      },
      "source": [
        "# Composición de Bandas: Sentinel-2\n",
        "# Simple RGB Composites (Sentinel-2): https://github.com/sentinel-hub/custom-scripts/tree/master/sentinel-2/composites\n",
        "\n",
        "True_Color          = ['B4', 'B3', 'B2'] # Natural Color\n",
        "Color_Infrared      = ['B8', 'B4', 'B3'] # False Color\n",
        "Short_Wave_Infrared = ['B12', 'B8A', 'B4']\n",
        "Agriculture         = ['B11', 'B8', 'B2']\n",
        "Geology             = ['B12', 'B11', 'B2']\n",
        "Bathymetric         = ['B4', 'B3', 'B1']"
      ],
      "execution_count": null,
      "outputs": []
    },
    {
      "cell_type": "code",
      "metadata": {
        "cellView": "form",
        "id": "vkg8FG6AhG7Z",
        "colab": {
          "base_uri": "https://localhost:8080/",
          "height": 854
        },
        "outputId": "8a9cbda4-0760-4108-e80a-06fc7511a9e9"
      },
      "source": [
        "# @title Visualización de Mejores imágenes Sentinel-2 (según % de nubosidad)\n",
        "Product_name = imgs_2019_id #@param ['imgs_2019_id', 'imgs_2020_id'] {type:\"raw\"}\n",
        "Bands_composite = Short_Wave_Infrared #@param ['True_Color', 'Color_Infrared', 'Short_Wave_Infrared', 'Agriculture', 'Geology', 'Bathymetric'] {type:\"raw\"}\n",
        "\n",
        "# Diccionario para visualización 2019\n",
        "vis = {}\n",
        "for i in range(12):\n",
        "  vis[\n",
        "      conv_fecha(ee.Image(Product_name[i])), \n",
        "      ee.Image(Product_name[i]).getInfo()['properties']['CLOUDY_PIXEL_PERCENTAGE']\n",
        "      ] = \\\n",
        "      ee.Image(Product_name[i]).multiply(0.0001).getMapId({'min':0,'max':0.3, 'bands':Bands_composite})\n",
        "# vis['area total'] = area_total.geometry().bounds().getInfo()\n",
        "\n",
        "# Visualización de imágenes\n",
        "mapdisplay(centroide, vis, zoom_start=12)"
      ],
      "execution_count": null,
      "outputs": [
        {
          "output_type": "execute_result",
          "data": {
            "text/html": [
              "<div style=\"width:100%;\"><div style=\"position:relative;width:100%;height:0;padding-bottom:60%;\"><span style=\"color:#565656\">Make this Notebook Trusted to load map: File -> Trust Notebook</span><iframe src=\"about:blank\" style=\"position:absolute;width:100%;height:100%;left:0;top:0;border:none !important;\" data-html=%3C%21DOCTYPE%20html%3E%0A%3Chead%3E%20%20%20%20%0A%20%20%20%20%3Cmeta%20http-equiv%3D%22content-type%22%20content%3D%22text/html%3B%20charset%3DUTF-8%22%20/%3E%0A%20%20%20%20%3Cscript%3EL_PREFER_CANVAS%3Dfalse%3B%20L_NO_TOUCH%3Dfalse%3B%20L_DISABLE_3D%3Dfalse%3B%3C/script%3E%0A%20%20%20%20%3Cscript%20src%3D%22https%3A//cdn.jsdelivr.net/npm/leaflet%401.4.0/dist/leaflet.js%22%3E%3C/script%3E%0A%20%20%20%20%3Cscript%20src%3D%22https%3A//code.jquery.com/jquery-1.12.4.min.js%22%3E%3C/script%3E%0A%20%20%20%20%3Cscript%20src%3D%22https%3A//maxcdn.bootstrapcdn.com/bootstrap/3.2.0/js/bootstrap.min.js%22%3E%3C/script%3E%0A%20%20%20%20%3Cscript%20src%3D%22https%3A//cdnjs.cloudflare.com/ajax/libs/Leaflet.awesome-markers/2.0.2/leaflet.awesome-markers.js%22%3E%3C/script%3E%0A%20%20%20%20%3Clink%20rel%3D%22stylesheet%22%20href%3D%22https%3A//cdn.jsdelivr.net/npm/leaflet%401.4.0/dist/leaflet.css%22/%3E%0A%20%20%20%20%3Clink%20rel%3D%22stylesheet%22%20href%3D%22https%3A//maxcdn.bootstrapcdn.com/bootstrap/3.2.0/css/bootstrap.min.css%22/%3E%0A%20%20%20%20%3Clink%20rel%3D%22stylesheet%22%20href%3D%22https%3A//maxcdn.bootstrapcdn.com/bootstrap/3.2.0/css/bootstrap-theme.min.css%22/%3E%0A%20%20%20%20%3Clink%20rel%3D%22stylesheet%22%20href%3D%22https%3A//maxcdn.bootstrapcdn.com/font-awesome/4.6.3/css/font-awesome.min.css%22/%3E%0A%20%20%20%20%3Clink%20rel%3D%22stylesheet%22%20href%3D%22https%3A//cdnjs.cloudflare.com/ajax/libs/Leaflet.awesome-markers/2.0.2/leaflet.awesome-markers.css%22/%3E%0A%20%20%20%20%3Clink%20rel%3D%22stylesheet%22%20href%3D%22https%3A//rawcdn.githack.com/python-visualization/folium/master/folium/templates/leaflet.awesome.rotate.css%22/%3E%0A%20%20%20%20%3Cstyle%3Ehtml%2C%20body%20%7Bwidth%3A%20100%25%3Bheight%3A%20100%25%3Bmargin%3A%200%3Bpadding%3A%200%3B%7D%3C/style%3E%0A%20%20%20%20%3Cstyle%3E%23map%20%7Bposition%3Aabsolute%3Btop%3A0%3Bbottom%3A0%3Bright%3A0%3Bleft%3A0%3B%7D%3C/style%3E%0A%20%20%20%20%0A%20%20%20%20%3Cmeta%20name%3D%22viewport%22%20content%3D%22width%3Ddevice-width%2C%0A%20%20%20%20%20%20%20%20initial-scale%3D1.0%2C%20maximum-scale%3D1.0%2C%20user-scalable%3Dno%22%20/%3E%0A%20%20%20%20%3Cstyle%3E%23map_5db4b867f3314fab959c4b706d7a9e87%20%7B%0A%20%20%20%20%20%20%20%20position%3A%20relative%3B%0A%20%20%20%20%20%20%20%20width%3A%20100.0%25%3B%0A%20%20%20%20%20%20%20%20height%3A%20100.0%25%3B%0A%20%20%20%20%20%20%20%20left%3A%200.0%25%3B%0A%20%20%20%20%20%20%20%20top%3A%200.0%25%3B%0A%20%20%20%20%20%20%20%20%7D%0A%20%20%20%20%3C/style%3E%0A%20%20%20%20%3Cscript%20src%3D%22https%3A//cdnjs.cloudflare.com/ajax/libs/leaflet-minimap/3.6.1/Control.MiniMap.js%22%3E%3C/script%3E%0A%20%20%20%20%3Clink%20rel%3D%22stylesheet%22%20href%3D%22https%3A//cdnjs.cloudflare.com/ajax/libs/leaflet-minimap/3.6.1/Control.MiniMap.css%22/%3E%0A%3C/head%3E%0A%3Cbody%3E%20%20%20%20%0A%20%20%20%20%0A%20%20%20%20%3Cdiv%20class%3D%22folium-map%22%20id%3D%22map_5db4b867f3314fab959c4b706d7a9e87%22%20%3E%3C/div%3E%0A%3C/body%3E%0A%3Cscript%3E%20%20%20%20%0A%20%20%20%20%0A%20%20%20%20%0A%20%20%20%20%20%20%20%20var%20bounds%20%3D%20null%3B%0A%20%20%20%20%0A%0A%20%20%20%20var%20map_5db4b867f3314fab959c4b706d7a9e87%20%3D%20L.map%28%0A%20%20%20%20%20%20%20%20%27map_5db4b867f3314fab959c4b706d7a9e87%27%2C%20%7B%0A%20%20%20%20%20%20%20%20center%3A%20%5B-13.4589%2C%20-76.0908%5D%2C%0A%20%20%20%20%20%20%20%20zoom%3A%2012%2C%0A%20%20%20%20%20%20%20%20maxBounds%3A%20bounds%2C%0A%20%20%20%20%20%20%20%20layers%3A%20%5B%5D%2C%0A%20%20%20%20%20%20%20%20worldCopyJump%3A%20false%2C%0A%20%20%20%20%20%20%20%20crs%3A%20L.CRS.EPSG3857%2C%0A%20%20%20%20%20%20%20%20zoomControl%3A%20true%2C%0A%20%20%20%20%20%20%20%20%7D%29%3B%0AL.control.scale%28%29.addTo%28map_5db4b867f3314fab959c4b706d7a9e87%29%3B%0A%0A%20%20%20%20%0A%20%20%20%20var%20tile_layer_346cb8f21f84447c94ca924a81181852%20%3D%20L.tileLayer%28%0A%20%20%20%20%20%20%20%20%27https%3A//%7Bs%7D.tile.openstreetmap.org/%7Bz%7D/%7Bx%7D/%7By%7D.png%27%2C%0A%20%20%20%20%20%20%20%20%7B%0A%20%20%20%20%20%20%20%20%22attribution%22%3A%20null%2C%0A%20%20%20%20%20%20%20%20%22detectRetina%22%3A%20false%2C%0A%20%20%20%20%20%20%20%20%22maxNativeZoom%22%3A%2018%2C%0A%20%20%20%20%20%20%20%20%22maxZoom%22%3A%2018%2C%0A%20%20%20%20%20%20%20%20%22minZoom%22%3A%200%2C%0A%20%20%20%20%20%20%20%20%22noWrap%22%3A%20false%2C%0A%20%20%20%20%20%20%20%20%22opacity%22%3A%201%2C%0A%20%20%20%20%20%20%20%20%22subdomains%22%3A%20%22abc%22%2C%0A%20%20%20%20%20%20%20%20%22tms%22%3A%20false%0A%7D%29.addTo%28map_5db4b867f3314fab959c4b706d7a9e87%29%3B%0A%20%20%20%20var%20tile_layer_7188ce09f30a4262800d3d5d7340b81b%20%3D%20L.tileLayer%28%0A%20%20%20%20%20%20%20%20%27https%3A//earthengine.googleapis.com/v1alpha/projects/earthengine-legacy/maps/4f82b1e7a0c2a4cd2f6ac6159a10226c-49f62c8f2db4985daef8a07c8d9944fc/tiles/%7Bz%7D/%7Bx%7D/%7By%7D%27%2C%0A%20%20%20%20%20%20%20%20%7B%0A%20%20%20%20%20%20%20%20%22attribution%22%3A%20%22Google%20Earth%20Engine%22%2C%0A%20%20%20%20%20%20%20%20%22detectRetina%22%3A%20false%2C%0A%20%20%20%20%20%20%20%20%22maxNativeZoom%22%3A%2018%2C%0A%20%20%20%20%20%20%20%20%22maxZoom%22%3A%2018%2C%0A%20%20%20%20%20%20%20%20%22minZoom%22%3A%200%2C%0A%20%20%20%20%20%20%20%20%22noWrap%22%3A%20false%2C%0A%20%20%20%20%20%20%20%20%22opacity%22%3A%201%2C%0A%20%20%20%20%20%20%20%20%22subdomains%22%3A%20%22abc%22%2C%0A%20%20%20%20%20%20%20%20%22tms%22%3A%20false%0A%7D%29.addTo%28map_5db4b867f3314fab959c4b706d7a9e87%29%3B%0A%20%20%20%20var%20tile_layer_67d425c46f39419b82cad95f68c2ec19%20%3D%20L.tileLayer%28%0A%20%20%20%20%20%20%20%20%27https%3A//earthengine.googleapis.com/v1alpha/projects/earthengine-legacy/maps/0caa0cd6e3b2e921ff2d80801cd61f5b-923304bf8f1c753ecb40dcc216d9a84a/tiles/%7Bz%7D/%7Bx%7D/%7By%7D%27%2C%0A%20%20%20%20%20%20%20%20%7B%0A%20%20%20%20%20%20%20%20%22attribution%22%3A%20%22Google%20Earth%20Engine%22%2C%0A%20%20%20%20%20%20%20%20%22detectRetina%22%3A%20false%2C%0A%20%20%20%20%20%20%20%20%22maxNativeZoom%22%3A%2018%2C%0A%20%20%20%20%20%20%20%20%22maxZoom%22%3A%2018%2C%0A%20%20%20%20%20%20%20%20%22minZoom%22%3A%200%2C%0A%20%20%20%20%20%20%20%20%22noWrap%22%3A%20false%2C%0A%20%20%20%20%20%20%20%20%22opacity%22%3A%201%2C%0A%20%20%20%20%20%20%20%20%22subdomains%22%3A%20%22abc%22%2C%0A%20%20%20%20%20%20%20%20%22tms%22%3A%20false%0A%7D%29.addTo%28map_5db4b867f3314fab959c4b706d7a9e87%29%3B%0A%20%20%20%20var%20tile_layer_14d32c02a5bf429eb03a0db5411908e9%20%3D%20L.tileLayer%28%0A%20%20%20%20%20%20%20%20%27https%3A//earthengine.googleapis.com/v1alpha/projects/earthengine-legacy/maps/04b6b8a0deb70547ce14d1934ed19eef-4a9b8ea2550a8f1aaa5b4649764a9b54/tiles/%7Bz%7D/%7Bx%7D/%7By%7D%27%2C%0A%20%20%20%20%20%20%20%20%7B%0A%20%20%20%20%20%20%20%20%22attribution%22%3A%20%22Google%20Earth%20Engine%22%2C%0A%20%20%20%20%20%20%20%20%22detectRetina%22%3A%20false%2C%0A%20%20%20%20%20%20%20%20%22maxNativeZoom%22%3A%2018%2C%0A%20%20%20%20%20%20%20%20%22maxZoom%22%3A%2018%2C%0A%20%20%20%20%20%20%20%20%22minZoom%22%3A%200%2C%0A%20%20%20%20%20%20%20%20%22noWrap%22%3A%20false%2C%0A%20%20%20%20%20%20%20%20%22opacity%22%3A%201%2C%0A%20%20%20%20%20%20%20%20%22subdomains%22%3A%20%22abc%22%2C%0A%20%20%20%20%20%20%20%20%22tms%22%3A%20false%0A%7D%29.addTo%28map_5db4b867f3314fab959c4b706d7a9e87%29%3B%0A%20%20%20%20var%20tile_layer_61a9fbba30774dc5bbba42b3a448426c%20%3D%20L.tileLayer%28%0A%20%20%20%20%20%20%20%20%27https%3A//earthengine.googleapis.com/v1alpha/projects/earthengine-legacy/maps/047f70d5eb74aa75262b5d1d09cfd146-d6311c3776f0347a92aa3f232f5b97cc/tiles/%7Bz%7D/%7Bx%7D/%7By%7D%27%2C%0A%20%20%20%20%20%20%20%20%7B%0A%20%20%20%20%20%20%20%20%22attribution%22%3A%20%22Google%20Earth%20Engine%22%2C%0A%20%20%20%20%20%20%20%20%22detectRetina%22%3A%20false%2C%0A%20%20%20%20%20%20%20%20%22maxNativeZoom%22%3A%2018%2C%0A%20%20%20%20%20%20%20%20%22maxZoom%22%3A%2018%2C%0A%20%20%20%20%20%20%20%20%22minZoom%22%3A%200%2C%0A%20%20%20%20%20%20%20%20%22noWrap%22%3A%20false%2C%0A%20%20%20%20%20%20%20%20%22opacity%22%3A%201%2C%0A%20%20%20%20%20%20%20%20%22subdomains%22%3A%20%22abc%22%2C%0A%20%20%20%20%20%20%20%20%22tms%22%3A%20false%0A%7D%29.addTo%28map_5db4b867f3314fab959c4b706d7a9e87%29%3B%0A%20%20%20%20var%20tile_layer_25eac128e6fe4657967b9c993197316c%20%3D%20L.tileLayer%28%0A%20%20%20%20%20%20%20%20%27https%3A//earthengine.googleapis.com/v1alpha/projects/earthengine-legacy/maps/76988696da6be4335adeb82d35017bbd-3e1ef733cfa8933933d26471a1036619/tiles/%7Bz%7D/%7Bx%7D/%7By%7D%27%2C%0A%20%20%20%20%20%20%20%20%7B%0A%20%20%20%20%20%20%20%20%22attribution%22%3A%20%22Google%20Earth%20Engine%22%2C%0A%20%20%20%20%20%20%20%20%22detectRetina%22%3A%20false%2C%0A%20%20%20%20%20%20%20%20%22maxNativeZoom%22%3A%2018%2C%0A%20%20%20%20%20%20%20%20%22maxZoom%22%3A%2018%2C%0A%20%20%20%20%20%20%20%20%22minZoom%22%3A%200%2C%0A%20%20%20%20%20%20%20%20%22noWrap%22%3A%20false%2C%0A%20%20%20%20%20%20%20%20%22opacity%22%3A%201%2C%0A%20%20%20%20%20%20%20%20%22subdomains%22%3A%20%22abc%22%2C%0A%20%20%20%20%20%20%20%20%22tms%22%3A%20false%0A%7D%29.addTo%28map_5db4b867f3314fab959c4b706d7a9e87%29%3B%0A%20%20%20%20var%20tile_layer_a010b95b99a9448d87fe14b3575d3ce9%20%3D%20L.tileLayer%28%0A%20%20%20%20%20%20%20%20%27https%3A//earthengine.googleapis.com/v1alpha/projects/earthengine-legacy/maps/c7c513e0e67f54643abc99622869ad8e-979561018e168a9378acea3775e66c55/tiles/%7Bz%7D/%7Bx%7D/%7By%7D%27%2C%0A%20%20%20%20%20%20%20%20%7B%0A%20%20%20%20%20%20%20%20%22attribution%22%3A%20%22Google%20Earth%20Engine%22%2C%0A%20%20%20%20%20%20%20%20%22detectRetina%22%3A%20false%2C%0A%20%20%20%20%20%20%20%20%22maxNativeZoom%22%3A%2018%2C%0A%20%20%20%20%20%20%20%20%22maxZoom%22%3A%2018%2C%0A%20%20%20%20%20%20%20%20%22minZoom%22%3A%200%2C%0A%20%20%20%20%20%20%20%20%22noWrap%22%3A%20false%2C%0A%20%20%20%20%20%20%20%20%22opacity%22%3A%201%2C%0A%20%20%20%20%20%20%20%20%22subdomains%22%3A%20%22abc%22%2C%0A%20%20%20%20%20%20%20%20%22tms%22%3A%20false%0A%7D%29.addTo%28map_5db4b867f3314fab959c4b706d7a9e87%29%3B%0A%20%20%20%20var%20tile_layer_2348b516b31840889db771a45d5b130d%20%3D%20L.tileLayer%28%0A%20%20%20%20%20%20%20%20%27https%3A//earthengine.googleapis.com/v1alpha/projects/earthengine-legacy/maps/de0018c3438c38db62e677cb7163ece5-a2c34bf8e46da82388ad9ff15cda418d/tiles/%7Bz%7D/%7Bx%7D/%7By%7D%27%2C%0A%20%20%20%20%20%20%20%20%7B%0A%20%20%20%20%20%20%20%20%22attribution%22%3A%20%22Google%20Earth%20Engine%22%2C%0A%20%20%20%20%20%20%20%20%22detectRetina%22%3A%20false%2C%0A%20%20%20%20%20%20%20%20%22maxNativeZoom%22%3A%2018%2C%0A%20%20%20%20%20%20%20%20%22maxZoom%22%3A%2018%2C%0A%20%20%20%20%20%20%20%20%22minZoom%22%3A%200%2C%0A%20%20%20%20%20%20%20%20%22noWrap%22%3A%20false%2C%0A%20%20%20%20%20%20%20%20%22opacity%22%3A%201%2C%0A%20%20%20%20%20%20%20%20%22subdomains%22%3A%20%22abc%22%2C%0A%20%20%20%20%20%20%20%20%22tms%22%3A%20false%0A%7D%29.addTo%28map_5db4b867f3314fab959c4b706d7a9e87%29%3B%0A%20%20%20%20var%20tile_layer_f884b44916a746a29b20b36925c9bfd1%20%3D%20L.tileLayer%28%0A%20%20%20%20%20%20%20%20%27https%3A//earthengine.googleapis.com/v1alpha/projects/earthengine-legacy/maps/00e25dcfa619e016a9b0e0488ac1b181-2af4ab3a921963afaa78d675dd01772f/tiles/%7Bz%7D/%7Bx%7D/%7By%7D%27%2C%0A%20%20%20%20%20%20%20%20%7B%0A%20%20%20%20%20%20%20%20%22attribution%22%3A%20%22Google%20Earth%20Engine%22%2C%0A%20%20%20%20%20%20%20%20%22detectRetina%22%3A%20false%2C%0A%20%20%20%20%20%20%20%20%22maxNativeZoom%22%3A%2018%2C%0A%20%20%20%20%20%20%20%20%22maxZoom%22%3A%2018%2C%0A%20%20%20%20%20%20%20%20%22minZoom%22%3A%200%2C%0A%20%20%20%20%20%20%20%20%22noWrap%22%3A%20false%2C%0A%20%20%20%20%20%20%20%20%22opacity%22%3A%201%2C%0A%20%20%20%20%20%20%20%20%22subdomains%22%3A%20%22abc%22%2C%0A%20%20%20%20%20%20%20%20%22tms%22%3A%20false%0A%7D%29.addTo%28map_5db4b867f3314fab959c4b706d7a9e87%29%3B%0A%20%20%20%20var%20tile_layer_c4c6f5f41dbe4720b2d4c00d8508685e%20%3D%20L.tileLayer%28%0A%20%20%20%20%20%20%20%20%27https%3A//earthengine.googleapis.com/v1alpha/projects/earthengine-legacy/maps/4484f13fffefb2569ab3ccc583c24ce4-50c5d359d554cc15a7d5a4b7c088ca34/tiles/%7Bz%7D/%7Bx%7D/%7By%7D%27%2C%0A%20%20%20%20%20%20%20%20%7B%0A%20%20%20%20%20%20%20%20%22attribution%22%3A%20%22Google%20Earth%20Engine%22%2C%0A%20%20%20%20%20%20%20%20%22detectRetina%22%3A%20false%2C%0A%20%20%20%20%20%20%20%20%22maxNativeZoom%22%3A%2018%2C%0A%20%20%20%20%20%20%20%20%22maxZoom%22%3A%2018%2C%0A%20%20%20%20%20%20%20%20%22minZoom%22%3A%200%2C%0A%20%20%20%20%20%20%20%20%22noWrap%22%3A%20false%2C%0A%20%20%20%20%20%20%20%20%22opacity%22%3A%201%2C%0A%20%20%20%20%20%20%20%20%22subdomains%22%3A%20%22abc%22%2C%0A%20%20%20%20%20%20%20%20%22tms%22%3A%20false%0A%7D%29.addTo%28map_5db4b867f3314fab959c4b706d7a9e87%29%3B%0A%20%20%20%20var%20tile_layer_7978b7e3977944b2b1f303d1c01ab4e8%20%3D%20L.tileLayer%28%0A%20%20%20%20%20%20%20%20%27https%3A//earthengine.googleapis.com/v1alpha/projects/earthengine-legacy/maps/3fbcd55806d8f0ad8e299454f5243679-9f7e82d56c1ebb106add114fb16c645a/tiles/%7Bz%7D/%7Bx%7D/%7By%7D%27%2C%0A%20%20%20%20%20%20%20%20%7B%0A%20%20%20%20%20%20%20%20%22attribution%22%3A%20%22Google%20Earth%20Engine%22%2C%0A%20%20%20%20%20%20%20%20%22detectRetina%22%3A%20false%2C%0A%20%20%20%20%20%20%20%20%22maxNativeZoom%22%3A%2018%2C%0A%20%20%20%20%20%20%20%20%22maxZoom%22%3A%2018%2C%0A%20%20%20%20%20%20%20%20%22minZoom%22%3A%200%2C%0A%20%20%20%20%20%20%20%20%22noWrap%22%3A%20false%2C%0A%20%20%20%20%20%20%20%20%22opacity%22%3A%201%2C%0A%20%20%20%20%20%20%20%20%22subdomains%22%3A%20%22abc%22%2C%0A%20%20%20%20%20%20%20%20%22tms%22%3A%20false%0A%7D%29.addTo%28map_5db4b867f3314fab959c4b706d7a9e87%29%3B%0A%20%20%20%20var%20tile_layer_10700d1066744080b658f4566790b92d%20%3D%20L.tileLayer%28%0A%20%20%20%20%20%20%20%20%27https%3A//earthengine.googleapis.com/v1alpha/projects/earthengine-legacy/maps/84f5d9835bb4f6e46f0031c83001a137-28dbaccaa7548ed8412932cce4bdf1a5/tiles/%7Bz%7D/%7Bx%7D/%7By%7D%27%2C%0A%20%20%20%20%20%20%20%20%7B%0A%20%20%20%20%20%20%20%20%22attribution%22%3A%20%22Google%20Earth%20Engine%22%2C%0A%20%20%20%20%20%20%20%20%22detectRetina%22%3A%20false%2C%0A%20%20%20%20%20%20%20%20%22maxNativeZoom%22%3A%2018%2C%0A%20%20%20%20%20%20%20%20%22maxZoom%22%3A%2018%2C%0A%20%20%20%20%20%20%20%20%22minZoom%22%3A%200%2C%0A%20%20%20%20%20%20%20%20%22noWrap%22%3A%20false%2C%0A%20%20%20%20%20%20%20%20%22opacity%22%3A%201%2C%0A%20%20%20%20%20%20%20%20%22subdomains%22%3A%20%22abc%22%2C%0A%20%20%20%20%20%20%20%20%22tms%22%3A%20false%0A%7D%29.addTo%28map_5db4b867f3314fab959c4b706d7a9e87%29%3B%0A%20%20%20%20var%20tile_layer_e0681791177840cb9a34b9dd0aa48da5%20%3D%20L.tileLayer%28%0A%20%20%20%20%20%20%20%20%27https%3A//earthengine.googleapis.com/v1alpha/projects/earthengine-legacy/maps/97d084c807a5bfceed93d055329386be-a78276f83cd7c17b2faea38107e876b5/tiles/%7Bz%7D/%7Bx%7D/%7By%7D%27%2C%0A%20%20%20%20%20%20%20%20%7B%0A%20%20%20%20%20%20%20%20%22attribution%22%3A%20%22Google%20Earth%20Engine%22%2C%0A%20%20%20%20%20%20%20%20%22detectRetina%22%3A%20false%2C%0A%20%20%20%20%20%20%20%20%22maxNativeZoom%22%3A%2018%2C%0A%20%20%20%20%20%20%20%20%22maxZoom%22%3A%2018%2C%0A%20%20%20%20%20%20%20%20%22minZoom%22%3A%200%2C%0A%20%20%20%20%20%20%20%20%22noWrap%22%3A%20false%2C%0A%20%20%20%20%20%20%20%20%22opacity%22%3A%201%2C%0A%20%20%20%20%20%20%20%20%22subdomains%22%3A%20%22abc%22%2C%0A%20%20%20%20%20%20%20%20%22tms%22%3A%20false%0A%7D%29.addTo%28map_5db4b867f3314fab959c4b706d7a9e87%29%3B%0A%20%20%20%20%0A%0A%20%20%20%20%20%20%20%20var%20tile_layer_ad1049f4d5804925adf37a84f6dfdcf8%20%3D%20L.tileLayer%28%0A%20%20%20%20%20%20%20%20%27https%3A//%7Bs%7D.tile.openstreetmap.org/%7Bz%7D/%7Bx%7D/%7By%7D.png%27%2C%0A%20%20%20%20%20%20%20%20%7B%0A%20%20%20%20%20%20%20%20%22attribution%22%3A%20null%2C%0A%20%20%20%20%20%20%20%20%22detectRetina%22%3A%20false%2C%0A%20%20%20%20%20%20%20%20%22maxNativeZoom%22%3A%2018%2C%0A%20%20%20%20%20%20%20%20%22maxZoom%22%3A%2018%2C%0A%20%20%20%20%20%20%20%20%22minZoom%22%3A%200%2C%0A%20%20%20%20%20%20%20%20%22noWrap%22%3A%20false%2C%0A%20%20%20%20%20%20%20%20%22opacity%22%3A%201%2C%0A%20%20%20%20%20%20%20%20%22subdomains%22%3A%20%22abc%22%2C%0A%20%20%20%20%20%20%20%20%22tms%22%3A%20false%0A%7D%20%29%3B%0A%0A%20%20%20%20%20%20%20%20var%20mini_map_aa99d4713dcd4cb1b303783c37d67e5e%20%3D%20new%20L.Control.MiniMap%28%20tile_layer_ad1049f4d5804925adf37a84f6dfdcf8%2C%0A%20%20%20%20%20%20%20%20%20%7B%0A%20%20%22autoToggleDisplay%22%3A%20false%2C%0A%20%20%22centerFixed%22%3A%20false%2C%0A%20%20%22collapsedHeight%22%3A%2025%2C%0A%20%20%22collapsedWidth%22%3A%2025%2C%0A%20%20%22height%22%3A%20150%2C%0A%20%20%22minimized%22%3A%20false%2C%0A%20%20%22position%22%3A%20%22bottomright%22%2C%0A%20%20%22toggleDisplay%22%3A%20false%2C%0A%20%20%22width%22%3A%20150%2C%0A%20%20%22zoomAnimation%22%3A%20false%2C%0A%20%20%22zoomLevelFixed%22%3A%207%2C%0A%20%20%22zoomLevelOffset%22%3A%20-5%0A%7D%29%3B%0A%20%20%20%20%20%20%20%20map_5db4b867f3314fab959c4b706d7a9e87.addControl%28mini_map_aa99d4713dcd4cb1b303783c37d67e5e%29%3B%0A%0A%20%20%20%20%20%20%20%20%0A%20%20%20%20%0A%20%20%20%20%20%20%20%20%20%20%20%20var%20layer_control_bf6cddc4cd734ad09848c3c5e99c9182%20%3D%20%7B%0A%20%20%20%20%20%20%20%20%20%20%20%20%20%20%20%20base_layers%20%3A%20%7B%20%22openstreetmap%22%20%3A%20tile_layer_346cb8f21f84447c94ca924a81181852%2C%20%7D%2C%0A%20%20%20%20%20%20%20%20%20%20%20%20%20%20%20%20overlays%20%3A%20%7B%20%22%28%272019-01-26%2015%3A26%3A47%27%2C%2011.442228%29%22%20%3A%20tile_layer_7188ce09f30a4262800d3d5d7340b81b%2C%22%28%272019-02-05%2015%3A26%3A47%27%2C%209.89852%29%22%20%3A%20tile_layer_67d425c46f39419b82cad95f68c2ec19%2C%22%28%272019-03-17%2015%3A26%3A45%27%2C%202.984784%29%22%20%3A%20tile_layer_14d32c02a5bf429eb03a0db5411908e9%2C%22%28%272019-04-11%2015%3A26%3A48%27%2C%200.355404%29%22%20%3A%20tile_layer_61a9fbba30774dc5bbba42b3a448426c%2C%22%28%272019-05-01%2015%3A26%3A50%27%2C%200.200305%29%22%20%3A%20tile_layer_25eac128e6fe4657967b9c993197316c%2C%22%28%272019-06-15%2015%3A26%3A54%27%2C%2061.382124%29%22%20%3A%20tile_layer_a010b95b99a9448d87fe14b3575d3ce9%2C%22%28%272019-07-25%2015%3A26%3A55%27%2C%2025.321462%29%22%20%3A%20tile_layer_2348b516b31840889db771a45d5b130d%2C%22%28%272019-08-19%2015%3A26%3A49%27%2C%2052.501521%29%22%20%3A%20tile_layer_f884b44916a746a29b20b36925c9bfd1%2C%22%28%272019-09-08%2015%3A26%3A45%27%2C%2038.420651%29%22%20%3A%20tile_layer_c4c6f5f41dbe4720b2d4c00d8508685e%2C%22%28%272019-10-28%2015%3A26%3A50%27%2C%2034.763734%29%22%20%3A%20tile_layer_7978b7e3977944b2b1f303d1c01ab4e8%2C%22%28%272019-11-02%2015%3A26%3A47%27%2C%2028.81234%29%22%20%3A%20tile_layer_10700d1066744080b658f4566790b92d%2C%22%28%272019-12-27%2015%3A26%3A41%27%2C%206.928885%29%22%20%3A%20tile_layer_e0681791177840cb9a34b9dd0aa48da5%2C%20%7D%0A%20%20%20%20%20%20%20%20%20%20%20%20%20%20%20%20%7D%3B%0A%20%20%20%20%20%20%20%20%20%20%20%20L.control.layers%28%0A%20%20%20%20%20%20%20%20%20%20%20%20%20%20%20%20layer_control_bf6cddc4cd734ad09848c3c5e99c9182.base_layers%2C%0A%20%20%20%20%20%20%20%20%20%20%20%20%20%20%20%20layer_control_bf6cddc4cd734ad09848c3c5e99c9182.overlays%2C%0A%20%20%20%20%20%20%20%20%20%20%20%20%20%20%20%20%7Bposition%3A%20%27topright%27%2C%0A%20%20%20%20%20%20%20%20%20%20%20%20%20%20%20%20%20collapsed%3A%20true%2C%0A%20%20%20%20%20%20%20%20%20%20%20%20%20%20%20%20%20autoZIndex%3A%20true%0A%20%20%20%20%20%20%20%20%20%20%20%20%20%20%20%20%7D%29.addTo%28map_5db4b867f3314fab959c4b706d7a9e87%29%3B%0A%20%20%20%20%20%20%20%20%20%20%20%20%0A%20%20%20%20%20%20%20%20%0A%3C/script%3E onload=\"this.contentDocument.open();this.contentDocument.write(    decodeURIComponent(this.getAttribute('data-html')));this.contentDocument.close();\" allowfullscreen webkitallowfullscreen mozallowfullscreen></iframe></div></div>"
            ],
            "text/plain": [
              "<folium.folium.Map at 0x7f81c828dc50>"
            ]
          },
          "metadata": {
            "tags": []
          },
          "execution_count": 8
        }
      ]
    },
    {
      "cell_type": "markdown",
      "metadata": {
        "id": "cA6AXJTulkBT"
      },
      "source": [
        "##### ***2. Visualización de imágenes Sentinel-2 (2019)***"
      ]
    },
    {
      "cell_type": "code",
      "metadata": {
        "id": "2O9kIgsRd4cd",
        "cellView": "form"
      },
      "source": [
        "# @markdown Generación de diccionario: 2019 (Generar) (3min 7s aprox.)\n",
        "meses_2019 = create_dateranges('2019','month', 1, 12)\n",
        "\n",
        "# Filtrar ImageCollection con list comprenhension\n",
        "imgs_2019 = [\n",
        "    ee.ImageCollection('COPERNICUS/S2_SR')\n",
        "    .filterDate(meses_2019[i][0], meses_2019[i][1])\n",
        "    .filterBounds(ee.Geometry.Point(-76.13, -13.48)) for i in range(12)\n",
        "    ]\n",
        "\n",
        "# Listar cantidad de imágenes por mes\n",
        "imgs_2019_size = [imgs_2019[i].size().getInfo() for i in range(12)]\n",
        "\n",
        "# Generar diccionario de IDs\n",
        "icol_monthly_19 = {}\n",
        "for i in range(12):\n",
        "  IDs = []\n",
        "  icol_monthly_19[i+1] = IDs\n",
        "  for j in range(imgs_2019_size[i]):\n",
        "    IDs.append(ee.Image(imgs_2019[i].getInfo()['features'][j]['id'])) \n",
        "    # Quitar el ee.Image() para obtener solamente IDs\n",
        "\n",
        "# icol_monthly_19"
      ],
      "execution_count": null,
      "outputs": []
    },
    {
      "cell_type": "code",
      "metadata": {
        "id": "sv5lZwBlOe5r",
        "cellView": "form"
      },
      "source": [
        "# @markdown Diccionario de IDs - Año 2019 (**Sin Depurar**): **`icol_monthly_19`**\n",
        "icol_monthly_19 = {\n",
        "    1: [\n",
        "        'COPERNICUS/S2_SR/20190101T151701_20190101T152509_T18LUL',\n",
        "        'COPERNICUS/S2_SR/20190106T151659_20190106T152408_T18LUL',\n",
        "        'COPERNICUS/S2_SR/20190111T151701_20190111T152441_T18LUL',\n",
        "        'COPERNICUS/S2_SR/20190116T151709_20190116T152029_T18LUL',\n",
        "        'COPERNICUS/S2_SR/20190121T151701_20190121T152511_T18LUL',\n",
        "        'COPERNICUS/S2_SR/20190126T151709_20190126T151946_T18LUL',\n",
        "        'COPERNICUS/S2_SR/20190131T151701_20190131T152414_T18LUL'\n",
        "    ],\n",
        "    2: [\n",
        "        'COPERNICUS/S2_SR/20190205T151709_20190205T152124_T18LUL',\n",
        "        'COPERNICUS/S2_SR/20190210T151701_20190210T152316_T18LUL',\n",
        "        'COPERNICUS/S2_SR/20190215T151709_20190215T152351_T18LUL',\n",
        "        'COPERNICUS/S2_SR/20190220T151701_20190220T152217_T18LUL',\n",
        "        'COPERNICUS/S2_SR/20190225T151659_20190225T152600_T18LUL'\n",
        "    ],\n",
        "    3: [\n",
        "        'COPERNICUS/S2_SR/20190302T151701_20190302T152249_T18LUL',\n",
        "        'COPERNICUS/S2_SR/20190307T151659_20190307T152331_T18LUL',\n",
        "        'COPERNICUS/S2_SR/20190312T151701_20190312T152039_T18LUL',\n",
        "        'COPERNICUS/S2_SR/20190317T151659_20190317T151944_T18LUL',\n",
        "        'COPERNICUS/S2_SR/20190322T151701_20190322T152502_T18LUL',\n",
        "        'COPERNICUS/S2_SR/20190327T151709_20190327T152150_T18LUL'\n",
        "    ],\n",
        "    4: [\n",
        "        'COPERNICUS/S2_SR/20190401T151701_20190401T151805_T18LUL',\n",
        "        'COPERNICUS/S2_SR/20190406T151709_20190406T151801_T18LUL',\n",
        "        'COPERNICUS/S2_SR/20190411T151711_20190411T152328_T18LUL',\n",
        "        'COPERNICUS/S2_SR/20190416T151709_20190416T151709_T18LUL',\n",
        "        'COPERNICUS/S2_SR/20190421T151711_20190421T151707_T18LUL',\n",
        "        'COPERNICUS/S2_SR/20190426T151709_20190426T151711_T18LUL'\n",
        "    ],\n",
        "    5: [\n",
        "        'COPERNICUS/S2_SR/20190501T151711_20190501T151806_T18LUL',\n",
        "        'COPERNICUS/S2_SR/20190506T151709_20190506T152222_T18LUL',\n",
        "        'COPERNICUS/S2_SR/20190511T151711_20190511T152359_T18LUL',\n",
        "        'COPERNICUS/S2_SR/20190516T151709_20190516T152114_T18LUL',\n",
        "        'COPERNICUS/S2_SR/20190521T151711_20190521T152413_T18LUL',\n",
        "        'COPERNICUS/S2_SR/20190526T151709_20190526T151712_T18LUL',\n",
        "        'COPERNICUS/S2_SR/20190531T151711_20190531T151804_T18LUL'\n",
        "    ],\n",
        "    6: [\n",
        "        'COPERNICUS/S2_SR/20190605T151709_20190605T151911_T18LUL',\n",
        "        'COPERNICUS/S2_SR/20190610T151711_20190610T151847_T18LUL',\n",
        "        'COPERNICUS/S2_SR/20190615T151709_20190615T152011_T18LUL',\n",
        "        'COPERNICUS/S2_SR/20190620T151711_20190620T151730_T18LUL',\n",
        "        'COPERNICUS/S2_SR/20190630T151711_20190630T152556_T18LUL'\n",
        "    ],\n",
        "    7: [\n",
        "        'COPERNICUS/S2_SR/20190705T151709_20190705T151712_T18LUL',\n",
        "        'COPERNICUS/S2_SR/20190710T151711_20190710T151846_T18LUL',\n",
        "        'COPERNICUS/S2_SR/20190715T151709_20190715T151712_T18LUL',\n",
        "        'COPERNICUS/S2_SR/20190720T151711_20190720T151709_T18LUL',\n",
        "        'COPERNICUS/S2_SR/20190725T151709_20190725T152436_T18LUL',\n",
        "        'COPERNICUS/S2_SR/20190730T151711_20190730T151807_T18LUL'\n",
        "    ],\n",
        "    8: [\n",
        "        'COPERNICUS/S2_SR/20190804T151709_20190804T151711_T18LUL',\n",
        "        'COPERNICUS/S2_SR/20190809T151711_20190809T151806_T18LUL',\n",
        "        'COPERNICUS/S2_SR/20190814T151709_20190814T152546_T18LUL',\n",
        "        'COPERNICUS/S2_SR/20190819T151711_20190819T151812_T18LUL',\n",
        "        'COPERNICUS/S2_SR/20190824T151709_20190824T152602_T18LUL',\n",
        "        'COPERNICUS/S2_SR/20190829T151711_20190829T152353_T18LUL'\n",
        "    ],\n",
        "    9: [\n",
        "        'COPERNICUS/S2_SR/20190903T151709_20190903T152220_T18LUL',\n",
        "        'COPERNICUS/S2_SR/20190908T151701_20190908T151801_T18LUL',\n",
        "        'COPERNICUS/S2_SR/20190913T151709_20190913T152341_T18LUL',\n",
        "        'COPERNICUS/S2_SR/20190918T151701_20190918T151704_T18LUL',\n",
        "        'COPERNICUS/S2_SR/20190923T151709_20190923T151819_T18LUL',\n",
        "        'COPERNICUS/S2_SR/20190928T151711_20190928T151940_T18LUL'\n",
        "    ],\n",
        "    10: [\n",
        "        'COPERNICUS/S2_SR/20191003T151709_20191003T152153_T18LUL',\n",
        "        'COPERNICUS/S2_SR/20191008T151711_20191008T152046_T18LUL',\n",
        "        'COPERNICUS/S2_SR/20191013T151709_20191013T152534_T18LUL',\n",
        "        'COPERNICUS/S2_SR/20191018T151711_20191018T151707_T18LUL',\n",
        "        'COPERNICUS/S2_SR/20191023T151709_20191023T152603_T18LUL',\n",
        "        'COPERNICUS/S2_SR/20191028T151711_20191028T152253_T18LUL'\n",
        "    ],\n",
        "    11: [\n",
        "        'COPERNICUS/S2_SR/20191102T151709_20191102T151711_T18LUL',\n",
        "        'COPERNICUS/S2_SR/20191107T151711_20191107T152351_T18LUL',\n",
        "        'COPERNICUS/S2_SR/20191112T151709_20191112T151801_T18LUL',\n",
        "        'COPERNICUS/S2_SR/20191117T151711_20191117T152440_T18LUL',\n",
        "        'COPERNICUS/S2_SR/20191122T151659_20191122T151842_T18LUL',\n",
        "        'COPERNICUS/S2_SR/20191127T151701_20191127T152504_T18LUL'\n",
        "    ],\n",
        "    12: [\n",
        "        'COPERNICUS/S2_SR/20191202T151659_20191202T151911_T18LUL',\n",
        "        'COPERNICUS/S2_SR/20191207T151701_20191207T152501_T18LUL',\n",
        "        'COPERNICUS/S2_SR/20191212T151659_20191212T152415_T18LUL',\n",
        "        'COPERNICUS/S2_SR/20191217T151701_20191217T152458_T18LUL',\n",
        "        'COPERNICUS/S2_SR/20191222T151659_20191222T151941_T18LUL',\n",
        "        'COPERNICUS/S2_SR/20191227T151701_20191227T152458_T18LUL'\n",
        "    ]\n",
        "}"
      ],
      "execution_count": null,
      "outputs": []
    },
    {
      "cell_type": "code",
      "metadata": {
        "id": "p4nbM-nMv7MK",
        "cellView": "form"
      },
      "source": [
        "# @markdown Diccionario de IDs - Año 2019 (**Depurado**): \n",
        "icol_monthly_19 = {\n",
        "    1: [\n",
        "        'COPERNICUS/S2_SR/20190101T151701_20190101T152509_T18LUL',\n",
        "        'COPERNICUS/S2_SR/20190106T151659_20190106T152408_T18LUL',\n",
        "        'COPERNICUS/S2_SR/20190111T151701_20190111T152441_T18LUL',\n",
        "        'COPERNICUS/S2_SR/20190116T151709_20190116T152029_T18LUL',\n",
        "        'COPERNICUS/S2_SR/20190121T151701_20190121T152511_T18LUL',\n",
        "        'COPERNICUS/S2_SR/20190126T151709_20190126T151946_T18LUL',\n",
        "        'COPERNICUS/S2_SR/20190131T151701_20190131T152414_T18LUL'\n",
        "    ],\n",
        "    2: [\n",
        "        'COPERNICUS/S2_SR/20190205T151709_20190205T152124_T18LUL',\n",
        "        'COPERNICUS/S2_SR/20190210T151701_20190210T152316_T18LUL',\n",
        "        'COPERNICUS/S2_SR/20190215T151709_20190215T152351_T18LUL',\n",
        "        'COPERNICUS/S2_SR/20190220T151701_20190220T152217_T18LUL',\n",
        "        'COPERNICUS/S2_SR/20190225T151659_20190225T152600_T18LUL'\n",
        "    ],\n",
        "    3: [\n",
        "        'COPERNICUS/S2_SR/20190302T151701_20190302T152249_T18LUL',\n",
        "        'COPERNICUS/S2_SR/20190307T151659_20190307T152331_T18LUL',\n",
        "        'COPERNICUS/S2_SR/20190312T151701_20190312T152039_T18LUL',\n",
        "        'COPERNICUS/S2_SR/20190317T151659_20190317T151944_T18LUL',\n",
        "        'COPERNICUS/S2_SR/20190322T151701_20190322T152502_T18LUL',\n",
        "        'COPERNICUS/S2_SR/20190327T151709_20190327T152150_T18LUL'\n",
        "    ],\n",
        "    4: [\n",
        "        'COPERNICUS/S2_SR/20190401T151701_20190401T151805_T18LUL',\n",
        "        'COPERNICUS/S2_SR/20190406T151709_20190406T151801_T18LUL',\n",
        "        'COPERNICUS/S2_SR/20190411T151711_20190411T152328_T18LUL',\n",
        "        'COPERNICUS/S2_SR/20190416T151709_20190416T151709_T18LUL',\n",
        "        'COPERNICUS/S2_SR/20190421T151711_20190421T151707_T18LUL',\n",
        "        'COPERNICUS/S2_SR/20190426T151709_20190426T151711_T18LUL'\n",
        "    ],\n",
        "    5: [\n",
        "        'COPERNICUS/S2_SR/20190501T151711_20190501T151806_T18LUL',\n",
        "        'COPERNICUS/S2_SR/20190506T151709_20190506T152222_T18LUL',\n",
        "        'COPERNICUS/S2_SR/20190511T151711_20190511T152359_T18LUL',\n",
        "        'COPERNICUS/S2_SR/20190516T151709_20190516T152114_T18LUL',\n",
        "        'COPERNICUS/S2_SR/20190521T151711_20190521T152413_T18LUL',\n",
        "        'COPERNICUS/S2_SR/20190526T151709_20190526T151712_T18LUL',\n",
        "        'COPERNICUS/S2_SR/20190531T151711_20190531T151804_T18LUL'\n",
        "    ],\n",
        "    6: [\n",
        "        'COPERNICUS/S2_SR/20190605T151709_20190605T151911_T18LUL',\n",
        "        'COPERNICUS/S2_SR/20190610T151711_20190610T151847_T18LUL',\n",
        "        'COPERNICUS/S2_SR/20190615T151709_20190615T152011_T18LUL',\n",
        "        'COPERNICUS/S2_SR/20190620T151711_20190620T151730_T18LUL',\n",
        "        'COPERNICUS/S2_SR/20190630T151711_20190630T152556_T18LUL'\n",
        "    ],\n",
        "    7: [\n",
        "        'COPERNICUS/S2_SR/20190705T151709_20190705T151712_T18LUL',\n",
        "        'COPERNICUS/S2_SR/20190710T151711_20190710T151846_T18LUL',\n",
        "        'COPERNICUS/S2_SR/20190715T151709_20190715T151712_T18LUL',\n",
        "        'COPERNICUS/S2_SR/20190720T151711_20190720T151709_T18LUL',\n",
        "        'COPERNICUS/S2_SR/20190725T151709_20190725T152436_T18LUL',\n",
        "        'COPERNICUS/S2_SR/20190730T151711_20190730T151807_T18LUL'\n",
        "    ],\n",
        "    8: [\n",
        "        'COPERNICUS/S2_SR/20190804T151709_20190804T151711_T18LUL',\n",
        "        'COPERNICUS/S2_SR/20190809T151711_20190809T151806_T18LUL',\n",
        "        'COPERNICUS/S2_SR/20190814T151709_20190814T152546_T18LUL',\n",
        "        'COPERNICUS/S2_SR/20190819T151711_20190819T151812_T18LUL',\n",
        "        'COPERNICUS/S2_SR/20190824T151709_20190824T152602_T18LUL',\n",
        "        'COPERNICUS/S2_SR/20190829T151711_20190829T152353_T18LUL'\n",
        "    ],\n",
        "    9: [\n",
        "        'COPERNICUS/S2_SR/20190903T151709_20190903T152220_T18LUL',\n",
        "        'COPERNICUS/S2_SR/20190908T151701_20190908T151801_T18LUL',\n",
        "        'COPERNICUS/S2_SR/20190913T151709_20190913T152341_T18LUL',\n",
        "        'COPERNICUS/S2_SR/20190918T151701_20190918T151704_T18LUL',\n",
        "        'COPERNICUS/S2_SR/20190923T151709_20190923T151819_T18LUL',\n",
        "        'COPERNICUS/S2_SR/20190928T151711_20190928T151940_T18LUL'\n",
        "    ],\n",
        "    10: [\n",
        "        'COPERNICUS/S2_SR/20191003T151709_20191003T152153_T18LUL',\n",
        "        'COPERNICUS/S2_SR/20191008T151711_20191008T152046_T18LUL',\n",
        "        'COPERNICUS/S2_SR/20191013T151709_20191013T152534_T18LUL',\n",
        "        'COPERNICUS/S2_SR/20191018T151711_20191018T151707_T18LUL',\n",
        "        'COPERNICUS/S2_SR/20191023T151709_20191023T152603_T18LUL',\n",
        "        'COPERNICUS/S2_SR/20191028T151711_20191028T152253_T18LUL'\n",
        "    ],\n",
        "    11: [\n",
        "        'COPERNICUS/S2_SR/20191102T151709_20191102T151711_T18LUL',\n",
        "        'COPERNICUS/S2_SR/20191107T151711_20191107T152351_T18LUL',\n",
        "        'COPERNICUS/S2_SR/20191112T151709_20191112T151801_T18LUL',\n",
        "        'COPERNICUS/S2_SR/20191117T151711_20191117T152440_T18LUL',\n",
        "        'COPERNICUS/S2_SR/20191122T151659_20191122T151842_T18LUL',\n",
        "        'COPERNICUS/S2_SR/20191127T151701_20191127T152504_T18LUL'\n",
        "    ],\n",
        "    12: [\n",
        "        'COPERNICUS/S2_SR/20191202T151659_20191202T151911_T18LUL',\n",
        "        'COPERNICUS/S2_SR/20191207T151701_20191207T152501_T18LUL',\n",
        "        'COPERNICUS/S2_SR/20191212T151659_20191212T152415_T18LUL',\n",
        "        'COPERNICUS/S2_SR/20191217T151701_20191217T152458_T18LUL',\n",
        "        'COPERNICUS/S2_SR/20191222T151659_20191222T151941_T18LUL',\n",
        "        'COPERNICUS/S2_SR/20191227T151701_20191227T152458_T18LUL'\n",
        "    ]\n",
        "}"
      ],
      "execution_count": null,
      "outputs": []
    },
    {
      "cell_type": "code",
      "metadata": {
        "id": "J0aCJAxCvDAb"
      },
      "source": [
        "def dividir_y_cortar(image, roi_clip):\n",
        "  \"\"\"Retorna una imagen dividida entre 10000 y cortada por un roi_clip.\"\"\"\n",
        "  return image.divide(10000).clip(roi_clip)\n",
        "\n",
        "def get_cloud_perc(image):\n",
        "  \"\"\"Retorna el porcentaje de nubosidad de una imagen.\"\"\"\n",
        "  return image.getInfo()['properties']['CLOUDY_PIXEL_PERCENTAGE']"
      ],
      "execution_count": null,
      "outputs": []
    },
    {
      "cell_type": "code",
      "metadata": {
        "id": "LGL2APepjvFm",
        "colab": {
          "base_uri": "https://localhost:8080/",
          "height": 854
        },
        "outputId": "7d7fae55-af7b-4528-ca18-aa1e89ffc3e2"
      },
      "source": [
        "# @markdown Visualización de Imágenes 2019: Por meses\n",
        "\n",
        "mes = 1 #@param [1,2,3,4,5,6,7,8,9,10,11,12] {type:\"raw\"}\n",
        "Natural_Color  = ['B4', 'B3', 'B2']\n",
        "\n",
        "# Diccionario para visualización\n",
        "mydict_19 = {}\n",
        "for i in range(len(icol_monthly_19[mes])):\n",
        "  mydict_19[\n",
        "    conv_fecha(ee.Image(icol_monthly_19[mes][i])),  \n",
        "    get_cloud_perc(ee.Image(icol_monthly_19[mes][i])) \n",
        "    ] \\\n",
        "    = ee.Image(icol_monthly_19[mes][i])\\\n",
        "    .divide(10000)\\\n",
        "    .clip(roi_clip)\\\n",
        "    .getMapId({'min':0,'max':0.3,'bands':Natural_Color})\n",
        "\n",
        "mapdisplay(centroide, mydict_19, zoom_start=12)"
      ],
      "execution_count": null,
      "outputs": [
        {
          "output_type": "execute_result",
          "data": {
            "text/html": [
              "<div style=\"width:100%;\"><div style=\"position:relative;width:100%;height:0;padding-bottom:60%;\"><span style=\"color:#565656\">Make this Notebook Trusted to load map: File -> Trust Notebook</span><iframe src=\"about:blank\" style=\"position:absolute;width:100%;height:100%;left:0;top:0;border:none !important;\" data-html=%3C%21DOCTYPE%20html%3E%0A%3Chead%3E%20%20%20%20%0A%20%20%20%20%3Cmeta%20http-equiv%3D%22content-type%22%20content%3D%22text/html%3B%20charset%3DUTF-8%22%20/%3E%0A%20%20%20%20%3Cscript%3EL_PREFER_CANVAS%3Dfalse%3B%20L_NO_TOUCH%3Dfalse%3B%20L_DISABLE_3D%3Dfalse%3B%3C/script%3E%0A%20%20%20%20%3Cscript%20src%3D%22https%3A//cdn.jsdelivr.net/npm/leaflet%401.4.0/dist/leaflet.js%22%3E%3C/script%3E%0A%20%20%20%20%3Cscript%20src%3D%22https%3A//code.jquery.com/jquery-1.12.4.min.js%22%3E%3C/script%3E%0A%20%20%20%20%3Cscript%20src%3D%22https%3A//maxcdn.bootstrapcdn.com/bootstrap/3.2.0/js/bootstrap.min.js%22%3E%3C/script%3E%0A%20%20%20%20%3Cscript%20src%3D%22https%3A//cdnjs.cloudflare.com/ajax/libs/Leaflet.awesome-markers/2.0.2/leaflet.awesome-markers.js%22%3E%3C/script%3E%0A%20%20%20%20%3Clink%20rel%3D%22stylesheet%22%20href%3D%22https%3A//cdn.jsdelivr.net/npm/leaflet%401.4.0/dist/leaflet.css%22/%3E%0A%20%20%20%20%3Clink%20rel%3D%22stylesheet%22%20href%3D%22https%3A//maxcdn.bootstrapcdn.com/bootstrap/3.2.0/css/bootstrap.min.css%22/%3E%0A%20%20%20%20%3Clink%20rel%3D%22stylesheet%22%20href%3D%22https%3A//maxcdn.bootstrapcdn.com/bootstrap/3.2.0/css/bootstrap-theme.min.css%22/%3E%0A%20%20%20%20%3Clink%20rel%3D%22stylesheet%22%20href%3D%22https%3A//maxcdn.bootstrapcdn.com/font-awesome/4.6.3/css/font-awesome.min.css%22/%3E%0A%20%20%20%20%3Clink%20rel%3D%22stylesheet%22%20href%3D%22https%3A//cdnjs.cloudflare.com/ajax/libs/Leaflet.awesome-markers/2.0.2/leaflet.awesome-markers.css%22/%3E%0A%20%20%20%20%3Clink%20rel%3D%22stylesheet%22%20href%3D%22https%3A//rawcdn.githack.com/python-visualization/folium/master/folium/templates/leaflet.awesome.rotate.css%22/%3E%0A%20%20%20%20%3Cstyle%3Ehtml%2C%20body%20%7Bwidth%3A%20100%25%3Bheight%3A%20100%25%3Bmargin%3A%200%3Bpadding%3A%200%3B%7D%3C/style%3E%0A%20%20%20%20%3Cstyle%3E%23map%20%7Bposition%3Aabsolute%3Btop%3A0%3Bbottom%3A0%3Bright%3A0%3Bleft%3A0%3B%7D%3C/style%3E%0A%20%20%20%20%0A%20%20%20%20%3Cmeta%20name%3D%22viewport%22%20content%3D%22width%3Ddevice-width%2C%0A%20%20%20%20%20%20%20%20initial-scale%3D1.0%2C%20maximum-scale%3D1.0%2C%20user-scalable%3Dno%22%20/%3E%0A%20%20%20%20%3Cstyle%3E%23map_c8a1d70b83c04714aeeaaa5cef32e85b%20%7B%0A%20%20%20%20%20%20%20%20position%3A%20relative%3B%0A%20%20%20%20%20%20%20%20width%3A%20100.0%25%3B%0A%20%20%20%20%20%20%20%20height%3A%20100.0%25%3B%0A%20%20%20%20%20%20%20%20left%3A%200.0%25%3B%0A%20%20%20%20%20%20%20%20top%3A%200.0%25%3B%0A%20%20%20%20%20%20%20%20%7D%0A%20%20%20%20%3C/style%3E%0A%20%20%20%20%3Cscript%20src%3D%22https%3A//cdnjs.cloudflare.com/ajax/libs/leaflet-minimap/3.6.1/Control.MiniMap.js%22%3E%3C/script%3E%0A%20%20%20%20%3Clink%20rel%3D%22stylesheet%22%20href%3D%22https%3A//cdnjs.cloudflare.com/ajax/libs/leaflet-minimap/3.6.1/Control.MiniMap.css%22/%3E%0A%3C/head%3E%0A%3Cbody%3E%20%20%20%20%0A%20%20%20%20%0A%20%20%20%20%3Cdiv%20class%3D%22folium-map%22%20id%3D%22map_c8a1d70b83c04714aeeaaa5cef32e85b%22%20%3E%3C/div%3E%0A%3C/body%3E%0A%3Cscript%3E%20%20%20%20%0A%20%20%20%20%0A%20%20%20%20%0A%20%20%20%20%20%20%20%20var%20bounds%20%3D%20null%3B%0A%20%20%20%20%0A%0A%20%20%20%20var%20map_c8a1d70b83c04714aeeaaa5cef32e85b%20%3D%20L.map%28%0A%20%20%20%20%20%20%20%20%27map_c8a1d70b83c04714aeeaaa5cef32e85b%27%2C%20%7B%0A%20%20%20%20%20%20%20%20center%3A%20%5B-13.4589%2C%20-76.0908%5D%2C%0A%20%20%20%20%20%20%20%20zoom%3A%2012%2C%0A%20%20%20%20%20%20%20%20maxBounds%3A%20bounds%2C%0A%20%20%20%20%20%20%20%20layers%3A%20%5B%5D%2C%0A%20%20%20%20%20%20%20%20worldCopyJump%3A%20false%2C%0A%20%20%20%20%20%20%20%20crs%3A%20L.CRS.EPSG3857%2C%0A%20%20%20%20%20%20%20%20zoomControl%3A%20true%2C%0A%20%20%20%20%20%20%20%20%7D%29%3B%0AL.control.scale%28%29.addTo%28map_c8a1d70b83c04714aeeaaa5cef32e85b%29%3B%0A%0A%20%20%20%20%0A%20%20%20%20var%20tile_layer_684608a1278e4d628da5d208243b30a2%20%3D%20L.tileLayer%28%0A%20%20%20%20%20%20%20%20%27https%3A//%7Bs%7D.tile.openstreetmap.org/%7Bz%7D/%7Bx%7D/%7By%7D.png%27%2C%0A%20%20%20%20%20%20%20%20%7B%0A%20%20%20%20%20%20%20%20%22attribution%22%3A%20null%2C%0A%20%20%20%20%20%20%20%20%22detectRetina%22%3A%20false%2C%0A%20%20%20%20%20%20%20%20%22maxNativeZoom%22%3A%2018%2C%0A%20%20%20%20%20%20%20%20%22maxZoom%22%3A%2018%2C%0A%20%20%20%20%20%20%20%20%22minZoom%22%3A%200%2C%0A%20%20%20%20%20%20%20%20%22noWrap%22%3A%20false%2C%0A%20%20%20%20%20%20%20%20%22opacity%22%3A%201%2C%0A%20%20%20%20%20%20%20%20%22subdomains%22%3A%20%22abc%22%2C%0A%20%20%20%20%20%20%20%20%22tms%22%3A%20false%0A%7D%29.addTo%28map_c8a1d70b83c04714aeeaaa5cef32e85b%29%3B%0A%20%20%20%20var%20tile_layer_806c70eb13b14a3584e4d6469d2743b2%20%3D%20L.tileLayer%28%0A%20%20%20%20%20%20%20%20%27https%3A//earthengine.googleapis.com/v1alpha/projects/earthengine-legacy/maps/803e11d92865c050307d94dfcb309f0d-a50a77f48767c44784f7f4e4674d3580/tiles/%7Bz%7D/%7Bx%7D/%7By%7D%27%2C%0A%20%20%20%20%20%20%20%20%7B%0A%20%20%20%20%20%20%20%20%22attribution%22%3A%20%22Google%20Earth%20Engine%22%2C%0A%20%20%20%20%20%20%20%20%22detectRetina%22%3A%20false%2C%0A%20%20%20%20%20%20%20%20%22maxNativeZoom%22%3A%2018%2C%0A%20%20%20%20%20%20%20%20%22maxZoom%22%3A%2018%2C%0A%20%20%20%20%20%20%20%20%22minZoom%22%3A%200%2C%0A%20%20%20%20%20%20%20%20%22noWrap%22%3A%20false%2C%0A%20%20%20%20%20%20%20%20%22opacity%22%3A%201%2C%0A%20%20%20%20%20%20%20%20%22subdomains%22%3A%20%22abc%22%2C%0A%20%20%20%20%20%20%20%20%22tms%22%3A%20false%0A%7D%29.addTo%28map_c8a1d70b83c04714aeeaaa5cef32e85b%29%3B%0A%20%20%20%20var%20tile_layer_131970dac96548fd806e58a5b66899d0%20%3D%20L.tileLayer%28%0A%20%20%20%20%20%20%20%20%27https%3A//earthengine.googleapis.com/v1alpha/projects/earthengine-legacy/maps/054c9d5a79076aa88f109fa241e289b2-b5e348823e8e226d81f9c66491b123a3/tiles/%7Bz%7D/%7Bx%7D/%7By%7D%27%2C%0A%20%20%20%20%20%20%20%20%7B%0A%20%20%20%20%20%20%20%20%22attribution%22%3A%20%22Google%20Earth%20Engine%22%2C%0A%20%20%20%20%20%20%20%20%22detectRetina%22%3A%20false%2C%0A%20%20%20%20%20%20%20%20%22maxNativeZoom%22%3A%2018%2C%0A%20%20%20%20%20%20%20%20%22maxZoom%22%3A%2018%2C%0A%20%20%20%20%20%20%20%20%22minZoom%22%3A%200%2C%0A%20%20%20%20%20%20%20%20%22noWrap%22%3A%20false%2C%0A%20%20%20%20%20%20%20%20%22opacity%22%3A%201%2C%0A%20%20%20%20%20%20%20%20%22subdomains%22%3A%20%22abc%22%2C%0A%20%20%20%20%20%20%20%20%22tms%22%3A%20false%0A%7D%29.addTo%28map_c8a1d70b83c04714aeeaaa5cef32e85b%29%3B%0A%20%20%20%20var%20tile_layer_ed94298f4548401793cc033ac3af12fc%20%3D%20L.tileLayer%28%0A%20%20%20%20%20%20%20%20%27https%3A//earthengine.googleapis.com/v1alpha/projects/earthengine-legacy/maps/667fd9c99d4047c606348585facd1c03-6aee94d195411a128fe01269eb0177af/tiles/%7Bz%7D/%7Bx%7D/%7By%7D%27%2C%0A%20%20%20%20%20%20%20%20%7B%0A%20%20%20%20%20%20%20%20%22attribution%22%3A%20%22Google%20Earth%20Engine%22%2C%0A%20%20%20%20%20%20%20%20%22detectRetina%22%3A%20false%2C%0A%20%20%20%20%20%20%20%20%22maxNativeZoom%22%3A%2018%2C%0A%20%20%20%20%20%20%20%20%22maxZoom%22%3A%2018%2C%0A%20%20%20%20%20%20%20%20%22minZoom%22%3A%200%2C%0A%20%20%20%20%20%20%20%20%22noWrap%22%3A%20false%2C%0A%20%20%20%20%20%20%20%20%22opacity%22%3A%201%2C%0A%20%20%20%20%20%20%20%20%22subdomains%22%3A%20%22abc%22%2C%0A%20%20%20%20%20%20%20%20%22tms%22%3A%20false%0A%7D%29.addTo%28map_c8a1d70b83c04714aeeaaa5cef32e85b%29%3B%0A%20%20%20%20var%20tile_layer_c3fa270ce0f34e25870584244fc6827f%20%3D%20L.tileLayer%28%0A%20%20%20%20%20%20%20%20%27https%3A//earthengine.googleapis.com/v1alpha/projects/earthengine-legacy/maps/c7ab8872155cabde2ae3190cc8457f98-cb9d32188e8a13a2b69ebfc3850308de/tiles/%7Bz%7D/%7Bx%7D/%7By%7D%27%2C%0A%20%20%20%20%20%20%20%20%7B%0A%20%20%20%20%20%20%20%20%22attribution%22%3A%20%22Google%20Earth%20Engine%22%2C%0A%20%20%20%20%20%20%20%20%22detectRetina%22%3A%20false%2C%0A%20%20%20%20%20%20%20%20%22maxNativeZoom%22%3A%2018%2C%0A%20%20%20%20%20%20%20%20%22maxZoom%22%3A%2018%2C%0A%20%20%20%20%20%20%20%20%22minZoom%22%3A%200%2C%0A%20%20%20%20%20%20%20%20%22noWrap%22%3A%20false%2C%0A%20%20%20%20%20%20%20%20%22opacity%22%3A%201%2C%0A%20%20%20%20%20%20%20%20%22subdomains%22%3A%20%22abc%22%2C%0A%20%20%20%20%20%20%20%20%22tms%22%3A%20false%0A%7D%29.addTo%28map_c8a1d70b83c04714aeeaaa5cef32e85b%29%3B%0A%20%20%20%20var%20tile_layer_a6ed21d439f44c7fa737f89b1e38280b%20%3D%20L.tileLayer%28%0A%20%20%20%20%20%20%20%20%27https%3A//earthengine.googleapis.com/v1alpha/projects/earthengine-legacy/maps/9dbf6186ec50247ee44c4e19a4ae4c7b-a88360870ea7ebc3701fc00a1c264fd0/tiles/%7Bz%7D/%7Bx%7D/%7By%7D%27%2C%0A%20%20%20%20%20%20%20%20%7B%0A%20%20%20%20%20%20%20%20%22attribution%22%3A%20%22Google%20Earth%20Engine%22%2C%0A%20%20%20%20%20%20%20%20%22detectRetina%22%3A%20false%2C%0A%20%20%20%20%20%20%20%20%22maxNativeZoom%22%3A%2018%2C%0A%20%20%20%20%20%20%20%20%22maxZoom%22%3A%2018%2C%0A%20%20%20%20%20%20%20%20%22minZoom%22%3A%200%2C%0A%20%20%20%20%20%20%20%20%22noWrap%22%3A%20false%2C%0A%20%20%20%20%20%20%20%20%22opacity%22%3A%201%2C%0A%20%20%20%20%20%20%20%20%22subdomains%22%3A%20%22abc%22%2C%0A%20%20%20%20%20%20%20%20%22tms%22%3A%20false%0A%7D%29.addTo%28map_c8a1d70b83c04714aeeaaa5cef32e85b%29%3B%0A%20%20%20%20var%20tile_layer_cd48f5725eff4e1e9a8bf0d16f2da547%20%3D%20L.tileLayer%28%0A%20%20%20%20%20%20%20%20%27https%3A//earthengine.googleapis.com/v1alpha/projects/earthengine-legacy/maps/76b4657994e0af5e7ed450d7a5de8bcb-dc5d6a06d782a701012dfc66b5d2d81f/tiles/%7Bz%7D/%7Bx%7D/%7By%7D%27%2C%0A%20%20%20%20%20%20%20%20%7B%0A%20%20%20%20%20%20%20%20%22attribution%22%3A%20%22Google%20Earth%20Engine%22%2C%0A%20%20%20%20%20%20%20%20%22detectRetina%22%3A%20false%2C%0A%20%20%20%20%20%20%20%20%22maxNativeZoom%22%3A%2018%2C%0A%20%20%20%20%20%20%20%20%22maxZoom%22%3A%2018%2C%0A%20%20%20%20%20%20%20%20%22minZoom%22%3A%200%2C%0A%20%20%20%20%20%20%20%20%22noWrap%22%3A%20false%2C%0A%20%20%20%20%20%20%20%20%22opacity%22%3A%201%2C%0A%20%20%20%20%20%20%20%20%22subdomains%22%3A%20%22abc%22%2C%0A%20%20%20%20%20%20%20%20%22tms%22%3A%20false%0A%7D%29.addTo%28map_c8a1d70b83c04714aeeaaa5cef32e85b%29%3B%0A%20%20%20%20var%20tile_layer_07b27479a55e4dfbb34fbf091f63e530%20%3D%20L.tileLayer%28%0A%20%20%20%20%20%20%20%20%27https%3A//earthengine.googleapis.com/v1alpha/projects/earthengine-legacy/maps/a47b8daf80f6e476565703c6d8b1c5cc-f22a4a4d2e41fad7d79ccc5967084dba/tiles/%7Bz%7D/%7Bx%7D/%7By%7D%27%2C%0A%20%20%20%20%20%20%20%20%7B%0A%20%20%20%20%20%20%20%20%22attribution%22%3A%20%22Google%20Earth%20Engine%22%2C%0A%20%20%20%20%20%20%20%20%22detectRetina%22%3A%20false%2C%0A%20%20%20%20%20%20%20%20%22maxNativeZoom%22%3A%2018%2C%0A%20%20%20%20%20%20%20%20%22maxZoom%22%3A%2018%2C%0A%20%20%20%20%20%20%20%20%22minZoom%22%3A%200%2C%0A%20%20%20%20%20%20%20%20%22noWrap%22%3A%20false%2C%0A%20%20%20%20%20%20%20%20%22opacity%22%3A%201%2C%0A%20%20%20%20%20%20%20%20%22subdomains%22%3A%20%22abc%22%2C%0A%20%20%20%20%20%20%20%20%22tms%22%3A%20false%0A%7D%29.addTo%28map_c8a1d70b83c04714aeeaaa5cef32e85b%29%3B%0A%20%20%20%20%0A%0A%20%20%20%20%20%20%20%20var%20tile_layer_a541b4f7cfc64b77bd0b5c42a58decf2%20%3D%20L.tileLayer%28%0A%20%20%20%20%20%20%20%20%27https%3A//%7Bs%7D.tile.openstreetmap.org/%7Bz%7D/%7Bx%7D/%7By%7D.png%27%2C%0A%20%20%20%20%20%20%20%20%7B%0A%20%20%20%20%20%20%20%20%22attribution%22%3A%20null%2C%0A%20%20%20%20%20%20%20%20%22detectRetina%22%3A%20false%2C%0A%20%20%20%20%20%20%20%20%22maxNativeZoom%22%3A%2018%2C%0A%20%20%20%20%20%20%20%20%22maxZoom%22%3A%2018%2C%0A%20%20%20%20%20%20%20%20%22minZoom%22%3A%200%2C%0A%20%20%20%20%20%20%20%20%22noWrap%22%3A%20false%2C%0A%20%20%20%20%20%20%20%20%22opacity%22%3A%201%2C%0A%20%20%20%20%20%20%20%20%22subdomains%22%3A%20%22abc%22%2C%0A%20%20%20%20%20%20%20%20%22tms%22%3A%20false%0A%7D%20%29%3B%0A%0A%20%20%20%20%20%20%20%20var%20mini_map_25dc5ec1049b411e9c590fb6070b0378%20%3D%20new%20L.Control.MiniMap%28%20tile_layer_a541b4f7cfc64b77bd0b5c42a58decf2%2C%0A%20%20%20%20%20%20%20%20%20%7B%0A%20%20%22autoToggleDisplay%22%3A%20false%2C%0A%20%20%22centerFixed%22%3A%20false%2C%0A%20%20%22collapsedHeight%22%3A%2025%2C%0A%20%20%22collapsedWidth%22%3A%2025%2C%0A%20%20%22height%22%3A%20150%2C%0A%20%20%22minimized%22%3A%20false%2C%0A%20%20%22position%22%3A%20%22bottomright%22%2C%0A%20%20%22toggleDisplay%22%3A%20false%2C%0A%20%20%22width%22%3A%20150%2C%0A%20%20%22zoomAnimation%22%3A%20false%2C%0A%20%20%22zoomLevelFixed%22%3A%207%2C%0A%20%20%22zoomLevelOffset%22%3A%20-5%0A%7D%29%3B%0A%20%20%20%20%20%20%20%20map_c8a1d70b83c04714aeeaaa5cef32e85b.addControl%28mini_map_25dc5ec1049b411e9c590fb6070b0378%29%3B%0A%0A%20%20%20%20%20%20%20%20%0A%20%20%20%20%0A%20%20%20%20%20%20%20%20%20%20%20%20var%20layer_control_bf749b7c297f4cd0a324273809172a97%20%3D%20%7B%0A%20%20%20%20%20%20%20%20%20%20%20%20%20%20%20%20base_layers%20%3A%20%7B%20%22openstreetmap%22%20%3A%20tile_layer_684608a1278e4d628da5d208243b30a2%2C%20%7D%2C%0A%20%20%20%20%20%20%20%20%20%20%20%20%20%20%20%20overlays%20%3A%20%7B%20%22%28%272019-01-01%2015%3A26%3A41%27%2C%2048.092331%29%22%20%3A%20tile_layer_806c70eb13b14a3584e4d6469d2743b2%2C%22%28%272019-01-06%2015%3A26%3A45%27%2C%2058.199064%29%22%20%3A%20tile_layer_131970dac96548fd806e58a5b66899d0%2C%22%28%272019-01-11%2015%3A26%3A42%27%2C%2043.483208%29%22%20%3A%20tile_layer_ed94298f4548401793cc033ac3af12fc%2C%22%28%272019-01-16%2015%3A26%3A46%27%2C%2037.127514%29%22%20%3A%20tile_layer_c3fa270ce0f34e25870584244fc6827f%2C%22%28%272019-01-21%2015%3A26%3A43%27%2C%2063.706253%29%22%20%3A%20tile_layer_a6ed21d439f44c7fa737f89b1e38280b%2C%22%28%272019-01-26%2015%3A26%3A47%27%2C%2011.442228%29%22%20%3A%20tile_layer_cd48f5725eff4e1e9a8bf0d16f2da547%2C%22%28%272019-01-31%2015%3A26%3A43%27%2C%2052.611271%29%22%20%3A%20tile_layer_07b27479a55e4dfbb34fbf091f63e530%2C%20%7D%0A%20%20%20%20%20%20%20%20%20%20%20%20%20%20%20%20%7D%3B%0A%20%20%20%20%20%20%20%20%20%20%20%20L.control.layers%28%0A%20%20%20%20%20%20%20%20%20%20%20%20%20%20%20%20layer_control_bf749b7c297f4cd0a324273809172a97.base_layers%2C%0A%20%20%20%20%20%20%20%20%20%20%20%20%20%20%20%20layer_control_bf749b7c297f4cd0a324273809172a97.overlays%2C%0A%20%20%20%20%20%20%20%20%20%20%20%20%20%20%20%20%7Bposition%3A%20%27topright%27%2C%0A%20%20%20%20%20%20%20%20%20%20%20%20%20%20%20%20%20collapsed%3A%20true%2C%0A%20%20%20%20%20%20%20%20%20%20%20%20%20%20%20%20%20autoZIndex%3A%20true%0A%20%20%20%20%20%20%20%20%20%20%20%20%20%20%20%20%7D%29.addTo%28map_c8a1d70b83c04714aeeaaa5cef32e85b%29%3B%0A%20%20%20%20%20%20%20%20%20%20%20%20%0A%20%20%20%20%20%20%20%20%0A%3C/script%3E onload=\"this.contentDocument.open();this.contentDocument.write(    decodeURIComponent(this.getAttribute('data-html')));this.contentDocument.close();\" allowfullscreen webkitallowfullscreen mozallowfullscreen></iframe></div></div>"
            ],
            "text/plain": [
              "<folium.folium.Map at 0x7f81c4443590>"
            ]
          },
          "metadata": {
            "tags": []
          },
          "execution_count": 62
        }
      ]
    },
    {
      "cell_type": "markdown",
      "metadata": {
        "id": "-vNfTfz9loJ_"
      },
      "source": [
        "##### ***3. Visualización de imágenes Sentinel2 (2020)***"
      ]
    },
    {
      "cell_type": "code",
      "metadata": {
        "id": "oI1qwcBm0v_0",
        "cellView": "form"
      },
      "source": [
        "# @markdown Generación de diccionario: 2020 (Generar) \n",
        "meses_2020 = create_dateranges('2020','month', 1, 12)\n",
        "\n",
        "# Filtro de ImageCollection (list comprenhension)\n",
        "imgs_2020 = [ee.ImageCollection('COPERNICUS/S2_SR')\n",
        "             .filterDate(meses_2020[i][0], meses_2020[i][1])\\\n",
        "             .filterBounds(ee.Geometry.Point(-76.13, -13.48)) for i in range(12)]\n",
        "\n",
        "# Cantidad de imágenes por mes \n",
        "imgs_2020_size = [imgs_2020[i].size().getInfo() for i in range(12)]\n",
        "\n",
        "# Diccionario de Meses con su imágenes correspondientes\n",
        "icol_monthly_20 = {}\n",
        "for i in range(12):\n",
        "  IDs = []\n",
        "  icol_monthly_20[i+1] = IDs\n",
        "  for j in range(imgs_2020_size[i]):\n",
        "    IDs.append(imgs_2020[i].getInfo()['features'][j]['id']) \n",
        "    # IDs.append(ee.Image(imgs_2020[i].getInfo()['features'][j]['id'])) \n",
        "    \n",
        "    # Quitar el ee.Image() para obtener solamente IDs\n",
        "\n",
        "# icol_monthly_20"
      ],
      "execution_count": null,
      "outputs": []
    },
    {
      "cell_type": "code",
      "metadata": {
        "id": "lNLYRgE3vBbA",
        "cellView": "form"
      },
      "source": [
        "# @markdown Diccionario de IDs - Año 2020 (**Sin depurar**)\n",
        "# @markdown - **`icol_monthly_20`**\n",
        "icol_monthly_20 = {\n",
        "    1: [\n",
        "        'COPERNICUS/S2_SR/20200101T151659_20200101T151930_T18LUL',\n",
        "        'COPERNICUS/S2_SR/20200106T151701_20200106T152458_T18LUL',\n",
        "        'COPERNICUS/S2_SR/20200111T151659_20200111T151911_T18LUL',\n",
        "        'COPERNICUS/S2_SR/20200116T151701_20200116T152038_T18LUL',\n",
        "        'COPERNICUS/S2_SR/20200121T151659_20200121T152634_T18LUL',\n",
        "        'COPERNICUS/S2_SR/20200126T151701_20200126T152012_T18LUL'\n",
        "    ],\n",
        "    2: [\n",
        "        'COPERNICUS/S2_SR/20200205T151701_20200205T151919_T18LUL',\n",
        "        'COPERNICUS/S2_SR/20200210T151659_20200210T152519_T18LUL',\n",
        "        'COPERNICUS/S2_SR/20200215T151701_20200215T152236_T18LUL',\n",
        "        'COPERNICUS/S2_SR/20200220T151659_20200220T152051_T18LUL',\n",
        "        'COPERNICUS/S2_SR/20200225T151701_20200225T152133_T18LUL'\n",
        "    ],\n",
        "    3: [\n",
        "        'COPERNICUS/S2_SR/20200301T151659_20200301T152551_T18LUL',\n",
        "        'COPERNICUS/S2_SR/20200306T151701_20200306T152018_T18LUL',\n",
        "        'COPERNICUS/S2_SR/20200311T151659_20200311T152350_T18LUL',\n",
        "        'COPERNICUS/S2_SR/20200316T151701_20200316T151812_T18LUL',\n",
        "        'COPERNICUS/S2_SR/20200321T151659_20200321T152227_T18LUL',\n",
        "        'COPERNICUS/S2_SR/20200326T151701_20200326T152500_T18LUL',\n",
        "        'COPERNICUS/S2_SR/20200331T151659_20200331T152436_T18LUL'\n",
        "    ],\n",
        "    4: [\n",
        "        'COPERNICUS/S2_SR/20200405T151701_20200405T151744_T18LUL',\n",
        "        'COPERNICUS/S2_SR/20200410T151659_20200410T152616_T18LUL',\n",
        "        'COPERNICUS/S2_SR/20200415T151701_20200415T152601_T18LUL',\n",
        "        'COPERNICUS/S2_SR/20200420T151659_20200420T151727_T18LUL',\n",
        "        'COPERNICUS/S2_SR/20200425T151711_20200425T151731_T18LUL',\n",
        "        'COPERNICUS/S2_SR/20200430T151659_20200430T151700_T18LUL'\n",
        "    ],\n",
        "    5: [\n",
        "        'COPERNICUS/S2_SR/20200505T151711_20200505T151755_T18LUL',\n",
        "        'COPERNICUS/S2_SR/20200510T151659_20200510T152614_T18LUL',\n",
        "        'COPERNICUS/S2_SR/20200515T151711_20200515T152143_T18LUL',\n",
        "        'COPERNICUS/S2_SR/20200520T151709_20200520T151704_T18LUL',\n",
        "        'COPERNICUS/S2_SR/20200525T151711_20200525T151826_T18LUL',\n",
        "        'COPERNICUS/S2_SR/20200530T151709_20200530T151705_T18LUL'\n",
        "    ],\n",
        "    6: [\n",
        "        'COPERNICUS/S2_SR/20200604T151711_20200604T151847_T18LUL',\n",
        "        'COPERNICUS/S2_SR/20200609T151709_20200609T151945_T18LUL',\n",
        "        'COPERNICUS/S2_SR/20200614T151711_20200614T152018_T18LUL',\n",
        "        'COPERNICUS/S2_SR/20200619T151709_20200619T151919_T18LUL',\n",
        "        'COPERNICUS/S2_SR/20200624T151711_20200624T151850_T18LUL',\n",
        "        'COPERNICUS/S2_SR/20200629T151709_20200629T152119_T18LUL'\n",
        "    ],\n",
        "    7: [\n",
        "        'COPERNICUS/S2_SR/20200704T151711_20200704T151850_T18LUL',\n",
        "        'COPERNICUS/S2_SR/20200709T151709_20200709T152628_T18LUL',\n",
        "        'COPERNICUS/S2_SR/20200714T151711_20200714T151708_T18LUL',\n",
        "        'COPERNICUS/S2_SR/20200719T151709_20200719T151705_T18LUL',\n",
        "        'COPERNICUS/S2_SR/20200724T151711_20200724T151814_T18LUL',\n",
        "        'COPERNICUS/S2_SR/20200729T151709_20200729T151927_T18LUL'\n",
        "    ],\n",
        "    8: [\n",
        "        'COPERNICUS/S2_SR/20200803T151711_20200803T151800_T18LUL',\n",
        "        'COPERNICUS/S2_SR/20200808T151709_20200808T152329_T18LUL',\n",
        "        'COPERNICUS/S2_SR/20200813T151711_20200813T151800_T18LUL',\n",
        "        'COPERNICUS/S2_SR/20200818T151709_20200818T152416_T18LUL',\n",
        "        'COPERNICUS/S2_SR/20200823T151711_20200823T152545_T18LUL',\n",
        "        'COPERNICUS/S2_SR/20200828T151709_20200828T152025_T18LUL'\n",
        "    ],\n",
        "    9: [\n",
        "        'COPERNICUS/S2_SR/20200902T151711_20200902T151709_T18LUL',\n",
        "        'COPERNICUS/S2_SR/20200902T151711_20200902T152650_T18LUL',\n",
        "        'COPERNICUS/S2_SR/20200907T151709_20200907T152155_T18LUL',\n",
        "        'COPERNICUS/S2_SR/20200912T151711_20200912T152508_T18LUL',\n",
        "        'COPERNICUS/S2_SR/20200917T151709_20200917T151745_T18LUL',\n",
        "        'COPERNICUS/S2_SR/20200922T151711_20200922T152418_T18LUL',\n",
        "        'COPERNICUS/S2_SR/20200927T151709_20200927T151805_T18LUL'\n",
        "    ],\n",
        "    10: [\n",
        "        'COPERNICUS/S2_SR/20201002T151711_20201002T151847_T18LUL',\n",
        "        'COPERNICUS/S2_SR/20201007T151709_20201007T152040_T18LUL',\n",
        "        'COPERNICUS/S2_SR/20201012T151711_20201012T152202_T18LUL',\n",
        "        'COPERNICUS/S2_SR/20201017T151709_20201017T152445_T18LUL',\n",
        "        'COPERNICUS/S2_SR/20201022T151711_20201022T152346_T18LUL',\n",
        "        'COPERNICUS/S2_SR/20201027T151709_20201027T152550_T18LUL'\n",
        "    ],\n",
        "    11: [\n",
        "        'COPERNICUS/S2_SR/20201101T151711_20201101T152447_T18LUL',\n",
        "        'COPERNICUS/S2_SR/20201106T151709_20201106T151706_T18LUL',\n",
        "        'COPERNICUS/S2_SR/20201111T151711_20201111T152537_T18LUL',\n",
        "        'COPERNICUS/S2_SR/20201121T151711_20201121T152604_T18LUL',\n",
        "        'COPERNICUS/S2_SR/20201126T151709_20201126T151704_T18LUL'\n",
        "    ],\n",
        "    12: [\n",
        "        'COPERNICUS/S2_SR/20201201T151701_20201201T152622_T18LUL',\n",
        "        'COPERNICUS/S2_SR/20201206T151659_20201206T151702_T18LUL',\n",
        "        'COPERNICUS/S2_SR/20201211T151701_20201211T152619_T18LUL',\n",
        "        'COPERNICUS/S2_SR/20201216T151659_20201216T152557_T18LUL',\n",
        "        'COPERNICUS/S2_SR/20201221T151701_20201221T152622_T18LUL',\n",
        "        'COPERNICUS/S2_SR/20201226T151659_20201226T151701_T18LUL',\n",
        "        'COPERNICUS/S2_SR/20201231T151701_20201231T152623_T18LUL'\n",
        "    ]\n",
        "}"
      ],
      "execution_count": null,
      "outputs": []
    },
    {
      "cell_type": "code",
      "metadata": {
        "id": "0zDB1-FUZYhO",
        "cellView": "form"
      },
      "source": [
        "# @markdown Diccionario de IDs - Año 2020 (**Depurado**)  \n",
        "# @markdown - **`icol_monthly_20`**\n",
        "# @markdown - Mes 6 eliminado (imágenes llena de nubes)\n",
        "icol_monthly_20 = {\n",
        "    1: [\n",
        "        # 'COPERNICUS/S2_SR/20200101T151659_20200101T151930_T18LUL',\n",
        "        'COPERNICUS/S2_SR/20200106T151701_20200106T152458_T18LUL',\n",
        "        'COPERNICUS/S2_SR/20200111T151659_20200111T151911_T18LUL',\n",
        "        'COPERNICUS/S2_SR/20200116T151701_20200116T152038_T18LUL',\n",
        "        # 'COPERNICUS/S2_SR/20200121T151659_20200121T152634_T18LUL',\n",
        "        'COPERNICUS/S2_SR/20200126T151701_20200126T152012_T18LUL'\n",
        "    ],\n",
        "    2: [\n",
        "        'COPERNICUS/S2_SR/20200205T151701_20200205T151919_T18LUL',\n",
        "        'COPERNICUS/S2_SR/20200210T151659_20200210T152519_T18LUL',\n",
        "        'COPERNICUS/S2_SR/20200215T151701_20200215T152236_T18LUL',\n",
        "        # 'COPERNICUS/S2_SR/20200220T151659_20200220T152051_T18LUL',\n",
        "        'COPERNICUS/S2_SR/20200225T151701_20200225T152133_T18LUL'\n",
        "    ],\n",
        "    3: [\n",
        "        'COPERNICUS/S2_SR/20200301T151659_20200301T152551_T18LUL',\n",
        "        'COPERNICUS/S2_SR/20200306T151701_20200306T152018_T18LUL',\n",
        "        'COPERNICUS/S2_SR/20200311T151659_20200311T152350_T18LUL',\n",
        "        # 'COPERNICUS/S2_SR/20200316T151701_20200316T151812_T18LUL',\n",
        "        'COPERNICUS/S2_SR/20200321T151659_20200321T152227_T18LUL',\n",
        "        # 'COPERNICUS/S2_SR/20200326T151701_20200326T152500_T18LUL',\n",
        "        # 'COPERNICUS/S2_SR/20200331T151659_20200331T152436_T18LUL'\n",
        "    ],\n",
        "    4: [\n",
        "        # 'COPERNICUS/S2_SR/20200405T151701_20200405T151744_T18LUL',\n",
        "        # 'COPERNICUS/S2_SR/20200410T151659_20200410T152616_T18LUL',\n",
        "        # 'COPERNICUS/S2_SR/20200415T151701_20200415T152601_T18LUL',\n",
        "        'COPERNICUS/S2_SR/20200420T151659_20200420T151727_T18LUL',\n",
        "        'COPERNICUS/S2_SR/20200425T151711_20200425T151731_T18LUL',\n",
        "        'COPERNICUS/S2_SR/20200430T151659_20200430T151700_T18LUL'\n",
        "    ],\n",
        "    5: [\n",
        "        # 'COPERNICUS/S2_SR/20200505T151711_20200505T151755_T18LUL',\n",
        "        'COPERNICUS/S2_SR/20200510T151659_20200510T152614_T18LUL',\n",
        "        'COPERNICUS/S2_SR/20200515T151711_20200515T152143_T18LUL',\n",
        "        # 'COPERNICUS/S2_SR/20200520T151709_20200520T151704_T18LUL',\n",
        "        # 'COPERNICUS/S2_SR/20200525T151711_20200525T151826_T18LUL',\n",
        "        # 'COPERNICUS/S2_SR/20200530T151709_20200530T151705_T18LUL'\n",
        "    ],\n",
        "    6: [\n",
        "        # 'COPERNICUS/S2_SR/20200604T151711_20200604T151847_T18LUL',\n",
        "        # 'COPERNICUS/S2_SR/20200609T151709_20200609T151945_T18LUL',\n",
        "        # 'COPERNICUS/S2_SR/20200614T151711_20200614T152018_T18LUL',\n",
        "        # 'COPERNICUS/S2_SR/20200619T151709_20200619T151919_T18LUL',\n",
        "        # 'COPERNICUS/S2_SR/20200624T151711_20200624T151850_T18LUL',\n",
        "        # 'COPERNICUS/S2_SR/20200629T151709_20200629T152119_T18LUL'\n",
        "    ],\n",
        "    7: [\n",
        "        # 'COPERNICUS/S2_SR/20200704T151711_20200704T151850_T18LUL',\n",
        "        # 'COPERNICUS/S2_SR/20200709T151709_20200709T152628_T18LUL',\n",
        "        # 'COPERNICUS/S2_SR/20200714T151711_20200714T151708_T18LUL',\n",
        "        # 'COPERNICUS/S2_SR/20200719T151709_20200719T151705_T18LUL',\n",
        "        'COPERNICUS/S2_SR/20200724T151711_20200724T151814_T18LUL',\n",
        "        # 'COPERNICUS/S2_SR/20200729T151709_20200729T151927_T18LUL'\n",
        "    ],\n",
        "    8: [\n",
        "        'COPERNICUS/S2_SR/20200803T151711_20200803T151800_T18LUL',\n",
        "        # 'COPERNICUS/S2_SR/20200808T151709_20200808T152329_T18LUL',\n",
        "        'COPERNICUS/S2_SR/20200813T151711_20200813T151800_T18LUL',\n",
        "        # 'COPERNICUS/S2_SR/20200818T151709_20200818T152416_T18LUL',\n",
        "        # 'COPERNICUS/S2_SR/20200823T151711_20200823T152545_T18LUL',\n",
        "        # 'COPERNICUS/S2_SR/20200828T151709_20200828T152025_T18LUL'\n",
        "    ],\n",
        "    9: [\n",
        "        # 'COPERNICUS/S2_SR/20200902T151711_20200902T151709_T18LUL',\n",
        "        # 'COPERNICUS/S2_SR/20200902T151711_20200902T152650_T18LUL',\n",
        "        # 'COPERNICUS/S2_SR/20200907T151709_20200907T152155_T18LUL',\n",
        "        # 'COPERNICUS/S2_SR/20200912T151711_20200912T152508_T18LUL',\n",
        "        # 'COPERNICUS/S2_SR/20200917T151709_20200917T151745_T18LUL',\n",
        "        # 'COPERNICUS/S2_SR/20200922T151711_20200922T152418_T18LUL',\n",
        "        'COPERNICUS/S2_SR/20200927T151709_20200927T151805_T18LUL'\n",
        "    ],\n",
        "    10: [\n",
        "        # 'COPERNICUS/S2_SR/20201002T151711_20201002T151847_T18LUL',\n",
        "        'COPERNICUS/S2_SR/20201007T151709_20201007T152040_T18LUL',\n",
        "        'COPERNICUS/S2_SR/20201012T151711_20201012T152202_T18LUL',\n",
        "        # 'COPERNICUS/S2_SR/20201017T151709_20201017T152445_T18LUL',\n",
        "        'COPERNICUS/S2_SR/20201022T151711_20201022T152346_T18LUL',\n",
        "        'COPERNICUS/S2_SR/20201027T151709_20201027T152550_T18LUL'\n",
        "    ],\n",
        "    11: [\n",
        "        # 'COPERNICUS/S2_SR/20201101T151711_20201101T152447_T18LUL',\n",
        "        # 'COPERNICUS/S2_SR/20201106T151709_20201106T151706_T18LUL',\n",
        "        # 'COPERNICUS/S2_SR/20201111T151711_20201111T152537_T18LUL',\n",
        "        'COPERNICUS/S2_SR/20201121T151711_20201121T152604_T18LUL',\n",
        "        'COPERNICUS/S2_SR/20201126T151709_20201126T151704_T18LUL'\n",
        "    ],\n",
        "    12: [\n",
        "        'COPERNICUS/S2_SR/20201201T151701_20201201T152622_T18LUL',\n",
        "        'COPERNICUS/S2_SR/20201206T151659_20201206T151702_T18LUL',\n",
        "        'COPERNICUS/S2_SR/20201211T151701_20201211T152619_T18LUL',\n",
        "        'COPERNICUS/S2_SR/20201216T151659_20201216T152557_T18LUL',\n",
        "        'COPERNICUS/S2_SR/20201221T151701_20201221T152622_T18LUL',\n",
        "        'COPERNICUS/S2_SR/20201226T151659_20201226T151701_T18LUL',\n",
        "        # 'COPERNICUS/S2_SR/20201231T151701_20201231T152623_T18LUL'\n",
        "    ]\n",
        "}"
      ],
      "execution_count": null,
      "outputs": []
    },
    {
      "cell_type": "code",
      "metadata": {
        "id": "ipu4wN8J0na_",
        "colab": {
          "base_uri": "https://localhost:8080/",
          "height": 854
        },
        "cellView": "form",
        "outputId": "76381ede-24ad-4160-f00b-38952530e3a8"
      },
      "source": [
        "#@markdown Visualización de Imágenes 2020: Por meses\n",
        "mes = 1 #@param [1,2,3,4,5,6,7,8,9,10,11,12] {type:\"raw\"}\n",
        "Natural_Color  = ['B4', 'B3', 'B2']\n",
        "\n",
        "# Diccionario para visualización\n",
        "mydict_20 = {}\n",
        "\n",
        "for i in range(len(icol_monthly_20[mes])):\n",
        "  mydict_20[\n",
        "    conv_fecha(ee.Image(icol_monthly_20[mes][i])),  \n",
        "    get_cloud_perc(ee.Image(icol_monthly_20[mes][i])) \n",
        "    ] \\\n",
        "    = ee.Image(icol_monthly_20[mes][i])\\\n",
        "    .divide(10000)\\\n",
        "    .clip(roi_clip)\\\n",
        "    .getMapId({'min':0,'max':0.3,'bands':Natural_Color})\n",
        "\n",
        "mapdisplay(centroide, mydict_20, zoom_start=12)"
      ],
      "execution_count": null,
      "outputs": [
        {
          "output_type": "execute_result",
          "data": {
            "text/html": [
              "<div style=\"width:100%;\"><div style=\"position:relative;width:100%;height:0;padding-bottom:60%;\"><span style=\"color:#565656\">Make this Notebook Trusted to load map: File -> Trust Notebook</span><iframe src=\"about:blank\" style=\"position:absolute;width:100%;height:100%;left:0;top:0;border:none !important;\" data-html=%3C%21DOCTYPE%20html%3E%0A%3Chead%3E%20%20%20%20%0A%20%20%20%20%3Cmeta%20http-equiv%3D%22content-type%22%20content%3D%22text/html%3B%20charset%3DUTF-8%22%20/%3E%0A%20%20%20%20%3Cscript%3EL_PREFER_CANVAS%3Dfalse%3B%20L_NO_TOUCH%3Dfalse%3B%20L_DISABLE_3D%3Dfalse%3B%3C/script%3E%0A%20%20%20%20%3Cscript%20src%3D%22https%3A//cdn.jsdelivr.net/npm/leaflet%401.4.0/dist/leaflet.js%22%3E%3C/script%3E%0A%20%20%20%20%3Cscript%20src%3D%22https%3A//code.jquery.com/jquery-1.12.4.min.js%22%3E%3C/script%3E%0A%20%20%20%20%3Cscript%20src%3D%22https%3A//maxcdn.bootstrapcdn.com/bootstrap/3.2.0/js/bootstrap.min.js%22%3E%3C/script%3E%0A%20%20%20%20%3Cscript%20src%3D%22https%3A//cdnjs.cloudflare.com/ajax/libs/Leaflet.awesome-markers/2.0.2/leaflet.awesome-markers.js%22%3E%3C/script%3E%0A%20%20%20%20%3Clink%20rel%3D%22stylesheet%22%20href%3D%22https%3A//cdn.jsdelivr.net/npm/leaflet%401.4.0/dist/leaflet.css%22/%3E%0A%20%20%20%20%3Clink%20rel%3D%22stylesheet%22%20href%3D%22https%3A//maxcdn.bootstrapcdn.com/bootstrap/3.2.0/css/bootstrap.min.css%22/%3E%0A%20%20%20%20%3Clink%20rel%3D%22stylesheet%22%20href%3D%22https%3A//maxcdn.bootstrapcdn.com/bootstrap/3.2.0/css/bootstrap-theme.min.css%22/%3E%0A%20%20%20%20%3Clink%20rel%3D%22stylesheet%22%20href%3D%22https%3A//maxcdn.bootstrapcdn.com/font-awesome/4.6.3/css/font-awesome.min.css%22/%3E%0A%20%20%20%20%3Clink%20rel%3D%22stylesheet%22%20href%3D%22https%3A//cdnjs.cloudflare.com/ajax/libs/Leaflet.awesome-markers/2.0.2/leaflet.awesome-markers.css%22/%3E%0A%20%20%20%20%3Clink%20rel%3D%22stylesheet%22%20href%3D%22https%3A//rawcdn.githack.com/python-visualization/folium/master/folium/templates/leaflet.awesome.rotate.css%22/%3E%0A%20%20%20%20%3Cstyle%3Ehtml%2C%20body%20%7Bwidth%3A%20100%25%3Bheight%3A%20100%25%3Bmargin%3A%200%3Bpadding%3A%200%3B%7D%3C/style%3E%0A%20%20%20%20%3Cstyle%3E%23map%20%7Bposition%3Aabsolute%3Btop%3A0%3Bbottom%3A0%3Bright%3A0%3Bleft%3A0%3B%7D%3C/style%3E%0A%20%20%20%20%0A%20%20%20%20%3Cmeta%20name%3D%22viewport%22%20content%3D%22width%3Ddevice-width%2C%0A%20%20%20%20%20%20%20%20initial-scale%3D1.0%2C%20maximum-scale%3D1.0%2C%20user-scalable%3Dno%22%20/%3E%0A%20%20%20%20%3Cstyle%3E%23map_7efc26bb101f4607bd1753f79bd854d2%20%7B%0A%20%20%20%20%20%20%20%20position%3A%20relative%3B%0A%20%20%20%20%20%20%20%20width%3A%20100.0%25%3B%0A%20%20%20%20%20%20%20%20height%3A%20100.0%25%3B%0A%20%20%20%20%20%20%20%20left%3A%200.0%25%3B%0A%20%20%20%20%20%20%20%20top%3A%200.0%25%3B%0A%20%20%20%20%20%20%20%20%7D%0A%20%20%20%20%3C/style%3E%0A%20%20%20%20%3Cscript%20src%3D%22https%3A//cdnjs.cloudflare.com/ajax/libs/leaflet-minimap/3.6.1/Control.MiniMap.js%22%3E%3C/script%3E%0A%20%20%20%20%3Clink%20rel%3D%22stylesheet%22%20href%3D%22https%3A//cdnjs.cloudflare.com/ajax/libs/leaflet-minimap/3.6.1/Control.MiniMap.css%22/%3E%0A%3C/head%3E%0A%3Cbody%3E%20%20%20%20%0A%20%20%20%20%0A%20%20%20%20%3Cdiv%20class%3D%22folium-map%22%20id%3D%22map_7efc26bb101f4607bd1753f79bd854d2%22%20%3E%3C/div%3E%0A%3C/body%3E%0A%3Cscript%3E%20%20%20%20%0A%20%20%20%20%0A%20%20%20%20%0A%20%20%20%20%20%20%20%20var%20bounds%20%3D%20null%3B%0A%20%20%20%20%0A%0A%20%20%20%20var%20map_7efc26bb101f4607bd1753f79bd854d2%20%3D%20L.map%28%0A%20%20%20%20%20%20%20%20%27map_7efc26bb101f4607bd1753f79bd854d2%27%2C%20%7B%0A%20%20%20%20%20%20%20%20center%3A%20%5B-13.4589%2C%20-76.0908%5D%2C%0A%20%20%20%20%20%20%20%20zoom%3A%2012%2C%0A%20%20%20%20%20%20%20%20maxBounds%3A%20bounds%2C%0A%20%20%20%20%20%20%20%20layers%3A%20%5B%5D%2C%0A%20%20%20%20%20%20%20%20worldCopyJump%3A%20false%2C%0A%20%20%20%20%20%20%20%20crs%3A%20L.CRS.EPSG3857%2C%0A%20%20%20%20%20%20%20%20zoomControl%3A%20true%2C%0A%20%20%20%20%20%20%20%20%7D%29%3B%0AL.control.scale%28%29.addTo%28map_7efc26bb101f4607bd1753f79bd854d2%29%3B%0A%0A%20%20%20%20%0A%20%20%20%20var%20tile_layer_0dc5360860754585acd18868c1598033%20%3D%20L.tileLayer%28%0A%20%20%20%20%20%20%20%20%27https%3A//%7Bs%7D.tile.openstreetmap.org/%7Bz%7D/%7Bx%7D/%7By%7D.png%27%2C%0A%20%20%20%20%20%20%20%20%7B%0A%20%20%20%20%20%20%20%20%22attribution%22%3A%20null%2C%0A%20%20%20%20%20%20%20%20%22detectRetina%22%3A%20false%2C%0A%20%20%20%20%20%20%20%20%22maxNativeZoom%22%3A%2018%2C%0A%20%20%20%20%20%20%20%20%22maxZoom%22%3A%2018%2C%0A%20%20%20%20%20%20%20%20%22minZoom%22%3A%200%2C%0A%20%20%20%20%20%20%20%20%22noWrap%22%3A%20false%2C%0A%20%20%20%20%20%20%20%20%22opacity%22%3A%201%2C%0A%20%20%20%20%20%20%20%20%22subdomains%22%3A%20%22abc%22%2C%0A%20%20%20%20%20%20%20%20%22tms%22%3A%20false%0A%7D%29.addTo%28map_7efc26bb101f4607bd1753f79bd854d2%29%3B%0A%20%20%20%20var%20tile_layer_d883c0272f6a414c907d8f69a83b3368%20%3D%20L.tileLayer%28%0A%20%20%20%20%20%20%20%20%27https%3A//earthengine.googleapis.com/v1alpha/projects/earthengine-legacy/maps/a58ff8bb0199a4ff9a8fb95647f34aa6-bffa0be7fe8e2cc7011b81b6464c2cda/tiles/%7Bz%7D/%7Bx%7D/%7By%7D%27%2C%0A%20%20%20%20%20%20%20%20%7B%0A%20%20%20%20%20%20%20%20%22attribution%22%3A%20%22Google%20Earth%20Engine%22%2C%0A%20%20%20%20%20%20%20%20%22detectRetina%22%3A%20false%2C%0A%20%20%20%20%20%20%20%20%22maxNativeZoom%22%3A%2018%2C%0A%20%20%20%20%20%20%20%20%22maxZoom%22%3A%2018%2C%0A%20%20%20%20%20%20%20%20%22minZoom%22%3A%200%2C%0A%20%20%20%20%20%20%20%20%22noWrap%22%3A%20false%2C%0A%20%20%20%20%20%20%20%20%22opacity%22%3A%201%2C%0A%20%20%20%20%20%20%20%20%22subdomains%22%3A%20%22abc%22%2C%0A%20%20%20%20%20%20%20%20%22tms%22%3A%20false%0A%7D%29.addTo%28map_7efc26bb101f4607bd1753f79bd854d2%29%3B%0A%20%20%20%20var%20tile_layer_ba5154a8f09047b8a2f8f05ef8b9f012%20%3D%20L.tileLayer%28%0A%20%20%20%20%20%20%20%20%27https%3A//earthengine.googleapis.com/v1alpha/projects/earthengine-legacy/maps/e456d3d32505b04c741a61b2f7aacecd-0d46636e3d90243f81b2f5c07e7c56c8/tiles/%7Bz%7D/%7Bx%7D/%7By%7D%27%2C%0A%20%20%20%20%20%20%20%20%7B%0A%20%20%20%20%20%20%20%20%22attribution%22%3A%20%22Google%20Earth%20Engine%22%2C%0A%20%20%20%20%20%20%20%20%22detectRetina%22%3A%20false%2C%0A%20%20%20%20%20%20%20%20%22maxNativeZoom%22%3A%2018%2C%0A%20%20%20%20%20%20%20%20%22maxZoom%22%3A%2018%2C%0A%20%20%20%20%20%20%20%20%22minZoom%22%3A%200%2C%0A%20%20%20%20%20%20%20%20%22noWrap%22%3A%20false%2C%0A%20%20%20%20%20%20%20%20%22opacity%22%3A%201%2C%0A%20%20%20%20%20%20%20%20%22subdomains%22%3A%20%22abc%22%2C%0A%20%20%20%20%20%20%20%20%22tms%22%3A%20false%0A%7D%29.addTo%28map_7efc26bb101f4607bd1753f79bd854d2%29%3B%0A%20%20%20%20var%20tile_layer_eff427b3da5c4d9080122a0f3aca53a4%20%3D%20L.tileLayer%28%0A%20%20%20%20%20%20%20%20%27https%3A//earthengine.googleapis.com/v1alpha/projects/earthengine-legacy/maps/6d0ee1feafc3abd501ce8b2edea9cba4-59a9067e1f20062a96062a2beb3522df/tiles/%7Bz%7D/%7Bx%7D/%7By%7D%27%2C%0A%20%20%20%20%20%20%20%20%7B%0A%20%20%20%20%20%20%20%20%22attribution%22%3A%20%22Google%20Earth%20Engine%22%2C%0A%20%20%20%20%20%20%20%20%22detectRetina%22%3A%20false%2C%0A%20%20%20%20%20%20%20%20%22maxNativeZoom%22%3A%2018%2C%0A%20%20%20%20%20%20%20%20%22maxZoom%22%3A%2018%2C%0A%20%20%20%20%20%20%20%20%22minZoom%22%3A%200%2C%0A%20%20%20%20%20%20%20%20%22noWrap%22%3A%20false%2C%0A%20%20%20%20%20%20%20%20%22opacity%22%3A%201%2C%0A%20%20%20%20%20%20%20%20%22subdomains%22%3A%20%22abc%22%2C%0A%20%20%20%20%20%20%20%20%22tms%22%3A%20false%0A%7D%29.addTo%28map_7efc26bb101f4607bd1753f79bd854d2%29%3B%0A%20%20%20%20var%20tile_layer_bbac49c8fd2f4b128e6bdee8ef0c59de%20%3D%20L.tileLayer%28%0A%20%20%20%20%20%20%20%20%27https%3A//earthengine.googleapis.com/v1alpha/projects/earthengine-legacy/maps/63242104fb038d0788260fbefc78e9f2-d87ae61658208bdac1f5664f7e124c1b/tiles/%7Bz%7D/%7Bx%7D/%7By%7D%27%2C%0A%20%20%20%20%20%20%20%20%7B%0A%20%20%20%20%20%20%20%20%22attribution%22%3A%20%22Google%20Earth%20Engine%22%2C%0A%20%20%20%20%20%20%20%20%22detectRetina%22%3A%20false%2C%0A%20%20%20%20%20%20%20%20%22maxNativeZoom%22%3A%2018%2C%0A%20%20%20%20%20%20%20%20%22maxZoom%22%3A%2018%2C%0A%20%20%20%20%20%20%20%20%22minZoom%22%3A%200%2C%0A%20%20%20%20%20%20%20%20%22noWrap%22%3A%20false%2C%0A%20%20%20%20%20%20%20%20%22opacity%22%3A%201%2C%0A%20%20%20%20%20%20%20%20%22subdomains%22%3A%20%22abc%22%2C%0A%20%20%20%20%20%20%20%20%22tms%22%3A%20false%0A%7D%29.addTo%28map_7efc26bb101f4607bd1753f79bd854d2%29%3B%0A%20%20%20%20%0A%0A%20%20%20%20%20%20%20%20var%20tile_layer_285c9b88d84145b4bd82a799954955fb%20%3D%20L.tileLayer%28%0A%20%20%20%20%20%20%20%20%27https%3A//%7Bs%7D.tile.openstreetmap.org/%7Bz%7D/%7Bx%7D/%7By%7D.png%27%2C%0A%20%20%20%20%20%20%20%20%7B%0A%20%20%20%20%20%20%20%20%22attribution%22%3A%20null%2C%0A%20%20%20%20%20%20%20%20%22detectRetina%22%3A%20false%2C%0A%20%20%20%20%20%20%20%20%22maxNativeZoom%22%3A%2018%2C%0A%20%20%20%20%20%20%20%20%22maxZoom%22%3A%2018%2C%0A%20%20%20%20%20%20%20%20%22minZoom%22%3A%200%2C%0A%20%20%20%20%20%20%20%20%22noWrap%22%3A%20false%2C%0A%20%20%20%20%20%20%20%20%22opacity%22%3A%201%2C%0A%20%20%20%20%20%20%20%20%22subdomains%22%3A%20%22abc%22%2C%0A%20%20%20%20%20%20%20%20%22tms%22%3A%20false%0A%7D%20%29%3B%0A%0A%20%20%20%20%20%20%20%20var%20mini_map_f593e39005fa4b8193e881434d08a26d%20%3D%20new%20L.Control.MiniMap%28%20tile_layer_285c9b88d84145b4bd82a799954955fb%2C%0A%20%20%20%20%20%20%20%20%20%7B%0A%20%20%22autoToggleDisplay%22%3A%20false%2C%0A%20%20%22centerFixed%22%3A%20false%2C%0A%20%20%22collapsedHeight%22%3A%2025%2C%0A%20%20%22collapsedWidth%22%3A%2025%2C%0A%20%20%22height%22%3A%20150%2C%0A%20%20%22minimized%22%3A%20false%2C%0A%20%20%22position%22%3A%20%22bottomright%22%2C%0A%20%20%22toggleDisplay%22%3A%20false%2C%0A%20%20%22width%22%3A%20150%2C%0A%20%20%22zoomAnimation%22%3A%20false%2C%0A%20%20%22zoomLevelFixed%22%3A%207%2C%0A%20%20%22zoomLevelOffset%22%3A%20-5%0A%7D%29%3B%0A%20%20%20%20%20%20%20%20map_7efc26bb101f4607bd1753f79bd854d2.addControl%28mini_map_f593e39005fa4b8193e881434d08a26d%29%3B%0A%0A%20%20%20%20%20%20%20%20%0A%20%20%20%20%0A%20%20%20%20%20%20%20%20%20%20%20%20var%20layer_control_f24b1f7b99ce4072bddf39b37bee9a4c%20%3D%20%7B%0A%20%20%20%20%20%20%20%20%20%20%20%20%20%20%20%20base_layers%20%3A%20%7B%20%22openstreetmap%22%20%3A%20tile_layer_0dc5360860754585acd18868c1598033%2C%20%7D%2C%0A%20%20%20%20%20%20%20%20%20%20%20%20%20%20%20%20overlays%20%3A%20%7B%20%22%28%272020-01-06%2015%3A26%3A41%27%2C%2018.699211%29%22%20%3A%20tile_layer_d883c0272f6a414c907d8f69a83b3368%2C%22%28%272020-01-11%2015%3A26%3A41%27%2C%206.048869%29%22%20%3A%20tile_layer_ba5154a8f09047b8a2f8f05ef8b9f012%2C%22%28%272020-01-16%2015%3A26%3A41%27%2C%2044.984229%29%22%20%3A%20tile_layer_eff427b3da5c4d9080122a0f3aca53a4%2C%22%28%272020-01-26%2015%3A26%3A40%27%2C%2022.385158%29%22%20%3A%20tile_layer_bbac49c8fd2f4b128e6bdee8ef0c59de%2C%20%7D%0A%20%20%20%20%20%20%20%20%20%20%20%20%20%20%20%20%7D%3B%0A%20%20%20%20%20%20%20%20%20%20%20%20L.control.layers%28%0A%20%20%20%20%20%20%20%20%20%20%20%20%20%20%20%20layer_control_f24b1f7b99ce4072bddf39b37bee9a4c.base_layers%2C%0A%20%20%20%20%20%20%20%20%20%20%20%20%20%20%20%20layer_control_f24b1f7b99ce4072bddf39b37bee9a4c.overlays%2C%0A%20%20%20%20%20%20%20%20%20%20%20%20%20%20%20%20%7Bposition%3A%20%27topright%27%2C%0A%20%20%20%20%20%20%20%20%20%20%20%20%20%20%20%20%20collapsed%3A%20true%2C%0A%20%20%20%20%20%20%20%20%20%20%20%20%20%20%20%20%20autoZIndex%3A%20true%0A%20%20%20%20%20%20%20%20%20%20%20%20%20%20%20%20%7D%29.addTo%28map_7efc26bb101f4607bd1753f79bd854d2%29%3B%0A%20%20%20%20%20%20%20%20%20%20%20%20%0A%20%20%20%20%20%20%20%20%0A%3C/script%3E onload=\"this.contentDocument.open();this.contentDocument.write(    decodeURIComponent(this.getAttribute('data-html')));this.contentDocument.close();\" allowfullscreen webkitallowfullscreen mozallowfullscreen></iframe></div></div>"
            ],
            "text/plain": [
              "<folium.folium.Map at 0x7f81c429fed0>"
            ]
          },
          "metadata": {
            "tags": []
          },
          "execution_count": 84
        }
      ]
    },
    {
      "cell_type": "markdown",
      "metadata": {
        "id": "YOQoWGuiSYyD"
      },
      "source": [
        "#### **Prueba 2 - Aplicación de máscara de nubes**"
      ]
    },
    {
      "cell_type": "markdown",
      "metadata": {
        "id": "kpslzGIBNWbu"
      },
      "source": [
        "- [Obscured by Clouds: A Comparative Analysis of Cloud Removal Methods](https://medium.com/project-canopy/obscured-by-clouds-a-comparative-analysis-of-cloud-removal-methods-b9b1c30c4e1f)"
      ]
    },
    {
      "cell_type": "markdown",
      "metadata": {
        "id": "jiy-pYag0Y0p"
      },
      "source": [
        "##### Prueba 1: [Usar banda QA](https://developers.google.com/earth-engine/datasets/catalog/COPERNICUS_S2_SR) (Método convencional) "
      ]
    },
    {
      "cell_type": "markdown",
      "metadata": {
        "id": "DkgnP6Ok5D_b"
      },
      "source": [
        "<center>\n",
        "<img src=\"https://user-images.githubusercontent.com/16768318/72954392-1b403880-3d90-11ea-9956-15e607f00fcb.png\" width = 50%/>\n",
        "</center>"
      ]
    },
    {
      "cell_type": "code",
      "metadata": {
        "id": "z8BgKB1-3lNQ"
      },
      "source": [
        "# @markdown Función: `maskS2clouds`\n",
        "\n",
        "def maskS2clouds(image):\n",
        "  qa = image.select('QA60')\n",
        "\n",
        "  # Bits 10 and 11 are clouds and cirrus, respectively.\n",
        "  cloudBitMask = 1 << 10\n",
        "  cirrusBitMask = 1 << 11\n",
        "\n",
        "  # Both flags should be set to zero, indicating clear conditions.\n",
        "  mask = qa.bitwiseAnd(cloudBitMask).eq(0)\\\n",
        "    .And(qa.bitwiseAnd(cirrusBitMask).eq(0))\n",
        "\n",
        "  return image.updateMask(mask).divide(10000)"
      ],
      "execution_count": null,
      "outputs": []
    },
    {
      "cell_type": "code",
      "metadata": {
        "colab": {
          "base_uri": "https://localhost:8080/",
          "height": 854
        },
        "id": "BPcvnx7f1CbQ",
        "outputId": "12615972-4f4e-40fa-eedd-1092160e0f33"
      },
      "source": [
        "prueba_nubes = ee.Image('COPERNICUS/S2_SR/20200106T151701_20200106T152458_T18LUL').clip(roi_clip)\n",
        "resultado_1 = maskS2clouds(prueba_nubes)\n",
        "\n",
        "mapdisplay(centroide, {'s2_prueba':resultado_1.getMapId({'min':0.0, 'max':0.3, 'bands':['B4','B3','B2']})}, zoom_start=12)"
      ],
      "execution_count": null,
      "outputs": [
        {
          "output_type": "execute_result",
          "data": {
            "text/html": [
              "<div style=\"width:100%;\"><div style=\"position:relative;width:100%;height:0;padding-bottom:60%;\"><span style=\"color:#565656\">Make this Notebook Trusted to load map: File -> Trust Notebook</span><iframe src=\"about:blank\" style=\"position:absolute;width:100%;height:100%;left:0;top:0;border:none !important;\" data-html=%3C%21DOCTYPE%20html%3E%0A%3Chead%3E%20%20%20%20%0A%20%20%20%20%3Cmeta%20http-equiv%3D%22content-type%22%20content%3D%22text/html%3B%20charset%3DUTF-8%22%20/%3E%0A%20%20%20%20%3Cscript%3EL_PREFER_CANVAS%3Dfalse%3B%20L_NO_TOUCH%3Dfalse%3B%20L_DISABLE_3D%3Dfalse%3B%3C/script%3E%0A%20%20%20%20%3Cscript%20src%3D%22https%3A//cdn.jsdelivr.net/npm/leaflet%401.4.0/dist/leaflet.js%22%3E%3C/script%3E%0A%20%20%20%20%3Cscript%20src%3D%22https%3A//code.jquery.com/jquery-1.12.4.min.js%22%3E%3C/script%3E%0A%20%20%20%20%3Cscript%20src%3D%22https%3A//maxcdn.bootstrapcdn.com/bootstrap/3.2.0/js/bootstrap.min.js%22%3E%3C/script%3E%0A%20%20%20%20%3Cscript%20src%3D%22https%3A//cdnjs.cloudflare.com/ajax/libs/Leaflet.awesome-markers/2.0.2/leaflet.awesome-markers.js%22%3E%3C/script%3E%0A%20%20%20%20%3Clink%20rel%3D%22stylesheet%22%20href%3D%22https%3A//cdn.jsdelivr.net/npm/leaflet%401.4.0/dist/leaflet.css%22/%3E%0A%20%20%20%20%3Clink%20rel%3D%22stylesheet%22%20href%3D%22https%3A//maxcdn.bootstrapcdn.com/bootstrap/3.2.0/css/bootstrap.min.css%22/%3E%0A%20%20%20%20%3Clink%20rel%3D%22stylesheet%22%20href%3D%22https%3A//maxcdn.bootstrapcdn.com/bootstrap/3.2.0/css/bootstrap-theme.min.css%22/%3E%0A%20%20%20%20%3Clink%20rel%3D%22stylesheet%22%20href%3D%22https%3A//maxcdn.bootstrapcdn.com/font-awesome/4.6.3/css/font-awesome.min.css%22/%3E%0A%20%20%20%20%3Clink%20rel%3D%22stylesheet%22%20href%3D%22https%3A//cdnjs.cloudflare.com/ajax/libs/Leaflet.awesome-markers/2.0.2/leaflet.awesome-markers.css%22/%3E%0A%20%20%20%20%3Clink%20rel%3D%22stylesheet%22%20href%3D%22https%3A//rawcdn.githack.com/python-visualization/folium/master/folium/templates/leaflet.awesome.rotate.css%22/%3E%0A%20%20%20%20%3Cstyle%3Ehtml%2C%20body%20%7Bwidth%3A%20100%25%3Bheight%3A%20100%25%3Bmargin%3A%200%3Bpadding%3A%200%3B%7D%3C/style%3E%0A%20%20%20%20%3Cstyle%3E%23map%20%7Bposition%3Aabsolute%3Btop%3A0%3Bbottom%3A0%3Bright%3A0%3Bleft%3A0%3B%7D%3C/style%3E%0A%20%20%20%20%0A%20%20%20%20%3Cmeta%20name%3D%22viewport%22%20content%3D%22width%3Ddevice-width%2C%0A%20%20%20%20%20%20%20%20initial-scale%3D1.0%2C%20maximum-scale%3D1.0%2C%20user-scalable%3Dno%22%20/%3E%0A%20%20%20%20%3Cstyle%3E%23map_f33d863542db4c50bb9faf8fa3d8c2f7%20%7B%0A%20%20%20%20%20%20%20%20position%3A%20relative%3B%0A%20%20%20%20%20%20%20%20width%3A%20100.0%25%3B%0A%20%20%20%20%20%20%20%20height%3A%20100.0%25%3B%0A%20%20%20%20%20%20%20%20left%3A%200.0%25%3B%0A%20%20%20%20%20%20%20%20top%3A%200.0%25%3B%0A%20%20%20%20%20%20%20%20%7D%0A%20%20%20%20%3C/style%3E%0A%20%20%20%20%3Cscript%20src%3D%22https%3A//cdnjs.cloudflare.com/ajax/libs/leaflet-minimap/3.6.1/Control.MiniMap.js%22%3E%3C/script%3E%0A%20%20%20%20%3Clink%20rel%3D%22stylesheet%22%20href%3D%22https%3A//cdnjs.cloudflare.com/ajax/libs/leaflet-minimap/3.6.1/Control.MiniMap.css%22/%3E%0A%3C/head%3E%0A%3Cbody%3E%20%20%20%20%0A%20%20%20%20%0A%20%20%20%20%3Cdiv%20class%3D%22folium-map%22%20id%3D%22map_f33d863542db4c50bb9faf8fa3d8c2f7%22%20%3E%3C/div%3E%0A%3C/body%3E%0A%3Cscript%3E%20%20%20%20%0A%20%20%20%20%0A%20%20%20%20%0A%20%20%20%20%20%20%20%20var%20bounds%20%3D%20null%3B%0A%20%20%20%20%0A%0A%20%20%20%20var%20map_f33d863542db4c50bb9faf8fa3d8c2f7%20%3D%20L.map%28%0A%20%20%20%20%20%20%20%20%27map_f33d863542db4c50bb9faf8fa3d8c2f7%27%2C%20%7B%0A%20%20%20%20%20%20%20%20center%3A%20%5B-13.4589%2C%20-76.0908%5D%2C%0A%20%20%20%20%20%20%20%20zoom%3A%2012%2C%0A%20%20%20%20%20%20%20%20maxBounds%3A%20bounds%2C%0A%20%20%20%20%20%20%20%20layers%3A%20%5B%5D%2C%0A%20%20%20%20%20%20%20%20worldCopyJump%3A%20false%2C%0A%20%20%20%20%20%20%20%20crs%3A%20L.CRS.EPSG3857%2C%0A%20%20%20%20%20%20%20%20zoomControl%3A%20true%2C%0A%20%20%20%20%20%20%20%20%7D%29%3B%0AL.control.scale%28%29.addTo%28map_f33d863542db4c50bb9faf8fa3d8c2f7%29%3B%0A%0A%20%20%20%20%0A%20%20%20%20var%20tile_layer_c6fd3e0195774e47955c7e470e932c8c%20%3D%20L.tileLayer%28%0A%20%20%20%20%20%20%20%20%27https%3A//%7Bs%7D.tile.openstreetmap.org/%7Bz%7D/%7Bx%7D/%7By%7D.png%27%2C%0A%20%20%20%20%20%20%20%20%7B%0A%20%20%20%20%20%20%20%20%22attribution%22%3A%20null%2C%0A%20%20%20%20%20%20%20%20%22detectRetina%22%3A%20false%2C%0A%20%20%20%20%20%20%20%20%22maxNativeZoom%22%3A%2018%2C%0A%20%20%20%20%20%20%20%20%22maxZoom%22%3A%2018%2C%0A%20%20%20%20%20%20%20%20%22minZoom%22%3A%200%2C%0A%20%20%20%20%20%20%20%20%22noWrap%22%3A%20false%2C%0A%20%20%20%20%20%20%20%20%22opacity%22%3A%201%2C%0A%20%20%20%20%20%20%20%20%22subdomains%22%3A%20%22abc%22%2C%0A%20%20%20%20%20%20%20%20%22tms%22%3A%20false%0A%7D%29.addTo%28map_f33d863542db4c50bb9faf8fa3d8c2f7%29%3B%0A%20%20%20%20var%20tile_layer_e5431a00198749f186baacf2c8d766c7%20%3D%20L.tileLayer%28%0A%20%20%20%20%20%20%20%20%27https%3A//earthengine.googleapis.com/v1alpha/projects/earthengine-legacy/maps/231602bb9c1166fc46868474d7d1fbf3-58671dd7f9d25a1b83eb45817ee75859/tiles/%7Bz%7D/%7Bx%7D/%7By%7D%27%2C%0A%20%20%20%20%20%20%20%20%7B%0A%20%20%20%20%20%20%20%20%22attribution%22%3A%20%22Google%20Earth%20Engine%22%2C%0A%20%20%20%20%20%20%20%20%22detectRetina%22%3A%20false%2C%0A%20%20%20%20%20%20%20%20%22maxNativeZoom%22%3A%2018%2C%0A%20%20%20%20%20%20%20%20%22maxZoom%22%3A%2018%2C%0A%20%20%20%20%20%20%20%20%22minZoom%22%3A%200%2C%0A%20%20%20%20%20%20%20%20%22noWrap%22%3A%20false%2C%0A%20%20%20%20%20%20%20%20%22opacity%22%3A%201%2C%0A%20%20%20%20%20%20%20%20%22subdomains%22%3A%20%22abc%22%2C%0A%20%20%20%20%20%20%20%20%22tms%22%3A%20false%0A%7D%29.addTo%28map_f33d863542db4c50bb9faf8fa3d8c2f7%29%3B%0A%20%20%20%20%0A%0A%20%20%20%20%20%20%20%20var%20tile_layer_d429d9efb3d8439296425768c162d89e%20%3D%20L.tileLayer%28%0A%20%20%20%20%20%20%20%20%27https%3A//%7Bs%7D.tile.openstreetmap.org/%7Bz%7D/%7Bx%7D/%7By%7D.png%27%2C%0A%20%20%20%20%20%20%20%20%7B%0A%20%20%20%20%20%20%20%20%22attribution%22%3A%20null%2C%0A%20%20%20%20%20%20%20%20%22detectRetina%22%3A%20false%2C%0A%20%20%20%20%20%20%20%20%22maxNativeZoom%22%3A%2018%2C%0A%20%20%20%20%20%20%20%20%22maxZoom%22%3A%2018%2C%0A%20%20%20%20%20%20%20%20%22minZoom%22%3A%200%2C%0A%20%20%20%20%20%20%20%20%22noWrap%22%3A%20false%2C%0A%20%20%20%20%20%20%20%20%22opacity%22%3A%201%2C%0A%20%20%20%20%20%20%20%20%22subdomains%22%3A%20%22abc%22%2C%0A%20%20%20%20%20%20%20%20%22tms%22%3A%20false%0A%7D%20%29%3B%0A%0A%20%20%20%20%20%20%20%20var%20mini_map_a85e69481d33453e99637edf9a39e76f%20%3D%20new%20L.Control.MiniMap%28%20tile_layer_d429d9efb3d8439296425768c162d89e%2C%0A%20%20%20%20%20%20%20%20%20%7B%0A%20%20%22autoToggleDisplay%22%3A%20false%2C%0A%20%20%22centerFixed%22%3A%20false%2C%0A%20%20%22collapsedHeight%22%3A%2025%2C%0A%20%20%22collapsedWidth%22%3A%2025%2C%0A%20%20%22height%22%3A%20150%2C%0A%20%20%22minimized%22%3A%20false%2C%0A%20%20%22position%22%3A%20%22bottomright%22%2C%0A%20%20%22toggleDisplay%22%3A%20false%2C%0A%20%20%22width%22%3A%20150%2C%0A%20%20%22zoomAnimation%22%3A%20false%2C%0A%20%20%22zoomLevelFixed%22%3A%207%2C%0A%20%20%22zoomLevelOffset%22%3A%20-5%0A%7D%29%3B%0A%20%20%20%20%20%20%20%20map_f33d863542db4c50bb9faf8fa3d8c2f7.addControl%28mini_map_a85e69481d33453e99637edf9a39e76f%29%3B%0A%0A%20%20%20%20%20%20%20%20%0A%20%20%20%20%0A%20%20%20%20%20%20%20%20%20%20%20%20var%20layer_control_d0b4c64040514a5ca71d0ccfed69228e%20%3D%20%7B%0A%20%20%20%20%20%20%20%20%20%20%20%20%20%20%20%20base_layers%20%3A%20%7B%20%22openstreetmap%22%20%3A%20tile_layer_c6fd3e0195774e47955c7e470e932c8c%2C%20%7D%2C%0A%20%20%20%20%20%20%20%20%20%20%20%20%20%20%20%20overlays%20%3A%20%7B%20%22s2_prueba%22%20%3A%20tile_layer_e5431a00198749f186baacf2c8d766c7%2C%20%7D%0A%20%20%20%20%20%20%20%20%20%20%20%20%20%20%20%20%7D%3B%0A%20%20%20%20%20%20%20%20%20%20%20%20L.control.layers%28%0A%20%20%20%20%20%20%20%20%20%20%20%20%20%20%20%20layer_control_d0b4c64040514a5ca71d0ccfed69228e.base_layers%2C%0A%20%20%20%20%20%20%20%20%20%20%20%20%20%20%20%20layer_control_d0b4c64040514a5ca71d0ccfed69228e.overlays%2C%0A%20%20%20%20%20%20%20%20%20%20%20%20%20%20%20%20%7Bposition%3A%20%27topright%27%2C%0A%20%20%20%20%20%20%20%20%20%20%20%20%20%20%20%20%20collapsed%3A%20true%2C%0A%20%20%20%20%20%20%20%20%20%20%20%20%20%20%20%20%20autoZIndex%3A%20true%0A%20%20%20%20%20%20%20%20%20%20%20%20%20%20%20%20%7D%29.addTo%28map_f33d863542db4c50bb9faf8fa3d8c2f7%29%3B%0A%20%20%20%20%20%20%20%20%20%20%20%20%0A%20%20%20%20%20%20%20%20%0A%3C/script%3E onload=\"this.contentDocument.open();this.contentDocument.write(    decodeURIComponent(this.getAttribute('data-html')));this.contentDocument.close();\" allowfullscreen webkitallowfullscreen mozallowfullscreen></iframe></div></div>"
            ],
            "text/plain": [
              "<folium.folium.Map at 0x7ff85ee75fd0>"
            ]
          },
          "metadata": {
            "tags": []
          },
          "execution_count": 15
        }
      ]
    },
    {
      "cell_type": "markdown",
      "metadata": {
        "id": "M3kPUjFf0goe"
      },
      "source": [
        "##### Prueba 2: Sentinel-2 Cloud Probability"
      ]
    },
    {
      "cell_type": "markdown",
      "metadata": {
        "id": "qUkvOjV9vB7d"
      },
      "source": [
        "> **Máscara de nubes con Sentinel-2: Cloud Probability**\n",
        "\n",
        "Referencias\n",
        "- [EE: Sentinel-2: Cloud Probability](https://developers.google.com/earth-engine/datasets/catalog/COPERNICUS_S2_CLOUD_PROBABILITY)\n",
        "- Turorial para Python: [EE: Sentinel-2 Cloud Masking with s2cloudless](https://developers.google.com/earth-engine/tutorials/community/sentinel-2-s2cloudless)\n",
        "- Aplicación de [navegador de imágenes S2 SR](https://showcase.earthengine.app/view/s2-sr-browser-s2cloudless-nb) útil para identificar rápidamente imágenes y determinar los criterios de filtro de colección de imágenes.\n",
        "\n",
        "Blogs:\n",
        "- [Medium: Cloud Masks at Your Service](https://medium.com/sentinel-hub/cloud-masks-at-your-service-6e5b2cb2ce8a)\n",
        "- [Medium: On cloud detection with multi-temporal data](https://medium.com/sentinel-hub/on-cloud-detection-with-multi-temporal-data-f64f9b8d59e5)\n",
        "- [Sentinel-hub: Cloudless](https://docs.sentinel-hub.com/api/latest/user-guides/cloud-masks/#cloud-masks-and-cloud-probabilities)\n",
        "- [Land Cover Classification with eo-learn: Part 1 - Mastering Satellite Data in an Open-Source Python Environment](https://medium.com/sentinel-hub/land-cover-classification-with-eo-learn-part-1-2471e8098195)\n",
        "- [Medium: How to Make the Perfect Time-Lapse of the Earth](https://medium.com/sentinel-hub/how-to-make-the-perfect-time-lapse-of-the-earth-351f214527f6)"
      ]
    },
    {
      "cell_type": "markdown",
      "metadata": {
        "id": "wSAkyrUE-0cU"
      },
      "source": [
        "#### **Prueba 3 - Aplicación de Índices de Vegetación**"
      ]
    },
    {
      "cell_type": "code",
      "metadata": {
        "id": "0RsT0tjJ1Nfg",
        "cellView": "form"
      },
      "source": [
        "# @markdown Diccionarios generados: `imgs_2019_id`, `imgs_2020_id`\n",
        "imgs_2019_id = [\n",
        "    'COPERNICUS/S2_SR/20190126T151709_20190126T151946_T18LUL',\n",
        "    'COPERNICUS/S2_SR/20190205T151709_20190205T152124_T18LUL',\n",
        "    'COPERNICUS/S2_SR/20190317T151659_20190317T151944_T18LUL',\n",
        "    'COPERNICUS/S2_SR/20190411T151711_20190411T152328_T18LUL',\n",
        "    'COPERNICUS/S2_SR/20190501T151711_20190501T151806_T18LUL',\n",
        "    'COPERNICUS/S2_SR/20190615T151709_20190615T152011_T18LUL',\n",
        "    'COPERNICUS/S2_SR/20190725T151709_20190725T152436_T18LUL',\n",
        "    'COPERNICUS/S2_SR/20190819T151711_20190819T151812_T18LUL',\n",
        "    'COPERNICUS/S2_SR/20190908T151701_20190908T151801_T18LUL',\n",
        "    'COPERNICUS/S2_SR/20191028T151711_20191028T152253_T18LUL',\n",
        "    'COPERNICUS/S2_SR/20191102T151709_20191102T151711_T18LUL',\n",
        "    'COPERNICUS/S2_SR/20191227T151701_20191227T152458_T18LUL'\n",
        "]\n",
        "\n",
        "imgs_2020_id = [\n",
        "    'COPERNICUS/S2_SR/20200111T151659_20200111T151911_T18LUL',\n",
        "    'COPERNICUS/S2_SR/20200205T151701_20200205T151919_T18LUL',\n",
        "    'COPERNICUS/S2_SR/20200311T151659_20200311T152350_T18LUL',\n",
        "    'COPERNICUS/S2_SR/20200420T151659_20200420T151727_T18LUL',\n",
        "    'COPERNICUS/S2_SR/20200510T151659_20200510T152614_T18LUL',\n",
        "    'COPERNICUS/S2_SR/20200619T151709_20200619T151919_T18LUL',\n",
        "    'COPERNICUS/S2_SR/20200724T151711_20200724T151814_T18LUL',\n",
        "    'COPERNICUS/S2_SR/20200813T151711_20200813T151800_T18LUL',\n",
        "    'COPERNICUS/S2_SR/20200927T151709_20200927T151805_T18LUL',\n",
        "    'COPERNICUS/S2_SR/20201022T151711_20201022T152346_T18LUL',\n",
        "    'COPERNICUS/S2_SR/20201111T151711_20201111T152537_T18LUL',\n",
        "    'COPERNICUS/S2_SR/20201221T151701_20201221T152622_T18LUL'\n",
        "]"
      ],
      "execution_count": null,
      "outputs": []
    },
    {
      "cell_type": "code",
      "metadata": {
        "id": "lbxyXtmt6QgX",
        "cellView": "form"
      },
      "source": [
        "# @markdown **Paletas de colores (html)**\n",
        "#------------- Paletas de NDVI ---------------------------------------\n",
        "ndviPalette01 = ['blue', 'white', 'green']\n",
        "\n",
        "# https://developers.google.com/earth-engine/datasets/catalog/NASA_GIMMS_3GV0?hl=en\n",
        "ndviPalette02 = ['000000', 'f5f5f5', '119701']\n",
        "\n",
        "# https://developers.google.com/earth-engine/datasets/catalog/MODIS_006_MOD13A1?hl=en#description\n",
        "ndviPalette03 = [\n",
        "    'FFFFFF', 'CE7E45', 'DF923D', 'F1B555', 'FCD163', '99B718', '74A901',\n",
        "    '66A000', '529400', '3E8601', '207401', '056201', '004C00', '023B01',\n",
        "    '012E01', '011D01', '011301'\n",
        "]\n",
        "\n",
        "# Paleta NDVI (Yuri SIG) 20 Colores\n",
        "# @markdown - `yuri_ndvi_pal`\n",
        "yuri_ndvi_pal = [\n",
        "    'ffffff', 'fffcff', 'fff9ff', 'fff7ff', 'fff4ff', 'fff2ff', 'ffefff',\n",
        "    'ffecff', 'ffeaff', 'ffe7ff', 'ffe5ff', 'ffe2ff', 'ffe0ff', 'ffddff',\n",
        "    'ffdaff', 'ffd8ff', 'ffd5ff', 'ffd3ff', 'ffd0ff', 'ffceff', 'ffcbff',\n",
        "    'ffc8ff', 'ffc6ff', 'ffc3ff', 'ffc1ff', 'ffbeff', 'ffbcff', 'ffb9ff',\n",
        "    'ffb6ff', 'ffb4ff', 'ffb1ff', 'ffafff', 'ffacff', 'ffaaff', 'ffa7ff',\n",
        "    'ffa4ff', 'ffa2ff', 'ff9fff', 'ff9dff', 'ff9aff', 'ff97ff', 'ff95ff',\n",
        "    'ff92ff', 'ff90ff', 'ff8dff', 'ff8bff', 'ff88ff', 'ff85ff', 'ff83ff',\n",
        "    'ff80ff', 'ff7eff', 'ff7bff', 'ff79ff', 'ff76ff', 'ff73ff', 'ff71ff',\n",
        "    'ff6eff', 'ff6cff', 'ff69ff', 'ff67ff', 'ff64ff', 'ff61ff', 'ff5fff',\n",
        "    'ff5cff', 'ff5aff', 'ff57ff', 'ff55ff', 'ff52ff', 'ff4fff', 'ff4dff',\n",
        "    'ff4aff', 'ff48ff', 'ff45ff', 'ff42ff', 'ff40ff', 'ff3dff', 'ff3bff',\n",
        "    'ff38ff', 'ff36ff', 'ff33ff', 'ff30ff', 'ff2eff', 'ff2bff', 'ff29ff',\n",
        "    'ff26ff', 'ff24ff', 'ff21ff', 'ff1eff', 'ff1cff', 'ff19ff', 'ff17ff',\n",
        "    'ff14ff', 'ff12ff', 'ff0fff', 'ff0cff', 'ff0aff', 'ff07ff', 'ff05ff',\n",
        "    'ff02ff', 'ff00ff', 'ff00ff', 'ff0af4', 'ff15e9', 'ff1fdf', 'ff2ad4',\n",
        "    'ff35c9', 'ff3fbf', 'ff4ab4', 'ff55aa', 'ff5f9f', 'ff6a94', 'ff748a',\n",
        "    'ff7f7f', 'ff8a74', 'ff946a', 'ff9f5f', 'ffaa55', 'ffb44a', 'ffbf3f',\n",
        "    'ffc935', 'ffd42a', 'ffdf1f', 'ffe915', 'fff40a', 'ffff00', 'ffff00',\n",
        "    'fffb00', 'fff700', 'fff300', 'fff000', 'ffec00', 'ffe800', 'ffe400',\n",
        "    'ffe100', 'ffdd00', 'ffd900', 'ffd500', 'ffd200', 'ffce00', 'ffca00',\n",
        "    'ffc600', 'ffc300', 'ffbf00', 'ffbb00', 'ffb700', 'ffb400', 'ffb000',\n",
        "    'ffac00', 'ffa800', 'ffa500', 'ffa500', 'f7a400', 'f0a300', 'e8a200',\n",
        "    'e1a200', 'd9a100', 'd2a000', 'ca9f00', 'c39f00', 'bb9e00', 'b49d00',\n",
        "    'ac9c00', 'a59c00', '9d9b00', '969a00', '8e9900', '879900', '7f9800',\n",
        "    '789700', '709700', '699600', '619500', '5a9400', '529400', '4b9300',\n",
        "    '439200', '349100', '2d9000', '258f00', '1e8e00', '168e00', '0f8d00',\n",
        "    '078c00', '008c00', '008c00', '008700', '008300', '007f00', '007a00',\n",
        "    '007600', '007200', '006e00', '006900', '006500', '006100', '005c00',\n",
        "    '005800', '005400', '005000', '004c00'\n",
        "]\n",
        "\n",
        "#------------- Paletas de EVI ---------------------------------------\n",
        "evi_palette = [\n",
        "    'ffffff', 'fcd163', '99b718', '66a000', '3e8601', '207401', '056201',\n",
        "    '004c00', '011301'\n",
        "]\n",
        "\n",
        "ndvi_palette = [\n",
        "    \"#051852\", \"#FFFFFF\", \"#C7B59B\", \"#A8B255\", \"#A3C020\", \"#76AD00\",\n",
        "    \"#429001\", \"#006400\", \"#003B00\", \"#000000\"\n",
        "]"
      ],
      "execution_count": null,
      "outputs": []
    },
    {
      "cell_type": "code",
      "metadata": {
        "id": "OWbWFfxmHmxC"
      },
      "source": [
        "# @markdown Función NDVI \n",
        "\n",
        "def ndvi_icol(image):\n",
        "  ndvi = image.expression(\n",
        "      '(nir - red) / (nir + red)',\n",
        "      {'red' : image.select('B4').divide(10000),\n",
        "       'nir' : image.select('B8').divide(10000)}).rename('NDVI')\n",
        "  return ndvi\n",
        "\n",
        "# def ndvi_icol(image):\n",
        "#   ndvi = image.normalizedDifference(['B8','B4']).rename('ndvi')\n",
        "#   return image.addBands([ndvi])"
      ],
      "execution_count": null,
      "outputs": []
    },
    {
      "cell_type": "code",
      "metadata": {
        "id": "oeFhMcfbh-pR",
        "cellView": "form"
      },
      "source": [
        "# @markdown Función EVI\n",
        "\n",
        "# def evi_s2(image):\n",
        "#   nir  = image.select(['B8']).divide(10000)\n",
        "#   red  = image.select(['B4']).divide(10000)\n",
        "#   blue = image.select(['B2']).divide(10000)\n",
        "#   return nir.subtract(red).divide(nir.add(red.multiply(6)).subtract(blue.multiply(7.5)).add(1)).multiply(2.5).rename('EVI')\n",
        "\n",
        "def evi_icol(img):\n",
        "  \"\"\"\n",
        "  https://developers.google.com/earth-engine/guides/image_math#expressions\n",
        "  \"\"\"\n",
        "  evi = img.expression('2.5 * (nir - red) / (nir + 6 * red - 7.5 * blue + 1)',\n",
        "                       {'red' : img.select('B4').divide(10000),\n",
        "                        'nir' : img.select('B8').divide(10000),\n",
        "                        'blue': img.select('B2').divide(10000)}).rename('EVI')\n",
        "\n",
        "  return evi\n",
        "\n",
        "# https://colab.research.google.com/drive/1GCAoapxKzGbT2HcKfKOIf_WDObumoOqJ#scrollTo=5HVOHGM17_8L"
      ],
      "execution_count": null,
      "outputs": []
    },
    {
      "cell_type": "markdown",
      "metadata": {
        "id": "w3PUSwup562d"
      },
      "source": [
        "##### ***Índices de Vegetación - Descripción***"
      ]
    },
    {
      "cell_type": "markdown",
      "metadata": {
        "id": "I9_FGrC3I5Gc"
      },
      "source": [
        "Información de Índices de Vegetación\n",
        "\n",
        "- [The MODIS vegetation index (VI) products](https://lpdaac.usgs.gov/documents/103/MOD13_User_Guide_V6.pdf)\n",
        "\n",
        "Vegetation Indices (VI) are robust, empirical measures of vegetation activity at the land surface. They are designed to enhance the vegetation reflected signal from measured spectral responses by combining two (or more) wavebands, often in the red(0.6 - 0.7 μm) and NIR wavelengths (0.7 - 1.1 μm) regions.\n",
        "\n",
        "The second VI product is the Enhanced Vegetation Index (EVI), with improved sensitivity over high biomass regions and  improved vegetation monitoring capability  through a decoupling of the canopy background signal and a reduction in atmosphere influences.\n",
        "\n",
        "- [Measuring Vegetation (NDVI & EVI)](https://earthobservatory.nasa.gov/features/MeasuringVegetation/measuring_vegetation_3.php)\n",
        "- [Datasets tagged evi in Earth Engine:](https://developers.google.com/earth-engine/datasets/tags/evi)\n",
        "  - [MYD13A1.006 Aqua Vegetation Indices 16-Day Global 500m](https://developers.google.com/earth-engine/datasets/catalog/MODIS_006_MYD13A1)\n",
        "  - [MYD13A2.006 Aqua Vegetation Indices 16-Day Global 1km](https://developers.google.com/earth-engine/datasets/catalog/MODIS_006_MYD13A2)\n",
        "  - [Oxford MAP EVI: Malaria Atlas Project Gap-Filled Enhanced Vegetation Index](https://developers.google.com/earth-engine/datasets/catalog/Oxford_MAP_EVI_5km_Monthly)"
      ]
    },
    {
      "cell_type": "markdown",
      "metadata": {
        "id": "cJvw_seyIOgz"
      },
      "source": [
        "###### **[Vegetation Index - Wikipedia](https://en.wikipedia.org/wiki/Vegetation_Index)**"
      ]
    },
    {
      "cell_type": "markdown",
      "metadata": {
        "id": "d7yxijYbJQZG"
      },
      "source": [
        "- A Vegetation Index (VI) is a spectral transformation of two or more bands designed to enhance the contribution of vegetation properties and allow reliable spatial and temporal inter-comparisons of terrestrial photosynthetic activity and canopy structural variations.\n",
        "- Many of the indices make use of the inverse relationship between red and near-infrared reflectance associated with healthy green vegetation. \n",
        "- Since the 1960s scientists have used satellite remote sensing to monitor fluctuation in vegetation at the Earth's surface. Measurements of vegetation attributes include:\n",
        "  - leaf area index (LAI),\n",
        "  - percent green cover,\n",
        "  - chlorophyll content,\n",
        "  - green biomass and\n",
        "  - absorbed photosynthetically active radiation (APAR).\n",
        "- Vegetation Indices (VIs) have been historically classified based on a range of attributes, including:\n",
        "  - the number of spectral bands (2 or greather than 2),\n",
        "  - the method of calculations (ratio or orthogonal),\n",
        "  - depending on the required objective\n",
        "  - or by their historical development (classified as first generation VIs or second generation VIs)\n",
        "- For the sake of comparison of the effectiveness of different VIs, Lyon, Yuan et al. (1998) classified 7 VIs based on their computation methods (subtraction, division or rational transform). "
      ]
    },
    {
      "cell_type": "markdown",
      "metadata": {
        "id": "TfrYwnwfNVci"
      },
      "source": [
        "Vegetation indices have been used to:\n",
        "- examine climate trends\n",
        "- estimate water content of soils remotely,\n",
        "- monitor drought\n",
        "- schedule crop irrigation, crop management,\n",
        "- monitor evaporation and plant transpiration\n",
        "- assess changes in biodiversity,\n",
        "- [classify vegetation](https://www.tandfonline.com/doi/abs/10.1080/01431169008955174)"
      ]
    },
    {
      "cell_type": "markdown",
      "metadata": {
        "id": "eLaRtfJsOE3-"
      },
      "source": [
        "List of vegetation indices (Multispectral):\n",
        "- simple ratio\n",
        "- normalised difference vegetation index (NDVI)\n",
        "- Kauth-Thomas Tasseled Cap Transformation\n",
        "- Infrared index\n",
        "- Perpendicular vegetation index\n",
        "- greenness above bare soil\n",
        "- leaf water content index (LWCI)\n",
        "- MidIR Index\n",
        "- Soil-adjusted vegetation index (SAVI)\n",
        "- Modified SAVI\n",
        "- Atmospherically resistant vegetation index\n",
        "- Soil and Atmospherically resistant vegetation index\n",
        "- Enhanced vegetation index (EVI)\n",
        "- New Vegetation index\n",
        "- Aerosol free vegetation index\n",
        "- Triangular vegetation index\n",
        "- reduced simple ratio\n",
        "- visible atmospherically resistant index\n",
        "- normalised difference built-up index\n",
        "- weighted difference vegetation index (WDVI)\n",
        "- fraction of absorbed photosynthetically active radiation (FAPAR)\n",
        "- Normalised difference greenness index (NDGI)"
      ]
    },
    {
      "cell_type": "markdown",
      "metadata": {
        "id": "x8DlBVnFO69H"
      },
      "source": [
        "List of vegetation indices (Hyperspectral):\n",
        "- discrete-band normalised difference vegetation index\n",
        "- yellowness index\n",
        "- photochemical reflectance index\n",
        "- descrete-band normalised difference water index\n",
        "- red edge position determination\n",
        "- Crop chlorophyll content prediction\n",
        "- moment distance index (MDI)"
      ]
    },
    {
      "cell_type": "markdown",
      "metadata": {
        "id": "t_V5ODyKJKUp"
      },
      "source": [
        "###### **[Overview of the radiometric and biophysical performance of the MODIS vegetation indices](https://www.sciencedirect.com/science/article/abs/pii/S0034425702000962)**"
      ]
    },
    {
      "cell_type": "markdown",
      "metadata": {
        "id": "Ht9RTMZC9qQn"
      },
      "source": [
        "> \n",
        "\n",
        "- Two MODIS vegetation indices (VI), the normalized difference vegetation\n",
        "index (NDVI) and enhanced vegetation index (EVI), are produced at 1-km and 500-m resolutions and 16-day compositing periods.\n",
        "- Our results\n",
        "showed a good correspondence between airborne-measured, top-of-canopy reflectances and VI values with those from the MODIS sensor at\n",
        "four intensively measured test sites representing semi-arid grass/shrub, savanna, and tropical forest biomes.\n",
        "- Multitemporal profiles of the MODIS VIs over numerous biome\n",
        "types in North and South America well represented their seasonal phenologies.\n",
        "- This\n",
        "requires an understanding of the global distribution of\n",
        "vegetation types as well as their biophysical and structural\n",
        "properties and spatial/temporal variations. \n",
        "- Vegetation indices (VIs) are spectral transformations of two or more bands\n",
        "designed to enhance the contribution of vegetation properties and allow reliable spatial and temporal inter-comparisons of terrestrial photosynthetic activity and canopy\n",
        "structural variations. \n",
        "- As a simple transformation of spectral\n",
        "bands, they are computed directly without any bias or\n",
        "assumptions regarding land cover class, soil type, or climatic conditions. They allow us to monitor seasonal, interannual, and long-term variations of vegetation structural,\n",
        "phenological, and biophysical parameters.\n"
      ]
    },
    {
      "cell_type": "markdown",
      "metadata": {
        "id": "O6I5IoeGpk3U"
      },
      "source": [
        "###### Otros links:\n",
        "- [Maximum Likelihood Classification in ArcMap](https://www.coursera.org/lecture/gis-applications/classifying-imagery-and-derived-products-wztEB) \n",
        "- [Enhancing green vegetation using mathematical equations and transformations](http://web.pdx.edu/~nauna/resources/8-2012_lecture1-vegetationindicies.pdf)\n",
        "- https://duckduckgo.com/?q=vegetation+indices+lecture+&ia=web"
      ]
    },
    {
      "cell_type": "code",
      "metadata": {
        "id": "xrRmI1X4foNz"
      },
      "source": [
        "meses_2020 = create_dateranges('2020','month', 1, 13)\n",
        "imgs_2020 = [ee.ImageCollection('COPERNICUS/S2_SR')\n",
        "             .filterDate(meses_2020[i][0], meses_2020[i][1])\\\n",
        "             .filterBounds(ee.Geometry.Point(-76.13, -13.48)) for i in range(len(meses_2020))]\n",
        "imgs_2020_size = [imgs_2020[i].size().getInfo() for i in range(12)]\n",
        "\n",
        "icol_monthly_20 = {}\n",
        "for i in range(12):\n",
        "  IDs = []\n",
        "  icol_monthly_20[i] = IDs\n",
        "  for j in range(imgs_2020_size[i]):\n",
        "    IDs.append(ee.Image(imgs_2020[i].getInfo()['features'][j]['id'])) # Quitar el ee.Image() para obtener solamente IDs\n",
        "# icol_monthly_20"
      ],
      "execution_count": null,
      "outputs": []
    },
    {
      "cell_type": "code",
      "metadata": {
        "colab": {
          "base_uri": "https://localhost:8080/",
          "height": 35
        },
        "id": "8-SWsVGgdX1N",
        "outputId": "b0e2ee73-35fe-4212-dae6-c61ac7b6041e"
      },
      "source": [
        "conv_fecha(icol_monthly_20[0][0])"
      ],
      "execution_count": null,
      "outputs": [
        {
          "output_type": "execute_result",
          "data": {
            "application/vnd.google.colaboratory.intrinsic+json": {
              "type": "string"
            },
            "text/plain": [
              "'2020-01-01 15:26:42'"
            ]
          },
          "metadata": {
            "tags": []
          },
          "execution_count": 28
        }
      ]
    },
    {
      "cell_type": "code",
      "metadata": {
        "id": "zReaKWd5fnZ5"
      },
      "source": [
        "#@markdown Visualización de Imágenes 2020: Por meses\n",
        "mes = 1 #@param [1,2,3,4,5,6,7,8,9,10,11,12] {type:\"raw\"}\n",
        "Natural_Color  = ['B4', 'B3', 'B2']\n",
        "\n",
        "# Diccionario para visualización\n",
        "mydict_20 = {}\n",
        "for i in range(len(icol_monthly_20[mes-1])):\n",
        "  mydict_20[\n",
        "            i,\n",
        "            icol_monthly_20[mes][i-1]\\\n",
        "            .getInfo()['properties']['CLOUDY_PIXEL_PERCENTAGE']] = icol_monthly_20[mes][i-1]\\\n",
        "            .clip(roi_clip).divide(10000)\\\n",
        "            .getMapId({'min':0,'max':0.3,'bands':Natural_Color})\n",
        "\n",
        "print('Cantidad de imágenes del mes {}: {}'.format(mes,len(icol_monthly_20[mes-1])))\n",
        "# Visualización de mejor imagen según porcentaje de nubosidad\n",
        "mapdisplay(centroide, mydict_20, zoom_start=12)"
      ],
      "execution_count": null,
      "outputs": []
    },
    {
      "cell_type": "markdown",
      "metadata": {
        "id": "mWiCx_w36HB9"
      },
      "source": [
        "##### ***Índices de Vegetación - Aplicación de NDVI***"
      ]
    },
    {
      "cell_type": "code",
      "metadata": {
        "colab": {
          "base_uri": "https://localhost:8080/",
          "height": 854
        },
        "id": "RJZSjfAvzEsW",
        "cellView": "form",
        "outputId": "2f7af2e1-984f-4b4b-b011-3b3a1191a7a1"
      },
      "source": [
        "# @title Visualización NDVI\n",
        "Product_name = imgs_2019_id #@param ['imgs_2019_id', 'imgs_2020_id'] {type:\"raw\"}\n",
        "\n",
        "# Aplicar el NDVI a todo el año (12 imágenes)\n",
        "ndvi_prueba = [ndvi_icol(ee.Image(Product_name[i])) for i in range(12)]\n",
        "\n",
        "# Generar capas para visualización\n",
        "vi_dict = {}\n",
        "for i in range(12):\n",
        "  vi_dict[conv_fecha(ee.Image(Product_name[i]))] = \\\n",
        "  ndvi_prueba[i]\\\n",
        "  .clip(roi_clip)\\\n",
        "  .getMapId({'min':0, 'max':0.5, 'palette': yuri_ndvi_pal})\n",
        "\n",
        "# En caso de ver el último mes\n",
        "# vi_dict[conv_fecha(ee.Image(Product_name[11]))] = ndvi_prueba[11].clip(roi_clip).getMapId({'min':0, 'max':0.5, 'palette': yuri_ndvi_pal}) # yuri_ndvi_pal, palette1\n",
        "# vi_dict[11] = ee.Image(Product_name[11]).multiply(0.0001).clip(roi_clip).getMapId({'min':0, 'max':0.3, 'bands': ['B4','B3','B2']})\n",
        "\n",
        "mapdisplay(centroide, vi_dict, zoom_start=12)"
      ],
      "execution_count": null,
      "outputs": [
        {
          "output_type": "execute_result",
          "data": {
            "text/html": [
              "<div style=\"width:100%;\"><div style=\"position:relative;width:100%;height:0;padding-bottom:60%;\"><span style=\"color:#565656\">Make this Notebook Trusted to load map: File -> Trust Notebook</span><iframe src=\"about:blank\" style=\"position:absolute;width:100%;height:100%;left:0;top:0;border:none !important;\" data-html=%3C%21DOCTYPE%20html%3E%0A%3Chead%3E%20%20%20%20%0A%20%20%20%20%3Cmeta%20http-equiv%3D%22content-type%22%20content%3D%22text/html%3B%20charset%3DUTF-8%22%20/%3E%0A%20%20%20%20%3Cscript%3EL_PREFER_CANVAS%3Dfalse%3B%20L_NO_TOUCH%3Dfalse%3B%20L_DISABLE_3D%3Dfalse%3B%3C/script%3E%0A%20%20%20%20%3Cscript%20src%3D%22https%3A//cdn.jsdelivr.net/npm/leaflet%401.4.0/dist/leaflet.js%22%3E%3C/script%3E%0A%20%20%20%20%3Cscript%20src%3D%22https%3A//code.jquery.com/jquery-1.12.4.min.js%22%3E%3C/script%3E%0A%20%20%20%20%3Cscript%20src%3D%22https%3A//maxcdn.bootstrapcdn.com/bootstrap/3.2.0/js/bootstrap.min.js%22%3E%3C/script%3E%0A%20%20%20%20%3Cscript%20src%3D%22https%3A//cdnjs.cloudflare.com/ajax/libs/Leaflet.awesome-markers/2.0.2/leaflet.awesome-markers.js%22%3E%3C/script%3E%0A%20%20%20%20%3Clink%20rel%3D%22stylesheet%22%20href%3D%22https%3A//cdn.jsdelivr.net/npm/leaflet%401.4.0/dist/leaflet.css%22/%3E%0A%20%20%20%20%3Clink%20rel%3D%22stylesheet%22%20href%3D%22https%3A//maxcdn.bootstrapcdn.com/bootstrap/3.2.0/css/bootstrap.min.css%22/%3E%0A%20%20%20%20%3Clink%20rel%3D%22stylesheet%22%20href%3D%22https%3A//maxcdn.bootstrapcdn.com/bootstrap/3.2.0/css/bootstrap-theme.min.css%22/%3E%0A%20%20%20%20%3Clink%20rel%3D%22stylesheet%22%20href%3D%22https%3A//maxcdn.bootstrapcdn.com/font-awesome/4.6.3/css/font-awesome.min.css%22/%3E%0A%20%20%20%20%3Clink%20rel%3D%22stylesheet%22%20href%3D%22https%3A//cdnjs.cloudflare.com/ajax/libs/Leaflet.awesome-markers/2.0.2/leaflet.awesome-markers.css%22/%3E%0A%20%20%20%20%3Clink%20rel%3D%22stylesheet%22%20href%3D%22https%3A//rawcdn.githack.com/python-visualization/folium/master/folium/templates/leaflet.awesome.rotate.css%22/%3E%0A%20%20%20%20%3Cstyle%3Ehtml%2C%20body%20%7Bwidth%3A%20100%25%3Bheight%3A%20100%25%3Bmargin%3A%200%3Bpadding%3A%200%3B%7D%3C/style%3E%0A%20%20%20%20%3Cstyle%3E%23map%20%7Bposition%3Aabsolute%3Btop%3A0%3Bbottom%3A0%3Bright%3A0%3Bleft%3A0%3B%7D%3C/style%3E%0A%20%20%20%20%0A%20%20%20%20%3Cmeta%20name%3D%22viewport%22%20content%3D%22width%3Ddevice-width%2C%0A%20%20%20%20%20%20%20%20initial-scale%3D1.0%2C%20maximum-scale%3D1.0%2C%20user-scalable%3Dno%22%20/%3E%0A%20%20%20%20%3Cstyle%3E%23map_a013106374eb4fb39f33bfe4806551a9%20%7B%0A%20%20%20%20%20%20%20%20position%3A%20relative%3B%0A%20%20%20%20%20%20%20%20width%3A%20100.0%25%3B%0A%20%20%20%20%20%20%20%20height%3A%20100.0%25%3B%0A%20%20%20%20%20%20%20%20left%3A%200.0%25%3B%0A%20%20%20%20%20%20%20%20top%3A%200.0%25%3B%0A%20%20%20%20%20%20%20%20%7D%0A%20%20%20%20%3C/style%3E%0A%20%20%20%20%3Cscript%20src%3D%22https%3A//cdnjs.cloudflare.com/ajax/libs/leaflet-minimap/3.6.1/Control.MiniMap.js%22%3E%3C/script%3E%0A%20%20%20%20%3Clink%20rel%3D%22stylesheet%22%20href%3D%22https%3A//cdnjs.cloudflare.com/ajax/libs/leaflet-minimap/3.6.1/Control.MiniMap.css%22/%3E%0A%3C/head%3E%0A%3Cbody%3E%20%20%20%20%0A%20%20%20%20%0A%20%20%20%20%3Cdiv%20class%3D%22folium-map%22%20id%3D%22map_a013106374eb4fb39f33bfe4806551a9%22%20%3E%3C/div%3E%0A%3C/body%3E%0A%3Cscript%3E%20%20%20%20%0A%20%20%20%20%0A%20%20%20%20%0A%20%20%20%20%20%20%20%20var%20bounds%20%3D%20null%3B%0A%20%20%20%20%0A%0A%20%20%20%20var%20map_a013106374eb4fb39f33bfe4806551a9%20%3D%20L.map%28%0A%20%20%20%20%20%20%20%20%27map_a013106374eb4fb39f33bfe4806551a9%27%2C%20%7B%0A%20%20%20%20%20%20%20%20center%3A%20%5B-13.4589%2C%20-76.0908%5D%2C%0A%20%20%20%20%20%20%20%20zoom%3A%2012%2C%0A%20%20%20%20%20%20%20%20maxBounds%3A%20bounds%2C%0A%20%20%20%20%20%20%20%20layers%3A%20%5B%5D%2C%0A%20%20%20%20%20%20%20%20worldCopyJump%3A%20false%2C%0A%20%20%20%20%20%20%20%20crs%3A%20L.CRS.EPSG3857%2C%0A%20%20%20%20%20%20%20%20zoomControl%3A%20true%2C%0A%20%20%20%20%20%20%20%20%7D%29%3B%0AL.control.scale%28%29.addTo%28map_a013106374eb4fb39f33bfe4806551a9%29%3B%0A%0A%20%20%20%20%0A%20%20%20%20var%20tile_layer_94ac5b581acf42e3ba941669c338f62d%20%3D%20L.tileLayer%28%0A%20%20%20%20%20%20%20%20%27https%3A//%7Bs%7D.tile.openstreetmap.org/%7Bz%7D/%7Bx%7D/%7By%7D.png%27%2C%0A%20%20%20%20%20%20%20%20%7B%0A%20%20%20%20%20%20%20%20%22attribution%22%3A%20null%2C%0A%20%20%20%20%20%20%20%20%22detectRetina%22%3A%20false%2C%0A%20%20%20%20%20%20%20%20%22maxNativeZoom%22%3A%2018%2C%0A%20%20%20%20%20%20%20%20%22maxZoom%22%3A%2018%2C%0A%20%20%20%20%20%20%20%20%22minZoom%22%3A%200%2C%0A%20%20%20%20%20%20%20%20%22noWrap%22%3A%20false%2C%0A%20%20%20%20%20%20%20%20%22opacity%22%3A%201%2C%0A%20%20%20%20%20%20%20%20%22subdomains%22%3A%20%22abc%22%2C%0A%20%20%20%20%20%20%20%20%22tms%22%3A%20false%0A%7D%29.addTo%28map_a013106374eb4fb39f33bfe4806551a9%29%3B%0A%20%20%20%20var%20tile_layer_1f53a99b8df14ee48efeaf0909a0ce92%20%3D%20L.tileLayer%28%0A%20%20%20%20%20%20%20%20%27https%3A//earthengine.googleapis.com/v1alpha/projects/earthengine-legacy/maps/0e54cb11a9b5063757295efb0d631067-2f6932be090e4d09a9fd3e421f6258bc/tiles/%7Bz%7D/%7Bx%7D/%7By%7D%27%2C%0A%20%20%20%20%20%20%20%20%7B%0A%20%20%20%20%20%20%20%20%22attribution%22%3A%20%22Google%20Earth%20Engine%22%2C%0A%20%20%20%20%20%20%20%20%22detectRetina%22%3A%20false%2C%0A%20%20%20%20%20%20%20%20%22maxNativeZoom%22%3A%2018%2C%0A%20%20%20%20%20%20%20%20%22maxZoom%22%3A%2018%2C%0A%20%20%20%20%20%20%20%20%22minZoom%22%3A%200%2C%0A%20%20%20%20%20%20%20%20%22noWrap%22%3A%20false%2C%0A%20%20%20%20%20%20%20%20%22opacity%22%3A%201%2C%0A%20%20%20%20%20%20%20%20%22subdomains%22%3A%20%22abc%22%2C%0A%20%20%20%20%20%20%20%20%22tms%22%3A%20false%0A%7D%29.addTo%28map_a013106374eb4fb39f33bfe4806551a9%29%3B%0A%20%20%20%20var%20tile_layer_1c185b25ced646f89ea5d6aeded63247%20%3D%20L.tileLayer%28%0A%20%20%20%20%20%20%20%20%27https%3A//earthengine.googleapis.com/v1alpha/projects/earthengine-legacy/maps/e97366e59cf737e8a607f307ddfb5daa-44b43af437cefe5dae8f168fce38a759/tiles/%7Bz%7D/%7Bx%7D/%7By%7D%27%2C%0A%20%20%20%20%20%20%20%20%7B%0A%20%20%20%20%20%20%20%20%22attribution%22%3A%20%22Google%20Earth%20Engine%22%2C%0A%20%20%20%20%20%20%20%20%22detectRetina%22%3A%20false%2C%0A%20%20%20%20%20%20%20%20%22maxNativeZoom%22%3A%2018%2C%0A%20%20%20%20%20%20%20%20%22maxZoom%22%3A%2018%2C%0A%20%20%20%20%20%20%20%20%22minZoom%22%3A%200%2C%0A%20%20%20%20%20%20%20%20%22noWrap%22%3A%20false%2C%0A%20%20%20%20%20%20%20%20%22opacity%22%3A%201%2C%0A%20%20%20%20%20%20%20%20%22subdomains%22%3A%20%22abc%22%2C%0A%20%20%20%20%20%20%20%20%22tms%22%3A%20false%0A%7D%29.addTo%28map_a013106374eb4fb39f33bfe4806551a9%29%3B%0A%20%20%20%20var%20tile_layer_befcac708e1c4de986283fb1dfcc4308%20%3D%20L.tileLayer%28%0A%20%20%20%20%20%20%20%20%27https%3A//earthengine.googleapis.com/v1alpha/projects/earthengine-legacy/maps/e0f02b3010b019d0dc189db8ad95176e-c1087839f69fbd9484f5b2825d942553/tiles/%7Bz%7D/%7Bx%7D/%7By%7D%27%2C%0A%20%20%20%20%20%20%20%20%7B%0A%20%20%20%20%20%20%20%20%22attribution%22%3A%20%22Google%20Earth%20Engine%22%2C%0A%20%20%20%20%20%20%20%20%22detectRetina%22%3A%20false%2C%0A%20%20%20%20%20%20%20%20%22maxNativeZoom%22%3A%2018%2C%0A%20%20%20%20%20%20%20%20%22maxZoom%22%3A%2018%2C%0A%20%20%20%20%20%20%20%20%22minZoom%22%3A%200%2C%0A%20%20%20%20%20%20%20%20%22noWrap%22%3A%20false%2C%0A%20%20%20%20%20%20%20%20%22opacity%22%3A%201%2C%0A%20%20%20%20%20%20%20%20%22subdomains%22%3A%20%22abc%22%2C%0A%20%20%20%20%20%20%20%20%22tms%22%3A%20false%0A%7D%29.addTo%28map_a013106374eb4fb39f33bfe4806551a9%29%3B%0A%20%20%20%20var%20tile_layer_a49a2127f26143daafc9da6d0ef6da7c%20%3D%20L.tileLayer%28%0A%20%20%20%20%20%20%20%20%27https%3A//earthengine.googleapis.com/v1alpha/projects/earthengine-legacy/maps/7d085a09465fbc2b25c729bda6bb0219-90cd6a4b626f32c955ea5af600af7f0f/tiles/%7Bz%7D/%7Bx%7D/%7By%7D%27%2C%0A%20%20%20%20%20%20%20%20%7B%0A%20%20%20%20%20%20%20%20%22attribution%22%3A%20%22Google%20Earth%20Engine%22%2C%0A%20%20%20%20%20%20%20%20%22detectRetina%22%3A%20false%2C%0A%20%20%20%20%20%20%20%20%22maxNativeZoom%22%3A%2018%2C%0A%20%20%20%20%20%20%20%20%22maxZoom%22%3A%2018%2C%0A%20%20%20%20%20%20%20%20%22minZoom%22%3A%200%2C%0A%20%20%20%20%20%20%20%20%22noWrap%22%3A%20false%2C%0A%20%20%20%20%20%20%20%20%22opacity%22%3A%201%2C%0A%20%20%20%20%20%20%20%20%22subdomains%22%3A%20%22abc%22%2C%0A%20%20%20%20%20%20%20%20%22tms%22%3A%20false%0A%7D%29.addTo%28map_a013106374eb4fb39f33bfe4806551a9%29%3B%0A%20%20%20%20var%20tile_layer_03e1241c5d314ead81efb1d6bfd18551%20%3D%20L.tileLayer%28%0A%20%20%20%20%20%20%20%20%27https%3A//earthengine.googleapis.com/v1alpha/projects/earthengine-legacy/maps/74f51c71c2c61507a4e7cf409c5defff-d55e327b02a145051e2f187b383f8afc/tiles/%7Bz%7D/%7Bx%7D/%7By%7D%27%2C%0A%20%20%20%20%20%20%20%20%7B%0A%20%20%20%20%20%20%20%20%22attribution%22%3A%20%22Google%20Earth%20Engine%22%2C%0A%20%20%20%20%20%20%20%20%22detectRetina%22%3A%20false%2C%0A%20%20%20%20%20%20%20%20%22maxNativeZoom%22%3A%2018%2C%0A%20%20%20%20%20%20%20%20%22maxZoom%22%3A%2018%2C%0A%20%20%20%20%20%20%20%20%22minZoom%22%3A%200%2C%0A%20%20%20%20%20%20%20%20%22noWrap%22%3A%20false%2C%0A%20%20%20%20%20%20%20%20%22opacity%22%3A%201%2C%0A%20%20%20%20%20%20%20%20%22subdomains%22%3A%20%22abc%22%2C%0A%20%20%20%20%20%20%20%20%22tms%22%3A%20false%0A%7D%29.addTo%28map_a013106374eb4fb39f33bfe4806551a9%29%3B%0A%20%20%20%20var%20tile_layer_ff0c61628c99482a915aeea6fbcc0f78%20%3D%20L.tileLayer%28%0A%20%20%20%20%20%20%20%20%27https%3A//earthengine.googleapis.com/v1alpha/projects/earthengine-legacy/maps/602bfeb228a6b36a21ac66057de4d283-a70aefba4a89a31c6285905ae8e4cc41/tiles/%7Bz%7D/%7Bx%7D/%7By%7D%27%2C%0A%20%20%20%20%20%20%20%20%7B%0A%20%20%20%20%20%20%20%20%22attribution%22%3A%20%22Google%20Earth%20Engine%22%2C%0A%20%20%20%20%20%20%20%20%22detectRetina%22%3A%20false%2C%0A%20%20%20%20%20%20%20%20%22maxNativeZoom%22%3A%2018%2C%0A%20%20%20%20%20%20%20%20%22maxZoom%22%3A%2018%2C%0A%20%20%20%20%20%20%20%20%22minZoom%22%3A%200%2C%0A%20%20%20%20%20%20%20%20%22noWrap%22%3A%20false%2C%0A%20%20%20%20%20%20%20%20%22opacity%22%3A%201%2C%0A%20%20%20%20%20%20%20%20%22subdomains%22%3A%20%22abc%22%2C%0A%20%20%20%20%20%20%20%20%22tms%22%3A%20false%0A%7D%29.addTo%28map_a013106374eb4fb39f33bfe4806551a9%29%3B%0A%20%20%20%20var%20tile_layer_48115ead910b4bb082600a6365dfb683%20%3D%20L.tileLayer%28%0A%20%20%20%20%20%20%20%20%27https%3A//earthengine.googleapis.com/v1alpha/projects/earthengine-legacy/maps/46dc644087fd50ed8d0ef328bf59513b-8f89d7da1533d7bffa011e1810dfa53b/tiles/%7Bz%7D/%7Bx%7D/%7By%7D%27%2C%0A%20%20%20%20%20%20%20%20%7B%0A%20%20%20%20%20%20%20%20%22attribution%22%3A%20%22Google%20Earth%20Engine%22%2C%0A%20%20%20%20%20%20%20%20%22detectRetina%22%3A%20false%2C%0A%20%20%20%20%20%20%20%20%22maxNativeZoom%22%3A%2018%2C%0A%20%20%20%20%20%20%20%20%22maxZoom%22%3A%2018%2C%0A%20%20%20%20%20%20%20%20%22minZoom%22%3A%200%2C%0A%20%20%20%20%20%20%20%20%22noWrap%22%3A%20false%2C%0A%20%20%20%20%20%20%20%20%22opacity%22%3A%201%2C%0A%20%20%20%20%20%20%20%20%22subdomains%22%3A%20%22abc%22%2C%0A%20%20%20%20%20%20%20%20%22tms%22%3A%20false%0A%7D%29.addTo%28map_a013106374eb4fb39f33bfe4806551a9%29%3B%0A%20%20%20%20var%20tile_layer_83c1da74c58d4d19b90bb4224f067c29%20%3D%20L.tileLayer%28%0A%20%20%20%20%20%20%20%20%27https%3A//earthengine.googleapis.com/v1alpha/projects/earthengine-legacy/maps/e9d4493bef691bc59f3f16254c2674fb-67469ffb41da18eee960531d5c23f9f0/tiles/%7Bz%7D/%7Bx%7D/%7By%7D%27%2C%0A%20%20%20%20%20%20%20%20%7B%0A%20%20%20%20%20%20%20%20%22attribution%22%3A%20%22Google%20Earth%20Engine%22%2C%0A%20%20%20%20%20%20%20%20%22detectRetina%22%3A%20false%2C%0A%20%20%20%20%20%20%20%20%22maxNativeZoom%22%3A%2018%2C%0A%20%20%20%20%20%20%20%20%22maxZoom%22%3A%2018%2C%0A%20%20%20%20%20%20%20%20%22minZoom%22%3A%200%2C%0A%20%20%20%20%20%20%20%20%22noWrap%22%3A%20false%2C%0A%20%20%20%20%20%20%20%20%22opacity%22%3A%201%2C%0A%20%20%20%20%20%20%20%20%22subdomains%22%3A%20%22abc%22%2C%0A%20%20%20%20%20%20%20%20%22tms%22%3A%20false%0A%7D%29.addTo%28map_a013106374eb4fb39f33bfe4806551a9%29%3B%0A%20%20%20%20var%20tile_layer_04813a37e3894990a86cefda4aec0c0a%20%3D%20L.tileLayer%28%0A%20%20%20%20%20%20%20%20%27https%3A//earthengine.googleapis.com/v1alpha/projects/earthengine-legacy/maps/c7a51a8c35d0053bb181f28abc794ca4-d6bcac7bf7b0131223e827d13cdc873d/tiles/%7Bz%7D/%7Bx%7D/%7By%7D%27%2C%0A%20%20%20%20%20%20%20%20%7B%0A%20%20%20%20%20%20%20%20%22attribution%22%3A%20%22Google%20Earth%20Engine%22%2C%0A%20%20%20%20%20%20%20%20%22detectRetina%22%3A%20false%2C%0A%20%20%20%20%20%20%20%20%22maxNativeZoom%22%3A%2018%2C%0A%20%20%20%20%20%20%20%20%22maxZoom%22%3A%2018%2C%0A%20%20%20%20%20%20%20%20%22minZoom%22%3A%200%2C%0A%20%20%20%20%20%20%20%20%22noWrap%22%3A%20false%2C%0A%20%20%20%20%20%20%20%20%22opacity%22%3A%201%2C%0A%20%20%20%20%20%20%20%20%22subdomains%22%3A%20%22abc%22%2C%0A%20%20%20%20%20%20%20%20%22tms%22%3A%20false%0A%7D%29.addTo%28map_a013106374eb4fb39f33bfe4806551a9%29%3B%0A%20%20%20%20var%20tile_layer_22a38cbd2f244a8a9f56ab1d2d7b3a5d%20%3D%20L.tileLayer%28%0A%20%20%20%20%20%20%20%20%27https%3A//earthengine.googleapis.com/v1alpha/projects/earthengine-legacy/maps/4563eb56ae053c85774bfde387438e20-6461107dda3fe70f937f64f1298593b0/tiles/%7Bz%7D/%7Bx%7D/%7By%7D%27%2C%0A%20%20%20%20%20%20%20%20%7B%0A%20%20%20%20%20%20%20%20%22attribution%22%3A%20%22Google%20Earth%20Engine%22%2C%0A%20%20%20%20%20%20%20%20%22detectRetina%22%3A%20false%2C%0A%20%20%20%20%20%20%20%20%22maxNativeZoom%22%3A%2018%2C%0A%20%20%20%20%20%20%20%20%22maxZoom%22%3A%2018%2C%0A%20%20%20%20%20%20%20%20%22minZoom%22%3A%200%2C%0A%20%20%20%20%20%20%20%20%22noWrap%22%3A%20false%2C%0A%20%20%20%20%20%20%20%20%22opacity%22%3A%201%2C%0A%20%20%20%20%20%20%20%20%22subdomains%22%3A%20%22abc%22%2C%0A%20%20%20%20%20%20%20%20%22tms%22%3A%20false%0A%7D%29.addTo%28map_a013106374eb4fb39f33bfe4806551a9%29%3B%0A%20%20%20%20var%20tile_layer_19f16ee0412e4a0480c54ca5ba9ce06c%20%3D%20L.tileLayer%28%0A%20%20%20%20%20%20%20%20%27https%3A//earthengine.googleapis.com/v1alpha/projects/earthengine-legacy/maps/71d9247edb13ffbe072cecf1beda7a00-0b1954e4e6c0262e85b37e2cf6f9bdb1/tiles/%7Bz%7D/%7Bx%7D/%7By%7D%27%2C%0A%20%20%20%20%20%20%20%20%7B%0A%20%20%20%20%20%20%20%20%22attribution%22%3A%20%22Google%20Earth%20Engine%22%2C%0A%20%20%20%20%20%20%20%20%22detectRetina%22%3A%20false%2C%0A%20%20%20%20%20%20%20%20%22maxNativeZoom%22%3A%2018%2C%0A%20%20%20%20%20%20%20%20%22maxZoom%22%3A%2018%2C%0A%20%20%20%20%20%20%20%20%22minZoom%22%3A%200%2C%0A%20%20%20%20%20%20%20%20%22noWrap%22%3A%20false%2C%0A%20%20%20%20%20%20%20%20%22opacity%22%3A%201%2C%0A%20%20%20%20%20%20%20%20%22subdomains%22%3A%20%22abc%22%2C%0A%20%20%20%20%20%20%20%20%22tms%22%3A%20false%0A%7D%29.addTo%28map_a013106374eb4fb39f33bfe4806551a9%29%3B%0A%20%20%20%20var%20tile_layer_495f68ed6d7d4fbdac836a3f214ac64e%20%3D%20L.tileLayer%28%0A%20%20%20%20%20%20%20%20%27https%3A//earthengine.googleapis.com/v1alpha/projects/earthengine-legacy/maps/70995cd6d68f99babddf05fd10cb9d30-c5a0e16bbbef24d952857049865e9d28/tiles/%7Bz%7D/%7Bx%7D/%7By%7D%27%2C%0A%20%20%20%20%20%20%20%20%7B%0A%20%20%20%20%20%20%20%20%22attribution%22%3A%20%22Google%20Earth%20Engine%22%2C%0A%20%20%20%20%20%20%20%20%22detectRetina%22%3A%20false%2C%0A%20%20%20%20%20%20%20%20%22maxNativeZoom%22%3A%2018%2C%0A%20%20%20%20%20%20%20%20%22maxZoom%22%3A%2018%2C%0A%20%20%20%20%20%20%20%20%22minZoom%22%3A%200%2C%0A%20%20%20%20%20%20%20%20%22noWrap%22%3A%20false%2C%0A%20%20%20%20%20%20%20%20%22opacity%22%3A%201%2C%0A%20%20%20%20%20%20%20%20%22subdomains%22%3A%20%22abc%22%2C%0A%20%20%20%20%20%20%20%20%22tms%22%3A%20false%0A%7D%29.addTo%28map_a013106374eb4fb39f33bfe4806551a9%29%3B%0A%20%20%20%20%0A%0A%20%20%20%20%20%20%20%20var%20tile_layer_1d1cdec7d0024289b595398cfd0d7a50%20%3D%20L.tileLayer%28%0A%20%20%20%20%20%20%20%20%27https%3A//%7Bs%7D.tile.openstreetmap.org/%7Bz%7D/%7Bx%7D/%7By%7D.png%27%2C%0A%20%20%20%20%20%20%20%20%7B%0A%20%20%20%20%20%20%20%20%22attribution%22%3A%20null%2C%0A%20%20%20%20%20%20%20%20%22detectRetina%22%3A%20false%2C%0A%20%20%20%20%20%20%20%20%22maxNativeZoom%22%3A%2018%2C%0A%20%20%20%20%20%20%20%20%22maxZoom%22%3A%2018%2C%0A%20%20%20%20%20%20%20%20%22minZoom%22%3A%200%2C%0A%20%20%20%20%20%20%20%20%22noWrap%22%3A%20false%2C%0A%20%20%20%20%20%20%20%20%22opacity%22%3A%201%2C%0A%20%20%20%20%20%20%20%20%22subdomains%22%3A%20%22abc%22%2C%0A%20%20%20%20%20%20%20%20%22tms%22%3A%20false%0A%7D%20%29%3B%0A%0A%20%20%20%20%20%20%20%20var%20mini_map_bb39f550826a40c5ae43385dec86d78d%20%3D%20new%20L.Control.MiniMap%28%20tile_layer_1d1cdec7d0024289b595398cfd0d7a50%2C%0A%20%20%20%20%20%20%20%20%20%7B%0A%20%20%22autoToggleDisplay%22%3A%20false%2C%0A%20%20%22centerFixed%22%3A%20false%2C%0A%20%20%22collapsedHeight%22%3A%2025%2C%0A%20%20%22collapsedWidth%22%3A%2025%2C%0A%20%20%22height%22%3A%20150%2C%0A%20%20%22minimized%22%3A%20false%2C%0A%20%20%22position%22%3A%20%22bottomright%22%2C%0A%20%20%22toggleDisplay%22%3A%20false%2C%0A%20%20%22width%22%3A%20150%2C%0A%20%20%22zoomAnimation%22%3A%20false%2C%0A%20%20%22zoomLevelFixed%22%3A%207%2C%0A%20%20%22zoomLevelOffset%22%3A%20-5%0A%7D%29%3B%0A%20%20%20%20%20%20%20%20map_a013106374eb4fb39f33bfe4806551a9.addControl%28mini_map_bb39f550826a40c5ae43385dec86d78d%29%3B%0A%0A%20%20%20%20%20%20%20%20%0A%20%20%20%20%0A%20%20%20%20%20%20%20%20%20%20%20%20var%20layer_control_b2808b8b039c42639092ad7de5bb96a4%20%3D%20%7B%0A%20%20%20%20%20%20%20%20%20%20%20%20%20%20%20%20base_layers%20%3A%20%7B%20%22openstreetmap%22%20%3A%20tile_layer_94ac5b581acf42e3ba941669c338f62d%2C%20%7D%2C%0A%20%20%20%20%20%20%20%20%20%20%20%20%20%20%20%20overlays%20%3A%20%7B%20%222019-01-26%2015%3A26%3A47%22%20%3A%20tile_layer_1f53a99b8df14ee48efeaf0909a0ce92%2C%222019-02-05%2015%3A26%3A47%22%20%3A%20tile_layer_1c185b25ced646f89ea5d6aeded63247%2C%222019-03-17%2015%3A26%3A45%22%20%3A%20tile_layer_befcac708e1c4de986283fb1dfcc4308%2C%222019-04-11%2015%3A26%3A48%22%20%3A%20tile_layer_a49a2127f26143daafc9da6d0ef6da7c%2C%222019-05-01%2015%3A26%3A50%22%20%3A%20tile_layer_03e1241c5d314ead81efb1d6bfd18551%2C%222019-06-15%2015%3A26%3A54%22%20%3A%20tile_layer_ff0c61628c99482a915aeea6fbcc0f78%2C%222019-07-25%2015%3A26%3A55%22%20%3A%20tile_layer_48115ead910b4bb082600a6365dfb683%2C%222019-08-19%2015%3A26%3A49%22%20%3A%20tile_layer_83c1da74c58d4d19b90bb4224f067c29%2C%222019-09-08%2015%3A26%3A45%22%20%3A%20tile_layer_04813a37e3894990a86cefda4aec0c0a%2C%222019-10-28%2015%3A26%3A50%22%20%3A%20tile_layer_22a38cbd2f244a8a9f56ab1d2d7b3a5d%2C%222019-11-02%2015%3A26%3A47%22%20%3A%20tile_layer_19f16ee0412e4a0480c54ca5ba9ce06c%2C%222019-12-27%2015%3A26%3A41%22%20%3A%20tile_layer_495f68ed6d7d4fbdac836a3f214ac64e%2C%20%7D%0A%20%20%20%20%20%20%20%20%20%20%20%20%20%20%20%20%7D%3B%0A%20%20%20%20%20%20%20%20%20%20%20%20L.control.layers%28%0A%20%20%20%20%20%20%20%20%20%20%20%20%20%20%20%20layer_control_b2808b8b039c42639092ad7de5bb96a4.base_layers%2C%0A%20%20%20%20%20%20%20%20%20%20%20%20%20%20%20%20layer_control_b2808b8b039c42639092ad7de5bb96a4.overlays%2C%0A%20%20%20%20%20%20%20%20%20%20%20%20%20%20%20%20%7Bposition%3A%20%27topright%27%2C%0A%20%20%20%20%20%20%20%20%20%20%20%20%20%20%20%20%20collapsed%3A%20true%2C%0A%20%20%20%20%20%20%20%20%20%20%20%20%20%20%20%20%20autoZIndex%3A%20true%0A%20%20%20%20%20%20%20%20%20%20%20%20%20%20%20%20%7D%29.addTo%28map_a013106374eb4fb39f33bfe4806551a9%29%3B%0A%20%20%20%20%20%20%20%20%20%20%20%20%0A%20%20%20%20%20%20%20%20%0A%3C/script%3E onload=\"this.contentDocument.open();this.contentDocument.write(    decodeURIComponent(this.getAttribute('data-html')));this.contentDocument.close();\" allowfullscreen webkitallowfullscreen mozallowfullscreen></iframe></div></div>"
            ],
            "text/plain": [
              "<folium.folium.Map at 0x7f45cacbcb90>"
            ]
          },
          "metadata": {
            "tags": []
          },
          "execution_count": 27
        }
      ]
    },
    {
      "cell_type": "markdown",
      "metadata": {
        "id": "XeBM4NlA6L6X"
      },
      "source": [
        "##### ***Índices de Vegetación - Aplicación de EVI***"
      ]
    },
    {
      "cell_type": "code",
      "metadata": {
        "id": "q0IZFaJv40_a",
        "cellView": "form"
      },
      "source": [
        "# @title Visualización EVI\n",
        "Product_name = imgs_2019_id #@param ['imgs_2019_id', 'imgs_2020_id'] {type:\"raw\"}\n",
        "\n",
        "# Aplicar el EVI a todo el año (12 imágenes)\n",
        "evi_prueba = [evi_icol(ee.Image(Product_name[i])) for i in range(12)]\n",
        "\n",
        "# Generar capas para visualización\n",
        "vi_dict = {}\n",
        "for i in range(12):\n",
        "  vi_dict[conv_fecha(ee.Image(Product_name[i]))]\\\n",
        "  = evi_prueba[i]\\\n",
        "  .clip(roi_clip)\\\n",
        "  .getMapId({'min':0, 'max':0.5, 'palette': yuri_ndvi_pal})\n",
        "\n",
        "# En caso de ver el último mes\n",
        "# vi_dict[conv_fecha(ee.Image(Product_name[11]))] = evi_prueba[11].clip(roi_clip).getMapId({'min':0, 'max':0.5, 'palette': yuri_ndvi_pal}) # yuri_ndvi_pal, evi_palette\n",
        "# vi_dict[11] = ee.Image(Product_name[11]).multiply(0.0001).clip(roi_clip).getMapId({'min':0, 'max':0.3, 'bands': ['B4','B3','B2']})\n",
        "\n",
        "mapdisplay(centroide, vi_dict, zoom_start=12)"
      ],
      "execution_count": null,
      "outputs": []
    },
    {
      "cell_type": "markdown",
      "metadata": {
        "id": "j74uz7NGvo3z"
      },
      "source": [
        "##### ***Índices de Vegetación - Comparación entre NDVI y EVI***"
      ]
    },
    {
      "cell_type": "code",
      "metadata": {
        "colab": {
          "base_uri": "https://localhost:8080/",
          "height": 854
        },
        "id": "yP9m_QiX8T5H",
        "cellView": "form",
        "outputId": "be0c470e-6b84-421d-af8a-bb30689a8ec6"
      },
      "source": [
        "# @title Comparación NDVI - EVI\n",
        "Product_name = imgs_2019_id #@param ['imgs_2019_id', 'imgs_2020_id'] {type:\"raw\"}\n",
        "mes = 5 #@param [1,2,3,4,5,6,7,8,9,10,11,12] {type:\"raw\"}\n",
        "min = \"0\" #@param [] {allow-input: true}\n",
        "max = \"0.5\" #@param [] {allow-input: true}\n",
        "\n",
        "# ndvi_prueba = [ndvi_icol(ee.Image(Product_name[i])) for i in range(12)]\n",
        "# evi_prueba  = [ evi_icol(ee.Image(Product_name[i])) for i in range(12)]\n",
        "\n",
        "dict_prueba = {}\n",
        "\n",
        "dict_prueba['mes_{a}_rgb' .format(a=mes)] =  ee.Image(Product_name[mes-1]).multiply(0.0001).clip(roi_clip).getMapId({'min':0.0, 'max':0.3, 'bands': ['B4','B3','B2']}) \n",
        "dict_prueba['mes_{a}_ndvi'.format(a=mes)] = ndvi_prueba[mes-1].clip(roi_clip).getMapId({'min':min, 'max':max, 'palette': yuri_ndvi_pal}) # yuri_ndvi_pal, palette1\n",
        "dict_prueba['mes_{a}_evi' .format(a=mes)] =  evi_prueba[mes-1].clip(roi_clip).getMapId({'min':min, 'max':max, 'palette': yuri_ndvi_pal}) # yuri_ndvi_pal, evi_palette\n",
        "\n",
        "mapdisplay(centroide, dict_prueba, zoom_start=12)"
      ],
      "execution_count": null,
      "outputs": [
        {
          "output_type": "execute_result",
          "data": {
            "text/html": [
              "<div style=\"width:100%;\"><div style=\"position:relative;width:100%;height:0;padding-bottom:60%;\"><span style=\"color:#565656\">Make this Notebook Trusted to load map: File -> Trust Notebook</span><iframe src=\"about:blank\" style=\"position:absolute;width:100%;height:100%;left:0;top:0;border:none !important;\" data-html=%3C%21DOCTYPE%20html%3E%0A%3Chead%3E%20%20%20%20%0A%20%20%20%20%3Cmeta%20http-equiv%3D%22content-type%22%20content%3D%22text/html%3B%20charset%3DUTF-8%22%20/%3E%0A%20%20%20%20%3Cscript%3EL_PREFER_CANVAS%3Dfalse%3B%20L_NO_TOUCH%3Dfalse%3B%20L_DISABLE_3D%3Dfalse%3B%3C/script%3E%0A%20%20%20%20%3Cscript%20src%3D%22https%3A//cdn.jsdelivr.net/npm/leaflet%401.4.0/dist/leaflet.js%22%3E%3C/script%3E%0A%20%20%20%20%3Cscript%20src%3D%22https%3A//code.jquery.com/jquery-1.12.4.min.js%22%3E%3C/script%3E%0A%20%20%20%20%3Cscript%20src%3D%22https%3A//maxcdn.bootstrapcdn.com/bootstrap/3.2.0/js/bootstrap.min.js%22%3E%3C/script%3E%0A%20%20%20%20%3Cscript%20src%3D%22https%3A//cdnjs.cloudflare.com/ajax/libs/Leaflet.awesome-markers/2.0.2/leaflet.awesome-markers.js%22%3E%3C/script%3E%0A%20%20%20%20%3Clink%20rel%3D%22stylesheet%22%20href%3D%22https%3A//cdn.jsdelivr.net/npm/leaflet%401.4.0/dist/leaflet.css%22/%3E%0A%20%20%20%20%3Clink%20rel%3D%22stylesheet%22%20href%3D%22https%3A//maxcdn.bootstrapcdn.com/bootstrap/3.2.0/css/bootstrap.min.css%22/%3E%0A%20%20%20%20%3Clink%20rel%3D%22stylesheet%22%20href%3D%22https%3A//maxcdn.bootstrapcdn.com/bootstrap/3.2.0/css/bootstrap-theme.min.css%22/%3E%0A%20%20%20%20%3Clink%20rel%3D%22stylesheet%22%20href%3D%22https%3A//maxcdn.bootstrapcdn.com/font-awesome/4.6.3/css/font-awesome.min.css%22/%3E%0A%20%20%20%20%3Clink%20rel%3D%22stylesheet%22%20href%3D%22https%3A//cdnjs.cloudflare.com/ajax/libs/Leaflet.awesome-markers/2.0.2/leaflet.awesome-markers.css%22/%3E%0A%20%20%20%20%3Clink%20rel%3D%22stylesheet%22%20href%3D%22https%3A//rawcdn.githack.com/python-visualization/folium/master/folium/templates/leaflet.awesome.rotate.css%22/%3E%0A%20%20%20%20%3Cstyle%3Ehtml%2C%20body%20%7Bwidth%3A%20100%25%3Bheight%3A%20100%25%3Bmargin%3A%200%3Bpadding%3A%200%3B%7D%3C/style%3E%0A%20%20%20%20%3Cstyle%3E%23map%20%7Bposition%3Aabsolute%3Btop%3A0%3Bbottom%3A0%3Bright%3A0%3Bleft%3A0%3B%7D%3C/style%3E%0A%20%20%20%20%0A%20%20%20%20%3Cmeta%20name%3D%22viewport%22%20content%3D%22width%3Ddevice-width%2C%0A%20%20%20%20%20%20%20%20initial-scale%3D1.0%2C%20maximum-scale%3D1.0%2C%20user-scalable%3Dno%22%20/%3E%0A%20%20%20%20%3Cstyle%3E%23map_8684c87854224a94ae19edbb7811bbfa%20%7B%0A%20%20%20%20%20%20%20%20position%3A%20relative%3B%0A%20%20%20%20%20%20%20%20width%3A%20100.0%25%3B%0A%20%20%20%20%20%20%20%20height%3A%20100.0%25%3B%0A%20%20%20%20%20%20%20%20left%3A%200.0%25%3B%0A%20%20%20%20%20%20%20%20top%3A%200.0%25%3B%0A%20%20%20%20%20%20%20%20%7D%0A%20%20%20%20%3C/style%3E%0A%20%20%20%20%3Cscript%20src%3D%22https%3A//cdnjs.cloudflare.com/ajax/libs/leaflet-minimap/3.6.1/Control.MiniMap.js%22%3E%3C/script%3E%0A%20%20%20%20%3Clink%20rel%3D%22stylesheet%22%20href%3D%22https%3A//cdnjs.cloudflare.com/ajax/libs/leaflet-minimap/3.6.1/Control.MiniMap.css%22/%3E%0A%3C/head%3E%0A%3Cbody%3E%20%20%20%20%0A%20%20%20%20%0A%20%20%20%20%3Cdiv%20class%3D%22folium-map%22%20id%3D%22map_8684c87854224a94ae19edbb7811bbfa%22%20%3E%3C/div%3E%0A%3C/body%3E%0A%3Cscript%3E%20%20%20%20%0A%20%20%20%20%0A%20%20%20%20%0A%20%20%20%20%20%20%20%20var%20bounds%20%3D%20null%3B%0A%20%20%20%20%0A%0A%20%20%20%20var%20map_8684c87854224a94ae19edbb7811bbfa%20%3D%20L.map%28%0A%20%20%20%20%20%20%20%20%27map_8684c87854224a94ae19edbb7811bbfa%27%2C%20%7B%0A%20%20%20%20%20%20%20%20center%3A%20%5B-13.4589%2C%20-76.0908%5D%2C%0A%20%20%20%20%20%20%20%20zoom%3A%2012%2C%0A%20%20%20%20%20%20%20%20maxBounds%3A%20bounds%2C%0A%20%20%20%20%20%20%20%20layers%3A%20%5B%5D%2C%0A%20%20%20%20%20%20%20%20worldCopyJump%3A%20false%2C%0A%20%20%20%20%20%20%20%20crs%3A%20L.CRS.EPSG3857%2C%0A%20%20%20%20%20%20%20%20zoomControl%3A%20true%2C%0A%20%20%20%20%20%20%20%20%7D%29%3B%0AL.control.scale%28%29.addTo%28map_8684c87854224a94ae19edbb7811bbfa%29%3B%0A%0A%20%20%20%20%0A%20%20%20%20var%20tile_layer_a0df56dd109c403bacb08a323c40d7f6%20%3D%20L.tileLayer%28%0A%20%20%20%20%20%20%20%20%27https%3A//%7Bs%7D.tile.openstreetmap.org/%7Bz%7D/%7Bx%7D/%7By%7D.png%27%2C%0A%20%20%20%20%20%20%20%20%7B%0A%20%20%20%20%20%20%20%20%22attribution%22%3A%20null%2C%0A%20%20%20%20%20%20%20%20%22detectRetina%22%3A%20false%2C%0A%20%20%20%20%20%20%20%20%22maxNativeZoom%22%3A%2018%2C%0A%20%20%20%20%20%20%20%20%22maxZoom%22%3A%2018%2C%0A%20%20%20%20%20%20%20%20%22minZoom%22%3A%200%2C%0A%20%20%20%20%20%20%20%20%22noWrap%22%3A%20false%2C%0A%20%20%20%20%20%20%20%20%22opacity%22%3A%201%2C%0A%20%20%20%20%20%20%20%20%22subdomains%22%3A%20%22abc%22%2C%0A%20%20%20%20%20%20%20%20%22tms%22%3A%20false%0A%7D%29.addTo%28map_8684c87854224a94ae19edbb7811bbfa%29%3B%0A%20%20%20%20var%20tile_layer_6ecb5270d1814525a40a38b236e9e883%20%3D%20L.tileLayer%28%0A%20%20%20%20%20%20%20%20%27https%3A//earthengine.googleapis.com/v1alpha/projects/earthengine-legacy/maps/b2e74b1a601a2e3114e1abd7711a978a-51a2c9ad4d1a49b3bf4eae0930973ba1/tiles/%7Bz%7D/%7Bx%7D/%7By%7D%27%2C%0A%20%20%20%20%20%20%20%20%7B%0A%20%20%20%20%20%20%20%20%22attribution%22%3A%20%22Google%20Earth%20Engine%22%2C%0A%20%20%20%20%20%20%20%20%22detectRetina%22%3A%20false%2C%0A%20%20%20%20%20%20%20%20%22maxNativeZoom%22%3A%2018%2C%0A%20%20%20%20%20%20%20%20%22maxZoom%22%3A%2018%2C%0A%20%20%20%20%20%20%20%20%22minZoom%22%3A%200%2C%0A%20%20%20%20%20%20%20%20%22noWrap%22%3A%20false%2C%0A%20%20%20%20%20%20%20%20%22opacity%22%3A%201%2C%0A%20%20%20%20%20%20%20%20%22subdomains%22%3A%20%22abc%22%2C%0A%20%20%20%20%20%20%20%20%22tms%22%3A%20false%0A%7D%29.addTo%28map_8684c87854224a94ae19edbb7811bbfa%29%3B%0A%20%20%20%20var%20tile_layer_de85248261164c9486a9089457f211ed%20%3D%20L.tileLayer%28%0A%20%20%20%20%20%20%20%20%27https%3A//earthengine.googleapis.com/v1alpha/projects/earthengine-legacy/maps/26403b9eb3c4a7674227bef0caeb5b23-05b72c35df435d8ef0d7e30503a74ff3/tiles/%7Bz%7D/%7Bx%7D/%7By%7D%27%2C%0A%20%20%20%20%20%20%20%20%7B%0A%20%20%20%20%20%20%20%20%22attribution%22%3A%20%22Google%20Earth%20Engine%22%2C%0A%20%20%20%20%20%20%20%20%22detectRetina%22%3A%20false%2C%0A%20%20%20%20%20%20%20%20%22maxNativeZoom%22%3A%2018%2C%0A%20%20%20%20%20%20%20%20%22maxZoom%22%3A%2018%2C%0A%20%20%20%20%20%20%20%20%22minZoom%22%3A%200%2C%0A%20%20%20%20%20%20%20%20%22noWrap%22%3A%20false%2C%0A%20%20%20%20%20%20%20%20%22opacity%22%3A%201%2C%0A%20%20%20%20%20%20%20%20%22subdomains%22%3A%20%22abc%22%2C%0A%20%20%20%20%20%20%20%20%22tms%22%3A%20false%0A%7D%29.addTo%28map_8684c87854224a94ae19edbb7811bbfa%29%3B%0A%20%20%20%20var%20tile_layer_4b7f868a3fdf44b1a5397db80b01ea9e%20%3D%20L.tileLayer%28%0A%20%20%20%20%20%20%20%20%27https%3A//earthengine.googleapis.com/v1alpha/projects/earthengine-legacy/maps/8cbbc703504a64ff0e78d86ddb21b469-bb1d202e72e2e4abe87f146aead51d19/tiles/%7Bz%7D/%7Bx%7D/%7By%7D%27%2C%0A%20%20%20%20%20%20%20%20%7B%0A%20%20%20%20%20%20%20%20%22attribution%22%3A%20%22Google%20Earth%20Engine%22%2C%0A%20%20%20%20%20%20%20%20%22detectRetina%22%3A%20false%2C%0A%20%20%20%20%20%20%20%20%22maxNativeZoom%22%3A%2018%2C%0A%20%20%20%20%20%20%20%20%22maxZoom%22%3A%2018%2C%0A%20%20%20%20%20%20%20%20%22minZoom%22%3A%200%2C%0A%20%20%20%20%20%20%20%20%22noWrap%22%3A%20false%2C%0A%20%20%20%20%20%20%20%20%22opacity%22%3A%201%2C%0A%20%20%20%20%20%20%20%20%22subdomains%22%3A%20%22abc%22%2C%0A%20%20%20%20%20%20%20%20%22tms%22%3A%20false%0A%7D%29.addTo%28map_8684c87854224a94ae19edbb7811bbfa%29%3B%0A%20%20%20%20%0A%0A%20%20%20%20%20%20%20%20var%20tile_layer_1cf7cb3ba2524c37ac99fd88eced79f6%20%3D%20L.tileLayer%28%0A%20%20%20%20%20%20%20%20%27https%3A//%7Bs%7D.tile.openstreetmap.org/%7Bz%7D/%7Bx%7D/%7By%7D.png%27%2C%0A%20%20%20%20%20%20%20%20%7B%0A%20%20%20%20%20%20%20%20%22attribution%22%3A%20null%2C%0A%20%20%20%20%20%20%20%20%22detectRetina%22%3A%20false%2C%0A%20%20%20%20%20%20%20%20%22maxNativeZoom%22%3A%2018%2C%0A%20%20%20%20%20%20%20%20%22maxZoom%22%3A%2018%2C%0A%20%20%20%20%20%20%20%20%22minZoom%22%3A%200%2C%0A%20%20%20%20%20%20%20%20%22noWrap%22%3A%20false%2C%0A%20%20%20%20%20%20%20%20%22opacity%22%3A%201%2C%0A%20%20%20%20%20%20%20%20%22subdomains%22%3A%20%22abc%22%2C%0A%20%20%20%20%20%20%20%20%22tms%22%3A%20false%0A%7D%20%29%3B%0A%0A%20%20%20%20%20%20%20%20var%20mini_map_d362caa8bc7a4a1b9ca6b22e15e44b42%20%3D%20new%20L.Control.MiniMap%28%20tile_layer_1cf7cb3ba2524c37ac99fd88eced79f6%2C%0A%20%20%20%20%20%20%20%20%20%7B%0A%20%20%22autoToggleDisplay%22%3A%20false%2C%0A%20%20%22centerFixed%22%3A%20false%2C%0A%20%20%22collapsedHeight%22%3A%2025%2C%0A%20%20%22collapsedWidth%22%3A%2025%2C%0A%20%20%22height%22%3A%20150%2C%0A%20%20%22minimized%22%3A%20false%2C%0A%20%20%22position%22%3A%20%22bottomright%22%2C%0A%20%20%22toggleDisplay%22%3A%20false%2C%0A%20%20%22width%22%3A%20150%2C%0A%20%20%22zoomAnimation%22%3A%20false%2C%0A%20%20%22zoomLevelFixed%22%3A%207%2C%0A%20%20%22zoomLevelOffset%22%3A%20-5%0A%7D%29%3B%0A%20%20%20%20%20%20%20%20map_8684c87854224a94ae19edbb7811bbfa.addControl%28mini_map_d362caa8bc7a4a1b9ca6b22e15e44b42%29%3B%0A%0A%20%20%20%20%20%20%20%20%0A%20%20%20%20%0A%20%20%20%20%20%20%20%20%20%20%20%20var%20layer_control_b4fc130f579a4fb88d1f02c1aff03d72%20%3D%20%7B%0A%20%20%20%20%20%20%20%20%20%20%20%20%20%20%20%20base_layers%20%3A%20%7B%20%22openstreetmap%22%20%3A%20tile_layer_a0df56dd109c403bacb08a323c40d7f6%2C%20%7D%2C%0A%20%20%20%20%20%20%20%20%20%20%20%20%20%20%20%20overlays%20%3A%20%7B%20%22mes_5_rgb%22%20%3A%20tile_layer_6ecb5270d1814525a40a38b236e9e883%2C%22mes_5_ndvi%22%20%3A%20tile_layer_de85248261164c9486a9089457f211ed%2C%22mes_5_evi%22%20%3A%20tile_layer_4b7f868a3fdf44b1a5397db80b01ea9e%2C%20%7D%0A%20%20%20%20%20%20%20%20%20%20%20%20%20%20%20%20%7D%3B%0A%20%20%20%20%20%20%20%20%20%20%20%20L.control.layers%28%0A%20%20%20%20%20%20%20%20%20%20%20%20%20%20%20%20layer_control_b4fc130f579a4fb88d1f02c1aff03d72.base_layers%2C%0A%20%20%20%20%20%20%20%20%20%20%20%20%20%20%20%20layer_control_b4fc130f579a4fb88d1f02c1aff03d72.overlays%2C%0A%20%20%20%20%20%20%20%20%20%20%20%20%20%20%20%20%7Bposition%3A%20%27topright%27%2C%0A%20%20%20%20%20%20%20%20%20%20%20%20%20%20%20%20%20collapsed%3A%20true%2C%0A%20%20%20%20%20%20%20%20%20%20%20%20%20%20%20%20%20autoZIndex%3A%20true%0A%20%20%20%20%20%20%20%20%20%20%20%20%20%20%20%20%7D%29.addTo%28map_8684c87854224a94ae19edbb7811bbfa%29%3B%0A%20%20%20%20%20%20%20%20%20%20%20%20%0A%20%20%20%20%20%20%20%20%0A%3C/script%3E onload=\"this.contentDocument.open();this.contentDocument.write(    decodeURIComponent(this.getAttribute('data-html')));this.contentDocument.close();\" allowfullscreen webkitallowfullscreen mozallowfullscreen></iframe></div></div>"
            ],
            "text/plain": [
              "<folium.folium.Map at 0x7f45cabb2150>"
            ]
          },
          "metadata": {
            "tags": []
          },
          "execution_count": 26
        }
      ]
    },
    {
      "cell_type": "markdown",
      "metadata": {
        "id": "ptJtjGKY3rG8"
      },
      "source": [
        "### Visualizaciones mediante gráficos\n",
        "\n",
        "\n",
        "- [Array and List Charts](https://developers.google.com/earth-engine/guides/charts_array)\n",
        "\n",
        "The following examples rely on array and list data generated by reduction of image bands and image metadata using the ee.Reducer.toList() reducer. Note that any set of lists and/or arrays having the same length along a given axis can be plotted by ui.Chart.array.values."
      ]
    },
    {
      "cell_type": "code",
      "metadata": {
        "colab": {
          "base_uri": "https://localhost:8080/"
        },
        "id": "i0KMG-XLrAQG",
        "outputId": "254ff9fa-b735-4f83-ebb5-08cec58d5948"
      },
      "source": [
        "ndvi_may_19 = ndvi_prueba[4].toArray()\n",
        "ndvi_may_19.getInfo()"
      ],
      "execution_count": null,
      "outputs": [
        {
          "output_type": "execute_result",
          "data": {
            "text/plain": [
              "{'bands': [{'crs': 'EPSG:32718',\n",
              "   'crs_transform': [10, 0, 300000, 0, -10, 8600020],\n",
              "   'data_type': {'dimensions': 1, 'precision': 'float', 'type': 'PixelType'},\n",
              "   'dimensions': [10980, 10980],\n",
              "   'id': 'array'}],\n",
              " 'type': 'Image'}"
            ]
          },
          "metadata": {
            "tags": []
          },
          "execution_count": 38
        }
      ]
    },
    {
      "cell_type": "code",
      "metadata": {
        "colab": {
          "base_uri": "https://localhost:8080/",
          "height": 854
        },
        "id": "mEGXkJbYnYrY",
        "outputId": "f69c37c6-061b-4cba-d0d6-7b817e25dde0"
      },
      "source": [
        "ndviMasked = ndvi_prueba[0].updateMask(ndvi_prueba[0].gte(0.5))\n",
        "eviMasked  = evi_prueba[0].updateMask(evi_prueba[0].gte(0.5))\n",
        "\n",
        "dict_prueba = {}\n",
        "dict_prueba['ndvi_0.5<'] = ndviMasked.clip(roi_clip).getMapId({'min':0, 'max':0.1, 'palette': yuri_ndvi_pal}) # yuri_ndvi_pal, palette1\n",
        "dict_prueba['evi_0.5<'] = eviMasked.clip(roi_clip).getMapId({'min':0, 'max':0.1, 'palette': yuri_ndvi_pal}) # yuri_ndvi_pal, palette1\n",
        "\n",
        "mapdisplay(centroide, dict_prueba, zoom_start=11)"
      ],
      "execution_count": null,
      "outputs": [
        {
          "output_type": "execute_result",
          "data": {
            "text/html": [
              "<div style=\"width:100%;\"><div style=\"position:relative;width:100%;height:0;padding-bottom:60%;\"><span style=\"color:#565656\">Make this Notebook Trusted to load map: File -> Trust Notebook</span><iframe src=\"about:blank\" style=\"position:absolute;width:100%;height:100%;left:0;top:0;border:none !important;\" data-html=%3C%21DOCTYPE%20html%3E%0A%3Chead%3E%20%20%20%20%0A%20%20%20%20%3Cmeta%20http-equiv%3D%22content-type%22%20content%3D%22text/html%3B%20charset%3DUTF-8%22%20/%3E%0A%20%20%20%20%3Cscript%3EL_PREFER_CANVAS%3Dfalse%3B%20L_NO_TOUCH%3Dfalse%3B%20L_DISABLE_3D%3Dfalse%3B%3C/script%3E%0A%20%20%20%20%3Cscript%20src%3D%22https%3A//cdn.jsdelivr.net/npm/leaflet%401.4.0/dist/leaflet.js%22%3E%3C/script%3E%0A%20%20%20%20%3Cscript%20src%3D%22https%3A//code.jquery.com/jquery-1.12.4.min.js%22%3E%3C/script%3E%0A%20%20%20%20%3Cscript%20src%3D%22https%3A//maxcdn.bootstrapcdn.com/bootstrap/3.2.0/js/bootstrap.min.js%22%3E%3C/script%3E%0A%20%20%20%20%3Cscript%20src%3D%22https%3A//cdnjs.cloudflare.com/ajax/libs/Leaflet.awesome-markers/2.0.2/leaflet.awesome-markers.js%22%3E%3C/script%3E%0A%20%20%20%20%3Clink%20rel%3D%22stylesheet%22%20href%3D%22https%3A//cdn.jsdelivr.net/npm/leaflet%401.4.0/dist/leaflet.css%22/%3E%0A%20%20%20%20%3Clink%20rel%3D%22stylesheet%22%20href%3D%22https%3A//maxcdn.bootstrapcdn.com/bootstrap/3.2.0/css/bootstrap.min.css%22/%3E%0A%20%20%20%20%3Clink%20rel%3D%22stylesheet%22%20href%3D%22https%3A//maxcdn.bootstrapcdn.com/bootstrap/3.2.0/css/bootstrap-theme.min.css%22/%3E%0A%20%20%20%20%3Clink%20rel%3D%22stylesheet%22%20href%3D%22https%3A//maxcdn.bootstrapcdn.com/font-awesome/4.6.3/css/font-awesome.min.css%22/%3E%0A%20%20%20%20%3Clink%20rel%3D%22stylesheet%22%20href%3D%22https%3A//cdnjs.cloudflare.com/ajax/libs/Leaflet.awesome-markers/2.0.2/leaflet.awesome-markers.css%22/%3E%0A%20%20%20%20%3Clink%20rel%3D%22stylesheet%22%20href%3D%22https%3A//rawcdn.githack.com/python-visualization/folium/master/folium/templates/leaflet.awesome.rotate.css%22/%3E%0A%20%20%20%20%3Cstyle%3Ehtml%2C%20body%20%7Bwidth%3A%20100%25%3Bheight%3A%20100%25%3Bmargin%3A%200%3Bpadding%3A%200%3B%7D%3C/style%3E%0A%20%20%20%20%3Cstyle%3E%23map%20%7Bposition%3Aabsolute%3Btop%3A0%3Bbottom%3A0%3Bright%3A0%3Bleft%3A0%3B%7D%3C/style%3E%0A%20%20%20%20%0A%20%20%20%20%3Cmeta%20name%3D%22viewport%22%20content%3D%22width%3Ddevice-width%2C%0A%20%20%20%20%20%20%20%20initial-scale%3D1.0%2C%20maximum-scale%3D1.0%2C%20user-scalable%3Dno%22%20/%3E%0A%20%20%20%20%3Cstyle%3E%23map_f701cf20dc7d4a4aa415adf092948d7a%20%7B%0A%20%20%20%20%20%20%20%20position%3A%20relative%3B%0A%20%20%20%20%20%20%20%20width%3A%20100.0%25%3B%0A%20%20%20%20%20%20%20%20height%3A%20100.0%25%3B%0A%20%20%20%20%20%20%20%20left%3A%200.0%25%3B%0A%20%20%20%20%20%20%20%20top%3A%200.0%25%3B%0A%20%20%20%20%20%20%20%20%7D%0A%20%20%20%20%3C/style%3E%0A%20%20%20%20%3Cscript%20src%3D%22https%3A//cdnjs.cloudflare.com/ajax/libs/leaflet-minimap/3.6.1/Control.MiniMap.js%22%3E%3C/script%3E%0A%20%20%20%20%3Clink%20rel%3D%22stylesheet%22%20href%3D%22https%3A//cdnjs.cloudflare.com/ajax/libs/leaflet-minimap/3.6.1/Control.MiniMap.css%22/%3E%0A%3C/head%3E%0A%3Cbody%3E%20%20%20%20%0A%20%20%20%20%0A%20%20%20%20%3Cdiv%20class%3D%22folium-map%22%20id%3D%22map_f701cf20dc7d4a4aa415adf092948d7a%22%20%3E%3C/div%3E%0A%3C/body%3E%0A%3Cscript%3E%20%20%20%20%0A%20%20%20%20%0A%20%20%20%20%0A%20%20%20%20%20%20%20%20var%20bounds%20%3D%20null%3B%0A%20%20%20%20%0A%0A%20%20%20%20var%20map_f701cf20dc7d4a4aa415adf092948d7a%20%3D%20L.map%28%0A%20%20%20%20%20%20%20%20%27map_f701cf20dc7d4a4aa415adf092948d7a%27%2C%20%7B%0A%20%20%20%20%20%20%20%20center%3A%20%5B-13.4589%2C%20-76.0908%5D%2C%0A%20%20%20%20%20%20%20%20zoom%3A%2011%2C%0A%20%20%20%20%20%20%20%20maxBounds%3A%20bounds%2C%0A%20%20%20%20%20%20%20%20layers%3A%20%5B%5D%2C%0A%20%20%20%20%20%20%20%20worldCopyJump%3A%20false%2C%0A%20%20%20%20%20%20%20%20crs%3A%20L.CRS.EPSG3857%2C%0A%20%20%20%20%20%20%20%20zoomControl%3A%20true%2C%0A%20%20%20%20%20%20%20%20%7D%29%3B%0AL.control.scale%28%29.addTo%28map_f701cf20dc7d4a4aa415adf092948d7a%29%3B%0A%0A%20%20%20%20%0A%20%20%20%20var%20tile_layer_97516a9072eb4bdfb4c921524ba17595%20%3D%20L.tileLayer%28%0A%20%20%20%20%20%20%20%20%27https%3A//%7Bs%7D.tile.openstreetmap.org/%7Bz%7D/%7Bx%7D/%7By%7D.png%27%2C%0A%20%20%20%20%20%20%20%20%7B%0A%20%20%20%20%20%20%20%20%22attribution%22%3A%20null%2C%0A%20%20%20%20%20%20%20%20%22detectRetina%22%3A%20false%2C%0A%20%20%20%20%20%20%20%20%22maxNativeZoom%22%3A%2018%2C%0A%20%20%20%20%20%20%20%20%22maxZoom%22%3A%2018%2C%0A%20%20%20%20%20%20%20%20%22minZoom%22%3A%200%2C%0A%20%20%20%20%20%20%20%20%22noWrap%22%3A%20false%2C%0A%20%20%20%20%20%20%20%20%22opacity%22%3A%201%2C%0A%20%20%20%20%20%20%20%20%22subdomains%22%3A%20%22abc%22%2C%0A%20%20%20%20%20%20%20%20%22tms%22%3A%20false%0A%7D%29.addTo%28map_f701cf20dc7d4a4aa415adf092948d7a%29%3B%0A%20%20%20%20var%20tile_layer_d94d184eb2c44cc890ed67578adfd061%20%3D%20L.tileLayer%28%0A%20%20%20%20%20%20%20%20%27https%3A//earthengine.googleapis.com/v1alpha/projects/earthengine-legacy/maps/d295cfc94adf7f10142c9ae741932796-18f37639c03390f8733d92701fc4cabb/tiles/%7Bz%7D/%7Bx%7D/%7By%7D%27%2C%0A%20%20%20%20%20%20%20%20%7B%0A%20%20%20%20%20%20%20%20%22attribution%22%3A%20%22Google%20Earth%20Engine%22%2C%0A%20%20%20%20%20%20%20%20%22detectRetina%22%3A%20false%2C%0A%20%20%20%20%20%20%20%20%22maxNativeZoom%22%3A%2018%2C%0A%20%20%20%20%20%20%20%20%22maxZoom%22%3A%2018%2C%0A%20%20%20%20%20%20%20%20%22minZoom%22%3A%200%2C%0A%20%20%20%20%20%20%20%20%22noWrap%22%3A%20false%2C%0A%20%20%20%20%20%20%20%20%22opacity%22%3A%201%2C%0A%20%20%20%20%20%20%20%20%22subdomains%22%3A%20%22abc%22%2C%0A%20%20%20%20%20%20%20%20%22tms%22%3A%20false%0A%7D%29.addTo%28map_f701cf20dc7d4a4aa415adf092948d7a%29%3B%0A%20%20%20%20var%20tile_layer_a5abb92046c74d7ab9943f557f38c9fe%20%3D%20L.tileLayer%28%0A%20%20%20%20%20%20%20%20%27https%3A//earthengine.googleapis.com/v1alpha/projects/earthengine-legacy/maps/0bd817e4705c0815ff908045ee14fa2d-fd4038490ba1e2f051dd0c9f557ba27b/tiles/%7Bz%7D/%7Bx%7D/%7By%7D%27%2C%0A%20%20%20%20%20%20%20%20%7B%0A%20%20%20%20%20%20%20%20%22attribution%22%3A%20%22Google%20Earth%20Engine%22%2C%0A%20%20%20%20%20%20%20%20%22detectRetina%22%3A%20false%2C%0A%20%20%20%20%20%20%20%20%22maxNativeZoom%22%3A%2018%2C%0A%20%20%20%20%20%20%20%20%22maxZoom%22%3A%2018%2C%0A%20%20%20%20%20%20%20%20%22minZoom%22%3A%200%2C%0A%20%20%20%20%20%20%20%20%22noWrap%22%3A%20false%2C%0A%20%20%20%20%20%20%20%20%22opacity%22%3A%201%2C%0A%20%20%20%20%20%20%20%20%22subdomains%22%3A%20%22abc%22%2C%0A%20%20%20%20%20%20%20%20%22tms%22%3A%20false%0A%7D%29.addTo%28map_f701cf20dc7d4a4aa415adf092948d7a%29%3B%0A%20%20%20%20%0A%0A%20%20%20%20%20%20%20%20var%20tile_layer_8838f020157d4fc5bb8b3487ed25b088%20%3D%20L.tileLayer%28%0A%20%20%20%20%20%20%20%20%27https%3A//%7Bs%7D.tile.openstreetmap.org/%7Bz%7D/%7Bx%7D/%7By%7D.png%27%2C%0A%20%20%20%20%20%20%20%20%7B%0A%20%20%20%20%20%20%20%20%22attribution%22%3A%20null%2C%0A%20%20%20%20%20%20%20%20%22detectRetina%22%3A%20false%2C%0A%20%20%20%20%20%20%20%20%22maxNativeZoom%22%3A%2018%2C%0A%20%20%20%20%20%20%20%20%22maxZoom%22%3A%2018%2C%0A%20%20%20%20%20%20%20%20%22minZoom%22%3A%200%2C%0A%20%20%20%20%20%20%20%20%22noWrap%22%3A%20false%2C%0A%20%20%20%20%20%20%20%20%22opacity%22%3A%201%2C%0A%20%20%20%20%20%20%20%20%22subdomains%22%3A%20%22abc%22%2C%0A%20%20%20%20%20%20%20%20%22tms%22%3A%20false%0A%7D%20%29%3B%0A%0A%20%20%20%20%20%20%20%20var%20mini_map_3e45c8e362904d159984287d64b634a1%20%3D%20new%20L.Control.MiniMap%28%20tile_layer_8838f020157d4fc5bb8b3487ed25b088%2C%0A%20%20%20%20%20%20%20%20%20%7B%0A%20%20%22autoToggleDisplay%22%3A%20false%2C%0A%20%20%22centerFixed%22%3A%20false%2C%0A%20%20%22collapsedHeight%22%3A%2025%2C%0A%20%20%22collapsedWidth%22%3A%2025%2C%0A%20%20%22height%22%3A%20150%2C%0A%20%20%22minimized%22%3A%20false%2C%0A%20%20%22position%22%3A%20%22bottomright%22%2C%0A%20%20%22toggleDisplay%22%3A%20false%2C%0A%20%20%22width%22%3A%20150%2C%0A%20%20%22zoomAnimation%22%3A%20false%2C%0A%20%20%22zoomLevelFixed%22%3A%207%2C%0A%20%20%22zoomLevelOffset%22%3A%20-5%0A%7D%29%3B%0A%20%20%20%20%20%20%20%20map_f701cf20dc7d4a4aa415adf092948d7a.addControl%28mini_map_3e45c8e362904d159984287d64b634a1%29%3B%0A%0A%20%20%20%20%20%20%20%20%0A%20%20%20%20%0A%20%20%20%20%20%20%20%20%20%20%20%20var%20layer_control_c6c3ef6c67c440eaa6a1d32bb5be1b0d%20%3D%20%7B%0A%20%20%20%20%20%20%20%20%20%20%20%20%20%20%20%20base_layers%20%3A%20%7B%20%22openstreetmap%22%20%3A%20tile_layer_97516a9072eb4bdfb4c921524ba17595%2C%20%7D%2C%0A%20%20%20%20%20%20%20%20%20%20%20%20%20%20%20%20overlays%20%3A%20%7B%20%22ndvi_0.5%3C%22%20%3A%20tile_layer_d94d184eb2c44cc890ed67578adfd061%2C%22evi_0.5%3C%22%20%3A%20tile_layer_a5abb92046c74d7ab9943f557f38c9fe%2C%20%7D%0A%20%20%20%20%20%20%20%20%20%20%20%20%20%20%20%20%7D%3B%0A%20%20%20%20%20%20%20%20%20%20%20%20L.control.layers%28%0A%20%20%20%20%20%20%20%20%20%20%20%20%20%20%20%20layer_control_c6c3ef6c67c440eaa6a1d32bb5be1b0d.base_layers%2C%0A%20%20%20%20%20%20%20%20%20%20%20%20%20%20%20%20layer_control_c6c3ef6c67c440eaa6a1d32bb5be1b0d.overlays%2C%0A%20%20%20%20%20%20%20%20%20%20%20%20%20%20%20%20%7Bposition%3A%20%27topright%27%2C%0A%20%20%20%20%20%20%20%20%20%20%20%20%20%20%20%20%20collapsed%3A%20true%2C%0A%20%20%20%20%20%20%20%20%20%20%20%20%20%20%20%20%20autoZIndex%3A%20true%0A%20%20%20%20%20%20%20%20%20%20%20%20%20%20%20%20%7D%29.addTo%28map_f701cf20dc7d4a4aa415adf092948d7a%29%3B%0A%20%20%20%20%20%20%20%20%20%20%20%20%0A%20%20%20%20%20%20%20%20%0A%3C/script%3E onload=\"this.contentDocument.open();this.contentDocument.write(    decodeURIComponent(this.getAttribute('data-html')));this.contentDocument.close();\" allowfullscreen webkitallowfullscreen mozallowfullscreen></iframe></div></div>"
            ],
            "text/plain": [
              "<folium.folium.Map at 0x7f221238c1d0>"
            ]
          },
          "metadata": {
            "tags": []
          },
          "execution_count": 25
        }
      ]
    },
    {
      "cell_type": "markdown",
      "metadata": {
        "id": "NYi--ITCEHv3"
      },
      "source": [
        "### Descarga de Imágenes (Export a Drive)"
      ]
    },
    {
      "cell_type": "markdown",
      "metadata": {
        "id": "lyAbrJ1L_CdM"
      },
      "source": [
        "1. Descarga de un objeto ee.Image\n",
        "2. Descarga automatizada de un objeto ee.ImageCollection"
      ]
    },
    {
      "cell_type": "markdown",
      "metadata": {
        "id": "9VE6SeKIr43v"
      },
      "source": [
        "La API de Python requiere el llamado de `ee.batch` para poder trabajar de manera similar a JavaScript:\n",
        "- [Exporting data with the Python API](https://developers.google.com/earth-engine/guides/python_install#exporting-data)\n",
        "- Mas info: [notebook propio para descarga](https://colab.research.google.com/drive/1GCAoapxKzGbT2HcKfKOIf_WDObumoOqJ#scrollTo=mKFt8PFoPj_B)\n",
        "\n",
        "Si se está usando la API de Earth Engine con Python, no usar las guías de la documentación ya que solo aplican para el code editor:\n",
        "- [Exporting a collection to Google Drive, Earth Engine Asset, or Google Cloud](https://developers.google.com/earth-engine/tutorials/community/beginners-cookbook#exporting_data)\n",
        "- [Export.image.toDrive](https://developers.google.com/earth-engine/apidocs/export-image-todrive)"
      ]
    },
    {
      "cell_type": "markdown",
      "metadata": {
        "id": "DFzhUq2rtDGi"
      },
      "source": [
        "##### Descarga de un objeto `ee.Image`\n",
        "\n"
      ]
    },
    {
      "cell_type": "code",
      "metadata": {
        "colab": {
          "base_uri": "https://localhost:8080/"
        },
        "id": "-AjhWUzIssfF",
        "cellView": "form",
        "outputId": "3a944c32-5fdb-49e6-f0fc-5e271653aae9"
      },
      "source": [
        "#@markdown **Función:** Monitoreo automático de descargas\n",
        "from ee.batch import Export\n",
        "from datetime import datetime\n",
        "import time \n",
        "\n",
        "def ee_monitoring(ee_task):\n",
        "  \"\"\"\n",
        "  - Se importa ee.batch.Export\n",
        "  - Se importa datetime de datetime\n",
        "  - Se importa time para llamarse cada 5 segundos (.sleep) \n",
        "  \"\"\"\n",
        "  while ee_task.active():\n",
        "    print('Sondeo de la tarea (id: {}).'.format(ee_task.id))\n",
        "    time.sleep(5)\n",
        "print('ee_monitoring(ee_task) listo!')"
      ],
      "execution_count": null,
      "outputs": [
        {
          "output_type": "stream",
          "text": [
            "ee_monitoring(ee_task) listo!\n"
          ],
          "name": "stdout"
        }
      ]
    },
    {
      "cell_type": "code",
      "metadata": {
        "id": "PbMXGbCw8IW4",
        "colab": {
          "base_uri": "https://localhost:8080/"
        },
        "outputId": "6f107618-9cc4-4cc4-822a-81158d0d24d2"
      },
      "source": [
        "#from ee.batch import Export # La función monitoreo automático de descargas ya importa Export\n",
        "# https://developers.google.com/earth-engine/guides/exporting #exporting-images\n",
        "\n",
        "task = ee.batch.Export.image.toDrive(image= img_s2_rgb,  # an ee.Image object.\n",
        "                                     description='prueba1',\n",
        "                                     scale=10,\n",
        "                                     folder='Prueba_imagenes')\n",
        "\n",
        "task.start()\n",
        "ee_monitoring(task)"
      ],
      "execution_count": null,
      "outputs": [
        {
          "output_type": "stream",
          "text": [
            "Sondeo de la tarea (id: UXC3Z5A42OAI3E2JOLOOLTSW).\n",
            "Sondeo de la tarea (id: UXC3Z5A42OAI3E2JOLOOLTSW).\n",
            "Sondeo de la tarea (id: UXC3Z5A42OAI3E2JOLOOLTSW).\n"
          ],
          "name": "stdout"
        }
      ]
    },
    {
      "cell_type": "markdown",
      "metadata": {
        "id": "Tozmd7oXrL7I"
      },
      "source": [
        "Tasks started from the Python API will also appear in the Tasks tab of the JavaScript Code Editor for the same Google account. \n",
        "- Revisar el [code editor](https://code.earthengine.google.com/)"
      ]
    },
    {
      "cell_type": "code",
      "metadata": {
        "colab": {
          "base_uri": "https://localhost:8080/"
        },
        "id": "N10OEIED-uc0",
        "outputId": "2d750970-99e5-4d0c-ce0e-4ab024ac20ce"
      },
      "source": [
        "task.status()"
      ],
      "execution_count": null,
      "outputs": [
        {
          "output_type": "execute_result",
          "data": {
            "text/plain": [
              "{'attempt': 1,\n",
              " 'creation_timestamp_ms': 1612303866195,\n",
              " 'description': 'img_ndvi_final',\n",
              " 'destination_uris': ['https://drive.google.com/#folders/10kptP0blEzkyanKJGuiJ1G4lddoyJTOV'],\n",
              " 'id': 'WXCXNQBGAXZFIXSZFAMGEVIM',\n",
              " 'name': 'projects/earthengine-legacy/operations/WXCXNQBGAXZFIXSZFAMGEVIM',\n",
              " 'start_timestamp_ms': 1612303892573,\n",
              " 'state': 'COMPLETED',\n",
              " 'task_type': 'EXPORT_IMAGE',\n",
              " 'update_timestamp_ms': 1612304046481}"
            ]
          },
          "metadata": {
            "tags": []
          },
          "execution_count": 71
        }
      ]
    },
    {
      "cell_type": "markdown",
      "metadata": {
        "id": "l80c27SVAn6j"
      },
      "source": [
        "##### Descarga de un objeto `ee.ImageCollection`"
      ]
    },
    {
      "cell_type": "markdown",
      "metadata": {
        "id": "vqiGyvt0tyih"
      },
      "source": [
        "###### Descarga automátizada de sentinel-2"
      ]
    },
    {
      "cell_type": "code",
      "metadata": {
        "id": "40gM2PBqsGMd",
        "cellView": "form"
      },
      "source": [
        "#@markdown *Función Sentinel-2*\n",
        "\n",
        "def clean_s2(init_date, last_date, roi, cloud_per, calendar, bands):\n",
        "  def maskS2clouds(image):\n",
        "    qa = image.select('QA60')\n",
        "    opaque_cloud = 1 << 10\n",
        "    cirrus_cloud = 1 << 11\n",
        "    mask = qa.bitwiseAnd(opaque_cloud).eq(0)\\\n",
        "             .And(qa.bitwiseAnd(cirrus_cloud).eq(0))\n",
        "    clean_image = image.updateMask(mask).select(bands)\n",
        "    return clean_image.copyProperties(image, ['system:time_start'])\n",
        "  ic_s2 = ee.ImageCollection(\"COPERNICUS/S2_SR\")\\\n",
        "               .filterBounds(roi)\\\n",
        "               .filterDate(init_date, last_date)\\\n",
        "               .filter(ee.Filter.calendarRange(calendar[0], calendar[1],'month'))\\\n",
        "               .filter(ee.Filter.lt('CLOUDY_PIXEL_PERCENTAGE', cloud_per))\\\n",
        "               .map(maskS2clouds)\n",
        "  return ic_s2"
      ],
      "execution_count": null,
      "outputs": []
    },
    {
      "cell_type": "code",
      "metadata": {
        "colab": {
          "base_uri": "https://localhost:8080/"
        },
        "id": "eKkKSVdGqcDI",
        "outputId": "ad9de2d0-eef0-49d0-c69c-54ed3ea9b5cb"
      },
      "source": [
        "s2 = clean_s2(init_date = '2018-08-12',\n",
        "              last_date = '2020-09-01',\n",
        "              roi = roi,\n",
        "              cloud_per = 50,\n",
        "              calendar =  [1,12], \n",
        "              bands =  ['B4','B3','B2'])\n",
        "s2.size().getInfo()"
      ],
      "execution_count": null,
      "outputs": [
        {
          "output_type": "execute_result",
          "data": {
            "text/plain": [
              "51"
            ]
          },
          "metadata": {
            "tags": []
          },
          "execution_count": 74
        }
      ]
    },
    {
      "cell_type": "code",
      "metadata": {
        "id": "vHU_RgHbkDG-"
      },
      "source": [
        "ee_get_dates(s2)"
      ],
      "execution_count": null,
      "outputs": []
    },
    {
      "cell_type": "markdown",
      "metadata": {
        "id": "vKBWgTQYt5Ew"
      },
      "source": [
        "###### Descarga automátizada de cualquier image collection"
      ]
    },
    {
      "cell_type": "code",
      "metadata": {
        "colab": {
          "base_uri": "https://localhost:8080/",
          "height": 33
        },
        "id": "Rt7jP0fumNbM",
        "cellView": "form",
        "outputId": "7540f962-ad1a-42b4-bc79-26b986fb7e65"
      },
      "source": [
        "#@markdown *Función: Descarga Automática a Drive de un objeto* `ee.ImageCollection`\n",
        "def ee_download_images(ic, region, prefix, folder, scale):\n",
        "  nimages = ic.size().getInfo()\n",
        "  ic_list = ic.toList(nimages)    # pasar de un image collection donde cada objeto esta apilado -> al ser una lista, puedo aplicar set o get en GEE\n",
        "  for n_img in range(nimages):\n",
        "    to_download = ee.Image(ic_list.get(n_img))\n",
        "    timestamp = to_download.get('system:time_start').getInfo()\n",
        "    dt_object = datetime.fromtimestamp(timestamp/1000).strftime('%Y_%m_%d_%H_%M_%S')\n",
        "    # Create an export task\n",
        "    task = Export.image.toDrive(\n",
        "      image=to_download,\n",
        "      description= prefix+dt_object,\n",
        "      folder=folder,     \n",
        "      scale=scale,\n",
        "      region = region\n",
        "    )\n",
        "    print('Descargando: '+prefix+dt_object+'.tif')\n",
        "    # Start an export task\n",
        "    task.start()\n",
        "    ee_monitoring(task)\n",
        "print('Función: Descarga Automática a Drive listo!')\n",
        "# el proceso de descarga no es paralelo"
      ],
      "execution_count": null,
      "outputs": [
        {
          "output_type": "stream",
          "text": [
            "Función: Descarga Automática a Drive listo!\n"
          ],
          "name": "stdout"
        }
      ]
    },
    {
      "cell_type": "code",
      "metadata": {
        "id": "uUjDQeG1mc1u"
      },
      "source": [
        "ee_download_images(ic = s2,\n",
        "                   region =  area_total.geometry().bounds(),\n",
        "                   prefix = 'CHINCHA_',\n",
        "                   folder = 'TESIS_S4',\n",
        "                   scale =  10)"
      ],
      "execution_count": null,
      "outputs": []
    },
    {
      "cell_type": "markdown",
      "metadata": {
        "id": "9cwCsaLt-hEL"
      },
      "source": [
        "## Fase 2: Random Forest\n",
        "\n",
        "\n",
        "\n",
        "\n",
        "\n",
        "\n"
      ]
    },
    {
      "cell_type": "markdown",
      "metadata": {
        "id": "SMX5-qxx_FtS"
      },
      "source": [
        "**Objetivo**\n",
        "- Realizar la clasificación supervisada mediante el método de ensamble Random Forest con imágenes Sentinel-2.\n",
        "\n",
        "Pasos:\n",
        "5. Entrenamiento: Toma de datos en campo y preparación de etiquetado (labels), Clasificador Random Forest (usando EE o [TensorFlow](https://www.tensorflow.org/tutorials/images/classification)/[Scikit-learn](https://kapernikov.com/tutorial-image-classification-with-scikit-learn/))\n",
        "6. Validación: Evaluación de resultados mediante indicadores de evaluación (Coeficiente de Kappa, Matriz de confusión) \n",
        "7. Postprocesamiento de resultados.\n",
        "\n",
        "[Supervised Classification with EE](https://developers.google.com/earth-engine/guides/classification)"
      ]
    },
    {
      "cell_type": "markdown",
      "metadata": {
        "id": "jhUutYjkr_J1"
      },
      "source": [
        "### Árboles de decisión"
      ]
    },
    {
      "cell_type": "markdown",
      "metadata": {
        "id": "7yeo_zloDnnZ"
      },
      "source": [
        "> **Arboles de decisión**\n",
        "- Aprendizaje de árboles de decisión es un método comúnmente usado en estadística, data mining y machine learning. Tiene por objetivo la creación de un modelo predictor de valores de la variable objetivo basado en muchas variables de ingreso. [Source](https://en.wikipedia.org/wiki/Decision_tree_learning)\n",
        "- Presenta un diagrama similar al de un árbol (invertido), donde:\n",
        "  - cada \"nodo interno\" denota un test en un atributo\n",
        "  - cada \"rama\" representa el resultado de un test y\n",
        "  - cada \"hoja\" (nodo terminal) da como respuesta una clase (etiqueta) [Source](https://www.geeksforgeeks.org/decision-tree/)\n",
        "- Pertenece al tipo de aprendizaje automático supervisado (o supervised machine learning). Es posible construir clasificaciones y regresiones (CART).\n",
        "- En resumen:\n",
        "  - Arboles de decisión trabajan en el principio de las **condiciones**\n",
        "  - El algoritmo revisa las condiciones en cada nodo y \"divide\" el conjunto de datos, según el resultado del test.\n",
        "  - Secuencia de preguntas if-else a features individuales\n",
        "  - objetivo: inferir las etiquetas de clases\n",
        "  - capaz de capturar relaciones no-lineales entre features y labels\n",
        "  - no requiere escalamiento (estandarización,...)\n",
        "\n",
        "<center>\n",
        "<img src='https://blogs.fu-berlin.de/reseda/files/2018/09/rf_001-768x405.png' width=70%/>\n",
        "</center>"
      ]
    },
    {
      "cell_type": "markdown",
      "metadata": {
        "id": "BOW-QPXEzmCi"
      },
      "source": [
        "> **Impureza de Gini**\n",
        "$$ \n",
        "Gini = 1 - \\sum \\limits_{i=1}^{C}(p^2) \n",
        "$$\n",
        "$$\n",
        "Gini(Leaf_k) = 1- \\sum_{class=1}^{C \\, classes} (probability(class|Leaf_k))^2 = Gini(L_k) = 1 - \\sum_{c=1}^{C} \\left( p(c|L_k) \\right )^2\n",
        "$$"
      ]
    },
    {
      "cell_type": "markdown",
      "metadata": {
        "id": "9L8HsvXdq3Tl"
      },
      "source": [
        "\n",
        "\n",
        "\n",
        "<center>\n",
        "<img src='https://blogs.fu-berlin.de/reseda/files/2018/09/rrf_002.png' width=90%/>\n",
        "</center>\n",
        "\n",
        "> **Ejemplo**\\\n",
        "Para la primera división en nuestro ejemplo que se muestra en la figura anterior, las matemáticas serían:\n",
        "1. Calcule Gini para el subnodo izquierdo:\n",
        "$$\n",
        "Gini(L_1) = 1 - \\left(\\frac{160}{310} \\right)^2 - \\left(\\frac{40}{310} \\right)^2 - \\left(\\frac{10}{310} \\right)^2- \\left(\\frac{100}{310} \\right)^2 = 0.612\n",
        "$$\n",
        "2. Calcule Gini para el subnodo derecho:\n",
        "$$\n",
        "Gini(L_2) = 1 - \\left(\\frac{40}{190} \\right)^2 - \\left(\\frac{80}{190} \\right)^2 - \\left(\\frac{70}{190} \\right)^2 - \\left(\\frac{0}{190} \\right)^2 = 0.643\n",
        "$$\n",
        "3. Calcule el Gini ponderado para dividir (banda 2):\n",
        "$$\n",
        "\\begin{align}\n",
        "        Gini(I_1)\n",
        "        &=\n",
        "        \\sum_{k=1}^{K} \n",
        "        \\left(\\frac{count(L_k)}{count(L_1,...,L_K)}\\right)Gini(L_k)\\\\\n",
        "        & =\n",
        "        \\left(\\frac{count(L_1)}{count(L_1 + L_2)}\\right)Gini(L_1)\\,+\n",
        "        \\left(\\frac{count(L_2)}{count(L_1 + L_2)}\\right)Gini(L_2)\\\\\n",
        "        & =\n",
        "        \\left(\\frac{310}{500} \\right)0.612 + \\left(\\frac{190}{500} \\right)0.643\n",
        "        \\\\\n",
        "        & = 0.624\n",
        "    \\end{align}\n",
        "$$\n",
        "El algoritmo no usa todas las bandas ($mtry$) para división:\n",
        "$$\n",
        "\\begin{align}\n",
        "mtry = \\sqrt{M} \\\\\n",
        "= \\sqrt{11}\\\\ \\approx3\n",
        "\\end{align}\n",
        "$$"
      ]
    },
    {
      "cell_type": "markdown",
      "metadata": {
        "id": "kd6fWTNvwsDT"
      },
      "source": [
        "<center>\n",
        "<img src='https://blogs.fu-berlin.de/reseda/files/2018/09/rf_002-768x486.png' width=80%/>\n",
        "</center>"
      ]
    },
    {
      "cell_type": "markdown",
      "metadata": {
        "id": "GGjXpB9csPXm"
      },
      "source": [
        "### Clasificación Supervisada con Earth Engine"
      ]
    },
    {
      "cell_type": "markdown",
      "metadata": {
        "id": "JJ8s8MXqYHLA"
      },
      "source": [
        "> [**Machine Learning in Earth Engine**](https://developers.google.com/earth-engine/guides/machine-learning)\n",
        "\n",
        "- Complejidad\n",
        "    - Para proyectos simples: EE API methods\n",
        "    - Para proyectos complejos: TensorFlow\n",
        "- Clasificadores disponibles en Earth Engine [(**ee.Classifier**)](https://developers.google.com/earth-engine/guides/classification):\n",
        "    - **Classification and Regression Trees (CART)**\n",
        "    - **Random Forest**\n",
        "    - NaiveBayes\n",
        "    - Support Vector Machines (SVM)  "
      ]
    },
    {
      "cell_type": "markdown",
      "metadata": {
        "id": "1NX-bH0rNeuh"
      },
      "source": [
        "> **Machine Learning en Earth Engine: Metodología**\n",
        "El modulo **ee.Classifier** maneja la clasificacion supervisada en Earth Engine. El flujo de trabajo general para la clasificacion es:\n",
        "1. Recopilar datos de entrenamiento. Reuna puntos que tienen como propiedad el **\"target\"** y las variables predictoras.\n",
        "2. Instanciar un clasificador. Establezca sus parametros si es necesario.\n",
        "3. Entrene al clasificador utilizando los datos de entrenamiento.\n",
        "4. Clasificar una imagen o FeatureCollection.\n",
        "5. Estime el error de clasificacion con datos de validacion independientes."
      ]
    },
    {
      "cell_type": "markdown",
      "metadata": {
        "id": "bJuaDsp8vNYi"
      },
      "source": [
        "###### Imagen a tratar"
      ]
    },
    {
      "cell_type": "code",
      "metadata": {
        "id": "irnAFiltDwkV",
        "cellView": "form"
      },
      "source": [
        "# @markdown Función NDVI - EVI\n",
        "\n",
        "def ndvi_icol(image):\n",
        "  ndvi = image.expression(\n",
        "      '(nir - red) / (nir + red)',\n",
        "      {'red' : image.select('B4').divide(10000),\n",
        "       'nir' : image.select('B8').divide(10000)}).rename('NDVI')\n",
        "  return ndvi\n",
        "\n",
        "def evi_icol(img):\n",
        "  \"\"\"\n",
        "  https://developers.google.com/earth-engine/guides/image_math#expressions\n",
        "  \"\"\"\n",
        "  evi = img.expression('2.5 * (nir - red) / (nir + 6 * red - 7.5 * blue + 1)',\n",
        "                       {'red' : img.select('B4').divide(10000),\n",
        "                        'nir' : img.select('B8').divide(10000),\n",
        "                        'blue': img.select('B2').divide(10000)}).rename('EVI')\n",
        "\n",
        "  return evi"
      ],
      "execution_count": null,
      "outputs": []
    },
    {
      "cell_type": "code",
      "metadata": {
        "id": "KvcQGT8ltIU4",
        "colab": {
          "base_uri": "https://localhost:8080/",
          "height": 854
        },
        "outputId": "01e72a20-549b-4c2d-977b-541a6de9fea7"
      },
      "source": [
        "img_first = ee.Image('COPERNICUS/S2_SR/20190501T151711_20190501T151806_T18LUL').select(['B4','B3','B2','B8'])\n",
        "\n",
        "# EVI \n",
        "palette = ['FFFFFF', 'CE7E45', 'DF923D', 'F1B555', 'FCD163', '99B718', '74A901',\n",
        "           '66A000', '529400', '3E8601', '207401', '056201', '004C00', '023B01',\n",
        "           '012E01', '011D01', '011301']\n",
        "\n",
        "img_evi = evi_icol(img_first)\n",
        "img_ndvi = ndvi_icol(img_first)\n",
        "\n",
        "img_first = img_first.addBands(img_evi, ['EVI'])\n",
        "img_first = img_first.addBands(img_ndvi, ['NDVI'])\n",
        "\n",
        "# Diccionario de visualizacion\n",
        "dict_viz = {'evi':img_evi.getMapId({'min':0.0, 'max':1.0, 'palette': palette}),\n",
        "            'evi_b&w':img_evi.getMapId({'min':0.0, 'max':1.0}),\n",
        "            'ndvi':img_ndvi.getMapId({'min':0.0, 'max':1.0, 'palette': palette}),\n",
        "            'ndvi_b&w':img_ndvi.getMapId({'min':0.0, 'max':1.0}),\n",
        "            'sentinel2':img_first.multiply(0.0001).getMapId({'min':0.0, 'max':0.3, 'bands':['B4','B3','B2']})}\n",
        "\n",
        "mapdisplay(centroide, dict_viz, zoom_start=12)"
      ],
      "execution_count": null,
      "outputs": [
        {
          "output_type": "execute_result",
          "data": {
            "text/html": [
              "<div style=\"width:100%;\"><div style=\"position:relative;width:100%;height:0;padding-bottom:60%;\"><span style=\"color:#565656\">Make this Notebook Trusted to load map: File -> Trust Notebook</span><iframe src=\"about:blank\" style=\"position:absolute;width:100%;height:100%;left:0;top:0;border:none !important;\" data-html=%3C%21DOCTYPE%20html%3E%0A%3Chead%3E%20%20%20%20%0A%20%20%20%20%3Cmeta%20http-equiv%3D%22content-type%22%20content%3D%22text/html%3B%20charset%3DUTF-8%22%20/%3E%0A%20%20%20%20%3Cscript%3EL_PREFER_CANVAS%3Dfalse%3B%20L_NO_TOUCH%3Dfalse%3B%20L_DISABLE_3D%3Dfalse%3B%3C/script%3E%0A%20%20%20%20%3Cscript%20src%3D%22https%3A//cdn.jsdelivr.net/npm/leaflet%401.4.0/dist/leaflet.js%22%3E%3C/script%3E%0A%20%20%20%20%3Cscript%20src%3D%22https%3A//code.jquery.com/jquery-1.12.4.min.js%22%3E%3C/script%3E%0A%20%20%20%20%3Cscript%20src%3D%22https%3A//maxcdn.bootstrapcdn.com/bootstrap/3.2.0/js/bootstrap.min.js%22%3E%3C/script%3E%0A%20%20%20%20%3Cscript%20src%3D%22https%3A//cdnjs.cloudflare.com/ajax/libs/Leaflet.awesome-markers/2.0.2/leaflet.awesome-markers.js%22%3E%3C/script%3E%0A%20%20%20%20%3Clink%20rel%3D%22stylesheet%22%20href%3D%22https%3A//cdn.jsdelivr.net/npm/leaflet%401.4.0/dist/leaflet.css%22/%3E%0A%20%20%20%20%3Clink%20rel%3D%22stylesheet%22%20href%3D%22https%3A//maxcdn.bootstrapcdn.com/bootstrap/3.2.0/css/bootstrap.min.css%22/%3E%0A%20%20%20%20%3Clink%20rel%3D%22stylesheet%22%20href%3D%22https%3A//maxcdn.bootstrapcdn.com/bootstrap/3.2.0/css/bootstrap-theme.min.css%22/%3E%0A%20%20%20%20%3Clink%20rel%3D%22stylesheet%22%20href%3D%22https%3A//maxcdn.bootstrapcdn.com/font-awesome/4.6.3/css/font-awesome.min.css%22/%3E%0A%20%20%20%20%3Clink%20rel%3D%22stylesheet%22%20href%3D%22https%3A//cdnjs.cloudflare.com/ajax/libs/Leaflet.awesome-markers/2.0.2/leaflet.awesome-markers.css%22/%3E%0A%20%20%20%20%3Clink%20rel%3D%22stylesheet%22%20href%3D%22https%3A//rawcdn.githack.com/python-visualization/folium/master/folium/templates/leaflet.awesome.rotate.css%22/%3E%0A%20%20%20%20%3Cstyle%3Ehtml%2C%20body%20%7Bwidth%3A%20100%25%3Bheight%3A%20100%25%3Bmargin%3A%200%3Bpadding%3A%200%3B%7D%3C/style%3E%0A%20%20%20%20%3Cstyle%3E%23map%20%7Bposition%3Aabsolute%3Btop%3A0%3Bbottom%3A0%3Bright%3A0%3Bleft%3A0%3B%7D%3C/style%3E%0A%20%20%20%20%0A%20%20%20%20%3Cmeta%20name%3D%22viewport%22%20content%3D%22width%3Ddevice-width%2C%0A%20%20%20%20%20%20%20%20initial-scale%3D1.0%2C%20maximum-scale%3D1.0%2C%20user-scalable%3Dno%22%20/%3E%0A%20%20%20%20%3Cstyle%3E%23map_cae5ee9cf9b541f495e4cf25a794173c%20%7B%0A%20%20%20%20%20%20%20%20position%3A%20relative%3B%0A%20%20%20%20%20%20%20%20width%3A%20100.0%25%3B%0A%20%20%20%20%20%20%20%20height%3A%20100.0%25%3B%0A%20%20%20%20%20%20%20%20left%3A%200.0%25%3B%0A%20%20%20%20%20%20%20%20top%3A%200.0%25%3B%0A%20%20%20%20%20%20%20%20%7D%0A%20%20%20%20%3C/style%3E%0A%20%20%20%20%3Cscript%20src%3D%22https%3A//cdnjs.cloudflare.com/ajax/libs/leaflet-minimap/3.6.1/Control.MiniMap.js%22%3E%3C/script%3E%0A%20%20%20%20%3Clink%20rel%3D%22stylesheet%22%20href%3D%22https%3A//cdnjs.cloudflare.com/ajax/libs/leaflet-minimap/3.6.1/Control.MiniMap.css%22/%3E%0A%3C/head%3E%0A%3Cbody%3E%20%20%20%20%0A%20%20%20%20%0A%20%20%20%20%3Cdiv%20class%3D%22folium-map%22%20id%3D%22map_cae5ee9cf9b541f495e4cf25a794173c%22%20%3E%3C/div%3E%0A%3C/body%3E%0A%3Cscript%3E%20%20%20%20%0A%20%20%20%20%0A%20%20%20%20%0A%20%20%20%20%20%20%20%20var%20bounds%20%3D%20null%3B%0A%20%20%20%20%0A%0A%20%20%20%20var%20map_cae5ee9cf9b541f495e4cf25a794173c%20%3D%20L.map%28%0A%20%20%20%20%20%20%20%20%27map_cae5ee9cf9b541f495e4cf25a794173c%27%2C%20%7B%0A%20%20%20%20%20%20%20%20center%3A%20%5B-13.4589%2C%20-76.0908%5D%2C%0A%20%20%20%20%20%20%20%20zoom%3A%2012%2C%0A%20%20%20%20%20%20%20%20maxBounds%3A%20bounds%2C%0A%20%20%20%20%20%20%20%20layers%3A%20%5B%5D%2C%0A%20%20%20%20%20%20%20%20worldCopyJump%3A%20false%2C%0A%20%20%20%20%20%20%20%20crs%3A%20L.CRS.EPSG3857%2C%0A%20%20%20%20%20%20%20%20zoomControl%3A%20true%2C%0A%20%20%20%20%20%20%20%20%7D%29%3B%0AL.control.scale%28%29.addTo%28map_cae5ee9cf9b541f495e4cf25a794173c%29%3B%0A%0A%20%20%20%20%0A%20%20%20%20var%20tile_layer_9ab7260c7db246ceac7b7ddc085d2215%20%3D%20L.tileLayer%28%0A%20%20%20%20%20%20%20%20%27https%3A//%7Bs%7D.tile.openstreetmap.org/%7Bz%7D/%7Bx%7D/%7By%7D.png%27%2C%0A%20%20%20%20%20%20%20%20%7B%0A%20%20%20%20%20%20%20%20%22attribution%22%3A%20null%2C%0A%20%20%20%20%20%20%20%20%22detectRetina%22%3A%20false%2C%0A%20%20%20%20%20%20%20%20%22maxNativeZoom%22%3A%2018%2C%0A%20%20%20%20%20%20%20%20%22maxZoom%22%3A%2018%2C%0A%20%20%20%20%20%20%20%20%22minZoom%22%3A%200%2C%0A%20%20%20%20%20%20%20%20%22noWrap%22%3A%20false%2C%0A%20%20%20%20%20%20%20%20%22opacity%22%3A%201%2C%0A%20%20%20%20%20%20%20%20%22subdomains%22%3A%20%22abc%22%2C%0A%20%20%20%20%20%20%20%20%22tms%22%3A%20false%0A%7D%29.addTo%28map_cae5ee9cf9b541f495e4cf25a794173c%29%3B%0A%20%20%20%20var%20tile_layer_0e428024eabe4246b88ef8f3d0e4a668%20%3D%20L.tileLayer%28%0A%20%20%20%20%20%20%20%20%27https%3A//earthengine.googleapis.com/v1alpha/projects/earthengine-legacy/maps/578b776cb112c2ae654c55ee57f2bb81-4c3f4ac03105172ad6af9281ccc88a98/tiles/%7Bz%7D/%7Bx%7D/%7By%7D%27%2C%0A%20%20%20%20%20%20%20%20%7B%0A%20%20%20%20%20%20%20%20%22attribution%22%3A%20%22Google%20Earth%20Engine%22%2C%0A%20%20%20%20%20%20%20%20%22detectRetina%22%3A%20false%2C%0A%20%20%20%20%20%20%20%20%22maxNativeZoom%22%3A%2018%2C%0A%20%20%20%20%20%20%20%20%22maxZoom%22%3A%2018%2C%0A%20%20%20%20%20%20%20%20%22minZoom%22%3A%200%2C%0A%20%20%20%20%20%20%20%20%22noWrap%22%3A%20false%2C%0A%20%20%20%20%20%20%20%20%22opacity%22%3A%201%2C%0A%20%20%20%20%20%20%20%20%22subdomains%22%3A%20%22abc%22%2C%0A%20%20%20%20%20%20%20%20%22tms%22%3A%20false%0A%7D%29.addTo%28map_cae5ee9cf9b541f495e4cf25a794173c%29%3B%0A%20%20%20%20var%20tile_layer_8be0a1a6f0cf46e2ba000ce5a73a92b7%20%3D%20L.tileLayer%28%0A%20%20%20%20%20%20%20%20%27https%3A//earthengine.googleapis.com/v1alpha/projects/earthengine-legacy/maps/75d6326ba566e61e39b156215460065c-dc7a782393bde386476b9c9159ab2e36/tiles/%7Bz%7D/%7Bx%7D/%7By%7D%27%2C%0A%20%20%20%20%20%20%20%20%7B%0A%20%20%20%20%20%20%20%20%22attribution%22%3A%20%22Google%20Earth%20Engine%22%2C%0A%20%20%20%20%20%20%20%20%22detectRetina%22%3A%20false%2C%0A%20%20%20%20%20%20%20%20%22maxNativeZoom%22%3A%2018%2C%0A%20%20%20%20%20%20%20%20%22maxZoom%22%3A%2018%2C%0A%20%20%20%20%20%20%20%20%22minZoom%22%3A%200%2C%0A%20%20%20%20%20%20%20%20%22noWrap%22%3A%20false%2C%0A%20%20%20%20%20%20%20%20%22opacity%22%3A%201%2C%0A%20%20%20%20%20%20%20%20%22subdomains%22%3A%20%22abc%22%2C%0A%20%20%20%20%20%20%20%20%22tms%22%3A%20false%0A%7D%29.addTo%28map_cae5ee9cf9b541f495e4cf25a794173c%29%3B%0A%20%20%20%20var%20tile_layer_e19673c634d84bb3aefdf871b543499a%20%3D%20L.tileLayer%28%0A%20%20%20%20%20%20%20%20%27https%3A//earthengine.googleapis.com/v1alpha/projects/earthengine-legacy/maps/3487c3a126d804e0d629f1c7b21b848c-1c13da42c0a0da45e6373c77ce35c369/tiles/%7Bz%7D/%7Bx%7D/%7By%7D%27%2C%0A%20%20%20%20%20%20%20%20%7B%0A%20%20%20%20%20%20%20%20%22attribution%22%3A%20%22Google%20Earth%20Engine%22%2C%0A%20%20%20%20%20%20%20%20%22detectRetina%22%3A%20false%2C%0A%20%20%20%20%20%20%20%20%22maxNativeZoom%22%3A%2018%2C%0A%20%20%20%20%20%20%20%20%22maxZoom%22%3A%2018%2C%0A%20%20%20%20%20%20%20%20%22minZoom%22%3A%200%2C%0A%20%20%20%20%20%20%20%20%22noWrap%22%3A%20false%2C%0A%20%20%20%20%20%20%20%20%22opacity%22%3A%201%2C%0A%20%20%20%20%20%20%20%20%22subdomains%22%3A%20%22abc%22%2C%0A%20%20%20%20%20%20%20%20%22tms%22%3A%20false%0A%7D%29.addTo%28map_cae5ee9cf9b541f495e4cf25a794173c%29%3B%0A%20%20%20%20var%20tile_layer_ec001dfc1ee34eb9914900a3fdcae835%20%3D%20L.tileLayer%28%0A%20%20%20%20%20%20%20%20%27https%3A//earthengine.googleapis.com/v1alpha/projects/earthengine-legacy/maps/8742ab725cbb9998085f7fabf3881a9e-4d0ddeb459edf548733563adc3724688/tiles/%7Bz%7D/%7Bx%7D/%7By%7D%27%2C%0A%20%20%20%20%20%20%20%20%7B%0A%20%20%20%20%20%20%20%20%22attribution%22%3A%20%22Google%20Earth%20Engine%22%2C%0A%20%20%20%20%20%20%20%20%22detectRetina%22%3A%20false%2C%0A%20%20%20%20%20%20%20%20%22maxNativeZoom%22%3A%2018%2C%0A%20%20%20%20%20%20%20%20%22maxZoom%22%3A%2018%2C%0A%20%20%20%20%20%20%20%20%22minZoom%22%3A%200%2C%0A%20%20%20%20%20%20%20%20%22noWrap%22%3A%20false%2C%0A%20%20%20%20%20%20%20%20%22opacity%22%3A%201%2C%0A%20%20%20%20%20%20%20%20%22subdomains%22%3A%20%22abc%22%2C%0A%20%20%20%20%20%20%20%20%22tms%22%3A%20false%0A%7D%29.addTo%28map_cae5ee9cf9b541f495e4cf25a794173c%29%3B%0A%20%20%20%20var%20tile_layer_bdd9d13754e14eb6a8d4ca2a10fb3c7b%20%3D%20L.tileLayer%28%0A%20%20%20%20%20%20%20%20%27https%3A//earthengine.googleapis.com/v1alpha/projects/earthengine-legacy/maps/a4abc6def79a8e2ff4bbde4ecd8eaf8a-b05205b3cf1eaae628dd6ce40e064517/tiles/%7Bz%7D/%7Bx%7D/%7By%7D%27%2C%0A%20%20%20%20%20%20%20%20%7B%0A%20%20%20%20%20%20%20%20%22attribution%22%3A%20%22Google%20Earth%20Engine%22%2C%0A%20%20%20%20%20%20%20%20%22detectRetina%22%3A%20false%2C%0A%20%20%20%20%20%20%20%20%22maxNativeZoom%22%3A%2018%2C%0A%20%20%20%20%20%20%20%20%22maxZoom%22%3A%2018%2C%0A%20%20%20%20%20%20%20%20%22minZoom%22%3A%200%2C%0A%20%20%20%20%20%20%20%20%22noWrap%22%3A%20false%2C%0A%20%20%20%20%20%20%20%20%22opacity%22%3A%201%2C%0A%20%20%20%20%20%20%20%20%22subdomains%22%3A%20%22abc%22%2C%0A%20%20%20%20%20%20%20%20%22tms%22%3A%20false%0A%7D%29.addTo%28map_cae5ee9cf9b541f495e4cf25a794173c%29%3B%0A%20%20%20%20%0A%0A%20%20%20%20%20%20%20%20var%20tile_layer_b41a5947e8414a64a24ddbfd77d10852%20%3D%20L.tileLayer%28%0A%20%20%20%20%20%20%20%20%27https%3A//%7Bs%7D.tile.openstreetmap.org/%7Bz%7D/%7Bx%7D/%7By%7D.png%27%2C%0A%20%20%20%20%20%20%20%20%7B%0A%20%20%20%20%20%20%20%20%22attribution%22%3A%20null%2C%0A%20%20%20%20%20%20%20%20%22detectRetina%22%3A%20false%2C%0A%20%20%20%20%20%20%20%20%22maxNativeZoom%22%3A%2018%2C%0A%20%20%20%20%20%20%20%20%22maxZoom%22%3A%2018%2C%0A%20%20%20%20%20%20%20%20%22minZoom%22%3A%200%2C%0A%20%20%20%20%20%20%20%20%22noWrap%22%3A%20false%2C%0A%20%20%20%20%20%20%20%20%22opacity%22%3A%201%2C%0A%20%20%20%20%20%20%20%20%22subdomains%22%3A%20%22abc%22%2C%0A%20%20%20%20%20%20%20%20%22tms%22%3A%20false%0A%7D%20%29%3B%0A%0A%20%20%20%20%20%20%20%20var%20mini_map_fb0642299a444f97b34464010feba60c%20%3D%20new%20L.Control.MiniMap%28%20tile_layer_b41a5947e8414a64a24ddbfd77d10852%2C%0A%20%20%20%20%20%20%20%20%20%7B%0A%20%20%22autoToggleDisplay%22%3A%20false%2C%0A%20%20%22centerFixed%22%3A%20false%2C%0A%20%20%22collapsedHeight%22%3A%2025%2C%0A%20%20%22collapsedWidth%22%3A%2025%2C%0A%20%20%22height%22%3A%20150%2C%0A%20%20%22minimized%22%3A%20false%2C%0A%20%20%22position%22%3A%20%22bottomright%22%2C%0A%20%20%22toggleDisplay%22%3A%20false%2C%0A%20%20%22width%22%3A%20150%2C%0A%20%20%22zoomAnimation%22%3A%20false%2C%0A%20%20%22zoomLevelFixed%22%3A%207%2C%0A%20%20%22zoomLevelOffset%22%3A%20-5%0A%7D%29%3B%0A%20%20%20%20%20%20%20%20map_cae5ee9cf9b541f495e4cf25a794173c.addControl%28mini_map_fb0642299a444f97b34464010feba60c%29%3B%0A%0A%20%20%20%20%20%20%20%20%0A%20%20%20%20%0A%20%20%20%20%20%20%20%20%20%20%20%20var%20layer_control_b5ad20e05e2b4ac382148bd251039940%20%3D%20%7B%0A%20%20%20%20%20%20%20%20%20%20%20%20%20%20%20%20base_layers%20%3A%20%7B%20%22openstreetmap%22%20%3A%20tile_layer_9ab7260c7db246ceac7b7ddc085d2215%2C%20%7D%2C%0A%20%20%20%20%20%20%20%20%20%20%20%20%20%20%20%20overlays%20%3A%20%7B%20%22evi%22%20%3A%20tile_layer_0e428024eabe4246b88ef8f3d0e4a668%2C%22evi_b%26w%22%20%3A%20tile_layer_8be0a1a6f0cf46e2ba000ce5a73a92b7%2C%22ndvi%22%20%3A%20tile_layer_e19673c634d84bb3aefdf871b543499a%2C%22ndvi_b%26w%22%20%3A%20tile_layer_ec001dfc1ee34eb9914900a3fdcae835%2C%22sentinel2%22%20%3A%20tile_layer_bdd9d13754e14eb6a8d4ca2a10fb3c7b%2C%20%7D%0A%20%20%20%20%20%20%20%20%20%20%20%20%20%20%20%20%7D%3B%0A%20%20%20%20%20%20%20%20%20%20%20%20L.control.layers%28%0A%20%20%20%20%20%20%20%20%20%20%20%20%20%20%20%20layer_control_b5ad20e05e2b4ac382148bd251039940.base_layers%2C%0A%20%20%20%20%20%20%20%20%20%20%20%20%20%20%20%20layer_control_b5ad20e05e2b4ac382148bd251039940.overlays%2C%0A%20%20%20%20%20%20%20%20%20%20%20%20%20%20%20%20%7Bposition%3A%20%27topright%27%2C%0A%20%20%20%20%20%20%20%20%20%20%20%20%20%20%20%20%20collapsed%3A%20true%2C%0A%20%20%20%20%20%20%20%20%20%20%20%20%20%20%20%20%20autoZIndex%3A%20true%0A%20%20%20%20%20%20%20%20%20%20%20%20%20%20%20%20%7D%29.addTo%28map_cae5ee9cf9b541f495e4cf25a794173c%29%3B%0A%20%20%20%20%20%20%20%20%20%20%20%20%0A%20%20%20%20%20%20%20%20%0A%3C/script%3E onload=\"this.contentDocument.open();this.contentDocument.write(    decodeURIComponent(this.getAttribute('data-html')));this.contentDocument.close();\" allowfullscreen webkitallowfullscreen mozallowfullscreen></iframe></div></div>"
            ],
            "text/plain": [
              "<folium.folium.Map at 0x7f2211ef6b50>"
            ]
          },
          "metadata": {
            "tags": []
          },
          "execution_count": 31
        }
      ]
    },
    {
      "cell_type": "markdown",
      "metadata": {
        "id": "DQ1BE-q_HSfW"
      },
      "source": [
        "##### Muestreo: Earth Engine Code Editor"
      ]
    },
    {
      "cell_type": "markdown",
      "metadata": {
        "id": "AUWAMaOxrMsU"
      },
      "source": [
        "> Documentation\n",
        "\n",
        "- The training data is a `FeatureCollection` with a property storing the class label and properties storing predictor variables. \n",
        "- Class labels should be consecutive, integers starting from 0. If necessary, use remap() to convert class values to consecutive integers. \n",
        "- The predictors should be numeric.\n",
        "\n",
        "Training and/or validation data can come from a variety of sources: \n",
        "- To collect training data interactively in Earth Engine, you can use the geometry drawing tools (see the geometry tools section of the Code Editor page). \n",
        "- Alternatively, you can import predefined training data from an Earth Engine table asset (see the Importing section for details). \n",
        "\n",
        "Process:\n",
        "- Get a classifier from one of the constructors in ee.Classifier. \n",
        "- Train the classifier using classifier.train(). \n",
        "- Classify an Image or FeatureCollection using classify(). "
      ]
    },
    {
      "cell_type": "markdown",
      "metadata": {
        "id": "vVjxy4Szt1op"
      },
      "source": [
        "Para la recolección de data de entrenamiento y/o validación se pueden usar:\n",
        "- puntos\n",
        "\n",
        "\n",
        "\n",
        "```\n",
        "      agua = ee.FeatureCollection([\n",
        "              ee.Feature(ee.Geometry.Point([-76.20793238263802, -13.53834059592441]),\n",
        "                  {\"class\": 0, \"system:index\": \"0\"}),\n",
        "              ee.Feature(ee.Geometry.Point([-76.19866266828255, -13.58506562431329]),\n",
        "                  {\"class\": 0, \"system:index\": \"1\"})])\n",
        "      cultivo = ee.FeatureCollection([\n",
        "              ee.Feature(ee.Geometry.Point([-76.20793238263802, -13.53834059592441]),\n",
        "                  {\"class\": 1, \"system:index\": \"0\"}),\n",
        "              ee.Feature(ee.Geometry.Point([-76.19866266828255, -13.58506562431329]),\n",
        "                  {\"class\": 1, \"system:index\": \"1\"})])\n",
        "```\n",
        "\n",
        "- polígonos: If the training data are polygons representing homogeneous regions, every pixel in each polygon is a training point.\n",
        "\n",
        "```\n",
        "        // Manually created polygons.\n",
        "        var forest1 = ee.Geometry.Rectangle(-63.0187, -9.3958, -62.9793, -9.3443);\n",
        "        var forest2 = ee.Geometry.Rectangle(-62.8145, -9.206, -62.7688, -9.1735);\n",
        "        var nonForest1 = ee.Geometry.Rectangle(-62.8161, -9.5001, -62.7921, -9.4486);\n",
        "        var nonForest2 = ee.Geometry.Rectangle(-62.6788, -9.044, -62.6459, -8.9986);\n",
        "\n",
        "        // Make a FeatureCollection from the hand-made geometries.\n",
        "        var polygons = ee.FeatureCollection([\n",
        "          ee.Feature(nonForest1, {'class': 0}),\n",
        "          ee.Feature(nonForest2, {'class': 0}),\n",
        "          ee.Feature(forest1, {'class': 1}),\n",
        "          ee.Feature(forest2, {'class': 1}),\n",
        "        ]);\n",
        "\n",
        "        // Get the values for all pixels in each polygon in the training.\n",
        "        var training = image.sampleRegions({\n",
        "          // Get the sample from the polygons FeatureCollection.\n",
        "          collection: polygons,\n",
        "          // Keep this list of properties from the polygons.\n",
        "          properties: ['class'],\n",
        "          // Set the scale to get Landsat pixels in the polygons.\n",
        "          scale: 30\n",
        "        });\n",
        "```\n",
        "\n"
      ]
    },
    {
      "cell_type": "code",
      "metadata": {
        "id": "o487XTfExih6"
      },
      "source": [
        "# Ejemplo de Training data: Points\n",
        "points = ee.FeatureCollection('GOOGLE/EE/DEMOS/demo_landcover_labels')\n",
        "# points.getInfo()\n",
        "\n",
        "from pprint import pprint\n",
        "pprint(points.getInfo())"
      ],
      "execution_count": null,
      "outputs": []
    },
    {
      "cell_type": "markdown",
      "metadata": {
        "id": "Xu0FDbEPAGMV"
      },
      "source": [
        "> **Puntos de entrenamiento**: deben almacenarse en un ee.FeatureCollection \n",
        "\n",
        "5 clases:\n",
        "- agua\n",
        "- cultivo\n",
        "- urbano\n",
        "- suelo\n",
        "- suelo_labrado"
      ]
    },
    {
      "cell_type": "code",
      "metadata": {
        "id": "CmjEJ9mf8SjP",
        "cellView": "form"
      },
      "source": [
        "# @markdown 5 clases: 40-`agua`, 50-`cultivo`, 40-`urbano`, 40-`suelo` y 40-`suelo_labrado`\n",
        "agua = ee.FeatureCollection([\n",
        "    ee.Feature(ee.Geometry.Point([-76.20793238263802, -13.53834059592441]), {\n",
        "        \"class\": 0,\n",
        "        \"system:index\": \"0\"\n",
        "    }),\n",
        "    ee.Feature(ee.Geometry.Point([-76.19866266828255, -13.58506562431329]), {\n",
        "        \"class\": 0,\n",
        "        \"system:index\": \"1\"\n",
        "    }),\n",
        "    ee.Feature(ee.Geometry.Point([-76.20690241437632, -13.49594638116929]), {\n",
        "        \"class\": 0,\n",
        "        \"system:index\": \"2\"\n",
        "    }),\n",
        "    ee.Feature(ee.Geometry.Point([-76.19780436139779, -13.475247256225725]), {\n",
        "        \"class\": 0,\n",
        "        \"system:index\": \"3\"\n",
        "    }),\n",
        "    ee.Feature(ee.Geometry.Point([-76.19866266828257, -13.459220896366487]), {\n",
        "        \"class\": 0,\n",
        "        \"system:index\": \"4\"\n",
        "    }),\n",
        "    ee.Feature(ee.Geometry.Point([-76.20793238263802, -13.457217525920317]), {\n",
        "        \"class\": 0,\n",
        "        \"system:index\": \"5\"\n",
        "    }),\n",
        "    ee.Feature(ee.Geometry.Point([-76.19608774762825, -13.492774857414556]), {\n",
        "        \"class\": 0,\n",
        "        \"system:index\": \"6\"\n",
        "    }),\n",
        "    ee.Feature(ee.Geometry.Point([-76.21102228742319, -13.518646583658844]), {\n",
        "        \"class\": 0,\n",
        "        \"system:index\": \"7\"\n",
        "    }),\n",
        "    ee.Feature(ee.Geometry.Point([-76.19625940900521, -13.558366733495422]), {\n",
        "        \"class\": 0,\n",
        "        \"system:index\": \"8\"\n",
        "    }),\n",
        "    ee.Feature(ee.Geometry.Point([-76.20899024733426, -13.430223694606841]), {\n",
        "        \"class\": 0,\n",
        "        \"system:index\": \"9\"\n",
        "    }),\n",
        "    ee.Feature(ee.Geometry.Point([-76.20727363356472, -13.420539411003908]), {\n",
        "        \"class\": 0,\n",
        "        \"system:index\": \"10\"\n",
        "    }),\n",
        "    ee.Feature(ee.Geometry.Point([-76.20521369704129, -13.4649503232095]), {\n",
        "        \"class\": 0,\n",
        "        \"system:index\": \"11\"\n",
        "    }),\n",
        "    ee.Feature(ee.Geometry.Point([-76.19388404616238, -13.452763185473371]), {\n",
        "        \"class\": 0,\n",
        "        \"system:index\": \"12\"\n",
        "    }),\n",
        "    ee.Feature(ee.Geometry.Point([-76.20778861769558, -13.405845269392309]), {\n",
        "        \"class\": 0,\n",
        "        \"system:index\": \"13\"\n",
        "    }),\n",
        "    ee.Feature(ee.Geometry.Point([-76.21156516798855, -13.422543087942042]), {\n",
        "        \"class\": 0,\n",
        "        \"system:index\": \"14\"\n",
        "    }),\n",
        "    ee.Feature(ee.Geometry.Point([-76.20864692458035, -13.486651908116594]), {\n",
        "        \"class\": 0,\n",
        "        \"system:index\": \"15\"\n",
        "    }),\n",
        "    ee.Feature(ee.Geometry.Point([-76.20401206740262, -13.564761271279107]), {\n",
        "        \"class\": 0,\n",
        "        \"system:index\": \"16\"\n",
        "    }),\n",
        "    ee.Feature(ee.Geometry.Point([-76.2084752632034, -13.551098603686643]), {\n",
        "        \"class\": 0,\n",
        "        \"system:index\": \"17\"\n",
        "    }),\n",
        "    ee.Feature(ee.Geometry.Point([-76.19954887160183, -13.547093388655492]), {\n",
        "        \"class\": 0,\n",
        "        \"system:index\": \"18\"\n",
        "    }),\n",
        "    ee.Feature(ee.Geometry.Point([-76.1974889350784, -13.44593940115905]), {\n",
        "        \"class\": 0,\n",
        "        \"system:index\": \"19\"\n",
        "    }),\n",
        "    ee.Feature(ee.Geometry.Point([-76.21002021559597, -13.397183268045227]), {\n",
        "        \"class\": 0,\n",
        "        \"system:index\": \"20\"\n",
        "    }),\n",
        "    ee.Feature(ee.Geometry.Point([-76.19645896681668, -13.436923602428658]), {\n",
        "        \"class\": 0,\n",
        "        \"system:index\": \"21\"\n",
        "    }),\n",
        "    ee.Feature(ee.Geometry.Point([-76.21070686110379, -13.38883362305739]), {\n",
        "        \"class\": 0,\n",
        "        \"system:index\": \"22\"\n",
        "    }),\n",
        "    ee.Feature(ee.Geometry.Point([-76.2084752632034, -13.449612407120002]), {\n",
        "        \"class\": 0,\n",
        "        \"system:index\": \"23\"\n",
        "    }),\n",
        "    ee.Feature(ee.Geometry.Point([-76.21002021559597, -13.477325090240653]), {\n",
        "        \"class\": 0,\n",
        "        \"system:index\": \"24\"\n",
        "    }),\n",
        "    ee.Feature(ee.Geometry.Point([-76.19611564406277, -13.57212487506864]), {\n",
        "        \"class\": 0,\n",
        "        \"system:index\": \"25\"\n",
        "    }),\n",
        "    ee.Feature(ee.Geometry.Point([-76.2029820991409, -13.510709598293026]), {\n",
        "        \"class\": 0,\n",
        "        \"system:index\": \"26\"\n",
        "    }),\n",
        "    ee.Feature(ee.Geometry.Point([-76.19508567580105, -13.50436690104268]), {\n",
        "        \"class\": 0,\n",
        "        \"system:index\": \"27\"\n",
        "    }),\n",
        "    ee.Feature(ee.Geometry.Point([-76.20675864943387, -13.587142500129493]), {\n",
        "        \"class\": 0,\n",
        "        \"system:index\": \"28\"\n",
        "    }),\n",
        "    ee.Feature(ee.Geometry.Point([-76.19714561232449, -13.52339448660891]), {\n",
        "        \"class\": 0,\n",
        "        \"system:index\": \"29\"\n",
        "    }),\n",
        "    ee.Feature(ee.Geometry.Point([-76.19954887160183, -13.5347435510398]), {\n",
        "        \"class\": 0,\n",
        "        \"system:index\": \"30\"\n",
        "    }),\n",
        "    ee.Feature(ee.Geometry.Point([-76.20607200392605, -13.471649259886668]), {\n",
        "        \"class\": 0,\n",
        "        \"system:index\": \"31\"\n",
        "    }),\n",
        "    ee.Feature(ee.Geometry.Point([-76.20675864943387, -13.440262826676603]), {\n",
        "        \"class\": 0,\n",
        "        \"system:index\": \"32\"\n",
        "    }),\n",
        "    ee.Feature(ee.Geometry.Point([-76.20160880812527, -13.429243210222896]), {\n",
        "        \"class\": 0,\n",
        "        \"system:index\": \"33\"\n",
        "    }),\n",
        "    ee.Feature(ee.Geometry.Point([-76.21087852248074, -13.412378878106919]), {\n",
        "        \"class\": 0,\n",
        "        \"system:index\": \"34\"\n",
        "    }),\n",
        "    ee.Feature(ee.Geometry.Point([-76.20126548537137, -13.41889098830647]), {\n",
        "        \"class\": 0,\n",
        "        \"system:index\": \"35\"\n",
        "    }),\n",
        "    ee.Feature(ee.Geometry.Point([-76.20092216261746, -13.485003940349847]), {\n",
        "        \"class\": 0,\n",
        "        \"system:index\": \"36\"\n",
        "    }),\n",
        "    ee.Feature(ee.Geometry.Point([-76.20710197218777, -13.526064903369695]), {\n",
        "        \"class\": 0,\n",
        "        \"system:index\": \"37\"\n",
        "    }),\n",
        "    ee.Feature(ee.Geometry.Point([-76.21019187697293, -13.501028571594818]), {\n",
        "        \"class\": 0,\n",
        "        \"system:index\": \"38\"\n",
        "    }),\n",
        "    ee.Feature(ee.Geometry.Point([-76.20813194044949, -13.574794744561816]), {\n",
        "        \"class\": 0,\n",
        "        \"system:index\": \"39\"\n",
        "    })\n",
        "])\n",
        "\n",
        "cultivo = ee.FeatureCollection([\n",
        "    ee.Feature(ee.Geometry.Point([-76.12982645612436, -13.5043623807007]), {\n",
        "        \"class\": 1,\n",
        "        \"system:index\": \"0\"\n",
        "    }),\n",
        "    ee.Feature(ee.Geometry.Point([-76.1209000645228, -13.50102405118958]), {\n",
        "        \"class\": 1,\n",
        "        \"system:index\": \"1\"\n",
        "    }),\n",
        "    ee.Feature(ee.Geometry.Point([-76.10021486859995, -13.491509555903567]), {\n",
        "        \"class\": 1,\n",
        "        \"system:index\": \"2\"\n",
        "    }),\n",
        "    ee.Feature(ee.Geometry.Point([-76.1102570591517, -13.512791454808815]), {\n",
        "        \"class\": 1,\n",
        "        \"system:index\": \"3\"\n",
        "    }),\n",
        "    ee.Feature(ee.Geometry.Point([-76.13240137677866, -13.513626000391907]), {\n",
        "        \"class\": 1,\n",
        "        \"system:index\": \"4\"\n",
        "    }),\n",
        "    ee.Feature(ee.Geometry.Point([-76.16218462568003, -13.510120889313345]), {\n",
        "        \"class\": 1,\n",
        "        \"system:index\": \"5\"\n",
        "    }),\n",
        "    ee.Feature(ee.Geometry.Point([-76.13583460431772, -13.492928408204094]), {\n",
        "        \"class\": 1,\n",
        "        \"system:index\": \"6\"\n",
        "    }),\n",
        "    ee.Feature(ee.Geometry.Point([-76.16261377912241, -13.482662404377546]), {\n",
        "        \"class\": 1,\n",
        "        \"system:index\": \"7\"\n",
        "    }),\n",
        "    ee.Feature(ee.Geometry.Point([-76.11411944013315, -13.482161612418878]), {\n",
        "        \"class\": 1,\n",
        "        \"system:index\": \"8\"\n",
        "    }),\n",
        "    ee.Feature(ee.Geometry.Point([-76.13454714399057, -13.469114939655338]), {\n",
        "        \"class\": 1,\n",
        "        \"system:index\": \"9\"\n",
        "    }),\n",
        "    ee.Feature(ee.Geometry.Point([-76.15883722882944, -13.46335544251804]), {\n",
        "        \"class\": 1,\n",
        "        \"system:index\": \"10\"\n",
        "    }),\n",
        "    ee.Feature(ee.Geometry.Point([-76.11154451947885, -13.460350432462805]), {\n",
        "        \"class\": 1,\n",
        "        \"system:index\": \"11\"\n",
        "    }),\n",
        "    ee.Feature(ee.Geometry.Point([-76.14261522870737, -13.444323075264059]), {\n",
        "        \"class\": 1,\n",
        "        \"system:index\": \"12\"\n",
        "    }),\n",
        "    ee.Feature(ee.Geometry.Point([-76.11480608564096, -13.443237850864753]), {\n",
        "        \"class\": 1,\n",
        "        \"system:index\": \"13\"\n",
        "    }),\n",
        "    ee.Feature(ee.Geometry.Point([-76.0992707310267, -13.461435579334665]), {\n",
        "        \"class\": 1,\n",
        "        \"system:index\": \"14\"\n",
        "    }),\n",
        "    ee.Feature(ee.Geometry.Point([-76.1578930912562, -13.448496969465111]), {\n",
        "        \"class\": 1,\n",
        "        \"system:index\": \"15\"\n",
        "    }),\n",
        "    ee.Feature(ee.Geometry.Point([-76.17085352521616, -13.474373489856111]), {\n",
        "        \"class\": 1,\n",
        "        \"system:index\": \"16\"\n",
        "    }),\n",
        "    ee.Feature(ee.Geometry.Point([-76.15634813886362, -13.4724537150875]), {\n",
        "        \"class\": 1,\n",
        "        \"system:index\": \"17\"\n",
        "    }),\n",
        "    ee.Feature(ee.Geometry.Point([-76.14973917585093, -13.471535556489632]), {\n",
        "        \"class\": 1,\n",
        "        \"system:index\": \"18\"\n",
        "    }),\n",
        "    ee.Feature(ee.Geometry.Point([-76.11454859357553, -13.448496969465111]), {\n",
        "        \"class\": 1,\n",
        "        \"system:index\": \"19\"\n",
        "    }),\n",
        "    ee.Feature(ee.Geometry.Point([-76.07772722821909, -13.455341998546404]), {\n",
        "        \"class\": 1,\n",
        "        \"system:index\": \"20\"\n",
        "    }),\n",
        "    ee.Feature(ee.Geometry.Point([-76.08081713300425, -13.463522386414887]), {\n",
        "        \"class\": 1,\n",
        "        \"system:index\": \"21\"\n",
        "    }),\n",
        "    ee.Feature(ee.Geometry.Point([-76.11095242701867, -13.433804539541429]), {\n",
        "        \"class\": 1,\n",
        "        \"system:index\": \"22\"\n",
        "    }),\n",
        "    ee.Feature(ee.Geometry.Point([-76.11091960693547, -13.400394263904234]), {\n",
        "        \"class\": 1,\n",
        "        \"system:index\": \"23\"\n",
        "    }),\n",
        "    ee.Feature(ee.Geometry.Point([-76.13289226318547, -13.382434316230542]), {\n",
        "        \"class\": 1,\n",
        "        \"system:index\": \"24\"\n",
        "    }),\n",
        "    ee.Feature(ee.Geometry.Point([-76.15126003051945, -13.371847327100147]), {\n",
        "        \"class\": 1,\n",
        "        \"system:index\": \"25\"\n",
        "    }),\n",
        "    ee.Feature(ee.Geometry.Point([-76.1594997766132, -13.353290982469337]), {\n",
        "        \"class\": 1,\n",
        "        \"system:index\": \"26\"\n",
        "    }),\n",
        "    ee.Feature(ee.Geometry.Point([-76.18281984556418, -13.35262289985404]), {\n",
        "        \"class\": 1,\n",
        "        \"system:index\": \"27\"\n",
        "    }),\n",
        "    ee.Feature(ee.Geometry.Point([-76.16651201475364, -13.358719085163417]), {\n",
        "        \"class\": 1,\n",
        "        \"system:index\": \"28\"\n",
        "    }),\n",
        "    ee.Feature(ee.Geometry.Point([-76.15303659666282, -13.349282459043662]), {\n",
        "        \"class\": 1,\n",
        "        \"system:index\": \"29\"\n",
        "    }),\n",
        "    ee.Feature(ee.Geometry.Point([-76.13827371824485, -13.366735751916789]), {\n",
        "        \"class\": 1,\n",
        "        \"system:index\": \"30\"\n",
        "    }),\n",
        "    ee.Feature(ee.Geometry.Point([-76.1739792846511, -13.351620772464168]), {\n",
        "        \"class\": 1,\n",
        "        \"system:index\": \"31\"\n",
        "    }),\n",
        "    ee.Feature(ee.Geometry.Point([-76.1439385436843, -13.378860416021276]), {\n",
        "        \"class\": 1,\n",
        "        \"system:index\": \"32\"\n",
        "    }),\n",
        "    ee.Feature(ee.Geometry.Point([-76.07358189780784, -13.496270914638568]), {\n",
        "        \"class\": 1,\n",
        "        \"system:index\": \"33\"\n",
        "    }),\n",
        "    ee.Feature(ee.Geometry.Point([-76.05658742148948, -13.493683625626284]), {\n",
        "        \"class\": 1,\n",
        "        \"system:index\": \"34\"\n",
        "    }),\n",
        "    ee.Feature(ee.Geometry.Point([-76.0634538765676, -13.509123483013797]), {\n",
        "        \"class\": 1,\n",
        "        \"system:index\": \"35\"\n",
        "    }),\n",
        "    ee.Feature(ee.Geometry.Point([-76.10217192028844, -13.523493821296638]), {\n",
        "        \"class\": 1,\n",
        "        \"system:index\": \"36\"\n",
        "    }),\n",
        "    ee.Feature(ee.Geometry.Point([-76.08457662915075, -13.516734197916094]), {\n",
        "        \"class\": 1,\n",
        "        \"system:index\": \"37\"\n",
        "    }),\n",
        "    ee.Feature(ee.Geometry.Point([-76.08981230114782, -13.502630169007137]), {\n",
        "        \"class\": 1,\n",
        "        \"system:index\": \"38\"\n",
        "    }),\n",
        "    ee.Feature(ee.Geometry.Point([-76.08311750744664, -13.537142840471772]), {\n",
        "        \"class\": 1,\n",
        "        \"system:index\": \"39\"\n",
        "    }),\n",
        "    ee.Feature(ee.Geometry.Point([-76.08286001538121, -13.547072727838245]), {\n",
        "        \"class\": 1,\n",
        "        \"system:index\": \"40\"\n",
        "    }),\n",
        "    ee.Feature(ee.Geometry.Point([-76.09856703137243, -13.552663322330673]), {\n",
        "        \"class\": 1,\n",
        "        \"system:index\": \"41\"\n",
        "    }),\n",
        "    ee.Feature(ee.Geometry.Point([-76.10654928540075, -13.554415571153308]), {\n",
        "        \"class\": 1,\n",
        "        \"system:index\": \"42\"\n",
        "    }),\n",
        "    ee.Feature(ee.Geometry.Point([-76.12945769438842, -13.554157099375944]), {\n",
        "        \"class\": 1,\n",
        "        \"system:index\": \"43\"\n",
        "    }),\n",
        "    ee.Feature(ee.Geometry.Point([-76.14009101693098, -13.565263160917079]), {\n",
        "        \"class\": 1,\n",
        "        \"system:index\": \"44\"\n",
        "    }),\n",
        "    ee.Feature(ee.Geometry.Point([-76.16180618111555, -13.569184634753869]), {\n",
        "        \"class\": 1,\n",
        "        \"system:index\": \"45\"\n",
        "    }),\n",
        "    ee.Feature(ee.Geometry.Point([-76.16558273140852, -13.564011613080748]), {\n",
        "        \"class\": 1,\n",
        "        \"system:index\": \"46\"\n",
        "    }),\n",
        "    ee.Feature(ee.Geometry.Point([-76.1341686994261, -13.519729235215385]), {\n",
        "        \"class\": 1,\n",
        "        \"system:index\": \"47\"\n",
        "    }),\n",
        "    ee.Feature(ee.Geometry.Point([-76.15257938210432, -13.529743297778847]), {\n",
        "        \"class\": 1,\n",
        "        \"system:index\": \"48\"\n",
        "    }),\n",
        "    ee.Feature(ee.Geometry.Point([-76.15596969429915, -13.521690355614806]), {\n",
        "        \"class\": 1,\n",
        "        \"system:index\": \"49\"\n",
        "    })\n",
        "])\n",
        "\n",
        "urbano = ee.FeatureCollection([\n",
        "    ee.Feature(ee.Geometry.Point([-76.13196117411108, -13.426720730582748]), {\n",
        "        \"class\": 2,\n",
        "        \"system:index\": \"0\"\n",
        "    }),\n",
        "    ee.Feature(ee.Geometry.Point([-76.13683206568213, -13.426470276238721]), {\n",
        "        \"class\": 2,\n",
        "        \"system:index\": \"1\"\n",
        "    }),\n",
        "    ee.Feature(ee.Geometry.Point([-76.13912803659888, -13.422546457397523]), {\n",
        "        \"class\": 2,\n",
        "        \"system:index\": \"2\"\n",
        "    }),\n",
        "    ee.Feature(ee.Geometry.Point([-76.12985832224341, -13.420939342869776]), {\n",
        "        \"class\": 2,\n",
        "        \"system:index\": \"3\"\n",
        "    }),\n",
        "    ee.Feature(ee.Geometry.Point([-76.12792713175268, -13.428620000852026]), {\n",
        "        \"class\": 2,\n",
        "        \"system:index\": \"4\"\n",
        "    }),\n",
        "    ee.Feature(ee.Geometry.Point([-76.13633853922339, -13.429037420874405]), {\n",
        "        \"class\": 2,\n",
        "        \"system:index\": \"5\"\n",
        "    }),\n",
        "    ee.Feature(ee.Geometry.Point([-76.1403940392539, -13.425865010495018]), {\n",
        "        \"class\": 2,\n",
        "        \"system:index\": \"6\"\n",
        "    }),\n",
        "    ee.Feature(ee.Geometry.Point([-76.14148838053198, -13.428348677448108]), {\n",
        "        \"class\": 2,\n",
        "        \"system:index\": \"7\"\n",
        "    }),\n",
        "    ee.Feature(ee.Geometry.Point([-76.13884908686133, -13.428703484914584]), {\n",
        "        \"class\": 2,\n",
        "        \"system:index\": \"8\"\n",
        "    }),\n",
        "    ee.Feature(ee.Geometry.Point([-76.13374216089697, -13.422191640829714]), {\n",
        "        \"class\": 2,\n",
        "        \"system:index\": \"9\"\n",
        "    }),\n",
        "    ee.Feature(ee.Geometry.Point([-76.13348466883154, -13.432188918605823]), {\n",
        "        \"class\": 2,\n",
        "        \"system:index\": \"10\"\n",
        "    }),\n",
        "    ee.Feature(ee.Geometry.Point([-76.13533002863379, -13.416117934750881]), {\n",
        "        \"class\": 2,\n",
        "        \"system:index\": \"11\"\n",
        "    }),\n",
        "    ee.Feature(ee.Geometry.Point([-76.13022310266943, -13.415324793408919]), {\n",
        "        \"class\": 2,\n",
        "        \"system:index\": \"12\"\n",
        "    }),\n",
        "    ee.Feature(ee.Geometry.Point([-76.12803442011328, -13.41774595351081]), {\n",
        "        \"class\": 2,\n",
        "        \"system:index\": \"13\"\n",
        "    }),\n",
        "    ee.Feature(ee.Geometry.Point([-76.13962156305762, -13.416201423160851]), {\n",
        "        \"class\": 2,\n",
        "        \"system:index\": \"14\"\n",
        "    }),\n",
        "    ee.Feature(ee.Geometry.Point([-76.13704664240332, -13.436279542658044]), {\n",
        "        \"class\": 2,\n",
        "        \"system:index\": \"15\"\n",
        "    }),\n",
        "    ee.Feature(ee.Geometry.Point([-76.13275510797949, -13.434442944570007]), {\n",
        "        \"class\": 2,\n",
        "        \"system:index\": \"16\"\n",
        "    }),\n",
        "    ee.Feature(ee.Geometry.Point([-76.1279485894248, -13.424174432574109]), {\n",
        "        \"class\": 2,\n",
        "        \"system:index\": \"17\"\n",
        "    }),\n",
        "    ee.Feature(ee.Geometry.Point([-76.11687643061133, -13.410983341774543]), {\n",
        "        \"class\": 2,\n",
        "        \"system:index\": \"18\"\n",
        "    }),\n",
        "    ee.Feature(ee.Geometry.Point([-76.12365705500098, -13.40255068275863]), {\n",
        "        \"class\": 2,\n",
        "        \"system:index\": \"19\"\n",
        "    }),\n",
        "    ee.Feature(ee.Geometry.Point([-76.14108068476172, -13.41081636129894]), {\n",
        "        \"class\": 2,\n",
        "        \"system:index\": \"20\"\n",
        "    }),\n",
        "    ee.Feature(ee.Geometry.Point([-76.0847757531211, -13.438783971930006]), {\n",
        "        \"class\": 2,\n",
        "        \"system:index\": \"21\"\n",
        "    }),\n",
        "    ee.Feature(ee.Geometry.Point([-76.08168584833594, -13.441622293483208]), {\n",
        "        \"class\": 2,\n",
        "        \"system:index\": \"22\"\n",
        "    }),\n",
        "    ee.Feature(ee.Geometry.Point([-76.08992559442969, -13.434109016134004]), {\n",
        "        \"class\": 2,\n",
        "        \"system:index\": \"23\"\n",
        "    }),\n",
        "    ee.Feature(ee.Geometry.Point([-76.14035112390967, -13.438825712196282]), {\n",
        "        \"class\": 2,\n",
        "        \"system:index\": \"24\"\n",
        "    }),\n",
        "    ee.Feature(ee.Geometry.Point([-76.1321972085044, -13.438533530179818]), {\n",
        "        \"class\": 2,\n",
        "        \"system:index\": \"25\"\n",
        "    }),\n",
        "    ee.Feature(ee.Geometry.Point([-76.1616800499961, -13.426178079173708]), {\n",
        "        \"class\": 2,\n",
        "        \"system:index\": \"26\"\n",
        "    }),\n",
        "    ee.Feature(ee.Geometry.Point([-76.16588575373144, -13.427305123035735]), {\n",
        "        \"class\": 2,\n",
        "        \"system:index\": \"27\"\n",
        "    }),\n",
        "    ee.Feature(ee.Geometry.Point([-76.15790349970312, -13.398626473265448]), {\n",
        "        \"class\": 2,\n",
        "        \"system:index\": \"28\"\n",
        "    }),\n",
        "    ee.Feature(ee.Geometry.Point([-76.16030675898047, -13.408478622457748]), {\n",
        "        \"class\": 2,\n",
        "        \"system:index\": \"29\"\n",
        "    }),\n",
        "    ee.Feature(ee.Geometry.Point([-76.14348394403906, -13.391946820518598]), {\n",
        "        \"class\": 2,\n",
        "        \"system:index\": \"30\"\n",
        "    }),\n",
        "    ee.Feature(ee.Geometry.Point([-76.13610250483008, -13.395954634421196]), {\n",
        "        \"class\": 2,\n",
        "        \"system:index\": \"31\"\n",
        "    }),\n",
        "    ee.Feature(ee.Geometry.Point([-76.13764745722266, -13.400296357472063]), {\n",
        "        \"class\": 2,\n",
        "        \"system:index\": \"32\"\n",
        "    }),\n",
        "    ee.Feature(ee.Geometry.Point([-76.12992269525976, -13.397624537176565]), {\n",
        "        \"class\": 2,\n",
        "        \"system:index\": \"33\"\n",
        "    }),\n",
        "    ee.Feature(ee.Geometry.Point([-76.12734777460547, -13.407309744509991]), {\n",
        "        \"class\": 2,\n",
        "        \"system:index\": \"34\"\n",
        "    }),\n",
        "    ee.Feature(ee.Geometry.Point([-76.12236959467383, -13.413988970492584]), {\n",
        "        \"class\": 2,\n",
        "        \"system:index\": \"35\"\n",
        "    }),\n",
        "    ee.Feature(ee.Geometry.Point([-76.12202627191992, -13.417996416955955]), {\n",
        "        \"class\": 2,\n",
        "        \"system:index\": \"36\"\n",
        "    }),\n",
        "    ee.Feature(ee.Geometry.Point([-76.14708883295508, -13.41482386068576]), {\n",
        "        \"class\": 2,\n",
        "        \"system:index\": \"37\"\n",
        "    }),\n",
        "    ee.Feature(ee.Geometry.Point([-76.1513803673789, -13.400296357472063]), {\n",
        "        \"class\": 2,\n",
        "        \"system:index\": \"38\"\n",
        "    }),\n",
        "    ee.Feature(ee.Geometry.Point([-76.15277528754547, -13.415256617545504]), {\n",
        "        \"class\": 2,\n",
        "        \"system:index\": \"39\"\n",
        "    })\n",
        "])\n",
        "\n",
        "suelo = ee.FeatureCollection([\n",
        "    ee.Feature(ee.Geometry.Point([-76.13045930854156, -13.353132987581796]), {\n",
        "        \"class\": 3,\n",
        "        \"system:index\": \"0\"\n",
        "    }),\n",
        "    ee.Feature(ee.Geometry.Point([-76.11294984809234, -13.349458507912184]), {\n",
        "        \"class\": 3,\n",
        "        \"system:index\": \"1\"\n",
        "    }),\n",
        "    ee.Feature(ee.Geometry.Point([-76.09132051459625, -13.376514728873774]), {\n",
        "        \"class\": 3,\n",
        "        \"system:index\": \"2\"\n",
        "    }),\n",
        "    ee.Feature(ee.Geometry.Point([-76.09269380561187, -13.395218488527172]), {\n",
        "        \"class\": 3,\n",
        "        \"system:index\": \"3\"\n",
        "    }),\n",
        "    ee.Feature(ee.Geometry.Point([-76.07724428168609, -13.402232023656712]), {\n",
        "        \"class\": 3,\n",
        "        \"system:index\": \"4\"\n",
        "    }),\n",
        "    ee.Feature(ee.Geometry.Point([-76.05286836615875, -13.436294854167137]), {\n",
        "        \"class\": 3,\n",
        "        \"system:index\": \"5\"\n",
        "    }),\n",
        "    ee.Feature(ee.Geometry.Point([-76.0449719428189, -13.418262192799528]), {\n",
        "        \"class\": 3,\n",
        "        \"system:index\": \"6\"\n",
        "    }),\n",
        "    ee.Feature(ee.Geometry.Point([-76.02505922309234, -13.421267730440047]), {\n",
        "        \"class\": 3,\n",
        "        \"system:index\": \"7\"\n",
        "    }),\n",
        "    ee.Feature(ee.Geometry.Point([-76.00686311713531, -13.44163760465113]), {\n",
        "        \"class\": 3,\n",
        "        \"system:index\": \"8\"\n",
        "    }),\n",
        "    ee.Feature(ee.Geometry.Point([-76.0010266303189, -13.480035117633477]), {\n",
        "        \"class\": 3,\n",
        "        \"system:index\": \"9\"\n",
        "    }),\n",
        "    ee.Feature(ee.Geometry.Point([-75.97802400580719, -13.464676851615506]), {\n",
        "        \"class\": 3,\n",
        "        \"system:index\": \"10\"\n",
        "    }),\n",
        "    ee.Feature(ee.Geometry.Point([-76.02471590033844, -13.572831425053622]), {\n",
        "        \"class\": 3,\n",
        "        \"system:index\": \"11\"\n",
        "    }),\n",
        "    ee.Feature(ee.Geometry.Point([-75.98832368842437, -13.503404498312044]), {\n",
        "        \"class\": 3,\n",
        "        \"system:index\": \"12\"\n",
        "    }),\n",
        "    ee.Feature(ee.Geometry.Point([-76.02059602729156, -13.49839696643072]), {\n",
        "        \"class\": 3,\n",
        "        \"system:index\": \"13\"\n",
        "    }),\n",
        "    ee.Feature(ee.Geometry.Point([-76.03535890570953, -13.509079574060449]), {\n",
        "        \"class\": 3,\n",
        "        \"system:index\": \"14\"\n",
        "    }),\n",
        "    ee.Feature(ee.Geometry.Point([-76.04256868354156, -13.535116424860643]), {\n",
        "        \"class\": 3,\n",
        "        \"system:index\": \"15\"\n",
        "    }),\n",
        "    ee.Feature(ee.Geometry.Point([-76.01132631293609, -13.519427893914546]), {\n",
        "        \"class\": 3,\n",
        "        \"system:index\": \"16\"\n",
        "    }),\n",
        "    ee.Feature(ee.Geometry.Point([-76.05527162543609, -13.555810351863943]), {\n",
        "        \"class\": 3,\n",
        "        \"system:index\": \"17\"\n",
        "    }),\n",
        "    ee.Feature(ee.Geometry.Point([-76.03707551947906, -13.552806506458701]), {\n",
        "        \"class\": 3,\n",
        "        \"system:index\": \"18\"\n",
        "    }),\n",
        "    ee.Feature(ee.Geometry.Point([-76.03089570990875, -13.518092652080412]), {\n",
        "        \"class\": 3,\n",
        "        \"system:index\": \"19\"\n",
        "    }),\n",
        "    ee.Feature(ee.Geometry.Point([-76.02952241889312, -13.536117785356874]), {\n",
        "        \"class\": 3,\n",
        "        \"system:index\": \"20\"\n",
        "    }),\n",
        "    ee.Feature(ee.Geometry.Point([-75.97768068305328, -13.533113691229662]), {\n",
        "        \"class\": 3,\n",
        "        \"system:index\": \"21\"\n",
        "    }),\n",
        "    ee.Feature(ee.Geometry.Point([-75.98729372016265, -13.52510258823432]), {\n",
        "        \"class\": 3,\n",
        "        \"system:index\": \"22\"\n",
        "    }),\n",
        "    ee.Feature(ee.Geometry.Point([-75.97047090522125, -13.482038296995597]), {\n",
        "        \"class\": 3,\n",
        "        \"system:index\": \"23\"\n",
        "    }),\n",
        "    ee.Feature(ee.Geometry.Point([-76.00136995307281, -13.42226956796032]), {\n",
        "        \"class\": 3,\n",
        "        \"system:index\": \"24\"\n",
        "    }),\n",
        "    ee.Feature(ee.Geometry.Point([-75.9951901435025, -13.403233940550326]), {\n",
        "        \"class\": 3,\n",
        "        \"system:index\": \"25\"\n",
        "    }),\n",
        "    ee.Feature(ee.Geometry.Point([-76.01372957221344, -13.40724156637249]), {\n",
        "        \"class\": 3,\n",
        "        \"system:index\": \"26\"\n",
        "    }),\n",
        "    ee.Feature(ee.Geometry.Point([-76.04840517035797, -13.394884505563192]), {\n",
        "        \"class\": 3,\n",
        "        \"system:index\": \"27\"\n",
        "    }),\n",
        "    ee.Feature(ee.Geometry.Point([-76.07484102240875, -13.382860810175435]), {\n",
        "        \"class\": 3,\n",
        "        \"system:index\": \"28\"\n",
        "    }),\n",
        "    ee.Feature(ee.Geometry.Point([-76.06454133979156, -13.360481779100406]), {\n",
        "        \"class\": 3,\n",
        "        \"system:index\": \"29\"\n",
        "    }),\n",
        "    ee.Feature(ee.Geometry.Point([-76.11157655707672, -13.365158166248213]), {\n",
        "        \"class\": 3,\n",
        "        \"system:index\": \"30\"\n",
        "    }),\n",
        "    ee.Feature(ee.Geometry.Point([-76.08754396430328, -13.355805301300215]), {\n",
        "        \"class\": 3,\n",
        "        \"system:index\": \"31\"\n",
        "    }),\n",
        "    ee.Feature(ee.Geometry.Point([-76.18882417670562, -13.385198797978665]), {\n",
        "        \"class\": 3,\n",
        "        \"system:index\": \"32\"\n",
        "    }),\n",
        "    ee.Feature(ee.Geometry.Point([-76.19946718207672, -13.379186783483458]), {\n",
        "        \"class\": 3,\n",
        "        \"system:index\": \"33\"\n",
        "    }),\n",
        "    ee.Feature(ee.Geometry.Point([-76.20908021918609, -13.357141447063093]), {\n",
        "        \"class\": 3,\n",
        "        \"system:index\": \"34\"\n",
        "    }),\n",
        "    ee.Feature(ee.Geometry.Point([-76.04565858832672, -13.511416330709027]), {\n",
        "        \"class\": 3,\n",
        "        \"system:index\": \"35\"\n",
        "    }),\n",
        "    ee.Feature(ee.Geometry.Point([-75.99965333930328, -13.538788059414708]), {\n",
        "        \"class\": 3,\n",
        "        \"system:index\": \"36\"\n",
        "    }),\n",
        "    ee.Feature(ee.Geometry.Point([-76.20152711860015, -13.343445602381413]), {\n",
        "        \"class\": 3,\n",
        "        \"system:index\": \"37\"\n",
        "    }),\n",
        "    ee.Feature(ee.Geometry.Point([-75.97939729682281, -13.417260338560412]), {\n",
        "        \"class\": 3,\n",
        "        \"system:index\": \"38\"\n",
        "    }),\n",
        "    ee.Feature(ee.Geometry.Point([-76.02402925483062, -13.368498387264628]), {\n",
        "        \"class\": 3,\n",
        "        \"system:index\": \"39\"\n",
        "    })\n",
        "])\n",
        "\n",
        "suelo_labrado = ee.FeatureCollection([\n",
        "    ee.Feature(ee.Geometry.Point([-76.12129161206124, -13.518338550816555]), {\n",
        "        \"class\": 4,\n",
        "        \"system:index\": \"0\"\n",
        "    }),\n",
        "    ee.Feature(ee.Geometry.Point([-76.09472701397775, -13.511912601499546]), {\n",
        "        \"class\": 4,\n",
        "        \"system:index\": \"1\"\n",
        "    }),\n",
        "    ee.Feature(ee.Geometry.Point([-76.07411210318345, -13.513316217291814]), {\n",
        "        \"class\": 4,\n",
        "        \"system:index\": \"2\"\n",
        "    }),\n",
        "    ee.Feature(ee.Geometry.Point([-76.08767335196275, -13.530131709926529]), {\n",
        "        \"class\": 4,\n",
        "        \"system:index\": \"3\"\n",
        "    }),\n",
        "    ee.Feature(ee.Geometry.Point([-76.11453835745591, -13.541313563823314]), {\n",
        "        \"class\": 4,\n",
        "        \"system:index\": \"4\"\n",
        "    }),\n",
        "    ee.Feature(ee.Geometry.Point([-76.12762753744859, -13.540187057566474]), {\n",
        "        \"class\": 4,\n",
        "        \"system:index\": \"5\"\n",
        "    }),\n",
        "    ee.Feature(ee.Geometry.Point([-76.146252796848, -13.555457021641763]), {\n",
        "        \"class\": 4,\n",
        "        \"system:index\": \"6\"\n",
        "    }),\n",
        "    ee.Feature(ee.Geometry.Point([-76.1175424315526, -13.565636452681545]), {\n",
        "        \"class\": 4,\n",
        "        \"system:index\": \"7\"\n",
        "    }),\n",
        "    ee.Feature(ee.Geometry.Point([-76.13058869620103, -13.568681853406785]), {\n",
        "        \"class\": 4,\n",
        "        \"system:index\": \"8\"\n",
        "    }),\n",
        "    ee.Feature(ee.Geometry.Point([-76.15595166464585, -13.563675694558972]), {\n",
        "        \"class\": 4,\n",
        "        \"system:index\": \"9\"\n",
        "    }),\n",
        "    ee.Feature(ee.Geometry.Point([-76.06257025307376, -13.526206914909006]), {\n",
        "        \"class\": 4,\n",
        "        \"system:index\": \"10\"\n",
        "    }),\n",
        "    ee.Feature(ee.Geometry.Point([-76.07116438990379, -13.514607184706003]), {\n",
        "        \"class\": 4,\n",
        "        \"system:index\": \"11\"\n",
        "    }),\n",
        "    ee.Feature(ee.Geometry.Point([-76.06765844881456, -13.507190952511266]), {\n",
        "        \"class\": 4,\n",
        "        \"system:index\": \"12\"\n",
        "    }),\n",
        "    ee.Feature(ee.Geometry.Point([-76.06249913739491, -13.496979616338484]), {\n",
        "        \"class\": 4,\n",
        "        \"system:index\": \"13\"\n",
        "    }),\n",
        "    ee.Feature(ee.Geometry.Point([-76.03932485150624, -13.483604738981146]), {\n",
        "        \"class\": 4,\n",
        "        \"system:index\": \"14\"\n",
        "    }),\n",
        "    ee.Feature(ee.Geometry.Point([-76.05001077222157, -13.486359065131227]), {\n",
        "        \"class\": 4,\n",
        "        \"system:index\": \"15\"\n",
        "    }),\n",
        "    ee.Feature(ee.Geometry.Point([-76.04820832776356, -13.475383303959685]), {\n",
        "        \"class\": 4,\n",
        "        \"system:index\": \"16\"\n",
        "    }),\n",
        "    ee.Feature(ee.Geometry.Point([-76.06962308453846, -13.469039668493302]), {\n",
        "        \"class\": 4,\n",
        "        \"system:index\": \"17\"\n",
        "    }),\n",
        "    ee.Feature(ee.Geometry.Point([-76.08005151318837, -13.476802252020589]), {\n",
        "        \"class\": 4,\n",
        "        \"system:index\": \"18\"\n",
        "    }),\n",
        "    ee.Feature(ee.Geometry.Point([-76.03120893147721, -13.462797812654347]), {\n",
        "        \"class\": 4,\n",
        "        \"system:index\": \"19\"\n",
        "    }),\n",
        "    ee.Feature(ee.Geometry.Point([-76.06564977334654, -13.456139571341474]), {\n",
        "        \"class\": 4,\n",
        "        \"system:index\": \"20\"\n",
        "    }),\n",
        "    ee.Feature(ee.Geometry.Point([-76.08105638192808, -13.452591879086084]), {\n",
        "        \"class\": 4,\n",
        "        \"system:index\": \"21\"\n",
        "    }),\n",
        "    ee.Feature(ee.Geometry.Point([-76.12101056741392, -13.456849103485833]), {\n",
        "        \"class\": 4,\n",
        "        \"system:index\": \"22\"\n",
        "    }),\n",
        "    ee.Feature(ee.Geometry.Point([-76.09998204873716, -13.445245902210852]), {\n",
        "        \"class\": 4,\n",
        "        \"system:index\": \"23\"\n",
        "    }),\n",
        "    ee.Feature(ee.Geometry.Point([-76.17044904397642, -13.457934266228115]), {\n",
        "        \"class\": 4,\n",
        "        \"system:index\": \"24\"\n",
        "    }),\n",
        "    ee.Feature(ee.Geometry.Point([-76.14839055703794, -13.444411117861641]), {\n",
        "        \"class\": 4,\n",
        "        \"system:index\": \"25\"\n",
        "    }),\n",
        "    ee.Feature(ee.Geometry.Point([-76.10993840860044, -13.424598952231626]), {\n",
        "        \"class\": 4,\n",
        "        \"system:index\": \"26\"\n",
        "    }),\n",
        "    ee.Feature(ee.Geometry.Point([-76.17765882180845, -13.39838308231166]), {\n",
        "        \"class\": 4,\n",
        "        \"system:index\": \"27\"\n",
        "    }),\n",
        "    ee.Feature(ee.Geometry.Point([-76.18120916204748, -13.35827434374201]), {\n",
        "        \"class\": 4,\n",
        "        \"system:index\": \"28\"\n",
        "    }),\n",
        "    ee.Feature(ee.Geometry.Point([-76.18901975469885, -13.343826943139966]), {\n",
        "        \"class\": 4,\n",
        "        \"system:index\": \"29\"\n",
        "    }),\n",
        "    ee.Feature(ee.Geometry.Point([-76.08138807134924, -13.426173056836728]), {\n",
        "        \"class\": 4,\n",
        "        \"system:index\": \"30\"\n",
        "    }),\n",
        "    ee.Feature(ee.Geometry.Point([-76.1276976734633, -13.493285539193698]), {\n",
        "        \"class\": 4,\n",
        "        \"system:index\": \"31\"\n",
        "    }),\n",
        "    ee.Feature(ee.Geometry.Point([-76.15456267895647, -13.500045827184273]), {\n",
        "        \"class\": 4,\n",
        "        \"system:index\": \"32\"\n",
        "    }),\n",
        "    ee.Feature(ee.Geometry.Point([-76.1793677479262, -13.51147945863916]), {\n",
        "        \"class\": 4,\n",
        "        \"system:index\": \"33\"\n",
        "    }),\n",
        "    ee.Feature(ee.Geometry.Point([-76.169068065309, -13.487276233626135]), {\n",
        "        \"class\": 4,\n",
        "        \"system:index\": \"34\"\n",
        "    }),\n",
        "    ee.Feature(ee.Geometry.Point([-76.16005584301897, -13.524748460318634]), {\n",
        "        \"class\": 4,\n",
        "        \"system:index\": \"35\"\n",
        "    }),\n",
        "    ee.Feature(ee.Geometry.Point([-76.17318793835588, -13.540353195681673]), {\n",
        "        \"class\": 4,\n",
        "        \"system:index\": \"36\"\n",
        "    }),\n",
        "    ee.Feature(ee.Geometry.Point([-76.16554900708147, -13.557876009999442]), {\n",
        "        \"class\": 4,\n",
        "        \"system:index\": \"37\"\n",
        "    }),\n",
        "    ee.Feature(ee.Geometry.Point([-76.09173083704663, -13.518776163711808]), {\n",
        "        \"class\": 4,\n",
        "        \"system:index\": \"38\"\n",
        "    }),\n",
        "    ee.Feature(ee.Geometry.Point([-76.14631915491772, -13.540222518667973]), {\n",
        "        \"class\": 4,\n",
        "        \"system:index\": \"39\"\n",
        "    })\n",
        "])"
      ],
      "execution_count": null,
      "outputs": []
    },
    {
      "cell_type": "code",
      "metadata": {
        "id": "EWvXDJ4aFjtH",
        "colab": {
          "base_uri": "https://localhost:8080/"
        },
        "outputId": "49a4337a-572b-4949-8c70-954962ae8822"
      },
      "source": [
        "# Merge the three geometry layers into a single FeatureCollection.\n",
        "classes = agua.merge(cultivo).merge(urbano).merge(suelo).merge(suelo_labrado)\n",
        "classes.size().getInfo()"
      ],
      "execution_count": null,
      "outputs": [
        {
          "output_type": "execute_result",
          "data": {
            "text/plain": [
              "210"
            ]
          },
          "metadata": {
            "tags": []
          },
          "execution_count": 27
        }
      ]
    },
    {
      "cell_type": "code",
      "metadata": {
        "colab": {
          "base_uri": "https://localhost:8080/",
          "height": 872
        },
        "id": "d2D7CFdtFbye",
        "outputId": "7166a3a8-0207-43d6-9fcc-c2fbf0a54021"
      },
      "source": [
        "# Bandas de la imagen\n",
        "img = img_first.clip(roi_clip)\n",
        "print('Bandas:', img.bandNames().getInfo())\n",
        "\n",
        "# visualizando datos de entrada\n",
        "center = classes.geometry().centroid().coordinates().getInfo()\n",
        "\n",
        "mapdisplay(center,{'train_dataset':classes.getInfo(),\n",
        "                   'img':img.divide(10000).getMapId({'min':0.0, 'max':0.3, 'bands':['B4','B3','B2']})}, zoom_start=12)"
      ],
      "execution_count": null,
      "outputs": [
        {
          "output_type": "stream",
          "text": [
            "Bandas: ['B4', 'B3', 'B2', 'B8', 'EVI', 'NDVI']\n"
          ],
          "name": "stdout"
        },
        {
          "output_type": "execute_result",
          "data": {
            "text/html": [
              "<div style=\"width:100%;\"><div style=\"position:relative;width:100%;height:0;padding-bottom:60%;\"><span style=\"color:#565656\">Make this Notebook Trusted to load map: File -> Trust Notebook</span><iframe src=\"about:blank\" style=\"position:absolute;width:100%;height:100%;left:0;top:0;border:none !important;\" data-html=%3C%21DOCTYPE%20html%3E%0A%3Chead%3E%20%20%20%20%0A%20%20%20%20%3Cmeta%20http-equiv%3D%22content-type%22%20content%3D%22text/html%3B%20charset%3DUTF-8%22%20/%3E%0A%20%20%20%20%3Cscript%3EL_PREFER_CANVAS%3Dfalse%3B%20L_NO_TOUCH%3Dfalse%3B%20L_DISABLE_3D%3Dfalse%3B%3C/script%3E%0A%20%20%20%20%3Cscript%20src%3D%22https%3A//cdn.jsdelivr.net/npm/leaflet%401.4.0/dist/leaflet.js%22%3E%3C/script%3E%0A%20%20%20%20%3Cscript%20src%3D%22https%3A//code.jquery.com/jquery-1.12.4.min.js%22%3E%3C/script%3E%0A%20%20%20%20%3Cscript%20src%3D%22https%3A//maxcdn.bootstrapcdn.com/bootstrap/3.2.0/js/bootstrap.min.js%22%3E%3C/script%3E%0A%20%20%20%20%3Cscript%20src%3D%22https%3A//cdnjs.cloudflare.com/ajax/libs/Leaflet.awesome-markers/2.0.2/leaflet.awesome-markers.js%22%3E%3C/script%3E%0A%20%20%20%20%3Clink%20rel%3D%22stylesheet%22%20href%3D%22https%3A//cdn.jsdelivr.net/npm/leaflet%401.4.0/dist/leaflet.css%22/%3E%0A%20%20%20%20%3Clink%20rel%3D%22stylesheet%22%20href%3D%22https%3A//maxcdn.bootstrapcdn.com/bootstrap/3.2.0/css/bootstrap.min.css%22/%3E%0A%20%20%20%20%3Clink%20rel%3D%22stylesheet%22%20href%3D%22https%3A//maxcdn.bootstrapcdn.com/bootstrap/3.2.0/css/bootstrap-theme.min.css%22/%3E%0A%20%20%20%20%3Clink%20rel%3D%22stylesheet%22%20href%3D%22https%3A//maxcdn.bootstrapcdn.com/font-awesome/4.6.3/css/font-awesome.min.css%22/%3E%0A%20%20%20%20%3Clink%20rel%3D%22stylesheet%22%20href%3D%22https%3A//cdnjs.cloudflare.com/ajax/libs/Leaflet.awesome-markers/2.0.2/leaflet.awesome-markers.css%22/%3E%0A%20%20%20%20%3Clink%20rel%3D%22stylesheet%22%20href%3D%22https%3A//rawcdn.githack.com/python-visualization/folium/master/folium/templates/leaflet.awesome.rotate.css%22/%3E%0A%20%20%20%20%3Cstyle%3Ehtml%2C%20body%20%7Bwidth%3A%20100%25%3Bheight%3A%20100%25%3Bmargin%3A%200%3Bpadding%3A%200%3B%7D%3C/style%3E%0A%20%20%20%20%3Cstyle%3E%23map%20%7Bposition%3Aabsolute%3Btop%3A0%3Bbottom%3A0%3Bright%3A0%3Bleft%3A0%3B%7D%3C/style%3E%0A%20%20%20%20%0A%20%20%20%20%3Cmeta%20name%3D%22viewport%22%20content%3D%22width%3Ddevice-width%2C%0A%20%20%20%20%20%20%20%20initial-scale%3D1.0%2C%20maximum-scale%3D1.0%2C%20user-scalable%3Dno%22%20/%3E%0A%20%20%20%20%3Cstyle%3E%23map_4c916749d092467a858b901af8a78f0d%20%7B%0A%20%20%20%20%20%20%20%20position%3A%20relative%3B%0A%20%20%20%20%20%20%20%20width%3A%20100.0%25%3B%0A%20%20%20%20%20%20%20%20height%3A%20100.0%25%3B%0A%20%20%20%20%20%20%20%20left%3A%200.0%25%3B%0A%20%20%20%20%20%20%20%20top%3A%200.0%25%3B%0A%20%20%20%20%20%20%20%20%7D%0A%20%20%20%20%3C/style%3E%0A%20%20%20%20%3Cscript%20src%3D%22https%3A//cdnjs.cloudflare.com/ajax/libs/leaflet-minimap/3.6.1/Control.MiniMap.js%22%3E%3C/script%3E%0A%20%20%20%20%3Clink%20rel%3D%22stylesheet%22%20href%3D%22https%3A//cdnjs.cloudflare.com/ajax/libs/leaflet-minimap/3.6.1/Control.MiniMap.css%22/%3E%0A%3C/head%3E%0A%3Cbody%3E%20%20%20%20%0A%20%20%20%20%0A%20%20%20%20%3Cdiv%20class%3D%22folium-map%22%20id%3D%22map_4c916749d092467a858b901af8a78f0d%22%20%3E%3C/div%3E%0A%3C/body%3E%0A%3Cscript%3E%20%20%20%20%0A%20%20%20%20%0A%20%20%20%20%0A%20%20%20%20%20%20%20%20var%20bounds%20%3D%20null%3B%0A%20%20%20%20%0A%0A%20%20%20%20var%20map_4c916749d092467a858b901af8a78f0d%20%3D%20L.map%28%0A%20%20%20%20%20%20%20%20%27map_4c916749d092467a858b901af8a78f0d%27%2C%20%7B%0A%20%20%20%20%20%20%20%20center%3A%20%5B-13.463064657796066%2C%20-76.12603010124573%5D%2C%0A%20%20%20%20%20%20%20%20zoom%3A%2012%2C%0A%20%20%20%20%20%20%20%20maxBounds%3A%20bounds%2C%0A%20%20%20%20%20%20%20%20layers%3A%20%5B%5D%2C%0A%20%20%20%20%20%20%20%20worldCopyJump%3A%20false%2C%0A%20%20%20%20%20%20%20%20crs%3A%20L.CRS.EPSG3857%2C%0A%20%20%20%20%20%20%20%20zoomControl%3A%20true%2C%0A%20%20%20%20%20%20%20%20%7D%29%3B%0AL.control.scale%28%29.addTo%28map_4c916749d092467a858b901af8a78f0d%29%3B%0A%0A%20%20%20%20%0A%20%20%20%20var%20tile_layer_6154d5002aab4b248def8fe4b662331c%20%3D%20L.tileLayer%28%0A%20%20%20%20%20%20%20%20%27https%3A//%7Bs%7D.tile.openstreetmap.org/%7Bz%7D/%7Bx%7D/%7By%7D.png%27%2C%0A%20%20%20%20%20%20%20%20%7B%0A%20%20%20%20%20%20%20%20%22attribution%22%3A%20null%2C%0A%20%20%20%20%20%20%20%20%22detectRetina%22%3A%20false%2C%0A%20%20%20%20%20%20%20%20%22maxNativeZoom%22%3A%2018%2C%0A%20%20%20%20%20%20%20%20%22maxZoom%22%3A%2018%2C%0A%20%20%20%20%20%20%20%20%22minZoom%22%3A%200%2C%0A%20%20%20%20%20%20%20%20%22noWrap%22%3A%20false%2C%0A%20%20%20%20%20%20%20%20%22opacity%22%3A%201%2C%0A%20%20%20%20%20%20%20%20%22subdomains%22%3A%20%22abc%22%2C%0A%20%20%20%20%20%20%20%20%22tms%22%3A%20false%0A%7D%29.addTo%28map_4c916749d092467a858b901af8a78f0d%29%3B%0A%20%20%20%20%0A%20%20%20%20%20%20%20%20var%20geo_json_9712bbe1df31416b8318cc50fc8148e9%20%3D%20L.geoJson%28%0A%20%20%20%20%20%20%20%20%20%20%20%20%7B%22columns%22%3A%20%7B%22class%22%3A%20%22Integer%22%2C%20%22system%3Aindex%22%3A%20%22String%22%7D%2C%20%22features%22%3A%20%5B%7B%22geometry%22%3A%20%7B%22coordinates%22%3A%20%5B-76.20793238263802%2C%20-13.53834059592441%5D%2C%20%22type%22%3A%20%22Point%22%7D%2C%20%22id%22%3A%20%221_1_1_1_0%22%2C%20%22properties%22%3A%20%7B%22class%22%3A%200%2C%20%22highlight%22%3A%20%7B%7D%2C%20%22style%22%3A%20%7B%7D%7D%2C%20%22type%22%3A%20%22Feature%22%7D%2C%20%7B%22geometry%22%3A%20%7B%22coordinates%22%3A%20%5B-76.19866266828255%2C%20-13.58506562431329%5D%2C%20%22type%22%3A%20%22Point%22%7D%2C%20%22id%22%3A%20%221_1_1_1_1%22%2C%20%22properties%22%3A%20%7B%22class%22%3A%200%2C%20%22highlight%22%3A%20%7B%7D%2C%20%22style%22%3A%20%7B%7D%7D%2C%20%22type%22%3A%20%22Feature%22%7D%2C%20%7B%22geometry%22%3A%20%7B%22coordinates%22%3A%20%5B-76.20690241437632%2C%20-13.49594638116929%5D%2C%20%22type%22%3A%20%22Point%22%7D%2C%20%22id%22%3A%20%221_1_1_1_2%22%2C%20%22properties%22%3A%20%7B%22class%22%3A%200%2C%20%22highlight%22%3A%20%7B%7D%2C%20%22style%22%3A%20%7B%7D%7D%2C%20%22type%22%3A%20%22Feature%22%7D%2C%20%7B%22geometry%22%3A%20%7B%22coordinates%22%3A%20%5B-76.19780436139779%2C%20-13.475247256225725%5D%2C%20%22type%22%3A%20%22Point%22%7D%2C%20%22id%22%3A%20%221_1_1_1_3%22%2C%20%22properties%22%3A%20%7B%22class%22%3A%200%2C%20%22highlight%22%3A%20%7B%7D%2C%20%22style%22%3A%20%7B%7D%7D%2C%20%22type%22%3A%20%22Feature%22%7D%2C%20%7B%22geometry%22%3A%20%7B%22coordinates%22%3A%20%5B-76.19866266828257%2C%20-13.459220896366487%5D%2C%20%22type%22%3A%20%22Point%22%7D%2C%20%22id%22%3A%20%221_1_1_1_4%22%2C%20%22properties%22%3A%20%7B%22class%22%3A%200%2C%20%22highlight%22%3A%20%7B%7D%2C%20%22style%22%3A%20%7B%7D%7D%2C%20%22type%22%3A%20%22Feature%22%7D%2C%20%7B%22geometry%22%3A%20%7B%22coordinates%22%3A%20%5B-76.20793238263802%2C%20-13.457217525920317%5D%2C%20%22type%22%3A%20%22Point%22%7D%2C%20%22id%22%3A%20%221_1_1_1_5%22%2C%20%22properties%22%3A%20%7B%22class%22%3A%200%2C%20%22highlight%22%3A%20%7B%7D%2C%20%22style%22%3A%20%7B%7D%7D%2C%20%22type%22%3A%20%22Feature%22%7D%2C%20%7B%22geometry%22%3A%20%7B%22coordinates%22%3A%20%5B-76.19608774762825%2C%20-13.492774857414556%5D%2C%20%22type%22%3A%20%22Point%22%7D%2C%20%22id%22%3A%20%221_1_1_1_6%22%2C%20%22properties%22%3A%20%7B%22class%22%3A%200%2C%20%22highlight%22%3A%20%7B%7D%2C%20%22style%22%3A%20%7B%7D%7D%2C%20%22type%22%3A%20%22Feature%22%7D%2C%20%7B%22geometry%22%3A%20%7B%22coordinates%22%3A%20%5B-76.21102228742319%2C%20-13.518646583658844%5D%2C%20%22type%22%3A%20%22Point%22%7D%2C%20%22id%22%3A%20%221_1_1_1_7%22%2C%20%22properties%22%3A%20%7B%22class%22%3A%200%2C%20%22highlight%22%3A%20%7B%7D%2C%20%22style%22%3A%20%7B%7D%7D%2C%20%22type%22%3A%20%22Feature%22%7D%2C%20%7B%22geometry%22%3A%20%7B%22coordinates%22%3A%20%5B-76.19625940900521%2C%20-13.558366733495422%5D%2C%20%22type%22%3A%20%22Point%22%7D%2C%20%22id%22%3A%20%221_1_1_1_8%22%2C%20%22properties%22%3A%20%7B%22class%22%3A%200%2C%20%22highlight%22%3A%20%7B%7D%2C%20%22style%22%3A%20%7B%7D%7D%2C%20%22type%22%3A%20%22Feature%22%7D%2C%20%7B%22geometry%22%3A%20%7B%22coordinates%22%3A%20%5B-76.20899024733426%2C%20-13.430223694606841%5D%2C%20%22type%22%3A%20%22Point%22%7D%2C%20%22id%22%3A%20%221_1_1_1_9%22%2C%20%22properties%22%3A%20%7B%22class%22%3A%200%2C%20%22highlight%22%3A%20%7B%7D%2C%20%22style%22%3A%20%7B%7D%7D%2C%20%22type%22%3A%20%22Feature%22%7D%2C%20%7B%22geometry%22%3A%20%7B%22coordinates%22%3A%20%5B-76.20727363356472%2C%20-13.420539411003908%5D%2C%20%22type%22%3A%20%22Point%22%7D%2C%20%22id%22%3A%20%221_1_1_1_10%22%2C%20%22properties%22%3A%20%7B%22class%22%3A%200%2C%20%22highlight%22%3A%20%7B%7D%2C%20%22style%22%3A%20%7B%7D%7D%2C%20%22type%22%3A%20%22Feature%22%7D%2C%20%7B%22geometry%22%3A%20%7B%22coordinates%22%3A%20%5B-76.20521369704129%2C%20-13.4649503232095%5D%2C%20%22type%22%3A%20%22Point%22%7D%2C%20%22id%22%3A%20%221_1_1_1_11%22%2C%20%22properties%22%3A%20%7B%22class%22%3A%200%2C%20%22highlight%22%3A%20%7B%7D%2C%20%22style%22%3A%20%7B%7D%7D%2C%20%22type%22%3A%20%22Feature%22%7D%2C%20%7B%22geometry%22%3A%20%7B%22coordinates%22%3A%20%5B-76.19388404616238%2C%20-13.452763185473371%5D%2C%20%22type%22%3A%20%22Point%22%7D%2C%20%22id%22%3A%20%221_1_1_1_12%22%2C%20%22properties%22%3A%20%7B%22class%22%3A%200%2C%20%22highlight%22%3A%20%7B%7D%2C%20%22style%22%3A%20%7B%7D%7D%2C%20%22type%22%3A%20%22Feature%22%7D%2C%20%7B%22geometry%22%3A%20%7B%22coordinates%22%3A%20%5B-76.20778861769558%2C%20-13.405845269392309%5D%2C%20%22type%22%3A%20%22Point%22%7D%2C%20%22id%22%3A%20%221_1_1_1_13%22%2C%20%22properties%22%3A%20%7B%22class%22%3A%200%2C%20%22highlight%22%3A%20%7B%7D%2C%20%22style%22%3A%20%7B%7D%7D%2C%20%22type%22%3A%20%22Feature%22%7D%2C%20%7B%22geometry%22%3A%20%7B%22coordinates%22%3A%20%5B-76.21156516798855%2C%20-13.422543087942042%5D%2C%20%22type%22%3A%20%22Point%22%7D%2C%20%22id%22%3A%20%221_1_1_1_14%22%2C%20%22properties%22%3A%20%7B%22class%22%3A%200%2C%20%22highlight%22%3A%20%7B%7D%2C%20%22style%22%3A%20%7B%7D%7D%2C%20%22type%22%3A%20%22Feature%22%7D%2C%20%7B%22geometry%22%3A%20%7B%22coordinates%22%3A%20%5B-76.20864692458035%2C%20-13.486651908116594%5D%2C%20%22type%22%3A%20%22Point%22%7D%2C%20%22id%22%3A%20%221_1_1_1_15%22%2C%20%22properties%22%3A%20%7B%22class%22%3A%200%2C%20%22highlight%22%3A%20%7B%7D%2C%20%22style%22%3A%20%7B%7D%7D%2C%20%22type%22%3A%20%22Feature%22%7D%2C%20%7B%22geometry%22%3A%20%7B%22coordinates%22%3A%20%5B-76.20401206740262%2C%20-13.564761271279107%5D%2C%20%22type%22%3A%20%22Point%22%7D%2C%20%22id%22%3A%20%221_1_1_1_16%22%2C%20%22properties%22%3A%20%7B%22class%22%3A%200%2C%20%22highlight%22%3A%20%7B%7D%2C%20%22style%22%3A%20%7B%7D%7D%2C%20%22type%22%3A%20%22Feature%22%7D%2C%20%7B%22geometry%22%3A%20%7B%22coordinates%22%3A%20%5B-76.2084752632034%2C%20-13.551098603686643%5D%2C%20%22type%22%3A%20%22Point%22%7D%2C%20%22id%22%3A%20%221_1_1_1_17%22%2C%20%22properties%22%3A%20%7B%22class%22%3A%200%2C%20%22highlight%22%3A%20%7B%7D%2C%20%22style%22%3A%20%7B%7D%7D%2C%20%22type%22%3A%20%22Feature%22%7D%2C%20%7B%22geometry%22%3A%20%7B%22coordinates%22%3A%20%5B-76.19954887160183%2C%20-13.547093388655492%5D%2C%20%22type%22%3A%20%22Point%22%7D%2C%20%22id%22%3A%20%221_1_1_1_18%22%2C%20%22properties%22%3A%20%7B%22class%22%3A%200%2C%20%22highlight%22%3A%20%7B%7D%2C%20%22style%22%3A%20%7B%7D%7D%2C%20%22type%22%3A%20%22Feature%22%7D%2C%20%7B%22geometry%22%3A%20%7B%22coordinates%22%3A%20%5B-76.1974889350784%2C%20-13.44593940115905%5D%2C%20%22type%22%3A%20%22Point%22%7D%2C%20%22id%22%3A%20%221_1_1_1_19%22%2C%20%22properties%22%3A%20%7B%22class%22%3A%200%2C%20%22highlight%22%3A%20%7B%7D%2C%20%22style%22%3A%20%7B%7D%7D%2C%20%22type%22%3A%20%22Feature%22%7D%2C%20%7B%22geometry%22%3A%20%7B%22coordinates%22%3A%20%5B-76.21002021559597%2C%20-13.397183268045227%5D%2C%20%22type%22%3A%20%22Point%22%7D%2C%20%22id%22%3A%20%221_1_1_1_20%22%2C%20%22properties%22%3A%20%7B%22class%22%3A%200%2C%20%22highlight%22%3A%20%7B%7D%2C%20%22style%22%3A%20%7B%7D%7D%2C%20%22type%22%3A%20%22Feature%22%7D%2C%20%7B%22geometry%22%3A%20%7B%22coordinates%22%3A%20%5B-76.19645896681668%2C%20-13.436923602428658%5D%2C%20%22type%22%3A%20%22Point%22%7D%2C%20%22id%22%3A%20%221_1_1_1_21%22%2C%20%22properties%22%3A%20%7B%22class%22%3A%200%2C%20%22highlight%22%3A%20%7B%7D%2C%20%22style%22%3A%20%7B%7D%7D%2C%20%22type%22%3A%20%22Feature%22%7D%2C%20%7B%22geometry%22%3A%20%7B%22coordinates%22%3A%20%5B-76.21070686110379%2C%20-13.38883362305739%5D%2C%20%22type%22%3A%20%22Point%22%7D%2C%20%22id%22%3A%20%221_1_1_1_22%22%2C%20%22properties%22%3A%20%7B%22class%22%3A%200%2C%20%22highlight%22%3A%20%7B%7D%2C%20%22style%22%3A%20%7B%7D%7D%2C%20%22type%22%3A%20%22Feature%22%7D%2C%20%7B%22geometry%22%3A%20%7B%22coordinates%22%3A%20%5B-76.2084752632034%2C%20-13.449612407120002%5D%2C%20%22type%22%3A%20%22Point%22%7D%2C%20%22id%22%3A%20%221_1_1_1_23%22%2C%20%22properties%22%3A%20%7B%22class%22%3A%200%2C%20%22highlight%22%3A%20%7B%7D%2C%20%22style%22%3A%20%7B%7D%7D%2C%20%22type%22%3A%20%22Feature%22%7D%2C%20%7B%22geometry%22%3A%20%7B%22coordinates%22%3A%20%5B-76.21002021559597%2C%20-13.477325090240653%5D%2C%20%22type%22%3A%20%22Point%22%7D%2C%20%22id%22%3A%20%221_1_1_1_24%22%2C%20%22properties%22%3A%20%7B%22class%22%3A%200%2C%20%22highlight%22%3A%20%7B%7D%2C%20%22style%22%3A%20%7B%7D%7D%2C%20%22type%22%3A%20%22Feature%22%7D%2C%20%7B%22geometry%22%3A%20%7B%22coordinates%22%3A%20%5B-76.19611564406277%2C%20-13.57212487506864%5D%2C%20%22type%22%3A%20%22Point%22%7D%2C%20%22id%22%3A%20%221_1_1_1_25%22%2C%20%22properties%22%3A%20%7B%22class%22%3A%200%2C%20%22highlight%22%3A%20%7B%7D%2C%20%22style%22%3A%20%7B%7D%7D%2C%20%22type%22%3A%20%22Feature%22%7D%2C%20%7B%22geometry%22%3A%20%7B%22coordinates%22%3A%20%5B-76.2029820991409%2C%20-13.510709598293026%5D%2C%20%22type%22%3A%20%22Point%22%7D%2C%20%22id%22%3A%20%221_1_1_1_26%22%2C%20%22properties%22%3A%20%7B%22class%22%3A%200%2C%20%22highlight%22%3A%20%7B%7D%2C%20%22style%22%3A%20%7B%7D%7D%2C%20%22type%22%3A%20%22Feature%22%7D%2C%20%7B%22geometry%22%3A%20%7B%22coordinates%22%3A%20%5B-76.19508567580105%2C%20-13.50436690104268%5D%2C%20%22type%22%3A%20%22Point%22%7D%2C%20%22id%22%3A%20%221_1_1_1_27%22%2C%20%22properties%22%3A%20%7B%22class%22%3A%200%2C%20%22highlight%22%3A%20%7B%7D%2C%20%22style%22%3A%20%7B%7D%7D%2C%20%22type%22%3A%20%22Feature%22%7D%2C%20%7B%22geometry%22%3A%20%7B%22coordinates%22%3A%20%5B-76.20675864943387%2C%20-13.587142500129493%5D%2C%20%22type%22%3A%20%22Point%22%7D%2C%20%22id%22%3A%20%221_1_1_1_28%22%2C%20%22properties%22%3A%20%7B%22class%22%3A%200%2C%20%22highlight%22%3A%20%7B%7D%2C%20%22style%22%3A%20%7B%7D%7D%2C%20%22type%22%3A%20%22Feature%22%7D%2C%20%7B%22geometry%22%3A%20%7B%22coordinates%22%3A%20%5B-76.19714561232449%2C%20-13.52339448660891%5D%2C%20%22type%22%3A%20%22Point%22%7D%2C%20%22id%22%3A%20%221_1_1_1_29%22%2C%20%22properties%22%3A%20%7B%22class%22%3A%200%2C%20%22highlight%22%3A%20%7B%7D%2C%20%22style%22%3A%20%7B%7D%7D%2C%20%22type%22%3A%20%22Feature%22%7D%2C%20%7B%22geometry%22%3A%20%7B%22coordinates%22%3A%20%5B-76.19954887160183%2C%20-13.5347435510398%5D%2C%20%22type%22%3A%20%22Point%22%7D%2C%20%22id%22%3A%20%221_1_1_1_30%22%2C%20%22properties%22%3A%20%7B%22class%22%3A%200%2C%20%22highlight%22%3A%20%7B%7D%2C%20%22style%22%3A%20%7B%7D%7D%2C%20%22type%22%3A%20%22Feature%22%7D%2C%20%7B%22geometry%22%3A%20%7B%22coordinates%22%3A%20%5B-76.20607200392605%2C%20-13.471649259886668%5D%2C%20%22type%22%3A%20%22Point%22%7D%2C%20%22id%22%3A%20%221_1_1_1_31%22%2C%20%22properties%22%3A%20%7B%22class%22%3A%200%2C%20%22highlight%22%3A%20%7B%7D%2C%20%22style%22%3A%20%7B%7D%7D%2C%20%22type%22%3A%20%22Feature%22%7D%2C%20%7B%22geometry%22%3A%20%7B%22coordinates%22%3A%20%5B-76.20675864943387%2C%20-13.440262826676603%5D%2C%20%22type%22%3A%20%22Point%22%7D%2C%20%22id%22%3A%20%221_1_1_1_32%22%2C%20%22properties%22%3A%20%7B%22class%22%3A%200%2C%20%22highlight%22%3A%20%7B%7D%2C%20%22style%22%3A%20%7B%7D%7D%2C%20%22type%22%3A%20%22Feature%22%7D%2C%20%7B%22geometry%22%3A%20%7B%22coordinates%22%3A%20%5B-76.20160880812527%2C%20-13.429243210222896%5D%2C%20%22type%22%3A%20%22Point%22%7D%2C%20%22id%22%3A%20%221_1_1_1_33%22%2C%20%22properties%22%3A%20%7B%22class%22%3A%200%2C%20%22highlight%22%3A%20%7B%7D%2C%20%22style%22%3A%20%7B%7D%7D%2C%20%22type%22%3A%20%22Feature%22%7D%2C%20%7B%22geometry%22%3A%20%7B%22coordinates%22%3A%20%5B-76.21087852248074%2C%20-13.412378878106919%5D%2C%20%22type%22%3A%20%22Point%22%7D%2C%20%22id%22%3A%20%221_1_1_1_34%22%2C%20%22properties%22%3A%20%7B%22class%22%3A%200%2C%20%22highlight%22%3A%20%7B%7D%2C%20%22style%22%3A%20%7B%7D%7D%2C%20%22type%22%3A%20%22Feature%22%7D%2C%20%7B%22geometry%22%3A%20%7B%22coordinates%22%3A%20%5B-76.20126548537137%2C%20-13.41889098830647%5D%2C%20%22type%22%3A%20%22Point%22%7D%2C%20%22id%22%3A%20%221_1_1_1_35%22%2C%20%22properties%22%3A%20%7B%22class%22%3A%200%2C%20%22highlight%22%3A%20%7B%7D%2C%20%22style%22%3A%20%7B%7D%7D%2C%20%22type%22%3A%20%22Feature%22%7D%2C%20%7B%22geometry%22%3A%20%7B%22coordinates%22%3A%20%5B-76.20092216261746%2C%20-13.485003940349847%5D%2C%20%22type%22%3A%20%22Point%22%7D%2C%20%22id%22%3A%20%221_1_1_1_36%22%2C%20%22properties%22%3A%20%7B%22class%22%3A%200%2C%20%22highlight%22%3A%20%7B%7D%2C%20%22style%22%3A%20%7B%7D%7D%2C%20%22type%22%3A%20%22Feature%22%7D%2C%20%7B%22geometry%22%3A%20%7B%22coordinates%22%3A%20%5B-76.20710197218777%2C%20-13.526064903369695%5D%2C%20%22type%22%3A%20%22Point%22%7D%2C%20%22id%22%3A%20%221_1_1_1_37%22%2C%20%22properties%22%3A%20%7B%22class%22%3A%200%2C%20%22highlight%22%3A%20%7B%7D%2C%20%22style%22%3A%20%7B%7D%7D%2C%20%22type%22%3A%20%22Feature%22%7D%2C%20%7B%22geometry%22%3A%20%7B%22coordinates%22%3A%20%5B-76.21019187697293%2C%20-13.501028571594818%5D%2C%20%22type%22%3A%20%22Point%22%7D%2C%20%22id%22%3A%20%221_1_1_1_38%22%2C%20%22properties%22%3A%20%7B%22class%22%3A%200%2C%20%22highlight%22%3A%20%7B%7D%2C%20%22style%22%3A%20%7B%7D%7D%2C%20%22type%22%3A%20%22Feature%22%7D%2C%20%7B%22geometry%22%3A%20%7B%22coordinates%22%3A%20%5B-76.20813194044949%2C%20-13.574794744561816%5D%2C%20%22type%22%3A%20%22Point%22%7D%2C%20%22id%22%3A%20%221_1_1_1_39%22%2C%20%22properties%22%3A%20%7B%22class%22%3A%200%2C%20%22highlight%22%3A%20%7B%7D%2C%20%22style%22%3A%20%7B%7D%7D%2C%20%22type%22%3A%20%22Feature%22%7D%2C%20%7B%22geometry%22%3A%20%7B%22coordinates%22%3A%20%5B-76.12982645612436%2C%20-13.5043623807007%5D%2C%20%22type%22%3A%20%22Point%22%7D%2C%20%22id%22%3A%20%221_1_1_2_0%22%2C%20%22properties%22%3A%20%7B%22class%22%3A%201%2C%20%22highlight%22%3A%20%7B%7D%2C%20%22style%22%3A%20%7B%7D%7D%2C%20%22type%22%3A%20%22Feature%22%7D%2C%20%7B%22geometry%22%3A%20%7B%22coordinates%22%3A%20%5B-76.1209000645228%2C%20-13.50102405118958%5D%2C%20%22type%22%3A%20%22Point%22%7D%2C%20%22id%22%3A%20%221_1_1_2_1%22%2C%20%22properties%22%3A%20%7B%22class%22%3A%201%2C%20%22highlight%22%3A%20%7B%7D%2C%20%22style%22%3A%20%7B%7D%7D%2C%20%22type%22%3A%20%22Feature%22%7D%2C%20%7B%22geometry%22%3A%20%7B%22coordinates%22%3A%20%5B-76.10021486859995%2C%20-13.491509555903567%5D%2C%20%22type%22%3A%20%22Point%22%7D%2C%20%22id%22%3A%20%221_1_1_2_2%22%2C%20%22properties%22%3A%20%7B%22class%22%3A%201%2C%20%22highlight%22%3A%20%7B%7D%2C%20%22style%22%3A%20%7B%7D%7D%2C%20%22type%22%3A%20%22Feature%22%7D%2C%20%7B%22geometry%22%3A%20%7B%22coordinates%22%3A%20%5B-76.1102570591517%2C%20-13.512791454808815%5D%2C%20%22type%22%3A%20%22Point%22%7D%2C%20%22id%22%3A%20%221_1_1_2_3%22%2C%20%22properties%22%3A%20%7B%22class%22%3A%201%2C%20%22highlight%22%3A%20%7B%7D%2C%20%22style%22%3A%20%7B%7D%7D%2C%20%22type%22%3A%20%22Feature%22%7D%2C%20%7B%22geometry%22%3A%20%7B%22coordinates%22%3A%20%5B-76.13240137677866%2C%20-13.513626000391907%5D%2C%20%22type%22%3A%20%22Point%22%7D%2C%20%22id%22%3A%20%221_1_1_2_4%22%2C%20%22properties%22%3A%20%7B%22class%22%3A%201%2C%20%22highlight%22%3A%20%7B%7D%2C%20%22style%22%3A%20%7B%7D%7D%2C%20%22type%22%3A%20%22Feature%22%7D%2C%20%7B%22geometry%22%3A%20%7B%22coordinates%22%3A%20%5B-76.16218462568003%2C%20-13.510120889313345%5D%2C%20%22type%22%3A%20%22Point%22%7D%2C%20%22id%22%3A%20%221_1_1_2_5%22%2C%20%22properties%22%3A%20%7B%22class%22%3A%201%2C%20%22highlight%22%3A%20%7B%7D%2C%20%22style%22%3A%20%7B%7D%7D%2C%20%22type%22%3A%20%22Feature%22%7D%2C%20%7B%22geometry%22%3A%20%7B%22coordinates%22%3A%20%5B-76.13583460431772%2C%20-13.492928408204094%5D%2C%20%22type%22%3A%20%22Point%22%7D%2C%20%22id%22%3A%20%221_1_1_2_6%22%2C%20%22properties%22%3A%20%7B%22class%22%3A%201%2C%20%22highlight%22%3A%20%7B%7D%2C%20%22style%22%3A%20%7B%7D%7D%2C%20%22type%22%3A%20%22Feature%22%7D%2C%20%7B%22geometry%22%3A%20%7B%22coordinates%22%3A%20%5B-76.16261377912241%2C%20-13.482662404377546%5D%2C%20%22type%22%3A%20%22Point%22%7D%2C%20%22id%22%3A%20%221_1_1_2_7%22%2C%20%22properties%22%3A%20%7B%22class%22%3A%201%2C%20%22highlight%22%3A%20%7B%7D%2C%20%22style%22%3A%20%7B%7D%7D%2C%20%22type%22%3A%20%22Feature%22%7D%2C%20%7B%22geometry%22%3A%20%7B%22coordinates%22%3A%20%5B-76.11411944013315%2C%20-13.482161612418878%5D%2C%20%22type%22%3A%20%22Point%22%7D%2C%20%22id%22%3A%20%221_1_1_2_8%22%2C%20%22properties%22%3A%20%7B%22class%22%3A%201%2C%20%22highlight%22%3A%20%7B%7D%2C%20%22style%22%3A%20%7B%7D%7D%2C%20%22type%22%3A%20%22Feature%22%7D%2C%20%7B%22geometry%22%3A%20%7B%22coordinates%22%3A%20%5B-76.13454714399057%2C%20-13.469114939655338%5D%2C%20%22type%22%3A%20%22Point%22%7D%2C%20%22id%22%3A%20%221_1_1_2_9%22%2C%20%22properties%22%3A%20%7B%22class%22%3A%201%2C%20%22highlight%22%3A%20%7B%7D%2C%20%22style%22%3A%20%7B%7D%7D%2C%20%22type%22%3A%20%22Feature%22%7D%2C%20%7B%22geometry%22%3A%20%7B%22coordinates%22%3A%20%5B-76.15883722882944%2C%20-13.46335544251804%5D%2C%20%22type%22%3A%20%22Point%22%7D%2C%20%22id%22%3A%20%221_1_1_2_10%22%2C%20%22properties%22%3A%20%7B%22class%22%3A%201%2C%20%22highlight%22%3A%20%7B%7D%2C%20%22style%22%3A%20%7B%7D%7D%2C%20%22type%22%3A%20%22Feature%22%7D%2C%20%7B%22geometry%22%3A%20%7B%22coordinates%22%3A%20%5B-76.11154451947885%2C%20-13.460350432462805%5D%2C%20%22type%22%3A%20%22Point%22%7D%2C%20%22id%22%3A%20%221_1_1_2_11%22%2C%20%22properties%22%3A%20%7B%22class%22%3A%201%2C%20%22highlight%22%3A%20%7B%7D%2C%20%22style%22%3A%20%7B%7D%7D%2C%20%22type%22%3A%20%22Feature%22%7D%2C%20%7B%22geometry%22%3A%20%7B%22coordinates%22%3A%20%5B-76.14261522870737%2C%20-13.444323075264059%5D%2C%20%22type%22%3A%20%22Point%22%7D%2C%20%22id%22%3A%20%221_1_1_2_12%22%2C%20%22properties%22%3A%20%7B%22class%22%3A%201%2C%20%22highlight%22%3A%20%7B%7D%2C%20%22style%22%3A%20%7B%7D%7D%2C%20%22type%22%3A%20%22Feature%22%7D%2C%20%7B%22geometry%22%3A%20%7B%22coordinates%22%3A%20%5B-76.11480608564096%2C%20-13.443237850864753%5D%2C%20%22type%22%3A%20%22Point%22%7D%2C%20%22id%22%3A%20%221_1_1_2_13%22%2C%20%22properties%22%3A%20%7B%22class%22%3A%201%2C%20%22highlight%22%3A%20%7B%7D%2C%20%22style%22%3A%20%7B%7D%7D%2C%20%22type%22%3A%20%22Feature%22%7D%2C%20%7B%22geometry%22%3A%20%7B%22coordinates%22%3A%20%5B-76.0992707310267%2C%20-13.461435579334665%5D%2C%20%22type%22%3A%20%22Point%22%7D%2C%20%22id%22%3A%20%221_1_1_2_14%22%2C%20%22properties%22%3A%20%7B%22class%22%3A%201%2C%20%22highlight%22%3A%20%7B%7D%2C%20%22style%22%3A%20%7B%7D%7D%2C%20%22type%22%3A%20%22Feature%22%7D%2C%20%7B%22geometry%22%3A%20%7B%22coordinates%22%3A%20%5B-76.1578930912562%2C%20-13.448496969465111%5D%2C%20%22type%22%3A%20%22Point%22%7D%2C%20%22id%22%3A%20%221_1_1_2_15%22%2C%20%22properties%22%3A%20%7B%22class%22%3A%201%2C%20%22highlight%22%3A%20%7B%7D%2C%20%22style%22%3A%20%7B%7D%7D%2C%20%22type%22%3A%20%22Feature%22%7D%2C%20%7B%22geometry%22%3A%20%7B%22coordinates%22%3A%20%5B-76.17085352521616%2C%20-13.474373489856111%5D%2C%20%22type%22%3A%20%22Point%22%7D%2C%20%22id%22%3A%20%221_1_1_2_16%22%2C%20%22properties%22%3A%20%7B%22class%22%3A%201%2C%20%22highlight%22%3A%20%7B%7D%2C%20%22style%22%3A%20%7B%7D%7D%2C%20%22type%22%3A%20%22Feature%22%7D%2C%20%7B%22geometry%22%3A%20%7B%22coordinates%22%3A%20%5B-76.15634813886362%2C%20-13.4724537150875%5D%2C%20%22type%22%3A%20%22Point%22%7D%2C%20%22id%22%3A%20%221_1_1_2_17%22%2C%20%22properties%22%3A%20%7B%22class%22%3A%201%2C%20%22highlight%22%3A%20%7B%7D%2C%20%22style%22%3A%20%7B%7D%7D%2C%20%22type%22%3A%20%22Feature%22%7D%2C%20%7B%22geometry%22%3A%20%7B%22coordinates%22%3A%20%5B-76.14973917585093%2C%20-13.471535556489632%5D%2C%20%22type%22%3A%20%22Point%22%7D%2C%20%22id%22%3A%20%221_1_1_2_18%22%2C%20%22properties%22%3A%20%7B%22class%22%3A%201%2C%20%22highlight%22%3A%20%7B%7D%2C%20%22style%22%3A%20%7B%7D%7D%2C%20%22type%22%3A%20%22Feature%22%7D%2C%20%7B%22geometry%22%3A%20%7B%22coordinates%22%3A%20%5B-76.11454859357553%2C%20-13.448496969465111%5D%2C%20%22type%22%3A%20%22Point%22%7D%2C%20%22id%22%3A%20%221_1_1_2_19%22%2C%20%22properties%22%3A%20%7B%22class%22%3A%201%2C%20%22highlight%22%3A%20%7B%7D%2C%20%22style%22%3A%20%7B%7D%7D%2C%20%22type%22%3A%20%22Feature%22%7D%2C%20%7B%22geometry%22%3A%20%7B%22coordinates%22%3A%20%5B-76.07772722821909%2C%20-13.455341998546404%5D%2C%20%22type%22%3A%20%22Point%22%7D%2C%20%22id%22%3A%20%221_1_1_2_20%22%2C%20%22properties%22%3A%20%7B%22class%22%3A%201%2C%20%22highlight%22%3A%20%7B%7D%2C%20%22style%22%3A%20%7B%7D%7D%2C%20%22type%22%3A%20%22Feature%22%7D%2C%20%7B%22geometry%22%3A%20%7B%22coordinates%22%3A%20%5B-76.08081713300425%2C%20-13.463522386414887%5D%2C%20%22type%22%3A%20%22Point%22%7D%2C%20%22id%22%3A%20%221_1_1_2_21%22%2C%20%22properties%22%3A%20%7B%22class%22%3A%201%2C%20%22highlight%22%3A%20%7B%7D%2C%20%22style%22%3A%20%7B%7D%7D%2C%20%22type%22%3A%20%22Feature%22%7D%2C%20%7B%22geometry%22%3A%20%7B%22coordinates%22%3A%20%5B-76.11095242701867%2C%20-13.433804539541429%5D%2C%20%22type%22%3A%20%22Point%22%7D%2C%20%22id%22%3A%20%221_1_1_2_22%22%2C%20%22properties%22%3A%20%7B%22class%22%3A%201%2C%20%22highlight%22%3A%20%7B%7D%2C%20%22style%22%3A%20%7B%7D%7D%2C%20%22type%22%3A%20%22Feature%22%7D%2C%20%7B%22geometry%22%3A%20%7B%22coordinates%22%3A%20%5B-76.11091960693547%2C%20-13.400394263904234%5D%2C%20%22type%22%3A%20%22Point%22%7D%2C%20%22id%22%3A%20%221_1_1_2_23%22%2C%20%22properties%22%3A%20%7B%22class%22%3A%201%2C%20%22highlight%22%3A%20%7B%7D%2C%20%22style%22%3A%20%7B%7D%7D%2C%20%22type%22%3A%20%22Feature%22%7D%2C%20%7B%22geometry%22%3A%20%7B%22coordinates%22%3A%20%5B-76.13289226318547%2C%20-13.382434316230542%5D%2C%20%22type%22%3A%20%22Point%22%7D%2C%20%22id%22%3A%20%221_1_1_2_24%22%2C%20%22properties%22%3A%20%7B%22class%22%3A%201%2C%20%22highlight%22%3A%20%7B%7D%2C%20%22style%22%3A%20%7B%7D%7D%2C%20%22type%22%3A%20%22Feature%22%7D%2C%20%7B%22geometry%22%3A%20%7B%22coordinates%22%3A%20%5B-76.15126003051945%2C%20-13.371847327100147%5D%2C%20%22type%22%3A%20%22Point%22%7D%2C%20%22id%22%3A%20%221_1_1_2_25%22%2C%20%22properties%22%3A%20%7B%22class%22%3A%201%2C%20%22highlight%22%3A%20%7B%7D%2C%20%22style%22%3A%20%7B%7D%7D%2C%20%22type%22%3A%20%22Feature%22%7D%2C%20%7B%22geometry%22%3A%20%7B%22coordinates%22%3A%20%5B-76.1594997766132%2C%20-13.353290982469337%5D%2C%20%22type%22%3A%20%22Point%22%7D%2C%20%22id%22%3A%20%221_1_1_2_26%22%2C%20%22properties%22%3A%20%7B%22class%22%3A%201%2C%20%22highlight%22%3A%20%7B%7D%2C%20%22style%22%3A%20%7B%7D%7D%2C%20%22type%22%3A%20%22Feature%22%7D%2C%20%7B%22geometry%22%3A%20%7B%22coordinates%22%3A%20%5B-76.18281984556418%2C%20-13.35262289985404%5D%2C%20%22type%22%3A%20%22Point%22%7D%2C%20%22id%22%3A%20%221_1_1_2_27%22%2C%20%22properties%22%3A%20%7B%22class%22%3A%201%2C%20%22highlight%22%3A%20%7B%7D%2C%20%22style%22%3A%20%7B%7D%7D%2C%20%22type%22%3A%20%22Feature%22%7D%2C%20%7B%22geometry%22%3A%20%7B%22coordinates%22%3A%20%5B-76.16651201475364%2C%20-13.358719085163417%5D%2C%20%22type%22%3A%20%22Point%22%7D%2C%20%22id%22%3A%20%221_1_1_2_28%22%2C%20%22properties%22%3A%20%7B%22class%22%3A%201%2C%20%22highlight%22%3A%20%7B%7D%2C%20%22style%22%3A%20%7B%7D%7D%2C%20%22type%22%3A%20%22Feature%22%7D%2C%20%7B%22geometry%22%3A%20%7B%22coordinates%22%3A%20%5B-76.15303659666282%2C%20-13.349282459043662%5D%2C%20%22type%22%3A%20%22Point%22%7D%2C%20%22id%22%3A%20%221_1_1_2_29%22%2C%20%22properties%22%3A%20%7B%22class%22%3A%201%2C%20%22highlight%22%3A%20%7B%7D%2C%20%22style%22%3A%20%7B%7D%7D%2C%20%22type%22%3A%20%22Feature%22%7D%2C%20%7B%22geometry%22%3A%20%7B%22coordinates%22%3A%20%5B-76.13827371824485%2C%20-13.366735751916789%5D%2C%20%22type%22%3A%20%22Point%22%7D%2C%20%22id%22%3A%20%221_1_1_2_30%22%2C%20%22properties%22%3A%20%7B%22class%22%3A%201%2C%20%22highlight%22%3A%20%7B%7D%2C%20%22style%22%3A%20%7B%7D%7D%2C%20%22type%22%3A%20%22Feature%22%7D%2C%20%7B%22geometry%22%3A%20%7B%22coordinates%22%3A%20%5B-76.1739792846511%2C%20-13.351620772464168%5D%2C%20%22type%22%3A%20%22Point%22%7D%2C%20%22id%22%3A%20%221_1_1_2_31%22%2C%20%22properties%22%3A%20%7B%22class%22%3A%201%2C%20%22highlight%22%3A%20%7B%7D%2C%20%22style%22%3A%20%7B%7D%7D%2C%20%22type%22%3A%20%22Feature%22%7D%2C%20%7B%22geometry%22%3A%20%7B%22coordinates%22%3A%20%5B-76.1439385436843%2C%20-13.378860416021276%5D%2C%20%22type%22%3A%20%22Point%22%7D%2C%20%22id%22%3A%20%221_1_1_2_32%22%2C%20%22properties%22%3A%20%7B%22class%22%3A%201%2C%20%22highlight%22%3A%20%7B%7D%2C%20%22style%22%3A%20%7B%7D%7D%2C%20%22type%22%3A%20%22Feature%22%7D%2C%20%7B%22geometry%22%3A%20%7B%22coordinates%22%3A%20%5B-76.07358189780784%2C%20-13.496270914638568%5D%2C%20%22type%22%3A%20%22Point%22%7D%2C%20%22id%22%3A%20%221_1_1_2_33%22%2C%20%22properties%22%3A%20%7B%22class%22%3A%201%2C%20%22highlight%22%3A%20%7B%7D%2C%20%22style%22%3A%20%7B%7D%7D%2C%20%22type%22%3A%20%22Feature%22%7D%2C%20%7B%22geometry%22%3A%20%7B%22coordinates%22%3A%20%5B-76.05658742148948%2C%20-13.493683625626284%5D%2C%20%22type%22%3A%20%22Point%22%7D%2C%20%22id%22%3A%20%221_1_1_2_34%22%2C%20%22properties%22%3A%20%7B%22class%22%3A%201%2C%20%22highlight%22%3A%20%7B%7D%2C%20%22style%22%3A%20%7B%7D%7D%2C%20%22type%22%3A%20%22Feature%22%7D%2C%20%7B%22geometry%22%3A%20%7B%22coordinates%22%3A%20%5B-76.0634538765676%2C%20-13.509123483013797%5D%2C%20%22type%22%3A%20%22Point%22%7D%2C%20%22id%22%3A%20%221_1_1_2_35%22%2C%20%22properties%22%3A%20%7B%22class%22%3A%201%2C%20%22highlight%22%3A%20%7B%7D%2C%20%22style%22%3A%20%7B%7D%7D%2C%20%22type%22%3A%20%22Feature%22%7D%2C%20%7B%22geometry%22%3A%20%7B%22coordinates%22%3A%20%5B-76.10217192028844%2C%20-13.523493821296638%5D%2C%20%22type%22%3A%20%22Point%22%7D%2C%20%22id%22%3A%20%221_1_1_2_36%22%2C%20%22properties%22%3A%20%7B%22class%22%3A%201%2C%20%22highlight%22%3A%20%7B%7D%2C%20%22style%22%3A%20%7B%7D%7D%2C%20%22type%22%3A%20%22Feature%22%7D%2C%20%7B%22geometry%22%3A%20%7B%22coordinates%22%3A%20%5B-76.08457662915075%2C%20-13.516734197916094%5D%2C%20%22type%22%3A%20%22Point%22%7D%2C%20%22id%22%3A%20%221_1_1_2_37%22%2C%20%22properties%22%3A%20%7B%22class%22%3A%201%2C%20%22highlight%22%3A%20%7B%7D%2C%20%22style%22%3A%20%7B%7D%7D%2C%20%22type%22%3A%20%22Feature%22%7D%2C%20%7B%22geometry%22%3A%20%7B%22coordinates%22%3A%20%5B-76.08981230114782%2C%20-13.502630169007137%5D%2C%20%22type%22%3A%20%22Point%22%7D%2C%20%22id%22%3A%20%221_1_1_2_38%22%2C%20%22properties%22%3A%20%7B%22class%22%3A%201%2C%20%22highlight%22%3A%20%7B%7D%2C%20%22style%22%3A%20%7B%7D%7D%2C%20%22type%22%3A%20%22Feature%22%7D%2C%20%7B%22geometry%22%3A%20%7B%22coordinates%22%3A%20%5B-76.08311750744664%2C%20-13.537142840471772%5D%2C%20%22type%22%3A%20%22Point%22%7D%2C%20%22id%22%3A%20%221_1_1_2_39%22%2C%20%22properties%22%3A%20%7B%22class%22%3A%201%2C%20%22highlight%22%3A%20%7B%7D%2C%20%22style%22%3A%20%7B%7D%7D%2C%20%22type%22%3A%20%22Feature%22%7D%2C%20%7B%22geometry%22%3A%20%7B%22coordinates%22%3A%20%5B-76.08286001538121%2C%20-13.547072727838245%5D%2C%20%22type%22%3A%20%22Point%22%7D%2C%20%22id%22%3A%20%221_1_1_2_40%22%2C%20%22properties%22%3A%20%7B%22class%22%3A%201%2C%20%22highlight%22%3A%20%7B%7D%2C%20%22style%22%3A%20%7B%7D%7D%2C%20%22type%22%3A%20%22Feature%22%7D%2C%20%7B%22geometry%22%3A%20%7B%22coordinates%22%3A%20%5B-76.09856703137243%2C%20-13.552663322330673%5D%2C%20%22type%22%3A%20%22Point%22%7D%2C%20%22id%22%3A%20%221_1_1_2_41%22%2C%20%22properties%22%3A%20%7B%22class%22%3A%201%2C%20%22highlight%22%3A%20%7B%7D%2C%20%22style%22%3A%20%7B%7D%7D%2C%20%22type%22%3A%20%22Feature%22%7D%2C%20%7B%22geometry%22%3A%20%7B%22coordinates%22%3A%20%5B-76.10654928540075%2C%20-13.554415571153308%5D%2C%20%22type%22%3A%20%22Point%22%7D%2C%20%22id%22%3A%20%221_1_1_2_42%22%2C%20%22properties%22%3A%20%7B%22class%22%3A%201%2C%20%22highlight%22%3A%20%7B%7D%2C%20%22style%22%3A%20%7B%7D%7D%2C%20%22type%22%3A%20%22Feature%22%7D%2C%20%7B%22geometry%22%3A%20%7B%22coordinates%22%3A%20%5B-76.12945769438842%2C%20-13.554157099375944%5D%2C%20%22type%22%3A%20%22Point%22%7D%2C%20%22id%22%3A%20%221_1_1_2_43%22%2C%20%22properties%22%3A%20%7B%22class%22%3A%201%2C%20%22highlight%22%3A%20%7B%7D%2C%20%22style%22%3A%20%7B%7D%7D%2C%20%22type%22%3A%20%22Feature%22%7D%2C%20%7B%22geometry%22%3A%20%7B%22coordinates%22%3A%20%5B-76.14009101693098%2C%20-13.565263160917079%5D%2C%20%22type%22%3A%20%22Point%22%7D%2C%20%22id%22%3A%20%221_1_1_2_44%22%2C%20%22properties%22%3A%20%7B%22class%22%3A%201%2C%20%22highlight%22%3A%20%7B%7D%2C%20%22style%22%3A%20%7B%7D%7D%2C%20%22type%22%3A%20%22Feature%22%7D%2C%20%7B%22geometry%22%3A%20%7B%22coordinates%22%3A%20%5B-76.16180618111555%2C%20-13.569184634753869%5D%2C%20%22type%22%3A%20%22Point%22%7D%2C%20%22id%22%3A%20%221_1_1_2_45%22%2C%20%22properties%22%3A%20%7B%22class%22%3A%201%2C%20%22highlight%22%3A%20%7B%7D%2C%20%22style%22%3A%20%7B%7D%7D%2C%20%22type%22%3A%20%22Feature%22%7D%2C%20%7B%22geometry%22%3A%20%7B%22coordinates%22%3A%20%5B-76.16558273140852%2C%20-13.564011613080748%5D%2C%20%22type%22%3A%20%22Point%22%7D%2C%20%22id%22%3A%20%221_1_1_2_46%22%2C%20%22properties%22%3A%20%7B%22class%22%3A%201%2C%20%22highlight%22%3A%20%7B%7D%2C%20%22style%22%3A%20%7B%7D%7D%2C%20%22type%22%3A%20%22Feature%22%7D%2C%20%7B%22geometry%22%3A%20%7B%22coordinates%22%3A%20%5B-76.1341686994261%2C%20-13.519729235215385%5D%2C%20%22type%22%3A%20%22Point%22%7D%2C%20%22id%22%3A%20%221_1_1_2_47%22%2C%20%22properties%22%3A%20%7B%22class%22%3A%201%2C%20%22highlight%22%3A%20%7B%7D%2C%20%22style%22%3A%20%7B%7D%7D%2C%20%22type%22%3A%20%22Feature%22%7D%2C%20%7B%22geometry%22%3A%20%7B%22coordinates%22%3A%20%5B-76.15257938210432%2C%20-13.529743297778847%5D%2C%20%22type%22%3A%20%22Point%22%7D%2C%20%22id%22%3A%20%221_1_1_2_48%22%2C%20%22properties%22%3A%20%7B%22class%22%3A%201%2C%20%22highlight%22%3A%20%7B%7D%2C%20%22style%22%3A%20%7B%7D%7D%2C%20%22type%22%3A%20%22Feature%22%7D%2C%20%7B%22geometry%22%3A%20%7B%22coordinates%22%3A%20%5B-76.15596969429915%2C%20-13.521690355614806%5D%2C%20%22type%22%3A%20%22Point%22%7D%2C%20%22id%22%3A%20%221_1_1_2_49%22%2C%20%22properties%22%3A%20%7B%22class%22%3A%201%2C%20%22highlight%22%3A%20%7B%7D%2C%20%22style%22%3A%20%7B%7D%7D%2C%20%22type%22%3A%20%22Feature%22%7D%2C%20%7B%22geometry%22%3A%20%7B%22coordinates%22%3A%20%5B-76.13196117411108%2C%20-13.426720730582748%5D%2C%20%22type%22%3A%20%22Point%22%7D%2C%20%22id%22%3A%20%221_1_2_0%22%2C%20%22properties%22%3A%20%7B%22class%22%3A%202%2C%20%22highlight%22%3A%20%7B%7D%2C%20%22style%22%3A%20%7B%7D%7D%2C%20%22type%22%3A%20%22Feature%22%7D%2C%20%7B%22geometry%22%3A%20%7B%22coordinates%22%3A%20%5B-76.13683206568213%2C%20-13.426470276238721%5D%2C%20%22type%22%3A%20%22Point%22%7D%2C%20%22id%22%3A%20%221_1_2_1%22%2C%20%22properties%22%3A%20%7B%22class%22%3A%202%2C%20%22highlight%22%3A%20%7B%7D%2C%20%22style%22%3A%20%7B%7D%7D%2C%20%22type%22%3A%20%22Feature%22%7D%2C%20%7B%22geometry%22%3A%20%7B%22coordinates%22%3A%20%5B-76.13912803659888%2C%20-13.422546457397523%5D%2C%20%22type%22%3A%20%22Point%22%7D%2C%20%22id%22%3A%20%221_1_2_2%22%2C%20%22properties%22%3A%20%7B%22class%22%3A%202%2C%20%22highlight%22%3A%20%7B%7D%2C%20%22style%22%3A%20%7B%7D%7D%2C%20%22type%22%3A%20%22Feature%22%7D%2C%20%7B%22geometry%22%3A%20%7B%22coordinates%22%3A%20%5B-76.12985832224341%2C%20-13.420939342869776%5D%2C%20%22type%22%3A%20%22Point%22%7D%2C%20%22id%22%3A%20%221_1_2_3%22%2C%20%22properties%22%3A%20%7B%22class%22%3A%202%2C%20%22highlight%22%3A%20%7B%7D%2C%20%22style%22%3A%20%7B%7D%7D%2C%20%22type%22%3A%20%22Feature%22%7D%2C%20%7B%22geometry%22%3A%20%7B%22coordinates%22%3A%20%5B-76.12792713175268%2C%20-13.428620000852026%5D%2C%20%22type%22%3A%20%22Point%22%7D%2C%20%22id%22%3A%20%221_1_2_4%22%2C%20%22properties%22%3A%20%7B%22class%22%3A%202%2C%20%22highlight%22%3A%20%7B%7D%2C%20%22style%22%3A%20%7B%7D%7D%2C%20%22type%22%3A%20%22Feature%22%7D%2C%20%7B%22geometry%22%3A%20%7B%22coordinates%22%3A%20%5B-76.13633853922339%2C%20-13.429037420874405%5D%2C%20%22type%22%3A%20%22Point%22%7D%2C%20%22id%22%3A%20%221_1_2_5%22%2C%20%22properties%22%3A%20%7B%22class%22%3A%202%2C%20%22highlight%22%3A%20%7B%7D%2C%20%22style%22%3A%20%7B%7D%7D%2C%20%22type%22%3A%20%22Feature%22%7D%2C%20%7B%22geometry%22%3A%20%7B%22coordinates%22%3A%20%5B-76.1403940392539%2C%20-13.425865010495018%5D%2C%20%22type%22%3A%20%22Point%22%7D%2C%20%22id%22%3A%20%221_1_2_6%22%2C%20%22properties%22%3A%20%7B%22class%22%3A%202%2C%20%22highlight%22%3A%20%7B%7D%2C%20%22style%22%3A%20%7B%7D%7D%2C%20%22type%22%3A%20%22Feature%22%7D%2C%20%7B%22geometry%22%3A%20%7B%22coordinates%22%3A%20%5B-76.14148838053198%2C%20-13.428348677448108%5D%2C%20%22type%22%3A%20%22Point%22%7D%2C%20%22id%22%3A%20%221_1_2_7%22%2C%20%22properties%22%3A%20%7B%22class%22%3A%202%2C%20%22highlight%22%3A%20%7B%7D%2C%20%22style%22%3A%20%7B%7D%7D%2C%20%22type%22%3A%20%22Feature%22%7D%2C%20%7B%22geometry%22%3A%20%7B%22coordinates%22%3A%20%5B-76.13884908686133%2C%20-13.428703484914584%5D%2C%20%22type%22%3A%20%22Point%22%7D%2C%20%22id%22%3A%20%221_1_2_8%22%2C%20%22properties%22%3A%20%7B%22class%22%3A%202%2C%20%22highlight%22%3A%20%7B%7D%2C%20%22style%22%3A%20%7B%7D%7D%2C%20%22type%22%3A%20%22Feature%22%7D%2C%20%7B%22geometry%22%3A%20%7B%22coordinates%22%3A%20%5B-76.13374216089697%2C%20-13.422191640829714%5D%2C%20%22type%22%3A%20%22Point%22%7D%2C%20%22id%22%3A%20%221_1_2_9%22%2C%20%22properties%22%3A%20%7B%22class%22%3A%202%2C%20%22highlight%22%3A%20%7B%7D%2C%20%22style%22%3A%20%7B%7D%7D%2C%20%22type%22%3A%20%22Feature%22%7D%2C%20%7B%22geometry%22%3A%20%7B%22coordinates%22%3A%20%5B-76.13348466883154%2C%20-13.432188918605823%5D%2C%20%22type%22%3A%20%22Point%22%7D%2C%20%22id%22%3A%20%221_1_2_10%22%2C%20%22properties%22%3A%20%7B%22class%22%3A%202%2C%20%22highlight%22%3A%20%7B%7D%2C%20%22style%22%3A%20%7B%7D%7D%2C%20%22type%22%3A%20%22Feature%22%7D%2C%20%7B%22geometry%22%3A%20%7B%22coordinates%22%3A%20%5B-76.13533002863379%2C%20-13.416117934750881%5D%2C%20%22type%22%3A%20%22Point%22%7D%2C%20%22id%22%3A%20%221_1_2_11%22%2C%20%22properties%22%3A%20%7B%22class%22%3A%202%2C%20%22highlight%22%3A%20%7B%7D%2C%20%22style%22%3A%20%7B%7D%7D%2C%20%22type%22%3A%20%22Feature%22%7D%2C%20%7B%22geometry%22%3A%20%7B%22coordinates%22%3A%20%5B-76.13022310266943%2C%20-13.415324793408919%5D%2C%20%22type%22%3A%20%22Point%22%7D%2C%20%22id%22%3A%20%221_1_2_12%22%2C%20%22properties%22%3A%20%7B%22class%22%3A%202%2C%20%22highlight%22%3A%20%7B%7D%2C%20%22style%22%3A%20%7B%7D%7D%2C%20%22type%22%3A%20%22Feature%22%7D%2C%20%7B%22geometry%22%3A%20%7B%22coordinates%22%3A%20%5B-76.12803442011328%2C%20-13.41774595351081%5D%2C%20%22type%22%3A%20%22Point%22%7D%2C%20%22id%22%3A%20%221_1_2_13%22%2C%20%22properties%22%3A%20%7B%22class%22%3A%202%2C%20%22highlight%22%3A%20%7B%7D%2C%20%22style%22%3A%20%7B%7D%7D%2C%20%22type%22%3A%20%22Feature%22%7D%2C%20%7B%22geometry%22%3A%20%7B%22coordinates%22%3A%20%5B-76.13962156305762%2C%20-13.416201423160851%5D%2C%20%22type%22%3A%20%22Point%22%7D%2C%20%22id%22%3A%20%221_1_2_14%22%2C%20%22properties%22%3A%20%7B%22class%22%3A%202%2C%20%22highlight%22%3A%20%7B%7D%2C%20%22style%22%3A%20%7B%7D%7D%2C%20%22type%22%3A%20%22Feature%22%7D%2C%20%7B%22geometry%22%3A%20%7B%22coordinates%22%3A%20%5B-76.13704664240332%2C%20-13.436279542658044%5D%2C%20%22type%22%3A%20%22Point%22%7D%2C%20%22id%22%3A%20%221_1_2_15%22%2C%20%22properties%22%3A%20%7B%22class%22%3A%202%2C%20%22highlight%22%3A%20%7B%7D%2C%20%22style%22%3A%20%7B%7D%7D%2C%20%22type%22%3A%20%22Feature%22%7D%2C%20%7B%22geometry%22%3A%20%7B%22coordinates%22%3A%20%5B-76.13275510797949%2C%20-13.434442944570007%5D%2C%20%22type%22%3A%20%22Point%22%7D%2C%20%22id%22%3A%20%221_1_2_16%22%2C%20%22properties%22%3A%20%7B%22class%22%3A%202%2C%20%22highlight%22%3A%20%7B%7D%2C%20%22style%22%3A%20%7B%7D%7D%2C%20%22type%22%3A%20%22Feature%22%7D%2C%20%7B%22geometry%22%3A%20%7B%22coordinates%22%3A%20%5B-76.1279485894248%2C%20-13.424174432574109%5D%2C%20%22type%22%3A%20%22Point%22%7D%2C%20%22id%22%3A%20%221_1_2_17%22%2C%20%22properties%22%3A%20%7B%22class%22%3A%202%2C%20%22highlight%22%3A%20%7B%7D%2C%20%22style%22%3A%20%7B%7D%7D%2C%20%22type%22%3A%20%22Feature%22%7D%2C%20%7B%22geometry%22%3A%20%7B%22coordinates%22%3A%20%5B-76.11687643061133%2C%20-13.410983341774543%5D%2C%20%22type%22%3A%20%22Point%22%7D%2C%20%22id%22%3A%20%221_1_2_18%22%2C%20%22properties%22%3A%20%7B%22class%22%3A%202%2C%20%22highlight%22%3A%20%7B%7D%2C%20%22style%22%3A%20%7B%7D%7D%2C%20%22type%22%3A%20%22Feature%22%7D%2C%20%7B%22geometry%22%3A%20%7B%22coordinates%22%3A%20%5B-76.12365705500098%2C%20-13.40255068275863%5D%2C%20%22type%22%3A%20%22Point%22%7D%2C%20%22id%22%3A%20%221_1_2_19%22%2C%20%22properties%22%3A%20%7B%22class%22%3A%202%2C%20%22highlight%22%3A%20%7B%7D%2C%20%22style%22%3A%20%7B%7D%7D%2C%20%22type%22%3A%20%22Feature%22%7D%2C%20%7B%22geometry%22%3A%20%7B%22coordinates%22%3A%20%5B-76.14108068476172%2C%20-13.41081636129894%5D%2C%20%22type%22%3A%20%22Point%22%7D%2C%20%22id%22%3A%20%221_1_2_20%22%2C%20%22properties%22%3A%20%7B%22class%22%3A%202%2C%20%22highlight%22%3A%20%7B%7D%2C%20%22style%22%3A%20%7B%7D%7D%2C%20%22type%22%3A%20%22Feature%22%7D%2C%20%7B%22geometry%22%3A%20%7B%22coordinates%22%3A%20%5B-76.0847757531211%2C%20-13.438783971930006%5D%2C%20%22type%22%3A%20%22Point%22%7D%2C%20%22id%22%3A%20%221_1_2_21%22%2C%20%22properties%22%3A%20%7B%22class%22%3A%202%2C%20%22highlight%22%3A%20%7B%7D%2C%20%22style%22%3A%20%7B%7D%7D%2C%20%22type%22%3A%20%22Feature%22%7D%2C%20%7B%22geometry%22%3A%20%7B%22coordinates%22%3A%20%5B-76.08168584833594%2C%20-13.441622293483208%5D%2C%20%22type%22%3A%20%22Point%22%7D%2C%20%22id%22%3A%20%221_1_2_22%22%2C%20%22properties%22%3A%20%7B%22class%22%3A%202%2C%20%22highlight%22%3A%20%7B%7D%2C%20%22style%22%3A%20%7B%7D%7D%2C%20%22type%22%3A%20%22Feature%22%7D%2C%20%7B%22geometry%22%3A%20%7B%22coordinates%22%3A%20%5B-76.08992559442969%2C%20-13.434109016134004%5D%2C%20%22type%22%3A%20%22Point%22%7D%2C%20%22id%22%3A%20%221_1_2_23%22%2C%20%22properties%22%3A%20%7B%22class%22%3A%202%2C%20%22highlight%22%3A%20%7B%7D%2C%20%22style%22%3A%20%7B%7D%7D%2C%20%22type%22%3A%20%22Feature%22%7D%2C%20%7B%22geometry%22%3A%20%7B%22coordinates%22%3A%20%5B-76.14035112390967%2C%20-13.438825712196282%5D%2C%20%22type%22%3A%20%22Point%22%7D%2C%20%22id%22%3A%20%221_1_2_24%22%2C%20%22properties%22%3A%20%7B%22class%22%3A%202%2C%20%22highlight%22%3A%20%7B%7D%2C%20%22style%22%3A%20%7B%7D%7D%2C%20%22type%22%3A%20%22Feature%22%7D%2C%20%7B%22geometry%22%3A%20%7B%22coordinates%22%3A%20%5B-76.1321972085044%2C%20-13.438533530179818%5D%2C%20%22type%22%3A%20%22Point%22%7D%2C%20%22id%22%3A%20%221_1_2_25%22%2C%20%22properties%22%3A%20%7B%22class%22%3A%202%2C%20%22highlight%22%3A%20%7B%7D%2C%20%22style%22%3A%20%7B%7D%7D%2C%20%22type%22%3A%20%22Feature%22%7D%2C%20%7B%22geometry%22%3A%20%7B%22coordinates%22%3A%20%5B-76.1616800499961%2C%20-13.426178079173708%5D%2C%20%22type%22%3A%20%22Point%22%7D%2C%20%22id%22%3A%20%221_1_2_26%22%2C%20%22properties%22%3A%20%7B%22class%22%3A%202%2C%20%22highlight%22%3A%20%7B%7D%2C%20%22style%22%3A%20%7B%7D%7D%2C%20%22type%22%3A%20%22Feature%22%7D%2C%20%7B%22geometry%22%3A%20%7B%22coordinates%22%3A%20%5B-76.16588575373144%2C%20-13.427305123035735%5D%2C%20%22type%22%3A%20%22Point%22%7D%2C%20%22id%22%3A%20%221_1_2_27%22%2C%20%22properties%22%3A%20%7B%22class%22%3A%202%2C%20%22highlight%22%3A%20%7B%7D%2C%20%22style%22%3A%20%7B%7D%7D%2C%20%22type%22%3A%20%22Feature%22%7D%2C%20%7B%22geometry%22%3A%20%7B%22coordinates%22%3A%20%5B-76.15790349970312%2C%20-13.398626473265448%5D%2C%20%22type%22%3A%20%22Point%22%7D%2C%20%22id%22%3A%20%221_1_2_28%22%2C%20%22properties%22%3A%20%7B%22class%22%3A%202%2C%20%22highlight%22%3A%20%7B%7D%2C%20%22style%22%3A%20%7B%7D%7D%2C%20%22type%22%3A%20%22Feature%22%7D%2C%20%7B%22geometry%22%3A%20%7B%22coordinates%22%3A%20%5B-76.16030675898047%2C%20-13.408478622457748%5D%2C%20%22type%22%3A%20%22Point%22%7D%2C%20%22id%22%3A%20%221_1_2_29%22%2C%20%22properties%22%3A%20%7B%22class%22%3A%202%2C%20%22highlight%22%3A%20%7B%7D%2C%20%22style%22%3A%20%7B%7D%7D%2C%20%22type%22%3A%20%22Feature%22%7D%2C%20%7B%22geometry%22%3A%20%7B%22coordinates%22%3A%20%5B-76.14348394403906%2C%20-13.391946820518598%5D%2C%20%22type%22%3A%20%22Point%22%7D%2C%20%22id%22%3A%20%221_1_2_30%22%2C%20%22properties%22%3A%20%7B%22class%22%3A%202%2C%20%22highlight%22%3A%20%7B%7D%2C%20%22style%22%3A%20%7B%7D%7D%2C%20%22type%22%3A%20%22Feature%22%7D%2C%20%7B%22geometry%22%3A%20%7B%22coordinates%22%3A%20%5B-76.13610250483008%2C%20-13.395954634421196%5D%2C%20%22type%22%3A%20%22Point%22%7D%2C%20%22id%22%3A%20%221_1_2_31%22%2C%20%22properties%22%3A%20%7B%22class%22%3A%202%2C%20%22highlight%22%3A%20%7B%7D%2C%20%22style%22%3A%20%7B%7D%7D%2C%20%22type%22%3A%20%22Feature%22%7D%2C%20%7B%22geometry%22%3A%20%7B%22coordinates%22%3A%20%5B-76.13764745722266%2C%20-13.400296357472063%5D%2C%20%22type%22%3A%20%22Point%22%7D%2C%20%22id%22%3A%20%221_1_2_32%22%2C%20%22properties%22%3A%20%7B%22class%22%3A%202%2C%20%22highlight%22%3A%20%7B%7D%2C%20%22style%22%3A%20%7B%7D%7D%2C%20%22type%22%3A%20%22Feature%22%7D%2C%20%7B%22geometry%22%3A%20%7B%22coordinates%22%3A%20%5B-76.12992269525976%2C%20-13.397624537176565%5D%2C%20%22type%22%3A%20%22Point%22%7D%2C%20%22id%22%3A%20%221_1_2_33%22%2C%20%22properties%22%3A%20%7B%22class%22%3A%202%2C%20%22highlight%22%3A%20%7B%7D%2C%20%22style%22%3A%20%7B%7D%7D%2C%20%22type%22%3A%20%22Feature%22%7D%2C%20%7B%22geometry%22%3A%20%7B%22coordinates%22%3A%20%5B-76.12734777460547%2C%20-13.407309744509991%5D%2C%20%22type%22%3A%20%22Point%22%7D%2C%20%22id%22%3A%20%221_1_2_34%22%2C%20%22properties%22%3A%20%7B%22class%22%3A%202%2C%20%22highlight%22%3A%20%7B%7D%2C%20%22style%22%3A%20%7B%7D%7D%2C%20%22type%22%3A%20%22Feature%22%7D%2C%20%7B%22geometry%22%3A%20%7B%22coordinates%22%3A%20%5B-76.12236959467383%2C%20-13.413988970492584%5D%2C%20%22type%22%3A%20%22Point%22%7D%2C%20%22id%22%3A%20%221_1_2_35%22%2C%20%22properties%22%3A%20%7B%22class%22%3A%202%2C%20%22highlight%22%3A%20%7B%7D%2C%20%22style%22%3A%20%7B%7D%7D%2C%20%22type%22%3A%20%22Feature%22%7D%2C%20%7B%22geometry%22%3A%20%7B%22coordinates%22%3A%20%5B-76.12202627191992%2C%20-13.417996416955955%5D%2C%20%22type%22%3A%20%22Point%22%7D%2C%20%22id%22%3A%20%221_1_2_36%22%2C%20%22properties%22%3A%20%7B%22class%22%3A%202%2C%20%22highlight%22%3A%20%7B%7D%2C%20%22style%22%3A%20%7B%7D%7D%2C%20%22type%22%3A%20%22Feature%22%7D%2C%20%7B%22geometry%22%3A%20%7B%22coordinates%22%3A%20%5B-76.14708883295508%2C%20-13.41482386068576%5D%2C%20%22type%22%3A%20%22Point%22%7D%2C%20%22id%22%3A%20%221_1_2_37%22%2C%20%22properties%22%3A%20%7B%22class%22%3A%202%2C%20%22highlight%22%3A%20%7B%7D%2C%20%22style%22%3A%20%7B%7D%7D%2C%20%22type%22%3A%20%22Feature%22%7D%2C%20%7B%22geometry%22%3A%20%7B%22coordinates%22%3A%20%5B-76.1513803673789%2C%20-13.400296357472063%5D%2C%20%22type%22%3A%20%22Point%22%7D%2C%20%22id%22%3A%20%221_1_2_38%22%2C%20%22properties%22%3A%20%7B%22class%22%3A%202%2C%20%22highlight%22%3A%20%7B%7D%2C%20%22style%22%3A%20%7B%7D%7D%2C%20%22type%22%3A%20%22Feature%22%7D%2C%20%7B%22geometry%22%3A%20%7B%22coordinates%22%3A%20%5B-76.15277528754547%2C%20-13.415256617545504%5D%2C%20%22type%22%3A%20%22Point%22%7D%2C%20%22id%22%3A%20%221_1_2_39%22%2C%20%22properties%22%3A%20%7B%22class%22%3A%202%2C%20%22highlight%22%3A%20%7B%7D%2C%20%22style%22%3A%20%7B%7D%7D%2C%20%22type%22%3A%20%22Feature%22%7D%2C%20%7B%22geometry%22%3A%20%7B%22coordinates%22%3A%20%5B-76.13045930854156%2C%20-13.353132987581796%5D%2C%20%22type%22%3A%20%22Point%22%7D%2C%20%22id%22%3A%20%221_2_0%22%2C%20%22properties%22%3A%20%7B%22class%22%3A%203%2C%20%22highlight%22%3A%20%7B%7D%2C%20%22style%22%3A%20%7B%7D%7D%2C%20%22type%22%3A%20%22Feature%22%7D%2C%20%7B%22geometry%22%3A%20%7B%22coordinates%22%3A%20%5B-76.11294984809234%2C%20-13.349458507912184%5D%2C%20%22type%22%3A%20%22Point%22%7D%2C%20%22id%22%3A%20%221_2_1%22%2C%20%22properties%22%3A%20%7B%22class%22%3A%203%2C%20%22highlight%22%3A%20%7B%7D%2C%20%22style%22%3A%20%7B%7D%7D%2C%20%22type%22%3A%20%22Feature%22%7D%2C%20%7B%22geometry%22%3A%20%7B%22coordinates%22%3A%20%5B-76.09132051459625%2C%20-13.376514728873774%5D%2C%20%22type%22%3A%20%22Point%22%7D%2C%20%22id%22%3A%20%221_2_2%22%2C%20%22properties%22%3A%20%7B%22class%22%3A%203%2C%20%22highlight%22%3A%20%7B%7D%2C%20%22style%22%3A%20%7B%7D%7D%2C%20%22type%22%3A%20%22Feature%22%7D%2C%20%7B%22geometry%22%3A%20%7B%22coordinates%22%3A%20%5B-76.09269380561187%2C%20-13.395218488527172%5D%2C%20%22type%22%3A%20%22Point%22%7D%2C%20%22id%22%3A%20%221_2_3%22%2C%20%22properties%22%3A%20%7B%22class%22%3A%203%2C%20%22highlight%22%3A%20%7B%7D%2C%20%22style%22%3A%20%7B%7D%7D%2C%20%22type%22%3A%20%22Feature%22%7D%2C%20%7B%22geometry%22%3A%20%7B%22coordinates%22%3A%20%5B-76.07724428168609%2C%20-13.402232023656712%5D%2C%20%22type%22%3A%20%22Point%22%7D%2C%20%22id%22%3A%20%221_2_4%22%2C%20%22properties%22%3A%20%7B%22class%22%3A%203%2C%20%22highlight%22%3A%20%7B%7D%2C%20%22style%22%3A%20%7B%7D%7D%2C%20%22type%22%3A%20%22Feature%22%7D%2C%20%7B%22geometry%22%3A%20%7B%22coordinates%22%3A%20%5B-76.05286836615875%2C%20-13.436294854167137%5D%2C%20%22type%22%3A%20%22Point%22%7D%2C%20%22id%22%3A%20%221_2_5%22%2C%20%22properties%22%3A%20%7B%22class%22%3A%203%2C%20%22highlight%22%3A%20%7B%7D%2C%20%22style%22%3A%20%7B%7D%7D%2C%20%22type%22%3A%20%22Feature%22%7D%2C%20%7B%22geometry%22%3A%20%7B%22coordinates%22%3A%20%5B-76.0449719428189%2C%20-13.418262192799528%5D%2C%20%22type%22%3A%20%22Point%22%7D%2C%20%22id%22%3A%20%221_2_6%22%2C%20%22properties%22%3A%20%7B%22class%22%3A%203%2C%20%22highlight%22%3A%20%7B%7D%2C%20%22style%22%3A%20%7B%7D%7D%2C%20%22type%22%3A%20%22Feature%22%7D%2C%20%7B%22geometry%22%3A%20%7B%22coordinates%22%3A%20%5B-76.02505922309234%2C%20-13.421267730440047%5D%2C%20%22type%22%3A%20%22Point%22%7D%2C%20%22id%22%3A%20%221_2_7%22%2C%20%22properties%22%3A%20%7B%22class%22%3A%203%2C%20%22highlight%22%3A%20%7B%7D%2C%20%22style%22%3A%20%7B%7D%7D%2C%20%22type%22%3A%20%22Feature%22%7D%2C%20%7B%22geometry%22%3A%20%7B%22coordinates%22%3A%20%5B-76.00686311713531%2C%20-13.44163760465113%5D%2C%20%22type%22%3A%20%22Point%22%7D%2C%20%22id%22%3A%20%221_2_8%22%2C%20%22properties%22%3A%20%7B%22class%22%3A%203%2C%20%22highlight%22%3A%20%7B%7D%2C%20%22style%22%3A%20%7B%7D%7D%2C%20%22type%22%3A%20%22Feature%22%7D%2C%20%7B%22geometry%22%3A%20%7B%22coordinates%22%3A%20%5B-76.0010266303189%2C%20-13.480035117633477%5D%2C%20%22type%22%3A%20%22Point%22%7D%2C%20%22id%22%3A%20%221_2_9%22%2C%20%22properties%22%3A%20%7B%22class%22%3A%203%2C%20%22highlight%22%3A%20%7B%7D%2C%20%22style%22%3A%20%7B%7D%7D%2C%20%22type%22%3A%20%22Feature%22%7D%2C%20%7B%22geometry%22%3A%20%7B%22coordinates%22%3A%20%5B-75.97802400580719%2C%20-13.464676851615506%5D%2C%20%22type%22%3A%20%22Point%22%7D%2C%20%22id%22%3A%20%221_2_10%22%2C%20%22properties%22%3A%20%7B%22class%22%3A%203%2C%20%22highlight%22%3A%20%7B%7D%2C%20%22style%22%3A%20%7B%7D%7D%2C%20%22type%22%3A%20%22Feature%22%7D%2C%20%7B%22geometry%22%3A%20%7B%22coordinates%22%3A%20%5B-76.02471590033844%2C%20-13.572831425053622%5D%2C%20%22type%22%3A%20%22Point%22%7D%2C%20%22id%22%3A%20%221_2_11%22%2C%20%22properties%22%3A%20%7B%22class%22%3A%203%2C%20%22highlight%22%3A%20%7B%7D%2C%20%22style%22%3A%20%7B%7D%7D%2C%20%22type%22%3A%20%22Feature%22%7D%2C%20%7B%22geometry%22%3A%20%7B%22coordinates%22%3A%20%5B-75.98832368842437%2C%20-13.503404498312044%5D%2C%20%22type%22%3A%20%22Point%22%7D%2C%20%22id%22%3A%20%221_2_12%22%2C%20%22properties%22%3A%20%7B%22class%22%3A%203%2C%20%22highlight%22%3A%20%7B%7D%2C%20%22style%22%3A%20%7B%7D%7D%2C%20%22type%22%3A%20%22Feature%22%7D%2C%20%7B%22geometry%22%3A%20%7B%22coordinates%22%3A%20%5B-76.02059602729156%2C%20-13.49839696643072%5D%2C%20%22type%22%3A%20%22Point%22%7D%2C%20%22id%22%3A%20%221_2_13%22%2C%20%22properties%22%3A%20%7B%22class%22%3A%203%2C%20%22highlight%22%3A%20%7B%7D%2C%20%22style%22%3A%20%7B%7D%7D%2C%20%22type%22%3A%20%22Feature%22%7D%2C%20%7B%22geometry%22%3A%20%7B%22coordinates%22%3A%20%5B-76.03535890570953%2C%20-13.509079574060449%5D%2C%20%22type%22%3A%20%22Point%22%7D%2C%20%22id%22%3A%20%221_2_14%22%2C%20%22properties%22%3A%20%7B%22class%22%3A%203%2C%20%22highlight%22%3A%20%7B%7D%2C%20%22style%22%3A%20%7B%7D%7D%2C%20%22type%22%3A%20%22Feature%22%7D%2C%20%7B%22geometry%22%3A%20%7B%22coordinates%22%3A%20%5B-76.04256868354156%2C%20-13.535116424860643%5D%2C%20%22type%22%3A%20%22Point%22%7D%2C%20%22id%22%3A%20%221_2_15%22%2C%20%22properties%22%3A%20%7B%22class%22%3A%203%2C%20%22highlight%22%3A%20%7B%7D%2C%20%22style%22%3A%20%7B%7D%7D%2C%20%22type%22%3A%20%22Feature%22%7D%2C%20%7B%22geometry%22%3A%20%7B%22coordinates%22%3A%20%5B-76.01132631293609%2C%20-13.519427893914546%5D%2C%20%22type%22%3A%20%22Point%22%7D%2C%20%22id%22%3A%20%221_2_16%22%2C%20%22properties%22%3A%20%7B%22class%22%3A%203%2C%20%22highlight%22%3A%20%7B%7D%2C%20%22style%22%3A%20%7B%7D%7D%2C%20%22type%22%3A%20%22Feature%22%7D%2C%20%7B%22geometry%22%3A%20%7B%22coordinates%22%3A%20%5B-76.05527162543609%2C%20-13.555810351863943%5D%2C%20%22type%22%3A%20%22Point%22%7D%2C%20%22id%22%3A%20%221_2_17%22%2C%20%22properties%22%3A%20%7B%22class%22%3A%203%2C%20%22highlight%22%3A%20%7B%7D%2C%20%22style%22%3A%20%7B%7D%7D%2C%20%22type%22%3A%20%22Feature%22%7D%2C%20%7B%22geometry%22%3A%20%7B%22coordinates%22%3A%20%5B-76.03707551947906%2C%20-13.552806506458701%5D%2C%20%22type%22%3A%20%22Point%22%7D%2C%20%22id%22%3A%20%221_2_18%22%2C%20%22properties%22%3A%20%7B%22class%22%3A%203%2C%20%22highlight%22%3A%20%7B%7D%2C%20%22style%22%3A%20%7B%7D%7D%2C%20%22type%22%3A%20%22Feature%22%7D%2C%20%7B%22geometry%22%3A%20%7B%22coordinates%22%3A%20%5B-76.03089570990875%2C%20-13.518092652080412%5D%2C%20%22type%22%3A%20%22Point%22%7D%2C%20%22id%22%3A%20%221_2_19%22%2C%20%22properties%22%3A%20%7B%22class%22%3A%203%2C%20%22highlight%22%3A%20%7B%7D%2C%20%22style%22%3A%20%7B%7D%7D%2C%20%22type%22%3A%20%22Feature%22%7D%2C%20%7B%22geometry%22%3A%20%7B%22coordinates%22%3A%20%5B-76.02952241889312%2C%20-13.536117785356874%5D%2C%20%22type%22%3A%20%22Point%22%7D%2C%20%22id%22%3A%20%221_2_20%22%2C%20%22properties%22%3A%20%7B%22class%22%3A%203%2C%20%22highlight%22%3A%20%7B%7D%2C%20%22style%22%3A%20%7B%7D%7D%2C%20%22type%22%3A%20%22Feature%22%7D%2C%20%7B%22geometry%22%3A%20%7B%22coordinates%22%3A%20%5B-75.97768068305328%2C%20-13.533113691229662%5D%2C%20%22type%22%3A%20%22Point%22%7D%2C%20%22id%22%3A%20%221_2_21%22%2C%20%22properties%22%3A%20%7B%22class%22%3A%203%2C%20%22highlight%22%3A%20%7B%7D%2C%20%22style%22%3A%20%7B%7D%7D%2C%20%22type%22%3A%20%22Feature%22%7D%2C%20%7B%22geometry%22%3A%20%7B%22coordinates%22%3A%20%5B-75.98729372016265%2C%20-13.52510258823432%5D%2C%20%22type%22%3A%20%22Point%22%7D%2C%20%22id%22%3A%20%221_2_22%22%2C%20%22properties%22%3A%20%7B%22class%22%3A%203%2C%20%22highlight%22%3A%20%7B%7D%2C%20%22style%22%3A%20%7B%7D%7D%2C%20%22type%22%3A%20%22Feature%22%7D%2C%20%7B%22geometry%22%3A%20%7B%22coordinates%22%3A%20%5B-75.97047090522125%2C%20-13.482038296995597%5D%2C%20%22type%22%3A%20%22Point%22%7D%2C%20%22id%22%3A%20%221_2_23%22%2C%20%22properties%22%3A%20%7B%22class%22%3A%203%2C%20%22highlight%22%3A%20%7B%7D%2C%20%22style%22%3A%20%7B%7D%7D%2C%20%22type%22%3A%20%22Feature%22%7D%2C%20%7B%22geometry%22%3A%20%7B%22coordinates%22%3A%20%5B-76.00136995307281%2C%20-13.42226956796032%5D%2C%20%22type%22%3A%20%22Point%22%7D%2C%20%22id%22%3A%20%221_2_24%22%2C%20%22properties%22%3A%20%7B%22class%22%3A%203%2C%20%22highlight%22%3A%20%7B%7D%2C%20%22style%22%3A%20%7B%7D%7D%2C%20%22type%22%3A%20%22Feature%22%7D%2C%20%7B%22geometry%22%3A%20%7B%22coordinates%22%3A%20%5B-75.9951901435025%2C%20-13.403233940550326%5D%2C%20%22type%22%3A%20%22Point%22%7D%2C%20%22id%22%3A%20%221_2_25%22%2C%20%22properties%22%3A%20%7B%22class%22%3A%203%2C%20%22highlight%22%3A%20%7B%7D%2C%20%22style%22%3A%20%7B%7D%7D%2C%20%22type%22%3A%20%22Feature%22%7D%2C%20%7B%22geometry%22%3A%20%7B%22coordinates%22%3A%20%5B-76.01372957221344%2C%20-13.40724156637249%5D%2C%20%22type%22%3A%20%22Point%22%7D%2C%20%22id%22%3A%20%221_2_26%22%2C%20%22properties%22%3A%20%7B%22class%22%3A%203%2C%20%22highlight%22%3A%20%7B%7D%2C%20%22style%22%3A%20%7B%7D%7D%2C%20%22type%22%3A%20%22Feature%22%7D%2C%20%7B%22geometry%22%3A%20%7B%22coordinates%22%3A%20%5B-76.04840517035797%2C%20-13.394884505563192%5D%2C%20%22type%22%3A%20%22Point%22%7D%2C%20%22id%22%3A%20%221_2_27%22%2C%20%22properties%22%3A%20%7B%22class%22%3A%203%2C%20%22highlight%22%3A%20%7B%7D%2C%20%22style%22%3A%20%7B%7D%7D%2C%20%22type%22%3A%20%22Feature%22%7D%2C%20%7B%22geometry%22%3A%20%7B%22coordinates%22%3A%20%5B-76.07484102240875%2C%20-13.382860810175435%5D%2C%20%22type%22%3A%20%22Point%22%7D%2C%20%22id%22%3A%20%221_2_28%22%2C%20%22properties%22%3A%20%7B%22class%22%3A%203%2C%20%22highlight%22%3A%20%7B%7D%2C%20%22style%22%3A%20%7B%7D%7D%2C%20%22type%22%3A%20%22Feature%22%7D%2C%20%7B%22geometry%22%3A%20%7B%22coordinates%22%3A%20%5B-76.06454133979156%2C%20-13.360481779100406%5D%2C%20%22type%22%3A%20%22Point%22%7D%2C%20%22id%22%3A%20%221_2_29%22%2C%20%22properties%22%3A%20%7B%22class%22%3A%203%2C%20%22highlight%22%3A%20%7B%7D%2C%20%22style%22%3A%20%7B%7D%7D%2C%20%22type%22%3A%20%22Feature%22%7D%2C%20%7B%22geometry%22%3A%20%7B%22coordinates%22%3A%20%5B-76.11157655707672%2C%20-13.365158166248213%5D%2C%20%22type%22%3A%20%22Point%22%7D%2C%20%22id%22%3A%20%221_2_30%22%2C%20%22properties%22%3A%20%7B%22class%22%3A%203%2C%20%22highlight%22%3A%20%7B%7D%2C%20%22style%22%3A%20%7B%7D%7D%2C%20%22type%22%3A%20%22Feature%22%7D%2C%20%7B%22geometry%22%3A%20%7B%22coordinates%22%3A%20%5B-76.08754396430328%2C%20-13.355805301300215%5D%2C%20%22type%22%3A%20%22Point%22%7D%2C%20%22id%22%3A%20%221_2_31%22%2C%20%22properties%22%3A%20%7B%22class%22%3A%203%2C%20%22highlight%22%3A%20%7B%7D%2C%20%22style%22%3A%20%7B%7D%7D%2C%20%22type%22%3A%20%22Feature%22%7D%2C%20%7B%22geometry%22%3A%20%7B%22coordinates%22%3A%20%5B-76.18882417670562%2C%20-13.385198797978665%5D%2C%20%22type%22%3A%20%22Point%22%7D%2C%20%22id%22%3A%20%221_2_32%22%2C%20%22properties%22%3A%20%7B%22class%22%3A%203%2C%20%22highlight%22%3A%20%7B%7D%2C%20%22style%22%3A%20%7B%7D%7D%2C%20%22type%22%3A%20%22Feature%22%7D%2C%20%7B%22geometry%22%3A%20%7B%22coordinates%22%3A%20%5B-76.19946718207672%2C%20-13.379186783483458%5D%2C%20%22type%22%3A%20%22Point%22%7D%2C%20%22id%22%3A%20%221_2_33%22%2C%20%22properties%22%3A%20%7B%22class%22%3A%203%2C%20%22highlight%22%3A%20%7B%7D%2C%20%22style%22%3A%20%7B%7D%7D%2C%20%22type%22%3A%20%22Feature%22%7D%2C%20%7B%22geometry%22%3A%20%7B%22coordinates%22%3A%20%5B-76.20908021918609%2C%20-13.357141447063093%5D%2C%20%22type%22%3A%20%22Point%22%7D%2C%20%22id%22%3A%20%221_2_34%22%2C%20%22properties%22%3A%20%7B%22class%22%3A%203%2C%20%22highlight%22%3A%20%7B%7D%2C%20%22style%22%3A%20%7B%7D%7D%2C%20%22type%22%3A%20%22Feature%22%7D%2C%20%7B%22geometry%22%3A%20%7B%22coordinates%22%3A%20%5B-76.04565858832672%2C%20-13.511416330709027%5D%2C%20%22type%22%3A%20%22Point%22%7D%2C%20%22id%22%3A%20%221_2_35%22%2C%20%22properties%22%3A%20%7B%22class%22%3A%203%2C%20%22highlight%22%3A%20%7B%7D%2C%20%22style%22%3A%20%7B%7D%7D%2C%20%22type%22%3A%20%22Feature%22%7D%2C%20%7B%22geometry%22%3A%20%7B%22coordinates%22%3A%20%5B-75.99965333930328%2C%20-13.538788059414708%5D%2C%20%22type%22%3A%20%22Point%22%7D%2C%20%22id%22%3A%20%221_2_36%22%2C%20%22properties%22%3A%20%7B%22class%22%3A%203%2C%20%22highlight%22%3A%20%7B%7D%2C%20%22style%22%3A%20%7B%7D%7D%2C%20%22type%22%3A%20%22Feature%22%7D%2C%20%7B%22geometry%22%3A%20%7B%22coordinates%22%3A%20%5B-76.20152711860015%2C%20-13.343445602381413%5D%2C%20%22type%22%3A%20%22Point%22%7D%2C%20%22id%22%3A%20%221_2_37%22%2C%20%22properties%22%3A%20%7B%22class%22%3A%203%2C%20%22highlight%22%3A%20%7B%7D%2C%20%22style%22%3A%20%7B%7D%7D%2C%20%22type%22%3A%20%22Feature%22%7D%2C%20%7B%22geometry%22%3A%20%7B%22coordinates%22%3A%20%5B-75.97939729682281%2C%20-13.417260338560412%5D%2C%20%22type%22%3A%20%22Point%22%7D%2C%20%22id%22%3A%20%221_2_38%22%2C%20%22properties%22%3A%20%7B%22class%22%3A%203%2C%20%22highlight%22%3A%20%7B%7D%2C%20%22style%22%3A%20%7B%7D%7D%2C%20%22type%22%3A%20%22Feature%22%7D%2C%20%7B%22geometry%22%3A%20%7B%22coordinates%22%3A%20%5B-76.02402925483062%2C%20-13.368498387264628%5D%2C%20%22type%22%3A%20%22Point%22%7D%2C%20%22id%22%3A%20%221_2_39%22%2C%20%22properties%22%3A%20%7B%22class%22%3A%203%2C%20%22highlight%22%3A%20%7B%7D%2C%20%22style%22%3A%20%7B%7D%7D%2C%20%22type%22%3A%20%22Feature%22%7D%2C%20%7B%22geometry%22%3A%20%7B%22coordinates%22%3A%20%5B-76.12129161206124%2C%20-13.518338550816555%5D%2C%20%22type%22%3A%20%22Point%22%7D%2C%20%22id%22%3A%20%222_0%22%2C%20%22properties%22%3A%20%7B%22class%22%3A%204%2C%20%22highlight%22%3A%20%7B%7D%2C%20%22style%22%3A%20%7B%7D%7D%2C%20%22type%22%3A%20%22Feature%22%7D%2C%20%7B%22geometry%22%3A%20%7B%22coordinates%22%3A%20%5B-76.09472701397775%2C%20-13.511912601499546%5D%2C%20%22type%22%3A%20%22Point%22%7D%2C%20%22id%22%3A%20%222_1%22%2C%20%22properties%22%3A%20%7B%22class%22%3A%204%2C%20%22highlight%22%3A%20%7B%7D%2C%20%22style%22%3A%20%7B%7D%7D%2C%20%22type%22%3A%20%22Feature%22%7D%2C%20%7B%22geometry%22%3A%20%7B%22coordinates%22%3A%20%5B-76.07411210318345%2C%20-13.513316217291814%5D%2C%20%22type%22%3A%20%22Point%22%7D%2C%20%22id%22%3A%20%222_2%22%2C%20%22properties%22%3A%20%7B%22class%22%3A%204%2C%20%22highlight%22%3A%20%7B%7D%2C%20%22style%22%3A%20%7B%7D%7D%2C%20%22type%22%3A%20%22Feature%22%7D%2C%20%7B%22geometry%22%3A%20%7B%22coordinates%22%3A%20%5B-76.08767335196275%2C%20-13.530131709926529%5D%2C%20%22type%22%3A%20%22Point%22%7D%2C%20%22id%22%3A%20%222_3%22%2C%20%22properties%22%3A%20%7B%22class%22%3A%204%2C%20%22highlight%22%3A%20%7B%7D%2C%20%22style%22%3A%20%7B%7D%7D%2C%20%22type%22%3A%20%22Feature%22%7D%2C%20%7B%22geometry%22%3A%20%7B%22coordinates%22%3A%20%5B-76.11453835745591%2C%20-13.541313563823314%5D%2C%20%22type%22%3A%20%22Point%22%7D%2C%20%22id%22%3A%20%222_4%22%2C%20%22properties%22%3A%20%7B%22class%22%3A%204%2C%20%22highlight%22%3A%20%7B%7D%2C%20%22style%22%3A%20%7B%7D%7D%2C%20%22type%22%3A%20%22Feature%22%7D%2C%20%7B%22geometry%22%3A%20%7B%22coordinates%22%3A%20%5B-76.12762753744859%2C%20-13.540187057566474%5D%2C%20%22type%22%3A%20%22Point%22%7D%2C%20%22id%22%3A%20%222_5%22%2C%20%22properties%22%3A%20%7B%22class%22%3A%204%2C%20%22highlight%22%3A%20%7B%7D%2C%20%22style%22%3A%20%7B%7D%7D%2C%20%22type%22%3A%20%22Feature%22%7D%2C%20%7B%22geometry%22%3A%20%7B%22coordinates%22%3A%20%5B-76.146252796848%2C%20-13.555457021641763%5D%2C%20%22type%22%3A%20%22Point%22%7D%2C%20%22id%22%3A%20%222_6%22%2C%20%22properties%22%3A%20%7B%22class%22%3A%204%2C%20%22highlight%22%3A%20%7B%7D%2C%20%22style%22%3A%20%7B%7D%7D%2C%20%22type%22%3A%20%22Feature%22%7D%2C%20%7B%22geometry%22%3A%20%7B%22coordinates%22%3A%20%5B-76.1175424315526%2C%20-13.565636452681545%5D%2C%20%22type%22%3A%20%22Point%22%7D%2C%20%22id%22%3A%20%222_7%22%2C%20%22properties%22%3A%20%7B%22class%22%3A%204%2C%20%22highlight%22%3A%20%7B%7D%2C%20%22style%22%3A%20%7B%7D%7D%2C%20%22type%22%3A%20%22Feature%22%7D%2C%20%7B%22geometry%22%3A%20%7B%22coordinates%22%3A%20%5B-76.13058869620103%2C%20-13.568681853406785%5D%2C%20%22type%22%3A%20%22Point%22%7D%2C%20%22id%22%3A%20%222_8%22%2C%20%22properties%22%3A%20%7B%22class%22%3A%204%2C%20%22highlight%22%3A%20%7B%7D%2C%20%22style%22%3A%20%7B%7D%7D%2C%20%22type%22%3A%20%22Feature%22%7D%2C%20%7B%22geometry%22%3A%20%7B%22coordinates%22%3A%20%5B-76.15595166464585%2C%20-13.563675694558972%5D%2C%20%22type%22%3A%20%22Point%22%7D%2C%20%22id%22%3A%20%222_9%22%2C%20%22properties%22%3A%20%7B%22class%22%3A%204%2C%20%22highlight%22%3A%20%7B%7D%2C%20%22style%22%3A%20%7B%7D%7D%2C%20%22type%22%3A%20%22Feature%22%7D%2C%20%7B%22geometry%22%3A%20%7B%22coordinates%22%3A%20%5B-76.06257025307376%2C%20-13.526206914909006%5D%2C%20%22type%22%3A%20%22Point%22%7D%2C%20%22id%22%3A%20%222_10%22%2C%20%22properties%22%3A%20%7B%22class%22%3A%204%2C%20%22highlight%22%3A%20%7B%7D%2C%20%22style%22%3A%20%7B%7D%7D%2C%20%22type%22%3A%20%22Feature%22%7D%2C%20%7B%22geometry%22%3A%20%7B%22coordinates%22%3A%20%5B-76.07116438990379%2C%20-13.514607184706003%5D%2C%20%22type%22%3A%20%22Point%22%7D%2C%20%22id%22%3A%20%222_11%22%2C%20%22properties%22%3A%20%7B%22class%22%3A%204%2C%20%22highlight%22%3A%20%7B%7D%2C%20%22style%22%3A%20%7B%7D%7D%2C%20%22type%22%3A%20%22Feature%22%7D%2C%20%7B%22geometry%22%3A%20%7B%22coordinates%22%3A%20%5B-76.06765844881456%2C%20-13.507190952511266%5D%2C%20%22type%22%3A%20%22Point%22%7D%2C%20%22id%22%3A%20%222_12%22%2C%20%22properties%22%3A%20%7B%22class%22%3A%204%2C%20%22highlight%22%3A%20%7B%7D%2C%20%22style%22%3A%20%7B%7D%7D%2C%20%22type%22%3A%20%22Feature%22%7D%2C%20%7B%22geometry%22%3A%20%7B%22coordinates%22%3A%20%5B-76.06249913739491%2C%20-13.496979616338484%5D%2C%20%22type%22%3A%20%22Point%22%7D%2C%20%22id%22%3A%20%222_13%22%2C%20%22properties%22%3A%20%7B%22class%22%3A%204%2C%20%22highlight%22%3A%20%7B%7D%2C%20%22style%22%3A%20%7B%7D%7D%2C%20%22type%22%3A%20%22Feature%22%7D%2C%20%7B%22geometry%22%3A%20%7B%22coordinates%22%3A%20%5B-76.03932485150624%2C%20-13.483604738981146%5D%2C%20%22type%22%3A%20%22Point%22%7D%2C%20%22id%22%3A%20%222_14%22%2C%20%22properties%22%3A%20%7B%22class%22%3A%204%2C%20%22highlight%22%3A%20%7B%7D%2C%20%22style%22%3A%20%7B%7D%7D%2C%20%22type%22%3A%20%22Feature%22%7D%2C%20%7B%22geometry%22%3A%20%7B%22coordinates%22%3A%20%5B-76.05001077222157%2C%20-13.486359065131227%5D%2C%20%22type%22%3A%20%22Point%22%7D%2C%20%22id%22%3A%20%222_15%22%2C%20%22properties%22%3A%20%7B%22class%22%3A%204%2C%20%22highlight%22%3A%20%7B%7D%2C%20%22style%22%3A%20%7B%7D%7D%2C%20%22type%22%3A%20%22Feature%22%7D%2C%20%7B%22geometry%22%3A%20%7B%22coordinates%22%3A%20%5B-76.04820832776356%2C%20-13.475383303959685%5D%2C%20%22type%22%3A%20%22Point%22%7D%2C%20%22id%22%3A%20%222_16%22%2C%20%22properties%22%3A%20%7B%22class%22%3A%204%2C%20%22highlight%22%3A%20%7B%7D%2C%20%22style%22%3A%20%7B%7D%7D%2C%20%22type%22%3A%20%22Feature%22%7D%2C%20%7B%22geometry%22%3A%20%7B%22coordinates%22%3A%20%5B-76.06962308453846%2C%20-13.469039668493302%5D%2C%20%22type%22%3A%20%22Point%22%7D%2C%20%22id%22%3A%20%222_17%22%2C%20%22properties%22%3A%20%7B%22class%22%3A%204%2C%20%22highlight%22%3A%20%7B%7D%2C%20%22style%22%3A%20%7B%7D%7D%2C%20%22type%22%3A%20%22Feature%22%7D%2C%20%7B%22geometry%22%3A%20%7B%22coordinates%22%3A%20%5B-76.08005151318837%2C%20-13.476802252020589%5D%2C%20%22type%22%3A%20%22Point%22%7D%2C%20%22id%22%3A%20%222_18%22%2C%20%22properties%22%3A%20%7B%22class%22%3A%204%2C%20%22highlight%22%3A%20%7B%7D%2C%20%22style%22%3A%20%7B%7D%7D%2C%20%22type%22%3A%20%22Feature%22%7D%2C%20%7B%22geometry%22%3A%20%7B%22coordinates%22%3A%20%5B-76.03120893147721%2C%20-13.462797812654347%5D%2C%20%22type%22%3A%20%22Point%22%7D%2C%20%22id%22%3A%20%222_19%22%2C%20%22properties%22%3A%20%7B%22class%22%3A%204%2C%20%22highlight%22%3A%20%7B%7D%2C%20%22style%22%3A%20%7B%7D%7D%2C%20%22type%22%3A%20%22Feature%22%7D%2C%20%7B%22geometry%22%3A%20%7B%22coordinates%22%3A%20%5B-76.06564977334654%2C%20-13.456139571341474%5D%2C%20%22type%22%3A%20%22Point%22%7D%2C%20%22id%22%3A%20%222_20%22%2C%20%22properties%22%3A%20%7B%22class%22%3A%204%2C%20%22highlight%22%3A%20%7B%7D%2C%20%22style%22%3A%20%7B%7D%7D%2C%20%22type%22%3A%20%22Feature%22%7D%2C%20%7B%22geometry%22%3A%20%7B%22coordinates%22%3A%20%5B-76.08105638192808%2C%20-13.452591879086084%5D%2C%20%22type%22%3A%20%22Point%22%7D%2C%20%22id%22%3A%20%222_21%22%2C%20%22properties%22%3A%20%7B%22class%22%3A%204%2C%20%22highlight%22%3A%20%7B%7D%2C%20%22style%22%3A%20%7B%7D%7D%2C%20%22type%22%3A%20%22Feature%22%7D%2C%20%7B%22geometry%22%3A%20%7B%22coordinates%22%3A%20%5B-76.12101056741392%2C%20-13.456849103485833%5D%2C%20%22type%22%3A%20%22Point%22%7D%2C%20%22id%22%3A%20%222_22%22%2C%20%22properties%22%3A%20%7B%22class%22%3A%204%2C%20%22highlight%22%3A%20%7B%7D%2C%20%22style%22%3A%20%7B%7D%7D%2C%20%22type%22%3A%20%22Feature%22%7D%2C%20%7B%22geometry%22%3A%20%7B%22coordinates%22%3A%20%5B-76.09998204873716%2C%20-13.445245902210852%5D%2C%20%22type%22%3A%20%22Point%22%7D%2C%20%22id%22%3A%20%222_23%22%2C%20%22properties%22%3A%20%7B%22class%22%3A%204%2C%20%22highlight%22%3A%20%7B%7D%2C%20%22style%22%3A%20%7B%7D%7D%2C%20%22type%22%3A%20%22Feature%22%7D%2C%20%7B%22geometry%22%3A%20%7B%22coordinates%22%3A%20%5B-76.17044904397642%2C%20-13.457934266228115%5D%2C%20%22type%22%3A%20%22Point%22%7D%2C%20%22id%22%3A%20%222_24%22%2C%20%22properties%22%3A%20%7B%22class%22%3A%204%2C%20%22highlight%22%3A%20%7B%7D%2C%20%22style%22%3A%20%7B%7D%7D%2C%20%22type%22%3A%20%22Feature%22%7D%2C%20%7B%22geometry%22%3A%20%7B%22coordinates%22%3A%20%5B-76.14839055703794%2C%20-13.444411117861641%5D%2C%20%22type%22%3A%20%22Point%22%7D%2C%20%22id%22%3A%20%222_25%22%2C%20%22properties%22%3A%20%7B%22class%22%3A%204%2C%20%22highlight%22%3A%20%7B%7D%2C%20%22style%22%3A%20%7B%7D%7D%2C%20%22type%22%3A%20%22Feature%22%7D%2C%20%7B%22geometry%22%3A%20%7B%22coordinates%22%3A%20%5B-76.10993840860044%2C%20-13.424598952231626%5D%2C%20%22type%22%3A%20%22Point%22%7D%2C%20%22id%22%3A%20%222_26%22%2C%20%22properties%22%3A%20%7B%22class%22%3A%204%2C%20%22highlight%22%3A%20%7B%7D%2C%20%22style%22%3A%20%7B%7D%7D%2C%20%22type%22%3A%20%22Feature%22%7D%2C%20%7B%22geometry%22%3A%20%7B%22coordinates%22%3A%20%5B-76.17765882180845%2C%20-13.39838308231166%5D%2C%20%22type%22%3A%20%22Point%22%7D%2C%20%22id%22%3A%20%222_27%22%2C%20%22properties%22%3A%20%7B%22class%22%3A%204%2C%20%22highlight%22%3A%20%7B%7D%2C%20%22style%22%3A%20%7B%7D%7D%2C%20%22type%22%3A%20%22Feature%22%7D%2C%20%7B%22geometry%22%3A%20%7B%22coordinates%22%3A%20%5B-76.18120916204748%2C%20-13.35827434374201%5D%2C%20%22type%22%3A%20%22Point%22%7D%2C%20%22id%22%3A%20%222_28%22%2C%20%22properties%22%3A%20%7B%22class%22%3A%204%2C%20%22highlight%22%3A%20%7B%7D%2C%20%22style%22%3A%20%7B%7D%7D%2C%20%22type%22%3A%20%22Feature%22%7D%2C%20%7B%22geometry%22%3A%20%7B%22coordinates%22%3A%20%5B-76.18901975469885%2C%20-13.343826943139966%5D%2C%20%22type%22%3A%20%22Point%22%7D%2C%20%22id%22%3A%20%222_29%22%2C%20%22properties%22%3A%20%7B%22class%22%3A%204%2C%20%22highlight%22%3A%20%7B%7D%2C%20%22style%22%3A%20%7B%7D%7D%2C%20%22type%22%3A%20%22Feature%22%7D%2C%20%7B%22geometry%22%3A%20%7B%22coordinates%22%3A%20%5B-76.08138807134924%2C%20-13.426173056836728%5D%2C%20%22type%22%3A%20%22Point%22%7D%2C%20%22id%22%3A%20%222_30%22%2C%20%22properties%22%3A%20%7B%22class%22%3A%204%2C%20%22highlight%22%3A%20%7B%7D%2C%20%22style%22%3A%20%7B%7D%7D%2C%20%22type%22%3A%20%22Feature%22%7D%2C%20%7B%22geometry%22%3A%20%7B%22coordinates%22%3A%20%5B-76.1276976734633%2C%20-13.493285539193698%5D%2C%20%22type%22%3A%20%22Point%22%7D%2C%20%22id%22%3A%20%222_31%22%2C%20%22properties%22%3A%20%7B%22class%22%3A%204%2C%20%22highlight%22%3A%20%7B%7D%2C%20%22style%22%3A%20%7B%7D%7D%2C%20%22type%22%3A%20%22Feature%22%7D%2C%20%7B%22geometry%22%3A%20%7B%22coordinates%22%3A%20%5B-76.15456267895647%2C%20-13.500045827184273%5D%2C%20%22type%22%3A%20%22Point%22%7D%2C%20%22id%22%3A%20%222_32%22%2C%20%22properties%22%3A%20%7B%22class%22%3A%204%2C%20%22highlight%22%3A%20%7B%7D%2C%20%22style%22%3A%20%7B%7D%7D%2C%20%22type%22%3A%20%22Feature%22%7D%2C%20%7B%22geometry%22%3A%20%7B%22coordinates%22%3A%20%5B-76.1793677479262%2C%20-13.51147945863916%5D%2C%20%22type%22%3A%20%22Point%22%7D%2C%20%22id%22%3A%20%222_33%22%2C%20%22properties%22%3A%20%7B%22class%22%3A%204%2C%20%22highlight%22%3A%20%7B%7D%2C%20%22style%22%3A%20%7B%7D%7D%2C%20%22type%22%3A%20%22Feature%22%7D%2C%20%7B%22geometry%22%3A%20%7B%22coordinates%22%3A%20%5B-76.169068065309%2C%20-13.487276233626135%5D%2C%20%22type%22%3A%20%22Point%22%7D%2C%20%22id%22%3A%20%222_34%22%2C%20%22properties%22%3A%20%7B%22class%22%3A%204%2C%20%22highlight%22%3A%20%7B%7D%2C%20%22style%22%3A%20%7B%7D%7D%2C%20%22type%22%3A%20%22Feature%22%7D%2C%20%7B%22geometry%22%3A%20%7B%22coordinates%22%3A%20%5B-76.16005584301897%2C%20-13.524748460318634%5D%2C%20%22type%22%3A%20%22Point%22%7D%2C%20%22id%22%3A%20%222_35%22%2C%20%22properties%22%3A%20%7B%22class%22%3A%204%2C%20%22highlight%22%3A%20%7B%7D%2C%20%22style%22%3A%20%7B%7D%7D%2C%20%22type%22%3A%20%22Feature%22%7D%2C%20%7B%22geometry%22%3A%20%7B%22coordinates%22%3A%20%5B-76.17318793835588%2C%20-13.540353195681673%5D%2C%20%22type%22%3A%20%22Point%22%7D%2C%20%22id%22%3A%20%222_36%22%2C%20%22properties%22%3A%20%7B%22class%22%3A%204%2C%20%22highlight%22%3A%20%7B%7D%2C%20%22style%22%3A%20%7B%7D%7D%2C%20%22type%22%3A%20%22Feature%22%7D%2C%20%7B%22geometry%22%3A%20%7B%22coordinates%22%3A%20%5B-76.16554900708147%2C%20-13.557876009999442%5D%2C%20%22type%22%3A%20%22Point%22%7D%2C%20%22id%22%3A%20%222_37%22%2C%20%22properties%22%3A%20%7B%22class%22%3A%204%2C%20%22highlight%22%3A%20%7B%7D%2C%20%22style%22%3A%20%7B%7D%7D%2C%20%22type%22%3A%20%22Feature%22%7D%2C%20%7B%22geometry%22%3A%20%7B%22coordinates%22%3A%20%5B-76.09173083704663%2C%20-13.518776163711808%5D%2C%20%22type%22%3A%20%22Point%22%7D%2C%20%22id%22%3A%20%222_38%22%2C%20%22properties%22%3A%20%7B%22class%22%3A%204%2C%20%22highlight%22%3A%20%7B%7D%2C%20%22style%22%3A%20%7B%7D%7D%2C%20%22type%22%3A%20%22Feature%22%7D%2C%20%7B%22geometry%22%3A%20%7B%22coordinates%22%3A%20%5B-76.14631915491772%2C%20-13.540222518667973%5D%2C%20%22type%22%3A%20%22Point%22%7D%2C%20%22id%22%3A%20%222_39%22%2C%20%22properties%22%3A%20%7B%22class%22%3A%204%2C%20%22highlight%22%3A%20%7B%7D%2C%20%22style%22%3A%20%7B%7D%7D%2C%20%22type%22%3A%20%22Feature%22%7D%5D%2C%20%22type%22%3A%20%22FeatureCollection%22%7D%2C%0A%20%20%20%20%20%20%20%20%20%20%20%20%7B%0A%20%20%20%20%20%20%20%20%20%20%20%20%7D%0A%20%20%20%20%20%20%20%20%29.addTo%28map_4c916749d092467a858b901af8a78f0d%20%29%3B%0A%20%20%20%20%20%20%20%20geo_json_9712bbe1df31416b8318cc50fc8148e9.setStyle%28function%28feature%29%20%7Breturn%20feature.properties.style%3B%7D%29%3B%0A%20%20%20%20%20%20%20%20%0A%20%20%20%20var%20tile_layer_f64d947151834ef4960cbbeb0cd171b7%20%3D%20L.tileLayer%28%0A%20%20%20%20%20%20%20%20%27https%3A//earthengine.googleapis.com/v1alpha/projects/earthengine-legacy/maps/5dab76eaf59610259874b024904b1ea5-8f248aa35021922c2e52a2c222ed9d21/tiles/%7Bz%7D/%7Bx%7D/%7By%7D%27%2C%0A%20%20%20%20%20%20%20%20%7B%0A%20%20%20%20%20%20%20%20%22attribution%22%3A%20%22Google%20Earth%20Engine%22%2C%0A%20%20%20%20%20%20%20%20%22detectRetina%22%3A%20false%2C%0A%20%20%20%20%20%20%20%20%22maxNativeZoom%22%3A%2018%2C%0A%20%20%20%20%20%20%20%20%22maxZoom%22%3A%2018%2C%0A%20%20%20%20%20%20%20%20%22minZoom%22%3A%200%2C%0A%20%20%20%20%20%20%20%20%22noWrap%22%3A%20false%2C%0A%20%20%20%20%20%20%20%20%22opacity%22%3A%201%2C%0A%20%20%20%20%20%20%20%20%22subdomains%22%3A%20%22abc%22%2C%0A%20%20%20%20%20%20%20%20%22tms%22%3A%20false%0A%7D%29.addTo%28map_4c916749d092467a858b901af8a78f0d%29%3B%0A%20%20%20%20%0A%0A%20%20%20%20%20%20%20%20var%20tile_layer_d5713c59bdd84c4fba4dbdee3c7641d0%20%3D%20L.tileLayer%28%0A%20%20%20%20%20%20%20%20%27https%3A//%7Bs%7D.tile.openstreetmap.org/%7Bz%7D/%7Bx%7D/%7By%7D.png%27%2C%0A%20%20%20%20%20%20%20%20%7B%0A%20%20%20%20%20%20%20%20%22attribution%22%3A%20null%2C%0A%20%20%20%20%20%20%20%20%22detectRetina%22%3A%20false%2C%0A%20%20%20%20%20%20%20%20%22maxNativeZoom%22%3A%2018%2C%0A%20%20%20%20%20%20%20%20%22maxZoom%22%3A%2018%2C%0A%20%20%20%20%20%20%20%20%22minZoom%22%3A%200%2C%0A%20%20%20%20%20%20%20%20%22noWrap%22%3A%20false%2C%0A%20%20%20%20%20%20%20%20%22opacity%22%3A%201%2C%0A%20%20%20%20%20%20%20%20%22subdomains%22%3A%20%22abc%22%2C%0A%20%20%20%20%20%20%20%20%22tms%22%3A%20false%0A%7D%20%29%3B%0A%0A%20%20%20%20%20%20%20%20var%20mini_map_428fd0f4b4fd4d319251e939ba606bbb%20%3D%20new%20L.Control.MiniMap%28%20tile_layer_d5713c59bdd84c4fba4dbdee3c7641d0%2C%0A%20%20%20%20%20%20%20%20%20%7B%0A%20%20%22autoToggleDisplay%22%3A%20false%2C%0A%20%20%22centerFixed%22%3A%20false%2C%0A%20%20%22collapsedHeight%22%3A%2025%2C%0A%20%20%22collapsedWidth%22%3A%2025%2C%0A%20%20%22height%22%3A%20150%2C%0A%20%20%22minimized%22%3A%20false%2C%0A%20%20%22position%22%3A%20%22bottomright%22%2C%0A%20%20%22toggleDisplay%22%3A%20false%2C%0A%20%20%22width%22%3A%20150%2C%0A%20%20%22zoomAnimation%22%3A%20false%2C%0A%20%20%22zoomLevelFixed%22%3A%207%2C%0A%20%20%22zoomLevelOffset%22%3A%20-5%0A%7D%29%3B%0A%20%20%20%20%20%20%20%20map_4c916749d092467a858b901af8a78f0d.addControl%28mini_map_428fd0f4b4fd4d319251e939ba606bbb%29%3B%0A%0A%20%20%20%20%20%20%20%20%0A%20%20%20%20%0A%20%20%20%20%20%20%20%20%20%20%20%20var%20layer_control_b1ce0e46e79b4d298a691624b92d9049%20%3D%20%7B%0A%20%20%20%20%20%20%20%20%20%20%20%20%20%20%20%20base_layers%20%3A%20%7B%20%22openstreetmap%22%20%3A%20tile_layer_6154d5002aab4b248def8fe4b662331c%2C%20%7D%2C%0A%20%20%20%20%20%20%20%20%20%20%20%20%20%20%20%20overlays%20%3A%20%7B%20%22train_dataset%22%20%3A%20geo_json_9712bbe1df31416b8318cc50fc8148e9%2C%22img%22%20%3A%20tile_layer_f64d947151834ef4960cbbeb0cd171b7%2C%20%7D%0A%20%20%20%20%20%20%20%20%20%20%20%20%20%20%20%20%7D%3B%0A%20%20%20%20%20%20%20%20%20%20%20%20L.control.layers%28%0A%20%20%20%20%20%20%20%20%20%20%20%20%20%20%20%20layer_control_b1ce0e46e79b4d298a691624b92d9049.base_layers%2C%0A%20%20%20%20%20%20%20%20%20%20%20%20%20%20%20%20layer_control_b1ce0e46e79b4d298a691624b92d9049.overlays%2C%0A%20%20%20%20%20%20%20%20%20%20%20%20%20%20%20%20%7Bposition%3A%20%27topright%27%2C%0A%20%20%20%20%20%20%20%20%20%20%20%20%20%20%20%20%20collapsed%3A%20true%2C%0A%20%20%20%20%20%20%20%20%20%20%20%20%20%20%20%20%20autoZIndex%3A%20true%0A%20%20%20%20%20%20%20%20%20%20%20%20%20%20%20%20%7D%29.addTo%28map_4c916749d092467a858b901af8a78f0d%29%3B%0A%20%20%20%20%20%20%20%20%20%20%20%20%0A%20%20%20%20%20%20%20%20%0A%3C/script%3E onload=\"this.contentDocument.open();this.contentDocument.write(    decodeURIComponent(this.getAttribute('data-html')));this.contentDocument.close();\" allowfullscreen webkitallowfullscreen mozallowfullscreen></iframe></div></div>"
            ],
            "text/plain": [
              "<folium.folium.Map at 0x7f221230da10>"
            ]
          },
          "metadata": {
            "tags": []
          },
          "execution_count": 33
        }
      ]
    },
    {
      "cell_type": "markdown",
      "metadata": {
        "id": "zt9JKqSYgKBQ"
      },
      "source": [
        "##### Entrenamiento: Áboles de decisión (CART)"
      ]
    },
    {
      "cell_type": "markdown",
      "metadata": {
        "id": "bBAFnWVXR73T"
      },
      "source": [
        "Deprecated classifiers: https://groups.google.com/g/google-earthengine-announce/c/rCu4FP_Cn08/m/DqC192X9BAAJ"
      ]
    },
    {
      "cell_type": "code",
      "metadata": {
        "id": "WKfWC6_UgLhj",
        "colab": {
          "base_uri": "https://localhost:8080/",
          "height": 854
        },
        "outputId": "3998cf8b-f2a6-446d-82eb-a012c5eae936"
      },
      "source": [
        "# Bandas para prediccion\n",
        "bands = img.bandNames().getInfo()\n",
        "\n",
        "# Esta propiedad de la tabla almacena el target (cobertura del suelo).\n",
        "label = 'class' # OJO: puedes poner landcover si en el editor pusiste de nombre landcover en lugar de class\n",
        "\n",
        "# Superponga los puntos en las imagenes para obtener los datos de entrenamiento.\n",
        "training = img.select(bands).sampleRegions(\n",
        "  collection = classes,\n",
        "  properties = [label],\n",
        "  scale = 10)\n",
        "\n",
        "# Entrena un clasificador CART con parámetros predeterminados.\n",
        "trained = ee.Classifier.smileCart().train(training, label, bands)\n",
        "\n",
        "# Clasifique la imagen con las mismas bandas utilizadas para el entrenamiento.\n",
        "classified = img.select(bands).classify(trained)\n",
        "\n",
        "mapdisplay(center,{\n",
        "    # 'train_dataset': classes.getInfo(),\n",
        "                   'image':img.divide(10000).getMapId({'min':0.0, 'max':0.3,'bands':['B4','B3','B2']}),\n",
        "                   'clasificacion':classified.getMapId({'min': 0, 'max': 4, 'palette': ['#0c2bd6', '#3b8b00', '#d63000', '#c5b03a','#1de6ff']})}, zoom_start=12)"
      ],
      "execution_count": null,
      "outputs": [
        {
          "output_type": "execute_result",
          "data": {
            "text/html": [
              "<div style=\"width:100%;\"><div style=\"position:relative;width:100%;height:0;padding-bottom:60%;\"><span style=\"color:#565656\">Make this Notebook Trusted to load map: File -> Trust Notebook</span><iframe src=\"about:blank\" style=\"position:absolute;width:100%;height:100%;left:0;top:0;border:none !important;\" data-html=%3C%21DOCTYPE%20html%3E%0A%3Chead%3E%20%20%20%20%0A%20%20%20%20%3Cmeta%20http-equiv%3D%22content-type%22%20content%3D%22text/html%3B%20charset%3DUTF-8%22%20/%3E%0A%20%20%20%20%3Cscript%3EL_PREFER_CANVAS%3Dfalse%3B%20L_NO_TOUCH%3Dfalse%3B%20L_DISABLE_3D%3Dfalse%3B%3C/script%3E%0A%20%20%20%20%3Cscript%20src%3D%22https%3A//cdn.jsdelivr.net/npm/leaflet%401.4.0/dist/leaflet.js%22%3E%3C/script%3E%0A%20%20%20%20%3Cscript%20src%3D%22https%3A//code.jquery.com/jquery-1.12.4.min.js%22%3E%3C/script%3E%0A%20%20%20%20%3Cscript%20src%3D%22https%3A//maxcdn.bootstrapcdn.com/bootstrap/3.2.0/js/bootstrap.min.js%22%3E%3C/script%3E%0A%20%20%20%20%3Cscript%20src%3D%22https%3A//cdnjs.cloudflare.com/ajax/libs/Leaflet.awesome-markers/2.0.2/leaflet.awesome-markers.js%22%3E%3C/script%3E%0A%20%20%20%20%3Clink%20rel%3D%22stylesheet%22%20href%3D%22https%3A//cdn.jsdelivr.net/npm/leaflet%401.4.0/dist/leaflet.css%22/%3E%0A%20%20%20%20%3Clink%20rel%3D%22stylesheet%22%20href%3D%22https%3A//maxcdn.bootstrapcdn.com/bootstrap/3.2.0/css/bootstrap.min.css%22/%3E%0A%20%20%20%20%3Clink%20rel%3D%22stylesheet%22%20href%3D%22https%3A//maxcdn.bootstrapcdn.com/bootstrap/3.2.0/css/bootstrap-theme.min.css%22/%3E%0A%20%20%20%20%3Clink%20rel%3D%22stylesheet%22%20href%3D%22https%3A//maxcdn.bootstrapcdn.com/font-awesome/4.6.3/css/font-awesome.min.css%22/%3E%0A%20%20%20%20%3Clink%20rel%3D%22stylesheet%22%20href%3D%22https%3A//cdnjs.cloudflare.com/ajax/libs/Leaflet.awesome-markers/2.0.2/leaflet.awesome-markers.css%22/%3E%0A%20%20%20%20%3Clink%20rel%3D%22stylesheet%22%20href%3D%22https%3A//rawcdn.githack.com/python-visualization/folium/master/folium/templates/leaflet.awesome.rotate.css%22/%3E%0A%20%20%20%20%3Cstyle%3Ehtml%2C%20body%20%7Bwidth%3A%20100%25%3Bheight%3A%20100%25%3Bmargin%3A%200%3Bpadding%3A%200%3B%7D%3C/style%3E%0A%20%20%20%20%3Cstyle%3E%23map%20%7Bposition%3Aabsolute%3Btop%3A0%3Bbottom%3A0%3Bright%3A0%3Bleft%3A0%3B%7D%3C/style%3E%0A%20%20%20%20%0A%20%20%20%20%3Cmeta%20name%3D%22viewport%22%20content%3D%22width%3Ddevice-width%2C%0A%20%20%20%20%20%20%20%20initial-scale%3D1.0%2C%20maximum-scale%3D1.0%2C%20user-scalable%3Dno%22%20/%3E%0A%20%20%20%20%3Cstyle%3E%23map_dda0c3a5b218477f80d499e8804f66ff%20%7B%0A%20%20%20%20%20%20%20%20position%3A%20relative%3B%0A%20%20%20%20%20%20%20%20width%3A%20100.0%25%3B%0A%20%20%20%20%20%20%20%20height%3A%20100.0%25%3B%0A%20%20%20%20%20%20%20%20left%3A%200.0%25%3B%0A%20%20%20%20%20%20%20%20top%3A%200.0%25%3B%0A%20%20%20%20%20%20%20%20%7D%0A%20%20%20%20%3C/style%3E%0A%20%20%20%20%3Cscript%20src%3D%22https%3A//cdnjs.cloudflare.com/ajax/libs/leaflet-minimap/3.6.1/Control.MiniMap.js%22%3E%3C/script%3E%0A%20%20%20%20%3Clink%20rel%3D%22stylesheet%22%20href%3D%22https%3A//cdnjs.cloudflare.com/ajax/libs/leaflet-minimap/3.6.1/Control.MiniMap.css%22/%3E%0A%3C/head%3E%0A%3Cbody%3E%20%20%20%20%0A%20%20%20%20%0A%20%20%20%20%3Cdiv%20class%3D%22folium-map%22%20id%3D%22map_dda0c3a5b218477f80d499e8804f66ff%22%20%3E%3C/div%3E%0A%3C/body%3E%0A%3Cscript%3E%20%20%20%20%0A%20%20%20%20%0A%20%20%20%20%0A%20%20%20%20%20%20%20%20var%20bounds%20%3D%20null%3B%0A%20%20%20%20%0A%0A%20%20%20%20var%20map_dda0c3a5b218477f80d499e8804f66ff%20%3D%20L.map%28%0A%20%20%20%20%20%20%20%20%27map_dda0c3a5b218477f80d499e8804f66ff%27%2C%20%7B%0A%20%20%20%20%20%20%20%20center%3A%20%5B-13.463064657796066%2C%20-76.12603010124573%5D%2C%0A%20%20%20%20%20%20%20%20zoom%3A%2012%2C%0A%20%20%20%20%20%20%20%20maxBounds%3A%20bounds%2C%0A%20%20%20%20%20%20%20%20layers%3A%20%5B%5D%2C%0A%20%20%20%20%20%20%20%20worldCopyJump%3A%20false%2C%0A%20%20%20%20%20%20%20%20crs%3A%20L.CRS.EPSG3857%2C%0A%20%20%20%20%20%20%20%20zoomControl%3A%20true%2C%0A%20%20%20%20%20%20%20%20%7D%29%3B%0AL.control.scale%28%29.addTo%28map_dda0c3a5b218477f80d499e8804f66ff%29%3B%0A%0A%20%20%20%20%0A%20%20%20%20var%20tile_layer_8d364cd928d848e2b07870df92bdce4e%20%3D%20L.tileLayer%28%0A%20%20%20%20%20%20%20%20%27https%3A//%7Bs%7D.tile.openstreetmap.org/%7Bz%7D/%7Bx%7D/%7By%7D.png%27%2C%0A%20%20%20%20%20%20%20%20%7B%0A%20%20%20%20%20%20%20%20%22attribution%22%3A%20null%2C%0A%20%20%20%20%20%20%20%20%22detectRetina%22%3A%20false%2C%0A%20%20%20%20%20%20%20%20%22maxNativeZoom%22%3A%2018%2C%0A%20%20%20%20%20%20%20%20%22maxZoom%22%3A%2018%2C%0A%20%20%20%20%20%20%20%20%22minZoom%22%3A%200%2C%0A%20%20%20%20%20%20%20%20%22noWrap%22%3A%20false%2C%0A%20%20%20%20%20%20%20%20%22opacity%22%3A%201%2C%0A%20%20%20%20%20%20%20%20%22subdomains%22%3A%20%22abc%22%2C%0A%20%20%20%20%20%20%20%20%22tms%22%3A%20false%0A%7D%29.addTo%28map_dda0c3a5b218477f80d499e8804f66ff%29%3B%0A%20%20%20%20var%20tile_layer_5ed36fc07f5b47adb5ae11cbe6f9bf32%20%3D%20L.tileLayer%28%0A%20%20%20%20%20%20%20%20%27https%3A//earthengine.googleapis.com/v1alpha/projects/earthengine-legacy/maps/5dab76eaf59610259874b024904b1ea5-ac0dc830ea360cc8141adbd922fafd69/tiles/%7Bz%7D/%7Bx%7D/%7By%7D%27%2C%0A%20%20%20%20%20%20%20%20%7B%0A%20%20%20%20%20%20%20%20%22attribution%22%3A%20%22Google%20Earth%20Engine%22%2C%0A%20%20%20%20%20%20%20%20%22detectRetina%22%3A%20false%2C%0A%20%20%20%20%20%20%20%20%22maxNativeZoom%22%3A%2018%2C%0A%20%20%20%20%20%20%20%20%22maxZoom%22%3A%2018%2C%0A%20%20%20%20%20%20%20%20%22minZoom%22%3A%200%2C%0A%20%20%20%20%20%20%20%20%22noWrap%22%3A%20false%2C%0A%20%20%20%20%20%20%20%20%22opacity%22%3A%201%2C%0A%20%20%20%20%20%20%20%20%22subdomains%22%3A%20%22abc%22%2C%0A%20%20%20%20%20%20%20%20%22tms%22%3A%20false%0A%7D%29.addTo%28map_dda0c3a5b218477f80d499e8804f66ff%29%3B%0A%20%20%20%20var%20tile_layer_50d1445372294dc9b62157eed4d634f0%20%3D%20L.tileLayer%28%0A%20%20%20%20%20%20%20%20%27https%3A//earthengine.googleapis.com/v1alpha/projects/earthengine-legacy/maps/d5bcdcccdd28416c56c4e57c44deebba-db5a7498b7baf44507a148cd146d2240/tiles/%7Bz%7D/%7Bx%7D/%7By%7D%27%2C%0A%20%20%20%20%20%20%20%20%7B%0A%20%20%20%20%20%20%20%20%22attribution%22%3A%20%22Google%20Earth%20Engine%22%2C%0A%20%20%20%20%20%20%20%20%22detectRetina%22%3A%20false%2C%0A%20%20%20%20%20%20%20%20%22maxNativeZoom%22%3A%2018%2C%0A%20%20%20%20%20%20%20%20%22maxZoom%22%3A%2018%2C%0A%20%20%20%20%20%20%20%20%22minZoom%22%3A%200%2C%0A%20%20%20%20%20%20%20%20%22noWrap%22%3A%20false%2C%0A%20%20%20%20%20%20%20%20%22opacity%22%3A%201%2C%0A%20%20%20%20%20%20%20%20%22subdomains%22%3A%20%22abc%22%2C%0A%20%20%20%20%20%20%20%20%22tms%22%3A%20false%0A%7D%29.addTo%28map_dda0c3a5b218477f80d499e8804f66ff%29%3B%0A%20%20%20%20%0A%0A%20%20%20%20%20%20%20%20var%20tile_layer_16d0e672784f4fb691e51a5aaae10fbf%20%3D%20L.tileLayer%28%0A%20%20%20%20%20%20%20%20%27https%3A//%7Bs%7D.tile.openstreetmap.org/%7Bz%7D/%7Bx%7D/%7By%7D.png%27%2C%0A%20%20%20%20%20%20%20%20%7B%0A%20%20%20%20%20%20%20%20%22attribution%22%3A%20null%2C%0A%20%20%20%20%20%20%20%20%22detectRetina%22%3A%20false%2C%0A%20%20%20%20%20%20%20%20%22maxNativeZoom%22%3A%2018%2C%0A%20%20%20%20%20%20%20%20%22maxZoom%22%3A%2018%2C%0A%20%20%20%20%20%20%20%20%22minZoom%22%3A%200%2C%0A%20%20%20%20%20%20%20%20%22noWrap%22%3A%20false%2C%0A%20%20%20%20%20%20%20%20%22opacity%22%3A%201%2C%0A%20%20%20%20%20%20%20%20%22subdomains%22%3A%20%22abc%22%2C%0A%20%20%20%20%20%20%20%20%22tms%22%3A%20false%0A%7D%20%29%3B%0A%0A%20%20%20%20%20%20%20%20var%20mini_map_dfe8e9768d3447db8677595bee7b6f50%20%3D%20new%20L.Control.MiniMap%28%20tile_layer_16d0e672784f4fb691e51a5aaae10fbf%2C%0A%20%20%20%20%20%20%20%20%20%7B%0A%20%20%22autoToggleDisplay%22%3A%20false%2C%0A%20%20%22centerFixed%22%3A%20false%2C%0A%20%20%22collapsedHeight%22%3A%2025%2C%0A%20%20%22collapsedWidth%22%3A%2025%2C%0A%20%20%22height%22%3A%20150%2C%0A%20%20%22minimized%22%3A%20false%2C%0A%20%20%22position%22%3A%20%22bottomright%22%2C%0A%20%20%22toggleDisplay%22%3A%20false%2C%0A%20%20%22width%22%3A%20150%2C%0A%20%20%22zoomAnimation%22%3A%20false%2C%0A%20%20%22zoomLevelFixed%22%3A%207%2C%0A%20%20%22zoomLevelOffset%22%3A%20-5%0A%7D%29%3B%0A%20%20%20%20%20%20%20%20map_dda0c3a5b218477f80d499e8804f66ff.addControl%28mini_map_dfe8e9768d3447db8677595bee7b6f50%29%3B%0A%0A%20%20%20%20%20%20%20%20%0A%20%20%20%20%0A%20%20%20%20%20%20%20%20%20%20%20%20var%20layer_control_811b55c22e95477da882a917802c6bd6%20%3D%20%7B%0A%20%20%20%20%20%20%20%20%20%20%20%20%20%20%20%20base_layers%20%3A%20%7B%20%22openstreetmap%22%20%3A%20tile_layer_8d364cd928d848e2b07870df92bdce4e%2C%20%7D%2C%0A%20%20%20%20%20%20%20%20%20%20%20%20%20%20%20%20overlays%20%3A%20%7B%20%22image%22%20%3A%20tile_layer_5ed36fc07f5b47adb5ae11cbe6f9bf32%2C%22clasificacion%22%20%3A%20tile_layer_50d1445372294dc9b62157eed4d634f0%2C%20%7D%0A%20%20%20%20%20%20%20%20%20%20%20%20%20%20%20%20%7D%3B%0A%20%20%20%20%20%20%20%20%20%20%20%20L.control.layers%28%0A%20%20%20%20%20%20%20%20%20%20%20%20%20%20%20%20layer_control_811b55c22e95477da882a917802c6bd6.base_layers%2C%0A%20%20%20%20%20%20%20%20%20%20%20%20%20%20%20%20layer_control_811b55c22e95477da882a917802c6bd6.overlays%2C%0A%20%20%20%20%20%20%20%20%20%20%20%20%20%20%20%20%7Bposition%3A%20%27topright%27%2C%0A%20%20%20%20%20%20%20%20%20%20%20%20%20%20%20%20%20collapsed%3A%20true%2C%0A%20%20%20%20%20%20%20%20%20%20%20%20%20%20%20%20%20autoZIndex%3A%20true%0A%20%20%20%20%20%20%20%20%20%20%20%20%20%20%20%20%7D%29.addTo%28map_dda0c3a5b218477f80d499e8804f66ff%29%3B%0A%20%20%20%20%20%20%20%20%20%20%20%20%0A%20%20%20%20%20%20%20%20%0A%3C/script%3E onload=\"this.contentDocument.open();this.contentDocument.write(    decodeURIComponent(this.getAttribute('data-html')));this.contentDocument.close();\" allowfullscreen webkitallowfullscreen mozallowfullscreen></iframe></div></div>"
            ],
            "text/plain": [
              "<folium.folium.Map at 0x7f221045aed0>"
            ]
          },
          "metadata": {
            "tags": []
          },
          "execution_count": 45
        }
      ]
    },
    {
      "cell_type": "code",
      "metadata": {
        "colab": {
          "base_uri": "https://localhost:8080/",
          "height": 854
        },
        "id": "w5fguj9BSbzk",
        "outputId": "324ffe34-5914-428d-bf0b-28becf53d4f5"
      },
      "source": [
        "cart_result = mapViz\n",
        "cart_result"
      ],
      "execution_count": null,
      "outputs": [
        {
          "output_type": "execute_result",
          "data": {
            "text/html": [
              "<div style=\"width:100%;\"><div style=\"position:relative;width:100%;height:0;padding-bottom:60%;\"><span style=\"color:#565656\">Make this Notebook Trusted to load map: File -> Trust Notebook</span><iframe src=\"about:blank\" style=\"position:absolute;width:100%;height:100%;left:0;top:0;border:none !important;\" data-html=%3C%21DOCTYPE%20html%3E%0A%3Chead%3E%20%20%20%20%0A%20%20%20%20%3Cmeta%20http-equiv%3D%22content-type%22%20content%3D%22text/html%3B%20charset%3DUTF-8%22%20/%3E%0A%20%20%20%20%3Cscript%3EL_PREFER_CANVAS%3Dfalse%3B%20L_NO_TOUCH%3Dfalse%3B%20L_DISABLE_3D%3Dfalse%3B%3C/script%3E%0A%20%20%20%20%3Cscript%20src%3D%22https%3A//cdn.jsdelivr.net/npm/leaflet%401.4.0/dist/leaflet.js%22%3E%3C/script%3E%0A%20%20%20%20%3Cscript%20src%3D%22https%3A//code.jquery.com/jquery-1.12.4.min.js%22%3E%3C/script%3E%0A%20%20%20%20%3Cscript%20src%3D%22https%3A//maxcdn.bootstrapcdn.com/bootstrap/3.2.0/js/bootstrap.min.js%22%3E%3C/script%3E%0A%20%20%20%20%3Cscript%20src%3D%22https%3A//cdnjs.cloudflare.com/ajax/libs/Leaflet.awesome-markers/2.0.2/leaflet.awesome-markers.js%22%3E%3C/script%3E%0A%20%20%20%20%3Clink%20rel%3D%22stylesheet%22%20href%3D%22https%3A//cdn.jsdelivr.net/npm/leaflet%401.4.0/dist/leaflet.css%22/%3E%0A%20%20%20%20%3Clink%20rel%3D%22stylesheet%22%20href%3D%22https%3A//maxcdn.bootstrapcdn.com/bootstrap/3.2.0/css/bootstrap.min.css%22/%3E%0A%20%20%20%20%3Clink%20rel%3D%22stylesheet%22%20href%3D%22https%3A//maxcdn.bootstrapcdn.com/bootstrap/3.2.0/css/bootstrap-theme.min.css%22/%3E%0A%20%20%20%20%3Clink%20rel%3D%22stylesheet%22%20href%3D%22https%3A//maxcdn.bootstrapcdn.com/font-awesome/4.6.3/css/font-awesome.min.css%22/%3E%0A%20%20%20%20%3Clink%20rel%3D%22stylesheet%22%20href%3D%22https%3A//cdnjs.cloudflare.com/ajax/libs/Leaflet.awesome-markers/2.0.2/leaflet.awesome-markers.css%22/%3E%0A%20%20%20%20%3Clink%20rel%3D%22stylesheet%22%20href%3D%22https%3A//rawcdn.githack.com/python-visualization/folium/master/folium/templates/leaflet.awesome.rotate.css%22/%3E%0A%20%20%20%20%3Cstyle%3Ehtml%2C%20body%20%7Bwidth%3A%20100%25%3Bheight%3A%20100%25%3Bmargin%3A%200%3Bpadding%3A%200%3B%7D%3C/style%3E%0A%20%20%20%20%3Cstyle%3E%23map%20%7Bposition%3Aabsolute%3Btop%3A0%3Bbottom%3A0%3Bright%3A0%3Bleft%3A0%3B%7D%3C/style%3E%0A%20%20%20%20%0A%20%20%20%20%3Cmeta%20name%3D%22viewport%22%20content%3D%22width%3Ddevice-width%2C%0A%20%20%20%20%20%20%20%20initial-scale%3D1.0%2C%20maximum-scale%3D1.0%2C%20user-scalable%3Dno%22%20/%3E%0A%20%20%20%20%3Cstyle%3E%23map_dda0c3a5b218477f80d499e8804f66ff%20%7B%0A%20%20%20%20%20%20%20%20position%3A%20relative%3B%0A%20%20%20%20%20%20%20%20width%3A%20100.0%25%3B%0A%20%20%20%20%20%20%20%20height%3A%20100.0%25%3B%0A%20%20%20%20%20%20%20%20left%3A%200.0%25%3B%0A%20%20%20%20%20%20%20%20top%3A%200.0%25%3B%0A%20%20%20%20%20%20%20%20%7D%0A%20%20%20%20%3C/style%3E%0A%20%20%20%20%3Cscript%20src%3D%22https%3A//cdnjs.cloudflare.com/ajax/libs/leaflet-minimap/3.6.1/Control.MiniMap.js%22%3E%3C/script%3E%0A%20%20%20%20%3Clink%20rel%3D%22stylesheet%22%20href%3D%22https%3A//cdnjs.cloudflare.com/ajax/libs/leaflet-minimap/3.6.1/Control.MiniMap.css%22/%3E%0A%20%20%20%20%3Cscript%20src%3D%22https%3A//cdnjs.cloudflare.com/ajax/libs/leaflet-minimap/3.6.1/Control.MiniMap.js%22%3E%3C/script%3E%0A%20%20%20%20%3Clink%20rel%3D%22stylesheet%22%20href%3D%22https%3A//cdnjs.cloudflare.com/ajax/libs/leaflet-minimap/3.6.1/Control.MiniMap.css%22/%3E%0A%20%20%20%20%3Cscript%20src%3D%22https%3A//cdnjs.cloudflare.com/ajax/libs/leaflet-minimap/3.6.1/Control.MiniMap.js%22%3E%3C/script%3E%0A%20%20%20%20%3Clink%20rel%3D%22stylesheet%22%20href%3D%22https%3A//cdnjs.cloudflare.com/ajax/libs/leaflet-minimap/3.6.1/Control.MiniMap.css%22/%3E%0A%3C/head%3E%0A%3Cbody%3E%20%20%20%20%0A%20%20%20%20%0A%20%20%20%20%3Cdiv%20class%3D%22folium-map%22%20id%3D%22map_dda0c3a5b218477f80d499e8804f66ff%22%20%3E%3C/div%3E%0A%3C/body%3E%0A%3Cscript%3E%20%20%20%20%0A%20%20%20%20%0A%20%20%20%20%0A%20%20%20%20%20%20%20%20var%20bounds%20%3D%20null%3B%0A%20%20%20%20%0A%0A%20%20%20%20var%20map_dda0c3a5b218477f80d499e8804f66ff%20%3D%20L.map%28%0A%20%20%20%20%20%20%20%20%27map_dda0c3a5b218477f80d499e8804f66ff%27%2C%20%7B%0A%20%20%20%20%20%20%20%20center%3A%20%5B-13.463064657796066%2C%20-76.12603010124573%5D%2C%0A%20%20%20%20%20%20%20%20zoom%3A%2012%2C%0A%20%20%20%20%20%20%20%20maxBounds%3A%20bounds%2C%0A%20%20%20%20%20%20%20%20layers%3A%20%5B%5D%2C%0A%20%20%20%20%20%20%20%20worldCopyJump%3A%20false%2C%0A%20%20%20%20%20%20%20%20crs%3A%20L.CRS.EPSG3857%2C%0A%20%20%20%20%20%20%20%20zoomControl%3A%20true%2C%0A%20%20%20%20%20%20%20%20%7D%29%3B%0AL.control.scale%28%29.addTo%28map_dda0c3a5b218477f80d499e8804f66ff%29%3B%0A%0A%20%20%20%20%0A%20%20%20%20var%20tile_layer_8d364cd928d848e2b07870df92bdce4e%20%3D%20L.tileLayer%28%0A%20%20%20%20%20%20%20%20%27https%3A//%7Bs%7D.tile.openstreetmap.org/%7Bz%7D/%7Bx%7D/%7By%7D.png%27%2C%0A%20%20%20%20%20%20%20%20%7B%0A%20%20%20%20%20%20%20%20%22attribution%22%3A%20null%2C%0A%20%20%20%20%20%20%20%20%22detectRetina%22%3A%20false%2C%0A%20%20%20%20%20%20%20%20%22maxNativeZoom%22%3A%2018%2C%0A%20%20%20%20%20%20%20%20%22maxZoom%22%3A%2018%2C%0A%20%20%20%20%20%20%20%20%22minZoom%22%3A%200%2C%0A%20%20%20%20%20%20%20%20%22noWrap%22%3A%20false%2C%0A%20%20%20%20%20%20%20%20%22opacity%22%3A%201%2C%0A%20%20%20%20%20%20%20%20%22subdomains%22%3A%20%22abc%22%2C%0A%20%20%20%20%20%20%20%20%22tms%22%3A%20false%0A%7D%29.addTo%28map_dda0c3a5b218477f80d499e8804f66ff%29%3B%0A%20%20%20%20var%20tile_layer_5ed36fc07f5b47adb5ae11cbe6f9bf32%20%3D%20L.tileLayer%28%0A%20%20%20%20%20%20%20%20%27https%3A//earthengine.googleapis.com/v1alpha/projects/earthengine-legacy/maps/5dab76eaf59610259874b024904b1ea5-ac0dc830ea360cc8141adbd922fafd69/tiles/%7Bz%7D/%7Bx%7D/%7By%7D%27%2C%0A%20%20%20%20%20%20%20%20%7B%0A%20%20%20%20%20%20%20%20%22attribution%22%3A%20%22Google%20Earth%20Engine%22%2C%0A%20%20%20%20%20%20%20%20%22detectRetina%22%3A%20false%2C%0A%20%20%20%20%20%20%20%20%22maxNativeZoom%22%3A%2018%2C%0A%20%20%20%20%20%20%20%20%22maxZoom%22%3A%2018%2C%0A%20%20%20%20%20%20%20%20%22minZoom%22%3A%200%2C%0A%20%20%20%20%20%20%20%20%22noWrap%22%3A%20false%2C%0A%20%20%20%20%20%20%20%20%22opacity%22%3A%201%2C%0A%20%20%20%20%20%20%20%20%22subdomains%22%3A%20%22abc%22%2C%0A%20%20%20%20%20%20%20%20%22tms%22%3A%20false%0A%7D%29.addTo%28map_dda0c3a5b218477f80d499e8804f66ff%29%3B%0A%20%20%20%20var%20tile_layer_50d1445372294dc9b62157eed4d634f0%20%3D%20L.tileLayer%28%0A%20%20%20%20%20%20%20%20%27https%3A//earthengine.googleapis.com/v1alpha/projects/earthengine-legacy/maps/d5bcdcccdd28416c56c4e57c44deebba-db5a7498b7baf44507a148cd146d2240/tiles/%7Bz%7D/%7Bx%7D/%7By%7D%27%2C%0A%20%20%20%20%20%20%20%20%7B%0A%20%20%20%20%20%20%20%20%22attribution%22%3A%20%22Google%20Earth%20Engine%22%2C%0A%20%20%20%20%20%20%20%20%22detectRetina%22%3A%20false%2C%0A%20%20%20%20%20%20%20%20%22maxNativeZoom%22%3A%2018%2C%0A%20%20%20%20%20%20%20%20%22maxZoom%22%3A%2018%2C%0A%20%20%20%20%20%20%20%20%22minZoom%22%3A%200%2C%0A%20%20%20%20%20%20%20%20%22noWrap%22%3A%20false%2C%0A%20%20%20%20%20%20%20%20%22opacity%22%3A%201%2C%0A%20%20%20%20%20%20%20%20%22subdomains%22%3A%20%22abc%22%2C%0A%20%20%20%20%20%20%20%20%22tms%22%3A%20false%0A%7D%29.addTo%28map_dda0c3a5b218477f80d499e8804f66ff%29%3B%0A%20%20%20%20%0A%0A%20%20%20%20%20%20%20%20var%20tile_layer_16d0e672784f4fb691e51a5aaae10fbf%20%3D%20L.tileLayer%28%0A%20%20%20%20%20%20%20%20%27https%3A//%7Bs%7D.tile.openstreetmap.org/%7Bz%7D/%7Bx%7D/%7By%7D.png%27%2C%0A%20%20%20%20%20%20%20%20%7B%0A%20%20%20%20%20%20%20%20%22attribution%22%3A%20null%2C%0A%20%20%20%20%20%20%20%20%22detectRetina%22%3A%20false%2C%0A%20%20%20%20%20%20%20%20%22maxNativeZoom%22%3A%2018%2C%0A%20%20%20%20%20%20%20%20%22maxZoom%22%3A%2018%2C%0A%20%20%20%20%20%20%20%20%22minZoom%22%3A%200%2C%0A%20%20%20%20%20%20%20%20%22noWrap%22%3A%20false%2C%0A%20%20%20%20%20%20%20%20%22opacity%22%3A%201%2C%0A%20%20%20%20%20%20%20%20%22subdomains%22%3A%20%22abc%22%2C%0A%20%20%20%20%20%20%20%20%22tms%22%3A%20false%0A%7D%20%29%3B%0A%0A%20%20%20%20%20%20%20%20var%20mini_map_dfe8e9768d3447db8677595bee7b6f50%20%3D%20new%20L.Control.MiniMap%28%20tile_layer_16d0e672784f4fb691e51a5aaae10fbf%2C%0A%20%20%20%20%20%20%20%20%20%7B%0A%20%20%22autoToggleDisplay%22%3A%20false%2C%0A%20%20%22centerFixed%22%3A%20false%2C%0A%20%20%22collapsedHeight%22%3A%2025%2C%0A%20%20%22collapsedWidth%22%3A%2025%2C%0A%20%20%22height%22%3A%20150%2C%0A%20%20%22minimized%22%3A%20false%2C%0A%20%20%22position%22%3A%20%22bottomright%22%2C%0A%20%20%22toggleDisplay%22%3A%20false%2C%0A%20%20%22width%22%3A%20150%2C%0A%20%20%22zoomAnimation%22%3A%20false%2C%0A%20%20%22zoomLevelFixed%22%3A%207%2C%0A%20%20%22zoomLevelOffset%22%3A%20-5%0A%7D%29%3B%0A%20%20%20%20%20%20%20%20map_dda0c3a5b218477f80d499e8804f66ff.addControl%28mini_map_dfe8e9768d3447db8677595bee7b6f50%29%3B%0A%0A%20%20%20%20%20%20%20%20%0A%20%20%20%20%0A%20%20%20%20%20%20%20%20%20%20%20%20var%20layer_control_811b55c22e95477da882a917802c6bd6%20%3D%20%7B%0A%20%20%20%20%20%20%20%20%20%20%20%20%20%20%20%20base_layers%20%3A%20%7B%20%22openstreetmap%22%20%3A%20tile_layer_8d364cd928d848e2b07870df92bdce4e%2C%20%7D%2C%0A%20%20%20%20%20%20%20%20%20%20%20%20%20%20%20%20overlays%20%3A%20%7B%20%22image%22%20%3A%20tile_layer_5ed36fc07f5b47adb5ae11cbe6f9bf32%2C%22clasificacion%22%20%3A%20tile_layer_50d1445372294dc9b62157eed4d634f0%2C%20%7D%0A%20%20%20%20%20%20%20%20%20%20%20%20%20%20%20%20%7D%3B%0A%20%20%20%20%20%20%20%20%20%20%20%20L.control.layers%28%0A%20%20%20%20%20%20%20%20%20%20%20%20%20%20%20%20layer_control_811b55c22e95477da882a917802c6bd6.base_layers%2C%0A%20%20%20%20%20%20%20%20%20%20%20%20%20%20%20%20layer_control_811b55c22e95477da882a917802c6bd6.overlays%2C%0A%20%20%20%20%20%20%20%20%20%20%20%20%20%20%20%20%7Bposition%3A%20%27topright%27%2C%0A%20%20%20%20%20%20%20%20%20%20%20%20%20%20%20%20%20collapsed%3A%20true%2C%0A%20%20%20%20%20%20%20%20%20%20%20%20%20%20%20%20%20autoZIndex%3A%20true%0A%20%20%20%20%20%20%20%20%20%20%20%20%20%20%20%20%7D%29.addTo%28map_dda0c3a5b218477f80d499e8804f66ff%29%3B%0A%20%20%20%20%20%20%20%20%20%20%20%20%0A%20%20%20%20%20%20%20%20%0A%3C/script%3E onload=\"this.contentDocument.open();this.contentDocument.write(    decodeURIComponent(this.getAttribute('data-html')));this.contentDocument.close();\" allowfullscreen webkitallowfullscreen mozallowfullscreen></iframe></div></div>"
            ],
            "text/plain": [
              "<folium.folium.Map at 0x7f221045aed0>"
            ]
          },
          "metadata": {
            "tags": []
          },
          "execution_count": 48
        }
      ]
    },
    {
      "cell_type": "code",
      "metadata": {
        "colab": {
          "base_uri": "https://localhost:8080/"
        },
        "id": "la4VyoKBpWcG",
        "outputId": "b579586c-e498-4845-f1d4-0146cf349b94"
      },
      "source": [
        "train_accuracy = trained.confusionMatrix()\n",
        "\n",
        "print('Validation error matrix    :', train_accuracy.getInfo())\n",
        "print('Validation overall accuracy:', train_accuracy.accuracy().getInfo())"
      ],
      "execution_count": null,
      "outputs": [
        {
          "output_type": "stream",
          "text": [
            "Validation error matrix    : [[40, 0, 0, 0, 0], [0, 50, 0, 0, 0], [0, 0, 40, 0, 0], [0, 0, 0, 40, 0], [0, 0, 0, 0, 40]]\n",
            "Validation overall accuracy: 1\n"
          ],
          "name": "stdout"
        }
      ]
    },
    {
      "cell_type": "markdown",
      "metadata": {
        "id": "OQMzlZG9pQ5Y"
      },
      "source": [
        "##### Entrenamiento: Random Forest"
      ]
    },
    {
      "cell_type": "markdown",
      "metadata": {
        "id": "3qgG6Y_X1KHp"
      },
      "source": [
        "> **Ensemble Learning**\n",
        "- Train different models on the same dataset\n",
        "- Let each model make its predictions\n",
        "- Meta-model: aggregates predictions of individual models\n",
        "- FInal prediction: more robust and less prone to errors\n",
        "- Best results: models are skillful in different ways\n",
        "<center>\n",
        "<img src='https://external-content.duckduckgo.com/iu/?u=https%3A%2F%2Fcdn-images-1.medium.com%2Fmax%2F1200%2F1*10t9S7xvWE5Z3NEZrmHG2w.jpeg&f=1&nofb=1' width=70%/>\n",
        "</center>"
      ]
    },
    {
      "cell_type": "markdown",
      "metadata": {
        "id": "dJoiLiC8hgCI"
      },
      "source": [
        "<center>\n",
        "<img src='https://i0.wp.com/dimensionless.in/wp-content/uploads/RandomForest_blog_files/figure-html/voting.png?w=1080&ssl=1' align='center' width=100%/>\n",
        "</center>"
      ]
    },
    {
      "cell_type": "code",
      "metadata": {
        "id": "l3ovvdM7qBgV",
        "colab": {
          "base_uri": "https://localhost:8080/",
          "height": 854
        },
        "outputId": "df359368-e139-4d4e-a86d-6e5252e0606f"
      },
      "source": [
        "training = img.sampleRegions(\n",
        "  collection = classes,  \n",
        "  properties = [label],  \n",
        "  scale = 10\n",
        ")\n",
        "\n",
        "# Crear un clasificador RF con parámetros personalizados.\n",
        "classifier = ee.Classifier.smileRandomForest(25)\n",
        "\n",
        "# Entrenar el clasificador\n",
        "trained = classifier.train(training, 'class', bands)\n",
        "\n",
        "# Clasificar la imagen\n",
        "classified = img.classify(trained)\n",
        "\n",
        "# Visualización de clasificación\n",
        "mapdisplay(center,{\n",
        "    # 'train_dataset': classes.getInfo(),\n",
        "                   'image':img.divide(10000).getMapId({'min':0.0, 'max':0.3,'bands':['B4','B3','B2']}),\n",
        "                   'clasificacion':classified.getMapId({'min': 0, 'max': 4, 'palette': ['#0c2bd6', '#0bff17', '#d63000', '#c5b03a','#1de6ff']})}, zoom_start=12)"
      ],
      "execution_count": null,
      "outputs": [
        {
          "output_type": "execute_result",
          "data": {
            "text/html": [
              "<div style=\"width:100%;\"><div style=\"position:relative;width:100%;height:0;padding-bottom:60%;\"><span style=\"color:#565656\">Make this Notebook Trusted to load map: File -> Trust Notebook</span><iframe src=\"about:blank\" style=\"position:absolute;width:100%;height:100%;left:0;top:0;border:none !important;\" data-html=%3C%21DOCTYPE%20html%3E%0A%3Chead%3E%20%20%20%20%0A%20%20%20%20%3Cmeta%20http-equiv%3D%22content-type%22%20content%3D%22text/html%3B%20charset%3DUTF-8%22%20/%3E%0A%20%20%20%20%3Cscript%3EL_PREFER_CANVAS%3Dfalse%3B%20L_NO_TOUCH%3Dfalse%3B%20L_DISABLE_3D%3Dfalse%3B%3C/script%3E%0A%20%20%20%20%3Cscript%20src%3D%22https%3A//cdn.jsdelivr.net/npm/leaflet%401.4.0/dist/leaflet.js%22%3E%3C/script%3E%0A%20%20%20%20%3Cscript%20src%3D%22https%3A//code.jquery.com/jquery-1.12.4.min.js%22%3E%3C/script%3E%0A%20%20%20%20%3Cscript%20src%3D%22https%3A//maxcdn.bootstrapcdn.com/bootstrap/3.2.0/js/bootstrap.min.js%22%3E%3C/script%3E%0A%20%20%20%20%3Cscript%20src%3D%22https%3A//cdnjs.cloudflare.com/ajax/libs/Leaflet.awesome-markers/2.0.2/leaflet.awesome-markers.js%22%3E%3C/script%3E%0A%20%20%20%20%3Clink%20rel%3D%22stylesheet%22%20href%3D%22https%3A//cdn.jsdelivr.net/npm/leaflet%401.4.0/dist/leaflet.css%22/%3E%0A%20%20%20%20%3Clink%20rel%3D%22stylesheet%22%20href%3D%22https%3A//maxcdn.bootstrapcdn.com/bootstrap/3.2.0/css/bootstrap.min.css%22/%3E%0A%20%20%20%20%3Clink%20rel%3D%22stylesheet%22%20href%3D%22https%3A//maxcdn.bootstrapcdn.com/bootstrap/3.2.0/css/bootstrap-theme.min.css%22/%3E%0A%20%20%20%20%3Clink%20rel%3D%22stylesheet%22%20href%3D%22https%3A//maxcdn.bootstrapcdn.com/font-awesome/4.6.3/css/font-awesome.min.css%22/%3E%0A%20%20%20%20%3Clink%20rel%3D%22stylesheet%22%20href%3D%22https%3A//cdnjs.cloudflare.com/ajax/libs/Leaflet.awesome-markers/2.0.2/leaflet.awesome-markers.css%22/%3E%0A%20%20%20%20%3Clink%20rel%3D%22stylesheet%22%20href%3D%22https%3A//rawcdn.githack.com/python-visualization/folium/master/folium/templates/leaflet.awesome.rotate.css%22/%3E%0A%20%20%20%20%3Cstyle%3Ehtml%2C%20body%20%7Bwidth%3A%20100%25%3Bheight%3A%20100%25%3Bmargin%3A%200%3Bpadding%3A%200%3B%7D%3C/style%3E%0A%20%20%20%20%3Cstyle%3E%23map%20%7Bposition%3Aabsolute%3Btop%3A0%3Bbottom%3A0%3Bright%3A0%3Bleft%3A0%3B%7D%3C/style%3E%0A%20%20%20%20%0A%20%20%20%20%3Cmeta%20name%3D%22viewport%22%20content%3D%22width%3Ddevice-width%2C%0A%20%20%20%20%20%20%20%20initial-scale%3D1.0%2C%20maximum-scale%3D1.0%2C%20user-scalable%3Dno%22%20/%3E%0A%20%20%20%20%3Cstyle%3E%23map_3910410cf7814a01a3cebeb61b829a6e%20%7B%0A%20%20%20%20%20%20%20%20position%3A%20relative%3B%0A%20%20%20%20%20%20%20%20width%3A%20100.0%25%3B%0A%20%20%20%20%20%20%20%20height%3A%20100.0%25%3B%0A%20%20%20%20%20%20%20%20left%3A%200.0%25%3B%0A%20%20%20%20%20%20%20%20top%3A%200.0%25%3B%0A%20%20%20%20%20%20%20%20%7D%0A%20%20%20%20%3C/style%3E%0A%20%20%20%20%3Cscript%20src%3D%22https%3A//cdnjs.cloudflare.com/ajax/libs/leaflet-minimap/3.6.1/Control.MiniMap.js%22%3E%3C/script%3E%0A%20%20%20%20%3Clink%20rel%3D%22stylesheet%22%20href%3D%22https%3A//cdnjs.cloudflare.com/ajax/libs/leaflet-minimap/3.6.1/Control.MiniMap.css%22/%3E%0A%3C/head%3E%0A%3Cbody%3E%20%20%20%20%0A%20%20%20%20%0A%20%20%20%20%3Cdiv%20class%3D%22folium-map%22%20id%3D%22map_3910410cf7814a01a3cebeb61b829a6e%22%20%3E%3C/div%3E%0A%3C/body%3E%0A%3Cscript%3E%20%20%20%20%0A%20%20%20%20%0A%20%20%20%20%0A%20%20%20%20%20%20%20%20var%20bounds%20%3D%20null%3B%0A%20%20%20%20%0A%0A%20%20%20%20var%20map_3910410cf7814a01a3cebeb61b829a6e%20%3D%20L.map%28%0A%20%20%20%20%20%20%20%20%27map_3910410cf7814a01a3cebeb61b829a6e%27%2C%20%7B%0A%20%20%20%20%20%20%20%20center%3A%20%5B-13.463064657796066%2C%20-76.12603010124573%5D%2C%0A%20%20%20%20%20%20%20%20zoom%3A%2012%2C%0A%20%20%20%20%20%20%20%20maxBounds%3A%20bounds%2C%0A%20%20%20%20%20%20%20%20layers%3A%20%5B%5D%2C%0A%20%20%20%20%20%20%20%20worldCopyJump%3A%20false%2C%0A%20%20%20%20%20%20%20%20crs%3A%20L.CRS.EPSG3857%2C%0A%20%20%20%20%20%20%20%20zoomControl%3A%20true%2C%0A%20%20%20%20%20%20%20%20%7D%29%3B%0AL.control.scale%28%29.addTo%28map_3910410cf7814a01a3cebeb61b829a6e%29%3B%0A%0A%20%20%20%20%0A%20%20%20%20var%20tile_layer_4616c94403434fe49874d9efad700b0d%20%3D%20L.tileLayer%28%0A%20%20%20%20%20%20%20%20%27https%3A//%7Bs%7D.tile.openstreetmap.org/%7Bz%7D/%7Bx%7D/%7By%7D.png%27%2C%0A%20%20%20%20%20%20%20%20%7B%0A%20%20%20%20%20%20%20%20%22attribution%22%3A%20null%2C%0A%20%20%20%20%20%20%20%20%22detectRetina%22%3A%20false%2C%0A%20%20%20%20%20%20%20%20%22maxNativeZoom%22%3A%2018%2C%0A%20%20%20%20%20%20%20%20%22maxZoom%22%3A%2018%2C%0A%20%20%20%20%20%20%20%20%22minZoom%22%3A%200%2C%0A%20%20%20%20%20%20%20%20%22noWrap%22%3A%20false%2C%0A%20%20%20%20%20%20%20%20%22opacity%22%3A%201%2C%0A%20%20%20%20%20%20%20%20%22subdomains%22%3A%20%22abc%22%2C%0A%20%20%20%20%20%20%20%20%22tms%22%3A%20false%0A%7D%29.addTo%28map_3910410cf7814a01a3cebeb61b829a6e%29%3B%0A%20%20%20%20var%20tile_layer_1e41421d7d4e42099293cdddd50adec8%20%3D%20L.tileLayer%28%0A%20%20%20%20%20%20%20%20%27https%3A//earthengine.googleapis.com/v1alpha/projects/earthengine-legacy/maps/5dab76eaf59610259874b024904b1ea5-12d078cac5e4a3c60f5161bf2d3b0ccc/tiles/%7Bz%7D/%7Bx%7D/%7By%7D%27%2C%0A%20%20%20%20%20%20%20%20%7B%0A%20%20%20%20%20%20%20%20%22attribution%22%3A%20%22Google%20Earth%20Engine%22%2C%0A%20%20%20%20%20%20%20%20%22detectRetina%22%3A%20false%2C%0A%20%20%20%20%20%20%20%20%22maxNativeZoom%22%3A%2018%2C%0A%20%20%20%20%20%20%20%20%22maxZoom%22%3A%2018%2C%0A%20%20%20%20%20%20%20%20%22minZoom%22%3A%200%2C%0A%20%20%20%20%20%20%20%20%22noWrap%22%3A%20false%2C%0A%20%20%20%20%20%20%20%20%22opacity%22%3A%201%2C%0A%20%20%20%20%20%20%20%20%22subdomains%22%3A%20%22abc%22%2C%0A%20%20%20%20%20%20%20%20%22tms%22%3A%20false%0A%7D%29.addTo%28map_3910410cf7814a01a3cebeb61b829a6e%29%3B%0A%20%20%20%20var%20tile_layer_1f6a2a4f64064938a41a612c0e003470%20%3D%20L.tileLayer%28%0A%20%20%20%20%20%20%20%20%27https%3A//earthengine.googleapis.com/v1alpha/projects/earthengine-legacy/maps/46fbc1fd88e702f10b17616beaa7c17f-49391e613e4cefd953e1a2b5952f071e/tiles/%7Bz%7D/%7Bx%7D/%7By%7D%27%2C%0A%20%20%20%20%20%20%20%20%7B%0A%20%20%20%20%20%20%20%20%22attribution%22%3A%20%22Google%20Earth%20Engine%22%2C%0A%20%20%20%20%20%20%20%20%22detectRetina%22%3A%20false%2C%0A%20%20%20%20%20%20%20%20%22maxNativeZoom%22%3A%2018%2C%0A%20%20%20%20%20%20%20%20%22maxZoom%22%3A%2018%2C%0A%20%20%20%20%20%20%20%20%22minZoom%22%3A%200%2C%0A%20%20%20%20%20%20%20%20%22noWrap%22%3A%20false%2C%0A%20%20%20%20%20%20%20%20%22opacity%22%3A%201%2C%0A%20%20%20%20%20%20%20%20%22subdomains%22%3A%20%22abc%22%2C%0A%20%20%20%20%20%20%20%20%22tms%22%3A%20false%0A%7D%29.addTo%28map_3910410cf7814a01a3cebeb61b829a6e%29%3B%0A%20%20%20%20%0A%0A%20%20%20%20%20%20%20%20var%20tile_layer_63cc11b475fe4c3989c1c06ca60b38c0%20%3D%20L.tileLayer%28%0A%20%20%20%20%20%20%20%20%27https%3A//%7Bs%7D.tile.openstreetmap.org/%7Bz%7D/%7Bx%7D/%7By%7D.png%27%2C%0A%20%20%20%20%20%20%20%20%7B%0A%20%20%20%20%20%20%20%20%22attribution%22%3A%20null%2C%0A%20%20%20%20%20%20%20%20%22detectRetina%22%3A%20false%2C%0A%20%20%20%20%20%20%20%20%22maxNativeZoom%22%3A%2018%2C%0A%20%20%20%20%20%20%20%20%22maxZoom%22%3A%2018%2C%0A%20%20%20%20%20%20%20%20%22minZoom%22%3A%200%2C%0A%20%20%20%20%20%20%20%20%22noWrap%22%3A%20false%2C%0A%20%20%20%20%20%20%20%20%22opacity%22%3A%201%2C%0A%20%20%20%20%20%20%20%20%22subdomains%22%3A%20%22abc%22%2C%0A%20%20%20%20%20%20%20%20%22tms%22%3A%20false%0A%7D%20%29%3B%0A%0A%20%20%20%20%20%20%20%20var%20mini_map_c7a9e116c5ff4cc091018a9d1deb8326%20%3D%20new%20L.Control.MiniMap%28%20tile_layer_63cc11b475fe4c3989c1c06ca60b38c0%2C%0A%20%20%20%20%20%20%20%20%20%7B%0A%20%20%22autoToggleDisplay%22%3A%20false%2C%0A%20%20%22centerFixed%22%3A%20false%2C%0A%20%20%22collapsedHeight%22%3A%2025%2C%0A%20%20%22collapsedWidth%22%3A%2025%2C%0A%20%20%22height%22%3A%20150%2C%0A%20%20%22minimized%22%3A%20false%2C%0A%20%20%22position%22%3A%20%22bottomright%22%2C%0A%20%20%22toggleDisplay%22%3A%20false%2C%0A%20%20%22width%22%3A%20150%2C%0A%20%20%22zoomAnimation%22%3A%20false%2C%0A%20%20%22zoomLevelFixed%22%3A%207%2C%0A%20%20%22zoomLevelOffset%22%3A%20-5%0A%7D%29%3B%0A%20%20%20%20%20%20%20%20map_3910410cf7814a01a3cebeb61b829a6e.addControl%28mini_map_c7a9e116c5ff4cc091018a9d1deb8326%29%3B%0A%0A%20%20%20%20%20%20%20%20%0A%20%20%20%20%0A%20%20%20%20%20%20%20%20%20%20%20%20var%20layer_control_91b362f4e6c34139aebf3a66953ade04%20%3D%20%7B%0A%20%20%20%20%20%20%20%20%20%20%20%20%20%20%20%20base_layers%20%3A%20%7B%20%22openstreetmap%22%20%3A%20tile_layer_4616c94403434fe49874d9efad700b0d%2C%20%7D%2C%0A%20%20%20%20%20%20%20%20%20%20%20%20%20%20%20%20overlays%20%3A%20%7B%20%22image%22%20%3A%20tile_layer_1e41421d7d4e42099293cdddd50adec8%2C%22clasificacion%22%20%3A%20tile_layer_1f6a2a4f64064938a41a612c0e003470%2C%20%7D%0A%20%20%20%20%20%20%20%20%20%20%20%20%20%20%20%20%7D%3B%0A%20%20%20%20%20%20%20%20%20%20%20%20L.control.layers%28%0A%20%20%20%20%20%20%20%20%20%20%20%20%20%20%20%20layer_control_91b362f4e6c34139aebf3a66953ade04.base_layers%2C%0A%20%20%20%20%20%20%20%20%20%20%20%20%20%20%20%20layer_control_91b362f4e6c34139aebf3a66953ade04.overlays%2C%0A%20%20%20%20%20%20%20%20%20%20%20%20%20%20%20%20%7Bposition%3A%20%27topright%27%2C%0A%20%20%20%20%20%20%20%20%20%20%20%20%20%20%20%20%20collapsed%3A%20true%2C%0A%20%20%20%20%20%20%20%20%20%20%20%20%20%20%20%20%20autoZIndex%3A%20true%0A%20%20%20%20%20%20%20%20%20%20%20%20%20%20%20%20%7D%29.addTo%28map_3910410cf7814a01a3cebeb61b829a6e%29%3B%0A%20%20%20%20%20%20%20%20%20%20%20%20%0A%20%20%20%20%20%20%20%20%0A%3C/script%3E onload=\"this.contentDocument.open();this.contentDocument.write(    decodeURIComponent(this.getAttribute('data-html')));this.contentDocument.close();\" allowfullscreen webkitallowfullscreen mozallowfullscreen></iframe></div></div>"
            ],
            "text/plain": [
              "<folium.folium.Map at 0x7f22120eafd0>"
            ]
          },
          "metadata": {
            "tags": []
          },
          "execution_count": 49
        }
      ]
    },
    {
      "cell_type": "code",
      "metadata": {
        "colab": {
          "base_uri": "https://localhost:8080/",
          "height": 854
        },
        "id": "PcjqlW7PTax1",
        "outputId": "7371f01b-c46f-4f9b-a67b-72fd77732e83"
      },
      "source": [
        "result_rf = mapViz\n",
        "result_rf"
      ],
      "execution_count": null,
      "outputs": [
        {
          "output_type": "execute_result",
          "data": {
            "text/html": [
              "<div style=\"width:100%;\"><div style=\"position:relative;width:100%;height:0;padding-bottom:60%;\"><span style=\"color:#565656\">Make this Notebook Trusted to load map: File -> Trust Notebook</span><iframe src=\"about:blank\" style=\"position:absolute;width:100%;height:100%;left:0;top:0;border:none !important;\" data-html=%3C%21DOCTYPE%20html%3E%0A%3Chead%3E%20%20%20%20%0A%20%20%20%20%3Cmeta%20http-equiv%3D%22content-type%22%20content%3D%22text/html%3B%20charset%3DUTF-8%22%20/%3E%0A%20%20%20%20%3Cscript%3EL_PREFER_CANVAS%3Dfalse%3B%20L_NO_TOUCH%3Dfalse%3B%20L_DISABLE_3D%3Dfalse%3B%3C/script%3E%0A%20%20%20%20%3Cscript%20src%3D%22https%3A//cdn.jsdelivr.net/npm/leaflet%401.4.0/dist/leaflet.js%22%3E%3C/script%3E%0A%20%20%20%20%3Cscript%20src%3D%22https%3A//code.jquery.com/jquery-1.12.4.min.js%22%3E%3C/script%3E%0A%20%20%20%20%3Cscript%20src%3D%22https%3A//maxcdn.bootstrapcdn.com/bootstrap/3.2.0/js/bootstrap.min.js%22%3E%3C/script%3E%0A%20%20%20%20%3Cscript%20src%3D%22https%3A//cdnjs.cloudflare.com/ajax/libs/Leaflet.awesome-markers/2.0.2/leaflet.awesome-markers.js%22%3E%3C/script%3E%0A%20%20%20%20%3Clink%20rel%3D%22stylesheet%22%20href%3D%22https%3A//cdn.jsdelivr.net/npm/leaflet%401.4.0/dist/leaflet.css%22/%3E%0A%20%20%20%20%3Clink%20rel%3D%22stylesheet%22%20href%3D%22https%3A//maxcdn.bootstrapcdn.com/bootstrap/3.2.0/css/bootstrap.min.css%22/%3E%0A%20%20%20%20%3Clink%20rel%3D%22stylesheet%22%20href%3D%22https%3A//maxcdn.bootstrapcdn.com/bootstrap/3.2.0/css/bootstrap-theme.min.css%22/%3E%0A%20%20%20%20%3Clink%20rel%3D%22stylesheet%22%20href%3D%22https%3A//maxcdn.bootstrapcdn.com/font-awesome/4.6.3/css/font-awesome.min.css%22/%3E%0A%20%20%20%20%3Clink%20rel%3D%22stylesheet%22%20href%3D%22https%3A//cdnjs.cloudflare.com/ajax/libs/Leaflet.awesome-markers/2.0.2/leaflet.awesome-markers.css%22/%3E%0A%20%20%20%20%3Clink%20rel%3D%22stylesheet%22%20href%3D%22https%3A//rawcdn.githack.com/python-visualization/folium/master/folium/templates/leaflet.awesome.rotate.css%22/%3E%0A%20%20%20%20%3Cstyle%3Ehtml%2C%20body%20%7Bwidth%3A%20100%25%3Bheight%3A%20100%25%3Bmargin%3A%200%3Bpadding%3A%200%3B%7D%3C/style%3E%0A%20%20%20%20%3Cstyle%3E%23map%20%7Bposition%3Aabsolute%3Btop%3A0%3Bbottom%3A0%3Bright%3A0%3Bleft%3A0%3B%7D%3C/style%3E%0A%20%20%20%20%0A%20%20%20%20%3Cmeta%20name%3D%22viewport%22%20content%3D%22width%3Ddevice-width%2C%0A%20%20%20%20%20%20%20%20initial-scale%3D1.0%2C%20maximum-scale%3D1.0%2C%20user-scalable%3Dno%22%20/%3E%0A%20%20%20%20%3Cstyle%3E%23map_3910410cf7814a01a3cebeb61b829a6e%20%7B%0A%20%20%20%20%20%20%20%20position%3A%20relative%3B%0A%20%20%20%20%20%20%20%20width%3A%20100.0%25%3B%0A%20%20%20%20%20%20%20%20height%3A%20100.0%25%3B%0A%20%20%20%20%20%20%20%20left%3A%200.0%25%3B%0A%20%20%20%20%20%20%20%20top%3A%200.0%25%3B%0A%20%20%20%20%20%20%20%20%7D%0A%20%20%20%20%3C/style%3E%0A%20%20%20%20%3Cscript%20src%3D%22https%3A//cdnjs.cloudflare.com/ajax/libs/leaflet-minimap/3.6.1/Control.MiniMap.js%22%3E%3C/script%3E%0A%20%20%20%20%3Clink%20rel%3D%22stylesheet%22%20href%3D%22https%3A//cdnjs.cloudflare.com/ajax/libs/leaflet-minimap/3.6.1/Control.MiniMap.css%22/%3E%0A%20%20%20%20%3Cscript%20src%3D%22https%3A//cdnjs.cloudflare.com/ajax/libs/leaflet-minimap/3.6.1/Control.MiniMap.js%22%3E%3C/script%3E%0A%20%20%20%20%3Clink%20rel%3D%22stylesheet%22%20href%3D%22https%3A//cdnjs.cloudflare.com/ajax/libs/leaflet-minimap/3.6.1/Control.MiniMap.css%22/%3E%0A%20%20%20%20%3Cscript%20src%3D%22https%3A//cdnjs.cloudflare.com/ajax/libs/leaflet-minimap/3.6.1/Control.MiniMap.js%22%3E%3C/script%3E%0A%20%20%20%20%3Clink%20rel%3D%22stylesheet%22%20href%3D%22https%3A//cdnjs.cloudflare.com/ajax/libs/leaflet-minimap/3.6.1/Control.MiniMap.css%22/%3E%0A%3C/head%3E%0A%3Cbody%3E%20%20%20%20%0A%20%20%20%20%0A%20%20%20%20%3Cdiv%20class%3D%22folium-map%22%20id%3D%22map_3910410cf7814a01a3cebeb61b829a6e%22%20%3E%3C/div%3E%0A%3C/body%3E%0A%3Cscript%3E%20%20%20%20%0A%20%20%20%20%0A%20%20%20%20%0A%20%20%20%20%20%20%20%20var%20bounds%20%3D%20null%3B%0A%20%20%20%20%0A%0A%20%20%20%20var%20map_3910410cf7814a01a3cebeb61b829a6e%20%3D%20L.map%28%0A%20%20%20%20%20%20%20%20%27map_3910410cf7814a01a3cebeb61b829a6e%27%2C%20%7B%0A%20%20%20%20%20%20%20%20center%3A%20%5B-13.463064657796066%2C%20-76.12603010124573%5D%2C%0A%20%20%20%20%20%20%20%20zoom%3A%2012%2C%0A%20%20%20%20%20%20%20%20maxBounds%3A%20bounds%2C%0A%20%20%20%20%20%20%20%20layers%3A%20%5B%5D%2C%0A%20%20%20%20%20%20%20%20worldCopyJump%3A%20false%2C%0A%20%20%20%20%20%20%20%20crs%3A%20L.CRS.EPSG3857%2C%0A%20%20%20%20%20%20%20%20zoomControl%3A%20true%2C%0A%20%20%20%20%20%20%20%20%7D%29%3B%0AL.control.scale%28%29.addTo%28map_3910410cf7814a01a3cebeb61b829a6e%29%3B%0A%0A%20%20%20%20%0A%20%20%20%20var%20tile_layer_4616c94403434fe49874d9efad700b0d%20%3D%20L.tileLayer%28%0A%20%20%20%20%20%20%20%20%27https%3A//%7Bs%7D.tile.openstreetmap.org/%7Bz%7D/%7Bx%7D/%7By%7D.png%27%2C%0A%20%20%20%20%20%20%20%20%7B%0A%20%20%20%20%20%20%20%20%22attribution%22%3A%20null%2C%0A%20%20%20%20%20%20%20%20%22detectRetina%22%3A%20false%2C%0A%20%20%20%20%20%20%20%20%22maxNativeZoom%22%3A%2018%2C%0A%20%20%20%20%20%20%20%20%22maxZoom%22%3A%2018%2C%0A%20%20%20%20%20%20%20%20%22minZoom%22%3A%200%2C%0A%20%20%20%20%20%20%20%20%22noWrap%22%3A%20false%2C%0A%20%20%20%20%20%20%20%20%22opacity%22%3A%201%2C%0A%20%20%20%20%20%20%20%20%22subdomains%22%3A%20%22abc%22%2C%0A%20%20%20%20%20%20%20%20%22tms%22%3A%20false%0A%7D%29.addTo%28map_3910410cf7814a01a3cebeb61b829a6e%29%3B%0A%20%20%20%20var%20tile_layer_1e41421d7d4e42099293cdddd50adec8%20%3D%20L.tileLayer%28%0A%20%20%20%20%20%20%20%20%27https%3A//earthengine.googleapis.com/v1alpha/projects/earthengine-legacy/maps/5dab76eaf59610259874b024904b1ea5-12d078cac5e4a3c60f5161bf2d3b0ccc/tiles/%7Bz%7D/%7Bx%7D/%7By%7D%27%2C%0A%20%20%20%20%20%20%20%20%7B%0A%20%20%20%20%20%20%20%20%22attribution%22%3A%20%22Google%20Earth%20Engine%22%2C%0A%20%20%20%20%20%20%20%20%22detectRetina%22%3A%20false%2C%0A%20%20%20%20%20%20%20%20%22maxNativeZoom%22%3A%2018%2C%0A%20%20%20%20%20%20%20%20%22maxZoom%22%3A%2018%2C%0A%20%20%20%20%20%20%20%20%22minZoom%22%3A%200%2C%0A%20%20%20%20%20%20%20%20%22noWrap%22%3A%20false%2C%0A%20%20%20%20%20%20%20%20%22opacity%22%3A%201%2C%0A%20%20%20%20%20%20%20%20%22subdomains%22%3A%20%22abc%22%2C%0A%20%20%20%20%20%20%20%20%22tms%22%3A%20false%0A%7D%29.addTo%28map_3910410cf7814a01a3cebeb61b829a6e%29%3B%0A%20%20%20%20var%20tile_layer_1f6a2a4f64064938a41a612c0e003470%20%3D%20L.tileLayer%28%0A%20%20%20%20%20%20%20%20%27https%3A//earthengine.googleapis.com/v1alpha/projects/earthengine-legacy/maps/46fbc1fd88e702f10b17616beaa7c17f-49391e613e4cefd953e1a2b5952f071e/tiles/%7Bz%7D/%7Bx%7D/%7By%7D%27%2C%0A%20%20%20%20%20%20%20%20%7B%0A%20%20%20%20%20%20%20%20%22attribution%22%3A%20%22Google%20Earth%20Engine%22%2C%0A%20%20%20%20%20%20%20%20%22detectRetina%22%3A%20false%2C%0A%20%20%20%20%20%20%20%20%22maxNativeZoom%22%3A%2018%2C%0A%20%20%20%20%20%20%20%20%22maxZoom%22%3A%2018%2C%0A%20%20%20%20%20%20%20%20%22minZoom%22%3A%200%2C%0A%20%20%20%20%20%20%20%20%22noWrap%22%3A%20false%2C%0A%20%20%20%20%20%20%20%20%22opacity%22%3A%201%2C%0A%20%20%20%20%20%20%20%20%22subdomains%22%3A%20%22abc%22%2C%0A%20%20%20%20%20%20%20%20%22tms%22%3A%20false%0A%7D%29.addTo%28map_3910410cf7814a01a3cebeb61b829a6e%29%3B%0A%20%20%20%20%0A%0A%20%20%20%20%20%20%20%20var%20tile_layer_63cc11b475fe4c3989c1c06ca60b38c0%20%3D%20L.tileLayer%28%0A%20%20%20%20%20%20%20%20%27https%3A//%7Bs%7D.tile.openstreetmap.org/%7Bz%7D/%7Bx%7D/%7By%7D.png%27%2C%0A%20%20%20%20%20%20%20%20%7B%0A%20%20%20%20%20%20%20%20%22attribution%22%3A%20null%2C%0A%20%20%20%20%20%20%20%20%22detectRetina%22%3A%20false%2C%0A%20%20%20%20%20%20%20%20%22maxNativeZoom%22%3A%2018%2C%0A%20%20%20%20%20%20%20%20%22maxZoom%22%3A%2018%2C%0A%20%20%20%20%20%20%20%20%22minZoom%22%3A%200%2C%0A%20%20%20%20%20%20%20%20%22noWrap%22%3A%20false%2C%0A%20%20%20%20%20%20%20%20%22opacity%22%3A%201%2C%0A%20%20%20%20%20%20%20%20%22subdomains%22%3A%20%22abc%22%2C%0A%20%20%20%20%20%20%20%20%22tms%22%3A%20false%0A%7D%20%29%3B%0A%0A%20%20%20%20%20%20%20%20var%20mini_map_c7a9e116c5ff4cc091018a9d1deb8326%20%3D%20new%20L.Control.MiniMap%28%20tile_layer_63cc11b475fe4c3989c1c06ca60b38c0%2C%0A%20%20%20%20%20%20%20%20%20%7B%0A%20%20%22autoToggleDisplay%22%3A%20false%2C%0A%20%20%22centerFixed%22%3A%20false%2C%0A%20%20%22collapsedHeight%22%3A%2025%2C%0A%20%20%22collapsedWidth%22%3A%2025%2C%0A%20%20%22height%22%3A%20150%2C%0A%20%20%22minimized%22%3A%20false%2C%0A%20%20%22position%22%3A%20%22bottomright%22%2C%0A%20%20%22toggleDisplay%22%3A%20false%2C%0A%20%20%22width%22%3A%20150%2C%0A%20%20%22zoomAnimation%22%3A%20false%2C%0A%20%20%22zoomLevelFixed%22%3A%207%2C%0A%20%20%22zoomLevelOffset%22%3A%20-5%0A%7D%29%3B%0A%20%20%20%20%20%20%20%20map_3910410cf7814a01a3cebeb61b829a6e.addControl%28mini_map_c7a9e116c5ff4cc091018a9d1deb8326%29%3B%0A%0A%20%20%20%20%20%20%20%20%0A%20%20%20%20%0A%20%20%20%20%20%20%20%20%20%20%20%20var%20layer_control_91b362f4e6c34139aebf3a66953ade04%20%3D%20%7B%0A%20%20%20%20%20%20%20%20%20%20%20%20%20%20%20%20base_layers%20%3A%20%7B%20%22openstreetmap%22%20%3A%20tile_layer_4616c94403434fe49874d9efad700b0d%2C%20%7D%2C%0A%20%20%20%20%20%20%20%20%20%20%20%20%20%20%20%20overlays%20%3A%20%7B%20%22image%22%20%3A%20tile_layer_1e41421d7d4e42099293cdddd50adec8%2C%22clasificacion%22%20%3A%20tile_layer_1f6a2a4f64064938a41a612c0e003470%2C%20%7D%0A%20%20%20%20%20%20%20%20%20%20%20%20%20%20%20%20%7D%3B%0A%20%20%20%20%20%20%20%20%20%20%20%20L.control.layers%28%0A%20%20%20%20%20%20%20%20%20%20%20%20%20%20%20%20layer_control_91b362f4e6c34139aebf3a66953ade04.base_layers%2C%0A%20%20%20%20%20%20%20%20%20%20%20%20%20%20%20%20layer_control_91b362f4e6c34139aebf3a66953ade04.overlays%2C%0A%20%20%20%20%20%20%20%20%20%20%20%20%20%20%20%20%7Bposition%3A%20%27topright%27%2C%0A%20%20%20%20%20%20%20%20%20%20%20%20%20%20%20%20%20collapsed%3A%20true%2C%0A%20%20%20%20%20%20%20%20%20%20%20%20%20%20%20%20%20autoZIndex%3A%20true%0A%20%20%20%20%20%20%20%20%20%20%20%20%20%20%20%20%7D%29.addTo%28map_3910410cf7814a01a3cebeb61b829a6e%29%3B%0A%20%20%20%20%20%20%20%20%20%20%20%20%0A%20%20%20%20%20%20%20%20%0A%3C/script%3E onload=\"this.contentDocument.open();this.contentDocument.write(    decodeURIComponent(this.getAttribute('data-html')));this.contentDocument.close();\" allowfullscreen webkitallowfullscreen mozallowfullscreen></iframe></div></div>"
            ],
            "text/plain": [
              "<folium.folium.Map at 0x7f22120eafd0>"
            ]
          },
          "metadata": {
            "tags": []
          },
          "execution_count": 51
        }
      ]
    },
    {
      "cell_type": "code",
      "metadata": {
        "colab": {
          "base_uri": "https://localhost:8080/"
        },
        "id": "acaT01SXrb4g",
        "outputId": "79add9a1-1652-4167-9518-e5919c313d33"
      },
      "source": [
        "train_accuracy = training.classify(trained)\n",
        "\n",
        "# Obtenga una matriz de confusión que represente la precisión esperada.\n",
        "trainAccuracy = train_accuracy.errorMatrix('class', 'classification')\n",
        "print('Validation error matrix    :', trainAccuracy.getInfo())\n",
        "print('Validation overall accuracy:', trainAccuracy.accuracy().getInfo())"
      ],
      "execution_count": null,
      "outputs": [
        {
          "output_type": "stream",
          "text": [
            "Validation error matrix    : [[40, 0, 0, 0, 0], [0, 50, 0, 0, 0], [0, 0, 38, 1, 1], [0, 0, 0, 40, 0], [0, 1, 0, 1, 38]]\n",
            "Validation overall accuracy: 0.9809523809523809\n"
          ],
          "name": "stdout"
        }
      ]
    },
    {
      "cell_type": "markdown",
      "metadata": {
        "id": "E_9OKoQAXmtC"
      },
      "source": [
        "# Referencias - Earth Engine"
      ]
    },
    {
      "cell_type": "markdown",
      "metadata": {
        "id": "x2sDNXH1LHUc"
      },
      "source": [
        "References:\n",
        "- [Noel Gorelick: How can Google Earth Engine solve large-scale societal problems?](https://www.youtube.com/watch?v=bXN-0DwGEd0&t=26s)\n",
        "- [Google Earth Engine: Planetary-scale geospatial analysis for everyone](https://doi.org/10.1016/j.rse.2017.06.031)\n",
        "- [Google Earth Engine Tutorial: Tensorflow Demo: using Colab & Code Editor](https://www.youtube.com/watch?v=V9bX_sD9uL8)\n",
        "- [Google Earth Engine GGE Teledetección | MasterLive (Cesar Aybar)](https://www.youtube.com/watch?v=M7WF83ZsINA&t=846s)\n",
        "- [Tyler A. Erickson - Analyzing Petabytes of Earth Science Data with Jupyter and Earth Engine](https://www.youtube.com/watch?v=LzxQH0Ze0iI)\n",
        "- [Noel Gorelick: How can Google Earth Engine solve large-scale societal problems?](https://www.youtube.com/watch?v=bXN-0DwGEd0)\n",
        "\n",
        "Earth Engine Guides:\n",
        "- [A Quick Introduction to Google Earth Engine - Towards Datascience](https://towardsdatascience.com/a-quick-introduction-to-google-earth-engine-c6a608c5febe)\n",
        "- [Rapid Classification of Croplands](https://developers.google.com/earth-engine/tutorials/community/classify-maizeland-ng)\n",
        "- [API Reference / JavaScript - Python Client Libraries](https://developers.google.com/earth-engine/apidocs#client-libraries)\n",
        "- [JavaScript - Python Syntax](https://developers.google.com/earth-engine/guides/python_install#syntax)\n",
        "- [Sentinel-2 Cloud Masking with s2cloudless](https://developers.google.com/earth-engine/tutorials/community/sentinel-2-s2cloudless)\n",
        "\n",
        "\n"
      ]
    },
    {
      "cell_type": "markdown",
      "metadata": {
        "id": "wjMKEEeLWimh"
      },
      "source": [
        "Probar:\n",
        "\n",
        "- Hough transform: https://en.wikipedia.org/wiki/Hough_transform\n",
        "- Canny edge detector: https://en.wikipedia.org/wiki/Canny_edge_detector"
      ]
    },
    {
      "cell_type": "markdown",
      "metadata": {
        "id": "DvD2NIXjCicS"
      },
      "source": [
        "- [Iterating over an ImageCollection](https://developers.google.com/earth-engine/guides/ic_iterating): Warning: Use `getInfo()` with caution!\n",
        "> You shouldn't use `getInfo()` unless you absolutely need to. If you call `getInfo()` in your code, ***Earth Engine will open the container and tell you what's inside, but it will block the rest of your code until that's done.*** (You can optionally provide a callback function to avoid that, but the better option is to do everything on the server, if possible.)"
      ]
    },
    {
      "cell_type": "markdown",
      "metadata": {
        "id": "Lozs6oFa0IIu"
      },
      "source": [
        "> [4 Machine Learning Concepts I Wish I Knew When I Built My First Model](https://towardsdatascience.com/4-machine-learning-concepts-i-wish-i-knew-when-i-built-my-first-model-3b8ca9506451)\n",
        "\n",
        "1. **Model Deployment w/ Simple Web UI's**\n",
        "\n",
        "Menciona usar [Gradio](https://www.gradio.app/) el cual es un paquete de python que ayuda a desarrollar una aplicación web para tu modelo de ML con pocas lineas de codigo (similar a Streamlit o Flask). \n",
        "- permite validacion de modelo\n",
        "- facil de conducir demos\n",
        "- facil de distribuir e implementar (no conviene enseñar jupyter notebooks a los demás)\n",
        "\n",
        "2. **Feature Importance**\n",
        "\n",
        "Asignar puntajes a las variables de entrada del modelo para saber que tan bueno son para predecir la variable objetivo. Mayor el puntaje, mayor importancia tiene en el modelo (otras variables pueden inducir ruido y reducir la precisión del modelo).\n",
        "\n",
        "Use feature importance to improve feature selection, model interpretability, and communication. [Ejemplo aquí](https://towardsdatascience.com/a-machine-learning-project-predicting-used-car-prices-efbc4d2a4998)\n",
        "\n",
        "3. **Hyperparameter Tuning [otro articulo aquí](https://medium.com/mlait/hyperparameters-in-machine-learning-fa45ccec9f6c)**\n",
        "\n",
        "La escencia de ML es encontrar los parametros que mejor se ajustan a los datos, obtenido mediante entrenamiento del modelo.\n",
        "\n",
        "Hyperparameters: parametros que no pueden ser aprendidos directamente del proceso de entrenamiento del modelo. Son de conceptos de alto nivel que generalmente son establecidos antes del entrenamiento del modelo.\n",
        "\n",
        "Ejemplos:\n",
        "- learning rate\n",
        "- Numero de hojas (leaves) o profundida maxima (max depth) que un arbol puede tener\n",
        "- Numero de hidden layers en una red neuronal\n",
        "\n",
        "Los hiperparametros no son determinados por la data en si mismo, pero los correctos hiperparametros pueden producir una mejora en precisión del modelo a un 80% a más.\n",
        "\n",
        "Hay tecnicas existentes disponibles para optimizar automaticamente los hiperparametros de ciertos modelos (para que no tengas que testear diferentes opciones/numeros):\n",
        "- Grid Search\n",
        "- Random Search \n",
        "\n",
        "[Demostración](https://machinelearningmastery.com/hyperparameter-optimization-with-random-search-and-grid-search/)\n",
        "\n",
        "4. **Evaluación de metricas del modelo**\n",
        "\n",
        "Knowing what metric(s) to evaluate your machine learning model on ultimately requires you to have a solid understanding of the business problem that you are trying to solve.\n",
        "\n",
        "Se puede dividir en dos partes:\n",
        "- Entendimiento de los requerimientos del problema\n",
        "- Escogiendo las metricas correctas para evaluar el modelo (comparar falsos positivos vs falsos negativos). Nuestra decision final depende en como el modelo va a ser integrado en el proceso (empresarial / final).\n",
        "\n",
        "Understand the business problem. Have a solid understanding of all relevant metrics, and understand the consequences of choosing each metric.\n",
        "\n",
        "\n",
        "\n",
        "\n"
      ]
    },
    {
      "cell_type": "markdown",
      "metadata": {
        "id": "zILSgDMV6fZ-"
      },
      "source": [
        "- [Medium: Building Intuition for Random Forests](https://medium.com/x8-the-ai-community/building-intuition-for-random-forests-76d36fa28c5e)\n",
        "- [Descriptive Statistics with Python](https://medium.com/dataseries/descriptive-statistics-with-python-75e2b1249e8d)"
      ]
    },
    {
      "cell_type": "markdown",
      "metadata": {
        "id": "S-NDeZz9N2iu"
      },
      "source": [
        "- [Predicting Deforestation: Acquiring Satellite Imagery](https://medium.com/project-canopy/predicting-deforestation-acquiring-satellite-imagery-82dec0597ea2)\n",
        "- [Area Monitoring — Expert Judgement Application](https://medium.com/sentinel-hub/expert-judgement-application-67a07f2feac4)"
      ]
    },
    {
      "cell_type": "code",
      "metadata": {
        "id": "rQTUJ4FeoqUh"
      },
      "source": [
        ""
      ],
      "execution_count": null,
      "outputs": []
    },
    {
      "cell_type": "code",
      "metadata": {
        "id": "w1xyrwq8ooay"
      },
      "source": [
        "def ee_get_dates(ic):\n",
        "  \"\"\"\n",
        "  Permite obtener información de la Fecha y Hora de toma de imágen por el satélite.\n",
        "  - ic: `ee.ImageCollection()`\n",
        "  \"\"\"\n",
        "  dates = ic.aggregate_array('system:time_start').getInfo()\n",
        "  anonym = lambda x: \n",
        "  return list(map(anonym, dates))\n",
        "print('ee_get_dates(ic) listo!')"
      ],
      "execution_count": null,
      "outputs": []
    }
  ]
}