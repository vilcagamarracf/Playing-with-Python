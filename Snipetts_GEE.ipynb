{
  "nbformat": 4,
  "nbformat_minor": 0,
  "metadata": {
    "colab": {
      "name": "Snipetts_GEE.ipynb",
      "provenance": [],
      "collapsed_sections": [
        "zS94PFQFNl_A",
        "3jLE1gI224rl",
        "1_gUYvnh3Rn3",
        "2BgIBlIJxNWH",
        "1lDoVQpFNxWg",
        "4-bdmO_8OSYK"
      ],
      "authorship_tag": "ABX9TyO4JLSt5x/4IIKHPIRBQagi",
      "include_colab_link": true
    },
    "kernelspec": {
      "name": "python3",
      "display_name": "Python 3"
    }
  },
  "cells": [
    {
      "cell_type": "markdown",
      "metadata": {
        "id": "view-in-github",
        "colab_type": "text"
      },
      "source": [
        "<a href=\"https://colab.research.google.com/github/vilcagamarracf/Playing-with-colab/blob/main/Snipetts_GEE.ipynb\" target=\"_parent\"><img src=\"https://colab.research.google.com/assets/colab-badge.svg\" alt=\"Open In Colab\"/></a>"
      ]
    },
    {
      "cell_type": "markdown",
      "metadata": {
        "id": "SKZUsAlIjV5k"
      },
      "source": [
        "# Code Snippets - GEE"
      ]
    },
    {
      "cell_type": "code",
      "metadata": {
        "colab": {
          "base_uri": "https://localhost:8080/",
          "height": 37
        },
        "id": "hPb5tK3t6Ok8",
        "cellView": "form",
        "outputId": "1e4543a2-8f20-455f-c78b-b0116bd51b21"
      },
      "source": [
        "#@markdown Banner\n",
        "%%html\n",
        "<marquee style='width: 30%; color: blue;'><b>¡En proceso! </b></marquee>"
      ],
      "execution_count": 23,
      "outputs": [
        {
          "output_type": "display_data",
          "data": {
            "text/html": [
              "<marquee style='width: 30%; color: blue;'><b>¡En proceso! </b></marquee>"
            ],
            "text/plain": [
              "<IPython.core.display.HTML object>"
            ]
          },
          "metadata": {
            "tags": []
          }
        }
      ]
    },
    {
      "cell_type": "markdown",
      "metadata": {
        "id": "_PVwCGbX2vZt"
      },
      "source": [
        "## 1. Librerías de Inicio"
      ]
    },
    {
      "cell_type": "markdown",
      "metadata": {
        "id": "KReV2qTfFaMt"
      },
      "source": [
        "- Revisar la versión actual de [Google Earth Engine API](https://github.com/google/earthengine-api)\n",
        "- Para ver la lista completa de funciones de GEE: [The Client Libraries section](https://developers.google.com/earth-engine/apidocs) (API reference for both JavaScript and Python clients)"
      ]
    },
    {
      "cell_type": "code",
      "metadata": {
        "id": "Tnc6T_D0E1tm",
        "colab": {
          "base_uri": "https://localhost:8080/"
        },
        "outputId": "3f6c84c6-fbd3-4b11-f081-513cd2a892b0"
      },
      "source": [
        "#Revisar la versión actual de Google Earth Engine API\n",
        "# https://github.com/google/earthengine-api\n",
        "import ee\n",
        "\n",
        "ee.Initialize()\n",
        "print('GEE Version:', ee.__version__)"
      ],
      "execution_count": 2,
      "outputs": [
        {
          "output_type": "stream",
          "text": [
            "GEE Version: 0.1.238\n"
          ],
          "name": "stdout"
        }
      ]
    },
    {
      "cell_type": "code",
      "metadata": {
        "id": "U-0bXPv3XlYO"
      },
      "source": [
        "# Para actualizar la versión de google earth engine. \n",
        "# 29 de Octubre, 2020: GEE Version: 0.1.240\n",
        "!pip install earthengine-api --upgrade "
      ],
      "execution_count": null,
      "outputs": []
    },
    {
      "cell_type": "code",
      "metadata": {
        "id": "FLl-EhM7qirG"
      },
      "source": [
        "# Credenciales Google Earth Engine\n",
        "# import ee\n",
        "ee.Authenticate()\n",
        "ee.Initialize()\n",
        "print('Ya estás logeado.')\n",
        "print('GEE Version:',ee.__version__)"
      ],
      "execution_count": null,
      "outputs": []
    },
    {
      "cell_type": "code",
      "metadata": {
        "id": "AgRbQIkmqiqb",
        "colab": {
          "base_uri": "https://localhost:8080/"
        },
        "cellView": "form",
        "outputId": "c50c1fd7-02b4-42cb-a14d-a9161eb36e20"
      },
      "source": [
        "#@markdown **`mapdisplay()`** \n",
        "\n",
        "import folium\n",
        "def mapdisplay(center, dicc, Tiles=\"OpensTreetMap\",zoom_start=10):\n",
        "    '''\n",
        "    Crea mapas interactivos usando la librería `folium`\n",
        "\n",
        "    - `center`: Center of the map (Latitude and Longitude) (`list`)\n",
        "    - `dicc`: Earth Engine Geometries or Tiles dictionary (`dict`)\n",
        "    - `Tiles=`: \n",
        "    Mapbox Bright \n",
        "    Mapbox Control Room\n",
        "    Stamen Terrain\n",
        "    Stamen Toner\n",
        "    stamenwatercolor\n",
        "    cartodbpositron\n",
        "    - `zoom_start=`: Initial zoom level for the map (`int`)\n",
        "\n",
        "    Return: A folium.Map object\n",
        "    '''\n",
        "    center = center[::-1]\n",
        "    mapViz = folium.Map(location=center,tiles=Tiles, zoom_start=zoom_start)\n",
        "    for k,v in dicc.items():\n",
        "      if ee.image.Image in [type(x) for x in v.values()]:\n",
        "        folium.TileLayer(\n",
        "            tiles = v[\"tile_fetcher\"].url_format,\n",
        "            attr  = 'Google Earth Engine',\n",
        "            overlay =True,\n",
        "            name  = k\n",
        "          ).add_to(mapViz)\n",
        "      else:\n",
        "        folium.GeoJson(\n",
        "        data = v,\n",
        "        name = k\n",
        "          ).add_to(mapViz)\n",
        "    mapViz.add_child(folium.LayerControl())\n",
        "    return mapViz\n",
        "print('mapdisplay(center, dicc, Tiles=\"OpensTreetMap\",zoom_start=10) listo!')"
      ],
      "execution_count": 3,
      "outputs": [
        {
          "output_type": "stream",
          "text": [
            "mapdisplay(center, dicc, Tiles=\"OpensTreetMap\",zoom_start=10) listo!\n"
          ],
          "name": "stdout"
        }
      ]
    },
    {
      "cell_type": "markdown",
      "metadata": {
        "id": "s_JIHzMQD2ih"
      },
      "source": [
        "**Important note:** A key difference between folium and ipyleaflet is that ipyleaflet is built upon ipywidgets and allows bidirectional communication between the front-end and the backend enabling the use of the map to capture user input, while folium is meant for displaying static data only (source). Note that Google Colab currently does not support ipyleaflet (source). \n"
      ]
    },
    {
      "cell_type": "code",
      "metadata": {
        "id": "VS3faNKGqiqB",
        "colab": {
          "base_uri": "https://localhost:8080/"
        },
        "cellView": "form",
        "outputId": "a09c557f-1f5d-4732-9538-40557a5527d6"
      },
      "source": [
        "#@markdown **`ee_get_dates()`** \n",
        "\n",
        "#@markdown Permite obtener información de la Fecha y \n",
        "#@markdown Hora de toma de imágen por el satélite mediante la propiedad `'system:time_start'`\n",
        "from datetime import datetime as dt\n",
        "def ee_get_dates(ic):\n",
        "  dates = ic.aggregate_array('system:time_start').getInfo()\n",
        "  anonym = lambda x: dt.utcfromtimestamp(x/1000).strftime('%Y-%m-%d %H:%M:%S')\n",
        "  return list(map(anonym, dates))\n",
        "print('ee_get_dates(img_col) listo')"
      ],
      "execution_count": 4,
      "outputs": [
        {
          "output_type": "stream",
          "text": [
            "ee_get_dates(img_col) listo\n"
          ],
          "name": "stdout"
        }
      ]
    },
    {
      "cell_type": "markdown",
      "metadata": {
        "id": "zS94PFQFNl_A"
      },
      "source": [
        "## 2. Visualizaciones"
      ]
    },
    {
      "cell_type": "markdown",
      "metadata": {
        "id": "tbh8qVRk3Vv2"
      },
      "source": [
        "### *Visualización de un archivo vectorial*"
      ]
    },
    {
      "cell_type": "markdown",
      "metadata": {
        "id": "af8V9YQWG2cK"
      },
      "source": [
        "Para obtener áreas de interés (AOI o ROI) hay dos formas:\n",
        "- En formato GeoJSON: \n",
        "  1. Dibujar área de estudio de forma rápida: http://geojson.io/\n",
        "  2. Copiar el código y asignarle una variable\n",
        "  3. Agregar un constructor ee.FeatureCollection(variable)\n",
        "  \n",
        "- En cualquier formato pero usando el Asset de GEE:\n",
        "  1. Para más información sobre el manejo de archivos en el Asset de GEE: [Managing Assets](https://developers.google.com/earth-engine/guides/asset_manager)\n",
        "  2. Copiar el ID del archivo de vuestro Asset y usar el constructor ee.FeatureCollection como se ve a continuación:\n",
        "\n",
        "```\n",
        "area_1 = ee.FeatureCollection('users/CesarVilca/area_1')     \n",
        "area_2 = ee.FeatureCollection('users/CesarVilca/area_2')    # Arrojará 1 imagen Sentinel\n",
        "area_3 = ee.FeatureCollection('users/CesarVilca/area_3')    # Arrojará 2 imágenes Sentinel\n",
        "area_total = ee.FeatureCollection('users/CesarVilca/area_total')\n",
        "```\n",
        "\n",
        "Finalmente, aplicar `.geometry()` a los ee.FeatureCollection para volverlos una geometría trabajable."
      ]
    },
    {
      "cell_type": "code",
      "metadata": {
        "colab": {
          "base_uri": "https://localhost:8080/",
          "height": 674
        },
        "cellView": "form",
        "id": "I7q9AptYXPcg",
        "outputId": "4a4fc50c-a656-430c-9eef-9c2e7bd091da"
      },
      "source": [
        "#@markdown Shapefile de Chincha (Es necesario tener el ID del archivo en el Asset)\r\n",
        "area_1 = ee.FeatureCollection('users/CesarVilca/area_1')     \r\n",
        "area_2 = ee.FeatureCollection('users/CesarVilca/area_2')    # 1 imagen Sentinel\r\n",
        "area_3 = ee.FeatureCollection('users/CesarVilca/area_3')    # 2 imágenes Sentinel\r\n",
        "area_total = ee.FeatureCollection('users/CesarVilca/area_total')\r\n",
        "\r\n",
        "roi = area_2.geometry().bounds() # Arrojará 1 imagen Sentinel\r\n",
        "roi_clip = area_total.geometry().bounds()\r\n",
        "centroide = [-76.0908, -13.4589] #centroid = img.geometry().centroid().getInfo()['coordinates']\r\n",
        "\r\n",
        "dicc = {'area1':area_1.getInfo(),\r\n",
        "       'area2':area_2.getInfo(),\r\n",
        "       'area3':area_3.getInfo(),\r\n",
        "       'area total':area_total.getInfo(),\r\n",
        "       'roi':roi.getInfo()}\r\n",
        "mapdisplay(centroide, dicc, zoom_start=11)"
      ],
      "execution_count": 8,
      "outputs": [
        {
          "output_type": "execute_result",
          "data": {
            "text/html": [
              "<div style=\"width:100%;\"><div style=\"position:relative;width:100%;height:0;padding-bottom:60%;\"><span style=\"color:#565656\">Make this Notebook Trusted to load map: File -> Trust Notebook</span><iframe src=\"about:blank\" style=\"position:absolute;width:100%;height:100%;left:0;top:0;border:none !important;\" data-html=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 onload=\"this.contentDocument.open();this.contentDocument.write(atob(this.getAttribute('data-html')));this.contentDocument.close();\" allowfullscreen webkitallowfullscreen mozallowfullscreen></iframe></div></div>"
            ],
            "text/plain": [
              "<folium.folium.Map at 0x7f78625efd68>"
            ]
          },
          "metadata": {
            "tags": []
          },
          "execution_count": 8
        }
      ]
    },
    {
      "cell_type": "code",
      "metadata": {
        "id": "E5gkPEls3pPE",
        "colab": {
          "base_uri": "https://localhost:8080/",
          "height": 674
        },
        "cellView": "form",
        "outputId": "7d188bd2-cc19-46f8-feb3-0e4a2ac78b40"
      },
      "source": [
        "#@markdown *Visualización1 de un archivo vectorial (Chincha)*\n",
        "\n",
        "# Es necesario tener el ID del archivo \n",
        "chincha_shp = ee.FeatureCollection('users/CesarVilca/area_total')    \n",
        "chincha = chincha_shp.geometry() # Volver geometría\n",
        "\n",
        "# Centroide del roi\n",
        "center1 = chincha.centroid().coordinates().getInfo()   \n",
        "\n",
        "# visualización del shape \n",
        "dicc_viz1 = {'chincha': chincha.bounds().getInfo()}                                                  \n",
        "mapdisplay(center1,dicc_viz1,zoom_start=7)     "
      ],
      "execution_count": 5,
      "outputs": [
        {
          "output_type": "execute_result",
          "data": {
            "text/html": [
              "<div style=\"width:100%;\"><div style=\"position:relative;width:100%;height:0;padding-bottom:60%;\"><span style=\"color:#565656\">Make this Notebook Trusted to load map: File -> Trust Notebook</span><iframe src=\"about:blank\" style=\"position:absolute;width:100%;height:100%;left:0;top:0;border:none !important;\" data-html=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 onload=\"this.contentDocument.open();this.contentDocument.write(atob(this.getAttribute('data-html')));this.contentDocument.close();\" allowfullscreen webkitallowfullscreen mozallowfullscreen></iframe></div></div>"
            ],
            "text/plain": [
              "<folium.folium.Map at 0x7f7862d73160>"
            ]
          },
          "metadata": {
            "tags": []
          },
          "execution_count": 5
        }
      ]
    },
    {
      "cell_type": "markdown",
      "metadata": {
        "id": "b85wOmvud14L"
      },
      "source": [
        "- Visualización con estilos (solo visualización)\r\n",
        "> [Ejemplo](https://developers.google.com/earth-engine/apidocs/ee-featurecollection-draw)\r\n",
        "  ```\r\n",
        "  roi_shp = ee.FeatureCollection('users/CesarVilca/Departamentos_Peru')\r\n",
        "  roi_draw = roi_shp.draw(color = \"000000\", strokeWidth = 2, pointRadius = 2) # retorna un ee.Image\r\n",
        "  dicc_viz1 = {'Perú': roi_draw.getMapId()} \r\n",
        "  ```"
      ]
    },
    {
      "cell_type": "code",
      "metadata": {
        "id": "gLiNbwtCAONy",
        "colab": {
          "base_uri": "https://localhost:8080/",
          "height": 674
        },
        "cellView": "form",
        "outputId": "d1e342b7-9607-4bc6-f664-12106da4be00"
      },
      "source": [
        "#@markdown *Visualización2 de un archivo vectorial (Dptos del Perú)*\n",
        "\n",
        "# Visualización mediante ID en Asset\n",
        "roi_shp = ee.FeatureCollection('users/CesarVilca/Departamentos_Peru')\n",
        "roi = roi_shp.geometry()\n",
        "roi_dict = roi_shp.getInfo()\n",
        "\n",
        "# Centrado de la visualización\n",
        "center1 = roi.centroid().coordinates().getInfo()   \n",
        "\n",
        "# visualización del shape \n",
        "# https://htmlcolors.com/ para modificar el color\n",
        "roi_draw = roi_shp.draw(color = \"000000\", strokeWidth = 2, pointRadius = 2) \n",
        "dicc_viz1 = {'Perú': roi_draw.getMapId()}                                                 \n",
        "mapdisplay(center1, dicc_viz1, zoom_start=5) "
      ],
      "execution_count": 9,
      "outputs": [
        {
          "output_type": "execute_result",
          "data": {
            "text/html": [
              "<div style=\"width:100%;\"><div style=\"position:relative;width:100%;height:0;padding-bottom:60%;\"><span style=\"color:#565656\">Make this Notebook Trusted to load map: File -> Trust Notebook</span><iframe src=\"about:blank\" style=\"position:absolute;width:100%;height:100%;left:0;top:0;border:none !important;\" data-html=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 onload=\"this.contentDocument.open();this.contentDocument.write(atob(this.getAttribute('data-html')));this.contentDocument.close();\" allowfullscreen webkitallowfullscreen mozallowfullscreen></iframe></div></div>"
            ],
            "text/plain": [
              "<folium.folium.Map at 0x7f78625e26a0>"
            ]
          },
          "metadata": {
            "tags": []
          },
          "execution_count": 9
        }
      ]
    },
    {
      "cell_type": "code",
      "metadata": {
        "id": "DVXI8lwlup-Y",
        "cellView": "form"
      },
      "source": [
        "#@markdown *Propiedades con geopandas (Dptos del Perú)*\n",
        "#len(roi_dict['features']) # 25\n",
        "#dptos_names = [(i,roi_dict.getInfo()['features'][i]['properties']['NOMBDEP']) for i in range(25)]\n",
        "#pprint(dptos_names)\n",
        "\n",
        "# Visualización con geopandas\n",
        "#!pip install geopandas\n",
        "import geopandas as gpd\n",
        "roi_gpd  = gpd.GeoDataFrame.from_features(roi_dict)\n",
        "roi_gpd.head(11)\n",
        "#roi_gpd.plot()"
      ],
      "execution_count": null,
      "outputs": []
    },
    {
      "cell_type": "markdown",
      "metadata": {
        "id": "3jLE1gI224rl"
      },
      "source": [
        "### *Paletas para Visualización*"
      ]
    },
    {
      "cell_type": "markdown",
      "metadata": {
        "id": "gYEfjdXDX_j5"
      },
      "source": [
        "Para mas paletas de visualizacion, visitar el catálogo de datos de Earth Engine."
      ]
    },
    {
      "cell_type": "code",
      "metadata": {
        "id": "V5klnbmA3KIs",
        "cellView": "form"
      },
      "source": [
        "#@markdown *Paletas*\n",
        "\n",
        "# Paleta Inferno \n",
        "inferno_pal = [\"#000004\", \"#560F6D\", \"#BB3654\", \"#F98C09\", \"#FCFFA4\"]\n",
        "\n",
        "# Paleta NDVI (Yuri SIG)\n",
        "ndvi_pal = ['ffffff','fffcff','fff9ff','fff7ff','fff4ff','fff2ff','ffefff',\n",
        "            'ffecff','ffeaff','ffe7ff','ffe5ff','ffe2ff','ffe0ff','ffddff',\n",
        "            'ffdaff','ffd8ff','ffd5ff','ffd3ff','ffd0ff','ffceff','ffcbff',\n",
        "            'ffc8ff','ffc6ff','ffc3ff','ffc1ff','ffbeff','ffbcff','ffb9ff',\n",
        "            'ffb6ff','ffb4ff','ffb1ff','ffafff','ffacff','ffaaff','ffa7ff',\n",
        "            'ffa4ff','ffa2ff','ff9fff','ff9dff','ff9aff','ff97ff','ff95ff',\n",
        "            'ff92ff','ff90ff','ff8dff','ff8bff','ff88ff','ff85ff','ff83ff',\n",
        "            'ff80ff','ff7eff','ff7bff','ff79ff','ff76ff','ff73ff','ff71ff',\n",
        "            'ff6eff','ff6cff','ff69ff','ff67ff','ff64ff','ff61ff','ff5fff',\n",
        "            'ff5cff','ff5aff','ff57ff','ff55ff','ff52ff','ff4fff','ff4dff',\n",
        "            'ff4aff','ff48ff','ff45ff','ff42ff','ff40ff','ff3dff','ff3bff',\n",
        "            'ff38ff','ff36ff','ff33ff','ff30ff','ff2eff','ff2bff','ff29ff',\n",
        "            'ff26ff','ff24ff','ff21ff','ff1eff','ff1cff','ff19ff','ff17ff',\n",
        "            'ff14ff','ff12ff','ff0fff','ff0cff','ff0aff','ff07ff','ff05ff',\n",
        "            'ff02ff','ff00ff','ff00ff','ff0af4','ff15e9','ff1fdf','ff2ad4',\n",
        "            'ff35c9','ff3fbf','ff4ab4','ff55aa','ff5f9f','ff6a94','ff748a',\n",
        "            'ff7f7f','ff8a74','ff946a','ff9f5f','ffaa55','ffb44a','ffbf3f',\n",
        "            'ffc935','ffd42a','ffdf1f','ffe915','fff40a','ffff00','ffff00',\n",
        "            'fffb00','fff700','fff300','fff000','ffec00','ffe800','ffe400',\n",
        "            'ffe100','ffdd00','ffd900','ffd500','ffd200','ffce00','ffca00',\n",
        "            'ffc600','ffc300','ffbf00','ffbb00','ffb700','ffb400','ffb000',\n",
        "            'ffac00','ffa800','ffa500','ffa500','f7a400','f0a300','e8a200',\n",
        "            'e1a200','d9a100','d2a000','ca9f00','c39f00','bb9e00','b49d00',\n",
        "            'ac9c00','a59c00','9d9b00','969a00','8e9900','879900','7f9800',\n",
        "            '789700','709700','699600','619500','5a9400','529400','4b9300',\n",
        "            '439200','349100','2d9000','258f00','1e8e00','168e00','0f8d00',\n",
        "            '078c00','008c00','008c00','008700','008300','007f00','007a00',\n",
        "            '007600','007200','006e00','006900','006500','006100','005c00',\n",
        "            '005800','005400','005000','004c00']\n",
        "\n",
        "# paleta ALOS\n",
        "# https://developers.google.com/earth-engine/datasets/catalog/JAXA_ALOS_AW3D30_V2_2\n",
        "palette = ['0000ff', '00ffff', 'ffff00', 'ff0000', 'ffffff']"
      ],
      "execution_count": 16,
      "outputs": []
    },
    {
      "cell_type": "markdown",
      "metadata": {
        "id": "1_gUYvnh3Rn3"
      },
      "source": [
        "### *Visualización de archivos raster (DEM - SRTM vs ALOS)*"
      ]
    },
    {
      "cell_type": "markdown",
      "metadata": {
        "id": "fee4VYIJY6Yr"
      },
      "source": [
        "Comparación de datasets:\r\n",
        "\r\n",
        "- [NASA SRTM Digital Elevation 30m](https://developers.google.com/earth-engine/datasets/catalog/USGS_SRTMGL1_003)\r\n",
        "- [ALOS DSM: Global 30m](https://developers.google.com/earth-engine/datasets/catalog/JAXA_ALOS_AW3D30_V2_2)"
      ]
    },
    {
      "cell_type": "code",
      "metadata": {
        "id": "PRM8ShnP3PvP",
        "colab": {
          "base_uri": "https://localhost:8080/",
          "height": 617
        },
        "outputId": "6a5ed26a-fc8c-4f49-e280-5110d7cbfdac"
      },
      "source": [
        "#@markdown Comparación entre dems: SRTM y ALOS\n",
        "\n",
        "srtm = ee.Image(\"USGS/SRTMGL1_003\")\n",
        "alos = ee.Image(\"JAXA/ALOS/AW3D30/V2_2\")\n",
        "\n",
        "inferno_pal = [\"#000004\", \"#560F6D\", \"#BB3654\", \"#F98C09\", \"#FCFFA4\"]\n",
        "\n",
        "srtm_id_01 = srtm.getMapId()\n",
        "srtm_id_02 = srtm.getMapId({'palette':inferno_pal, 'min':0, 'max':5500})    \n",
        "alos_id_01 = alos.getMapId({'bands':'AVE_DSM', 'palette':inferno_pal, 'min':0, 'max':5500})\n",
        "\n",
        "center = [-70.61,-13.35]\n",
        "\n",
        "dicc_viz = {'simple_srtm' : srtm_id_01,\n",
        "            'complex_srtm': srtm_id_02,\n",
        "            'complex_alos': alos_id_01\n",
        "            }\n",
        "mapdisplay(center, dicc_viz,zoom_start=10)"
      ],
      "execution_count": 21,
      "outputs": [
        {
          "output_type": "execute_result",
          "data": {
            "text/html": [
              "<div style=\"width:100%;\"><div style=\"position:relative;width:100%;height:0;padding-bottom:60%;\"><span style=\"color:#565656\">Make this Notebook Trusted to load map: File -> Trust Notebook</span><iframe src=\"about:blank\" style=\"position:absolute;width:100%;height:100%;left:0;top:0;border:none !important;\" data-html=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 onload=\"this.contentDocument.open();this.contentDocument.write(atob(this.getAttribute('data-html')));this.contentDocument.close();\" allowfullscreen webkitallowfullscreen mozallowfullscreen></iframe></div></div>"
            ],
            "text/plain": [
              "<folium.folium.Map at 0x7f785fbddcc0>"
            ]
          },
          "metadata": {
            "tags": []
          },
          "execution_count": 21
        }
      ]
    },
    {
      "cell_type": "code",
      "metadata": {
        "colab": {
          "base_uri": "https://localhost:8080/",
          "height": 617
        },
        "id": "Zhn1gQ-3bzR5",
        "outputId": "5cfb1aae-4328-402a-8aef-a4cd4c72c32c"
      },
      "source": [
        "# Función slope de ee.Terrain.slope()\r\n",
        "\r\n",
        "srtm = ee.Image(\"USGS/SRTMGL1_003\")\r\n",
        "elevation = srtm.select('elevation')\r\n",
        "slope = ee.Terrain.slope(elevation)\r\n",
        "\r\n",
        "center = [0,0]\r\n",
        "dicc_viz = {'srtm': slope.getMapId()}\r\n",
        "\r\n",
        "mapdisplay(center, dicc_viz,zoom_start=3)"
      ],
      "execution_count": 18,
      "outputs": [
        {
          "output_type": "execute_result",
          "data": {
            "text/html": [
              "<div style=\"width:100%;\"><div style=\"position:relative;width:100%;height:0;padding-bottom:60%;\"><span style=\"color:#565656\">Make this Notebook Trusted to load map: File -> Trust Notebook</span><iframe src=\"about:blank\" style=\"position:absolute;width:100%;height:100%;left:0;top:0;border:none !important;\" data-html=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 onload=\"this.contentDocument.open();this.contentDocument.write(atob(this.getAttribute('data-html')));this.contentDocument.close();\" allowfullscreen webkitallowfullscreen mozallowfullscreen></iframe></div></div>"
            ],
            "text/plain": [
              "<folium.folium.Map at 0x7f785fc50438>"
            ]
          },
          "metadata": {
            "tags": []
          },
          "execution_count": 18
        }
      ]
    },
    {
      "cell_type": "markdown",
      "metadata": {
        "id": "2BgIBlIJxNWH"
      },
      "source": [
        "### *Diagrama de dispersión de un ee.Image (Landsat 8)*"
      ]
    },
    {
      "cell_type": "markdown",
      "metadata": {
        "id": "i46Z07Ukxiy-"
      },
      "source": [
        "> Para una mejor visualización usamos la librería **`pprint`** : Nos devolverá los resultados vectoriales en geoJSON:\n",
        "- Properties\n",
        "- Geometry\n",
        "- Features"
      ]
    },
    {
      "cell_type": "code",
      "metadata": {
        "id": "4qprriRgxiL3",
        "cellView": "form",
        "colab": {
          "base_uri": "https://localhost:8080/",
          "height": 301
        },
        "outputId": "141e62da-9d10-4853-9bbb-f6dd536b0eda"
      },
      "source": [
        "#@markdown *Imagen Landsat 8*\n",
        "img2 = ee.Image('LANDSAT/LC08/C01/T1_RT/LC08_006069_20190712')    # Imagen Landsat 8 \n",
        "centroid = img2.geometry().centroid().getInfo()['coordinates']    # centroide\n",
        "mydicc = {'landsat8': img2.getMapId({'bands':['B5','B4','B3']})}  # paleta de visualización \n",
        "#mapdisplay(centroid, mydicc, Tiles='OpensTreetMap', zoom_start=9) # visualización\n",
        "\n",
        "# Puntos de sampleo para visualización: 3 \n",
        "samp = img2.select(['B4','B5']).sample(scale = 30, numPixels = 3)\n",
        "#print(samp.getInfo()) # Visualización de la metadata (se ve mejor usando pprint: 'pretty print')\n",
        "\n",
        "\n",
        "from pprint import pprint\n",
        "# Seleccionar bandas RED y NIR, escalar y muestrear los puntos\n",
        "# Scale = 30 (tamaño del pixel), numPixels = Número de puntos aleatorios (sample)\n",
        "#samp = img2.select(['B4','B5']).sample(scale = 30, numPixels = 3)  \n",
        "#pprint(samp.getInfo()) \n",
        "\n",
        "\n",
        "# Seleccionar bandas RED y NIR, escalar y muestrear los puntos\n",
        "# Scale = 30 (tamaño del pixel), numPixels = Número de puntos aleatorios (sample)\n",
        "samp = img2.select(['B4','B5']).sample(scale = 30, numPixels = 10000)  \n",
        "\n",
        "# Organizar la muestra como una lista anidada (lista dentro de una lista)\n",
        "samp_dict = samp.reduceColumns(ee.Reducer.toList().repeat(2), ['B4','B5'])\n",
        "samp_list = ee.List(samp_dict.get('list'))\n",
        "\n",
        "# Guardar ee.List del lado del servidor como una lista de Python del lado del cliente\n",
        "samp_data = samp_list.getInfo()\n",
        "\n",
        "# Visualice un diagrama de dispersión RED vs NIR usando matplotlib\n",
        "import matplotlib.pyplot as plt\n",
        "plt.scatter(samp_data[0], samp_data[1], alpha= 0.2)\n",
        "plt.title('Diagrama de Dispersión NIR vs Red', size=15)\n",
        "plt.xlabel('Red', fontsize = 12)\n",
        "plt.ylabel('NIR', fontsize = 12)\n",
        "plt.show()"
      ],
      "execution_count": null,
      "outputs": [
        {
          "output_type": "display_data",
          "data": {
            "image/png": "[encoded data removed]",
            "text/plain": [
              "<Figure size 432x288 with 1 Axes>"
            ]
          },
          "metadata": {
            "tags": [],
            "needs_background": "light"
          }
        }
      ]
    },
    {
      "cell_type": "code",
      "metadata": {
        "id": "711lUrKz4fYY",
        "cellView": "form",
        "colab": {
          "base_uri": "https://localhost:8080/",
          "height": 301
        },
        "outputId": "e5728780-a098-43a2-9c95-4a89de90575b"
      },
      "source": [
        "# Visualización de OpenLandMap Precipitation monthly\n",
        "# https://developers.google.com/earth-engine/datasets/catalog/OpenLandMap_CLM_CLM_PRECIPITATION_SM2RAIN_M_v01\n",
        "\n",
        "# Datos Vectoriales: Amazonas\n",
        "amazonas = ee.FeatureCollection('users/csaybardemo/amazonas') # ID en Asset\n",
        "roi = amazonas.geometry().bounds()\n",
        "\n",
        "rainmap = ee.Image(\"OpenLandMap/CLM/CLM_PRECIPITATION_SM2RAIN_M/v01\").clip(roi)\n",
        "#print(rainmap.bandNames().getInfo())   # Nombre de las bandas: Meses del año\n",
        "rainmap_jan = rainmap.select('jan')\n",
        "\n",
        "# Visualización\n",
        "#palette_rain = [\"#450155\", \"#3B528C\", \"#21918D\", \"#5DCA63\",\"#FFE925\"] # Palette de C. Aybar\n",
        "palette_rain= ['ecffbd', 'ffff00', '3af6ff', '467aff', '313eff', '0008ff'] # Palette de dataset\n",
        "center = [-78.053, -5.068]\n",
        "amazonas_img = amazonas.draw(color = \"000000\", strokeWidth = 3, pointRadius = 3)\n",
        "dict = {'January': rainmap_jan.getMapId({'min':0,'max':380,'palette':palette_rain}),'amazonas':amazonas_img.getMapId()}\n",
        "\n",
        "#mapdisplay(center, dict, zoom_start=8)\n",
        "\n",
        "#@markdown *Diagrama de disepersión Mes_1 vs Mes_2*\n",
        "\n",
        "# Selección de bandas\n",
        "Mes_1 = 'feb' #@param ['jan', 'feb', 'mar', 'apr', 'may', 'jun', 'jul', 'aug', 'sep', 'oct', 'nov', 'dec']\n",
        "Mes_2 = 'aug' #@param ['jan', 'feb', 'mar', 'apr', 'may', 'jun', 'jul', 'aug', 'sep', 'oct', 'nov', 'dec']\n",
        "bands = [Mes_1,Mes_2]\n",
        "# Puntos de sampleo para visualización: 3 \n",
        "samp = rainmap.select(bands).sample(scale = 1000, numPixels = 10000)\n",
        "#pprint(samp.getInfo()) # Visualización de la metadata (se ve mejor usando pprint: 'pretty print')\n",
        "\n",
        "# Organizar la muestra como una lista anidada (lista dentro de una lista)\n",
        "samp_dict = samp.reduceColumns(ee.Reducer.toList().repeat(2), bands)\n",
        "samp_list = ee.List(samp_dict.get('list'))\n",
        "\n",
        "# Guardar ee.List del lado del servidor como una lista de Python del lado del cliente\n",
        "samp_data = samp_list.getInfo()\n",
        "\n",
        "# Visualice un diagrama de dispersión RED vs NIR usando matplotlib\n",
        "import matplotlib.pyplot as plt\n",
        "plt.scatter(samp_data[0], samp_data[1], alpha= 0.2)\n",
        "plt.title('Diagrama de Dispersión Mes_1 vs Mes_2', size=15)\n",
        "plt.xlabel('Mes_1', fontsize = 12)\n",
        "plt.ylabel('Mes_2', fontsize = 12)\n",
        "plt.show()"
      ],
      "execution_count": null,
      "outputs": [
        {
          "output_type": "display_data",
          "data": {
            "image/png": "[encoded data removed]",
            "text/plain": [
              "<Figure size 432x288 with 1 Axes>"
            ]
          },
          "metadata": {
            "tags": [],
            "needs_background": "light"
          }
        }
      ]
    },
    {
      "cell_type": "markdown",
      "metadata": {
        "id": "1lDoVQpFNxWg"
      },
      "source": [
        "## 3. Descargas"
      ]
    },
    {
      "cell_type": "markdown",
      "metadata": {
        "id": "tK0o5jZP3x9j"
      },
      "source": [
        "### 03.1 *Descarga de Imágenes en GEE API Python*"
      ]
    },
    {
      "cell_type": "code",
      "metadata": {
        "id": "LPmG4VtR3zvD",
        "cellView": "form"
      },
      "source": [
        "#@markdown *Monitoreo de tareas (tiempo)*\n",
        "import time \n",
        "def ee_monitoring(ee_task):\n",
        "  while ee_task.active():\n",
        "    print('Sondeo de la tarea (id: {}).', format(ee_task.id))\n",
        "    time.sleep(5)\n",
        "#ee_monitoring(task)"
      ],
      "execution_count": null,
      "outputs": []
    },
    {
      "cell_type": "markdown",
      "metadata": {
        "id": "4-bdmO_8OSYK"
      },
      "source": [
        "## 4. Procesos Automatizados"
      ]
    },
    {
      "cell_type": "markdown",
      "metadata": {
        "id": "qmrg66JV3rxv"
      },
      "source": [
        "### 04.1 *Función para enmascarar nubes Sentinel-2*"
      ]
    },
    {
      "cell_type": "code",
      "metadata": {
        "id": "Vwy_ser83tX0",
        "cellView": "form"
      },
      "source": [
        "#@markdown *Función para enmascarar nubes*\n",
        "# Operadores de bit a bit\n",
        "# Operador bit a bit desplazamiento a la izquierda <<\n",
        "# Little indian (los bits se cuentan de izq a derecha) y Big indian (los bits se cuentan de derecha a izq)\n",
        "def maskS2clouds(image):\n",
        "  qa = image.select('QA60')\n",
        "  opaque_cloud = 1 << 10\n",
        "  cirrus_cloud = 1 << 11\n",
        "  mask = qa.bitwiseAnd(opaque_cloud).eq(0)\\\n",
        "           .And(qa.bitwiseAnd(cirrus_cloud).eq(0))\n",
        "  clean_image = image.updateMask(mask)\n",
        "  return clean_image"
      ],
      "execution_count": null,
      "outputs": []
    },
    {
      "cell_type": "markdown",
      "metadata": {
        "id": "gYevBBmfdIvF"
      },
      "source": [
        "### 04.2 Índices Espectrales en Imágenes (LANDSAT 8)\n",
        "\n"
      ]
    },
    {
      "cell_type": "markdown",
      "metadata": {
        "id": "xTjeU-xxk8-G"
      },
      "source": [
        "> Mapping sobre una ImageCollection\n",
        "Snippet: `ee.ImageCollection(\"LANDSAT/LC08/C01/T1_SR\"))`\n",
        "\n",
        "Para aplicar una funcion a cada imagen en una ImageCollection, use **`imageCollection.map()`**. El unico argumento para **`map()`** es una funcion que toma un parametro: un **`ee.Image`**. Por ejemplo, el siguiente codigo agrega una banda de marca de tiempo a cada imagen de la coleccion.\n",
        "\n",
        "<center>\n",
        "<img src = 'https://user-images.githubusercontent.com/16768318/72934781-27aa9e00-3d5c-11ea-99f9-15117ab864bb.png' width  =300px>\n",
        "</center>\n",
        "\n",
        "> Operadores Google Earth Engine\n",
        "\n",
        " _ | _ | GEE\n",
        "--------------|-------------|-------------\n",
        "Arithmetic\t|+ - * / % **\t|add, subtract, multiply, divide, mod, exp\n",
        "Comparison\t| == != < > <= >= |\teq, neq, lt, gt, lte,gte.\n",
        "Logical |\t&& \\|\\| ! ^\t| And, Or, Not, Xor"
      ]
    },
    {
      "cell_type": "code",
      "metadata": {
        "id": "EhdN-KIPdMW8"
      },
      "source": [
        "#@title Función NDVI (Landsat 8)\n",
        "\n",
        "def ndvi_l8(image):\n",
        "  return image.normalizedDifference(['B5','B4']).rename('NDVI')"
      ],
      "execution_count": null,
      "outputs": []
    },
    {
      "cell_type": "code",
      "metadata": {
        "id": "bmipiUYxdeF5"
      },
      "source": [
        "#@title Función EVI (Landsat 8)\n",
        "\n",
        "def evi_l8(image):\n",
        "  nir  = image.select(['B5'])\n",
        "  red  = image.select(['B4'])\n",
        "  blue = image.select(['B2'])\n",
        "  return nir.subtract(red).divide(nir.add(red.multiply(6)).subtract(blue.multiply(7.5)).add(1)).multiply(2.5).rename('EVI')"
      ],
      "execution_count": null,
      "outputs": []
    },
    {
      "cell_type": "markdown",
      "metadata": {
        "id": "Zq0LUjg_Oxiv"
      },
      "source": [
        "## 5. *Aplicaciones de GEE*"
      ]
    },
    {
      "cell_type": "markdown",
      "metadata": {
        "id": "ZMxrSNIKxbRu"
      },
      "source": [
        "### *Prueba Landsat 8*"
      ]
    },
    {
      "cell_type": "code",
      "metadata": {
        "id": "fcMQOdl0dqX0",
        "colab": {
          "base_uri": "https://localhost:8080/",
          "height": 806
        },
        "outputId": "3ab0d4c2-bdd3-49bc-b1a9-e39b0ffb665c"
      },
      "source": [
        "# FILTRADO POR METADATOS: Carga imagenes Landsat 8 TOA\n",
        "# Colección de imágenes Landsat 8\n",
        "# Filtrado por PATH\n",
        "# Filtrado por ROW\n",
        "# Filtrado por % de Nubes\n",
        "# Función a aplicar\n",
        "# Mapa a obtener: mediana\n",
        "l8 = ee.ImageCollection(\"LANDSAT/LC08/C01/T1_SR\")\\\n",
        "        .filter(ee.Filter.eq('WRS_PATH', 6))\\\n",
        "        .filter(ee.Filter.eq('WRS_ROW', 69))\\\n",
        "        .filter(ee.Filter.lt('CLOUD_COVER',5))\\\n",
        "        .map(evi_l8)\\\n",
        "        .median()   \n",
        "\n",
        "# PALETA DE VISUALIZACIÓN\n",
        "ndvi_palette = [\"#051852\", \"#FFFFFF\", \"#C7B59B\", \"#A8B255\", \"#A3C020\", \"#76AD00\",\"#429001\", \"#006400\", \"#003B00\", \"#000000\"]\n",
        "dicc = {'MEDIAN_NDVI': l8.getMapId({'min':-0.1,'max':1,'palette':ndvi_palette})}\n",
        "\n",
        "# ploteamos los resultados!\n",
        "center = [-75.10136671162445, -13.008109861740333]\n",
        "mapdisplay(center, dicc, zoom_start= 13)"
      ],
      "execution_count": null,
      "outputs": [
        {
          "output_type": "execute_result",
          "data": {
            "text/html": [
              "<div style=\"width:100%;\"><div style=\"position:relative;width:100%;height:0;padding-bottom:60%;\"><span style=\"color:#565656\">Make this Notebook Trusted to load map: File -> Trust Notebook</span><iframe src=\"about:blank\" style=\"position:absolute;width:100%;height:100%;left:0;top:0;border:none !important;\" data-html=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 onload=\"this.contentDocument.open();this.contentDocument.write(atob(this.getAttribute('data-html')));this.contentDocument.close();\" allowfullscreen webkitallowfullscreen mozallowfullscreen></iframe></div></div>"
            ],
            "text/plain": [
              "<folium.folium.Map at 0x7fe104d71e48>"
            ]
          },
          "metadata": {
            "tags": []
          },
          "execution_count": 24
        }
      ]
    },
    {
      "cell_type": "markdown",
      "metadata": {
        "id": "_HfSBdCYjJoc"
      },
      "source": [
        "#### Normalized Difference Vegetation Index (NDVI)\n",
        "\n",
        "<center>\n",
        "<img src = 'https://www.publish.csiro.au/temp/WF16131_T1.gif' width = 500px>\n",
        "<center>"
      ]
    },
    {
      "cell_type": "code",
      "metadata": {
        "id": "Ads0mYMnea_m"
      },
      "source": [
        "# Imagen Landsat 8 con el ID del mismo\n",
        "img1 = ee.Image('LANDSAT/LC08/C01/T1_RT/LC08_006069_20190712')   \n",
        "centro_img1 = img1.geometry().centroid().coordinates().getInfo() \n",
        "\n",
        "# Método 1 NDVI\n",
        "# Selección de las Bandas \n",
        "nir = img1.select(['B5'])\n",
        "red = img1.select(['B4'])\n",
        "ndvi1 = nir.subtract(red).divide(nir.add(red))\n",
        "\n",
        "# Método 2 NDVI\n",
        "ndvi2 = img1.normalizedDifference(['B5','B4'])\n",
        "\n",
        "# Paleta de visualización\n",
        "ndvi_palette = [\"#051852\", \"#FFFFFF\", \"#C7B59B\", \"#A8B255\", \"#A3C020\", \"#76AD00\",\"#429001\", \"#006400\", \"#003B00\", \"#000000\"]\n",
        "ndvi_viz = {'ndvi_SF':ndvi1.getMapId({'palette':ndvi_palette, 'min':0,'max':0.8}),\n",
        "            'ndvi_simple':ndvi1.getMapId({'min':0,'max':0.8}),\n",
        "            'ndvi_02':ndvi2.getMapId({'palette':ndvi_palette,'min':0,'max':0.8})} \n",
        "# Cuando no agregas una paleta de colores, por defecto -> Visualización monocromática\n",
        "\n",
        "# Visualización\n",
        "mapdisplay(centro_img1,ndvi_viz)"
      ],
      "execution_count": null,
      "outputs": []
    },
    {
      "cell_type": "markdown",
      "metadata": {
        "id": "XlBRT_Z1jC53"
      },
      "source": [
        "#### Enhanced Vegetation Index (EVI)\n",
        "\n",
        "<center>\n",
        "<img src = 'https://www.publish.csiro.au/temp/WF16131_T1.gif' width = 500px>\n",
        "<center>\n"
      ]
    },
    {
      "cell_type": "code",
      "metadata": {
        "id": "D1qp3xWZkkQM"
      },
      "source": [
        "# Imagen Landsat 8 con el ID del mismo\n",
        "img1 = ee.Image('LANDSAT/LC08/C01/T1_RT/LC08_006069_20190712')   \n",
        "centro_img1 = img1.geometry().centroid().coordinates().getInfo()  \n",
        "\n",
        "# EVI \n",
        "nir = img1.select(['B5'])\n",
        "red = img1.select(['B4'])\n",
        "blue = img1.select(['B2'])\n",
        "evi1 = nir.subtract(red).multiply(2.5).divide(nir.add(red.multiply(6)).subtract(blue.multiply(7.5)).add(1))\n",
        "\n",
        "evi2 = nir.subtract(red).divide(nir.add(red.multiply(6)).subtract(blue.multiply(7.5)).add(1)).multiply(2.5)\n",
        "\n",
        "# VISUALIZATION\n",
        "evi_palette = [\"#051852\", \"#FFFFFF\", \"#C7B59B\", \"#A8B255\", \"#A3C020\", \"#76AD00\",\"#429001\", \"#006400\", \"#003B00\", \"#000000\"]\n",
        "evi_viz = {'ndvi_SF1':evi1.getMapId({'palette':evi_palette, 'min':0,'max':1}),\n",
        "           'ndvi_SF2':evi2.getMapId({'palette':evi_palette, 'min':0,'max':1})} \n",
        "           \n",
        "mapdisplay(centro_img1,evi_viz)"
      ],
      "execution_count": null,
      "outputs": []
    },
    {
      "cell_type": "markdown",
      "metadata": {
        "id": "vz6i30Jusia7"
      },
      "source": [
        "#### Normalized Difference Water Index (NDWI)"
      ]
    },
    {
      "cell_type": "code",
      "metadata": {
        "id": "NQwrLz7Xsrss"
      },
      "source": [
        "# Imagen Landsat 8 con el ID del mismo\n",
        "img1 = ee.Image('LANDSAT/LC08/C01/T1_RT/LC08_006069_20190712')   \n",
        "centro_img1 = img1.geometry().centroid().coordinates().getInfo() \n",
        "\n",
        "# NDWI\n",
        "ndwi = img1.normalizedDifference(['B5','B6'])\n",
        "\n",
        "# Paleta de visualización\n",
        "ndwi_palette = [\"#000180\", \"#0075FD\", \"#6CFB93\", \"#F99D05\", \"#A70700\"]\n",
        "ndwi_viz = {'ndwi_SF':ndwi.getMapId({'palette':ndwi_palette, 'min':0,'max':1})}\n",
        "\n",
        "# Visualización\n",
        "mapdisplay(centro_img1,ndwi_viz)"
      ],
      "execution_count": null,
      "outputs": []
    },
    {
      "cell_type": "markdown",
      "metadata": {
        "id": "3RQgea6lwAn3"
      },
      "source": [
        "### *Prueba Índice Espectral EVI: Sentinel 2*"
      ]
    },
    {
      "cell_type": "code",
      "metadata": {
        "id": "XuN63v_VwD8N"
      },
      "source": [
        "#@markdown ROI: chincha_1 (GEOJSON FILE)\n",
        "chincha = {\n",
        "  \"type\": \"FeatureCollection\",\n",
        "  \"features\": [\n",
        "    {\n",
        "      \"type\": \"Feature\",\n",
        "      \"properties\": {},\n",
        "      \"geometry\": {\n",
        "        \"type\": \"Polygon\",\n",
        "        \"coordinates\": [\n",
        "          [\n",
        "            [\n",
        "              -76.18949890136717,\n",
        "              -13.318135029644719\n",
        "            ],\n",
        "            [\n",
        "              -76.21833801269531,\n",
        "              -13.38026767603707\n",
        "            ],\n",
        "            [\n",
        "              -76.20597839355469,\n",
        "              -13.439045104716296\n",
        "            ],\n",
        "            [\n",
        "              -76.21009826660156,\n",
        "              -13.47377045456579\n",
        "            ],\n",
        "            [\n",
        "              -76.14486694335938,\n",
        "              -13.48044782881521\n",
        "            ],\n",
        "            [\n",
        "              -76.10710144042969,\n",
        "              -13.47510594433495\n",
        "            ],\n",
        "            [\n",
        "              -76.07208251953125,\n",
        "              -13.479780099783259\n",
        "            ],\n",
        "            [\n",
        "              -76.03294372558594,\n",
        "              -13.460415146782308\n",
        "            ],\n",
        "            [\n",
        "              -76.09336853027344,\n",
        "              -13.375591582002007\n",
        "            ],\n",
        "            [\n",
        "              -76.13731384277344,\n",
        "              -13.332834518238672\n",
        "            ],\n",
        "            [\n",
        "              -76.18949890136717,\n",
        "              -13.318135029644719\n",
        "            ]\n",
        "          ]\n",
        "        ]\n",
        "      }\n",
        "    }\n",
        "  ]\n",
        "}\n",
        "\n",
        "# de GeoJSON a ee.Feature\n",
        "ee_chincha = ee.Feature(chincha['features'][0])\n",
        "roi = ee.FeatureCollection(ee_chincha)\n",
        "\n",
        "# Obtenemos el centroide\n",
        "centroide = ee_chincha.geometry().centroid().getInfo()['coordinates']\n",
        "print('Centroid coords:',centroide)\n",
        "#Vizualizamos el geo\n",
        "#dicc = {'Region of interest (ROI)':ee_chincha.getInfo()}\n",
        "#mapdisplay(centroide, dicc, zoom_start= 12)"
      ],
      "execution_count": null,
      "outputs": []
    },
    {
      "cell_type": "code",
      "metadata": {
        "id": "n3IQW66vx9Uf",
        "cellView": "form"
      },
      "source": [
        "#@markdown Función EVI (Sentinel 2)\n",
        "\n",
        "def evi_s2(image):\n",
        "  nir  = image.select(['B8'])\n",
        "  red  = image.select(['B4'])\n",
        "  blue = image.select(['B2'])\n",
        "  return nir.subtract(red).divide(nir.add(red.multiply(6)).subtract(blue.multiply(7.5)).add(1)).multiply(2.5).rename('EVI')"
      ],
      "execution_count": null,
      "outputs": []
    },
    {
      "cell_type": "code",
      "metadata": {
        "id": "zNmIE2yKwdQy",
        "cellView": "form",
        "colab": {
          "base_uri": "https://localhost:8080/",
          "height": 33
        },
        "outputId": "9b48317e-2721-4eb1-f139-521e7f7007cd"
      },
      "source": [
        "#@title Función: ` ee_get_dates()`\n",
        "#@markdown Permite obtener información de la Fecha y Hora de toma de imágen por el satélite. \n",
        "\n",
        "from datetime import datetime as dt\n",
        "def ee_get_dates(ic):\n",
        "  dates = ic.aggregate_array('system:time_start').getInfo()\n",
        "  anonym = lambda x: dt.utcfromtimestamp(x/1000).strftime('%Y-%m-%d %H:%M:%S')\n",
        "  return list(map(anonym, dates))\n",
        "print('ee_get_dates() listo')"
      ],
      "execution_count": null,
      "outputs": [
        {
          "output_type": "stream",
          "text": [
            "ee_get_dates() listo\n"
          ],
          "name": "stdout"
        }
      ]
    },
    {
      "cell_type": "code",
      "metadata": {
        "id": "oJtzg_crwUCP",
        "colab": {
          "base_uri": "https://localhost:8080/",
          "height": 823
        },
        "outputId": "1155bd8e-059f-46bf-b950-20f3cb5a15bc"
      },
      "source": [
        "#@markdown 1. Identificar el producto y fecha de interés disponible:\n",
        "\n",
        "#@markdown Satellite Product: Surface Reflectance | Data Availability\n",
        "#@markdown --- | ---\n",
        "#@markdown Landsat 7 | 1999-01-01 – Present \n",
        "#@markdown Landsat 8 | 2013-04-01 – Present \n",
        "#@markdown Sentinel-2| 2017-03-28 – Present  \n",
        "\n",
        "#@markdown 2. Selección del producto Sentinel\n",
        "#@markdown - Sentinel-2 MSI: MultiSpectral Instrument, Level-1C:     `ee.ImageCollection(\"COPERNICUS/S2\")`\n",
        "#@markdown - Sentinel-2 MSI: MultiSpectral Instrument, Level-2A:     `ee.ImageCollection(\"COPERNICUS/S2_SR\")`\n",
        "\n",
        "#@title String fields\n",
        "\n",
        "Product_name = 'COPERNICUS/S2_SR' #@param [\"COPERNICUS/S2\", \"COPERNICUS/S2_SR\"]\n",
        "\n",
        "#@markdown 2. Seleccionamos las fechas de interés:\n",
        "Start_date = '2018-08-02'  #@param {type: \"date\"}\n",
        "End_date  = '2020-08-04'  #@param {type: \"date\"}\n",
        "#  Parametros globales\n",
        "range_date = [Start_date, End_date]\n",
        "\n",
        "# Llamar al ee.ImageCollection del producto Sentinel-2\n",
        "# Filtro temporal (Fechas)\n",
        "# Filtro espacial (La geometría: roi)\n",
        "sen2_nqc = ee.ImageCollection(Product_name)\\\n",
        "         .filterDate(range_date[0], range_date[1])\\\n",
        "         .filterBounds(roi)\\\n",
        "         .filter(ee.Filter.lt('CLOUDY_PIXEL_PERCENTAGE',0.5))\\\n",
        "         .map(evi_s2)\n",
        "         \n",
        "# Cantidad de Imágenes\n",
        "print('Total de imágenes:', sen2_nqc.size().getInfo())\n",
        "\n",
        "# PALETA DE VISUALIZACIÓN\n",
        "ndvi_palette = [\"#051852\", \"#FFFFFF\", \"#C7B59B\", \"#A8B255\", \"#A3C020\", \"#76AD00\",\"#429001\", \"#006400\", \"#003B00\", \"#000000\"]\n",
        "evi_palette  = ['ffffff', 'fcd163', '99b718', '66a000', '3e8601', '207401', '056201', '004c00', '011301']\n",
        "dicc = {'MEDIAN_EVI_1': sen2_nqc.getMapId({'min':0,'max':1,'palette':ndvi_palette}),\n",
        "        'MEDIAN_EVI_2': sen2_nqc.getMapId({'min':0,'max':1,'palette':evi_palette})}\n",
        "\n",
        "# ploteamos los resultados!\n",
        "mapdisplay(centroide, dicc, zoom_start= 13)\n"
      ],
      "execution_count": null,
      "outputs": [
        {
          "output_type": "stream",
          "text": [
            "Total de imágenes: 3\n"
          ],
          "name": "stdout"
        },
        {
          "output_type": "execute_result",
          "data": {
            "text/html": [
              "<div style=\"width:100%;\"><div style=\"position:relative;width:100%;height:0;padding-bottom:60%;\"><span style=\"color:#565656\">Make this Notebook Trusted to load map: File -> Trust Notebook</span><iframe src=\"about:blank\" style=\"position:absolute;width:100%;height:100%;left:0;top:0;border:none !important;\" data-html=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 onload=\"this.contentDocument.open();this.contentDocument.write(atob(this.getAttribute('data-html')));this.contentDocument.close();\" allowfullscreen webkitallowfullscreen mozallowfullscreen></iframe></div></div>"
            ],
            "text/plain": [
              "<folium.folium.Map at 0x7ff8733fe7f0>"
            ]
          },
          "metadata": {
            "tags": []
          },
          "execution_count": 11
        }
      ]
    },
    {
      "cell_type": "code",
      "metadata": {
        "id": "YEkbmLGM6KmG",
        "colab": {
          "base_uri": "https://localhost:8080/",
          "height": 823
        },
        "outputId": "8f71a942-c466-4be4-c6e3-900b69100749"
      },
      "source": [
        "sen2_nqc1 = ee.ImageCollection(Product_name)\\\n",
        "         .filterDate(range_date[0], range_date[1])\\\n",
        "         .filterBounds(roi)\n",
        "         \n",
        "print('Total de imágenes:', sen2_nqc1.size().getInfo())\n",
        "\n",
        "sen2_nqc1_clip = sen2_nqc1.select(['B4','B3','B2']).mean().divide(10000)\n",
        "\n",
        "mydicc = {'sennqc': sen2_nqc1_clip.getMapId({'min':0,'max':0.5,'bands':['B4','B3','B2']}),\n",
        "          'Region of interest (ROI)':ee_chincha.getInfo()}\n",
        "\n",
        "mapdisplay(centroide, mydicc,zoom_start=12)\n",
        "\n"
      ],
      "execution_count": null,
      "outputs": [
        {
          "output_type": "stream",
          "text": [
            "Total de imágenes: 118\n"
          ],
          "name": "stdout"
        },
        {
          "output_type": "execute_result",
          "data": {
            "text/html": [
              "<div style=\"width:100%;\"><div style=\"position:relative;width:100%;height:0;padding-bottom:60%;\"><span style=\"color:#565656\">Make this Notebook Trusted to load map: File -> Trust Notebook</span><iframe src=\"about:blank\" style=\"position:absolute;width:100%;height:100%;left:0;top:0;border:none !important;\" data-html=PCFET0NUWVBFIGh0bWw+CjxoZWFkPiAgICAKICAgIDxtZXRhIGh0dHAtZXF1aXY9ImNvbnRlbnQtdHlwZSIgY29udGVudD0idGV4dC9odG1sOyBjaGFyc2V0PVVURi04IiAvPgogICAgPHNjcmlwdD5MX1BSRUZFUl9DQU5WQVM9ZmFsc2U7IExfTk9fVE9VQ0g9ZmFsc2U7IExfRElTQUJMRV8zRD1mYWxzZTs8L3NjcmlwdD4KICAgIDxzY3JpcHQgc3JjPSJodHRwczovL2Nkbi5qc2RlbGl2ci5uZXQvbnBtL2xlYWZsZXRAMS40LjAvZGlzdC9sZWFmbGV0LmpzIj48L3NjcmlwdD4KICAgIDxzY3JpcHQgc3JjPSJodHRwczovL2NvZGUuanF1ZXJ5LmNvbS9qcXVlcnktMS4xMi40Lm1pbi5qcyI+PC9zY3JpcHQ+CiAgICA8c2NyaXB0IHNyYz0iaHR0cHM6Ly9tYXhjZG4uYm9vdHN0cmFwY2RuLmNvbS9ib290c3RyYXAvMy4yLjAvanMvYm9vdHN0cmFwLm1pbi5qcyI+PC9zY3JpcHQ+CiAgICA8c2NyaXB0IHNyYz0iaHR0cHM6Ly9jZG5qcy5jbG91ZGZsYXJlLmNvbS9hamF4L2xpYnMvTGVhZmxldC5hd2Vzb21lLW1hcmtlcnMvMi4wLjIvbGVhZmxldC5hd2Vzb21lLW1hcmtlcnMuanMiPjwvc2NyaXB0PgogICAgPGxpbmsgcmVsPSJzdHlsZXNoZWV0IiBocmVmPSJodHRwczovL2Nkbi5qc2RlbGl2ci5uZXQvbnBtL2xlYWZsZXRAMS40LjAvZGlzdC9sZWFmbGV0LmNzcyIvPgogICAgPGxpbmsgcmVsPSJzdHlsZXNoZWV0IiBocmVmPSJodHRwczovL21heGNkbi5ib290c3RyYXBjZG4uY29tL2Jvb3RzdHJhcC8zLjIuMC9jc3MvYm9vdHN0cmFwLm1pbi5jc3MiLz4KICAgIDxsaW5rIHJlbD0ic3R5bGVzaGVldCIgaHJlZj0iaHR0cHM6Ly9tYXhjZG4uYm9vdHN0cmFwY2RuLmNvbS9ib290c3RyYXAvMy4yLjAvY3NzL2Jvb3RzdHJhcC10aGVtZS5taW4uY3NzIi8+CiAgICA8bGluayByZWw9InN0eWxlc2hlZXQiIGhyZWY9Imh0dHBzOi8vbWF4Y2RuLmJvb3RzdHJhcGNkbi5jb20vZm9udC1hd2Vzb21lLzQuNi4zL2Nzcy9mb250LWF3ZXNvbWUubWluLmNzcyIvPgogICAgPGxpbmsgcmVsPSJzdHlsZXNoZWV0IiBocmVmPSJodHRwczovL2NkbmpzLmNsb3VkZmxhcmUuY29tL2FqYXgvbGlicy9MZWFmbGV0LmF3ZXNvbWUtbWFya2Vycy8yLjAuMi9sZWFmbGV0LmF3ZXNvbWUtbWFya2Vycy5jc3MiLz4KICAgIDxsaW5rIHJlbD0ic3R5bGVzaGVldCIgaHJlZj0iaHR0cHM6Ly9yYXdjZG4uZ2l0aGFjay5jb20vcHl0aG9uLXZpc3VhbGl6YXRpb24vZm9saXVtL21hc3Rlci9mb2xpdW0vdGVtcGxhdGVzL2xlYWZsZXQuYXdlc29tZS5yb3RhdGUuY3NzIi8+CiAgICA8c3R5bGU+aHRtbCwgYm9keSB7d2lkdGg6IDEwMCU7aGVpZ2h0OiAxMDAlO21hcmdpbjogMDtwYWRkaW5nOiAwO308L3N0eWxlPgogICAgPHN0eWxlPiNtYXAge3Bvc2l0aW9uOmFic29sdXRlO3RvcDowO2JvdHRvbTowO3JpZ2h0OjA7bGVmdDowO308L3N0eWxlPgogICAgCiAgICA8bWV0YSBuYW1lPSJ2aWV3cG9ydCIgY29udGVudD0id2lkdGg9ZGV2aWNlLXdpZHRoLAogICAgICAgIGluaXRpYWwtc2NhbGU9MS4wLCBtYXhpbXVtLXNjYWxlPTEuMCwgdXNlci1zY2FsYWJsZT1ubyIgLz4KICAgIDxzdHlsZT4jbWFwX2I0MTdkNDQ3NzUyZDQ3YTFhOWY5ZmJhYWUyMGJmNTdjIHsKICAgICAgICBwb3NpdGlvbjogcmVsYXRpdmU7CiAgICAgICAgd2lkdGg6IDEwMC4wJTsKICAgICAgICBoZWlnaHQ6IDEwMC4wJTsKICAgICAgICBsZWZ0OiAwLjAlOwogICAgICAgIHRvcDogMC4wJTsKICAgICAgICB9CiAgICA8L3N0eWxlPgo8L2hlYWQ+Cjxib2R5PiAgICAKICAgIAogICAgPGRpdiBjbGFzcz0iZm9saXVtLW1hcCIgaWQ9Im1hcF9iNDE3ZDQ0Nzc1MmQ0N2ExYTlmOWZiYWFlMjBiZjU3YyIgPjwvZGl2Pgo8L2JvZHk+CjxzY3JpcHQ+ICAgIAogICAgCiAgICAKICAgICAgICB2YXIgYm91bmRzID0gbnVsbDsKICAgIAoKICAgIHZhciBtYXBfYjQxN2Q0NDc3NTJkNDdhMWE5ZjlmYmFhZTIwYmY1N2MgPSBMLm1hcCgKICAgICAgICAnbWFwX2I0MTdkNDQ3NzUyZDQ3YTFhOWY5ZmJhYWUyMGJmNTdjJywgewogICAgICAgIGNlbnRlcjogWy0xMy40MTIzMTIyODgzNzY2NSwgLTc2LjE0MDY4Mjg5Mzk3MzE1XSwKICAgICAgICB6b29tOiAxMiwKICAgICAgICBtYXhCb3VuZHM6IGJvdW5kcywKICAgICAgICBsYXllcnM6IFtdLAogICAgICAgIHdvcmxkQ29weUp1bXA6IGZhbHNlLAogICAgICAgIGNyczogTC5DUlMuRVBTRzM4NTcsCiAgICAgICAgem9vbUNvbnRyb2w6IHRydWUsCiAgICAgICAgfSk7CgoKICAgIAogICAgdmFyIHRpbGVfbGF5ZXJfZmU4NDE1YzVjZjM1NGJmODk2MGRhYThkNzg4YTUxYjQgPSBMLnRpbGVMYXllcigKICAgICAgICAnaHR0cHM6Ly97c30udGlsZS5vcGVuc3RyZWV0bWFwLm9yZy97en0ve3h9L3t5fS5wbmcnLAogICAgICAgIHsKICAgICAgICAiYXR0cmlidXRpb24iOiBudWxsLAogICAgICAgICJkZXRlY3RSZXRpbmEiOiBmYWxzZSwKICAgICAgICAibWF4TmF0aXZlWm9vbSI6IDE4LAogICAgICAgICJtYXhab29tIjogMTgsCiAgICAgICAgIm1pblpvb20iOiAwLAogICAgICAgICJub1dyYXAiOiBmYWxzZSwKICAgICAgICAib3BhY2l0eSI6IDEsCiAgICAgICAgInN1YmRvbWFpbnMiOiAiYWJjIiwKICAgICAgICAidG1zIjogZmFsc2UKfSkuYWRkVG8obWFwX2I0MTdkNDQ3NzUyZDQ3YTFhOWY5ZmJhYWUyMGJmNTdjKTsKICAgIHZhciB0aWxlX2xheWVyXzA2ZjY1NGQ5YWVkZDQ3Y2JiNGJjZjRmYTU0ZWU3ZDMzID0gTC50aWxlTGF5ZXIoCiAgICAgICAgJ2h0dHBzOi8vZWFydGhlbmdpbmUuZ29vZ2xlYXBpcy5jb20vdjFhbHBoYS9wcm9qZWN0cy9lYXJ0aGVuZ2luZS1sZWdhY3kvbWFwcy9lY2RiMzhmYTBmMDZmYzk4NGRmNDY5MGEyMzRiZjk2Yi1iZjVkODUyZDU1Yzc1Mzg5YjcxOWU5OTQ0YWQ2NjkzMC90aWxlcy97en0ve3h9L3t5fScsCiAgICAgICAgewogICAgICAgICJhdHRyaWJ1dGlvbiI6ICJHb29nbGUgRWFydGggRW5naW5lIiwKICAgICAgICAiZGV0ZWN0UmV0aW5hIjogZmFsc2UsCiAgICAgICAgIm1heE5hdGl2ZVpvb20iOiAxOCwKICAgICAgICAibWF4Wm9vbSI6IDE4LAogICAgICAgICJtaW5ab29tIjogMCwKICAgICAgICAibm9XcmFwIjogZmFsc2UsCiAgICAgICAgIm9wYWNpdHkiOiAxLAogICAgICAgICJzdWJkb21haW5zIjogImFiYyIsCiAgICAgICAgInRtcyI6IGZhbHNlCn0pLmFkZFRvKG1hcF9iNDE3ZDQ0Nzc1MmQ0N2ExYTlmOWZiYWFlMjBiZjU3Yyk7CiAgICAKICAgICAgICB2YXIgZ2VvX2pzb25fMTdjMDU0YmMwOTk2NGM2OWI0YWY0Mjc3NjQwMDA0Y2UgPSBMLmdlb0pzb24oCiAgICAgICAgICAgIHsiZmVhdHVyZXMiOiBbeyJnZW9tZXRyeSI6IHsiY29vcmRpbmF0ZXMiOiBbW1stNzYuMTg5NDk4OTAxMzY3MTcsIC0xMy4zMTgxMzUwMjk2NDQ3MTldLCBbLTc2LjIxODMzODAxMjY5NTMxLCAtMTMuMzgwMjY3Njc2MDM3MDddLCBbLTc2LjIwNTk3ODM5MzU1NDY5LCAtMTMuNDM5MDQ1MTA0NzE2Mjk2XSwgWy03Ni4yMTAwOTgyNjY2MDE1NiwgLTEzLjQ3Mzc3MDQ1NDU2NTc5XSwgWy03Ni4xNDQ4NjY5NDMzNTkzOCwgLTEzLjQ4MDQ0NzgyODgxNTIxXSwgWy03Ni4xMDcxMDE0NDA0Mjk2OSwgLTEzLjQ3NTEwNTk0NDMzNDk1XSwgWy03Ni4wNzIwODI1MTk1MzEyNSwgLTEzLjQ3OTc4MDA5OTc4MzI1OV0sIFstNzYuMDMyOTQzNzI1NTg1OTQsIC0xMy40NjA0MTUxNDY3ODIzMDhdLCBbLTc2LjA5MzM2ODUzMDI3MzQ0LCAtMTMuMzc1NTkxNTgyMDAyMDA3XSwgWy03Ni4xMzczMTM4NDI3NzM0NCwgLTEzLjMzMjgzNDUxODIzODY3Ml0sIFstNzYuMTg5NDk4OTAxMzY3MTcsIC0xMy4zMTgxMzUwMjk2NDQ3MTldXV0sICJ0eXBlIjogIlBvbHlnb24ifSwgInByb3BlcnRpZXMiOiB7ImhpZ2hsaWdodCI6IHt9LCAic3R5bGUiOiB7fX0sICJ0eXBlIjogIkZlYXR1cmUifV0sICJ0eXBlIjogIkZlYXR1cmVDb2xsZWN0aW9uIn0sCiAgICAgICAgICAgIHsKICAgICAgICAgICAgfQogICAgICAgICkuYWRkVG8obWFwX2I0MTdkNDQ3NzUyZDQ3YTFhOWY5ZmJhYWUyMGJmNTdjICk7CiAgICAgICAgZ2VvX2pzb25fMTdjMDU0YmMwOTk2NGM2OWI0YWY0Mjc3NjQwMDA0Y2Uuc2V0U3R5bGUoZnVuY3Rpb24oZmVhdHVyZSkge3JldHVybiBmZWF0dXJlLnByb3BlcnRpZXMuc3R5bGU7fSk7CiAgICAgICAgCiAgICAKICAgICAgICAgICAgdmFyIGxheWVyX2NvbnRyb2xfM2M4N2YwMzQxMDRjNGEyZDg1M2RlNjE1NTQ2NWIxODkgPSB7CiAgICAgICAgICAgICAgICBiYXNlX2xheWVycyA6IHsgIm9wZW5zdHJlZXRtYXAiIDogdGlsZV9sYXllcl9mZTg0MTVjNWNmMzU0YmY4OTYwZGFhOGQ3ODhhNTFiNCwgfSwKICAgICAgICAgICAgICAgIG92ZXJsYXlzIDogeyAic2VubnFjIiA6IHRpbGVfbGF5ZXJfMDZmNjU0ZDlhZWRkNDdjYmI0YmNmNGZhNTRlZTdkMzMsIlJlZ2lvbiBvZiBpbnRlcmVzdCAoUk9JKSIgOiBnZW9fanNvbl8xN2MwNTRiYzA5OTY0YzY5YjRhZjQyNzc2NDAwMDRjZSwgfQogICAgICAgICAgICAgICAgfTsKICAgICAgICAgICAgTC5jb250cm9sLmxheWVycygKICAgICAgICAgICAgICAgIGxheWVyX2NvbnRyb2xfM2M4N2YwMzQxMDRjNGEyZDg1M2RlNjE1NTQ2NWIxODkuYmFzZV9sYXllcnMsCiAgICAgICAgICAgICAgICBsYXllcl9jb250cm9sXzNjODdmMDM0MTA0YzRhMmQ4NTNkZTYxNTU0NjViMTg5Lm92ZXJsYXlzLAogICAgICAgICAgICAgICAge3Bvc2l0aW9uOiAndG9wcmlnaHQnLAogICAgICAgICAgICAgICAgIGNvbGxhcHNlZDogdHJ1ZSwKICAgICAgICAgICAgICAgICBhdXRvWkluZGV4OiB0cnVlCiAgICAgICAgICAgICAgICB9KS5hZGRUbyhtYXBfYjQxN2Q0NDc3NTJkNDdhMWE5ZjlmYmFhZTIwYmY1N2MpOwogICAgICAgICAgICAKICAgICAgICAKPC9zY3JpcHQ+ onload=\"this.contentDocument.open();this.contentDocument.write(atob(this.getAttribute('data-html')));this.contentDocument.close();\" allowfullscreen webkitallowfullscreen mozallowfullscreen></iframe></div></div>"
            ],
            "text/plain": [
              "<folium.folium.Map at 0x7ff873214a58>"
            ]
          },
          "metadata": {
            "tags": []
          },
          "execution_count": 17
        }
      ]
    },
    {
      "cell_type": "code",
      "metadata": {
        "id": "SQwEVTgtvAfH",
        "colab": {
          "base_uri": "https://localhost:8080/",
          "height": 33
        },
        "outputId": "1c6218a6-358d-4c2b-8522-0c67c8eec4bc"
      },
      "source": [
        "ee_get_dates(sen2_nqc)"
      ],
      "execution_count": null,
      "outputs": [
        {
          "output_type": "execute_result",
          "data": {
            "text/plain": [
              "[]"
            ]
          },
          "metadata": {
            "tags": []
          },
          "execution_count": 12
        }
      ]
    }
  ]
}