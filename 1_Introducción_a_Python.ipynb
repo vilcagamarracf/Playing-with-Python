{
  "nbformat": 4,
  "nbformat_minor": 0,
  "metadata": {
    "colab": {
      "name": "1. Introducción a Python.ipynb",
      "provenance": [],
      "collapsed_sections": [],
      "include_colab_link": true
    },
    "kernelspec": {
      "name": "python3",
      "display_name": "Python 3"
    }
  },
  "cells": [
    {
      "cell_type": "markdown",
      "metadata": {
        "id": "view-in-github",
        "colab_type": "text"
      },
      "source": [
        "<a href=\"https://colab.research.google.com/github/vilcagamarracf/Playing-with-colab/blob/main/1_Introducci%C3%B3n_a_Python.ipynb\" target=\"_parent\"><img src=\"https://colab.research.google.com/assets/colab-badge.svg\" alt=\"Open In Colab\"/></a>"
      ]
    },
    {
      "cell_type": "markdown",
      "metadata": {
        "id": "YUv6q7hXEX1G"
      },
      "source": [
        "<a href=\"https://colab.research.google.com/drive/15qO_VnRh-X_m0sNQTNm5jk1g76_xQBlV#scrollTo=YUv6q7hXEX1G\">\r\n",
        "<img src=\"https://colab.research.google.com/assets/colab-badge.svg\" alt=\"Open In Colab\"/>\r\n",
        "</a>"
      ]
    },
    {
      "cell_type": "markdown",
      "metadata": {
        "id": "YG2WxyQ9e2vk"
      },
      "source": [
        "# ***Introduccion a Python***"
      ]
    },
    {
      "cell_type": "markdown",
      "metadata": {
        "id": "FkcVycPLi-Oq"
      },
      "source": [
        "\n",
        "Python es un lenguaje de escritura de alto nivel, interpretado, multiparadigma, dinámico y de fuerte tipado que tiene las siguientes características:\n",
        "\n",
        "* No hay declaración previa de variables, y los tipos de variables se       determinan dinámicamente.\n",
        "\n",
        "* El control de bloques se realiza solo por identacion; No hay delimitadores de tipo BEGIN y END.\n",
        "\n",
        "* Oferece tipos de datos de alto nível: strings, listas, tuplas, diccionarios, archivos, clases.\n",
        "\n"
      ]
    },
    {
      "cell_type": "markdown",
      "metadata": {
        "id": "vl33mn9lUhlM"
      },
      "source": [
        "# 1. Tipos de variables en python"
      ]
    },
    {
      "cell_type": "markdown",
      "metadata": {
        "id": "4T1s51G8DpXG"
      },
      "source": [
        "\n",
        "\n",
        "| Tipos de varibles | Descripcion                                   | ejemplo      |\n",
        "|---------------|---------------------------------------------|-------------------------|\n",
        "| *int*         | valor entero                           | a = 103458              |\n",
        "| *float*       | valor punto flotante                 | pi = 3.14159265         |\n",
        "| *bool*        | Variable  *booleana* - *True* ou *False*     | a = False               |\n",
        "| *complex*     | Variable de número complexo                 | c = 2+3j                |\n",
        "| *str*         | Variable para cadena de caracteres ASCII    | a = \"Exemplo\"           |\n",
        "| *list*        | Lista heterogena que pode alterar sus valores   | lista = [4,'eu',1]      |\n",
        "| *tuple*       | Tupla heterogenea inmutable                  | tupla = (1,'eu',2)      |\n",
        "| *dict*        |conjunto de valores asociados            | dic = {1:'eu',2:'você'} |   "
      ]
    },
    {
      "cell_type": "code",
      "metadata": {
        "id": "7KIUoR4ujD0l",
        "colab": {
          "base_uri": "https://localhost:8080/"
        },
        "outputId": "3d10508d-c074-4071-d8d2-15c02a2dcdb3"
      },
      "source": [
        "a = 3\n",
        "print(type(a))\n",
        "\n",
        "b = 3.14\n",
        "print(type(b))\n",
        "\n",
        "c = bool(0)\n",
        "print(type(c))\n",
        "\n",
        "d = 3+4j\n",
        "print(type(d))\n",
        "\n",
        "e='Hola Mundo'\n",
        "print(type(e))\n",
        "\n",
        "f=[4,2,'e']\n",
        "print(type(f))\n",
        "\n",
        "g=(1,2,'e')\n",
        "print(type(g))\n",
        "\n",
        "h= {1:'eu',2:'SPS'}\n",
        "print(type(h))\n"
      ],
      "execution_count": null,
      "outputs": [
        {
          "output_type": "stream",
          "text": [
            "<class 'int'>\n",
            "<class 'float'>\n",
            "<class 'bool'>\n",
            "<class 'complex'>\n",
            "<class 'str'>\n",
            "<class 'list'>\n",
            "<class 'tuple'>\n",
            "<class 'dict'>\n"
          ],
          "name": "stdout"
        }
      ]
    },
    {
      "cell_type": "code",
      "metadata": {
        "id": "PayWC_jaiyOG",
        "colab": {
          "base_uri": "https://localhost:8080/"
        },
        "outputId": "fcc757bf-2d38-47fa-b796-e59b449215cd"
      },
      "source": [
        "print(a + b)  \n",
        "print(b * c) \n",
        "print(c / a)\n",
        "print(7//2) # división entera\n",
        "# el resto\n",
        "print( 7 % 2 )"
      ],
      "execution_count": null,
      "outputs": [
        {
          "output_type": "stream",
          "text": [
            "6.140000000000001\n",
            "0.0\n",
            "0.0\n",
            "3\n",
            "1\n"
          ],
          "name": "stdout"
        }
      ]
    },
    {
      "cell_type": "markdown",
      "metadata": {
        "id": "R0DHdI7qDf3x"
      },
      "source": [
        "# 2. Operaciones basicas"
      ]
    },
    {
      "cell_type": "markdown",
      "metadata": {
        "id": "aQfFnqP4PF0U"
      },
      "source": [
        "## 2.1 Enteros"
      ]
    },
    {
      "cell_type": "code",
      "metadata": {
        "id": "eh6v7C9itcce",
        "colab": {
          "base_uri": "https://localhost:8080/"
        },
        "outputId": "bfa5994a-acd0-47ea-815c-2eda453717c2"
      },
      "source": [
        "a=7\n",
        "b=2\n",
        "\n",
        "print(\"Suma:\" , a+b )\n",
        "print(\"Resta:\" , a-b )\n",
        "print(\"Multiplicacion:\",a*b)\n",
        "print(\"Potenciacion:\" , a**b)\n",
        "print(\"Division:\",a/b)\n",
        "print(\"Division exacta:\" , a//b )\n",
        "print(\"Resto:\" , a%b )\n"
      ],
      "execution_count": null,
      "outputs": [
        {
          "output_type": "stream",
          "text": [
            "Suma: 9\n",
            "Resta: 5\n",
            "Multiplicacion: 14\n",
            "Potenciacion: 49\n",
            "Division: 3.5\n",
            "Division exacta: 3\n",
            "Resto: 1\n"
          ],
          "name": "stdout"
        }
      ]
    },
    {
      "cell_type": "markdown",
      "metadata": {
        "id": "CqdFMk82myDv"
      },
      "source": [
        "## 2.2 Flotantes"
      ]
    },
    {
      "cell_type": "code",
      "metadata": {
        "id": "Kdq-JrFWncCk",
        "colab": {
          "base_uri": "https://localhost:8080/"
        },
        "outputId": "ec1e225c-5415-4507-8735-86185acfa9cc"
      },
      "source": [
        "#a=7.0\n",
        "a=7\n",
        "b=2.0\n",
        "\n",
        "print(\"Suma:\" , a+b )\n",
        "print(\"Resta:\" , a-b )\n",
        "print(\"Multiplicacion:\",a*b)\n",
        "print(\"Potenciacion:\" , a**b)\n",
        "print(\"Division:\",a/b)\n",
        "print(\"Division exacta:\" , a//b )\n",
        "print(\"Resto:\" , a%b )"
      ],
      "execution_count": null,
      "outputs": [
        {
          "output_type": "stream",
          "text": [
            "Suma: 9.0\n",
            "Resta: 5.0\n",
            "Multiplicacion: 14.0\n",
            "Potenciacion: 49.0\n",
            "Division: 3.5\n",
            "Division exacta: 3.0\n",
            "Resto: 1.0\n"
          ],
          "name": "stdout"
        }
      ]
    },
    {
      "cell_type": "markdown",
      "metadata": {
        "id": "Ju0gPBZ2njDg"
      },
      "source": [
        "## 2.3 Complex"
      ]
    },
    {
      "cell_type": "code",
      "metadata": {
        "id": "tDBOIELSI0O1",
        "colab": {
          "base_uri": "https://localhost:8080/"
        },
        "outputId": "47601cd9-1a38-494b-f9f0-71a6472b3495"
      },
      "source": [
        "c1 = 4 + 3j\n",
        "c2 = complex(2, 3)\n",
        "print(\"Suma:\" , c1 + c2 )\n",
        "print(\"Resta:\", c1 - c2)\n",
        "print(\"Multiplicacion:\" , c1 * 3 )\n",
        "print(\"Multiplicacion:\" , c1 * c2 )\n",
        "print(\"Conjugada:\" , c1.conjugate() )\n",
        "print(\"Division:\" , c1 / c2 )\n",
        "print(\"Modulo:\", abs(c1) )\n",
        "print(\"Parte real:\" , c1.real )\n",
        "print(\"Parte imaginaria:\" , c1.imag)"
      ],
      "execution_count": null,
      "outputs": [
        {
          "output_type": "stream",
          "text": [
            "Suma: (6+6j)\n",
            "Resta: (2+0j)\n",
            "Multiplicacion: (12+9j)\n",
            "Multiplicacion: (-1+18j)\n",
            "Conjugada: (4-3j)\n",
            "Division: (1.3076923076923077-0.46153846153846156j)\n",
            "Modulo: 5.0\n",
            "Parte real: 4.0\n",
            "Parte imaginaria: 3.0\n"
          ],
          "name": "stdout"
        }
      ]
    },
    {
      "cell_type": "code",
      "metadata": {
        "id": "AWQEWfoRN6pu",
        "colab": {
          "base_uri": "https://localhost:8080/",
          "height": 511
        },
        "outputId": "e17baa89-54f9-48ad-939d-f5c91bfb4f89"
      },
      "source": [
        "# Fractales \n",
        "\n",
        "import numpy as np\n",
        "import numba # librería que permite realizar operaciones matemáticas más rapido  https://numba.pydata.org/ \n",
        "import matplotlib.pyplot as plt\n",
        "\n",
        "def py_julia_fractal(z_re, z_im, j):\n",
        "    '''Crea el grafico del fractal de Julia.'''\n",
        "    for m in range(len(z_re)):\n",
        "        for n in range(len(z_im)):\n",
        "            z = z_re[m] + 1j * z_im[n]\n",
        "            for t in range(256):\n",
        "                z = z ** 2 - 0.05 + 0.68j # cambiar el exponente: 3 o 2\n",
        "                if np.abs(z) > 2.0:\n",
        "                    j[m, n] = t\n",
        "                    break\n",
        "                    \n",
        "jit_julia_fractal = numba.jit(nopython=True)(py_julia_fractal)\n",
        "\n",
        "N = 1024\n",
        "j = np.zeros((N, N), np.int64)\n",
        "z_real = np.linspace(-1.5, 1.5, N)\n",
        "z_imag = np.linspace(-1.5, 1.5, N)\n",
        "jit_julia_fractal(z_real, z_imag, j)\n",
        "\n",
        "fig, ax = plt.subplots(figsize=(8, 8))\n",
        "ax.imshow(j, cmap=plt.cm.RdBu_r, extent=[-1.5, 1.5, -1.5, 1.5])\n",
        "ax.set_xlabel(\"$\\mathrm{Re}(z)$\", fontsize=18)\n",
        "ax.set_ylabel(\"$\\mathrm{Im}(z)$\", fontsize=18)\n",
        "plt.show()"
      ],
      "execution_count": null,
      "outputs": [
        {
          "output_type": "display_data",
          "data": {
            "image/png": "[encoded data removed]",
            "text/plain": [
              "<Figure size 576x576 with 1 Axes>"
            ]
          },
          "metadata": {
            "tags": [],
            "needs_background": "light"
          }
        }
      ]
    },
    {
      "cell_type": "markdown",
      "metadata": {
        "id": "wBULX3IIPukU"
      },
      "source": [
        "## 2.4 Booleanos"
      ]
    },
    {
      "cell_type": "code",
      "metadata": {
        "id": "rte32xgdJl9l",
        "colab": {
          "base_uri": "https://localhost:8080/"
        },
        "outputId": "ccf6b570-8bf9-47e0-efa1-fdf541abd4da"
      },
      "source": [
        "a = True # un = es asignación de variable\n",
        "b = False\n",
        "c = bool(0)  # Algebra de bool, estructuras lógicas\n",
        "d = bool(1)\n",
        "e = 3>2\n",
        "f = 2==1 # comparación    ¿2 es igual a 1?, en Javascript hay el ===\n",
        "\n",
        "print(a)\n",
        "print(b)\n",
        "print(c) # retorna False\n",
        "print(d) # retorna True\n",
        "print(e)\n",
        "print(f)\n",
        "\n",
        "print('\\nOperaciones: ')\n",
        "print(a and b)\n",
        "print(a or b)\n",
        "print(not a)"
      ],
      "execution_count": null,
      "outputs": [
        {
          "output_type": "stream",
          "text": [
            "True\n",
            "False\n",
            "False\n",
            "True\n",
            "True\n",
            "False\n",
            "\n",
            "Operaciones: \n",
            "False\n",
            "True\n",
            "False\n"
          ],
          "name": "stdout"
        }
      ]
    },
    {
      "cell_type": "markdown",
      "metadata": {
        "id": "ralQpKLb5nAK"
      },
      "source": [
        "## 2.5 Listas"
      ]
    },
    {
      "cell_type": "markdown",
      "metadata": {
        "id": "-ApemA6UWxDX"
      },
      "source": [
        "mutables"
      ]
    },
    {
      "cell_type": "code",
      "metadata": {
        "id": "smP9bcI75sX1",
        "colab": {
          "base_uri": "https://localhost:8080/"
        },
        "outputId": "fe1cbf0c-e20d-4631-f88c-ff1b3794d3cf"
      },
      "source": [
        "a = [0,1,2,3,4,5,6,7,8,9,10,11]\n",
        "b = [0,1,2,3,4]\n",
        "c = [ \"fiee\" , \" \" , \"UNI\" , 1 , 2.0, 2+4j]\n",
        "\n",
        "\n",
        "e = [ 'a' , 1 , 7]\n",
        "print(e[0])\n",
        "print(e[1])\n",
        "print(e[2])\n",
        "\n",
        "print(\"Formas de mostrar listas:\\n\")\n",
        "print(a)\n",
        "print(b)\n",
        "print(c)\n",
        "print(\"\\n\")\n",
        "\n"
      ],
      "execution_count": null,
      "outputs": [
        {
          "output_type": "stream",
          "text": [
            "a\n",
            "1\n",
            "7\n",
            "Formas de mostrar listas:\n",
            "\n",
            "[0, 1, 2, 3, 4, 5, 6, 7, 8, 9, 10, 11]\n",
            "[0, 1, 2, 3, 4]\n",
            "['fiee', ' ', 'UNI', 1, 2.0, (2+4j)]\n",
            "\n",
            "\n"
          ],
          "name": "stdout"
        }
      ]
    },
    {
      "cell_type": "code",
      "metadata": {
        "id": "EiJgHEIZGAK4",
        "colab": {
          "base_uri": "https://localhost:8080/"
        },
        "outputId": "f2b000f9-125a-4775-d845-e469c08bbab5"
      },
      "source": [
        "# OJO\n",
        "a = [0,1,2,3,4,5,6,7,8,9,10,11]\n",
        "#a= [0, 1, 2, 5.5, 3, 4, 5, 6, 7, 8, 9, 10, 11, 12, 15]\n",
        "\n",
        "print(\"Metodos en listas:\")\n",
        "print(\"Append:\")\n",
        "a.append(12) # agrega un valor pero puedes decidir donde colocarlo\n",
        "print(a)\n",
        "print(\"\\n\")\n",
        "\n",
        "print(\"Extend:\")\n",
        "a.extend([15]) # agrega un valor pero al extremo\n",
        "print(a)\n",
        "print(\"\\n\")\n",
        "\n",
        "print(\"Insert:\")\n",
        "a.insert(3,5.5) # índice 3, valor 5.5\n",
        "print(a)\n",
        "print(\"\\n\")"
      ],
      "execution_count": null,
      "outputs": [
        {
          "output_type": "stream",
          "text": [
            "Metodos en listas:\n",
            "Append:\n",
            "[0, 1, 2, 3, 4, 5, 6, 7, 8, 9, 10, 11, 12]\n",
            "\n",
            "\n",
            "Extend:\n",
            "[0, 1, 2, 3, 4, 5, 6, 7, 8, 9, 10, 11, 12, 15]\n",
            "\n",
            "\n",
            "Insert:\n",
            "[0, 1, 2, 5.5, 3, 4, 5, 6, 7, 8, 9, 10, 11, 12, 15]\n",
            "\n",
            "\n"
          ],
          "name": "stdout"
        }
      ]
    },
    {
      "cell_type": "code",
      "metadata": {
        "id": "x7NjbndIgecc",
        "colab": {
          "base_uri": "https://localhost:8080/"
        },
        "outputId": "2530eb59-64a0-47d5-9a45-4c999dff6c93"
      },
      "source": [
        "#OJO\n",
        "c = [ \"'fi'ee\" , \" \" , \"UNI\" , 1 , 2.0 ]\n",
        "\n",
        "print(c)\n",
        "c.remove(\"'fi'ee\")\n",
        "print(c)\n",
        "\n",
        "c.reverse()\n",
        "print(c)\n",
        "\n",
        "\n",
        "\n",
        "def myFunc(e):\n",
        "  return len(e)\n",
        "\n",
        "cars = ['Ford', 'Mitsubishi', 'BMW', 'VW']\n",
        "\n",
        "cars.sort(key=myFunc) # ordenar las listas siguiendo alguna lógica\n",
        "\n",
        "print(cars) # retorna de manera ordenada según la longitud de los strings\n",
        "\n"
      ],
      "execution_count": null,
      "outputs": [
        {
          "output_type": "stream",
          "text": [
            "[\"'fi'ee\", ' ', 'UNI', 1, 2.0]\n",
            "[' ', 'UNI', 1, 2.0]\n",
            "[2.0, 1, 'UNI', ' ']\n",
            "['VW', 'BMW', 'Ford', 'Mitsubishi']\n"
          ],
          "name": "stdout"
        }
      ]
    },
    {
      "cell_type": "markdown",
      "metadata": {
        "id": "-MDbv6XrTyiu"
      },
      "source": [
        "## 2.3 String"
      ]
    },
    {
      "cell_type": "code",
      "metadata": {
        "id": "nLkiFjSBu-VW",
        "colab": {
          "base_uri": "https://localhost:8080/"
        },
        "outputId": "dddfd5a0-43ba-43db-f705-68cf35abfb10"
      },
      "source": [
        "a = \"'hola' UNI\"\n",
        "b= 'UNI fiee'\n",
        "# Para considerar comillas en tu string -> comenzar con doble comillas para que interiormente uses comillas simples\n",
        "print(a + ' ' + 'Mundo')\n",
        "print('Hola ' * 3 + 'Mundo')"
      ],
      "execution_count": null,
      "outputs": [
        {
          "output_type": "stream",
          "text": [
            "'hola' UNI Mundo\n",
            "Hola Hola Hola Mundo\n"
          ],
          "name": "stdout"
        }
      ]
    },
    {
      "cell_type": "code",
      "metadata": {
        "id": "QAHS2tqYJcYa",
        "colab": {
          "base_uri": "https://localhost:8080/"
        },
        "outputId": "17dc4186-64cd-4e3f-8663-e1e40e3ae6d0"
      },
      "source": [
        "c = 'hola mundo'\n",
        "c = 'Hola'\n",
        "c += ' ' # c = c + ' '       suma acumulada: +=\n",
        "c += 'Mundo' # c = c + 'mundo'\n",
        "\n",
        "print(c)\n",
        "print(len(c)) # len() devuelve la longitud\n",
        "print( c.find('M') ) # .find() da la ubicación, dónde se encuentra M\n",
        "print( c.find('jajaja') )   # si no aparece: -1"
      ],
      "execution_count": null,
      "outputs": [
        {
          "output_type": "stream",
          "text": [
            "Hola Mundo\n",
            "10\n",
            "5\n",
            "-1\n"
          ],
          "name": "stdout"
        }
      ]
    },
    {
      "cell_type": "code",
      "metadata": {
        "id": "G3RdMvoXdApn",
        "colab": {
          "base_uri": "https://localhost:8080/"
        },
        "outputId": "f3701977-fcd5-46a2-fc1b-900792545254"
      },
      "source": [
        "d='HOLA MUNDO'\n",
        "print(d.lower())   # hacer minúscula\n",
        "print(c.upper())   # hacer mayúscula\n",
        "print(d.replace(\"L\", \"UNI\"))    # buscar donde se encuentra la L y reemplazarla por UNI"
      ],
      "execution_count": null,
      "outputs": [
        {
          "output_type": "stream",
          "text": [
            "hola mundo\n",
            "HOLA MUNDO\n",
            "HOUNIA MUNDO\n"
          ],
          "name": "stdout"
        }
      ]
    },
    {
      "cell_type": "code",
      "metadata": {
        "id": "2G_paNFLXXj3",
        "colab": {
          "base_uri": "https://localhost:8080/"
        },
        "outputId": "5eaae8a9-f656-46c2-b98a-6082f613df22"
      },
      "source": [
        "e = 'abcdefg'\n",
        "print(e)\n",
        "print(e[0:4])   # [0,4> = 0 , 1 , 2 , 3 \n",
        "print(e[2:5])   # 2, 3, 4\n",
        "print(e[:5])    # e[0:5] --- Igual \n",
        "print(e[2:])    # 2, 3, 4 ...\n",
        "print( e[-3:])  # -1=g, -2=f, -3=e \n",
        "print(e[0:5:2]) # 0 , 2 , 4 = de 0 a 4 cada 2"
      ],
      "execution_count": null,
      "outputs": [
        {
          "output_type": "stream",
          "text": [
            "abcdefg\n",
            "abcd\n",
            "cde\n",
            "abcde\n",
            "cdefg\n",
            "efg\n",
            "ace\n"
          ],
          "name": "stdout"
        }
      ]
    },
    {
      "cell_type": "markdown",
      "metadata": {
        "id": "i83naThXylbI"
      },
      "source": [
        "## 2.4 Tuplas"
      ]
    },
    {
      "cell_type": "markdown",
      "metadata": {
        "id": "GbtyDXGJWsNj"
      },
      "source": [
        "no mutables"
      ]
    },
    {
      "cell_type": "code",
      "metadata": {
        "id": "4uz-FlG0yqJy",
        "colab": {
          "base_uri": "https://localhost:8080/"
        },
        "outputId": "c8641f06-e310-4557-d117-813d4e0231e5"
      },
      "source": [
        "a = ( 'a' , 2 , 2.3 , \"Hola\" )\n",
        "b = ( 1 , 2 , 4 , '' )\n",
        "\n",
        "print(a+b)\n",
        "print(a*2)\n",
        "print(a[0:2])\n",
        "print(b[:4]) # No aparece numero a la izquierda entonces comineza desde 0\n",
        "\n",
        "#a[0] = 1\n",
        "#a[1] = 2"
      ],
      "execution_count": null,
      "outputs": [
        {
          "output_type": "stream",
          "text": [
            "('a', 2, 2.3, 'Hola', 1, 2, 4, '')\n",
            "('a', 2, 2.3, 'Hola', 'a', 2, 2.3, 'Hola')\n",
            "('a', 2)\n",
            "(1, 2, 4, '')\n"
          ],
          "name": "stdout"
        }
      ]
    },
    {
      "cell_type": "markdown",
      "metadata": {
        "id": "eXbWtfZqi82D"
      },
      "source": [
        "## 2.5 Diccionarios"
      ]
    },
    {
      "cell_type": "code",
      "metadata": {
        "id": "2_DOc4wGjLzI",
        "colab": {
          "base_uri": "https://localhost:8080/"
        },
        "outputId": "b3cfab6c-2f68-44e7-ea91-41b490a02940"
      },
      "source": [
        "hola = { 'hola':1 , '2':3 , 3:'keratech',3+4j:'g' } # llave y contenido\n",
        "\n",
        "print(hola)\n",
        "print(hola[3+4j])"
      ],
      "execution_count": null,
      "outputs": [
        {
          "output_type": "stream",
          "text": [
            "{'hola': 1, '2': 3, 3: 'keratech', (3+4j): 'g'}\n",
            "g\n"
          ],
          "name": "stdout"
        }
      ]
    },
    {
      "cell_type": "code",
      "metadata": {
        "id": "4gdCVQ3VXV5p",
        "colab": {
          "base_uri": "https://localhost:8080/"
        },
        "outputId": "e73a9066-faeb-4d3d-99a1-b222a599207b"
      },
      "source": [
        "print(hola.keys())\n",
        "print(hola.values())\n",
        "print(hola.items())"
      ],
      "execution_count": null,
      "outputs": [
        {
          "output_type": "stream",
          "text": [
            "dict_keys(['hola', '2', 3, (3+4j)])\n",
            "dict_values([1, 3, 'keratech', 'g'])\n",
            "dict_items([('hola', 1), ('2', 3), (3, 'keratech'), ((3+4j), 'g')])\n"
          ],
          "name": "stdout"
        }
      ]
    },
    {
      "cell_type": "markdown",
      "metadata": {
        "id": "KoXUkyetfkJF"
      },
      "source": [
        "# 3. Estructura de control"
      ]
    },
    {
      "cell_type": "markdown",
      "metadata": {
        "id": "RonXn2GpA8rW"
      },
      "source": [
        "## 3.1 If"
      ]
    },
    {
      "cell_type": "markdown",
      "metadata": {
        "id": "EBFbqf3hXklJ"
      },
      "source": [
        "necesita un boolean"
      ]
    },
    {
      "cell_type": "code",
      "metadata": {
        "id": "H1i9w0FhBBr6",
        "colab": {
          "base_uri": "https://localhost:8080/"
        },
        "outputId": "5eca783e-acd5-4a6d-baaf-ada005bab390"
      },
      "source": [
        "if (3>2):\n",
        "  print(\"4566\")"
      ],
      "execution_count": null,
      "outputs": [
        {
          "output_type": "stream",
          "text": [
            "4566\n"
          ],
          "name": "stdout"
        }
      ]
    },
    {
      "cell_type": "markdown",
      "metadata": {
        "id": "nqlJiCoHBGgb"
      },
      "source": [
        "## 3.2 If-Else"
      ]
    },
    {
      "cell_type": "code",
      "metadata": {
        "id": "seLOUwF0BLhq",
        "colab": {
          "base_uri": "https://localhost:8080/"
        },
        "outputId": "ab705360-7958-46c1-e92c-60087907673a"
      },
      "source": [
        "if (1>2):\n",
        "  print(\"4566\")\n",
        "else:\n",
        "  print(\"hola clase\")"
      ],
      "execution_count": null,
      "outputs": [
        {
          "output_type": "stream",
          "text": [
            "hola clase\n"
          ],
          "name": "stdout"
        }
      ]
    },
    {
      "cell_type": "markdown",
      "metadata": {
        "id": "kWfBEuwjBNKi"
      },
      "source": [
        "## 3.3 For"
      ]
    },
    {
      "cell_type": "code",
      "metadata": {
        "id": "YB6WB16CUv2W",
        "colab": {
          "base_uri": "https://localhost:8080/"
        },
        "outputId": "3f9b55db-fac1-4a73-a0f8-1e966b371de8"
      },
      "source": [
        "x = range(5) # [0,5>\n",
        "print(x, type(x)) # tipo de variable"
      ],
      "execution_count": null,
      "outputs": [
        {
          "output_type": "stream",
          "text": [
            "range(0, 5) <class 'range'>\n"
          ],
          "name": "stdout"
        }
      ]
    },
    {
      "cell_type": "code",
      "metadata": {
        "id": "_OTi_uZnf-9k",
        "colab": {
          "base_uri": "https://localhost:8080/"
        },
        "outputId": "2808a78e-f969-4ce8-be34-7394dc962be9"
      },
      "source": [
        "# for necesita un elemento iterable: listas, tuplas, diccionarios, arrays\n",
        "for i in range(5):\n",
        "    print (i)\n",
        "\n",
        "for i in range(2,5):\n",
        "    print (i)\n",
        "\n",
        "print(\"\\n\")\n",
        "x=\"hola\"\n",
        "for i in x:\n",
        "    print(i)\n",
        "\n",
        "print(\"\\n\")\n",
        "y=[1,34,\"fiee\"]\n",
        "for j in y:\n",
        "  print(j*2)\n",
        "\n",
        "print(\"\\n\")\n",
        "hola = {'hola':1, '2':3, 3:'keratech', 3+4j:'g'}\n",
        "\n",
        "for k in hola:\n",
        "  print(k)\n",
        "\n",
        "# For con diccionarios ?\n",
        "print(hola[3+4j])"
      ],
      "execution_count": null,
      "outputs": [
        {
          "output_type": "stream",
          "text": [
            "0\n",
            "1\n",
            "2\n",
            "3\n",
            "4\n",
            "2\n",
            "3\n",
            "4\n",
            "\n",
            "\n",
            "h\n",
            "o\n",
            "l\n",
            "a\n",
            "\n",
            "\n",
            "2\n",
            "68\n",
            "fieefiee\n",
            "\n",
            "\n",
            "hola\n",
            "2\n",
            "3\n",
            "(3+4j)\n",
            "g\n"
          ],
          "name": "stdout"
        }
      ]
    },
    {
      "cell_type": "markdown",
      "metadata": {
        "id": "rCdyvtCscexp"
      },
      "source": [
        "## 3.4 While"
      ]
    },
    {
      "cell_type": "code",
      "metadata": {
        "id": "uH0fU3zShlBm",
        "colab": {
          "base_uri": "https://localhost:8080/"
        },
        "outputId": "b28fcc30-8352-498e-8e92-944b011da84f"
      },
      "source": [
        "year = 2001\n",
        "while year <= 2012: \n",
        "    print (\"Informes del Año\", str(year)) \n",
        "    year += 1 # year = year + 1"
      ],
      "execution_count": null,
      "outputs": [
        {
          "output_type": "stream",
          "text": [
            "Informes del Año 2001\n",
            "Informes del Año 2002\n",
            "Informes del Año 2003\n",
            "Informes del Año 2004\n",
            "Informes del Año 2005\n",
            "Informes del Año 2006\n",
            "Informes del Año 2007\n",
            "Informes del Año 2008\n",
            "Informes del Año 2009\n",
            "Informes del Año 2010\n",
            "Informes del Año 2011\n",
            "Informes del Año 2012\n"
          ],
          "name": "stdout"
        }
      ]
    },
    {
      "cell_type": "markdown",
      "metadata": {
        "id": "YOyJzHcWkrdH"
      },
      "source": [
        "# 4. Ejemplo\n",
        "\n"
      ]
    },
    {
      "cell_type": "markdown",
      "metadata": {
        "id": "tesN13WSiGOu"
      },
      "source": [
        "## 4.1 "
      ]
    },
    {
      "cell_type": "markdown",
      "metadata": {
        "id": "oQ-dHw1tbiwP"
      },
      "source": [
        "Encontrar cuantas veces se repite la letra \"e\" en un texto ingresado por teclado."
      ]
    },
    {
      "cell_type": "code",
      "metadata": {
        "id": "s1Zc1clekpxr",
        "colab": {
          "base_uri": "https://localhost:8080/"
        },
        "outputId": "9a018445-67a1-475a-fed8-eaf84ddb367d"
      },
      "source": [
        "texto = input(\"Ingrese el texto a analizar: \") # Siempre retorna un str, el str es también un elemento iterable\n",
        "print(type(texto))\n",
        "cont=0 # contador\n",
        "for i in texto:\n",
        "  if (i==\"e\"):\n",
        "    cont=cont+1\n",
        "        \n",
        "print(cont)"
      ],
      "execution_count": null,
      "outputs": [
        {
          "output_type": "stream",
          "text": [
            "Ingrese el texto a analizar: hele mende\n",
            "<class 'str'>\n",
            "4\n"
          ],
          "name": "stdout"
        }
      ]
    },
    {
      "cell_type": "markdown",
      "metadata": {
        "id": "m2wtzBdElICt"
      },
      "source": [
        "## 4.2"
      ]
    },
    {
      "cell_type": "markdown",
      "metadata": {
        "id": "1l1NIrgWbnJd"
      },
      "source": [
        " La suma de los N primeros numeros , donde N es un valor ingresado por teclado."
      ]
    },
    {
      "cell_type": "code",
      "metadata": {
        "id": "N3XP_3zKkkY-",
        "colab": {
          "base_uri": "https://localhost:8080/"
        },
        "outputId": "d8d79883-4f74-474a-a07d-9c014461725e"
      },
      "source": [
        "N=int(input(\"Ingrese el valor de N: \")) # input retorna str, int retorna un integer\n",
        "sum=0\n",
        "for i in range(N): # OJO: N-1 por ser range -> usar N+1\n",
        "  sum=sum+i\n",
        "\n",
        "print(sum)"
      ],
      "execution_count": null,
      "outputs": [
        {
          "output_type": "stream",
          "text": [
            "Ingrese el valor de N: 5\n",
            "10\n"
          ],
          "name": "stdout"
        }
      ]
    },
    {
      "cell_type": "code",
      "metadata": {
        "id": "zMGDvnw-d53t",
        "colab": {
          "base_uri": "https://localhost:8080/"
        },
        "outputId": "5d92c5b6-a3dd-427e-8aaf-a96f1c39ff03"
      },
      "source": [
        "N=int(input(\"Ingrese el valor de N: \"))\n",
        "sum=0\n",
        "for i in range(N+1):\n",
        "  sum=sum+i\n",
        "\n",
        "print(sum)"
      ],
      "execution_count": null,
      "outputs": [
        {
          "output_type": "stream",
          "text": [
            "Ingrese el valor de N: 5\n",
            "15\n"
          ],
          "name": "stdout"
        }
      ]
    },
    {
      "cell_type": "markdown",
      "metadata": {
        "id": "Lq5sHCoLbIac"
      },
      "source": [
        "## 4.3 ( 5 min )"
      ]
    },
    {
      "cell_type": "markdown",
      "metadata": {
        "id": "gOJLtWW5buOM"
      },
      "source": [
        "Encontrar la suma de los N primeros numeros de la seria de fibonoacci.\n",
        "\n",
        "\n",
        "ejemplo:\n",
        "\n",
        " *1 , 1 , 2 , 3 , 5 , ....*\n",
        "\n"
      ]
    },
    {
      "cell_type": "markdown",
      "metadata": {
        "id": "vYCsn1WlZ5Ee"
      },
      "source": [
        "enviar a keratechinfo@gmail.com"
      ]
    },
    {
      "cell_type": "code",
      "metadata": {
        "id": "PGPbgCCON3Go",
        "colab": {
          "base_uri": "https://localhost:8080/"
        },
        "outputId": "24ab97c6-5dd1-4f6b-ef2f-8f13720642fc"
      },
      "source": [
        "# Encontrar la suma de los N primeros números de la serie de fibonacci\n",
        "# Nota: no funciona cuando N = 0,1 \n",
        "\n",
        "# Lista con números de fibonacci\n",
        "N=int(input(\"Ingrese el valor de N: \"))\n",
        "fibo = [0,1]\n",
        "for i in range(N-2):\n",
        "  fibo.append(fibo[-1]+ fibo[-2])\n",
        "print('Números de fibonacci:\\n',fibo)\n",
        "\n",
        "# Suma de valores en la lista fibo\n",
        "sum=0\n",
        "for i in fibo:\n",
        "  sum=sum+i\n",
        "print('Suma de dichos números:\\n',sum) # resultado"
      ],
      "execution_count": null,
      "outputs": [
        {
          "output_type": "stream",
          "text": [
            "Ingrese el valor de N: 5\n",
            "Números de fibonacci:\n",
            " [0, 1, 1, 2, 3]\n",
            "Suma de dichos números:\n",
            " 7\n"
          ],
          "name": "stdout"
        }
      ]
    }
  ]
}