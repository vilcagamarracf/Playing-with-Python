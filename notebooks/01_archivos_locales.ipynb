{
 "cells": [
  {
   "cell_type": "markdown",
   "metadata": {},
   "source": [
    "<h1 align=\"center\"> Manejo de Archivos locales con Python </h1>\n",
    "<h2 align=\"center\"> Directorio de trabajo, listado de archivos y más 📂</h2>"
   ]
  },
  {
   "cell_type": "markdown",
   "metadata": {},
   "source": [
    "En esta libreta veremos cómo mediante el lenguaje Python podemos manejar archivos en local. \n",
    "\n",
    "Recordar que los lenguajes de programación permiten hacer ciclos (o loops) lo cual es de mucha ventaja ya que, dependiendo de la creatividad de la persona, puedes automatizar procesos repetitivos."
   ]
  },
  {
   "cell_type": "markdown",
   "metadata": {},
   "source": [
    "## 1. Archivos en local"
   ]
  },
  {
   "cell_type": "markdown",
   "metadata": {},
   "source": [
    "### Obtener el directorio de trabajo\n",
    "\n",
    "2 Formas"
   ]
  },
  {
   "cell_type": "markdown",
   "metadata": {},
   "source": [
    "**Usando comando de terminal linux en jupyter**\n"
   ]
  },
  {
   "cell_type": "code",
   "execution_count": 2,
   "metadata": {},
   "outputs": [
    {
     "data": {
      "text/plain": [
       "'C:\\\\Users\\\\LENOVO\\\\Documents\\\\00_archivos_python'"
      ]
     },
     "execution_count": 2,
     "metadata": {},
     "output_type": "execute_result"
    }
   ],
   "source": [
    "pwd "
   ]
  },
  {
   "cell_type": "code",
   "execution_count": 3,
   "metadata": {},
   "outputs": [
    {
     "data": {
      "text/plain": [
       "'C:\\\\Users\\\\LENOVO\\\\Documents\\\\00_archivos_python'"
      ]
     },
     "execution_count": 3,
     "metadata": {},
     "output_type": "execute_result"
    }
   ],
   "source": [
    "# OJO: pwd es comando de terminal mientras que usar %pwd es seguir usando código python \n",
    "%pwd"
   ]
  },
  {
   "cell_type": "markdown",
   "metadata": {},
   "source": [
    "**Usando la librería OS**"
   ]
  },
  {
   "cell_type": "code",
   "execution_count": 4,
   "metadata": {
    "scrolled": true
   },
   "outputs": [
    {
     "data": {
      "text/plain": [
       "'C:\\\\Users\\\\LENOVO\\\\Documents\\\\00_archivos_python'"
      ]
     },
     "execution_count": 4,
     "metadata": {},
     "output_type": "execute_result"
    }
   ],
   "source": [
    "import os\n",
    "os.getcwd()"
   ]
  },
  {
   "cell_type": "markdown",
   "metadata": {},
   "source": [
    "### Cambiar directorio de trabajo\n",
    "\n",
    "Mediante el método `os.chdir()` de change directory."
   ]
  },
  {
   "cell_type": "code",
   "execution_count": 12,
   "metadata": {},
   "outputs": [
    {
     "data": {
      "text/plain": [
       "'E:\\\\Desktop\\\\prueba'"
      ]
     },
     "execution_count": 12,
     "metadata": {},
     "output_type": "execute_result"
    }
   ],
   "source": [
    "import os\n",
    "os.chdir('E:\\Desktop\\prueba')\n",
    "os.getcwd()"
   ]
  },
  {
   "cell_type": "markdown",
   "metadata": {},
   "source": [
    "Nótese el uso del doble backslash: `'E:\\\\Desktop\\\\prueba'`"
   ]
  },
  {
   "cell_type": "code",
   "execution_count": 13,
   "metadata": {},
   "outputs": [
    {
     "data": {
      "text/plain": [
       "'E:\\\\Desktop\\\\carpeta de estaciones\\\\estaciones_prueba\\\\estaciones\\\\csvs'"
      ]
     },
     "execution_count": 13,
     "metadata": {},
     "output_type": "execute_result"
    }
   ],
   "source": [
    "os.chdir('E:\\Desktop\\carpeta de estaciones\\estaciones_prueba\\estaciones\\csvs')\n",
    "os.getcwd()"
   ]
  },
  {
   "cell_type": "markdown",
   "metadata": {},
   "source": [
    "### Listado de archivos en la carpeta de trabajo\n",
    "\n",
    "2 Formas: comando de terminal o usando librería OS"
   ]
  },
  {
   "cell_type": "code",
   "execution_count": 14,
   "metadata": {
    "scrolled": true
   },
   "outputs": [
    {
     "name": "stdout",
     "output_type": "stream",
     "text": [
      " El volumen de la unidad E no tiene etiqueta.\n",
      " El número de serie del volumen es: 14D6-B0F7\n",
      "\n",
      " Directorio de E:\\Desktop\\carpeta de estaciones\\estaciones_prueba\\estaciones\\csvs\n",
      "\n",
      "24/02/2021  15:57    <DIR>          .\n",
      "24/02/2021  15:57    <DIR>          ..\n",
      "19/02/2021  11:25           671,466 ALTAMIZA.csv\n",
      "26/01/2021  13:21           720,011 BARRIOS.csv\n",
      "26/01/2021  13:21         1,925,897 BERNAL.csv\n",
      "26/01/2021  13:21         1,369,990 CANCHAQUE.csv\n",
      "26/01/2021  13:21         2,432,131 CHALACO.csv\n",
      "26/01/2021  13:21           749,768 CHIGNIA.csv\n",
      "26/01/2021  13:21         1,458,507 CHULUCANAS.csv\n",
      "26/01/2021  13:21         1,782,219 CHUSIS.csv\n",
      "26/01/2021  13:21           315,919 CORRAL DEL MEDIO.csv\n",
      "26/01/2021  13:21           231,298 CRUCETA.csv\n",
      "26/01/2021  13:21           450,080 CURVAN.csv\n",
      "26/01/2021  13:21           425,075 EL TABLAZO.csv\n",
      "26/01/2021  13:21           727,185 HACIENDA BIGOTE.csv\n",
      "26/01/2021  13:21            83,538 HUALTACO.csv\n",
      "26/01/2021  13:21         1,945,914 HUANCABAMBA.csv\n",
      "26/01/2021  13:21         2,047,552 HUARMACA.csv\n",
      "26/01/2021  13:21           599,577 LAGUNA RAMON.csv\n",
      "26/01/2021  13:21            87,493 MALACASI.csv\n",
      "26/01/2021  13:21            36,220 MALINGAS.csv\n",
      "26/01/2021  13:21         1,731,273 MIRAFLORES.csv\n",
      "26/01/2021  13:21           789,685 MONTEGRANDE.csv\n",
      "26/01/2021  13:21         1,997,831 MORROPON.csv\n",
      "26/01/2021  13:21           783,063 PALO BLANCO.csv\n",
      "26/01/2021  13:21           770,946 PALTASHACO.csv\n",
      "26/01/2021  13:21         1,058,807 PASAPAMPA.csv\n",
      "26/01/2021  13:21           394,700 PIRGAS.csv\n",
      "26/01/2021  13:21            58,874 SAN ISIDRO.csv\n",
      "26/01/2021  13:21           580,590 SAN JOAQUIN.csv\n",
      "26/01/2021  13:21         1,572,895 SAN MIGUEL.csv\n",
      "26/01/2021  13:21         1,563,920 SAN PEDRO.csv\n",
      "26/01/2021  13:21         2,092,995 SANTO DOMINGO.csv\n",
      "26/01/2021  13:21            41,474 TAMBO GRANDE.csv\n",
      "26/01/2021  13:21           553,959 TEJEDORES.csv\n",
      "26/01/2021  13:21         2,329,294 VIRREY.csv\n",
      "              34 archivos     34,380,146 bytes\n",
      "               2 dirs  249,576,296,448 bytes libres\n"
     ]
    }
   ],
   "source": [
    "# Usando comando de terminal\n",
    "%ls   "
   ]
  },
  {
   "cell_type": "code",
   "execution_count": 15,
   "metadata": {
    "scrolled": true
   },
   "outputs": [
    {
     "data": {
      "text/plain": [
       "['ALTAMIZA.csv',\n",
       " 'BARRIOS.csv',\n",
       " 'BERNAL.csv',\n",
       " 'CANCHAQUE.csv',\n",
       " 'CHALACO.csv',\n",
       " 'CHIGNIA.csv',\n",
       " 'CHULUCANAS.csv',\n",
       " 'CHUSIS.csv',\n",
       " 'CORRAL DEL MEDIO.csv',\n",
       " 'CRUCETA.csv',\n",
       " 'CURVAN.csv',\n",
       " 'EL TABLAZO.csv',\n",
       " 'HACIENDA BIGOTE.csv',\n",
       " 'HUALTACO.csv',\n",
       " 'HUANCABAMBA.csv',\n",
       " 'HUARMACA.csv',\n",
       " 'LAGUNA RAMON.csv',\n",
       " 'MALACASI.csv',\n",
       " 'MALINGAS.csv',\n",
       " 'MIRAFLORES.csv',\n",
       " 'MONTEGRANDE.csv',\n",
       " 'MORROPON.csv',\n",
       " 'PALO BLANCO.csv',\n",
       " 'PALTASHACO.csv',\n",
       " 'PASAPAMPA.csv',\n",
       " 'PIRGAS.csv',\n",
       " 'SAN ISIDRO.csv',\n",
       " 'SAN JOAQUIN.csv',\n",
       " 'SAN MIGUEL.csv',\n",
       " 'SAN PEDRO.csv',\n",
       " 'SANTO DOMINGO.csv',\n",
       " 'TAMBO GRANDE.csv',\n",
       " 'TEJEDORES.csv',\n",
       " 'VIRREY.csv']"
      ]
     },
     "execution_count": 15,
     "metadata": {},
     "output_type": "execute_result"
    }
   ],
   "source": [
    "# Usando os\n",
    "os.listdir()"
   ]
  },
  {
   "cell_type": "markdown",
   "metadata": {},
   "source": [
    "En el listado de archivos conviene usar la librería OS ya que permite devolver una \"lista\" en forma de estructura de datos `lista` (fácilmente reconocible por usar los corchetes `[]`) y esta estructura es iterable para usos en ciclos `for`."
   ]
  },
  {
   "cell_type": "code",
   "execution_count": 16,
   "metadata": {},
   "outputs": [
    {
     "name": "stdout",
     "output_type": "stream",
     "text": [
      "Archivo: ALTAMIZA.csv\n",
      "Archivo: BARRIOS.csv\n",
      "Archivo: BERNAL.csv\n",
      "Archivo: CANCHAQUE.csv\n",
      "Archivo: CHALACO.csv\n",
      "Archivo: CHIGNIA.csv\n",
      "Archivo: CHULUCANAS.csv\n",
      "Archivo: CHUSIS.csv\n",
      "Archivo: CORRAL DEL MEDIO.csv\n",
      "Archivo: CRUCETA.csv\n",
      "Archivo: CURVAN.csv\n",
      "Archivo: EL TABLAZO.csv\n",
      "Archivo: HACIENDA BIGOTE.csv\n",
      "Archivo: HUALTACO.csv\n",
      "Archivo: HUANCABAMBA.csv\n",
      "Archivo: HUARMACA.csv\n",
      "Archivo: LAGUNA RAMON.csv\n",
      "Archivo: MALACASI.csv\n",
      "Archivo: MALINGAS.csv\n",
      "Archivo: MIRAFLORES.csv\n",
      "Archivo: MONTEGRANDE.csv\n",
      "Archivo: MORROPON.csv\n",
      "Archivo: PALO BLANCO.csv\n",
      "Archivo: PALTASHACO.csv\n",
      "Archivo: PASAPAMPA.csv\n",
      "Archivo: PIRGAS.csv\n",
      "Archivo: SAN ISIDRO.csv\n",
      "Archivo: SAN JOAQUIN.csv\n",
      "Archivo: SAN MIGUEL.csv\n",
      "Archivo: SAN PEDRO.csv\n",
      "Archivo: SANTO DOMINGO.csv\n",
      "Archivo: TAMBO GRANDE.csv\n",
      "Archivo: TEJEDORES.csv\n",
      "Archivo: VIRREY.csv\n"
     ]
    }
   ],
   "source": [
    "for i in os.listdir():\n",
    "    print('Archivo: '+str(i))"
   ]
  },
  {
   "cell_type": "code",
   "execution_count": 17,
   "metadata": {
    "scrolled": false
   },
   "outputs": [
    {
     "name": "stdout",
     "output_type": "stream",
     "text": [
      "(0, 'ALTAMIZA.csv')\n",
      "(1, 'BARRIOS.csv')\n",
      "(2, 'BERNAL.csv')\n",
      "(3, 'CANCHAQUE.csv')\n",
      "(4, 'CHALACO.csv')\n",
      "(5, 'CHIGNIA.csv')\n",
      "(6, 'CHULUCANAS.csv')\n",
      "(7, 'CHUSIS.csv')\n",
      "(8, 'CORRAL DEL MEDIO.csv')\n",
      "(9, 'CRUCETA.csv')\n",
      "(10, 'CURVAN.csv')\n",
      "(11, 'EL TABLAZO.csv')\n",
      "(12, 'HACIENDA BIGOTE.csv')\n",
      "(13, 'HUALTACO.csv')\n",
      "(14, 'HUANCABAMBA.csv')\n",
      "(15, 'HUARMACA.csv')\n",
      "(16, 'LAGUNA RAMON.csv')\n",
      "(17, 'MALACASI.csv')\n",
      "(18, 'MALINGAS.csv')\n",
      "(19, 'MIRAFLORES.csv')\n",
      "(20, 'MONTEGRANDE.csv')\n",
      "(21, 'MORROPON.csv')\n",
      "(22, 'PALO BLANCO.csv')\n",
      "(23, 'PALTASHACO.csv')\n",
      "(24, 'PASAPAMPA.csv')\n",
      "(25, 'PIRGAS.csv')\n",
      "(26, 'SAN ISIDRO.csv')\n",
      "(27, 'SAN JOAQUIN.csv')\n",
      "(28, 'SAN MIGUEL.csv')\n",
      "(29, 'SAN PEDRO.csv')\n",
      "(30, 'SANTO DOMINGO.csv')\n",
      "(31, 'TAMBO GRANDE.csv')\n",
      "(32, 'TEJEDORES.csv')\n",
      "(33, 'VIRREY.csv')\n"
     ]
    }
   ],
   "source": [
    "# Ver índices en Python\n",
    "for i in enumerate(os.listdir()):\n",
    "    print(i)"
   ]
  },
  {
   "cell_type": "markdown",
   "metadata": {},
   "source": [
    "### Conclusiones\n",
    "\n",
    "Hay muchas más cosas por hacer con la librería OS que permiten agilizar procesos sobre manejo de archivos.\n",
    "\n",
    "Para más información revisar: [Automate the Boring Stuff with Python By Al Sweigart](https://automatetheboringstuff.com/)."
   ]
  }
 ],
 "metadata": {
  "hide_input": false,
  "kernelspec": {
   "display_name": "Python 3",
   "language": "python",
   "name": "python3"
  },
  "language_info": {
   "codemirror_mode": {
    "name": "ipython",
    "version": 3
   },
   "file_extension": ".py",
   "mimetype": "text/x-python",
   "name": "python",
   "nbconvert_exporter": "python",
   "pygments_lexer": "ipython3",
   "version": "3.7.10"
  },
  "latex_envs": {
   "LaTeX_envs_menu_present": true,
   "autoclose": false,
   "autocomplete": true,
   "bibliofile": "biblio.bib",
   "cite_by": "apalike",
   "current_citInitial": 1,
   "eqLabelWithNumbers": true,
   "eqNumInitial": 1,
   "hotkeys": {
    "equation": "Ctrl-E",
    "itemize": "Ctrl-I"
   },
   "labels_anchors": false,
   "latex_user_defs": false,
   "report_style_numbering": false,
   "user_envs_cfg": false
  },
  "toc": {
   "base_numbering": 1,
   "nav_menu": {},
   "number_sections": true,
   "sideBar": true,
   "skip_h1_title": false,
   "title_cell": "Table of Contents",
   "title_sidebar": "Contents",
   "toc_cell": false,
   "toc_position": {},
   "toc_section_display": true,
   "toc_window_display": false
  },
  "varInspector": {
   "cols": {
    "lenName": 16,
    "lenType": 16,
    "lenVar": 40
   },
   "kernels_config": {
    "python": {
     "delete_cmd_postfix": "",
     "delete_cmd_prefix": "del ",
     "library": "var_list.py",
     "varRefreshCmd": "print(var_dic_list())"
    },
    "r": {
     "delete_cmd_postfix": ") ",
     "delete_cmd_prefix": "rm(",
     "library": "var_list.r",
     "varRefreshCmd": "cat(var_dic_list()) "
    }
   },
   "types_to_exclude": [
    "module",
    "function",
    "builtin_function_or_method",
    "instance",
    "_Feature"
   ],
   "window_display": false
  }
 },
 "nbformat": 4,
 "nbformat_minor": 4
}
