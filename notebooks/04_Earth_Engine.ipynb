{
 "cells": [
  {
   "cell_type": "markdown",
   "id": "tamil-blast",
   "metadata": {},
   "source": [
    "# Aplicaciones de Python"
   ]
  },
  {
   "cell_type": "markdown",
   "id": "patient-alignment",
   "metadata": {},
   "source": [
    "En esta libreta veremos el uso de Google Earth Engine mediante la API de Python. Earth Engine es una plataforma de Google que es considerada la base de datos más grande del planeta, la cual contiene información geoespacial de diversos tipos: datos vectoriales e imágenes y productos satelitales en su mayoría.\n",
    "\n",
    "Para una breve introducción a Earth Engine revisar mi post [aquí](https://vilcagamarracf.github.io/blog/post4_ee.html)."
   ]
  },
  {
   "cell_type": "markdown",
   "id": "tracked-wallet",
   "metadata": {},
   "source": [
    "## 1. Instalación\n",
    "\n",
    "Es recomendable siempre usar la documentación de cualquier librería ya que los mismos desarrolladores resumen de forma concisa el funcionamiento de su producto. Por ello revisar [Python Installation - EE](https://developers.google.com/earth-engine/guides/python_install). Aquí se explica su instalación (con ejemplo en Colab) y algunas diferencias entre usar Python o JavaScript como lenguaje de programación para desarrollo.\n",
    "\n",
    "Para su instalación: \n",
    "- Usando el terminal de Anaconda \n",
    "```\n",
    "  $ conda install -c conda-forge earthengine-api\n",
    "```\n",
    "\n",
    "- Usando PIP (en Colab es mucho más accesible trabajar con Earth Engine aunque tiene sus ventajas y desventajas)\n",
    "\n",
    "```\n",
    "    # Para instalar\n",
    "    $ pip install earthengine-api \n",
    "\n",
    "    # Para actualizar la librería (se actualiza mucho lo cual es bueno)\n",
    "    $ pip install earthengine-api --upgrade\n",
    "```\n",
    "\n",
    "Nota: el símbolo `$` representa el >> (o prompt) de un terminal. \n",
    "- En caso de usar en Colab, el `$` se usa como signo de exclamación `!`.\n",
    "- En el caso de Jupyter Notebooks usar un `%` en lugar del `$`."
   ]
  },
  {
   "cell_type": "markdown",
   "id": "greatest-texture",
   "metadata": {},
   "source": [
    "En mi caso ya tengo instalado earth engine por lo cual solo actualizaré la librería:\n",
    "- Versión inicial: `earthengine-api-0.1.243`\n",
    "- Versión actualizada (al momento): `earthengine-api-0.1.253`"
   ]
  },
  {
   "cell_type": "code",
   "execution_count": 2,
   "id": "cathedral-france",
   "metadata": {
    "scrolled": true
   },
   "outputs": [
    {
     "name": "stdout",
     "output_type": "stream",
     "text": [
      "Requirement already satisfied: earthengine-api in c:\\users\\lenovo\\anaconda3\\envs\\python_foundation\\lib\\site-packages (0.1.243)\n",
      "Collecting earthengine-api\n",
      "  Downloading earthengine-api-0.1.253.tar.gz (148 kB)\n",
      "Requirement already satisfied: future in c:\\users\\lenovo\\anaconda3\\envs\\python_foundation\\lib\\site-packages (from earthengine-api) (0.18.2)\n",
      "Requirement already satisfied: google-cloud-storage in c:\\users\\lenovo\\anaconda3\\envs\\python_foundation\\lib\\site-packages (from earthengine-api) (1.35.0)\n",
      "Requirement already satisfied: google-api-python-client>=1.12.1 in c:\\users\\lenovo\\anaconda3\\envs\\python_foundation\\lib\\site-packages (from earthengine-api) (1.12.8)\n",
      "Requirement already satisfied: google-auth>=1.4.1 in c:\\users\\lenovo\\anaconda3\\envs\\python_foundation\\lib\\site-packages (from earthengine-api) (1.24.0)\n",
      "Requirement already satisfied: google-auth-httplib2>=0.0.3 in c:\\users\\lenovo\\anaconda3\\envs\\python_foundation\\lib\\site-packages (from earthengine-api) (0.0.4)\n",
      "Requirement already satisfied: httplib2<1dev,>=0.9.2 in c:\\users\\lenovo\\anaconda3\\envs\\python_foundation\\lib\\site-packages (from earthengine-api) (0.18.1)\n",
      "Collecting httplib2shim\n",
      "  Using cached httplib2shim-0.0.3-py2.py3-none-any.whl\n",
      "Requirement already satisfied: six in c:\\users\\lenovo\\anaconda3\\envs\\python_foundation\\lib\\site-packages (from earthengine-api) (1.15.0)\n",
      "Requirement already satisfied: uritemplate<4dev,>=3.0.0 in c:\\users\\lenovo\\anaconda3\\envs\\python_foundation\\lib\\site-packages (from google-api-python-client>=1.12.1->earthengine-api) (3.0.1)\n",
      "Requirement already satisfied: google-api-core<2dev,>=1.21.0 in c:\\users\\lenovo\\anaconda3\\envs\\python_foundation\\lib\\site-packages (from google-api-python-client>=1.12.1->earthengine-api) (1.25.1)\n",
      "Requirement already satisfied: googleapis-common-protos<2.0dev,>=1.6.0 in c:\\users\\lenovo\\anaconda3\\envs\\python_foundation\\lib\\site-packages (from google-api-core<2dev,>=1.21.0->google-api-python-client>=1.12.1->earthengine-api) (1.52.0)\n",
      "Requirement already satisfied: pytz in c:\\users\\lenovo\\anaconda3\\envs\\python_foundation\\lib\\site-packages (from google-api-core<2dev,>=1.21.0->google-api-python-client>=1.12.1->earthengine-api) (2021.1)\n",
      "Requirement already satisfied: protobuf>=3.12.0 in c:\\users\\lenovo\\anaconda3\\envs\\python_foundation\\lib\\site-packages (from google-api-core<2dev,>=1.21.0->google-api-python-client>=1.12.1->earthengine-api) (3.14.0)\n",
      "Requirement already satisfied: requests<3.0.0dev,>=2.18.0 in c:\\users\\lenovo\\anaconda3\\envs\\python_foundation\\lib\\site-packages (from google-api-core<2dev,>=1.21.0->google-api-python-client>=1.12.1->earthengine-api) (2.25.1)\n",
      "Requirement already satisfied: setuptools>=40.3.0 in c:\\users\\lenovo\\anaconda3\\envs\\python_foundation\\lib\\site-packages (from google-api-core<2dev,>=1.21.0->google-api-python-client>=1.12.1->earthengine-api) (49.6.0.post20210108)\n",
      "Requirement already satisfied: pyasn1-modules>=0.2.1 in c:\\users\\lenovo\\anaconda3\\envs\\python_foundation\\lib\\site-packages (from google-auth>=1.4.1->earthengine-api) (0.2.7)\n",
      "Requirement already satisfied: cachetools<5.0,>=2.0.0 in c:\\users\\lenovo\\anaconda3\\envs\\python_foundation\\lib\\site-packages (from google-auth>=1.4.1->earthengine-api) (4.2.1)\n",
      "Requirement already satisfied: rsa<5,>=3.1.4 in c:\\users\\lenovo\\anaconda3\\envs\\python_foundation\\lib\\site-packages (from google-auth>=1.4.1->earthengine-api) (4.7)\n",
      "Requirement already satisfied: pyasn1<0.5.0,>=0.4.6 in c:\\users\\lenovo\\anaconda3\\envs\\python_foundation\\lib\\site-packages (from pyasn1-modules>=0.2.1->google-auth>=1.4.1->earthengine-api) (0.4.8)\n",
      "Requirement already satisfied: idna<3,>=2.5 in c:\\users\\lenovo\\anaconda3\\envs\\python_foundation\\lib\\site-packages (from requests<3.0.0dev,>=2.18.0->google-api-core<2dev,>=1.21.0->google-api-python-client>=1.12.1->earthengine-api) (2.10)\n",
      "Requirement already satisfied: urllib3<1.27,>=1.21.1 in c:\\users\\lenovo\\anaconda3\\envs\\python_foundation\\lib\\site-packages (from requests<3.0.0dev,>=2.18.0->google-api-core<2dev,>=1.21.0->google-api-python-client>=1.12.1->earthengine-api) (1.26.3)\n",
      "Requirement already satisfied: chardet<5,>=3.0.2 in c:\\users\\lenovo\\anaconda3\\envs\\python_foundation\\lib\\site-packages (from requests<3.0.0dev,>=2.18.0->google-api-core<2dev,>=1.21.0->google-api-python-client>=1.12.1->earthengine-api) (3.0.4)\n",
      "Requirement already satisfied: certifi>=2017.4.17 in c:\\users\\lenovo\\anaconda3\\envs\\python_foundation\\lib\\site-packages (from requests<3.0.0dev,>=2.18.0->google-api-core<2dev,>=1.21.0->google-api-python-client>=1.12.1->earthengine-api) (2020.12.5)\n",
      "Requirement already satisfied: google-cloud-core<2.0dev,>=1.4.1 in c:\\users\\lenovo\\anaconda3\\envs\\python_foundation\\lib\\site-packages (from google-cloud-storage->earthengine-api) (1.5.0)\n",
      "Requirement already satisfied: google-resumable-media<2.0dev,>=1.2.0 in c:\\users\\lenovo\\anaconda3\\envs\\python_foundation\\lib\\site-packages (from google-cloud-storage->earthengine-api) (1.2.0)\n",
      "Requirement already satisfied: google-crc32c<2.0dev,>=1.0 in c:\\users\\lenovo\\anaconda3\\envs\\python_foundation\\lib\\site-packages (from google-resumable-media<2.0dev,>=1.2.0->google-cloud-storage->earthengine-api) (1.1.2)\n",
      "Requirement already satisfied: cffi>=1.0.0 in c:\\users\\lenovo\\anaconda3\\envs\\python_foundation\\lib\\site-packages (from google-crc32c<2.0dev,>=1.0->google-resumable-media<2.0dev,>=1.2.0->google-cloud-storage->earthengine-api) (1.14.4)\n",
      "Requirement already satisfied: pycparser in c:\\users\\lenovo\\anaconda3\\envs\\python_foundation\\lib\\site-packages (from cffi>=1.0.0->google-crc32c<2.0dev,>=1.0->google-resumable-media<2.0dev,>=1.2.0->google-cloud-storage->earthengine-api) (2.20)\n",
      "Building wheels for collected packages: earthengine-api\n",
      "  Building wheel for earthengine-api (setup.py): started\n",
      "  Building wheel for earthengine-api (setup.py): finished with status 'done'\n",
      "  Created wheel for earthengine-api: filename=earthengine_api-0.1.253-py3-none-any.whl size=178056 sha256=98ae7f077b0c70a7f54b36535ddf980ca489664baf6784b70665551c7a1ee342\n",
      "  Stored in directory: c:\\users\\lenovo\\appdata\\local\\pip\\cache\\wheels\\61\\06\\3f\\a581b7796d4c930e05cbbe70ebddcd792298dcfbb964f74ddb\n",
      "Successfully built earthengine-api\n",
      "Installing collected packages: httplib2shim, earthengine-api\n",
      "  Attempting uninstall: earthengine-api\n",
      "    Found existing installation: earthengine-api 0.1.243\n",
      "    Uninstalling earthengine-api-0.1.243:\n",
      "      Successfully uninstalled earthengine-api-0.1.243\n",
      "Successfully installed earthengine-api-0.1.253 httplib2shim-0.0.3\n",
      "Note: you may need to restart the kernel to use updated packages.\n"
     ]
    }
   ],
   "source": [
    "# pip install earthengine-api\n",
    "%pip install earthengine-api --upgrade"
   ]
  },
  {
   "cell_type": "markdown",
   "id": "systematic-viewer",
   "metadata": {},
   "source": [
    "## 2. Inicio\n",
    "\n",
    "El nombre de la librería instalada es `earthengine-api` pero se importa como `ee` (cosas de desarrollo)."
   ]
  },
  {
   "cell_type": "code",
   "execution_count": 3,
   "id": "irish-topic",
   "metadata": {
    "scrolled": true
   },
   "outputs": [
    {
     "data": {
      "text/plain": [
       "'0.1.253'"
      ]
     },
     "execution_count": 3,
     "metadata": {},
     "output_type": "execute_result"
    }
   ],
   "source": [
    "# Versión de librería\n",
    "import ee\n",
    "ee.__version__"
   ]
  },
  {
   "cell_type": "markdown",
   "id": "forty-belgium",
   "metadata": {},
   "source": [
    "Para comenzar es requisito haberse registrado en la plataforma y haber activado la cuenta."
   ]
  },
  {
   "cell_type": "code",
   "execution_count": 9,
   "id": "welsh-passion",
   "metadata": {},
   "outputs": [],
   "source": [
    "ee.Initialize() # Activa un while loop en el cual debes introducir un código (según cuenta) y dar enter"
   ]
  },
  {
   "cell_type": "markdown",
   "id": "likely-optimization",
   "metadata": {},
   "source": [
    "Antes de comenzar hablemos de comparaciones (algunos puntos y opinión personal extra)\n",
    "\n",
    "### Comparaciones entre el uso en JavaScript y Python\n",
    "\n",
    "-----\n",
    "\n",
    "**Usando JavaScript**\n",
    "\n",
    "Ventajas: \\\n",
    "Comparando con el editor web que usa JavaScript en su plataforma (editor code), éste posee ya integrado: \n",
    "\n",
    "- un mapa para visualizar, widgets interactivos que permiten la edición (creación de puntos, figuras, líneas) \n",
    "- un panel donde es posible administrar archivos, leer documentación y ejercicios, \n",
    "- y otro panel capaz de mostrar resultados y gráficas. \n",
    "\n",
    "Desventajas:\n",
    "- Trabaja como script (corre todo el código \"de porrazo\")\n",
    "- **es agobiante escribir código ahí.**\n",
    "\n",
    "-----\n",
    "\n",
    "**Usando Python**\n",
    "\n",
    "Ventajas:\n",
    "- Mientras que en Python permite más libertad ya que es adaptable a cualquier editor (VS Code, VIM, **sublime text no xd**) o IDE (Spyder, PyCharm, JupyterNotebooks **dependiendo de la experticia del usuario para adaptarlos a su ambiente de desarrollo**).\n",
    "- Permite trabajar tanto en modo script como libreta jupyter (lo cual permite desarrollar proyectos enteros)  \n",
    "- y la interacción con un sin fin de librerías del ambiente de Python.\n",
    "\n",
    "Desventaja (posible ventaja ya que es configurable al gusto):\n",
    "- Comenzar un proyecto desde cero (literal). \n",
    "- Adaptar un widget (interactividad) es posible en Jupyter Notebooks y no en Colab pero requiere conocimiento para adaptarlo."
   ]
  },
  {
   "cell_type": "markdown",
   "id": "former-recipe",
   "metadata": {},
   "source": [
    "### 3. Librerías previas\n",
    "\n",
    "Recordar que estamos comenzando desde cero (no hay nada, todo está en blanco). Para agregar un panel de visualización interactiva tenemos la librería `folium` y también `ipyleaflet` (no corre en Colab por el momento).\n",
    "\n",
    "Por el momento solo veremos `folium`\n",
    "\n",
    "1. Importar folium\n",
    "2. (Configurable a gusto) Definir una función para visualización: mapdisplay()\n",
    "3. Agregar parámetros de visualización (tanto como interactivos) a gusto. Revisar [Ejemplos de Folium](https://nbviewer.jupyter.org/github/python-visualization/folium/tree/master/examples/)"
   ]
  },
  {
   "cell_type": "code",
   "execution_count": 34,
   "id": "ordinary-surrey",
   "metadata": {
    "scrolled": true
   },
   "outputs": [
    {
     "name": "stdout",
     "output_type": "stream",
     "text": [
      "mapdisplay(center, dicc, Tiles=\"OpensTreetMap\",zoom_start=10) listo!\n"
     ]
    }
   ],
   "source": [
    "# Librerías previas\n",
    "\n",
    "# Función mapdisplay\n",
    "import folium \n",
    "def mapdisplay(center, dicc, Tiles=\"OpensTreetMap\",zoom_start=10):\n",
    "    '''\n",
    "    Crea mapas interactivos usando la librería `folium`\n",
    "\n",
    "    - `center`: Center of the map (Latitude and Longitude) (`list`)\n",
    "    - `dicc`: Earth Engine Geometries or Tiles dictionary (`dict`)\n",
    "    - `Tiles=`: \n",
    "    Mapbox Bright \n",
    "    Mapbox Control Room\n",
    "    Stamen Terrain\n",
    "    Stamen Toner\n",
    "    stamenwatercolor\n",
    "    cartodbpositron\n",
    "    - `zoom_start=`: Initial zoom level for the map (`int`)\n",
    "\n",
    "    Return: A folium.Map object\n",
    "    '''\n",
    "    \n",
    "    # Centrado de imagen: Admite una lista que contiene las coordenadas geográficas en forma decimal\n",
    "    # Ejemplo: [-76.0908, -13.4589], donde -76 sería longitud (x) y -13 latitud (y)\n",
    "    center = center[::-1] # El [::-1] lee inversamente la lista ingresada según Earth Engine\n",
    "\n",
    "    # Parámetros de visualización de función mapdisplay\n",
    "        \n",
    "    global mapViz # Para leer la imagen posteriormente mediante variable mapViz\n",
    "    mapViz = folium.Map(location=center,\n",
    "                        tiles=Tiles, \n",
    "                        zoom_start=zoom_start, \n",
    "                        control_scale=True)\n",
    "    \n",
    "    # Leer imágenes de Earth Engine y agregar a Folium\n",
    "    for k,v in dicc.items():\n",
    "        if ee.image.Image in [type(x) for x in v.values()]:\n",
    "            folium.TileLayer(tiles = v[\"tile_fetcher\"].url_format,\n",
    "                             attr  = 'Google Earth Engine',\n",
    "                             overlay =True,\n",
    "                             name  = k).add_to(mapViz)\n",
    "        else:\n",
    "            folium.GeoJson(data = v,\n",
    "                           name = k).add_to(mapViz)\n",
    "    \n",
    "    \n",
    "    # Agregando cosas: https://nbviewer.jupyter.org/github/python-visualization/folium/blob/master/examples/MiniMap.ipynb\n",
    "    # Minimapa\n",
    "    from folium.plugins import MiniMap\n",
    "    minimap = MiniMap(\n",
    "        tile_layer=\"OpensTreetMap\", \n",
    "        position=\"bottomright\", \n",
    "        zoom_level_fixed=7)\n",
    "    mapViz.add_child(minimap) \n",
    "    \n",
    "    # Agregar: botón Fullscreen\n",
    "    from folium.plugins import Fullscreen\n",
    "    Fullscreen().add_to(mapViz)\n",
    "\n",
    "    # Botón de control de Capas (Layers)\n",
    "    mapViz.add_child(folium.LayerControl())\n",
    "    \n",
    "    return mapViz\n",
    "\n",
    "print('mapdisplay(center, dicc, Tiles=\"OpensTreetMap\",zoom_start=10) listo!')"
   ]
  },
  {
   "cell_type": "markdown",
   "id": "disturbed-volunteer",
   "metadata": {},
   "source": [
    "Crea mapas interactivos usando la librería `folium`, función `mapdisplay()`:\n",
    "\n",
    "```\n",
    "                            mapdisplay(center, dicc, Tiles=\"OpensTreetMap\",zoom_start=10):\n",
    "```\n",
    "donde:\n",
    "- `center`: Centrado de imagen (Latitud y Longitud) (`list`)\n",
    "- `dicc`: Geometrías de Earth Engine o Diccionario con capas (`dict`)\n",
    "- `Tiles=`: Mapas base\n",
    "    - Mapbox Bright \n",
    "    - Mapbox Control Room\n",
    "    - Stamen Terrain\n",
    "    - Stamen Toner\n",
    "    - stamenwatercolor\n",
    "    - cartodbpositron\n",
    "- `zoom_start=`: Nivel de zoom inicial para visualización (`int`)"
   ]
  },
  {
   "cell_type": "markdown",
   "id": "average-annex",
   "metadata": {},
   "source": [
    "### 4. Ejemplo\n",
    "\n",
    "#### Región de Interés (ROI): Zona de Chincha\n",
    "\n",
    "He dibujado la región del Valle de chincha en Arcgis y subido a mi Asset en Earth Engine. El ID de uso (personal) es `'users/CesarVilca/area_total'`.\n",
    "\n",
    "- Asignamos una lista con las coordenadas para centrado.\n",
    "- Creamos un diccionario con las \"capas\" para visualizar.\n",
    "- Uso de la función `mapdisplay` para visualización con zoom de 11."
   ]
  },
  {
   "cell_type": "code",
   "execution_count": 36,
   "id": "chemical-diagram",
   "metadata": {
    "scrolled": false
   },
   "outputs": [
    {
     "data": {
      "text/html": [
       "<div style=\"width:100%;\"><div style=\"position:relative;width:100%;height:0;padding-bottom:60%;\"><span style=\"color:#565656\">Make this Notebook Trusted to load map: File -> Trust Notebook</span><iframe src=\"about:blank\" style=\"position:absolute;width:100%;height:100%;left:0;top:0;border:none !important;\" data-html=%3C%21DOCTYPE%20html%3E%0A%3Chead%3E%20%20%20%20%0A%20%20%20%20%3Cmeta%20http-equiv%3D%22content-type%22%20content%3D%22text/html%3B%20charset%3DUTF-8%22%20/%3E%0A%20%20%20%20%0A%20%20%20%20%20%20%20%20%3Cscript%3E%0A%20%20%20%20%20%20%20%20%20%20%20%20L_NO_TOUCH%20%3D%20false%3B%0A%20%20%20%20%20%20%20%20%20%20%20%20L_DISABLE_3D%20%3D%20false%3B%0A%20%20%20%20%20%20%20%20%3C/script%3E%0A%20%20%20%20%0A%20%20%20%20%3Cstyle%3Ehtml%2C%20body%20%7Bwidth%3A%20100%25%3Bheight%3A%20100%25%3Bmargin%3A%200%3Bpadding%3A%200%3B%7D%3C/style%3E%0A%20%20%20%20%3Cstyle%3E%23map%20%7Bposition%3Aabsolute%3Btop%3A0%3Bbottom%3A0%3Bright%3A0%3Bleft%3A0%3B%7D%3C/style%3E%0A%20%20%20%20%3Cscript%20src%3D%22https%3A//cdn.jsdelivr.net/npm/leaflet%401.6.0/dist/leaflet.js%22%3E%3C/script%3E%0A%20%20%20%20%3Cscript%20src%3D%22https%3A//code.jquery.com/jquery-1.12.4.min.js%22%3E%3C/script%3E%0A%20%20%20%20%3Cscript%20src%3D%22https%3A//maxcdn.bootstrapcdn.com/bootstrap/3.2.0/js/bootstrap.min.js%22%3E%3C/script%3E%0A%20%20%20%20%3Cscript%20src%3D%22https%3A//cdnjs.cloudflare.com/ajax/libs/Leaflet.awesome-markers/2.0.2/leaflet.awesome-markers.js%22%3E%3C/script%3E%0A%20%20%20%20%3Clink%20rel%3D%22stylesheet%22%20href%3D%22https%3A//cdn.jsdelivr.net/npm/leaflet%401.6.0/dist/leaflet.css%22/%3E%0A%20%20%20%20%3Clink%20rel%3D%22stylesheet%22%20href%3D%22https%3A//maxcdn.bootstrapcdn.com/bootstrap/3.2.0/css/bootstrap.min.css%22/%3E%0A%20%20%20%20%3Clink%20rel%3D%22stylesheet%22%20href%3D%22https%3A//maxcdn.bootstrapcdn.com/bootstrap/3.2.0/css/bootstrap-theme.min.css%22/%3E%0A%20%20%20%20%3Clink%20rel%3D%22stylesheet%22%20href%3D%22https%3A//maxcdn.bootstrapcdn.com/font-awesome/4.6.3/css/font-awesome.min.css%22/%3E%0A%20%20%20%20%3Clink%20rel%3D%22stylesheet%22%20href%3D%22https%3A//cdnjs.cloudflare.com/ajax/libs/Leaflet.awesome-markers/2.0.2/leaflet.awesome-markers.css%22/%3E%0A%20%20%20%20%3Clink%20rel%3D%22stylesheet%22%20href%3D%22https%3A//cdn.jsdelivr.net/gh/python-visualization/folium/folium/templates/leaflet.awesome.rotate.min.css%22/%3E%0A%20%20%20%20%0A%20%20%20%20%20%20%20%20%20%20%20%20%3Cmeta%20name%3D%22viewport%22%20content%3D%22width%3Ddevice-width%2C%0A%20%20%20%20%20%20%20%20%20%20%20%20%20%20%20%20initial-scale%3D1.0%2C%20maximum-scale%3D1.0%2C%20user-scalable%3Dno%22%20/%3E%0A%20%20%20%20%20%20%20%20%20%20%20%20%3Cstyle%3E%0A%20%20%20%20%20%20%20%20%20%20%20%20%20%20%20%20%23map_83c7cde9adcd435797ca15cf2d27d707%20%7B%0A%20%20%20%20%20%20%20%20%20%20%20%20%20%20%20%20%20%20%20%20position%3A%20relative%3B%0A%20%20%20%20%20%20%20%20%20%20%20%20%20%20%20%20%20%20%20%20width%3A%20100.0%25%3B%0A%20%20%20%20%20%20%20%20%20%20%20%20%20%20%20%20%20%20%20%20height%3A%20100.0%25%3B%0A%20%20%20%20%20%20%20%20%20%20%20%20%20%20%20%20%20%20%20%20left%3A%200.0%25%3B%0A%20%20%20%20%20%20%20%20%20%20%20%20%20%20%20%20%20%20%20%20top%3A%200.0%25%3B%0A%20%20%20%20%20%20%20%20%20%20%20%20%20%20%20%20%7D%0A%20%20%20%20%20%20%20%20%20%20%20%20%3C/style%3E%0A%20%20%20%20%20%20%20%20%0A%20%20%20%20%3Cscript%20src%3D%22https%3A//cdnjs.cloudflare.com/ajax/libs/leaflet-minimap/3.6.1/Control.MiniMap.js%22%3E%3C/script%3E%0A%20%20%20%20%3Clink%20rel%3D%22stylesheet%22%20href%3D%22https%3A//cdnjs.cloudflare.com/ajax/libs/leaflet-minimap/3.6.1/Control.MiniMap.css%22/%3E%0A%20%20%20%20%3Cscript%20src%3D%22https%3A//cdnjs.cloudflare.com/ajax/libs/leaflet.fullscreen/1.4.2/Control.FullScreen.min.js%22%3E%3C/script%3E%0A%20%20%20%20%3Clink%20rel%3D%22stylesheet%22%20href%3D%22https%3A//cdnjs.cloudflare.com/ajax/libs/leaflet.fullscreen/1.4.2/Control.FullScreen.min.css%22/%3E%0A%3C/head%3E%0A%3Cbody%3E%20%20%20%20%0A%20%20%20%20%0A%20%20%20%20%20%20%20%20%20%20%20%20%3Cdiv%20class%3D%22folium-map%22%20id%3D%22map_83c7cde9adcd435797ca15cf2d27d707%22%20%3E%3C/div%3E%0A%20%20%20%20%20%20%20%20%0A%3C/body%3E%0A%3Cscript%3E%20%20%20%20%0A%20%20%20%20%0A%20%20%20%20%20%20%20%20%20%20%20%20var%20map_83c7cde9adcd435797ca15cf2d27d707%20%3D%20L.map%28%0A%20%20%20%20%20%20%20%20%20%20%20%20%20%20%20%20%22map_83c7cde9adcd435797ca15cf2d27d707%22%2C%0A%20%20%20%20%20%20%20%20%20%20%20%20%20%20%20%20%7B%0A%20%20%20%20%20%20%20%20%20%20%20%20%20%20%20%20%20%20%20%20center%3A%20%5B-13.4589%2C%20-76.0908%5D%2C%0A%20%20%20%20%20%20%20%20%20%20%20%20%20%20%20%20%20%20%20%20crs%3A%20L.CRS.EPSG3857%2C%0A%20%20%20%20%20%20%20%20%20%20%20%20%20%20%20%20%20%20%20%20zoom%3A%2011%2C%0A%20%20%20%20%20%20%20%20%20%20%20%20%20%20%20%20%20%20%20%20zoomControl%3A%20true%2C%0A%20%20%20%20%20%20%20%20%20%20%20%20%20%20%20%20%20%20%20%20preferCanvas%3A%20false%2C%0A%20%20%20%20%20%20%20%20%20%20%20%20%20%20%20%20%7D%0A%20%20%20%20%20%20%20%20%20%20%20%20%29%3B%0A%20%20%20%20%20%20%20%20%20%20%20%20L.control.scale%28%29.addTo%28map_83c7cde9adcd435797ca15cf2d27d707%29%3B%0A%0A%20%20%20%20%20%20%20%20%20%20%20%20%0A%0A%20%20%20%20%20%20%20%20%0A%20%20%20%20%0A%20%20%20%20%20%20%20%20%20%20%20%20var%20tile_layer_48a46ff0c3fb40928a51a7ad543987e2%20%3D%20L.tileLayer%28%0A%20%20%20%20%20%20%20%20%20%20%20%20%20%20%20%20%22https%3A//%7Bs%7D.tile.openstreetmap.org/%7Bz%7D/%7Bx%7D/%7By%7D.png%22%2C%0A%20%20%20%20%20%20%20%20%20%20%20%20%20%20%20%20%7B%22attribution%22%3A%20%22Data%20by%20%5Cu0026copy%3B%20%5Cu003ca%20href%3D%5C%22http%3A//openstreetmap.org%5C%22%5Cu003eOpenStreetMap%5Cu003c/a%5Cu003e%2C%20under%20%5Cu003ca%20href%3D%5C%22http%3A//www.openstreetmap.org/copyright%5C%22%5Cu003eODbL%5Cu003c/a%5Cu003e.%22%2C%20%22detectRetina%22%3A%20false%2C%20%22maxNativeZoom%22%3A%2018%2C%20%22maxZoom%22%3A%2018%2C%20%22minZoom%22%3A%200%2C%20%22noWrap%22%3A%20false%2C%20%22opacity%22%3A%201%2C%20%22subdomains%22%3A%20%22abc%22%2C%20%22tms%22%3A%20false%7D%0A%20%20%20%20%20%20%20%20%20%20%20%20%29.addTo%28map_83c7cde9adcd435797ca15cf2d27d707%29%3B%0A%20%20%20%20%20%20%20%20%0A%20%20%20%20%0A%0A%20%20%20%20%20%20%20%20function%20geo_json_329882f788cc4833bd229fd5a01efd67_onEachFeature%28feature%2C%20layer%29%20%7B%0A%20%20%20%20%20%20%20%20%20%20%20%20layer.on%28%7B%0A%20%20%20%20%20%20%20%20%20%20%20%20%7D%29%3B%0A%20%20%20%20%20%20%20%20%7D%3B%0A%20%20%20%20%20%20%20%20var%20geo_json_329882f788cc4833bd229fd5a01efd67%20%3D%20L.geoJson%28null%2C%20%7B%0A%20%20%20%20%20%20%20%20%20%20%20%20%20%20%20%20onEachFeature%3A%20geo_json_329882f788cc4833bd229fd5a01efd67_onEachFeature%2C%0A%20%20%20%20%20%20%20%20%20%20%20%20%0A%20%20%20%20%20%20%20%20%7D%29%3B%0A%0A%20%20%20%20%20%20%20%20function%20geo_json_329882f788cc4833bd229fd5a01efd67_add%20%28data%29%20%7B%0A%20%20%20%20%20%20%20%20%20%20%20%20geo_json_329882f788cc4833bd229fd5a01efd67%0A%20%20%20%20%20%20%20%20%20%20%20%20%20%20%20%20.addData%28data%29%0A%20%20%20%20%20%20%20%20%20%20%20%20%20%20%20%20.addTo%28map_83c7cde9adcd435797ca15cf2d27d707%29%3B%0A%20%20%20%20%20%20%20%20%7D%0A%20%20%20%20%20%20%20%20%20%20%20%20geo_json_329882f788cc4833bd229fd5a01efd67_add%28%7B%22columns%22%3A%20%7B%22Area_km2%22%3A%20%22Float%22%2C%20%22Id%22%3A%20%22Integer%22%2C%20%22Perimtr_km%22%3A%20%22Float%22%2C%20%22system%3Aindex%22%3A%20%22String%22%7D%2C%20%22features%22%3A%20%5B%7B%22geometry%22%3A%20%7B%22coordinates%22%3A%20%5B%5B%5B-76.21400100068792%2C%20-13.379082365478837%5D%2C%20%5B-76.19690924627443%2C%20-13.420788328107367%5D%2C%20%5B-76.19032313566917%2C%20-13.453112374789164%5D%2C%20%5B-76.19302981713273%2C%20-13.46658776926764%5D%2C%20%5B-76.19426498894764%2C%20-13.4796440219646%5D%2C%20%5B-76.19134873784438%2C%20-13.51180301675605%5D%2C%20%5B-76.19124172961685%2C%20-13.519985518078322%5D%2C%20%5B-76.19131300948693%2C%20-13.534339336791442%5D%2C%20%5B-76.19034542183866%2C%20-13.546111309863274%5D%2C%20%5B-76.19222717490919%2C%20-13.57121607868102%5D%2C%20%5B-76.19335976926851%2C%20-13.593475893533407%5D%2C%20%5B-76.1641036567425%2C%20-13.59404218559391%5D%2C%20%5B-76.16298886243861%2C%20-13.591059122430352%5D%2C%20%5B-76.15473504848498%2C%20-13.590381300459178%5D%2C%20%5B-76.14817572695577%2C%20-13.586640139664455%5D%2C%20%5B-76.14425173055545%2C%20-13.584209944112068%5D%2C%20%5B-76.14014935419998%2C%20-13.583451877218959%5D%2C%20%5B-76.13397348358332%2C%20-13.582760733873311%5D%2C%20%5B-76.13174392248185%2C%20-13.57715113914108%5D%2C%20%5B-76.1282479503149%2C%20-13.574832413547302%5D%2C%20%5B-76.12029295909937%2C%20-13.572776771199262%5D%2C%20%5B-76.1161281871084%2C%20-13.571479146461087%5D%2C%20%5B-76.11159774285684%2C%20-13.5697668543442%5D%2C%20%5B-76.10578304411895%2C%20-13.567519456427966%5D%2C%20%5B-76.10301843138927%2C%20-13.564661230467713%5D%2C%20%5B-76.10044553300098%2C%20-13.56383183986704%5D%2C%20%5B-76.09825161971622%2C%20-13.56551732445099%5D%2C%20%5B-76.09574562524533%2C%20-13.565347947635557%5D%2C%20%5B-76.09071128475304%2C%20-13.560108487367737%5D%2C%20%5B-76.08892760500079%2C%20-13.558561143026884%5D%2C%20%5B-76.08544062725132%2C%20-13.557740646622603%5D%2C%20%5B-76.08239061064528%2C%20-13.55931026128806%5D%2C%20%5B-76.07855128671218%2C%20-13.561236588444428%5D%2C%20%5B-76.07457820181025%2C%20-13.561914370050244%5D%2C%20%5B-76.07158618624956%2C%20-13.562525274746339%5D%2C%20%5B-76.0704803729242%2C%20-13.560554371174643%5D%2C%20%5B-76.06954839543062%2C%20-13.557210072875886%5D%2C%20%5B-76.066779245802%2C%20-13.553335118943796%5D%2C%20%5B-76.06553964291385%2C%20-13.54957159379624%5D%2C%20%5B-76.06265462840668%2C%20-13.546534970325915%5D%2C%20%5B-76.06026005228506%2C%20-13.544274240895064%5D%2C%20%5B-76.05926568591107%2C%20-13.541286611593844%5D%2C%20%5B-76.05925674516774%2C%20-13.539195285249933%5D%2C%20%5B-76.05814649508143%2C%20-13.536029287259245%5D%2C%20%5B-76.05616657703598%2C%20-13.531253615670643%5D%2C%20%5B-76.05328154310497%2C%20-13.527797838797383%5D%2C%20%5B-76.05308094291736%2C%20-13.52444905401908%5D%2C%20%5B-76.05135529119912%2C%20-13.521167155479853%5D%2C%20%5B-76.05176552606473%2C%20-13.517158411594698%5D%2C%20%5B-76.04978560482496%2C%20-13.511424026041821%5D%2C%20%5B-76.04884923779957%2C%20-13.507063009459303%5D%2C%20%5B-76.04853708453453%2C%20-13.505332840281847%5D%2C%20%5B-76.04498764150382%2C%20-13.503972866214843%5D%2C%20%5B-76.04240134998406%2C%20-13.500334180443035%5D%2C%20%5B-76.04068459508125%2C%20-13.498126976904052%5D%2C%20%5B-76.03608729457149%2C%20-13.495397993833596%5D%2C%20%5B-76.03314429026688%2C%20-13.49361438464367%5D%2C%20%5B-76.03270726117594%2C%20-13.490863076231049%5D%2C%20%5B-76.02840870183408%2C%20-13.485739547089075%5D%2C%20%5B-76.02698183993132%2C%20-13.481200185068476%5D%2C%20%5B-76.02690595862221%2C%20-13.478150227582477%5D%2C%20%5B-76.02359290642518%2C%20-13.478569323155192%5D%2C%20%5B-76.01956183218219%2C%20-13.478226013461457%5D%2C%20%5B-76.01466133995814%2C%20-13.476210508535582%5D%2C%20%5B-76.01086662011507%2C%20-13.47455168380951%5D%2C%20%5B-76.0027020370278%2C%20-13.468152848452686%5D%2C%20%5B-75.99376150787204%2C%20-13.469334549952144%5D%2C%20%5B-75.99164790827008%2C%20-13.472429203151393%5D%2C%20%5B-75.98798248811542%2C%20-13.473160422191894%5D%2C%20%5B-75.98696581420268%2C%20-13.475389989197614%5D%2C%20%5B-75.9863236912098%2C%20-13.479768884401281%5D%2C%20%5B-75.98231048819302%2C%20-13.484736244481958%5D%2C%20%5B-75.97791382060716%2C%20-13.485400728996593%5D%2C%20%5B-75.97650477436342%2C%20-13.481744208668008%5D%2C%20%5B-75.97882347514725%2C%20-13.475064505144%5D%2C%20%5B-75.98129828999734%2C%20-13.469887433885805%5D%2C%20%5B-75.98612751097306%2C%20-13.468072613980896%5D%2C%20%5B-75.98662695076933%2C%20-13.463979136775455%5D%2C%20%5B-75.98786655276906%2C%20-13.462828757267998%5D%2C%20%5B-75.9925619897979%2C%20-13.462882229149107%5D%2C%20%5B-75.99211163645884%2C%20-13.46065717322885%5D%2C%20%5B-75.9865333336219%2C%20-13.459100923025732%5D%2C%20%5B-75.98190474179559%2C%20-13.456679624035747%5D%2C%20%5B-75.9802058375162%2C%20-13.454316257919945%5D%2C%20%5B-75.97609458227255%2C%20-13.45218039740223%5D%2C%20%5B-75.97218835219086%2C%20-13.447600894974997%5D%2C%20%5B-75.96768914291765%2C%20-13.441233334574113%5D%2C%20%5B-75.97512246382304%2C%20-13.43573072397478%5D%2C%20%5B-75.97895730989494%2C%20-13.441170908048036%5D%2C%20%5B-75.98493244407692%2C%20-13.444207541976155%5D%2C%20%5B-75.98884752748351%2C%20-13.445915358158942%5D%2C%20%5B-75.99237919168644%2C%20-13.448390128041538%5D%2C%20%5B-75.99746255453594%2C%20-13.448657716014703%5D%2C%20%5B-76.00148019071203%2C%20-13.450552841806152%5D%2C%20%5B-76.00504305990263%2C%20-13.449478180230592%5D%2C%20%5B-76.00925237378084%2C%20-13.448167211732422%5D%2C%20%5B-76.01303376650465%2C%20-13.449183835172564%5D%2C%20%5B-76.01660103187206%2C%20-13.44858185131698%5D%2C%20%5B-76.02031094349495%2C%20-13.449928537633957%5D%2C%20%5B-76.0204403108891%2C%20-13.446450445402519%5D%2C%20%5B-76.01797885632462%2C%20-13.44212952771693%5D%2C%20%5B-76.02063201525831%2C%20-13.439257901285119%5D%2C%20%5B-76.01376059818804%2C%20-13.43716211781141%5D%2C%20%5B-76.00571635680126%2C%20-13.435240294549187%5D%2C%20%5B-76.00880650232897%2C%20-13.430638499858192%5D%2C%20%5B-76.0154862768492%2C%20-13.429746663121348%5D%2C%20%5B-76.02064990174942%2C%20-13.430415496308028%5D%2C%20%5B-76.02312910643195%2C%20-13.43379547559527%5D%2C%20%5B-76.02671426294756%2C%20-13.435846674750932%5D%2C%20%5B-76.02866733281208%2C%20-13.439855416288891%5D%2C%20%5B-76.03506619251095%2C%20-13.44092119793986%5D%2C%20%5B-76.03935577971993%2C%20-13.442339173716052%5D%2C%20%5B-76.04346268001238%2C%20-13.442664635976648%5D%2C%20%5B-76.04552272414082%2C%20-13.444381386990893%5D%2C%20%5B-76.04945565945042%2C%20-13.444996749569983%5D%2C%20%5B-76.0540931475901%2C%20-13.446642187054902%5D%2C%20%5B-76.05727250543849%2C%20-13.448809294409221%5D%2C%20%5B-76.06043842313052%2C%20-13.449027808615773%5D%2C%20%5B-76.06242722026612%2C%20-13.447583012323216%5D%2C%20%5B-76.06241827972819%2C%20-13.445054710211386%5D%2C%20%5B-76.06428666248685%2C%20-13.443097185340077%5D%2C%20%5B-76.06692193573427%2C%20-13.44297231709275%5D%2C%20%5B-76.06873679358416%2C%20-13.441643552297153%5D%2C%20%5B-76.07294177573077%2C%20-13.438120859570772%5D%2C%20%5B-76.07568858475558%2C%20-13.435414171077442%5D%2C%20%5B-76.07309782477466%2C%20-13.43295272622332%5D%2C%20%5B-76.07085939359027%2C%20-13.430897117769586%5D%2C%20%5B-76.07114025059306%2C%20-13.42860063862487%5D%2C%20%5B-76.08170388068505%2C%20-13.416899944923246%5D%2C%20%5B-76.08569923962558%2C%20-13.418719276811565%5D%2C%20%5B-76.0879422080093%2C%20-13.421006830527588%5D%2C%20%5B-76.08923975505826%2C%20-13.42341468924107%5D%2C%20%5B-76.0928159332795%2C%20-13.423222941170659%5D%2C%20%5B-76.09357845217953%2C%20-13.422933107447896%5D%2C%20%5B-76.09373899124923%2C%20-13.419892057182526%5D%2C%20%5B-76.09542012667688%2C%20-13.414603574211789%5D%2C%20%5B-76.09977216793072%2C%20-13.404708826500517%5D%2C%20%5B-76.09138018080043%2C%20-13.39631678550664%5D%2C%20%5B-76.09511684060976%2C%20-13.385655084151242%5D%2C%20%5B-76.10357576538814%2C%20-13.378324317991028%5D%2C%20%5B-76.11478151964388%2C%20-13.371635611363567%5D%2C%20%5B-76.12158161652219%2C%20-13.362396364507434%5D%2C%20%5B-76.13171720291724%2C%20-13.348715860242809%5D%2C%20%5B-76.13877594038823%2C%20-13.343061728652401%5D%2C%20%5B-76.15077983708495%2C%20-13.337568131319205%5D%2C%20%5B-76.16224866863475%2C%20-13.334821340636616%5D%2C%20%5B-76.17382894826706%2C%20-13.330223966948397%5D%2C%20%5B-76.18741582029423%2C%20-13.323762703663462%5D%2C%20%5B-76.1939662565119%2C%20-13.32672356814775%5D%2C%20%5B-76.20044978692843%2C%20-13.342120820522293%5D%2C%20%5B-76.20664340944472%2C%20-13.359315146827063%5D%2C%20%5B-76.21400100068792%2C%20-13.379082365478837%5D%5D%5D%2C%20%22type%22%3A%20%22Polygon%22%7D%2C%20%22id%22%3A%20%2200000000000000000000%22%2C%20%22properties%22%3A%20%7B%22Area_km2%22%3A%20386.85128113%2C%20%22Id%22%3A%200%2C%20%22Perimtr_km%22%3A%20111.975420623%7D%2C%20%22type%22%3A%20%22Feature%22%7D%5D%2C%20%22id%22%3A%20%22users/CesarVilca/area_total%22%2C%20%22properties%22%3A%20%7B%22system%3Aasset_size%22%3A%2010237%7D%2C%20%22type%22%3A%20%22FeatureCollection%22%2C%20%22version%22%3A%201598146816292394%7D%29%3B%0A%0A%20%20%20%20%20%20%20%20%0A%20%20%20%20%0A%0A%20%20%20%20%20%20%20%20function%20geo_json_3634ba76a9c64fce9861c4907cc8510f_onEachFeature%28feature%2C%20layer%29%20%7B%0A%20%20%20%20%20%20%20%20%20%20%20%20layer.on%28%7B%0A%20%20%20%20%20%20%20%20%20%20%20%20%7D%29%3B%0A%20%20%20%20%20%20%20%20%7D%3B%0A%20%20%20%20%20%20%20%20var%20geo_json_3634ba76a9c64fce9861c4907cc8510f%20%3D%20L.geoJson%28null%2C%20%7B%0A%20%20%20%20%20%20%20%20%20%20%20%20%20%20%20%20onEachFeature%3A%20geo_json_3634ba76a9c64fce9861c4907cc8510f_onEachFeature%2C%0A%20%20%20%20%20%20%20%20%20%20%20%20%0A%20%20%20%20%20%20%20%20%7D%29%3B%0A%0A%20%20%20%20%20%20%20%20function%20geo_json_3634ba76a9c64fce9861c4907cc8510f_add%20%28data%29%20%7B%0A%20%20%20%20%20%20%20%20%20%20%20%20geo_json_3634ba76a9c64fce9861c4907cc8510f%0A%20%20%20%20%20%20%20%20%20%20%20%20%20%20%20%20.addData%28data%29%0A%20%20%20%20%20%20%20%20%20%20%20%20%20%20%20%20.addTo%28map_83c7cde9adcd435797ca15cf2d27d707%29%3B%0A%20%20%20%20%20%20%20%20%7D%0A%20%20%20%20%20%20%20%20%20%20%20%20geo_json_3634ba76a9c64fce9861c4907cc8510f_add%28%7B%22coordinates%22%3A%20%5B%5B%5B-76.21400100068792%2C%20-13.594042185593935%5D%2C%20%5B-75.96768914291765%2C%20-13.594042185593935%5D%2C%20%5B-75.96768914291765%2C%20-13.323762703663437%5D%2C%20%5B-76.21400100068792%2C%20-13.323762703663437%5D%2C%20%5B-76.21400100068792%2C%20-13.594042185593935%5D%5D%5D%2C%20%22geodesic%22%3A%20false%2C%20%22type%22%3A%20%22Polygon%22%7D%29%3B%0A%0A%20%20%20%20%20%20%20%20%0A%20%20%20%20%0A%20%20%20%20%20%20%20%20%20%20%20%20var%20tile_layer_0b98547e6deb4daeae267afd3fac8bb6%20%3D%20L.tileLayer%28%0A%20%20%20%20%20%20%20%20%20%20%20%20%20%20%20%20%22https%3A//%7Bs%7D.tile.openstreetmap.org/%7Bz%7D/%7Bx%7D/%7By%7D.png%22%2C%0A%20%20%20%20%20%20%20%20%20%20%20%20%20%20%20%20%7B%22attribution%22%3A%20%22Data%20by%20%5Cu0026copy%3B%20%5Cu003ca%20href%3D%5C%22http%3A//openstreetmap.org%5C%22%5Cu003eOpenStreetMap%5Cu003c/a%5Cu003e%2C%20under%20%5Cu003ca%20href%3D%5C%22http%3A//www.openstreetmap.org/copyright%5C%22%5Cu003eODbL%5Cu003c/a%5Cu003e.%22%2C%20%22detectRetina%22%3A%20false%2C%20%22maxNativeZoom%22%3A%2018%2C%20%22maxZoom%22%3A%2018%2C%20%22minZoom%22%3A%200%2C%20%22noWrap%22%3A%20false%2C%20%22opacity%22%3A%201%2C%20%22subdomains%22%3A%20%22abc%22%2C%20%22tms%22%3A%20false%7D%0A%20%20%20%20%20%20%20%20%20%20%20%20%29%3B%0A%20%20%20%20%20%20%20%20%20%20%20%20var%20mini_map_2b84d9af56254d5da3390a5369c03afb%20%3D%20new%20L.Control.MiniMap%28%0A%20%20%20%20%20%20%20%20%20%20%20%20%20%20%20%20tile_layer_0b98547e6deb4daeae267afd3fac8bb6%2C%0A%20%20%20%20%20%20%20%20%20%20%20%20%20%20%20%20%7B%22autoToggleDisplay%22%3A%20false%2C%20%22centerFixed%22%3A%20false%2C%20%22collapsedHeight%22%3A%2025%2C%20%22collapsedWidth%22%3A%2025%2C%20%22height%22%3A%20150%2C%20%22minimized%22%3A%20false%2C%20%22position%22%3A%20%22bottomright%22%2C%20%22toggleDisplay%22%3A%20false%2C%20%22width%22%3A%20150%2C%20%22zoomAnimation%22%3A%20false%2C%20%22zoomLevelFixed%22%3A%207%2C%20%22zoomLevelOffset%22%3A%20-5%7D%0A%20%20%20%20%20%20%20%20%20%20%20%20%29%3B%0A%20%20%20%20%20%20%20%20%20%20%20%20map_83c7cde9adcd435797ca15cf2d27d707.addControl%28mini_map_2b84d9af56254d5da3390a5369c03afb%29%3B%0A%20%20%20%20%20%20%20%20%0A%20%20%20%20%0A%20%20%20%20%20%20%20%20%20%20%20%20L.control.fullscreen%28%0A%20%20%20%20%20%20%20%20%20%20%20%20%20%20%20%20%7B%22forceSeparateButton%22%3A%20false%2C%20%22position%22%3A%20%22topleft%22%2C%20%22title%22%3A%20%22Full%20Screen%22%2C%20%22titleCancel%22%3A%20%22Exit%20Full%20Screen%22%7D%0A%20%20%20%20%20%20%20%20%20%20%20%20%29.addTo%28map_83c7cde9adcd435797ca15cf2d27d707%29%3B%0A%20%20%20%20%20%20%20%20%0A%20%20%20%20%0A%20%20%20%20%20%20%20%20%20%20%20%20var%20layer_control_ff4ac7985cb742368b4a4320c94af700%20%3D%20%7B%0A%20%20%20%20%20%20%20%20%20%20%20%20%20%20%20%20base_layers%20%3A%20%7B%0A%20%20%20%20%20%20%20%20%20%20%20%20%20%20%20%20%20%20%20%20%22openstreetmap%22%20%3A%20tile_layer_48a46ff0c3fb40928a51a7ad543987e2%2C%0A%20%20%20%20%20%20%20%20%20%20%20%20%20%20%20%20%7D%2C%0A%20%20%20%20%20%20%20%20%20%20%20%20%20%20%20%20overlays%20%3A%20%20%7B%0A%20%20%20%20%20%20%20%20%20%20%20%20%20%20%20%20%20%20%20%20%22area%20total%22%20%3A%20geo_json_329882f788cc4833bd229fd5a01efd67%2C%0A%20%20%20%20%20%20%20%20%20%20%20%20%20%20%20%20%20%20%20%20%22roi_clip%22%20%3A%20geo_json_3634ba76a9c64fce9861c4907cc8510f%2C%0A%20%20%20%20%20%20%20%20%20%20%20%20%20%20%20%20%7D%2C%0A%20%20%20%20%20%20%20%20%20%20%20%20%7D%3B%0A%20%20%20%20%20%20%20%20%20%20%20%20L.control.layers%28%0A%20%20%20%20%20%20%20%20%20%20%20%20%20%20%20%20layer_control_ff4ac7985cb742368b4a4320c94af700.base_layers%2C%0A%20%20%20%20%20%20%20%20%20%20%20%20%20%20%20%20layer_control_ff4ac7985cb742368b4a4320c94af700.overlays%2C%0A%20%20%20%20%20%20%20%20%20%20%20%20%20%20%20%20%7B%22autoZIndex%22%3A%20true%2C%20%22collapsed%22%3A%20true%2C%20%22position%22%3A%20%22topright%22%7D%0A%20%20%20%20%20%20%20%20%20%20%20%20%29.addTo%28map_83c7cde9adcd435797ca15cf2d27d707%29%3B%0A%20%20%20%20%20%20%20%20%0A%3C/script%3E onload=\"this.contentDocument.open();this.contentDocument.write(    decodeURIComponent(this.getAttribute('data-html')));this.contentDocument.close();\" allowfullscreen webkitallowfullscreen mozallowfullscreen></iframe></div></div>"
      ],
      "text/plain": [
       "<folium.folium.Map at 0x1f1791d8088>"
      ]
     },
     "execution_count": 36,
     "metadata": {},
     "output_type": "execute_result"
    }
   ],
   "source": [
    "# ROI CHINCHA \n",
    "\n",
    "area_total = ee.FeatureCollection('users/CesarVilca/area_total') \n",
    "roi_clip = area_total.geometry().bounds()  # Representación de un cuadrado representando los límites\n",
    "\n",
    "# coordenadas de centrado\n",
    "centroide = [-76.0908, -13.4589]\n",
    "\n",
    "# Diccionario de visualización\n",
    "dicc = {\n",
    "    'area total': area_total.getInfo(), \n",
    "    'roi_clip'  : roi_clip.getInfo()\n",
    "}\n",
    "\n",
    "# función de visualización\n",
    "mapdisplay(centroide, dicc, zoom_start=11)"
   ]
  },
  {
   "cell_type": "markdown",
   "id": "subsequent-master",
   "metadata": {},
   "source": [
    "#### Funciones para visualizar fechas"
   ]
  },
  {
   "cell_type": "code",
   "execution_count": 38,
   "id": "filled-rotation",
   "metadata": {},
   "outputs": [
    {
     "name": "stdout",
     "output_type": "stream",
     "text": [
      "ver_rangos(icol, range_date= [Start_date, End_date]) listo!\n"
     ]
    }
   ],
   "source": [
    "# ver_rangos\n",
    "\n",
    "Start_date = '2012-01-01'\n",
    "End_date   = '2021-01-31'\n",
    "range_date = [Start_date, End_date]\n",
    "\n",
    "def ver_rangos(img_col, range_date= [Start_date, End_date]):\n",
    "    \"\"\"\n",
    "     Devuelve los rangos de fechas existente en un rango inicial escrito manualmente como input.\n",
    "     Pasos:\n",
    "     1. `Reducer.minMax()` devuelve un valor min y max\n",
    "     2. `icol.reduceColumns()` devuelve un diccionario con el min-max\n",
    "     more info: https://developers.google.com/earth-engine/apidocs/ee-imagecollection-reducecolumns?hl=en\n",
    "    \"\"\"\n",
    "\n",
    "    rango = img_col.reduceColumns(ee.Reducer.minMax(), [\"system:time_start\"]) \n",
    "    # Retorna un ee.dictionary: {'max': 1608132402761, 'min': 1545060401000}\n",
    "\n",
    "    # Obtención de la fecha min y max del image collection en formato ISO standard 8601\n",
    "    # Javascript trabaja las fechas con milisegundos (se deja así)\n",
    "    # Python     trabaja las fechas con segundos (por eso /1000)\n",
    "    init_date = ee.Date(rango.get('min')).getInfo()['value']/1000.\n",
    "    last_date = ee.Date(rango.get('max')).getInfo()['value']/1000.\n",
    "\n",
    "    # Dar formato a las fechas  \n",
    "    from datetime import datetime as dt\n",
    "    init_date_f = dt.utcfromtimestamp(init_date).strftime('%Y-%m-%d') # %H:%M:%S\n",
    "    last_date_f = dt.utcfromtimestamp(last_date).strftime('%Y-%m-%d') # %H:%M:%S\n",
    "\n",
    "    # Obtenga el rango de fechas de las imágenes en la colección.\n",
    "    range_date = [Start_date, End_date]\n",
    "    print('Total imágenes: {}'.format(img_col.size().getInfo()))\n",
    "    print('Rango Temporal Ingresado : {} - {}'.format(range_date[0], range_date[1]))\n",
    "    print('Rango Temporal Real      : {} - {}'.format(init_date_f, last_date_f))\n",
    "    \n",
    "print('ver_rangos(icol, range_date= [Start_date, End_date]) listo!')"
   ]
  },
  {
   "cell_type": "code",
   "execution_count": 39,
   "id": "dated-asset",
   "metadata": {},
   "outputs": [
    {
     "name": "stdout",
     "output_type": "stream",
     "text": [
      "conv_fecha(img, getInfo=None) listo!\n"
     ]
    }
   ],
   "source": [
    "# conv_fecha \n",
    "\n",
    "def conv_fecha(img, getInfo=None):\n",
    "    '''\n",
    "      Convierte el formato de UNIX Time al formato %Y-%m-%d %H:%M:%S\n",
    "      img: ee.Image\n",
    "      getInfo = True : cuando se tiene ya el .getInfo() \n",
    "    '''\n",
    "    from datetime import datetime as dt\n",
    "    if getInfo is None:\n",
    "        return dt.utcfromtimestamp(img.getInfo()['properties'][\"system:time_start\"]/1000).strftime('%Y-%m-%d %H:%M:%S')\n",
    "    if getInfo==True:\n",
    "        return dt.utcfromtimestamp(img['properties'][\"system:time_start\"]/1000).strftime('%Y-%m-%d %H:%M:%S')\n",
    "    \n",
    "print('conv_fecha(img, getInfo=None) listo!')"
   ]
  },
  {
   "cell_type": "markdown",
   "id": "alpha-carnival",
   "metadata": {},
   "source": [
    "#### Visualización rápida Sentinel-2\n",
    "\n",
    "Primera imagen registrada: `2018-12-17`"
   ]
  },
  {
   "cell_type": "code",
   "execution_count": 43,
   "id": "wrapped-religious",
   "metadata": {
    "scrolled": false
   },
   "outputs": [
    {
     "name": "stdout",
     "output_type": "stream",
     "text": [
      "Total imágenes: 156\n",
      "Rango Temporal Ingresado : 2012-12-17 - 2021-02-11\n",
      "Rango Temporal Real      : 2018-12-17 - 2021-02-09\n",
      "\n",
      "Mejor imagen:\n",
      "Nubosidad: 0.200305%\n",
      "Image ID : COPERNICUS/S2_SR/20190501T151711_20190501T151806_T18LUL\n",
      "Fecha    : 2019-05-01 15:26:50\n"
     ]
    },
    {
     "data": {
      "text/html": [
       "<div style=\"width:100%;\"><div style=\"position:relative;width:100%;height:0;padding-bottom:60%;\"><span style=\"color:#565656\">Make this Notebook Trusted to load map: File -> Trust Notebook</span><iframe src=\"about:blank\" style=\"position:absolute;width:100%;height:100%;left:0;top:0;border:none !important;\" data-html=%3C%21DOCTYPE%20html%3E%0A%3Chead%3E%20%20%20%20%0A%20%20%20%20%3Cmeta%20http-equiv%3D%22content-type%22%20content%3D%22text/html%3B%20charset%3DUTF-8%22%20/%3E%0A%20%20%20%20%0A%20%20%20%20%20%20%20%20%3Cscript%3E%0A%20%20%20%20%20%20%20%20%20%20%20%20L_NO_TOUCH%20%3D%20false%3B%0A%20%20%20%20%20%20%20%20%20%20%20%20L_DISABLE_3D%20%3D%20false%3B%0A%20%20%20%20%20%20%20%20%3C/script%3E%0A%20%20%20%20%0A%20%20%20%20%3Cstyle%3Ehtml%2C%20body%20%7Bwidth%3A%20100%25%3Bheight%3A%20100%25%3Bmargin%3A%200%3Bpadding%3A%200%3B%7D%3C/style%3E%0A%20%20%20%20%3Cstyle%3E%23map%20%7Bposition%3Aabsolute%3Btop%3A0%3Bbottom%3A0%3Bright%3A0%3Bleft%3A0%3B%7D%3C/style%3E%0A%20%20%20%20%3Cscript%20src%3D%22https%3A//cdn.jsdelivr.net/npm/leaflet%401.6.0/dist/leaflet.js%22%3E%3C/script%3E%0A%20%20%20%20%3Cscript%20src%3D%22https%3A//code.jquery.com/jquery-1.12.4.min.js%22%3E%3C/script%3E%0A%20%20%20%20%3Cscript%20src%3D%22https%3A//maxcdn.bootstrapcdn.com/bootstrap/3.2.0/js/bootstrap.min.js%22%3E%3C/script%3E%0A%20%20%20%20%3Cscript%20src%3D%22https%3A//cdnjs.cloudflare.com/ajax/libs/Leaflet.awesome-markers/2.0.2/leaflet.awesome-markers.js%22%3E%3C/script%3E%0A%20%20%20%20%3Clink%20rel%3D%22stylesheet%22%20href%3D%22https%3A//cdn.jsdelivr.net/npm/leaflet%401.6.0/dist/leaflet.css%22/%3E%0A%20%20%20%20%3Clink%20rel%3D%22stylesheet%22%20href%3D%22https%3A//maxcdn.bootstrapcdn.com/bootstrap/3.2.0/css/bootstrap.min.css%22/%3E%0A%20%20%20%20%3Clink%20rel%3D%22stylesheet%22%20href%3D%22https%3A//maxcdn.bootstrapcdn.com/bootstrap/3.2.0/css/bootstrap-theme.min.css%22/%3E%0A%20%20%20%20%3Clink%20rel%3D%22stylesheet%22%20href%3D%22https%3A//maxcdn.bootstrapcdn.com/font-awesome/4.6.3/css/font-awesome.min.css%22/%3E%0A%20%20%20%20%3Clink%20rel%3D%22stylesheet%22%20href%3D%22https%3A//cdnjs.cloudflare.com/ajax/libs/Leaflet.awesome-markers/2.0.2/leaflet.awesome-markers.css%22/%3E%0A%20%20%20%20%3Clink%20rel%3D%22stylesheet%22%20href%3D%22https%3A//cdn.jsdelivr.net/gh/python-visualization/folium/folium/templates/leaflet.awesome.rotate.min.css%22/%3E%0A%20%20%20%20%0A%20%20%20%20%20%20%20%20%20%20%20%20%3Cmeta%20name%3D%22viewport%22%20content%3D%22width%3Ddevice-width%2C%0A%20%20%20%20%20%20%20%20%20%20%20%20%20%20%20%20initial-scale%3D1.0%2C%20maximum-scale%3D1.0%2C%20user-scalable%3Dno%22%20/%3E%0A%20%20%20%20%20%20%20%20%20%20%20%20%3Cstyle%3E%0A%20%20%20%20%20%20%20%20%20%20%20%20%20%20%20%20%23map_37099255ce1c4b8e86b4c48260da3ea2%20%7B%0A%20%20%20%20%20%20%20%20%20%20%20%20%20%20%20%20%20%20%20%20position%3A%20relative%3B%0A%20%20%20%20%20%20%20%20%20%20%20%20%20%20%20%20%20%20%20%20width%3A%20100.0%25%3B%0A%20%20%20%20%20%20%20%20%20%20%20%20%20%20%20%20%20%20%20%20height%3A%20100.0%25%3B%0A%20%20%20%20%20%20%20%20%20%20%20%20%20%20%20%20%20%20%20%20left%3A%200.0%25%3B%0A%20%20%20%20%20%20%20%20%20%20%20%20%20%20%20%20%20%20%20%20top%3A%200.0%25%3B%0A%20%20%20%20%20%20%20%20%20%20%20%20%20%20%20%20%7D%0A%20%20%20%20%20%20%20%20%20%20%20%20%3C/style%3E%0A%20%20%20%20%20%20%20%20%0A%20%20%20%20%3Cscript%20src%3D%22https%3A//cdnjs.cloudflare.com/ajax/libs/leaflet-minimap/3.6.1/Control.MiniMap.js%22%3E%3C/script%3E%0A%20%20%20%20%3Clink%20rel%3D%22stylesheet%22%20href%3D%22https%3A//cdnjs.cloudflare.com/ajax/libs/leaflet-minimap/3.6.1/Control.MiniMap.css%22/%3E%0A%20%20%20%20%3Cscript%20src%3D%22https%3A//cdnjs.cloudflare.com/ajax/libs/leaflet.fullscreen/1.4.2/Control.FullScreen.min.js%22%3E%3C/script%3E%0A%20%20%20%20%3Clink%20rel%3D%22stylesheet%22%20href%3D%22https%3A//cdnjs.cloudflare.com/ajax/libs/leaflet.fullscreen/1.4.2/Control.FullScreen.min.css%22/%3E%0A%3C/head%3E%0A%3Cbody%3E%20%20%20%20%0A%20%20%20%20%0A%20%20%20%20%20%20%20%20%20%20%20%20%3Cdiv%20class%3D%22folium-map%22%20id%3D%22map_37099255ce1c4b8e86b4c48260da3ea2%22%20%3E%3C/div%3E%0A%20%20%20%20%20%20%20%20%0A%3C/body%3E%0A%3Cscript%3E%20%20%20%20%0A%20%20%20%20%0A%20%20%20%20%20%20%20%20%20%20%20%20var%20map_37099255ce1c4b8e86b4c48260da3ea2%20%3D%20L.map%28%0A%20%20%20%20%20%20%20%20%20%20%20%20%20%20%20%20%22map_37099255ce1c4b8e86b4c48260da3ea2%22%2C%0A%20%20%20%20%20%20%20%20%20%20%20%20%20%20%20%20%7B%0A%20%20%20%20%20%20%20%20%20%20%20%20%20%20%20%20%20%20%20%20center%3A%20%5B-13.4589%2C%20-76.0908%5D%2C%0A%20%20%20%20%20%20%20%20%20%20%20%20%20%20%20%20%20%20%20%20crs%3A%20L.CRS.EPSG3857%2C%0A%20%20%20%20%20%20%20%20%20%20%20%20%20%20%20%20%20%20%20%20zoom%3A%2012%2C%0A%20%20%20%20%20%20%20%20%20%20%20%20%20%20%20%20%20%20%20%20zoomControl%3A%20true%2C%0A%20%20%20%20%20%20%20%20%20%20%20%20%20%20%20%20%20%20%20%20preferCanvas%3A%20false%2C%0A%20%20%20%20%20%20%20%20%20%20%20%20%20%20%20%20%7D%0A%20%20%20%20%20%20%20%20%20%20%20%20%29%3B%0A%20%20%20%20%20%20%20%20%20%20%20%20L.control.scale%28%29.addTo%28map_37099255ce1c4b8e86b4c48260da3ea2%29%3B%0A%0A%20%20%20%20%20%20%20%20%20%20%20%20%0A%0A%20%20%20%20%20%20%20%20%0A%20%20%20%20%0A%20%20%20%20%20%20%20%20%20%20%20%20var%20tile_layer_0dd64ac8d50640b49375625b1b204a39%20%3D%20L.tileLayer%28%0A%20%20%20%20%20%20%20%20%20%20%20%20%20%20%20%20%22https%3A//%7Bs%7D.tile.openstreetmap.org/%7Bz%7D/%7Bx%7D/%7By%7D.png%22%2C%0A%20%20%20%20%20%20%20%20%20%20%20%20%20%20%20%20%7B%22attribution%22%3A%20%22Data%20by%20%5Cu0026copy%3B%20%5Cu003ca%20href%3D%5C%22http%3A//openstreetmap.org%5C%22%5Cu003eOpenStreetMap%5Cu003c/a%5Cu003e%2C%20under%20%5Cu003ca%20href%3D%5C%22http%3A//www.openstreetmap.org/copyright%5C%22%5Cu003eODbL%5Cu003c/a%5Cu003e.%22%2C%20%22detectRetina%22%3A%20false%2C%20%22maxNativeZoom%22%3A%2018%2C%20%22maxZoom%22%3A%2018%2C%20%22minZoom%22%3A%200%2C%20%22noWrap%22%3A%20false%2C%20%22opacity%22%3A%201%2C%20%22subdomains%22%3A%20%22abc%22%2C%20%22tms%22%3A%20false%7D%0A%20%20%20%20%20%20%20%20%20%20%20%20%29.addTo%28map_37099255ce1c4b8e86b4c48260da3ea2%29%3B%0A%20%20%20%20%20%20%20%20%0A%20%20%20%20%0A%20%20%20%20%20%20%20%20%20%20%20%20var%20tile_layer_4bd090dd05c640229533c03f5ca79f16%20%3D%20L.tileLayer%28%0A%20%20%20%20%20%20%20%20%20%20%20%20%20%20%20%20%22https%3A//earthengine.googleapis.com/v1alpha/projects/earthengine-legacy/maps/98a84e1cdcb9808a129e6990261e9e43-41d22d02759809b40a9686c306e8d23d/tiles/%7Bz%7D/%7Bx%7D/%7By%7D%22%2C%0A%20%20%20%20%20%20%20%20%20%20%20%20%20%20%20%20%7B%22attribution%22%3A%20%22Google%20Earth%20Engine%22%2C%20%22detectRetina%22%3A%20false%2C%20%22maxNativeZoom%22%3A%2018%2C%20%22maxZoom%22%3A%2018%2C%20%22minZoom%22%3A%200%2C%20%22noWrap%22%3A%20false%2C%20%22opacity%22%3A%201%2C%20%22subdomains%22%3A%20%22abc%22%2C%20%22tms%22%3A%20false%7D%0A%20%20%20%20%20%20%20%20%20%20%20%20%29.addTo%28map_37099255ce1c4b8e86b4c48260da3ea2%29%3B%0A%20%20%20%20%20%20%20%20%0A%20%20%20%20%0A%20%20%20%20%20%20%20%20%20%20%20%20var%20tile_layer_d5e00abd177a471aa95760e1c9b9cfae%20%3D%20L.tileLayer%28%0A%20%20%20%20%20%20%20%20%20%20%20%20%20%20%20%20%22https%3A//%7Bs%7D.tile.openstreetmap.org/%7Bz%7D/%7Bx%7D/%7By%7D.png%22%2C%0A%20%20%20%20%20%20%20%20%20%20%20%20%20%20%20%20%7B%22attribution%22%3A%20%22Data%20by%20%5Cu0026copy%3B%20%5Cu003ca%20href%3D%5C%22http%3A//openstreetmap.org%5C%22%5Cu003eOpenStreetMap%5Cu003c/a%5Cu003e%2C%20under%20%5Cu003ca%20href%3D%5C%22http%3A//www.openstreetmap.org/copyright%5C%22%5Cu003eODbL%5Cu003c/a%5Cu003e.%22%2C%20%22detectRetina%22%3A%20false%2C%20%22maxNativeZoom%22%3A%2018%2C%20%22maxZoom%22%3A%2018%2C%20%22minZoom%22%3A%200%2C%20%22noWrap%22%3A%20false%2C%20%22opacity%22%3A%201%2C%20%22subdomains%22%3A%20%22abc%22%2C%20%22tms%22%3A%20false%7D%0A%20%20%20%20%20%20%20%20%20%20%20%20%29%3B%0A%20%20%20%20%20%20%20%20%20%20%20%20var%20mini_map_343a69ff81904d0aa7f7d44d9bbc8a4a%20%3D%20new%20L.Control.MiniMap%28%0A%20%20%20%20%20%20%20%20%20%20%20%20%20%20%20%20tile_layer_d5e00abd177a471aa95760e1c9b9cfae%2C%0A%20%20%20%20%20%20%20%20%20%20%20%20%20%20%20%20%7B%22autoToggleDisplay%22%3A%20false%2C%20%22centerFixed%22%3A%20false%2C%20%22collapsedHeight%22%3A%2025%2C%20%22collapsedWidth%22%3A%2025%2C%20%22height%22%3A%20150%2C%20%22minimized%22%3A%20false%2C%20%22position%22%3A%20%22bottomright%22%2C%20%22toggleDisplay%22%3A%20false%2C%20%22width%22%3A%20150%2C%20%22zoomAnimation%22%3A%20false%2C%20%22zoomLevelFixed%22%3A%207%2C%20%22zoomLevelOffset%22%3A%20-5%7D%0A%20%20%20%20%20%20%20%20%20%20%20%20%29%3B%0A%20%20%20%20%20%20%20%20%20%20%20%20map_37099255ce1c4b8e86b4c48260da3ea2.addControl%28mini_map_343a69ff81904d0aa7f7d44d9bbc8a4a%29%3B%0A%20%20%20%20%20%20%20%20%0A%20%20%20%20%0A%20%20%20%20%20%20%20%20%20%20%20%20L.control.fullscreen%28%0A%20%20%20%20%20%20%20%20%20%20%20%20%20%20%20%20%7B%22forceSeparateButton%22%3A%20false%2C%20%22position%22%3A%20%22topleft%22%2C%20%22title%22%3A%20%22Full%20Screen%22%2C%20%22titleCancel%22%3A%20%22Exit%20Full%20Screen%22%7D%0A%20%20%20%20%20%20%20%20%20%20%20%20%29.addTo%28map_37099255ce1c4b8e86b4c48260da3ea2%29%3B%0A%20%20%20%20%20%20%20%20%0A%20%20%20%20%0A%20%20%20%20%20%20%20%20%20%20%20%20var%20layer_control_270fc5fabfec4f55b44b62c95c7ac6be%20%3D%20%7B%0A%20%20%20%20%20%20%20%20%20%20%20%20%20%20%20%20base_layers%20%3A%20%7B%0A%20%20%20%20%20%20%20%20%20%20%20%20%20%20%20%20%20%20%20%20%22openstreetmap%22%20%3A%20tile_layer_0dd64ac8d50640b49375625b1b204a39%2C%0A%20%20%20%20%20%20%20%20%20%20%20%20%20%20%20%20%7D%2C%0A%20%20%20%20%20%20%20%20%20%20%20%20%20%20%20%20overlays%20%3A%20%20%7B%0A%20%20%20%20%20%20%20%20%20%20%20%20%20%20%20%20%20%20%20%20%22img_s2%22%20%3A%20tile_layer_4bd090dd05c640229533c03f5ca79f16%2C%0A%20%20%20%20%20%20%20%20%20%20%20%20%20%20%20%20%7D%2C%0A%20%20%20%20%20%20%20%20%20%20%20%20%7D%3B%0A%20%20%20%20%20%20%20%20%20%20%20%20L.control.layers%28%0A%20%20%20%20%20%20%20%20%20%20%20%20%20%20%20%20layer_control_270fc5fabfec4f55b44b62c95c7ac6be.base_layers%2C%0A%20%20%20%20%20%20%20%20%20%20%20%20%20%20%20%20layer_control_270fc5fabfec4f55b44b62c95c7ac6be.overlays%2C%0A%20%20%20%20%20%20%20%20%20%20%20%20%20%20%20%20%7B%22autoZIndex%22%3A%20true%2C%20%22collapsed%22%3A%20true%2C%20%22position%22%3A%20%22topright%22%7D%0A%20%20%20%20%20%20%20%20%20%20%20%20%29.addTo%28map_37099255ce1c4b8e86b4c48260da3ea2%29%3B%0A%20%20%20%20%20%20%20%20%0A%3C/script%3E onload=\"this.contentDocument.open();this.contentDocument.write(    decodeURIComponent(this.getAttribute('data-html')));this.contentDocument.close();\" allowfullscreen webkitallowfullscreen mozallowfullscreen></iframe></div></div>"
      ],
      "text/plain": [
       "<folium.folium.Map at 0x1f178b008c8>"
      ]
     },
     "execution_count": 43,
     "metadata": {},
     "output_type": "execute_result"
    }
   ],
   "source": [
    "# 1. Seleccionamos las fechas de interés:\n",
    "Start_date = '2012-12-17'  \n",
    "End_date   = '2021-02-11'  \n",
    "range_date = [Start_date, End_date]\n",
    "\n",
    "# 2. Filtrado de imágenes Sentinel-2\n",
    "img_s2 = ee.ImageCollection('COPERNICUS/S2_SR')\\\n",
    "        .filterDate(Start_date, End_date)\\\n",
    "        .filterBounds(ee.Geometry.Point(-76.13, -13.48))\\\n",
    "        .sort('CLOUDY_PIXEL_PERCENTAGE')\n",
    "\n",
    "img_s2_rgb = img_s2.first().multiply(0.0001) # .clip(roi_clip)\n",
    "\n",
    "# Fecha de toma\n",
    "ver_rangos(img_s2, range_date=range_date)\n",
    "\n",
    "# ID\n",
    "print()\n",
    "print('Mejor imagen:')\n",
    "print('Nubosidad: {a}%'.format(a = img_s2.first().getInfo()['properties']['CLOUDY_PIXEL_PERCENTAGE']))\n",
    "print('Image ID : {ID}'.format(ID = img_s2.first().getInfo().get('id')))\n",
    "print('Fecha    : {Fecha}'.format(Fecha = conv_fecha(img_s2.first())))\n",
    "\n",
    "# Visualizacion: Mapdisplay\n",
    "bands = ['B4','B3','B2']\n",
    "dict_img_s2 = {'img_s2': img_s2_rgb.getMapId({'min':0.0, 'max':0.3, 'bands': bands})}\n",
    "mapdisplay(centroide, dict_img_s2, zoom_start=12)"
   ]
  },
  {
   "cell_type": "markdown",
   "id": "charged-egyptian",
   "metadata": {},
   "source": [
    "### Conclusiones\n",
    "\n",
    "Earth Engine es un mundo ya que posee más de 800 funciones (según su artículo científico [aquí](https://www.sciencedirect.com/science/article/pii/S0034425717302900)) pero brinda un poder computacional enorme para trabajar las imágenes."
   ]
  }
 ],
 "metadata": {
  "kernelspec": {
   "display_name": "Python 3",
   "language": "python",
   "name": "python3"
  },
  "language_info": {
   "codemirror_mode": {
    "name": "ipython",
    "version": 3
   },
   "file_extension": ".py",
   "mimetype": "text/x-python",
   "name": "python",
   "nbconvert_exporter": "python",
   "pygments_lexer": "ipython3",
   "version": "3.7.8"
  }
 },
 "nbformat": 4,
 "nbformat_minor": 5
}
