{
 "cells": [
  {
   "cell_type": "markdown",
   "metadata": {},
   "source": [
    "# Statistical Thinking in Python (Part 2)"
   ]
  },
  {
   "cell_type": "markdown",
   "metadata": {},
   "source": [
    "Using PDF and CDF is better than histograms because there doesn't exist the binning bias (how many bins do I need to plot a good histogram?)."
   ]
  },
  {
   "cell_type": "markdown",
   "metadata": {
    "heading_collapsed": true
   },
   "source": [
    "## Parameter estimation by optimization"
   ]
  },
  {
   "cell_type": "markdown",
   "metadata": {
    "heading_collapsed": true,
    "hidden": true
   },
   "source": [
    "### Optimal Parameters"
   ]
  },
  {
   "cell_type": "markdown",
   "metadata": {
    "hidden": true
   },
   "source": [
    "Histogram of Michelson's measurements\n",
    "<img src='figures/01.04-normal-comparison.PNG' width=\"400\">\n",
    "CDF of Michelsons's measurements\n",
    "<img src='figures/02.01-cdf-michelsons.PNG' width=\"400\">\n",
    "CDF with bad estimate of st.dev.\n",
    "<img src='figures/02.01-badcdf-michelsons.PNG' width=\"400\">\n",
    "CDF with bad estimate of mean\n",
    "<img src='figures/02.01-badcdfmean-michelsons.PNG' width=\"400\">\n",
    "\n",
    "- Parameter values that bring the model in closest agreement with the data\n",
    "\n",
    "Mass of MA large mouth bass\n",
    "<img src='figures/02.01-bettercdf-michelsons.PNG' width=\"400\">\n",
    "Packages to do statistical inference\n",
    "<img src='figures/02.01-statspackages.PNG' width=\"300\">"
   ]
  },
  {
   "cell_type": "markdown",
   "metadata": {
    "hidden": true
   },
   "source": [
    "#### Practice"
   ]
  },
  {
   "cell_type": "markdown",
   "metadata": {
    "hidden": true
   },
   "source": [
    "**How often do we get no-hitters?**\n",
    "\n",
    "The number of games played between each no-hitter in the modern era (1901-2015) of Major League Baseball is stored in the array nohitter_times.\n",
    "\n",
    "If you assume that no-hitters are described as a Poisson process, then the time between no-hitters is Exponentially distributed. As you have seen, the Exponential distribution has a single parameter, which we will call , the typical interval time. The value of the parameter  that makes the exponential distribution best match the data is the mean interval time (where time is in units of number of games) between no-hitters.\n",
    "\n",
    "Compute the value of this parameter from the data. Then, use np.random.exponential() to \"repeat\" the history of Major League Baseball by drawing inter-no-hitter times from an exponential distribution with the  you found and plot the histogram as an approximation to the PDF.\n",
    "\n",
    "NumPy, pandas, matlotlib.pyplot, and seaborn have been imported for you as np, pd, plt, and sns, respectively.\n",
    "\n",
    "Instructions\n",
    "- Seed the random number generator with 42.\n",
    "- Compute the mean time (in units of number of games) between no-hitters.\n",
    "- Draw 100,000 samples from an Exponential distribution with the parameter you computed from the mean of the inter-no-hitter times.\n",
    "- Plot the theoretical PDF using plt.hist(). Remember to use keyword arguments bins=50, normed=True, and histtype='step'. Be sure to label your axes.\n",
    "- Show your plot.\n",
    "\n",
    "Hint\n",
    "-You can use NumPy's random.seed() function to seed the random number generator with 42.\n",
    "- To compute the mean time, use Numpy's mean function (np.mean()), passing in the array nohitter_times as an argument.\n",
    "- Use np.random.exponential() to draw samples from an Exponential distribution. The first argument to the function should be the parameter tau you calculated above, while the second argument should be the desired sample size.\n",
    "- Use plt.hist() with the keyword arguments mentioned in the instructions. Be sure to watch for typos!\n",
    "- To display your plot, use plt.show()."
   ]
  },
  {
   "cell_type": "code",
   "execution_count": 1,
   "metadata": {
    "hidden": true
   },
   "outputs": [],
   "source": [
    "import matplotlib.pyplot as plt\n",
    "import numpy as np"
   ]
  },
  {
   "cell_type": "code",
   "execution_count": 2,
   "metadata": {
    "hidden": true
   },
   "outputs": [],
   "source": [
    "nohitter_times = np.array([ 843, 1613, 1101,  215,  684,  814,  278,  324,  161,  219,  545,\n",
    "        715,  966,  624,   29,  450,  107,   20,   91, 1325,  124, 1468,\n",
    "        104, 1309,  429,   62, 1878, 1104,  123,  251,   93,  188,  983,\n",
    "        166,   96,  702,   23,  524,   26,  299,   59,   39,   12,    2,\n",
    "        308, 1114,  813,  887,  645, 2088,   42, 2090,   11,  886, 1665,\n",
    "       1084, 2900, 2432,  750, 4021, 1070, 1765, 1322,   26,  548, 1525,\n",
    "         77, 2181, 2752,  127, 2147,  211,   41, 1575,  151,  479,  697,\n",
    "        557, 2267,  542,  392,   73,  603,  233,  255,  528,  397, 1529,\n",
    "       1023, 1194,  462,  583,   37,  943,  996,  480, 1497,  717,  224,\n",
    "        219, 1531,  498,   44,  288,  267,  600,   52,  269, 1086,  386,\n",
    "        176, 2199,  216,   54,  675, 1243,  463,  650,  171,  327,  110,\n",
    "        774,  509,    8,  197,  136,   12, 1124,   64,  380,  811,  232,\n",
    "        192,  731,  715,  226,  605,  539, 1491,  323,  240,  179,  702,\n",
    "        156,   82, 1397,  354,  778,  603, 1001,  385,  986,  203,  149,\n",
    "        576,  445,  180, 1403,  252,  675, 1351, 2983, 1568,   45,  899,\n",
    "       3260, 1025,   31,  100, 2055, 4043,   79,  238, 3931, 2351,  595,\n",
    "        110,  215,    0,  563,  206,  660,  242,  577,  179,  157,  192,\n",
    "        192, 1848,  792, 1693,   55,  388,  225, 1134, 1172, 1555,   31,\n",
    "       1582, 1044,  378, 1687, 2915,  280,  765, 2819,  511, 1521,  745,\n",
    "       2491,  580, 2072, 6450,  578,  745, 1075, 1103, 1549, 1520,  138,\n",
    "       1202,  296,  277,  351,  391,  950,  459,   62, 1056, 1128,  139,\n",
    "        420,   87,   71,  814,  603, 1349,  162, 1027,  783,  326,  101,\n",
    "        876,  381,  905,  156,  419,  239,  119,  129,  467])"
   ]
  },
  {
   "cell_type": "code",
   "execution_count": 4,
   "metadata": {
    "hidden": true
   },
   "outputs": [
    {
     "data": {
      "image/png": "[encoded data removed]",
      "text/plain": [
       "<Figure size 432x288 with 1 Axes>"
      ]
     },
     "metadata": {
      "needs_background": "light"
     },
     "output_type": "display_data"
    }
   ],
   "source": [
    "# Seed random number generator\n",
    "np.random.seed(42)\n",
    "\n",
    "# Compute mean no-hitter time: tau\n",
    "tau = np.mean(nohitter_times)\n",
    "\n",
    "# Draw out of an exponential distribution with parameter tau: inter_nohitter_time\n",
    "inter_nohitter_time = np.random.exponential(tau, 100000)\n",
    "\n",
    "# Plot the PDF and label axes\n",
    "plt.hist(inter_nohitter_time, bins=50, density=True, histtype='step')\n",
    "plt.xlabel('Games between no-hitters')\n",
    "plt.ylabel('PDF')\n",
    "\n",
    "# Show the plot\n",
    "plt.show()"
   ]
  },
  {
   "cell_type": "markdown",
   "metadata": {
    "hidden": true
   },
   "source": [
    "Nice work! We see the typical shape of the Exponential distribution, going from a maximum at 0 and decaying to the right."
   ]
  },
  {
   "cell_type": "markdown",
   "metadata": {
    "hidden": true
   },
   "source": [
    "**Do the data follow our story?**\n",
    "\n",
    "You have modeled no-hitters using an Exponential distribution. Create an ECDF of the real data. Overlay the theoretical CDF with the ECDF from the data. This helps you to verify that the Exponential distribution describes the observed data.\n",
    "\n",
    "It may be helpful to remind yourself of the function you created in the previous course to compute the ECDF, as well as the code you wrote to plot it.\n",
    "\n",
    "Instructions\n",
    "\n",
    "- Compute an ECDF from the actual time between no-hitters (nohitter_times). Use the ecdf() function you wrote in the prequel course.\n",
    "- Create a CDF from the theoretical samples you took in the last exercise (inter_nohitter_time).\n",
    "- Plot x_theor and y_theor as a line using plt.plot(). Then overlay the ECDF of the real data x and y as points. To do this, you have to specify the keyword arguments marker = '.' and linestyle = 'none' in addition to x and y inside plt.plot().\n",
    "- Set a 2% margin on the plot.\n",
    "- Show the plot.\n",
    "\n",
    "\n",
    "Hint\n",
    "- To compute the ECDF of nohitter_times, pass it as an argument to the ecdf() function.\n",
    "- To create the CDF from the theoretical samples, use the ecdf() function once again, passing in the array of the samples you took in the previous exercise (inter_nohitter_time).\n",
    "- To plot the CDF as a line, pass in x_theor and y_theor as arguments to plt.plot(). To overlay the real data as points, use plt.plot() with the arguments x, y, marker = '.' and linestyle = 'none'.\n",
    "- You can set margins by passing in the desired margin as an argument to plt.margins().\n",
    "- To display the plot, use plt.show()."
   ]
  },
  {
   "cell_type": "code",
   "execution_count": 5,
   "metadata": {
    "hidden": true
   },
   "outputs": [
    {
     "data": {
      "image/png": "[encoded data removed]",
      "text/plain": [
       "<Figure size 432x288 with 1 Axes>"
      ]
     },
     "metadata": {
      "needs_background": "light"
     },
     "output_type": "display_data"
    }
   ],
   "source": [
    "def ecdf(data):\n",
    "    \"\"\"Compute ECDF for a one-dimensional array of measurements.\"\"\"\n",
    "    # Number of data points: n\n",
    "    n = len(data)\n",
    "\n",
    "    # x-data for the ECDF: x\n",
    "    x = np.sort(data)\n",
    "\n",
    "    # y-data for the ECDF: y\n",
    "    y = np.arange(1, n+1) / n\n",
    "\n",
    "    return x, y\n",
    "\n",
    "# Create an ECDF from real data: x, y\n",
    "x, y = ecdf(nohitter_times)\n",
    "\n",
    "# Create a CDF from theoretical samples: x_theor, y_theor\n",
    "x_theor, y_theor = ecdf(inter_nohitter_time)\n",
    "\n",
    "# Overlay the plots\n",
    "plt.plot(x_theor, y_theor)\n",
    "plt.plot(x, y, marker='.', linestyle='none')\n",
    "\n",
    "# Margins and axis labels\n",
    "plt.margins(0.02)\n",
    "plt.xlabel('Games between no-hitters')\n",
    "plt.ylabel('CDF')\n",
    "\n",
    "# Show the plot\n",
    "plt.show()"
   ]
  },
  {
   "cell_type": "markdown",
   "metadata": {
    "hidden": true
   },
   "source": [
    "It looks like no-hitters in the modern era of Major League Baseball are Exponentially distributed. Based on the story of the Exponential distribution, this suggests that they are a random process; when a no-hitter will happen is independent of when the last no-hitter was."
   ]
  },
  {
   "cell_type": "markdown",
   "metadata": {
    "hidden": true
   },
   "source": [
    "**How is this parameter optimal?**\n",
    "\n",
    "Now sample out of an exponential distribution with  being twice as large as the optimal . Do it again for  half as large. Make CDFs of these samples and overlay them with your data. You can see that they do not reproduce the data as well. Thus, the  you computed from the mean inter-no-hitter times is optimal in that it best reproduces the data.\n",
    "\n",
    "Note: In this and all subsequent exercises, the random number generator is pre-seeded for you to save you some typing.\n",
    "\n",
    "Instructions\n",
    "- Take 10000 samples out of an Exponential distribution with parameter  = tau/2.\n",
    "- Take 10000 samples out of an Exponential distribution with parameter  = 2*tau.\n",
    "- Generate CDFs from these two sets of samples using your ecdf() function.\n",
    "- Add these two CDFs as lines to your plot. This has been done for you, so hit 'Submit Answer' to view the plot!\n",
    "\n",
    "Hint\n",
    "- You can use the function np.random.exponential() to draw samples from an Exponential distribution. The first argument should be the parameter (either tau/2 or 2*tau), while the second argument should be the sample size (10000 in both cases).\n",
    "- To generate CDFs from the samples you drew, use the ecdf() function. Remember to unpack it appropriately. For example, to unpack it into x and y, you would use the command x, y = ecdf(data)."
   ]
  },
  {
   "cell_type": "code",
   "execution_count": 6,
   "metadata": {
    "hidden": true
   },
   "outputs": [
    {
     "data": {
      "image/png": "[encoded data removed]",
      "text/plain": [
       "<Figure size 432x288 with 1 Axes>"
      ]
     },
     "metadata": {
      "needs_background": "light"
     },
     "output_type": "display_data"
    }
   ],
   "source": [
    "# Plot the theoretical CDFs\n",
    "plt.plot(x_theor, y_theor)\n",
    "plt.plot(x, y, marker='.', linestyle='none')\n",
    "plt.margins(0.02)\n",
    "plt.xlabel('Games between no-hitters')\n",
    "plt.ylabel('CDF')\n",
    "\n",
    "# Take samples with half tau: samples_half\n",
    "samples_half = np.random.exponential(tau/2, 10000)\n",
    "\n",
    "# Take samples with double tau: samples_double\n",
    "samples_double = np.random.exponential(2*tau, 10000)\n",
    "\n",
    "# Generate CDFs from these samples\n",
    "x_half, y_half = ecdf(samples_half)\n",
    "x_double, y_double = ecdf(samples_double)\n",
    "\n",
    "# Plot these CDFs as lines\n",
    "_ = plt.plot(x_half, y_half)\n",
    "_ = plt.plot(x_double, y_double)\n",
    "\n",
    "# Show the plot\n",
    "plt.show()"
   ]
  },
  {
   "cell_type": "markdown",
   "metadata": {
    "hidden": true
   },
   "source": [
    "Great work! Notice how the value of tau given by the mean matches the data best. In this way, tau is an optimal parameter."
   ]
  },
  {
   "cell_type": "markdown",
   "metadata": {
    "heading_collapsed": true,
    "hidden": true
   },
   "source": [
    "### Linear Regression by least squares"
   ]
  },
  {
   "cell_type": "markdown",
   "metadata": {
    "hidden": true
   },
   "source": [
    "Linear regression: 2008 US swing state election results\n",
    "<img src='figures/02.01-linearreg.PNG' width=\"400\">\n",
    "\n",
    "Residuals\n",
    "<img src='figures/02.01-linearreg-res.PNG' width=\"400\">\n",
    "\n",
    "**Least squares**\n",
    "- The process of finding the parameters for which the sum of the squares of the residuals is minimal"
   ]
  },
  {
   "cell_type": "code",
   "execution_count": null,
   "metadata": {
    "hidden": true
   },
   "outputs": [],
   "source": [
    "# Least squares with np.polyfit()\n",
    "\n",
    "slope, intercept = np.polyfit(total_votes,dem_share, 1)\n",
    "# slope\n",
    "4.0370717009465555e-05\n",
    "# intercept\n",
    "40.113911968641744"
   ]
  },
  {
   "cell_type": "markdown",
   "metadata": {
    "hidden": true
   },
   "source": [
    "#### Practice"
   ]
  },
  {
   "cell_type": "markdown",
   "metadata": {
    "hidden": true
   },
   "source": [
    "**EDA of literacy/fertility data**\n",
    "\n",
    "In the next few exercises, we will look at the correlation between female literacy and fertility (defined as the average number of children born per woman) throughout the world. For ease of analysis and interpretation, we will work with the illiteracy rate.\n",
    "\n",
    "It is always a good idea to do some EDA ahead of our analysis. To this end, plot the fertility versus illiteracy and compute the Pearson correlation coefficient. The Numpy array illiteracy has the illiteracy rate among females for most of the world's nations. The array fertility has the corresponding fertility data.\n",
    "\n",
    "Here, it may be useful to refer back to the function you wrote in the previous course to compute the Pearson correlation coefficient.\n",
    "\n",
    "Instructions\n",
    "- Plot fertility (y-axis) versus illiteracy (x-axis) as a scatter plot.\n",
    "- Set a 2% margin.\n",
    "- Compute and print the Pearson correlation coefficient between illiteracy and fertility.\n",
    "\n",
    "Hint\n",
    "- A scatter plot can be built using plt.plot(). The first two arguments should be, in order, the x-axis (illiteracy) and y-axis (fertility). The next to arguments specify the marker and linestyle.\n",
    "- You can set the desired margin using plt.margin().\n",
    "- You can use plt.xlabel('X-axis label') and plt.ylabel('Y-axis label') to label your axes.\n",
    "- Remind yourself of the pearson_r() function you wrote in the previous course to compute the Pearson correlation coefficient."
   ]
  },
  {
   "cell_type": "code",
   "execution_count": 9,
   "metadata": {
    "hidden": true
   },
   "outputs": [
    {
     "data": {
      "image/png": "[encoded data removed]",
      "text/plain": [
       "<Figure size 432x288 with 1 Axes>"
      ]
     },
     "metadata": {
      "needs_background": "light"
     },
     "output_type": "display_data"
    },
    {
     "name": "stdout",
     "output_type": "stream",
     "text": [
      "0.8041324026815341\n"
     ]
    }
   ],
   "source": [
    "illiteracy = np.array([\n",
    "    9.5, 49.2, 1., 11.2, 9.8, 60., 50.2, 51.2, 0.6, 1., 8.5, 6.1, 9.8, 1.,\n",
    "    42.2, 77.2, 18.7, 22.8, 8.5, 43.9, 1., 1., 1.5, 10.8, 11.9, 3.4, 0.4, 3.1,\n",
    "    6.6, 33.7, 40.4, 2.3, 17.2, 0.7, 36.1, 1., 33.2, 55.9, 30.8, 87.4, 15.4,\n",
    "    54.6, 5.1, 1.1, 10.2, 19.8, 0., 40.7, 57.2, 59.9, 3.1, 55.7, 22.8, 10.9,\n",
    "    34.7, 32.2, 43., 1.3, 1., 0.5, 78.4, 34.2, 84.9, 29.1, 31.3, 18.3, 81.8,\n",
    "    39., 11.2, 67., 4.1, 0.2, 78.1, 1., 7.1, 1., 29., 1.1, 11.7, 73.6, 33.9,\n",
    "    14., 0.3, 1., 0.8, 71.9, 40.1, 1., 2.1, 3.8, 16.5, 4.1, 0.5, 44.4, 46.3,\n",
    "    18.7, 6.5, 36.8, 18.6, 11.1, 22.1, 71.1, 1., 0., 0.9, 0.7, 45.5, 8.4, 0.,\n",
    "    3.8, 8.5, 2., 1., 58.9, 0.3, 1., 14., 47., 4.1, 2.2, 7.2, 0.3, 1.5, 50.5,\n",
    "    1.3, 0.6, 19.1, 6.9, 9.2, 2.2, 0.2, 12.3, 4.9, 4.6, 0.3, 16.5, 65.7, 63.5,\n",
    "    16.8, 0.2, 1.8, 9.6, 15.2, 14.4, 3.3, 10.6, 61.3, 10.9, 32.2, 9.3, 11.6,\n",
    "    20.7, 6.5, 6.7, 3.5, 1., 1.6, 20.5, 1.5, 16.7, 2., 0.9\n",
    "])\n",
    "\n",
    "fertility = np.array([\n",
    "    1.769, 2.682, 2.077, 2.132, 1.827, 3.872, 2.288, 5.173, 1.393, 1.262,\n",
    "    2.156, 3.026, 2.033, 1.324, 2.816, 5.211, 2.1, 1.781, 1.822, 5.908, 1.881,\n",
    "    1.852, 1.39, 2.281, 2.505, 1.224, 1.361, 1.468, 2.404, 5.52, 4.058, 2.223,\n",
    "    4.859, 1.267, 2.342, 1.579, 6.254, 2.334, 3.961, 6.505, 2.53, 2.823, 2.498,\n",
    "    2.248, 2.508, 3.04, 1.854, 4.22, 5.1, 4.967, 1.325, 4.514, 3.173, 2.308,\n",
    "    4.62, 4.541, 5.637, 1.926, 1.747, 2.294, 5.841, 5.455, 7.069, 2.859, 4.018,\n",
    "    2.513, 5.405, 5.737, 3.363, 4.89, 1.385, 1.505, 6.081, 1.784, 1.378, 1.45,\n",
    "    1.841, 1.37, 2.612, 5.329, 5.33, 3.371, 1.281, 1.871, 2.153, 5.378, 4.45,\n",
    "    1.46, 1.436, 1.612, 3.19, 2.752, 3.35, 4.01, 4.166, 2.642, 2.977, 3.415,\n",
    "    2.295, 3.019, 2.683, 5.165, 1.849, 1.836, 2.518, 2.43, 4.528, 1.263, 1.885,\n",
    "    1.943, 1.899, 1.442, 1.953, 4.697, 1.582, 2.025, 1.841, 5.011, 1.212,\n",
    "    1.502, 2.516, 1.367, 2.089, 4.388, 1.854, 1.748, 2.978, 2.152, 2.362,\n",
    "    1.988, 1.426, 3.29, 3.264, 1.436, 1.393, 2.822, 4.969, 5.659, 3.24, 1.693,\n",
    "    1.647, 2.36, 1.792, 3.45, 1.516, 2.233, 2.563, 5.283, 3.885, 0.966, 2.373,\n",
    "    2.663, 1.251, 2.052, 3.371, 2.093, 2., 3.883, 3.852, 3.718, 1.732, 3.928\n",
    "])\n",
    "\n",
    "# --------\n",
    "def pearson_r(x, y):\n",
    "    \"\"\"Compute Pearson correlation coefficient between two arrays.\"\"\"\n",
    "    # Compute correlation matrix: corr_mat\n",
    "    corr_mat = np.corrcoef(x, y)\n",
    "\n",
    "    # Return entry [0,1]\n",
    "    return corr_mat[0,1]\n",
    "# ----------\n",
    "\n",
    "# Plot the illiteracy rate versus fertility\n",
    "_ = plt.plot(illiteracy, fertility, marker='.', linestyle='none')\n",
    "\n",
    "# Set the margins and label axes\n",
    "plt.margins(0.02)\n",
    "_ = plt.xlabel('percent illiterate')\n",
    "_ = plt.ylabel('fertility')\n",
    "\n",
    "# Show the plot\n",
    "plt.show()\n",
    "\n",
    "# Show the Pearson correlation coefficient\n",
    "print(pearson_r(illiteracy, fertility))"
   ]
  },
  {
   "cell_type": "markdown",
   "metadata": {
    "hidden": true
   },
   "source": [
    "You can see the correlation between illiteracy and fertility by eye, and by the substantial Pearson correlation coefficient of 0.8. It is difficult to resolve in the scatter plot, but there are many points around near-zero illiteracy and about 1.8 children/woman."
   ]
  },
  {
   "cell_type": "markdown",
   "metadata": {
    "hidden": true
   },
   "source": [
    "**Linear regression**\n",
    "\n",
    "We will assume that fertility is a linear function of the female illiteracy rate. That is, , where  is the slope and  is the intercept. We can think of the intercept as the minimal fertility rate, probably somewhere between one and two. The slope tells us how the fertility rate varies with illiteracy. We can find the best fit line using np.polyfit().\n",
    "\n",
    "Plot the data and the best fit line. Print out the slope and intercept. (Think: what are their units?)\n",
    "\n",
    "Instructions\n",
    "- Compute the slope and intercept of the regression line using np.polyfit(). Remember, fertility is on the y-axis and illiteracy on the x-axis.\n",
    "- Print out the slope and intercept from the linear regression.\n",
    "- To plot the best fit line, create an array x that consists of 0 and 100 using np.array(). Then, compute the theoretical values of y based on your regression parameters. I.e., y = a * x + b.\n",
    "- Plot the data and the regression line on the same plot. Be sure to label your axes.\n",
    "- Hit 'Submit Answer' to display your plot.\n",
    "\n",
    "Hint\n",
    "- Remember to include 1 as an argument to np.polyfit() in addition to illiteracy and fertility. This is because our linear functions are polynomials of degree 1.\n",
    "- The code to print out the slope and intercept has already been provided for you; there is no need to change this.\n",
    "- To create an array of 1 and 50, you can use np.array([1, 50]). Here, you want x values of 0 and 100, so use np.array() appropriately and be sure to assign the values to x. Then, you can compute y as described in the instructions.\n",
    "- Pass in x and y as arguments to plt.plot() to plot the data."
   ]
  },
  {
   "cell_type": "code",
   "execution_count": 10,
   "metadata": {
    "hidden": true
   },
   "outputs": [
    {
     "name": "stdout",
     "output_type": "stream",
     "text": [
      "slope = 0.04979854809063423 children per woman / percent illiterate\n",
      "intercept = 1.888050610636557 children per woman\n"
     ]
    },
    {
     "data": {
      "image/png": "[encoded data removed]",
      "text/plain": [
       "<Figure size 432x288 with 1 Axes>"
      ]
     },
     "metadata": {
      "needs_background": "light"
     },
     "output_type": "display_data"
    }
   ],
   "source": [
    "# Plot the illiteracy rate versus fertility\n",
    "_ = plt.plot(illiteracy, fertility, marker='.', linestyle='none')\n",
    "plt.margins(0.02)\n",
    "_ = plt.xlabel('percent illiterate')\n",
    "_ = plt.ylabel('fertility')\n",
    "\n",
    "# Perform a linear regression using np.polyfit(): a, b\n",
    "a, b = np.polyfit(illiteracy, fertility, 1)\n",
    "\n",
    "# Print the results to the screen\n",
    "print('slope =', a, 'children per woman / percent illiterate')\n",
    "print('intercept =', b, 'children per woman')\n",
    "\n",
    "# Make theoretical line to plot\n",
    "x = np.array([0, 100])\n",
    "y = a * x + b\n",
    "\n",
    "# Add regression line to your plot\n",
    "_ = plt.plot(x, y)\n",
    "\n",
    "# Draw the plot\n",
    "plt.show()"
   ]
  },
  {
   "cell_type": "markdown",
   "metadata": {
    "hidden": true
   },
   "source": [
    "**How is it optimal?**\n",
    "\n",
    "The function np.polyfit() that you used to get your regression parameters finds the optimal slope and intercept. It is optimizing the sum of the squares of the residuals, also known as RSS (for residual sum of squares). In this exercise, you will plot the function that is being optimized, the RSS, versus the slope parameter a. To do this, fix the intercept to be what you found in the optimization. Then, plot the RSS vs. the slope. Where is it minimal?\n",
    "\n",
    "Instructions\n",
    "- Specify the values of the slope to compute the RSS. Use np.linspace() to get 200 points in the range between 0 and 0.1. For example, to get 100 points in the range between 0 and 0.5, you could use np.linspace() like so: np.linspace(0, 0.5, 100).\n",
    "- Initialize an array, rss, to contain the RSS using np.empty_like() and the array you created above. The empty_like() function returns a new array with the same shape and type as a given array (in this case, a_vals).\n",
    "- Write a for loop to compute the sum of RSS of the slope. Hint: the RSS is given by np.sum((y_data - a * x_data - b)**2). - The variable b you computed in the last exercise is already in your namespace. Here, fertility is the y_data and illiteracy the x_data.\n",
    "- Plot the RSS (rss) versus slope (a_vals).\n",
    "- Hit 'Submit Answer' to see the plot!\n",
    "\n",
    "Hint\n",
    "- You need 200 evenly spaced points between 0 and 0.1. To achieve this, use np.linspace() with the arguments 0, 0.1, and 200.\n",
    "- As described in the instructions, you can use np.empty_like() to initialize the array. Remember to pass in the array you computed above as an argument to np.empty_like().\n",
    "- Think about what our y_data and x_data here is. Refer to the plots from the previous exercises. On what axis was illiteracy? What about fertility? Once you identify the y_data and x_data, use np.sum() in the format specified in the instructions.\n",
    "- When we say 'RSS versus slope', RSS is the y-axis, and slope is the x-axis. Use plt.plot() to create your plot appropriately."
   ]
  },
  {
   "cell_type": "code",
   "execution_count": 11,
   "metadata": {
    "hidden": true,
    "scrolled": true
   },
   "outputs": [
    {
     "data": {
      "image/png": "[encoded data removed]",
      "text/plain": [
       "<Figure size 432x288 with 1 Axes>"
      ]
     },
     "metadata": {
      "needs_background": "light"
     },
     "output_type": "display_data"
    }
   ],
   "source": [
    "# Specify slopes to consider: a_vals\n",
    "a_vals = np.linspace(0, 0.1, 200)\n",
    "\n",
    "# Initialize sum of square of residuals: rss\n",
    "rss = np.empty_like(a_vals)\n",
    "\n",
    "# Compute sum of square of residuals for each value of a_vals\n",
    "for i, a in enumerate(a_vals):\n",
    "    rss[i] = np.sum((fertility - a*illiteracy - b)**2)\n",
    "\n",
    "# Plot the RSS\n",
    "plt.plot(a_vals, rss, '-')\n",
    "plt.xlabel('slope (children per woman / percent illiterate)')\n",
    "plt.ylabel('sum of square of residuals')\n",
    "\n",
    "plt.show()"
   ]
  },
  {
   "cell_type": "markdown",
   "metadata": {
    "hidden": true
   },
   "source": [
    "Great work! Notice that the minimum on the plot, that is the value of the slope that gives the minimum sum of the square of the residuals, is the same value you got when performing the regression."
   ]
  },
  {
   "cell_type": "markdown",
   "metadata": {
    "heading_collapsed": true,
    "hidden": true
   },
   "source": [
    "### The importance of EDA: Anscombe's quartet"
   ]
  },
  {
   "cell_type": "markdown",
   "metadata": {
    "hidden": true
   },
   "source": [
    "**Theory**\n",
    "Anscombe's quartet\n",
    "<img src='figures/02.01-anscombe.PNG' width=\"400\">\n",
    "Anscombe's quartet: X mean\n",
    "<img src='figures/02.01-anscombe-x-mean.PNG' width=\"400\">\n",
    "Anscombe's quartet: Y mean\n",
    "<img src='figures/02.01-anscombe-y-mean.PNG' width=\"400\">\n",
    "Anscombe's quartet: Linear regression \n",
    "<img src='figures/02.01-anscombe-linearreg.PNG' width=\"400\">\n",
    "\n",
    "**Look before you leap!**\n",
    "- Do graphical EDA first!"
   ]
  },
  {
   "cell_type": "markdown",
   "metadata": {
    "hidden": true
   },
   "source": [
    "**The importance of EDA**\n",
    "\n",
    "Why should exploratory data analysis be the first step in an analysis of data (after getting your data imported and cleaned, of course)?\n",
    "\n",
    "Answer the question\n",
    "\n",
    "- You can be protected from misinterpretation of the type demonstrated by Anscombe's quartet.\n",
    "- EDA provides a good starting point for planning the rest of your analysis.\n",
    "- EDA is not really any more difficult than any of the subsequent analysis, so there is no excuse for not exploring the data.\n",
    "- **All of these reasons!**\n",
    "\n",
    "Yes! Always do EDA as you jump into a data set."
   ]
  },
  {
   "cell_type": "markdown",
   "metadata": {
    "hidden": true
   },
   "source": [
    "**Linear regression on appropriate Anscombe data**\n",
    "\n",
    "For practice, perform a linear regression on the data set from Anscombe's quartet that is most reasonably interpreted with linear regression.\n",
    "\n",
    "Instructions\n",
    "- Compute the parameters for the slope and intercept using np.polyfit(). The Anscombe data are stored in the arrays x and y.\n",
    "- Print the slope a and intercept b.\n",
    "- Generate theoretical  and  data from the linear regression. Your  array, which you can create with np.array(), should consist of 3 and 15. To generate the  data, multiply the slope by x_theor and add the intercept.\n",
    "- Plot the Anscombe data as a scatter plot and then plot the theoretical line. Remember to include the marker='.' and linestyle='none' keyword arguments in addition to x and y when to plot the Anscombe data as a scatter plot. You do not need these arguments when plotting the theoretical line.\n",
    "- Hit 'Submit Answer' to see the plot!\n",
    "\n",
    "Hint\n",
    "- As you did several exercises earlier, use np.polyfit() to compute the parameters for the slope and intercept.\n",
    "- To print the slope a and intercept b, pass them as arguments to print().\n",
    "- Remember from a previous exercise where you created an array x consisting of 0 and 100, using np.array([0, 100])? Do the same, this time with different values. Use the same equation as before - a * x + b - to generate the theoretical  data.\n",
    "- To create the scatter plot, you need to use plt.plot() with x and y along with the marker='.' and linestyle='none' keyword arguments. For the theoretical line, you need to use x_theor and y_theor."
   ]
  },
  {
   "cell_type": "code",
   "execution_count": 14,
   "metadata": {
    "ExecuteTime": {
     "end_time": "2021-03-09T20:25:22.903786Z",
     "start_time": "2021-03-09T20:25:22.635051Z"
    },
    "hidden": true
   },
   "outputs": [
    {
     "name": "stdout",
     "output_type": "stream",
     "text": [
      "0.5000909090909095 3.0000909090909076\n"
     ]
    },
    {
     "data": {
      "image/png": "[encoded data removed]",
      "text/plain": [
       "<Figure size 432x288 with 1 Axes>"
      ]
     },
     "metadata": {
      "needs_background": "light"
     },
     "output_type": "display_data"
    }
   ],
   "source": [
    "x = np.array([10., 8., 13., 9., 11., 14., 6., 4., 12., 7., 5.])\n",
    "y = np.array(\n",
    "    [8.04, 6.95, 7.58, 8.81, 8.33, 9.96, 7.24, 4.26, 10.84, 4.82, 5.68])\n",
    "\n",
    "# Perform linear regression: a, b\n",
    "a, b = np.polyfit(x, y, 1)\n",
    "\n",
    "# Print the slope and intercept\n",
    "print(a, b)\n",
    "\n",
    "# Generate theoretical x and y data: x_theor, y_theor\n",
    "x_theor = np.array([3, 15])\n",
    "y_theor = a * x_theor + b\n",
    "\n",
    "# Plot the Anscombe data and theoretical line\n",
    "_ = plt.plot(x, y, marker='.', linestyle='none')\n",
    "_ = plt.plot(x_theor, y_theor)\n",
    "\n",
    "# Label the axes\n",
    "plt.xlabel('x')\n",
    "plt.ylabel('y')\n",
    "\n",
    "# Show the plot\n",
    "plt.show()"
   ]
  },
  {
   "cell_type": "markdown",
   "metadata": {
    "hidden": true
   },
   "source": [
    "**Linear regression on all Anscombe data**\n",
    "\n",
    "Now, to verify that all four of the Anscombe data sets have the same slope and intercept from a linear regression, you will compute the slope and intercept for each set. The data are stored in lists; anscombe_x = [x1, x2, x3, x4] and anscombe_y = [y1, y2, y3, y4], where, for example, x2 and y2 are the  and  values for the second Anscombe data set.\n",
    "\n",
    "Instructions\n",
    "- Write a for loop to do the following for each Anscombe data set.\n",
    "- Compute the slope and intercept.\n",
    "- Print the slope and intercept.\n",
    "\n",
    "Hint\n",
    "- As you did several exercises earlier, use np.polyfit() to compute the parameters for the slope and intercept.\n",
    "- To print the slope and intercept, pass them as arguments to print()."
   ]
  },
  {
   "cell_type": "code",
   "execution_count": 25,
   "metadata": {
    "ExecuteTime": {
     "end_time": "2021-03-09T20:30:15.489971Z",
     "start_time": "2021-03-09T20:30:15.478999Z"
    },
    "hidden": true
   },
   "outputs": [
    {
     "name": "stdout",
     "output_type": "stream",
     "text": [
      "slope: 0.5000909090909095 intercept: 3.0000909090909076\n",
      "slope: 0.5000000000000004 intercept: 3.000909090909089\n",
      "slope: 0.4997272727272731 intercept: 3.0024545454545453\n",
      "slope: 0.49990909090909064 intercept: 3.0017272727272735\n"
     ]
    }
   ],
   "source": [
    "anscombe_x = np.array([(10., 8., 13., 9., 11., 14., 6., 4., 12., 7., 5.),\n",
    "                       (10., 8., 13., 9., 11., 14., 6., 4., 12., 7., 5.),\n",
    "                       (10., 8., 13., 9., 11., 14., 6., 4., 12., 7., 5.),\n",
    "                       (8., 8., 8., 8., 8., 8., 8., 19., 8., 8., 8.)])\n",
    "\n",
    "anscombe_y = np.array([\n",
    "    (8.04, 6.95, 7.58, 8.81, 8.33, 9.96, 7.24, 4.26, 10.84, 4.82, 5.68),\n",
    "    (9.14, 8.14, 8.74, 8.77, 9.26, 8.1, 6.13, 3.1, 9.13, 7.26, 4.74),\n",
    "    (7.46, 6.77, 12.74, 7.11, 7.81, 8.84, 6.08, 5.39, 8.15, 6.42, 5.73),\n",
    "    (6.58, 5.76, 7.71, 8.84, 8.47, 7.04, 5.25, 12.5, 5.56, 7.91, 6.89)\n",
    "])\n",
    "\n",
    "# Iterate through x,y pairs\n",
    "for x, y in zip(anscombe_x, anscombe_y):\n",
    "    # Compute the slope and intercept: a, b\n",
    "    a, b = np.polyfit(x, y, 1)\n",
    "\n",
    "    # Print the result\n",
    "    print('slope:', a, 'intercept:', b)"
   ]
  },
  {
   "cell_type": "markdown",
   "metadata": {
    "hidden": true
   },
   "source": [
    "Great work! Indeed, they all have the same slope and intercept."
   ]
  },
  {
   "cell_type": "markdown",
   "metadata": {},
   "source": [
    "## Bootstrap confidence intervals"
   ]
  },
  {
   "cell_type": "markdown",
   "metadata": {
    "ExecuteTime": {
     "end_time": "2021-03-09T20:32:52.083672Z",
     "start_time": "2021-03-09T20:32:52.079647Z"
    },
    "heading_collapsed": true
   },
   "source": [
    "### Generating bootstrap replicates"
   ]
  },
  {
   "cell_type": "markdown",
   "metadata": {
    "hidden": true
   },
   "source": [
    "**Resampling an array (with replacement)**\n",
    "\n",
    "```\n",
    "1.                                         2. \n",
    "Data:                                      Data:  \n",
    "    [23.3, 27.1, 24.3, 25.7, 26.0]             [23.3, 27.1, 24.3, 25.7, 26.0]\n",
    "                Mean = 25.2                                Mean = 25.2\n",
    "                \n",
    "Resampled data:                            Resampled data:\n",
    "    [    ,     ,     ,     ,     ]             [27.1,    ,      ,      ,    ]\n",
    "\n",
    "\n",
    "3.                                         Finally.\n",
    "Data:                                      Data: \n",
    "    [23.3, 27.1, 24.3, 25.7, 26.0]             [23.3, 27.1, 24.3, 25.7, 26.0]\n",
    "                Mean = 25.2                                Mean = 25.2\n",
    "                \n",
    "Resampled data:                            Resampled data:\n",
    "    [27.1, 26.0,     ,      ,    ]             [27.1, 26.0, 23.3, 25.7, 23.3]\n",
    "                                                           Mean =25.08\n",
    "```\n",
    "\n",
    "**Mean of resampled Michelson measurements**\n",
    "<img src='figures/02.02-meanresampled.PNG' width='400'>\n",
    "<!-- ![](figures/02.02-meanresampled.PNG) -->\n",
    "\n",
    "**Bootstrapping**\n",
    "- The use of resampled data to perform statistical inference\n",
    "\n",
    "**Bootstrap sample**\n",
    "- A resampled array of the data\n",
    "\n",
    "**Bootstrap replicate**\n",
    "- A statistic computed from a resampled array\n",
    "\n",
    "**Resampling engine: np.random.choice()**\n",
    "```\n",
    "import numpy as np\n",
    "np.random.choice([1,2,3,4,5], size=5)\n",
    "\n",
    "array[(5, 3, 5 , 5, 2])\n",
    "```\n",
    "\n",
    "**Computing a bootstrap replicate**\n",
    "```\n",
    "bs_sample = np.random.choice(michelson_speed_of_light, size=100)\n",
    "\n",
    "np.mean(bs_sample)\n",
    "299847.79999999999\n",
    "\n",
    "np.median(bs_sample)\n",
    "299845.0\n",
    "\n",
    "np.std(bs_sample)\n",
    "83.564286025729331\n",
    "```"
   ]
  },
  {
   "cell_type": "markdown",
   "metadata": {
    "hidden": true
   },
   "source": [
    "**Getting the terminology down**\n",
    "\n",
    "Getting tripped up over terminology is a common cause of frustration in students. Unfortunately, you often will read and hear other data scientists using different terminology for bootstrap samples and replicates. This is even more reason why we need everything to be clear and consistent for this course. So, before going forward discussing bootstrapping, let's get our terminology down. If we have a data set with $n$ repeated measurements, a **bootstrap sample** is an array of length $n$ that was drawn from the original data with replacement. What is a **bootstrap replicate**?\n",
    "\n",
    "Answer the question\n",
    "\n",
    "- Just another name for a bootstrap sample.\n",
    "- **A single value of a statistic computed from a bootstrap sample.**\n",
    "- An actual repeat of the measurements.\n",
    "\n",
    "Conceptually, you can think of a bootstrap sample (not a bootstrap replicate) as a virtual repeat of the measurements."
   ]
  },
  {
   "cell_type": "markdown",
   "metadata": {
    "hidden": true
   },
   "source": [
    "**Bootstrapping by hand**\n",
    "\n",
    "To help you gain intuition about how bootstrapping works, imagine you have a data set that has only three points, [-1, 0, 1]. How many unique bootstrap samples can be drawn (e.g., [-1, 0, 1] and [1, 0, -1] are unique), and what is the maximum mean you can get from a bootstrap sample? It might be useful to jot down the samples on a piece of paper.\n",
    "\n",
    "(These are too few data to get meaningful results from bootstrap procedures, but this example is useful for intuition.)\n",
    "\n",
    "Possible Answers\n",
    "- There are 3 unique samples, and the maximum mean is 0.\n",
    "- There are 10 unique samples, and the maximum mean is 0.\n",
    "- There are 10 unique samples, and the maximum mean is 1.\n",
    "- There are 27 unique samples, and the maximum mean is 0.\n",
    "- **There are 27 unique samples, and the maximum mean is 1.**\n",
    "\n",
    "Remember that [1, 1, 0] and [1, 0, 1] are unique samples.\n",
    "\n",
    "Correct! There are 27 total bootstrap samples, and one of them, [1,1,1] has a mean of 1. Conversely, 7 of them have a mean of zero."
   ]
  },
  {
   "cell_type": "markdown",
   "metadata": {
    "hidden": true
   },
   "source": [
    "**Visualizing bootstrap samples**\n",
    "\n",
    "In this exercise, you will generate bootstrap samples from the set of annual rainfall data measured at the Sheffield Weather Station in the UK from 1883 to 2015. The data are stored in the NumPy array rainfall in units of millimeters (mm). By graphically displaying the bootstrap samples with an ECDF, you can get a feel for how bootstrap sampling allows probabilistic descriptions of data.\n",
    "\n",
    "Instructions\n",
    "- Write a for loop to acquire 50 bootstrap samples of the rainfall data and plot their ECDF.\n",
    "- Use np.random.choice() to generate a bootstrap sample from the NumPy array rainfall. Be sure that the size of the resampled array is len(rainfall).\n",
    "- Use the function ecdf() that you wrote in the prequel to this course to generate the x and y values for the ECDF of the bootstrap sample bs_sample.\n",
    "- Plot the ECDF values. Specify color='gray' (to make gray dots) and alpha=0.1 (to make them semi-transparent, since we are overlaying so many) in addition to the marker='.' and linestyle='none' keyword arguments.\n",
    "- Use ecdf() to generate x and y values for the ECDF of the original rainfall data available in the array rainfall.\n",
    "- Plot the ECDF values of the original data.\n",
    "- Hit 'Submit Answer' to visualize the samples!\n",
    "\n",
    "Hint\n",
    "- Inside the for loop:\n",
    "    - Use np.random.choice() with rainfall and size=len(rainfall) as the arguments.\n",
    "    - Use the ecdf() function on bs_sample to generate the x and y values.\n",
    "    - Plot x and y using plt.plot() and specify marker='.', linestyle='none', color='gray', and alpha=0.1.\n",
    "    - Compute the ECDF of the original data just as you did with the bootstrap samples, using the ecdf() function on rainfall. To plot them, pass in x and y as arguments to plt.plot() and specify the marker parameter."
   ]
  },
  {
   "cell_type": "code",
   "execution_count": 29,
   "metadata": {
    "ExecuteTime": {
     "end_time": "2021-03-09T20:59:54.501172Z",
     "start_time": "2021-03-09T20:59:54.186599Z"
    },
    "code_folding": [],
    "hidden": true
   },
   "outputs": [
    {
     "data": {
      "image/png": "[encoded data removed]",
      "text/plain": [
       "<Figure size 432x288 with 1 Axes>"
      ]
     },
     "metadata": {
      "needs_background": "light"
     },
     "output_type": "display_data"
    }
   ],
   "source": [
    "rainfall = np.array([\n",
    "    875.5, 648.2, 788.1, 940.3, 491.1, 743.5, 730.1, 686.5, 878.8, 865.6,\n",
    "    654.9, 831.5, 798.1, 681.8, 743.8, 689.1, 752.1, 837.2, 710.6, 749.2,\n",
    "    967.1, 701.2, 619., 747.6, 803.4, 645.6, 804.1, 787.4, 646.8, 997.1, 774.,\n",
    "    734.5, 835., 840.7, 659.6, 828.3, 909.7, 856.9, 578.3, 904.2, 883.9, 740.1,\n",
    "    773.9, 741.4, 866.8, 871.1, 712.5, 919.2, 927.9, 809.4, 633.8, 626.8,\n",
    "    871.3, 774.3, 898.8, 789.6, 936.3, 765.4, 882.1, 681.1, 661.3, 847.9,\n",
    "    683.9, 985.7, 771.1, 736.6, 713.2, 774.5, 937.7, 694.5, 598.2, 983.8,\n",
    "    700.2, 901.3, 733.5, 964.4, 609.3, 1035.2, 718., 688.6, 736.8, 643.3,\n",
    "    1038.5, 969., 802.7, 876.6, 944.7, 786.6, 770.4, 808.6, 761.3, 774.2,\n",
    "    559.3, 674.2, 883.6, 823.9, 960.4, 877.8, 940.6, 831.8, 906.2, 866.5,\n",
    "    674.1, 998.1, 789.3, 915., 737.1, 763., 666.7, 824.5, 913.8, 905.1, 667.8,\n",
    "    747.4, 784.7, 925.4, 880.2, 1086.9, 764.4, 1050.1, 595.2, 855.2, 726.9,\n",
    "    785.2, 948.8, 970.6, 896., 618.4, 572.4, 1146.4, 728.2, 864.2, 793.\n",
    "])\n",
    "\n",
    "for _ in range(50):\n",
    "    # Generate bootstrap sample: bs_sample\n",
    "    bs_sample = np.random.choice(rainfall, size=len(rainfall))\n",
    "\n",
    "    # Compute and plot ECDF from bootstrap sample\n",
    "    x, y = ecdf(bs_sample)\n",
    "    _ = plt.plot(x, y, marker='.', linestyle='none', color='gray', alpha=0.1)\n",
    "\n",
    "# Compute and plot ECDF from original data\n",
    "x, y = ecdf(rainfall)\n",
    "_ = plt.plot(x, y, marker='.')\n",
    "\n",
    "# Make margins and label axes\n",
    "plt.margins(0.02)\n",
    "_ = plt.xlabel('yearly rainfall (mm)')\n",
    "_ = plt.ylabel('ECDF')\n",
    "\n",
    "# Show the plot\n",
    "plt.show()"
   ]
  },
  {
   "cell_type": "markdown",
   "metadata": {
    "hidden": true
   },
   "source": [
    "Good job! Notice how the bootstrap samples give an idea of how the distribution of rainfalls is spread."
   ]
  },
  {
   "cell_type": "markdown",
   "metadata": {
    "heading_collapsed": true
   },
   "source": [
    "### Bootstrap confidence intervals"
   ]
  },
  {
   "cell_type": "markdown",
   "metadata": {
    "hidden": true
   },
   "source": [
    "**Confidence interval of a statistic**\n",
    "- If we repeated measurements over and over again, p% of the observed values would lie within the p% confidence interval.\n",
    "\n",
    "<img src='figures/02.02-confidence-intervals.PNG' width='70%'>"
   ]
  },
  {
   "cell_type": "markdown",
   "metadata": {
    "heading_collapsed": true,
    "hidden": true
   },
   "source": [
    "#### Practice"
   ]
  },
  {
   "cell_type": "markdown",
   "metadata": {
    "hidden": true
   },
   "source": [
    "**Generating many bootstrap replicates**\n",
    "\n",
    "The function bootstrap_replicate_1d() from the video is available in your namespace. Now you'll write another function, draw_bs_reps(data, func, size=1), which generates many bootstrap replicates from the data set. This function will come in handy for you again and again as you compute confidence intervals and later when you do hypothesis tests.\n",
    "\n",
    "For your reference, the bootstrap_replicate_1d() function is provided below:\n",
    "```\n",
    "def bootstrap_replicate_1d(data, func):\n",
    "    \"\"\"Generate bootstrap replicate of 1D data.\"\"\"\n",
    "    bs_sample = np.random.choice(data, len(data))\n",
    "    return func(bs_sample)\n",
    "```\n",
    "\n",
    "Instructions\n",
    "- Define a function with call signature draw_bs_reps(data, func, size=1).\n",
    "- Using np.empty(), initialize an array called bs_replicates of size size to hold all of the bootstrap replicates.\n",
    "- Write a for loop that ranges over size and computes a replicate using bootstrap_replicate_1d(). Refer to the exercise description above to see the function signature of bootstrap_replicate_1d(). Store the replicate in the appropriate index of bs_replicates.\n",
    "- Return the array of replicates bs_replicates. This has already been done for you.\n",
    "\n",
    "Hint\n",
    "- The function signature has already been specified for you. Use np.empty(), passing in size as an argument, to initialze bs_replicates. Then, in the for loop, iterate over size using the range() function, and utilize the bootstrap_replicate_1d function, with data and func as arguments, to generate bootstrap replicates."
   ]
  },
  {
   "cell_type": "code",
   "execution_count": 32,
   "metadata": {
    "ExecuteTime": {
     "end_time": "2021-03-09T21:08:55.194935Z",
     "start_time": "2021-03-09T21:08:55.188985Z"
    },
    "hidden": true
   },
   "outputs": [],
   "source": [
    "def bootstrap_replicate_1d(data, func):\n",
    "    \"\"\"Generate bootstrap replicate of 1D data.\"\"\"\n",
    "    bs_sample = np.random.choice(data, len(data))\n",
    "    return func(bs_sample)\n",
    "\n",
    "def draw_bs_reps(data, func, size=1):\n",
    "    \"\"\"Draw bootstrap replicates.\"\"\"\n",
    "\n",
    "    # Initialize array of replicates: bs_replicates\n",
    "    bs_replicates = np.empty(size)\n",
    "\n",
    "    # Generate replicates\n",
    "    for i in range(size):\n",
    "        bs_replicates[i] = bootstrap_replicate_1d(data, func)\n",
    "\n",
    "    return bs_replicates"
   ]
  },
  {
   "cell_type": "markdown",
   "metadata": {
    "hidden": true
   },
   "source": [
    "Good job! This function will be a workhorse for you!\n",
    "\n"
   ]
  },
  {
   "cell_type": "markdown",
   "metadata": {
    "hidden": true
   },
   "source": [
    "**Bootstrap replicates of the mean and the SEM**\n",
    "\n",
    "In this exercise, you will compute a bootstrap estimate of the probability density function of the mean annual rainfall at the Sheffield Weather Station. Remember, we are estimating the mean annual rainfall we would get if the Sheffield Weather Station could repeat all of the measurements from 1883 to 2015 over and over again. This is a probabilistic estimate of the mean. You will plot the PDF as a histogram, and you will see that it is Normal.\n",
    "\n",
    "In fact, it can be shown theoretically that under not-too-restrictive conditions, the value of the mean will always be Normally distributed. (This does not hold in general, just for the mean and a few other statistics.) The standard deviation of this distribution, called the **standard error of the mean, or SEM,** is given by the standard deviation of the data divided by the square root of the number of data points. I.e., for a data set, sem = np.std(data) / np.sqrt(len(data)). Using hacker statistics, you get this same result without the need to derive it, but you will verify this result from your bootstrap replicates.\n",
    "\n",
    "The dataset has been pre-loaded for you into an array called rainfall.\n",
    "\n",
    "Instructions\n",
    "- Draw 10000 bootstrap replicates of the mean annual rainfall using your draw_bs_reps() function and the rainfall array. Hint: Pass in np.mean for func to compute the mean.\n",
    "- As a reminder, draw_bs_reps() accepts 3 arguments: data, func, and size.\n",
    "- Compute and print the standard error of the mean of rainfall.\n",
    "- The formula to compute this is np.std(data) / np.sqrt(len(data)).\n",
    "- Compute and print the standard deviation of your bootstrap replicates bs_replicates.\n",
    "- Make a histogram of the replicates using the normed=True keyword argument and 50 bins.\n",
    "- Hit 'Submit Answer' to see the plot!\n",
    "\n",
    "Hint\n",
    "- draw_bs_reps accepts 3 arguments: data, func, and size. Use np.mean for func as you are asked to draw bootstrap replicates of the mean annual rainfall. Size refers to the number of bootstrap replicates you need to draw, and the name of the dataset here is rainfall.\n",
    "- The standard error of the mean (SEM) is calculated by dividing the standard deviation (np.std()) of rainfall by the square root (np.sqrt()) of the number of points in rainfall (len(rainfall)).\n",
    "- Use np.std() to calculate the standard deviation of bs_replicates.\n",
    "- Be sure to specify all arguments in plt.hist(), including the correct bin size and normed=True."
   ]
  },
  {
   "cell_type": "code",
   "execution_count": 44,
   "metadata": {
    "ExecuteTime": {
     "end_time": "2021-03-09T21:15:54.710243Z",
     "start_time": "2021-03-09T21:15:53.955270Z"
    },
    "hidden": true
   },
   "outputs": [
    {
     "name": "stdout",
     "output_type": "stream",
     "text": [
      "10.510549150506188\n",
      "10.606367837389184\n"
     ]
    },
    {
     "name": "stderr",
     "output_type": "stream",
     "text": [
      "C:\\Users\\LENOVO\\anaconda3\\lib\\site-packages\\ipykernel_launcher.py:13: MatplotlibDeprecationWarning: \n",
      "The 'normed' kwarg was deprecated in Matplotlib 2.1 and will be removed in 3.1. Use 'density' instead.\n",
      "  del sys.path[0]\n"
     ]
    },
    {
     "data": {
      "image/png": "[encoded data removed]",
      "text/plain": [
       "<Figure size 432x288 with 1 Axes>"
      ]
     },
     "metadata": {
      "needs_background": "light"
     },
     "output_type": "display_data"
    }
   ],
   "source": [
    "# Take 10,000 bootstrap replicates of the mean: bs_replicates\n",
    "bs_replicates = draw_bs_reps(rainfall, np.mean, size=10000)\n",
    "\n",
    "# Compute and print SEM\n",
    "sem = np.std(rainfall) / np.sqrt(len(rainfall))\n",
    "print(sem)\n",
    "\n",
    "# Compute and print standard deviation of bootstrap replicates\n",
    "bs_std = np.std(bs_replicates)\n",
    "print(bs_std)\n",
    "\n",
    "# Make a histogram of the results\n",
    "_ = plt.hist(bs_replicates, bins=50, normed=True)\n",
    "_ = plt.xlabel('mean annual rainfall (mm)')\n",
    "_ = plt.ylabel('PDF')\n",
    "\n",
    "# Show the plot\n",
    "plt.show()"
   ]
  },
  {
   "cell_type": "markdown",
   "metadata": {
    "hidden": true
   },
   "source": [
    "Great work! Notice that the SEM we got from the known expression and the bootstrap replicates is the same and the distribution of the bootstrap replicates of the mean is Normal."
   ]
  },
  {
   "cell_type": "markdown",
   "metadata": {
    "hidden": true
   },
   "source": [
    "**Confidence intervals of rainfall data**\n",
    "\n",
    "A confidence interval gives upper and lower bounds on the range of parameter values you might expect to get if we repeat our measurements. For named distributions, you can compute them analytically or look them up, but one of the many beautiful properties of the bootstrap method is that you can take percentiles of your bootstrap replicates to get your confidence interval. Conveniently, you can use the np.percentile() function.\n",
    "\n",
    "Use the bootstrap replicates you just generated to compute the 95% confidence interval. That is, give the 2.5th and 97.5th percentile of your bootstrap replicates stored as bs_replicates. What is the 95% confidence interval?\n",
    "\n",
    "Possible Answers\n",
    "- (765, 776) mm/year\n",
    "- (780, 821) mm/year\n",
    "- (761, 817) mm/year\n",
    "- (761, 841) mm/year\n",
    "\n",
    "Hint\n",
    "- To get the 2.5th and 97.5th percentiles of x, the statement would be `np.percentile(x, [2.5, 97.5])`. This gives the 95% confidence interval of x. Do the same for bs_replicates."
   ]
  },
  {
   "cell_type": "code",
   "execution_count": 35,
   "metadata": {
    "ExecuteTime": {
     "end_time": "2021-03-09T21:11:59.084292Z",
     "start_time": "2021-03-09T21:11:58.959458Z"
    },
    "hidden": true
   },
   "outputs": [
    {
     "data": {
      "text/plain": [
       "array([779.35005639, 820.78142857])"
      ]
     },
     "execution_count": 35,
     "metadata": {},
     "output_type": "execute_result"
    }
   ],
   "source": [
    "np.percentile(bs_replicates, [2.5, 97.5])"
   ]
  },
  {
   "cell_type": "markdown",
   "metadata": {
    "hidden": true
   },
   "source": [
    "Correct! See, it's simple to get confidence intervals using bootstrap!"
   ]
  },
  {
   "cell_type": "markdown",
   "metadata": {
    "hidden": true
   },
   "source": [
    "**Bootstrap replicates of other statistics**\n",
    "\n",
    "We saw in a previous exercise that the mean is Normally distributed. This does not necessarily hold for other statistics, but no worry: as hackers, we can always take bootstrap replicates! In this exercise, you'll generate bootstrap replicates for the variance of the annual rainfall at the Sheffield Weather Station and plot the histogram of the replicates.\n",
    "\n",
    "Here, you will make use of the draw_bs_reps() function you defined a few exercises ago. It is provided below for your reference:\n",
    "```\n",
    "def draw_bs_reps(data, func, size=1):\n",
    "    \"\"\"Draw bootstrap replicates.\"\"\"\n",
    "    # Initialize array of replicates\n",
    "    bs_replicates = np.empty(size)\n",
    "    # Generate replicates\n",
    "    for i in range(size):\n",
    "        bs_replicates[i] = bootstrap_replicate_1d(data, func)\n",
    "    return bs_replicates\n",
    "```\n",
    "\n",
    "Instructions\n",
    "- Draw 10000 bootstrap replicates of the variance in annual rainfall, stored in the rainfall dataset, using your draw_bs_reps() function. Hint: Pass in np.var for computing the variance.\n",
    "- Divide your variance replicates (bs_replicates) by 100 to put the variance in units of square centimeters for convenience.\n",
    "- Make a histogram of bs_replicates using the normed=True keyword argument and 50 bins.\n",
    "\n",
    "Hint\n",
    "- In a previous exercise, you drew 10000 bootstrap replicates of the mean annual rainfall, where func in draw_bs_reps() was np.mean. Here, since you have to draw replicates of the variance in annual rainfall instead of the mean, func needs to be np.var.\n",
    "- NumPy's vectorized operations make it easy to divide all of the variance replicates by 100. For example, to double the replicates the statement would be bs_replicates *= 2.\n",
    "- Be sure to include all 3 arguments inside plt.hist(), including the correct bin size and normed=True."
   ]
  },
  {
   "cell_type": "code",
   "execution_count": 43,
   "metadata": {
    "ExecuteTime": {
     "end_time": "2021-03-09T21:15:47.320818Z",
     "start_time": "2021-03-09T21:15:46.526942Z"
    },
    "hidden": true
   },
   "outputs": [
    {
     "name": "stderr",
     "output_type": "stream",
     "text": [
      "C:\\Users\\LENOVO\\anaconda3\\lib\\site-packages\\ipykernel_launcher.py:17: MatplotlibDeprecationWarning: \n",
      "The 'normed' kwarg was deprecated in Matplotlib 2.1 and will be removed in 3.1. Use 'density' instead.\n"
     ]
    },
    {
     "data": {
      "image/png": "[encoded data removed]",
      "text/plain": [
       "<Figure size 432x288 with 1 Axes>"
      ]
     },
     "metadata": {
      "needs_background": "light"
     },
     "output_type": "display_data"
    }
   ],
   "source": [
    "def draw_bs_reps(data, func, size=1):\n",
    "    \"\"\"Draw bootstrap replicates.\"\"\"\n",
    "    # Initialize array of replicates\n",
    "    bs_replicates = np.empty(size)\n",
    "    # Generate replicates\n",
    "    for i in range(size):\n",
    "        bs_replicates[i] = bootstrap_replicate_1d(data, func)\n",
    "    return bs_replicates\n",
    "\n",
    "# Generate 10,000 bootstrap replicates of the variance: bs_replicates\n",
    "bs_replicates = draw_bs_reps(rainfall, np.var, size=10000)\n",
    "\n",
    "# Put the variance in units of square centimeters\n",
    "bs_replicates /= 100\n",
    "\n",
    "# Make a histogram of the results\n",
    "_ = plt.hist(bs_replicates, bins=50, normed=True)\n",
    "_ = plt.xlabel('variance of annual rainfall (sq. cm)')\n",
    "_ = plt.ylabel('PDF')\n",
    "\n",
    "# Show the plot\n",
    "plt.show()"
   ]
  },
  {
   "cell_type": "markdown",
   "metadata": {
    "hidden": true
   },
   "source": [
    "Great work! This is not normally distributed, as it has a longer tail to the right. Note that you can also compute a confidence interval on the variance, or any other statistic, using np.percentile() with your bootstrap replicates."
   ]
  },
  {
   "cell_type": "markdown",
   "metadata": {
    "hidden": true
   },
   "source": [
    "**Confidence interval on the rate of no-hitters**\n",
    "\n",
    "Consider again the inter-no-hitter intervals for the modern era of baseball. Generate 10,000 bootstrap replicates of the optimal parameter \b. Plot a histogram of your replicates and report a 95% confidence interval.\n",
    "\n",
    "Instructions\n",
    "- Generate 10000 bootstrap replicates of  from the nohitter_times data using your draw_bs_reps() function. Recall that the optimal  is calculated as the mean of the data.\n",
    "- Compute the 95% confidence interval using np.percentile() and passing in two arguments: The array bs_replicates, and the list of percentiles - in this case 2.5 and 97.5.\n",
    "- Print the confidence interval.\n",
    "- Plot a histogram of your bootstrap replicates. This has been done for you, so hit 'Submit Answer' to see the plot!\n",
    "\n",
    "Hint\n",
    "- Use your draw_bs_reps() function similar to when you were asked to draw replicates of the mean annual rainfall. Here,  is the same as np.mean.\n",
    "- Be sure to pass in the 2.5th and 97.5th percentiles of bs_replicates in the form of a list ([2.5, 97.5]) as arguments to np.percentile().\n",
    "- Print the confidence interval you calculated above by passing in conf_int as an argument to the provided print() function.\n",
    "- Make sure all required arguments are provided inside plt.hist(), and hit 'Submit Answer` to view your plot!"
   ]
  },
  {
   "cell_type": "code",
   "execution_count": 41,
   "metadata": {
    "ExecuteTime": {
     "end_time": "2021-03-09T21:15:17.932930Z",
     "start_time": "2021-03-09T21:15:17.276652Z"
    },
    "hidden": true
   },
   "outputs": [
    {
     "name": "stdout",
     "output_type": "stream",
     "text": [
      "95% confidence interval = [663.02370518 874.74143426] games\n"
     ]
    },
    {
     "name": "stderr",
     "output_type": "stream",
     "text": [
      "C:\\Users\\LENOVO\\anaconda3\\lib\\site-packages\\ipykernel_launcher.py:11: MatplotlibDeprecationWarning: \n",
      "The 'normed' kwarg was deprecated in Matplotlib 2.1 and will be removed in 3.1. Use 'density' instead.\n",
      "  # This is added back by InteractiveShellApp.init_path()\n"
     ]
    },
    {
     "data": {
      "image/png": "[encoded data removed]",
      "text/plain": [
       "<Figure size 432x288 with 1 Axes>"
      ]
     },
     "metadata": {
      "needs_background": "light"
     },
     "output_type": "display_data"
    }
   ],
   "source": [
    "# Draw bootstrap replicates of the mean no-hitter time (equal to tau): bs_replicates\n",
    "bs_replicates = draw_bs_reps(nohitter_times, np.mean, size=10000)\n",
    "\n",
    "# Compute the 95% confidence interval: conf_int\n",
    "conf_int = np.percentile(bs_replicates, [2.5, 97.5])\n",
    "\n",
    "# Print the confidence interval\n",
    "print('95% confidence interval =', conf_int, 'games')\n",
    "\n",
    "# Plot the histogram of the replicates\n",
    "_ = plt.hist(bs_replicates, bins=50, normed=True)\n",
    "_ = plt.xlabel(r'$\\tau$ (games)')\n",
    "_ = plt.ylabel('PDF')\n",
    "\n",
    "# Show the plot\n",
    "plt.show()"
   ]
  },
  {
   "cell_type": "code",
   "execution_count": 42,
   "metadata": {
    "ExecuteTime": {
     "end_time": "2021-03-09T21:15:35.549435Z",
     "start_time": "2021-03-09T21:15:34.868224Z"
    },
    "hidden": true
   },
   "outputs": [
    {
     "name": "stdout",
     "output_type": "stream",
     "text": [
      "95% confidence interval = [661.94053785 874.05258964] games\n"
     ]
    },
    {
     "data": {
      "image/png": "[encoded data removed]",
      "text/plain": [
       "<Figure size 432x288 with 1 Axes>"
      ]
     },
     "metadata": {
      "needs_background": "light"
     },
     "output_type": "display_data"
    }
   ],
   "source": [
    "# Draw bootstrap replicates of the mean no-hitter time (equal to tau): bs_replicates\n",
    "bs_replicates = draw_bs_reps(nohitter_times, np.mean, size=10000)\n",
    "\n",
    "# Compute the 95% confidence interval: conf_int\n",
    "conf_int = np.percentile(bs_replicates, [2.5, 97.5])\n",
    "\n",
    "# Print the confidence interval\n",
    "print('95% confidence interval =', conf_int, 'games')\n",
    "\n",
    "# Plot the histogram of the replicates\n",
    "_ = plt.hist(bs_replicates, bins=50, density=True)\n",
    "_ = plt.xlabel(r'$\\tau$ (games)')\n",
    "_ = plt.ylabel('PDF')\n",
    "\n",
    "# Show the plot\n",
    "plt.show()"
   ]
  },
  {
   "cell_type": "markdown",
   "metadata": {
    "hidden": true
   },
   "source": [
    "This gives you an estimate of what the typical time between no-hitters is. It could be anywhere between 660 and 870 games."
   ]
  },
  {
   "cell_type": "markdown",
   "metadata": {},
   "source": [
    "### Pairs bootstrap (FALTA)"
   ]
  },
  {
   "cell_type": "markdown",
   "metadata": {},
   "source": [
    "## Introduction to hypothesis testing\n"
   ]
  },
  {
   "cell_type": "markdown",
   "metadata": {},
   "source": [
    "### Formulating and simulating hypothesis"
   ]
  },
  {
   "cell_type": "markdown",
   "metadata": {},
   "source": [
    "**2008 US swing state election results**\n",
    "<img src='figures/02.01-linearreg.PNG' width='400'>\n",
    "\n",
    "**Hypothesis testing**\n",
    "- Assesment of how reasonable the observed data are assuming a hypothesis is true\n",
    "\n",
    "**Null hypothesis**\n",
    "- Another name for the hypothesis you are testing\n",
    "\n",
    "**ECDFs of swing state election results**\n",
    "<img src='figures/02.03-ecdf-data.PNG' width='400'>\n",
    "\n",
    " **Simulating the hypothesis with Permutations**\n",
    " - Random reordering of entries in an array"
   ]
  },
  {
   "cell_type": "markdown",
   "metadata": {},
   "source": [
    "**Generating a permutation sample**\n",
    "\n",
    "In the video, you learned that permutation sampling is a great way to simulate the hypothesis that two variables have identical probability distributions. This is often a hypothesis you want to test, so in this exercise, you will write a function to generate a permutation sample from two data sets.\n",
    "\n",
    "Remember, a permutation sample of two arrays having respectively n1 and n2 entries is constructed by concatenating the arrays together, scrambling the contents of the concatenated array, and then taking the first n1 entries as the permutation sample of the first array and the last n2 entries as the permutation sample of the second array.\n",
    "\n",
    "Instructions\n",
    "- Concatenate the two input arrays into one using np.concatenate(). Be sure to pass in data1 and data2 as one argument (data1, data2).\n",
    "- Use np.random.permutation() to permute the concatenated array.\n",
    "- Store the first len(data1) entries of permuted_data as perm_sample_1 and the last len(data2) entries of permuted_data as perm_sample_2. In practice, this can be achieved by using :len(data1) and len(data1): to slice permuted_data.\n",
    "- Return perm_sample_1 and perm_sample_2.\n",
    "\n",
    "Hint\n",
    "- To concatenate the two input arrays - data1 and data2 - pass them in as one argument (data1, data2) to np.concatenate().\n",
    "- To permute the array, pass in the concatenated array (data) as an argument to np.random.permutation().\n",
    "- Split the array by indexing it such that the first half (permuted_data[:len(data1)]) goes to perm_sample_1 and the second half (permuted_data[len(data1):]) to perm_sample_2."
   ]
  },
  {
   "cell_type": "code",
   "execution_count": 47,
   "metadata": {
    "ExecuteTime": {
     "end_time": "2021-03-09T22:28:08.610432Z",
     "start_time": "2021-03-09T22:28:08.604448Z"
    }
   },
   "outputs": [],
   "source": [
    "def permutation_sample(data1, data2):\n",
    "    \"\"\"Generate a permutation sample from two data sets.\"\"\"\n",
    "\n",
    "    # Concatenate the data sets: data\n",
    "    data = np.concatenate((data1, data2))\n",
    "\n",
    "    # Permute the concatenated array: permuted_data\n",
    "    permuted_data = np.random.permutation(data)\n",
    "\n",
    "    # Split the permuted array into two: perm_sample_1, perm_sample_2\n",
    "    perm_sample_1 = permuted_data[:len(data1)]\n",
    "    perm_sample_2 = permuted_data[len(data1):]\n",
    "\n",
    "    return perm_sample_1, perm_sample_2"
   ]
  },
  {
   "cell_type": "markdown",
   "metadata": {},
   "source": [
    "**Visualizing permutation sampling**\n",
    "\n",
    "To help see how permutation sampling works, in this exercise you will generate permutation samples and look at them graphically.\n",
    "\n",
    "We will use the Sheffield Weather Station data again, this time considering the monthly rainfall in June (a dry month) and November (a wet month). We expect these might be differently distributed, so we will take permutation samples to see how their ECDFs would look if they were identically distributed.\n",
    "\n",
    "The data are stored in the Numpy arrays rain_june and rain_november.\n",
    "\n",
    "As a reminder, permutation_sample() has a function signature of permutation_sample(data_1, data_2) with a return value of permuted_data[:len(data_1)], permuted_data[len(data_1):], where permuted_data = np.random.permutation(np.concatenate((data_1, data_2))).\n",
    "\n",
    "Instructions\n",
    "- Write a for loop to generate 50 permutation samples, compute their ECDFs, and plot them.\n",
    "- Generate a permutation sample pair from rain_june and rain_november using your permutation_sample() function.\n",
    "- Generate the x and y values for an ECDF for each of the two permutation samples for the ECDF using your ecdf() function.\n",
    "- Plot the ECDF of the first permutation sample (x_1 and y_1) as dots. Do the same for the second permutation sample (x_2 and y_2).\n",
    "- Generate x and y values for ECDFs for the rain_june and rain_november data and plot the ECDFs using respectively the keyword arguments color='red' and color='blue'.\n",
    "- Label your axes, set a 2% margin, and show your plot. This has been done for you, so just hit 'Submit Answer' to view the plot!\n",
    "\n",
    "Hint\n",
    "- Pass in rain_june and rain_november as arguments to the permutation_sample() function defined in the previous exercise. Use the ecdf function to generate x and y values for the two permutation samples, and when plotting these values, be sure to specify the color and alpha keyword arguments as described in the instructions.\n",
    "- Having generated the x and y values from the ECDFs of the permutation samples, now generate them from the ECDFs of the actual data.\n",
    "- The margins and axes have been written for you, so just hit 'Submit Answer' to see your plot!"
   ]
  },
  {
   "cell_type": "code",
   "execution_count": 48,
   "metadata": {
    "ExecuteTime": {
     "end_time": "2021-03-09T22:31:41.474200Z",
     "start_time": "2021-03-09T22:31:40.859845Z"
    }
   },
   "outputs": [
    {
     "data": {
      "image/png": "[encoded data removed]",
      "text/plain": [
       "<Figure size 432x288 with 1 Axes>"
      ]
     },
     "metadata": {
      "needs_background": "light"
     },
     "output_type": "display_data"
    }
   ],
   "source": [
    "rain_june = np.array([\n",
    "    66.2, 39.7, 76.4, 26.5, 11.2, 61.8, 6.1, 48.4, 89.2, 104., 34., 60.6, 57.1,\n",
    "    79.1, 90.9, 32.3, 63.8, 78.2, 27.5, 43.4, 30.1, 17.3, 77.5, 44.9, 92.2,\n",
    "    39.6, 79.4, 66.1, 53.5, 98.5, 20.8, 55.5, 39.6, 56., 65.1, 14.8, 13.2,\n",
    "    88.1, 8.4, 32.1, 19.6, 40.4, 2.2, 77.5, 105.4, 77.2, 38., 27.1, 111.8,\n",
    "    17.2, 26.7, 23.3, 77.2, 87.2, 27.7, 50.6, 60.3, 15.1, 6., 29.4, 39.3, 56.3,\n",
    "    80.4, 85.3, 68.4, 72.5, 13.3, 28.4, 14.7, 37.4, 49.5, 57.2, 85.9, 82.1,\n",
    "    31.8, 126.6, 30.7, 41.4, 33.9, 13.5, 99.1, 70.2, 91.8, 61.3, 13.7, 54.9,\n",
    "    62.5, 24.2, 69.4, 83.1, 44., 48.5, 11.9, 16.6, 66.4, 90., 34.9, 132.8,\n",
    "    33.4, 225., 7.6, 40.9, 76.5, 48., 140., 55.9, 54.1, 46.4, 68.6, 52.2,\n",
    "    108.3, 14.6, 11.3, 29.8, 130.9, 152.4, 61., 46.6, 43.9, 30.9, 111.1, 68.5,\n",
    "    42.2, 9.8, 285.6, 56.7, 168.2, 41.2, 47.8, 166.6, 37.8, 45.4, 43.2\n",
    "])\n",
    "\n",
    "rain_november = np.array([\n",
    "    83.6, 30.9, 62.2, 37., 41., 160.2, 18.2, 122.4, 71.3, 44.2, 49.1, 37.6,\n",
    "    114.5, 28.8, 82.5, 71.9, 50.7, 67.7, 112., 63.6, 42.8, 57.2, 99.1, 86.4,\n",
    "    84.4, 38.1, 17.7, 102.2, 101.3, 58., 82., 101.4, 81.4, 100.1, 54.6, 39.6,\n",
    "    57.5, 29.2, 48.8, 37.3, 115.4, 55.6, 62., 95., 84.2, 118.1, 153.2, 83.4,\n",
    "    104.7, 59., 46.4, 50., 147.6, 76.8, 59.9, 101.8, 136.6, 173., 92.5, 37.,\n",
    "    59.8, 142.1, 9.9, 158.2, 72.6, 28., 112.9, 119.3, 199.2, 50.7, 44., 170.7,\n",
    "    67.2, 21.4, 61.3, 15.6, 106., 116.2, 42.3, 38.5, 132.5, 40.8, 147.5, 93.9,\n",
    "    71.4, 87.3, 163.7, 141.4, 62.6, 84.9, 28.8, 121.1, 28.6, 32.4, 112., 50.,\n",
    "    96.9, 81.8, 70.4, 117.5, 41.2, 124.9, 78.2, 93., 53.5, 50.5, 42.6, 47.9,\n",
    "    73.1, 129.1, 56.9, 103.3, 60.5, 134.3, 93.1, 49.5, 48.2, 167.9, 27., 111.1,\n",
    "    55.4, 36.2, 57.4, 66.8, 58.3, 60., 161.6, 112.7, 37.4, 110.6, 56.6, 95.8,\n",
    "    126.8\n",
    "])\n",
    "\n",
    "for _ in range(50):\n",
    "    # Generate permutation samples\n",
    "    perm_sample_1, perm_sample_2 = permutation_sample(rain_june, rain_november)\n",
    "\n",
    "    # Compute ECDFs\n",
    "    x_1, y_1 = ecdf(perm_sample_1)\n",
    "    x_2, y_2 = ecdf(perm_sample_2)\n",
    "\n",
    "    # Plot ECDFs of permutation sample\n",
    "    _ = plt.plot(x_1,\n",
    "                 y_1,\n",
    "                 marker='.',\n",
    "                 linestyle='none',\n",
    "                 color='red',\n",
    "                 alpha=0.02)\n",
    "    _ = plt.plot(x_2,\n",
    "                 y_2,\n",
    "                 marker='.',\n",
    "                 linestyle='none',\n",
    "                 color='blue',\n",
    "                 alpha=0.02)\n",
    "\n",
    "# Create and plot ECDFs from original data\n",
    "x_1, y_1 = ecdf(rain_june)\n",
    "x_2, y_2 = ecdf(rain_november)\n",
    "_ = plt.plot(x_1, y_1, marker='.', linestyle='none', color='red')\n",
    "_ = plt.plot(x_2, y_2, marker='.', linestyle='none', color='blue')\n",
    "\n",
    "# Label axes, set margin, and show plot\n",
    "plt.margins(0.02)\n",
    "_ = plt.xlabel('monthly rainfall (mm)')\n",
    "_ = plt.ylabel('ECDF')\n",
    "plt.show()"
   ]
  },
  {
   "cell_type": "markdown",
   "metadata": {},
   "source": [
    "Great work! Notice that the permutation samples ECDFs overlap and give a purple haze. None of the ECDFs from the permutation samples overlap with the observed data, suggesting that the hypothesis is not commensurate with the data. June and November rainfall are not identically distributed."
   ]
  },
  {
   "cell_type": "markdown",
   "metadata": {},
   "source": [
    "### Test statistics and p-values"
   ]
  },
  {
   "cell_type": "markdown",
   "metadata": {},
   "source": [
    "**Hypothesis testing**\n",
    "- Assesment of how reasonable the observed data are assuming a hypothesis is true\n",
    "\n",
    "**Test statistic**\n",
    "- A single number that can be computed from observed data and from data you simulate under the null hypothesis\n",
    "- It serves as a basis of comparison between the two\n",
    "\n",
    "Permutation replicate\n",
    "```\n",
    "np.mean(perm_sample_PA) - np.mean(perm_sample_OH)\n",
    "1.122220149253728 # permutation replicate\n",
    "\n",
    "np.mean(dem_share_PA) - np.mean(dem_share_OH) # orig. data\n",
    "1.1582360922659518\n",
    "```\n",
    "\n",
    "**Mean vote difference under null hypothesis**\\\n",
    "Differences in means: 1.16\n",
    "<img src='figures/02.03-mean-under-null-hypothesis.PNG' width='400'>\n",
    "\n",
    "**p-value**\n",
    "- The probability of obtaining a value of your test statistic that is at least as extreme as what was observed, under the assumption the null hypothesis is true\n",
    "- **NOT** the probability that the null hypothesis is true\n",
    "\n",
    "**Statistical significance**\n",
    "- Determined by the smallness of a p-value\n",
    "\n",
    "**Null hypothesis significance testing (NHST)**\n",
    "- Another name for what we are doing in this chapter\n",
    "\n",
    "**statistical significance (low p values) ? practical significance = two different things**"
   ]
  },
  {
   "cell_type": "markdown",
   "metadata": {},
   "source": [
    "**Test statistics**\n",
    "\n",
    "When performing hypothesis tests, your choice of test statistic should be:\n",
    "\n",
    "Answer the question\n",
    "- something well-known, like the mean or median.\n",
    "- be a parameter that can be estimated.\n",
    "- **be pertinent to the question you are seeking to answer in your hypothesis test.**\n",
    "\n",
    "Yes! The most important thing to consider is: What are you asking?"
   ]
  },
  {
   "cell_type": "markdown",
   "metadata": {},
   "source": [
    "**What is a p-value?**\n",
    "\n",
    "The p-value is generally a measure of:\n",
    "\n",
    "Answer the questions\n",
    "\n",
    "- the probability that the hypothesis you are testing is true.\n",
    "- the probability of observing your data if the hypothesis you are testing is true.\n",
    "- **the probability of observing a test statistic equally or more extreme than the one you observed, given that the null hypothesis is true.**"
   ]
  },
  {
   "cell_type": "markdown",
   "metadata": {},
   "source": [
    "**Generating permutation replicates**\n",
    "\n",
    "As discussed in the video, a permutation replicate is a single value of a statistic computed from a permutation sample. As the draw_bs_reps() function you wrote in chapter 2 is useful for you to generate bootstrap replicates, it is useful to have a similar function, draw_perm_reps(), to generate permutation replicates. You will write this useful function in this exercise.\n",
    "\n",
    "The function has call signature draw_perm_reps(data_1, data_2, func, size=1). Importantly, func must be a function that takes two arrays as arguments. In most circumstances, func will be a function you write yourself.\n",
    "\n",
    "Instructions\n",
    "- Define a function with this signature: draw_perm_reps(data_1, data_2, func, size=1).\n",
    "- Initialize an array to hold the permutation replicates using np.empty().\n",
    "- Write a for loop to:\n",
    "    - Compute a permutation sample using your permutation_sample() function\n",
    "    - Pass the samples into func() to compute the replicate and store the result in your array of replicates.\n",
    "- Return the array of replicates.\n",
    "\n",
    "Hint\n",
    "- Use np.empty() to initialize your array, passing in size as an argument.\n",
    "- Inside the for loop, pass in data_1 and data_2 as arguments to the permutation_sample() function you defined in an earlier exercise. The values that they return - perm_sample_1 and perm_sample_2 - should in turn be passed as arguments to func - this is how the test statistic is computed. Be sure to index permutation_samples appropriately with i."
   ]
  },
  {
   "cell_type": "code",
   "execution_count": 49,
   "metadata": {
    "ExecuteTime": {
     "end_time": "2021-03-09T22:55:24.081464Z",
     "start_time": "2021-03-09T22:55:24.075480Z"
    }
   },
   "outputs": [],
   "source": [
    "def draw_perm_reps(data_1, data_2, func, size=1):\n",
    "    \"\"\"Generate multiple permutation replicates.\"\"\"\n",
    "\n",
    "    # Initialize array of replicates: perm_replicates\n",
    "    perm_replicates = np.empty(size)\n",
    "\n",
    "    for i in range(size):\n",
    "        # Generate permutation sample\n",
    "        perm_sample_1, perm_sample_2 = permutation_sample(data_1, data_2)\n",
    "\n",
    "        # Compute the test statistic\n",
    "        perm_replicates[i] = func(perm_sample_1, perm_sample_2)\n",
    "\n",
    "    return perm_replicates"
   ]
  },
  {
   "cell_type": "markdown",
   "metadata": {},
   "source": [
    "**Look before you leap: EDA before hypothesis testing**\n",
    "\n",
    "Kleinteich and Gorb (Sci. Rep., 4, 5225, 2014) performed an interesting experiment with South American horned frogs. They held a plate connected to a force transducer, along with a bait fly, in front of them. They then measured the impact force and adhesive force of the frog's tongue when it struck the target.\n",
    "\n",
    "Frog A is an adult and Frog B is a juvenile. The researchers measured the impact force of 20 strikes for each frog. In the next exercise, we will test the hypothesis that the two frogs have the same distribution of impact forces. But, remember, it is important to do EDA first! Let's make a bee swarm plot for the data. They are stored in a Pandas data frame, df, where column ID is the identity of the frog and column impact_force is the impact force in Newtons (N).\n",
    "\n",
    "Instructions\n",
    "- Use sns.swarmplot() to make a bee swarm plot of the data by specifying the x, y, and data keyword arguments.\n",
    "- Label your axes.\n",
    "- Show the plot.\n",
    "\n",
    "Hint\n",
    "- You need to specify three arguments inside sns.swarmplot(): the data (df), x-axis (ID), and y-axis (impact_force).\n",
    "- Use plt.xlabel('x-axis label') and plt.ylabel('y-axis label') to label your axes.\n",
    "- You can display the plot with plt.show()."
   ]
  },
  {
   "cell_type": "code",
   "execution_count": 66,
   "metadata": {
    "ExecuteTime": {
     "end_time": "2021-03-10T00:20:05.263650Z",
     "start_time": "2021-03-10T00:20:05.243738Z"
    }
   },
   "outputs": [
    {
     "data": {
      "text/html": [
       "<div>\n",
       "<style scoped>\n",
       "    .dataframe tbody tr th:only-of-type {\n",
       "        vertical-align: middle;\n",
       "    }\n",
       "\n",
       "    .dataframe tbody tr th {\n",
       "        vertical-align: top;\n",
       "    }\n",
       "\n",
       "    .dataframe thead th {\n",
       "        text-align: right;\n",
       "    }\n",
       "</style>\n",
       "<table border=\"1\" class=\"dataframe\">\n",
       "  <thead>\n",
       "    <tr style=\"text-align: right;\">\n",
       "      <th></th>\n",
       "      <th>ID</th>\n",
       "      <th>impact_force</th>\n",
       "    </tr>\n",
       "  </thead>\n",
       "  <tbody>\n",
       "    <tr>\n",
       "      <th>0</th>\n",
       "      <td>A</td>\n",
       "      <td>1.612</td>\n",
       "    </tr>\n",
       "    <tr>\n",
       "      <th>1</th>\n",
       "      <td>A</td>\n",
       "      <td>0.605</td>\n",
       "    </tr>\n",
       "    <tr>\n",
       "      <th>2</th>\n",
       "      <td>A</td>\n",
       "      <td>0.327</td>\n",
       "    </tr>\n",
       "    <tr>\n",
       "      <th>3</th>\n",
       "      <td>A</td>\n",
       "      <td>0.946</td>\n",
       "    </tr>\n",
       "    <tr>\n",
       "      <th>4</th>\n",
       "      <td>A</td>\n",
       "      <td>0.541</td>\n",
       "    </tr>\n",
       "    <tr>\n",
       "      <th>5</th>\n",
       "      <td>A</td>\n",
       "      <td>1.539</td>\n",
       "    </tr>\n",
       "    <tr>\n",
       "      <th>6</th>\n",
       "      <td>A</td>\n",
       "      <td>0.529</td>\n",
       "    </tr>\n",
       "    <tr>\n",
       "      <th>7</th>\n",
       "      <td>A</td>\n",
       "      <td>0.628</td>\n",
       "    </tr>\n",
       "    <tr>\n",
       "      <th>8</th>\n",
       "      <td>A</td>\n",
       "      <td>1.453</td>\n",
       "    </tr>\n",
       "    <tr>\n",
       "      <th>9</th>\n",
       "      <td>A</td>\n",
       "      <td>0.297</td>\n",
       "    </tr>\n",
       "    <tr>\n",
       "      <th>10</th>\n",
       "      <td>A</td>\n",
       "      <td>0.703</td>\n",
       "    </tr>\n",
       "    <tr>\n",
       "      <th>11</th>\n",
       "      <td>A</td>\n",
       "      <td>0.269</td>\n",
       "    </tr>\n",
       "    <tr>\n",
       "      <th>12</th>\n",
       "      <td>A</td>\n",
       "      <td>0.751</td>\n",
       "    </tr>\n",
       "    <tr>\n",
       "      <th>13</th>\n",
       "      <td>A</td>\n",
       "      <td>0.245</td>\n",
       "    </tr>\n",
       "    <tr>\n",
       "      <th>14</th>\n",
       "      <td>A</td>\n",
       "      <td>1.182</td>\n",
       "    </tr>\n",
       "    <tr>\n",
       "      <th>15</th>\n",
       "      <td>A</td>\n",
       "      <td>0.515</td>\n",
       "    </tr>\n",
       "    <tr>\n",
       "      <th>16</th>\n",
       "      <td>A</td>\n",
       "      <td>0.435</td>\n",
       "    </tr>\n",
       "    <tr>\n",
       "      <th>17</th>\n",
       "      <td>A</td>\n",
       "      <td>0.383</td>\n",
       "    </tr>\n",
       "    <tr>\n",
       "      <th>18</th>\n",
       "      <td>A</td>\n",
       "      <td>0.457</td>\n",
       "    </tr>\n",
       "    <tr>\n",
       "      <th>19</th>\n",
       "      <td>A</td>\n",
       "      <td>0.730</td>\n",
       "    </tr>\n",
       "    <tr>\n",
       "      <th>20</th>\n",
       "      <td>B</td>\n",
       "      <td>0.172</td>\n",
       "    </tr>\n",
       "    <tr>\n",
       "      <th>21</th>\n",
       "      <td>B</td>\n",
       "      <td>0.142</td>\n",
       "    </tr>\n",
       "    <tr>\n",
       "      <th>22</th>\n",
       "      <td>B</td>\n",
       "      <td>0.037</td>\n",
       "    </tr>\n",
       "    <tr>\n",
       "      <th>23</th>\n",
       "      <td>B</td>\n",
       "      <td>0.453</td>\n",
       "    </tr>\n",
       "    <tr>\n",
       "      <th>24</th>\n",
       "      <td>B</td>\n",
       "      <td>0.355</td>\n",
       "    </tr>\n",
       "    <tr>\n",
       "      <th>25</th>\n",
       "      <td>B</td>\n",
       "      <td>0.022</td>\n",
       "    </tr>\n",
       "    <tr>\n",
       "      <th>26</th>\n",
       "      <td>B</td>\n",
       "      <td>0.502</td>\n",
       "    </tr>\n",
       "    <tr>\n",
       "      <th>27</th>\n",
       "      <td>B</td>\n",
       "      <td>0.273</td>\n",
       "    </tr>\n",
       "    <tr>\n",
       "      <th>28</th>\n",
       "      <td>B</td>\n",
       "      <td>0.720</td>\n",
       "    </tr>\n",
       "    <tr>\n",
       "      <th>29</th>\n",
       "      <td>B</td>\n",
       "      <td>0.582</td>\n",
       "    </tr>\n",
       "    <tr>\n",
       "      <th>30</th>\n",
       "      <td>B</td>\n",
       "      <td>0.198</td>\n",
       "    </tr>\n",
       "    <tr>\n",
       "      <th>31</th>\n",
       "      <td>B</td>\n",
       "      <td>0.198</td>\n",
       "    </tr>\n",
       "    <tr>\n",
       "      <th>32</th>\n",
       "      <td>B</td>\n",
       "      <td>0.597</td>\n",
       "    </tr>\n",
       "    <tr>\n",
       "      <th>33</th>\n",
       "      <td>B</td>\n",
       "      <td>0.516</td>\n",
       "    </tr>\n",
       "    <tr>\n",
       "      <th>34</th>\n",
       "      <td>B</td>\n",
       "      <td>0.815</td>\n",
       "    </tr>\n",
       "    <tr>\n",
       "      <th>35</th>\n",
       "      <td>B</td>\n",
       "      <td>0.402</td>\n",
       "    </tr>\n",
       "    <tr>\n",
       "      <th>36</th>\n",
       "      <td>B</td>\n",
       "      <td>0.605</td>\n",
       "    </tr>\n",
       "    <tr>\n",
       "      <th>37</th>\n",
       "      <td>B</td>\n",
       "      <td>0.711</td>\n",
       "    </tr>\n",
       "    <tr>\n",
       "      <th>38</th>\n",
       "      <td>B</td>\n",
       "      <td>0.614</td>\n",
       "    </tr>\n",
       "    <tr>\n",
       "      <th>39</th>\n",
       "      <td>B</td>\n",
       "      <td>0.468</td>\n",
       "    </tr>\n",
       "  </tbody>\n",
       "</table>\n",
       "</div>"
      ],
      "text/plain": [
       "   ID  impact_force\n",
       "0   A         1.612\n",
       "1   A         0.605\n",
       "2   A         0.327\n",
       "3   A         0.946\n",
       "4   A         0.541\n",
       "5   A         1.539\n",
       "6   A         0.529\n",
       "7   A         0.628\n",
       "8   A         1.453\n",
       "9   A         0.297\n",
       "10  A         0.703\n",
       "11  A         0.269\n",
       "12  A         0.751\n",
       "13  A         0.245\n",
       "14  A         1.182\n",
       "15  A         0.515\n",
       "16  A         0.435\n",
       "17  A         0.383\n",
       "18  A         0.457\n",
       "19  A         0.730\n",
       "20  B         0.172\n",
       "21  B         0.142\n",
       "22  B         0.037\n",
       "23  B         0.453\n",
       "24  B         0.355\n",
       "25  B         0.022\n",
       "26  B         0.502\n",
       "27  B         0.273\n",
       "28  B         0.720\n",
       "29  B         0.582\n",
       "30  B         0.198\n",
       "31  B         0.198\n",
       "32  B         0.597\n",
       "33  B         0.516\n",
       "34  B         0.815\n",
       "35  B         0.402\n",
       "36  B         0.605\n",
       "37  B         0.711\n",
       "38  B         0.614\n",
       "39  B         0.468"
      ]
     },
     "execution_count": 66,
     "metadata": {},
     "output_type": "execute_result"
    }
   ],
   "source": [
    "import pandas as pd\n",
    "\n",
    "df = pd.read_csv('data/02-frogs.csv')\n",
    "df"
   ]
  },
  {
   "cell_type": "code",
   "execution_count": 67,
   "metadata": {
    "ExecuteTime": {
     "end_time": "2021-03-10T00:20:08.389862Z",
     "start_time": "2021-03-10T00:20:08.016741Z"
    }
   },
   "outputs": [
    {
     "data": {
      "image/png": "[encoded data removed]",
      "text/plain": [
       "<Figure size 432x288 with 1 Axes>"
      ]
     },
     "metadata": {
      "needs_background": "light"
     },
     "output_type": "display_data"
    }
   ],
   "source": [
    "import seaborn as sns\n",
    "\n",
    "# Make bee swarm plot\n",
    "_ = sns.swarmplot(x='ID', y='impact_force', data=df)\n",
    "\n",
    "# Label axes\n",
    "_ = plt.xlabel('frog')\n",
    "_ = plt.ylabel('impact force (N)')\n",
    "\n",
    "# Show the plot\n",
    "plt.show()"
   ]
  },
  {
   "cell_type": "markdown",
   "metadata": {},
   "source": [
    "Eyeballing it, it does not look like they come from the same distribution. Frog A, the adult, has three or four very hard strikes, and Frog B, the juvenile, has a couple weak ones. However, it is possible that with only 20 samples it might be too difficult to tell if they have difference distributions, so we should proceed with the hypothesis test."
   ]
  },
  {
   "cell_type": "markdown",
   "metadata": {},
   "source": [
    "**Permutation test on frog data**\n",
    "\n",
    "The average strike force of Frog A was 0.71 Newtons (N), and that of Frog B was 0.42 N for a difference of 0.29 N. It is possible the frogs strike with the same force and this observed difference was by chance. You will compute the probability of getting at least a 0.29 N difference in mean strike force under the hypothesis that the distributions of strike forces for the two frogs are identical. We use a permutation test with a test statistic of the difference of means to test this hypothesis.\n",
    "\n",
    "For your convenience, the data has been stored in the arrays force_a and force_b.\n",
    "\n",
    "Instructions\n",
    "- Define a function with call signature diff_of_means(data_1, data_2) that returns the differences in means between two data sets, mean of data_1 minus mean of data_2.\n",
    "- Use this function to compute the empirical difference of means that was observed in the frogs.\n",
    "- Draw 10,000 permutation replicates of the difference of means.\n",
    "- Compute the p-value.\n",
    "- Print the p-value.\n",
    "\n",
    "Hint\n",
    "- Use np.mean() to calculate the difference between the mean of data_1 and the mean of data_2, and store the result in diff.\n",
    "- The arrays force_a and force_b contain the data from the the experiment. Use these in place of data_1 and data_2 in the diff_of_means() function you just defined.\n",
    "- Use the function draw_perm_reps() to draw the desired number of permutation replicates. func here is diff_of_means, while the two data arrays are force_a and force_b.\n",
    "- To compute the p-value, you need to calculate the number of perm_replicates that were >= the empirical_diff_means. You can use the provided np.sum() for this purpose. The result of this is then divided by the total number of permutation replicates (len(perm_replicates))."
   ]
  },
  {
   "cell_type": "code",
   "execution_count": 69,
   "metadata": {
    "ExecuteTime": {
     "end_time": "2021-03-10T00:21:48.648984Z",
     "start_time": "2021-03-10T00:21:48.349994Z"
    }
   },
   "outputs": [
    {
     "name": "stdout",
     "output_type": "stream",
     "text": [
      "p-value = 0.0056\n"
     ]
    }
   ],
   "source": [
    "force_a = np.array([\n",
    "    1.612, 0.605, 0.327, 0.946, 0.541, 1.539, 0.529, 0.628, 1.453, 0.297,\n",
    "    0.703, 0.269, 0.751, 0.245, 1.182, 0.515, 0.435, 0.383, 0.457, 0.73\n",
    "])\n",
    "force_b = np.array([\n",
    "    0.172, 0.142, 0.037, 0.453, 0.355, 0.022, 0.502, 0.273, 0.72, 0.582, 0.198,\n",
    "    0.198, 0.597, 0.516, 0.815, 0.402, 0.605, 0.711, 0.614, 0.468\n",
    "])\n",
    "\n",
    "\n",
    "def diff_of_means(data_1, data_2):\n",
    "    \"\"\"Difference in means of two arrays.\"\"\"\n",
    "\n",
    "    # The difference of means of data_1, data_2: diff\n",
    "    diff = np.mean(data_1) - np.mean(data_2)\n",
    "\n",
    "    return diff\n",
    "\n",
    "\n",
    "# Compute difference of mean impact force from experiment: empirical_diff_means\n",
    "empirical_diff_means = diff_of_means(force_a, force_b)\n",
    "\n",
    "# Draw 10,000 permutation replicates: perm_replicates\n",
    "perm_replicates = draw_perm_reps(force_a, force_b, diff_of_means, size=10000)\n",
    "\n",
    "# Compute p-value: p\n",
    "p = np.sum(perm_replicates >= empirical_diff_means) / len(perm_replicates)\n",
    "\n",
    "# Print the result\n",
    "print('p-value =', p)"
   ]
  },
  {
   "cell_type": "markdown",
   "metadata": {},
   "source": [
    "The p-value tells you that there is about a 0.6% chance that you would get the difference of means observed in the experiment if frogs were exactly the same. A p-value below 0.01 is typically said to be \"statistically significant,\" but: warning! warning! warning! You have computed a p-value; it is a number. I encourage you not to distill it to a yes-or-no phrase. p = 0.006 and p = 0.000000006 are both said to be \"statistically significant,\" but they are definitely not the same!"
   ]
  },
  {
   "cell_type": "markdown",
   "metadata": {},
   "source": [
    "### Bootstrap hypothesis tests"
   ]
  },
  {
   "cell_type": "code",
   "execution_count": null,
   "metadata": {},
   "outputs": [],
   "source": []
  },
  {
   "cell_type": "markdown",
   "metadata": {
    "heading_collapsed": true
   },
   "source": [
    "## Hypothesis test examples"
   ]
  },
  {
   "cell_type": "markdown",
   "metadata": {
    "heading_collapsed": true
   },
   "source": [
    "## Putting it all together: a case study"
   ]
  }
 ],
 "metadata": {
  "hide_input": false,
  "kernelspec": {
   "display_name": "Python 3",
   "language": "python",
   "name": "python3"
  },
  "language_info": {
   "codemirror_mode": {
    "name": "ipython",
    "version": 3
   },
   "file_extension": ".py",
   "mimetype": "text/x-python",
   "name": "python",
   "nbconvert_exporter": "python",
   "pygments_lexer": "ipython3",
   "version": "3.7.6"
  },
  "latex_envs": {
   "LaTeX_envs_menu_present": true,
   "autoclose": false,
   "autocomplete": true,
   "bibliofile": "biblio.bib",
   "cite_by": "apalike",
   "current_citInitial": 1,
   "eqLabelWithNumbers": true,
   "eqNumInitial": 1,
   "hotkeys": {
    "equation": "Ctrl-E",
    "itemize": "Ctrl-I"
   },
   "labels_anchors": false,
   "latex_user_defs": false,
   "report_style_numbering": false,
   "user_envs_cfg": false
  },
  "toc": {
   "base_numbering": 1,
   "nav_menu": {},
   "number_sections": true,
   "sideBar": true,
   "skip_h1_title": false,
   "title_cell": "Table of Contents",
   "title_sidebar": "Contents",
   "toc_cell": false,
   "toc_position": {},
   "toc_section_display": true,
   "toc_window_display": true
  },
  "varInspector": {
   "cols": {
    "lenName": 16,
    "lenType": 16,
    "lenVar": 40
   },
   "kernels_config": {
    "python": {
     "delete_cmd_postfix": "",
     "delete_cmd_prefix": "del ",
     "library": "var_list.py",
     "varRefreshCmd": "print(var_dic_list())"
    },
    "r": {
     "delete_cmd_postfix": ") ",
     "delete_cmd_prefix": "rm(",
     "library": "var_list.r",
     "varRefreshCmd": "cat(var_dic_list()) "
    }
   },
   "types_to_exclude": [
    "module",
    "function",
    "builtin_function_or_method",
    "instance",
    "_Feature"
   ],
   "window_display": false
  }
 },
 "nbformat": 4,
 "nbformat_minor": 4
}
