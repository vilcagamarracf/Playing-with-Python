{
 "cells": [
  {
   "cell_type": "markdown",
   "metadata": {},
   "source": [
    "# Interactive Data Visualization with Bokeh\n"
   ]
  },
  {
   "cell_type": "markdown",
   "metadata": {
    "heading_collapsed": true
   },
   "source": [
    "## Basic plotting with Bokeh"
   ]
  },
  {
   "cell_type": "markdown",
   "metadata": {
    "hidden": true
   },
   "source": [
    "**What are glyphs?**\n",
    "\n",
    "In Bokeh, visual properties of shapes are called glyphs. The visual properties of these glyphs such as position or color can be assigned single values, for example x=10 or fill_color='red'.\n",
    "\n",
    "What other kinds of values can glyph properties be set to in normal usage?\n",
    "\n",
    "Answer the question\n",
    "- Dictionaries\n",
    "- **Sequences (lists, arrays)**\n",
    "- Sets\n",
    "\n",
    "Correct. Multiple glyphs can be drawn by setting glyph properties to ordered sequences of values.\n",
    "\n",
    "\n"
   ]
  },
  {
   "cell_type": "markdown",
   "metadata": {
    "hidden": true
   },
   "source": [
    "**A simple scatter plot**\n",
    "\n",
    "In this example, you're going to make a scatter plot of female literacy vs fertility using data from the European Environmental Agency. This dataset highlights that countries with low female literacy have high birthrates. The x-axis data has been loaded for you as fertility and the y-axis data has been loaded as female_literacy.\n",
    "\n",
    "Your job is to create a figure, assign x-axis and y-axis labels, and plot female_literacy vs fertility using the circle glyph.\n",
    "\n",
    "After you have created the figure, in this exercise and the ones to follow, play around with it! Explore the different options available to you on the tab to the right, such as \"Pan\", \"Box Zoom\", and \"Wheel Zoom\". You can click on the question mark sign for more details on any of these tools.\n",
    "\n",
    "Note: You may have to scroll down to view the lower portion of the figure.\n",
    "\n",
    "Instructions\n",
    "- Import the figure function from bokeh.plotting, and the output_file and show functions from bokeh.io.\n",
    "- Create the figure p with figure(). It has two parameters: x_axis_label and y_axis_label.\n",
    "- Add a circle glyph to the figure p using the function p.circle() where the inputs are, in order, the x-axis data and y-axis data.\n",
    "- Use the output_file() function to specify the name 'fert_lit.html' for the output file.\n",
    "- Create and display the output file using show() and passing in the figure p.\n",
    "\n",
    "Hint\n",
    "- You can import x from y using the command from y import x.\n",
    "- Create the figure p with figure(). The arguments for the axis labels are provided for you. You need to specify the parameters x_axis_label and y_axis_label.\n",
    "- The x-axis data here is fertility and the y-axis data is female_literacy. These are the two arguments that need to be passed into p.circle() to add a circle glyph to the figure p.\n",
    "- Pass in 'fert_lit.html' as an argument to the output_file() function to specify a name for the file.\n",
    "- You can create and display the output file using the function show() with the figure p as the argument."
   ]
  },
  {
   "cell_type": "code",
   "execution_count": 19,
   "metadata": {
    "ExecuteTime": {
     "end_time": "2021-03-11T22:40:21.959208Z",
     "start_time": "2021-03-11T22:40:21.901360Z"
    },
    "hidden": true,
    "scrolled": true
   },
   "outputs": [
    {
     "data": {
      "text/html": [
       "<div>\n",
       "<style scoped>\n",
       "    .dataframe tbody tr th:only-of-type {\n",
       "        vertical-align: middle;\n",
       "    }\n",
       "\n",
       "    .dataframe tbody tr th {\n",
       "        vertical-align: top;\n",
       "    }\n",
       "\n",
       "    .dataframe thead th {\n",
       "        text-align: right;\n",
       "    }\n",
       "</style>\n",
       "<table border=\"1\" class=\"dataframe\">\n",
       "  <thead>\n",
       "    <tr style=\"text-align: right;\">\n",
       "      <th></th>\n",
       "      <th>Country</th>\n",
       "      <th>Continent</th>\n",
       "      <th>female literacy</th>\n",
       "      <th>fertility</th>\n",
       "      <th>population</th>\n",
       "    </tr>\n",
       "  </thead>\n",
       "  <tbody>\n",
       "    <tr>\n",
       "      <th>0</th>\n",
       "      <td>Chine</td>\n",
       "      <td>ASI</td>\n",
       "      <td>90.5</td>\n",
       "      <td>1.769</td>\n",
       "      <td>1.324655e+09</td>\n",
       "    </tr>\n",
       "    <tr>\n",
       "      <th>1</th>\n",
       "      <td>Inde</td>\n",
       "      <td>ASI</td>\n",
       "      <td>50.8</td>\n",
       "      <td>2.682</td>\n",
       "      <td>1.139965e+09</td>\n",
       "    </tr>\n",
       "    <tr>\n",
       "      <th>2</th>\n",
       "      <td>USA</td>\n",
       "      <td>NAM</td>\n",
       "      <td>99</td>\n",
       "      <td>2.077</td>\n",
       "      <td>3.040600e+08</td>\n",
       "    </tr>\n",
       "    <tr>\n",
       "      <th>3</th>\n",
       "      <td>Indonésie</td>\n",
       "      <td>ASI</td>\n",
       "      <td>88.8</td>\n",
       "      <td>2.132</td>\n",
       "      <td>2.273451e+08</td>\n",
       "    </tr>\n",
       "    <tr>\n",
       "      <th>4</th>\n",
       "      <td>Brésil</td>\n",
       "      <td>LAT</td>\n",
       "      <td>90.2</td>\n",
       "      <td>1.827</td>\n",
       "      <td>1.919715e+08</td>\n",
       "    </tr>\n",
       "    <tr>\n",
       "      <th>...</th>\n",
       "      <td>...</td>\n",
       "      <td>...</td>\n",
       "      <td>...</td>\n",
       "      <td>...</td>\n",
       "      <td>...</td>\n",
       "    </tr>\n",
       "    <tr>\n",
       "      <th>177</th>\n",
       "      <td>Antilles néerlandaises</td>\n",
       "      <td>NaN</td>\n",
       "      <td>96.3</td>\n",
       "      <td>NaN</td>\n",
       "      <td>NaN</td>\n",
       "    </tr>\n",
       "    <tr>\n",
       "      <th>178</th>\n",
       "      <td>Iles Caïmanes</td>\n",
       "      <td>NaN</td>\n",
       "      <td>99</td>\n",
       "      <td>NaN</td>\n",
       "      <td>NaN</td>\n",
       "    </tr>\n",
       "    <tr>\n",
       "      <th>179</th>\n",
       "      <td>Seychelles</td>\n",
       "      <td>NaN</td>\n",
       "      <td>92.3</td>\n",
       "      <td>NaN</td>\n",
       "      <td>NaN</td>\n",
       "    </tr>\n",
       "    <tr>\n",
       "      <th>180</th>\n",
       "      <td>Territoires autonomes palestiniens</td>\n",
       "      <td>NaN</td>\n",
       "      <td>90.9</td>\n",
       "      <td>NaN</td>\n",
       "      <td>NaN</td>\n",
       "    </tr>\n",
       "    <tr>\n",
       "      <th>181</th>\n",
       "      <td>WORLD</td>\n",
       "      <td>WORLD</td>\n",
       "      <td>77</td>\n",
       "      <td>NaN</td>\n",
       "      <td>NaN</td>\n",
       "    </tr>\n",
       "  </tbody>\n",
       "</table>\n",
       "<p>182 rows × 5 columns</p>\n",
       "</div>"
      ],
      "text/plain": [
       "                               Country  Continent female literacy fertility    population\n",
       "0                                 Chine       ASI            90.5     1.769  1.324655e+09\n",
       "1                                  Inde       ASI            50.8     2.682  1.139965e+09\n",
       "2                                   USA       NAM              99     2.077  3.040600e+08\n",
       "3                             Indonésie       ASI            88.8     2.132  2.273451e+08\n",
       "4                                Brésil       LAT            90.2     1.827  1.919715e+08\n",
       "..                                  ...       ...             ...       ...           ...\n",
       "177              Antilles néerlandaises       NaN            96.3       NaN           NaN\n",
       "178                       Iles Caïmanes       NaN              99       NaN           NaN\n",
       "179                          Seychelles       NaN            92.3       NaN           NaN\n",
       "180  Territoires autonomes palestiniens       NaN            90.9       NaN           NaN\n",
       "181                               WORLD     WORLD              77       NaN           NaN\n",
       "\n",
       "[182 rows x 5 columns]"
      ]
     },
     "execution_count": 19,
     "metadata": {},
     "output_type": "execute_result"
    }
   ],
   "source": [
    "import pandas as pd\n",
    "\n",
    "df = pd.read_csv('data/04b-literacy_birth_rate.csv')\n",
    "df"
   ]
  },
  {
   "cell_type": "code",
   "execution_count": 20,
   "metadata": {
    "ExecuteTime": {
     "end_time": "2021-03-11T22:40:26.192701Z",
     "start_time": "2021-03-11T22:40:26.130866Z"
    },
    "hidden": true
   },
   "outputs": [],
   "source": [
    "fertility = [\n",
    "    1.7690000000000001, 2.682, 2.077, 2.1319999999999997, 1.827, 3.872,\n",
    "    2.2880000000000003, 5.172999999999999, 1.393, 1.262, 2.156,\n",
    "    3.0260000000000002, 2.033, 1.324, 2.8160000000000003, 5.211, 2.1, 1.781,\n",
    "    1.8219999999999998, 5.9079999999999995, 1.881, 1.8519999999999999, 1.39,\n",
    "    2.281, 2.505, 1.224, 1.361, 1.4680000000000002, 2.404, 5.52, 4.058,\n",
    "    2.2230000000000003, 4.859, 1.2670000000000001, 2.342, 1.579, 6.254, 2.334,\n",
    "    3.9610000000000003, 6.505, 2.53, 2.823, 2.498, 2.248, 2.508, 3.04, 1.854,\n",
    "    4.22, 5.1, 4.967, 1.325, 4.513999999999999, 3.173, 2.3080000000000003,\n",
    "    4.62, 4.541, 5.6370000000000005, 1.926, 1.7469999999999999, 2.294, 5.841,\n",
    "    5.455, 7.069, 2.859, 4.018, 2.513, 5.405, 5.737, 3.363, 4.89, 1.385, 1.505,\n",
    "    6.081, 1.784, 1.3780000000000001, 1.45, 1.841, 1.37, 2.612, 5.329, 5.33,\n",
    "    3.3710000000000004, 1.281, 1.871, 2.153, 5.377999999999999, 4.45, 1.46,\n",
    "    1.436, 1.6119999999999999, 3.19, 2.752, 3.35, 4.01, 4.166, 2.642, 2.977,\n",
    "    3.415, 2.295, 3.0189999999999997, 2.6830000000000003, 5.165, 1.849,\n",
    "    1.8359999999999999, 2.5180000000000002, 2.43, 4.5280000000000005, 1.263,\n",
    "    1.885, 1.943, 1.899, 1.442, 1.953, 4.697, 1.5819999999999999, 2.025, 1.841,\n",
    "    5.011, 1.212, 1.5019999999999998, 2.516, 1.367, 2.089, 4.388, 1.854,\n",
    "    1.7480000000000002, 2.978, 2.1519999999999997, 2.362, 1.9880000000000002,\n",
    "    1.426, 3.29, 3.264, 1.436, 1.393, 2.822, 4.968999999999999, 5.659, 3.24,\n",
    "    1.693, 1.6469999999999998, 2.36, 1.7919999999999998, 3.45, 1.516, 2.233,\n",
    "    2.563, 5.2829999999999995, 3.885, 0.966, 2.373, 2.6630000000000003, 1.251,\n",
    "    2.052, 3.3710000000000004, 2.093, 2.0, 3.883, 3.852, 3.718, 1.732, 3.928\n",
    "]\n",
    "\n",
    "female_literacy = [\n",
    "    90.5, 50.8, 99.0, 88.8, 90.2, 40.0, 49.8, 48.8, 99.4, 99.0, 91.5, 93.9,\n",
    "    90.2, 99.0, 57.8, 22.8, 81.3, 77.2, 91.5, 56.1, 99.0, 99.0, 98.5, 89.2,\n",
    "    88.1, 96.6, 99.6, 96.9, 93.4, 66.3, 59.6, 97.7, 82.8, 99.3, 63.9, 99.0,\n",
    "    66.8, 44.1, 69.2, 12.6, 84.6, 45.4, 94.9, 98.9, 89.8, 80.2, 100.0, 59.3,\n",
    "    42.8, 40.1, 96.9, 44.3, 77.2, 89.1, 65.3, 67.8, 57.0, 98.7, 99.0, 99.5,\n",
    "    21.6, 65.8, 15.1, 70.9, 68.7, 81.7, 18.2, 61.0, 88.8, 33.0, 95.9, 99.8,\n",
    "    21.9, 99.0, 92.9, 99.0, 71.0, 98.9, 88.3, 26.4, 66.1, 86.0, 99.7, 99.0,\n",
    "    99.2, 28.1, 59.9, 99.0, 97.9, 96.2, 83.5, 95.9, 99.5, 55.6, 53.7, 81.3,\n",
    "    93.5, 63.2, 81.4, 88.9, 77.9, 28.9, 99.0, 100.0, 99.1, 99.3, 54.5, 91.6,\n",
    "    100.0, 96.2, 91.5, 98.0, 99.0, 41.1, 99.7, 99.0, 86.0, 53.0, 95.9, 97.8,\n",
    "    92.8, 99.7, 98.5, 49.5, 98.7, 99.4, 80.9, 93.1, 90.8, 97.8, 99.8, 87.7,\n",
    "    95.1, 95.4, 99.7, 83.5, 34.3, 36.5, 83.2, 99.8, 98.2, 90.4, 84.8, 85.6,\n",
    "    96.7, 89.4, 38.7, 89.1, 67.8, 90.7, 88.4, 79.3, 93.5, 93.3, 96.5, 99.0,\n",
    "    98.4, 79.5, 98.5, 83.3, 98.0, 99.1\n",
    "]"
   ]
  },
  {
   "cell_type": "code",
   "execution_count": 21,
   "metadata": {
    "ExecuteTime": {
     "end_time": "2021-03-11T22:40:29.042250Z",
     "start_time": "2021-03-11T22:40:28.367661Z"
    },
    "hidden": true
   },
   "outputs": [],
   "source": [
    "# Import figure from bokeh.plotting\n",
    "from bokeh.plotting import figure\n",
    "\n",
    "# Import output_file and show from bokeh.io\n",
    "from bokeh.io import output_file, show\n",
    "\n",
    "# Create the figure: p\n",
    "p = figure(x_axis_label='fertility (children per woman)', y_axis_label='female_literacy (% population)')\n",
    "\n",
    "# Add a circle glyph to the figure p\n",
    "p.circle(fertility, female_literacy)\n",
    "\n",
    "# Call the output_file() function and specify the name of the file\n",
    "output_file('fert_lit.html')\n",
    "\n",
    "# Display the plot\n",
    "show(p)"
   ]
  },
  {
   "cell_type": "markdown",
   "metadata": {
    "hidden": true
   },
   "source": [
    "Great work! Be sure to experiment with the panning and zooming options Bokeh provides."
   ]
  },
  {
   "cell_type": "markdown",
   "metadata": {
    "hidden": true
   },
   "source": [
    "**A scatter plot with different shapes**\n",
    "\n",
    "By calling multiple glyph functions on the same figure object, we can overlay multiple data sets in the same figure.\n",
    "\n",
    "In this exercise, you will plot female literacy vs fertility for two different regions, Africa and Latin America. Each set of x and y data has been loaded separately for you as fertility_africa, female_literacy_africa, fertility_latinamerica, and female_literacy_latinamerica.\n",
    "\n",
    "Your job is to plot the Latin America data with the circle() glyph, and the Africa data with the x() glyph.\n",
    "\n",
    "figure has already been imported for you from bokeh.plotting.\n",
    "\n",
    "Instructions\n",
    "- Create the figure p with the figure() function. It has two parameters: x_axis_label and y_axis_label.\n",
    "- Add a circle glyph to the figure p using the function p.circle() where the inputs are the x and y data from Latin America: fertility_latinamerica and female_literacy_latinamerica.\n",
    "- Add an x glyph to the figure p using the function p.x() where the inputs are the x and y data from Africa: fertility_africa and female_literacy_africa.\n",
    "- The code to create, display, and specify the name of the output file has been written for you, so after adding the x glyph, hit 'Submit Answer' to view the figure.\n",
    "\n",
    "Hint\n",
    "- Create the figure p with figure() and pass into it x_axis_label='fertility (children per woman)' and y_axis_label='female_literacy (% population)' parameters.\n",
    "- The x-axis data here is fertility_latinamerica and the y-axis data is female_literacy_latinamerica. These are the two arguments that need to be passed into p.circle() to add a circle glyph to the figure p.\n",
    "- The x-axis data here is fertility_africa and the y-axis data is female_literacy_africa. These are the two arguments that need to be passed into p.x() to add an x glyph to the figure p."
   ]
  },
  {
   "cell_type": "code",
   "execution_count": 6,
   "metadata": {
    "ExecuteTime": {
     "end_time": "2021-03-10T23:45:39.723837Z",
     "start_time": "2021-03-10T23:45:38.882125Z"
    },
    "hidden": true
   },
   "outputs": [],
   "source": [
    "fertility_latinamerica = [\n",
    "    1.827, 2.156, 2.404, 2.2230000000000003, 2.53, 2.498, 1.926, 4.018, 2.513,\n",
    "    1.505, 2.612, 3.3710000000000004, 3.19, 2.977, 2.295, 2.6830000000000003,\n",
    "    1.943, 2.516, 2.089, 2.362, 1.6469999999999998, 2.373, 3.3710000000000004,\n",
    "    1.732\n",
    "]\n",
    "\n",
    "female_literacy_latinamerica = [\n",
    "    90.2, 91.5, 93.4, 97.7, 84.6, 94.9, 98.7, 68.7, 81.7, 99.8, 88.3, 86.0,\n",
    "    83.5, 93.5, 81.4, 77.9, 96.2, 92.8, 98.5, 90.8, 98.2, 88.4, 96.5, 98.0\n",
    "]\n",
    "\n",
    "fertility_africa = [\n",
    "    5.172999999999999, 2.8160000000000003, 5.211, 5.9079999999999995, 2.505,\n",
    "    5.52, 4.058, 4.859, 2.342, 6.254, 2.334, 4.22, 4.967, 4.513999999999999,\n",
    "    4.62, 4.541, 5.6370000000000005, 5.841, 5.455, 7.069, 5.405, 5.737, 3.363,\n",
    "    4.89, 6.081, 1.841, 5.329, 5.33, 5.377999999999999, 4.45, 4.166, 2.642,\n",
    "    5.165, 4.5280000000000005, 4.697, 5.011, 4.388, 3.29, 3.264, 2.822,\n",
    "    4.968999999999999, 5.659, 3.24, 1.7919999999999998, 3.45,\n",
    "    5.2829999999999995, 3.885, 2.6630000000000003, 3.718\n",
    "]\n",
    "\n",
    "female_literacy_africa = [\n",
    "    48.8, 57.8, 22.8, 56.1, 88.1, 66.3, 59.6, 82.8, 63.9, 66.8, 44.1, 59.3,\n",
    "    40.1, 44.3, 65.3, 67.8, 57.0, 21.6, 65.8, 15.1, 18.2, 61.0, 88.8, 33.0,\n",
    "    21.9, 71.0, 26.4, 66.1, 28.1, 59.9, 53.7, 81.3, 28.9, 54.5, 41.1, 53.0,\n",
    "    49.5, 87.7, 95.1, 83.5, 34.3, 36.5, 83.2, 84.8, 85.6, 89.1, 67.8, 79.3,\n",
    "    83.3\n",
    "]\n",
    "\n",
    "# Create the figure: p\n",
    "p = figure(x_axis_label='fertility (children per woman)', y_axis_label='female_literacy (% population)')\n",
    "\n",
    "# Add a circle glyph to the figure p\n",
    "p.circle(fertility_latinamerica, female_literacy_latinamerica)\n",
    "\n",
    "# Add an x glyph to the figure p\n",
    "p.x(fertility_africa, female_literacy_africa)\n",
    "\n",
    "# Specify the name of the file\n",
    "output_file('fert_lit_separate.html')\n",
    "\n",
    "# Display the plot\n",
    "show(p)"
   ]
  },
  {
   "cell_type": "markdown",
   "metadata": {
    "hidden": true
   },
   "source": [
    "Great work! As you have seen, it is quite straightforward to add multiple glyph functions to the same Bokeh figure object."
   ]
  },
  {
   "cell_type": "markdown",
   "metadata": {
    "hidden": true
   },
   "source": [
    "**Customizing your scatter plots**\n",
    "\n",
    "The three most important arguments to customize scatter glyphs are color, size, and alpha. Bokeh accepts colors as hexadecimal strings, tuples of RGB values between 0 and 255, and any of the 147 CSS color names. Size values are supplied in screen space units with 100 meaning the size of the entire figure.\n",
    "\n",
    "The alpha parameter controls transparency. It takes in floating point numbers between 0.0, meaning completely transparent, and 1.0, meaning completely opaque.\n",
    "\n",
    "In this exercise, you'll plot female literacy vs fertility for Africa and Latin America as red and blue circle glyphs, respectively.\n",
    "\n",
    "Instructions\n",
    "- Using the Latin America data (fertility_latinamerica and female_literacy_latinamerica), add a blue circle glyph of size=10 and alpha=0.8 to the figure p. To do this, you will need to specify the color, size and alpha keyword arguments inside p.circle().\n",
    "- Using the Africa data (fertility_africa and female_literacy_africa), add a red circle glyph of size=10 and alpha=0.8 to the figure p.\n",
    "\n",
    "Hint\n",
    "- Add the first circle glyph to the figure p using the function p.circle() with the inputs fertility_latinamerica, female_literacy_latinamerica, color='blue', size=10 and alpha=0.8.\n",
    "- Add the second circle glyph to the figure p using the function p.circle() with the inputs fertility_africa, female_literacy_africa, color='red', size=10 and alpha=0.8."
   ]
  },
  {
   "cell_type": "code",
   "execution_count": 7,
   "metadata": {
    "ExecuteTime": {
     "end_time": "2021-03-11T00:01:50.691707Z",
     "start_time": "2021-03-11T00:01:47.990679Z"
    },
    "hidden": true
   },
   "outputs": [],
   "source": [
    "# Create the figure: p\n",
    "p = figure(x_axis_label='fertility (children per woman)', y_axis_label='female_literacy (% population)')\n",
    "\n",
    "# Add a blue circle glyph to the figure p\n",
    "p.circle(fertility_latinamerica, female_literacy_latinamerica, color='blue', size=10, alpha=0.8)\n",
    "\n",
    "# Add a red circle glyph to the figure p\n",
    "p.circle(fertility_africa, female_literacy_africa, color='red', size=10, alpha=0.8)\n",
    "\n",
    "# Specify the name of the file\n",
    "output_file('fert_lit_separate_colors.html')\n",
    "\n",
    "# Display the plot\n",
    "show(p)"
   ]
  },
  {
   "cell_type": "markdown",
   "metadata": {
    "hidden": true
   },
   "source": [
    "Great work! You can use these parameters to get really creative with the way you customize your scatter plots."
   ]
  },
  {
   "cell_type": "markdown",
   "metadata": {
    "hidden": true
   },
   "source": [
    "**Lines**\n",
    "\n",
    "We can draw lines on Bokeh plots with the line() glyph function.\n",
    "\n",
    "In this exercise, you'll plot the daily adjusted closing price of Apple Inc.'s stock (AAPL) from 2000 to 2013.\n",
    "\n",
    "The data points are provided for you as lists. date is a list of datetime objects to plot on the x-axis and price is a list of prices to plot on the y-axis.\n",
    "\n",
    "Since we are plotting dates on the x-axis, you must add x_axis_type='datetime' when creating the figure object.\n",
    "\n",
    "Instructions\n",
    "- Import the figure function from bokeh.plotting.\n",
    "- Create a figure p using the figure() function with x_axis_type set to 'datetime'. The other two parameters are x_axis_label and y_axis_label.\n",
    "- Plot date and price along the x- and y-axes using p.line().\n",
    "\n",
    "Hint\n",
    "- You can import x from y using the command from y import x.\n",
    "- Create a figure p using figure() with x_axis_type set to 'datetime', x_axis_label set to 'date' and y_axis_label set to 'US Dollars'.\n",
    "- You can use p.line() to plot date and price along x and y axes."
   ]
  },
  {
   "cell_type": "code",
   "execution_count": 16,
   "metadata": {
    "ExecuteTime": {
     "end_time": "2021-03-11T00:14:27.832578Z",
     "start_time": "2021-03-11T00:14:27.815623Z"
    },
    "hidden": true
   },
   "outputs": [],
   "source": [
    "df = pd.read_csv('data/04-aapl.csv')\n",
    "df.date = pd.to_datetime(df.date)\n",
    "date = df['date'] \n",
    "price = df['adj_close']"
   ]
  },
  {
   "cell_type": "code",
   "execution_count": 18,
   "metadata": {
    "ExecuteTime": {
     "end_time": "2021-03-11T00:14:49.127286Z",
     "start_time": "2021-03-11T00:14:48.209580Z"
    },
    "hidden": true
   },
   "outputs": [],
   "source": [
    "# Import figure from bokeh.plotting\n",
    "from bokeh.plotting import figure\n",
    "\n",
    "# Create a figure with x_axis_type=\"datetime\": p\n",
    "p = figure(x_axis_type='datetime', x_axis_label='Date', y_axis_label='US Dollars')\n",
    "\n",
    "# Plot date along the x axis and price along the y axis\n",
    "p.line(date, price)\n",
    "\n",
    "# Specify the name of the output file and show the result\n",
    "output_file('04-line.html')\n",
    "show(p)"
   ]
  },
  {
   "cell_type": "markdown",
   "metadata": {
    "hidden": true
   },
   "source": [
    "Great work! In the next exercise you will use the same dataset to plot lines and markers together."
   ]
  },
  {
   "cell_type": "markdown",
   "metadata": {
    "hidden": true
   },
   "source": [
    "**Lines and markers**\n",
    "\n",
    "Lines and markers can be combined by plotting them separately using the same data points.\n",
    "\n",
    "In this exercise, you'll plot a line and circle glyph for the AAPL stock prices. Further, you'll adjust the fill_color keyword argument of the circle() glyph function while leaving the line_color at the default value.\n",
    "\n",
    "The date and price lists are provided. The Bokeh figure object p that you created in the previous exercise has also been provided.\n",
    "\n",
    "Instructions\n",
    "- Plot date along the x-axis and price along the y-axis with p.line().\n",
    "- With date on the x-axis and price on the y-axis, use p.circle() to add a 'white' circle glyph of size 4. To do this, you will need to specify the fill_color and size arguments.\n",
    "\n",
    "Hint\n",
    "- Use p.line() to plot date and price along the x and y axes.\n",
    "- Use p.circle() to plot date and price along the x and y axes and set fill_color='white' and size=4."
   ]
  },
  {
   "cell_type": "code",
   "execution_count": 27,
   "metadata": {
    "ExecuteTime": {
     "end_time": "2021-03-11T00:24:35.556600Z",
     "start_time": "2021-03-11T00:24:35.231383Z"
    },
    "hidden": true
   },
   "outputs": [],
   "source": [
    "# Import figure from bokeh.plotting\n",
    "from bokeh.plotting import figure\n",
    "\n",
    "# Create a figure with x_axis_type='datetime': p\n",
    "p = figure(x_axis_type='datetime', x_axis_label='Date', y_axis_label='US Dollars')\n",
    "\n",
    "# Plot date along the x-axis and price along the y-axis\n",
    "p.line(date[:101], price[:101])\n",
    "\n",
    "# With date on the x-axis and price on the y-axis, add a white circle glyph of size 4\n",
    "p.circle(date[:101], price[:101], fill_color='white', size=4)\n",
    "\n",
    "# Specify the name of the output file and show the result\n",
    "output_file('04-line.html')\n",
    "show(p)"
   ]
  },
  {
   "cell_type": "markdown",
   "metadata": {
    "hidden": true
   },
   "source": [
    "**Patches**\n",
    "\n",
    "In Bokeh, extended geometrical shapes can be plotted by using the patches() glyph function. The patches glyph takes as input a list-of-lists collection of numeric values specifying the vertices in x and y directions of each distinct patch to plot.\n",
    "\n",
    "In this exercise, you will plot the state borders of Arizona, Colorado, New Mexico and Utah. The latitude and longitude vertices for each state have been prepared as lists.\n",
    "\n",
    "Your job is to plot longitude on the x-axis and latitude on the y-axis. The figure object has been created for you as p.\n",
    "\n",
    "Instructions\n",
    "- Create a list of the longitude positions for each state as x. This has already been done for you.\n",
    "- Create a list of the latitude positions for each state as y. The variable names for the latitude positions are az_lats, co_lats, nm_lats, and ut_lats.\n",
    "- Use the .patches() method to add the patches glyph to the figure p. Supply the x and y lists as arguments along with a line_color of 'white'.\n",
    "\n",
    "Hint\n",
    "- The list of longitude positions has already been created for you.\n",
    "- For creating a list of the latitude positions, use the same format, substituting in latitude variable names az_lats, co_lats, nm_lats, and ut_lats.\n",
    "- To add patches, call p.patches(). Supply the x and y lists and line_color='white' as arguments."
   ]
  },
  {
   "cell_type": "code",
   "execution_count": null,
   "metadata": {
    "hidden": true
   },
   "outputs": [],
   "source": [
    "# Create a list of az_lons, co_lons, nm_lons and ut_lons: x\n",
    "x = [az_lons, co_lons, nm_lons, ut_lons]\n",
    "\n",
    "# Create a list of az_lats, co_lats, nm_lats and ut_lats: y\n",
    "y = [az_lats, co_lats, nm_lats, ut_lats]\n",
    "\n",
    "# Add patches to figure p with line_color=white for x and y\n",
    "p.patches(x, y, line_color='white')\n",
    "\n",
    "# Specify the name of the output file and show the result\n",
    "output_file('four_corners.html')\n",
    "show(p)"
   ]
  },
  {
   "cell_type": "markdown",
   "metadata": {
    "hidden": true
   },
   "source": [
    "**Plotting data from NumPy arrays**\n",
    "\n",
    "In the previous exercises, you made plots using data stored in lists. You learned that Bokeh can plot both numbers and datetime objects.\n",
    "\n",
    "In this exercise, you'll generate NumPy arrays using np.linspace() and np.cos() and plot them using the circle glyph.\n",
    "\n",
    "np.linspace() is a function that returns an array of evenly spaced numbers over a specified interval. For example, np.linspace(0, 10, 5) returns an array of 5 evenly spaced samples calculated over the interval [0, 10]. np.cos(x) calculates the element-wise cosine of some array x.\n",
    "\n",
    "For more information on NumPy functions, you can refer to the NumPy User Guide and NumPy Reference.\n",
    "\n",
    "The figure p has been provided for you.\n",
    "\n",
    "Instructions\n",
    "- Import numpy as np.\n",
    "- Create an array x using np.linspace() with 0, 5, and 100 as inputs.\n",
    "- Create an array y using np.cos() with x as input.\n",
    "- Add circles at x and y using p.circle().\n",
    "\n",
    "Hint\n",
    "- You can import a module using the import keyword followed by the module name and the desired alias. For example, you can import pandas as pd using the command import pandas as pd.\n",
    "- You can create the array x by passing in 0, 5, and 100 as arguments to np.linspace().\n",
    "- Pass in the array x you created above to np.cos() to create the new array y.\n",
    "- Pass in the two arrays you created above to p.circle() to plot them."
   ]
  },
  {
   "cell_type": "code",
   "execution_count": 36,
   "metadata": {
    "ExecuteTime": {
     "end_time": "2021-03-11T00:28:49.729622Z",
     "start_time": "2021-03-11T00:28:49.055748Z"
    },
    "hidden": true
   },
   "outputs": [],
   "source": [
    "# Import numpy as np\n",
    "import numpy as np\n",
    "\n",
    "# Create array using np.linspace: x\n",
    "x = np.linspace(0, 5, 100)\n",
    "\n",
    "# Create array using np.cos: y\n",
    "y = np.cos(x)\n",
    "\n",
    "# Add circles at x and y\n",
    "plot = figure()\n",
    "plot.circle(x, y)\n",
    "\n",
    "# Specify the name of the output file and show the result\n",
    "output_file('04numpy1.html')\n",
    "show(plot)"
   ]
  },
  {
   "cell_type": "code",
   "execution_count": 37,
   "metadata": {
    "ExecuteTime": {
     "end_time": "2021-03-11T00:29:15.268060Z",
     "start_time": "2021-03-11T00:29:14.200427Z"
    },
    "hidden": true
   },
   "outputs": [],
   "source": [
    "from bokeh.io import output_file, show\n",
    "from bokeh.plotting import figure\n",
    "import numpy as np\n",
    "x = np.linspace(0, 10, 1000)\n",
    "y = np.sin(x) + np.random.random(1000) * 0.2\n",
    "plot = figure()\n",
    "plot.line(x, y)\n",
    "output_file('04numpy2.html')\n",
    "show(plot)"
   ]
  },
  {
   "cell_type": "markdown",
   "metadata": {
    "hidden": true
   },
   "source": [
    "**Plotting data from Pandas DataFrames**\n",
    "\n",
    "You can create Bokeh plots from Pandas DataFrames by passing column selections to the glyph functions.\n",
    "\n",
    "Bokeh can plot floating point numbers, integers, and datetime data types. In this example, you will read a CSV file containing information on 392 automobiles manufactured in the US, Europe and Asia from 1970 to 1982.\n",
    "\n",
    "The CSV file is provided for you as 'auto.csv'.\n",
    "\n",
    "Your job is to plot miles-per-gallon (mpg) vs horsepower (hp) by passing Pandas column selections into the p.circle() function. Additionally, each glyph will be colored according to values in the color column.\n",
    "\n",
    "Instructions\n",
    "- Import pandas as pd.\n",
    "- Use the read_csv() function of pandas to read in 'auto.csv' and store it in the DataFrame df.\n",
    "- Import figure from bokeh.plotting.\n",
    "- Use the figure() function to create a figure p with the x-axis labeled 'HP' and the y-axis labeled 'MPG'.\n",
    "- Plot mpg (on the y-axis) vs hp (on the x-axis) by color using p.circle(). Note that the x-axis should be specified before the y-axis inside p.circle(). You will need to use Pandas DataFrame indexing to pass in the columns. For example, to access the color column, you can use df['color'], and then pass it in as an argument to the color parameter of p.circle(). Also specify a size of 10.\n",
    "\n",
    "Hint\n",
    "- You can import a module using the import keyword followed by the module name and the desired alias. For example, you can import numpy as np using the command import numpy as np.\n",
    "- You can read in 'auto.csv' by passing it in as an argument to pd.read_csv().\n",
    "- You can create p using the figure() function and specifying the x_axis_label and y_axis_label.\n",
    "- To create the plot, first access the columns using df['hp'], df['mpg'], and df['color']. Then, pass these in as arguments to p.circle(). Be sure to also specify size=10."
   ]
  },
  {
   "cell_type": "code",
   "execution_count": 36,
   "metadata": {
    "ExecuteTime": {
     "end_time": "2021-03-11T22:50:59.964110Z",
     "start_time": "2021-03-11T22:50:59.218051Z"
    },
    "hidden": true
   },
   "outputs": [],
   "source": [
    "# Import pandas as pd\n",
    "import pandas as pd\n",
    "\n",
    "# Read in the CSV file: df\n",
    "df = pd.read_csv('data/04b-auto-mpg.csv')\n",
    "\n",
    "# Import figure from bokeh.plotting\n",
    "from bokeh.plotting import figure\n",
    "\n",
    "# Create the figure: p\n",
    "p = figure(x_axis_label='HP', y_axis_label='MPG')\n",
    "\n",
    "# Plot mpg vs hp by color\n",
    "p.circle(df['hp'], df['mpg'], color=df['color'], size=10)\n",
    "\n",
    "# Specify the name of the output file and show the result\n",
    "output_file('auto-df.html')\n",
    "show(p)"
   ]
  },
  {
   "cell_type": "markdown",
   "metadata": {
    "hidden": true
   },
   "source": [
    "**The Bokeh ColumnDataSource**\n",
    "\n",
    "The ColumnDataSource is a table-like data object that maps string column names to sequences (columns) of data. It is the central and most common data structure in Bokeh.\n",
    "\n",
    "Which of the following statements about ColumnDataSource objects is true?\n",
    "\n",
    "Answer the question\n",
    "- **All columns in a ColumnDataSource must have the same length.**\n",
    "- ColumnDataSource objects cannot be shared between different plots.\n",
    "- ColumnDataSource objects are interchangeable with Pandas DataFrames.\n",
    "\n",
    "Hint\n",
    "- ColumnDataSource objects can be shared among as many different plots as is desired and while they are not interchangable with Pandas DataFrames, they can be created from DataFrames. But is it permitted for a ColumnDataSource object to have lengths of different columns? Recall the point Bryan made about this in the video.\n",
    "\n",
    "Correct. Ragged (different length) columns are not permitted within a single ColumnDataSource."
   ]
  },
  {
   "cell_type": "code",
   "execution_count": 46,
   "metadata": {
    "ExecuteTime": {
     "end_time": "2021-03-11T00:38:56.262358Z",
     "start_time": "2021-03-11T00:38:56.050320Z"
    },
    "hidden": true
   },
   "outputs": [],
   "source": [
    "df = pd.read_csv('data/04b-sprint.csv')\n",
    "\n",
    "# Import the ColumnDataSource class from bokeh.plotting\n",
    "from bokeh.plotting import ColumnDataSource\n",
    "\n",
    "# Create a ColumnDataSource: source\n",
    "source = ColumnDataSource(df)\n",
    "\n",
    "# Add circle glyphs to the figure p\n",
    "p = figure()\n",
    "p.circle(x='Year', y='Time', color='color', size=8, source=source)\n",
    "\n",
    "# Specify the name of the output file and show the result\n",
    "output_file('sprint.html')\n",
    "show(p)"
   ]
  },
  {
   "cell_type": "markdown",
   "metadata": {
    "hidden": true
   },
   "source": [
    "**Selection and non-selection glyphs**\n",
    "\n",
    "In this exercise, you're going to add the box_select tool to a figure and change the selected and non-selected circle glyph properties so that selected glyphs are red and non-selected glyphs are transparent blue.\n",
    "\n",
    "You'll use the ColumnDataSource object of the Olympic Sprint dataset you made in the last exercise. It is provided to you with the name source.\n",
    "\n",
    "After you have created the figure, be sure to experiment with the Box Select tool you added! As in previous exercises, you may have to scroll down to view the lower portion of the figure.\n",
    "\n",
    "Instructions\n",
    "- Create a figure p with an x-axis label of 'Year', y-axis label of 'Time', and the 'box_select' tool. To add the 'box_select' tool, you have to specify the keyword argument tools='box_select' inside the figure() function.\n",
    "- Now that you have added 'box_select' to p, add in circle glyphs with p.circle() such that the selected glyphs are red and non-selected glyphs are transparent blue. This can be done by specifying 'red' as the argument to selection_color and 0.1 to nonselection_alpha. Remember to also pass in the arguments for the x ('Year'), y ('Time'), and source parameters of p.circle().\n",
    "- Click 'Submit Answer' to output the file and show the figure.\n",
    "\n",
    "Hint\n",
    "- Create a figure p using the figure() function with x_axis_label='Year', y_axis_label='Time', and tools='box_select'.\n",
    "- Use p.circle() with x='Year', y='Time', source=source, selection_color='red' and nonselection_alpha=0.1."
   ]
  },
  {
   "cell_type": "code",
   "execution_count": 49,
   "metadata": {
    "ExecuteTime": {
     "end_time": "2021-03-11T00:42:45.606463Z",
     "start_time": "2021-03-11T00:42:44.843422Z"
    },
    "hidden": true
   },
   "outputs": [],
   "source": [
    "# Create a figure with the \"box_select\" tool: p\n",
    "p = figure(x_axis_label='Year', y_axis_label='Time', tools='box_select')\n",
    "source = ColumnDataSource(df)\n",
    "# Add circle glyphs to the figure p with the selected and non-selected properties\n",
    "p.circle(x='Year', y='Time', source=source, selection_color='red', nonselection_alpha=0.1)\n",
    "\n",
    "# Specify the name of the output file and show the result\n",
    "output_file('04-selection_glyph.html')\n",
    "show(p)"
   ]
  },
  {
   "cell_type": "markdown",
   "metadata": {
    "hidden": true
   },
   "source": [
    "**Hover glyphs**\n",
    "\n",
    "Now let's practice using and customizing the hover tool.\n",
    "\n",
    "In this exercise, you're going to plot the blood glucose levels for an unknown patient. The blood glucose levels were recorded every 5 minutes on October 7th starting at 3 minutes past midnight.\n",
    "\n",
    "The date and time of each measurement are provided to you as x and the blood glucose levels in mg/dL are provided as y.\n",
    "\n",
    "A bokeh figure is also provided in the workspace as p.\n",
    "\n",
    "Your job is to add a circle glyph that will appear red when the mouse is hovered near the data points. You will also add a customized hover tool object to the plot.\n",
    "\n",
    "When you're done, play around with the hover tool you just created! Notice how the points where your mouse hovers over turn red.\n",
    "\n",
    "Instructions\n",
    "- Import HoverTool from bokeh.models.\n",
    "- Add a circle glyph to the existing figure p for x and y with a size of 10, fill_color of 'grey', alpha of 0.1, line_color of None, hover_fill_color of 'firebrick', hover_alpha of 0.5, and hover_line_color of 'white'.\n",
    "- Use the HoverTool() function to create a HoverTool called hover with tooltips=None and mode='vline'.\n",
    "- Add the HoverTool hover to the figure p using the p.add_tools() function.\n",
    "\n",
    "Hint\n",
    "- You can import x from y using the command from y import x.\n",
    "- Use p.circle() with the arguments x, y, size=10, fill_color='grey', alpha=0.1, line_color=None, hover_fill_color='firebrick', hover_alpha=0.5, hover_line_color='white'.\n",
    "- Create the HoverTool hover using the HoverTool() function with tooltips=None, and mode='vline'.\n",
    "- Add the HoverTool hover to the figure p by passing it in as an argument to p.add_tools()."
   ]
  },
  {
   "cell_type": "code",
   "execution_count": 61,
   "metadata": {
    "ExecuteTime": {
     "end_time": "2021-03-11T00:48:01.859784Z",
     "start_time": "2021-03-11T00:48:01.740270Z"
    },
    "hidden": true
   },
   "outputs": [
    {
     "data": {
      "text/plain": [
       "0     2010-10-07 00:03:00\n",
       "1     2010-10-07 00:08:00\n",
       "2     2010-10-07 00:13:00\n",
       "3     2010-10-07 00:18:00\n",
       "4     2010-10-07 00:23:00\n",
       "              ...        \n",
       "283   2010-10-07 23:38:00\n",
       "284   2010-10-07 23:43:00\n",
       "285   2010-10-07 23:48:00\n",
       "286   2010-10-07 23:53:00\n",
       "287   2010-10-07 23:58:00\n",
       "Name: datetime, Length: 288, dtype: datetime64[ns]"
      ]
     },
     "execution_count": 61,
     "metadata": {},
     "output_type": "execute_result"
    }
   ],
   "source": [
    "df = pd.read_csv('data/04b-glucose.csv')\n",
    "\n",
    "df['datetime'] = pd.to_datetime(df['datetime'])\n",
    "x = df['datetime']\n",
    "y = df['glucose']\n",
    "\n",
    "x"
   ]
  },
  {
   "cell_type": "code",
   "execution_count": 64,
   "metadata": {
    "ExecuteTime": {
     "end_time": "2021-03-11T00:50:29.380856Z",
     "start_time": "2021-03-11T00:50:28.977691Z"
    },
    "hidden": true
   },
   "outputs": [],
   "source": [
    "# import the HoverTool\n",
    "from bokeh.models import HoverTool\n",
    "\n",
    "# p = figure()\n",
    "# Add a circle glyphs to figure p\n",
    "p.circle(x, y, size=10,\n",
    "         fill_color='grey', alpha=0.1, line_color=None,\n",
    "         hover_fill_color='firebrick', hover_alpha=0.5,\n",
    "         hover_line_color='white')\n",
    "\n",
    "# Create a HoverTool: hover\n",
    "hover = HoverTool(tooltips=None, mode='vline')\n",
    "\n",
    "# Add the hover tool to the figure p \n",
    "p.add_tools(hover)\n",
    "\n",
    "# Specify the name of the output file and show the result\n",
    "output_file('hover_glyph.html')\n",
    "show(p)"
   ]
  },
  {
   "cell_type": "markdown",
   "metadata": {
    "hidden": true
   },
   "source": [
    "**Colormapping**\n",
    "\n",
    "The final glyph customization we'll practice is using the CategoricalColorMapper to color each glyph by a categorical property.\n",
    "\n",
    "Here, you're going to use the automobile dataset to plot miles-per-gallon vs weight and color each circle glyph by the region where the automobile was manufactured.\n",
    "\n",
    "The origin column will be used in the ColorMapper to color automobiles manufactured in the US as blue, Europe as red and Asia as green.\n",
    "\n",
    "The automobile data set is provided to you as a Pandas DataFrame called df. The figure is provided for you as p.\n",
    "\n",
    "Instructions\n",
    "- Import CategoricalColorMapper from bokeh.models.\n",
    "- Convert the DataFrame df to a ColumnDataSource called source. This has already been done for you.\n",
    "- Make a CategoricalColorMapper object called color_mapper with the CategoricalColorMapper() function. It has two parameters here: factors and palette.\n",
    "- Add a circle glyph to the figure p to plot 'mpg' (on the y-axis) vs 'weight' (on the x-axis). Remember to pass in source and 'origin' as arguments to source and legend. For the color parameter, use dict(field='origin', transform=color_mapper).\n",
    "\n",
    "Hint\n",
    "- You can import x from y using from y import x.\n",
    "- You can create the ColumnDataSource object by passing in df to ColumnDataSource().\n",
    "- You can make the desired CategoricalColorMapper object by passing in factors=['Europe', 'Asia', 'US'] and palette=['red', 'green', 'blue'] as arguments to CategoricalColorMapper().\n",
    "- You can build the desired plot by passing in 'weight', 'mpg',source=source, color=dict(field='origin', transform=color_mapper), and legend='origin' to the p.circle() function."
   ]
  },
  {
   "cell_type": "code",
   "execution_count": 73,
   "metadata": {
    "ExecuteTime": {
     "end_time": "2021-03-11T00:55:43.155027Z",
     "start_time": "2021-03-11T00:55:41.671706Z"
    },
    "hidden": true
   },
   "outputs": [],
   "source": [
    "df = pd.read_csv('data/04b-auto-mpg.csv')\n",
    "\n",
    "#Import CategoricalColorMapper from bokeh.models\n",
    "from bokeh.models import CategoricalColorMapper\n",
    "\n",
    "# Convert df to a ColumnDataSource: source\n",
    "source = ColumnDataSource(df)\n",
    "\n",
    "# Make a CategoricalColorMapper object: color_mapper\n",
    "color_mapper = CategoricalColorMapper(factors=['Europe', 'Asia', 'US'],\n",
    "                                      palette=['red', 'green', 'blue'])\n",
    "p = figure()\n",
    "# Add a circle glyph to the figure p\n",
    "p.circle('weight', 'mpg', source=source,\n",
    "            color=dict(field='origin', transform=color_mapper),\n",
    "            legend_group='origin')\n",
    "\n",
    "# Specify the name of the output file and show the result\n",
    "output_file('colormap.html')\n",
    "show(p)"
   ]
  },
  {
   "cell_type": "markdown",
   "metadata": {
    "heading_collapsed": true
   },
   "source": [
    "## Layouts, Interactions, and Annotations"
   ]
  },
  {
   "cell_type": "markdown",
   "metadata": {
    "hidden": true
   },
   "source": [
    "Arranging multiple plots\n",
    "\n",
    "- Arrange plots (and controls) visually on a page.\n",
    "    - rows, columns\n",
    "    - grid arrangements\n",
    "    - tabbed layouts\n",
    "   "
   ]
  },
  {
   "cell_type": "markdown",
   "metadata": {
    "hidden": true
   },
   "source": [
    "**Creating rows of plots**\n",
    "\n",
    "Layouts are collections of Bokeh figure objects.\n",
    "\n",
    "In this exercise, you're going to create two plots from the Literacy and Birth Rate data set to plot fertility vs female literacy and population vs female literacy.\n",
    "\n",
    "By using the row() method, you'll create a single layout of the two figures.\n",
    "\n",
    "Remember, as in the previous chapter, once you have created your figures, you can interact with them in various ways.\n",
    "\n",
    "In this exercise, you may have to scroll sideways to view both figures in the row layout. Alternatively, you can view the figures in a new window by clicking on the expand icon to the right of the \"Bokeh plot\" tab.\n",
    "\n",
    "Instructions\n",
    "- Import row from the bokeh.layouts module.\n",
    "- Create a new figure p1 using the figure() function and specifying the two parameters x_axis_label and y_axis_label.\n",
    "- Add a circle glyph to p1. The x-axis data is 'fertility' and y-axis data is 'female_literacy'. Be sure to also specify source=source.\n",
    "- Create a new figure p2 using the figure() function and specifying the two parameters x_axis_label and y_axis_label.\n",
    "- Add a circle() glyph to p2, specifying the x and y parameters.\n",
    "- Put p1 and p2 into a horizontal layout using row().\n",
    "- Click 'Submit Answer' to output the file and show the figure.\n",
    "\n",
    "Hint\n",
    "- You can import x from y using the command from y import x.\n",
    "- You can create p1 using figure() with x_axis_label = 'fertility (children per woman)' and y_axis_label = 'female_literacy (% population)'.\n",
    "- To add a circle glyph to p1, use p1.circle() with 'fertility', 'female_literacy' and source=source as arguments.\n",
    "- You can create p2 using figure() with x_axis_label = 'population' and y_axis_label = 'female_literacy (% population)'.\n",
    "- To add a circle glyph to p2, use p2.circle() with 'population', 'female_literacy' and source=source as arguments.\n",
    "- You can put p1 and p2 into a horizontal layout using row()."
   ]
  },
  {
   "cell_type": "code",
   "execution_count": 51,
   "metadata": {
    "ExecuteTime": {
     "end_time": "2021-03-11T23:03:04.563628Z",
     "start_time": "2021-03-11T23:03:04.547672Z"
    },
    "hidden": true,
    "scrolled": false
   },
   "outputs": [],
   "source": [
    "import pandas as pd\n",
    "\n",
    "df = pd.read_csv('data/04b-literacy_birth_rate.csv')[:162]\n",
    "female_literacy = df['female literacy'].tolist()\n",
    "fertility = df['fertility'].tolist()\n",
    "population = df['population'].tolist()"
   ]
  },
  {
   "cell_type": "code",
   "execution_count": 61,
   "metadata": {
    "ExecuteTime": {
     "end_time": "2021-03-11T23:12:54.202195Z",
     "start_time": "2021-03-11T23:12:54.177249Z"
    },
    "hidden": true
   },
   "outputs": [
    {
     "data": {
      "text/html": [
       "<div>\n",
       "<style scoped>\n",
       "    .dataframe tbody tr th:only-of-type {\n",
       "        vertical-align: middle;\n",
       "    }\n",
       "\n",
       "    .dataframe tbody tr th {\n",
       "        vertical-align: top;\n",
       "    }\n",
       "\n",
       "    .dataframe thead th {\n",
       "        text-align: right;\n",
       "    }\n",
       "</style>\n",
       "<table border=\"1\" class=\"dataframe\">\n",
       "  <thead>\n",
       "    <tr style=\"text-align: right;\">\n",
       "      <th></th>\n",
       "      <th>Country</th>\n",
       "      <th>Continent</th>\n",
       "      <th>female literacy</th>\n",
       "      <th>fertility</th>\n",
       "      <th>population</th>\n",
       "    </tr>\n",
       "  </thead>\n",
       "  <tbody>\n",
       "    <tr>\n",
       "      <th>0</th>\n",
       "      <td>Chine</td>\n",
       "      <td>ASI</td>\n",
       "      <td>90.5</td>\n",
       "      <td>1.769</td>\n",
       "      <td>1.324655e+09</td>\n",
       "    </tr>\n",
       "    <tr>\n",
       "      <th>1</th>\n",
       "      <td>Inde</td>\n",
       "      <td>ASI</td>\n",
       "      <td>50.8</td>\n",
       "      <td>2.682</td>\n",
       "      <td>1.139965e+09</td>\n",
       "    </tr>\n",
       "    <tr>\n",
       "      <th>2</th>\n",
       "      <td>USA</td>\n",
       "      <td>NAM</td>\n",
       "      <td>99</td>\n",
       "      <td>2.077</td>\n",
       "      <td>3.040600e+08</td>\n",
       "    </tr>\n",
       "    <tr>\n",
       "      <th>3</th>\n",
       "      <td>Indonésie</td>\n",
       "      <td>ASI</td>\n",
       "      <td>88.8</td>\n",
       "      <td>2.132</td>\n",
       "      <td>2.273451e+08</td>\n",
       "    </tr>\n",
       "    <tr>\n",
       "      <th>4</th>\n",
       "      <td>Brésil</td>\n",
       "      <td>LAT</td>\n",
       "      <td>90.2</td>\n",
       "      <td>1.827</td>\n",
       "      <td>1.919715e+08</td>\n",
       "    </tr>\n",
       "    <tr>\n",
       "      <th>...</th>\n",
       "      <td>...</td>\n",
       "      <td>...</td>\n",
       "      <td>...</td>\n",
       "      <td>...</td>\n",
       "      <td>...</td>\n",
       "    </tr>\n",
       "    <tr>\n",
       "      <th>157</th>\n",
       "      <td>Vanuatu</td>\n",
       "      <td>OCE</td>\n",
       "      <td>79.5</td>\n",
       "      <td>3.883</td>\n",
       "      <td>2.338660e+05</td>\n",
       "    </tr>\n",
       "    <tr>\n",
       "      <th>158</th>\n",
       "      <td>Samoa</td>\n",
       "      <td>OCE</td>\n",
       "      <td>98.5</td>\n",
       "      <td>3.852</td>\n",
       "      <td>1.788690e+05</td>\n",
       "    </tr>\n",
       "    <tr>\n",
       "      <th>159</th>\n",
       "      <td>Sao Tomé-et-Principe</td>\n",
       "      <td>AF</td>\n",
       "      <td>83.3</td>\n",
       "      <td>3.718</td>\n",
       "      <td>1.601740e+05</td>\n",
       "    </tr>\n",
       "    <tr>\n",
       "      <th>160</th>\n",
       "      <td>Aruba</td>\n",
       "      <td>LAT</td>\n",
       "      <td>98</td>\n",
       "      <td>1.732</td>\n",
       "      <td>1.054550e+05</td>\n",
       "    </tr>\n",
       "    <tr>\n",
       "      <th>161</th>\n",
       "      <td>Tonga</td>\n",
       "      <td>ASI</td>\n",
       "      <td>99.1</td>\n",
       "      <td>3.928</td>\n",
       "      <td>1.035660e+05</td>\n",
       "    </tr>\n",
       "  </tbody>\n",
       "</table>\n",
       "<p>162 rows × 5 columns</p>\n",
       "</div>"
      ],
      "text/plain": [
       "                 Country  Continent female literacy fertility    population\n",
       "0                   Chine       ASI            90.5     1.769  1.324655e+09\n",
       "1                    Inde       ASI            50.8     2.682  1.139965e+09\n",
       "2                     USA       NAM              99     2.077  3.040600e+08\n",
       "3               Indonésie       ASI            88.8     2.132  2.273451e+08\n",
       "4                  Brésil       LAT            90.2     1.827  1.919715e+08\n",
       "..                    ...       ...             ...       ...           ...\n",
       "157               Vanuatu       OCE            79.5     3.883  2.338660e+05\n",
       "158                 Samoa       OCE            98.5     3.852  1.788690e+05\n",
       "159  Sao Tomé-et-Principe        AF            83.3     3.718  1.601740e+05\n",
       "160                 Aruba       LAT              98     1.732  1.054550e+05\n",
       "161                 Tonga       ASI            99.1     3.928  1.035660e+05\n",
       "\n",
       "[162 rows x 5 columns]"
      ]
     },
     "execution_count": 61,
     "metadata": {},
     "output_type": "execute_result"
    }
   ],
   "source": [
    "df"
   ]
  },
  {
   "cell_type": "code",
   "execution_count": 67,
   "metadata": {
    "ExecuteTime": {
     "end_time": "2021-03-11T23:14:42.663915Z",
     "start_time": "2021-03-11T23:14:42.654912Z"
    },
    "hidden": true
   },
   "outputs": [
    {
     "data": {
      "text/html": [
       "<div style=\"display: table;\"><div style=\"display: table-row;\"><div style=\"display: table-cell;\"><b title=\"bokeh.models.sources.ColumnDataSource\">ColumnDataSource</b>(</div><div style=\"display: table-cell;\">id&nbsp;=&nbsp;'5538', <span id=\"5540\" style=\"cursor: pointer;\">&hellip;)</span></div></div><div class=\"5539\" style=\"display: none;\"><div style=\"display: table-cell;\"></div><div style=\"display: table-cell;\">callback&nbsp;=&nbsp;None,</div></div><div class=\"5539\" style=\"display: none;\"><div style=\"display: table-cell;\"></div><div style=\"display: table-cell;\">data&nbsp;=&nbsp;{'fertility': ['1.769', '2.682', '2.077', '2.132', '1.827', '3.872', '2.288', '5.173', '1.393', '1.262', '2.156', '3.026', '2.033', '1.324', '2.816', '5.211', '2.1', '1.781', '1.822', '5.908', '1.881', '1.852', '1.39', '2.281', '2.505', '1.224', '1.361', '1.468', '2.404', '5.52', '4.058', '2.223', '4.859', '1.267', '2.342', '1.579', '6.254', '2.334', '3.961', '6.505', '2.53', '2.823', '2.498', '2.248', '2.508', '3.04', '1.854', '4.22', '5.1', '4.967', '1.325', '4.514', '3.173', '2.308', '4.62', '4.541', '5.637', '1.926', '1.747', '2.294', '5.841', '5.455', '7.069', '2.859', '4.018', '2.513', '5.405', '5.737', '3.363', '4.89', '1.385', '1.505', '6.081', '1.784', '1.378', '1.45', '1.841', '1.37', '2.612', '5.329', '5.33', '3.371', '1.281', '1.871', '2.153', '5.378', '4.45', '1.46', '1.436', '1.612', '3.19', '2.752', '3.35', '4.01', '4.166', '2.642', '2.977', '3.415', '2.295', '3.019', '2.683', '5.165', '1.849', '1.836', '2.518', '2.43', '4.528', '1.263', '1.885', '1.943', '1.899', '1.442', '1.953', '4.697', '1.582', '2.025', '1.841', '5.011', '1.212', '1.502', '2.516', '1.367', '2.089', '4.388', '1.854', '1.748', '2.978', '2.152', '2.362', '1.988', '1.426', '3.29', '3.264', '1.436', '1.393', '2.822', '4.969', '5.659', '3.24', '1.693', '1.647', '2.36', '1.792', '3.45', '1.516', '2.233', '2.563', '5.283', '3.885', '0.966', '2.373', '2.663', '1.251', '2.052', '3.371', '2.093', '2', '3.883', '3.852', '3.718', '1.732', '3.928'], 'female literacy': ['90.5', '50.8', '99', '88.8', '90.2', '40', '49.8', '48.8', '99.4', '99', '91.5', '93.9', '90.2', '99', '57.8', '22.8', '81.3', '77.2', '91.5', '56.1', '99', '99', '98.5', '89.2', '88.1', '96.6', '99.6', '96.9', '93.4', '66.3', '59.6', '97.7', '82.8', '99.3', '63.9', '99', '66.8', '44.1', '69.2', '12.6', '84.6', '45.4', '94.9', '98.9', '89.8', '80.2', '100', '59.3', '42.8', '40.1', '96.9', '44.3', '77.2', '89.1', '65.3', '67.8', '57', '98.7', '99', '99.5', '21.6', '65.8', '15.1', '70.9', '68.7', '81.7', '18.2', '61', '88.8', '33', '95.9', '99.8', '21.9', '99', '92.9', '99', '71', '98.9', '88.3', '26.4', '66.1', '86', '99.7', '99', '99.2', '28.1', '59.9', '99', '97.9', '96.2', '83.5', '95.9', '99.5', '55.6', '53.7', '81.3', '93.5', '63.2', '81.4', '88.9', '77.9', '28.9', '99', '100', '99.1', '99.3', '54.5', '91.6', '100', '96.2', '91.5', '98', '99', '41.1', '99.7', '99', '86', '53', '95.9', '97.8', '92.8', '99.7', '98.5', '49.5', '98.7', '99.4', '80.9', '93.1', '90.8', '97.8', '99.8', '87.7', '95.1', '95.4', '99.7', '83.5', '34.3', '36.5', '83.2', '99.8', '98.2', '90.4', '84.8', '85.6', '96.7', '89.4', '38.7', '89.1', '67.8', '90.7', '88.4', '79.3', '93.5', '93.3', '96.5', '99', '98.4', '79.5', '98.5', '83.3', '98', '99.1'], 'index': [0, 1, 2, 3, 4, 5, 6, 7, 8, 9, 10, 11, 12, 13, 14, 15, 16, 17, 18, 19, 20, 21, 22, 23, 24, 25, 26, 27, 28, 29, 30, 31, 32, 33, 34, 35, 36, 37, 38, 39, 40, 41, 42, 43, 44, 45, 46, 47, 48, 49, 50, 51, 52, 53, 54, 55, 56, 57, 58, 59, 60, 61, 62, 63, 64, 65, 66, 67, 68, 69, 70, 71, 72, 73, 74, 75, 76, 77, 78, 79, 80, 81, 82, 83, 84, 85, 86, 87, 88, 89, 90, 91, 92, 93, 94, 95, 96, 97, 98, 99, 100, 101, 102, 103, 104, 105, 106, 107, 108, 109, 110, 111, 112, 113, 114, 115, 116, 117, 118, 119, 120, 121, 122, 123, 124, 125, 126, 127, 128, 129, 130, 131, 132, 133, 134, 135, 136, 137, 138, 139, 140, 141, 142, 143, 144, 145, 146, 147, 148, 149, 150, 151, 152, 153, 154, 155, 156, 157, 158, 159, 160, 161], 'Country ': ['Chine', 'Inde', 'USA', 'Indonésie', 'Brésil', 'Pakistan', 'Bangladesh', 'Nigéria', 'Fédération de Russie', 'Japan', 'Mexique', 'Philippines', 'Viet Nam', 'Germany', 'Egypte', 'Ethiopie', 'Turquie', \"Iran, République islamique d'\", 'Thaïlande', 'Rép. Démocratique du Congo', 'France', 'UK', 'Italie', 'Myanmar', 'Afrique du Sud', 'South Korea', 'Ukraine', 'Espagne', 'Colombie', 'République-Unie de Tanzanie', 'Soudan', 'Argentine', 'Kenya', 'Pologne', 'Algérie', 'Canada', 'Ouganda', 'Maroc', 'Iraq', 'Afghanistan', 'Pérou', 'Népal', 'Venezuela', 'Ouzbékistan', 'Malaisie', 'Arabie saoudite', 'Rép. populaire démocratique de Corée', 'Ghana', 'Yémen', 'Mozambique', 'Roumanie', \"Côte d'Ivoire\", 'République arabe syrienne', 'Sri Lanka', 'Madagascar', 'Cameroun', 'Angola', 'Chili', 'Netherlands', 'Kazakhstan', 'Burkina Faso', 'Malawi', 'Niger', 'Cambodge', 'Guatemala', 'Equateur', 'Mali', 'Zambie', 'Zimbabwe', 'Sénégal', 'Grèce', 'Cuba', 'Tchad', 'Belgium', 'Portugal', 'Czech rep', 'Tunisie', 'Hongrie', 'République dominicaine', 'Guinée', 'Rwanda', 'Bolivie', 'Bélarus', 'Sweden', 'Azerbaïdjan', 'Bénin', 'Burundi', 'Switzerland', 'Bulgarie', 'Serbie', 'Honduras', 'Israel', 'Tadjikistan', 'Papouasie-Nouvelle-Guinée', 'Togo', 'Jamahiriya arabe libyenne', 'Paraguay', 'Rép. démocratique populaire lao', 'El Salvador', 'Jordanie', 'Nicaragua', 'Sierra Leone', 'Denmark', 'Finland', 'Kirghizistan', 'Turkménistan', 'Erythrée', 'Singapour', 'Norway', 'Costa Rica', 'Emirats arabes unis', 'Croatie', 'Ireland', 'République centrafricaine', 'Géorgie', 'New Zealand', 'Liban', 'Libéria', 'Bosnie-Herzégovine', 'République de Moldova', 'Panama', 'Lituanie', 'Uruguay', 'Mauritanie', 'Albanie', 'Arménie', 'Oman', 'Koweït', 'Jamaïque', 'Mongolie', 'Lettonie', 'Namibie', 'Lesotho', \"L'ex-Rép. yougoslave de Macédoine\", 'Slovénie', 'Botswana', 'Gambie', 'Guinée-Bissau', 'Gabon', 'Estonie', 'Trinité-et-Tobago', 'Qatar', 'Maurice', 'Swaziland', 'Chypre', 'Bahreïn', 'Bhoutan', 'Guinée équatoriale', 'Comores', 'Macao, Chine', 'Suriname', 'Cap-Vert', 'Malte', 'Brunéi Darussalam', 'Bahamas', 'Iceland', 'Maldives', 'Vanuatu', 'Samoa', 'Sao Tomé-et-Principe', 'Aruba', 'Tonga'], 'Continent': ['ASI', 'ASI', 'NAM', 'ASI', 'LAT', 'ASI', 'ASI', 'AF', 'EUR', 'ASI', 'LAT', 'ASI', 'ASI', 'EUR', 'AF', 'AF', 'ASI', 'ASI', 'ASI', 'AF', 'EUR', 'EUR', 'EUR', 'ASI', 'AF', 'ASI', 'EUR', 'EUR', 'LAT', 'AF', 'AF', 'LAT', 'AF', 'EUR', 'AF', 'NAM', 'AF', 'AF', 'ASI', 'ASI', 'LAT', 'ASI', 'LAT', 'ASI', 'ASI', 'ASI', 'ASI', 'AF', 'ASI', 'AF', 'EUR', 'AF', 'ASI', 'ASI', 'AF', 'AF', 'AF', 'LAT', 'EUR', 'ASI', 'AF', 'AF', 'AF', 'ASI', 'LAT', 'LAT', 'AF', 'AF', 'AF', 'AF', 'EUR', 'LAT', 'AF', 'EUR', 'EUR', 'EUR', 'AF', 'EUR', 'LAT', 'AF', 'AF', 'LAT', 'EUR', 'EUR', 'ASI', 'AF', 'AF', 'EUR', 'EUR', 'EUR', 'LAT', 'ASI', 'ASI', 'OCE', 'AF', 'AF', 'LAT', 'ASI', 'LAT', 'ASI', 'LAT', 'AF', 'EUR', 'EUR', 'ASI', 'ASI', 'AF', 'ASI', 'EUR', 'LAT', 'ASI', 'EUR', 'EUR', 'AF', 'ASI', 'OCE', 'ASI', 'AF', 'EUR', 'EUR', 'LAT', 'EUR', 'LAT', 'AF', 'EUR', 'ASI', 'ASI', 'ASI', 'LAT', 'ASI', 'EUR', 'AF', 'AF', 'EUR', 'EUR', 'AF', 'AF', 'AF', 'AF', 'EUR', 'LAT', 'ASI', 'AF', 'AF', 'EUR', 'ASI', 'ASI', 'AF', 'AF', 'ASI', 'LAT', 'AF', 'EUR', 'ASI', 'LAT', 'EUR', 'ASI', 'OCE', 'OCE', 'AF', 'LAT', 'ASI'], 'population': {'__ndarray__': 'AAAAZii900GQFOkAn/zQQQAAAGCWH7JBAAAAdAUaq0EAAABkgeKmQe+OPP5RzaNBAAAAANESo0EAAAC8oQaiQQAAAGD466BBAAAAAG9ynkH67buGHVuZQQAAAFRuipVBAAAAdOONlEEAAABEmpOTQQAAABAGcJNBAAAAaFs+k0EAAABQXp+RQToXwIbdJ5FBAAAAPPAQkEEAAADY06OOQQAAAMA5so1BAAAAcNVIjUEAAACYu4eMQQAAAFgsoodBAAAAwDw3h0EAAADAeC2HQQAAAMDADoZBAAAAIAC5hUEAAAAApHaFQQAAAJgGQoRBAAAAWFS3g0EAAAAghwSDQQAAAAAYfIJBAAAA+AUugkEAAACQ+WOAQQAAAICqxH9BAAAAELowfkEAAAAANyR+QRMTrwTXSX1BsGr1rzqte0EAAADANYB7QQAAAGCTeXtBAAAAgBGkekEAAABAYgx6QQAAABBMw3lB9wa/XgOBd0EAAAAQILd2QQAAAPDoRHZBAAAA0BbbdUEAAABQfFh1QQAAAGBZhHRBAAAAYCyjc0EolOqduqBzQR/BaMXyOHNBAAAA0ME5ckEAAAAQQDRyQQAAAMCTL3FBAAAAAIcGcEEAAAAgE15vQQAAACC65W1BAAAAgGsObUEAAADAHFFsQQAAAMDXC2xBAAAAAFvGa0EAAAAArhpqQQAAAAC6tmlBAAAAAPk7aEEAAABgNxJoQQAAAOBjxWdBAAAAoH1KZ0EAAADA3G5lQQAAAOAPX2VBAAAAYPDQZEEAAAAgumxkQQAAAKC5QmRBAAAAAALiY0EAAAAA37JjQQAAAIB1JWNBAAAA4Lj7YkEAAADgS8FiQQAAAMBuimJBAAAAIHR9YkEAAABA+nZiQQAAAKDGlWFBAAAAgFSOYEEAAADAiIVgQQAAAIADzV5BAAAAwG4sXUEAAADAuBRdQQAAAEDzCVxBAAAAQEHrW0EAAAAAgOFbQQAAAMDcE1pBAAAAgK0WWUEAAABAO6NYQQAAAECpAlhBAAAAwKfLV0EAAABA56tXQQAAAIAlZldBXanGt56HVkEAAABAf55VQQAAAECLNVVBAAAAQN30VEEAAADA3URUQQAAAAAzIlRBAAAAgGg9U0EAAABAZ8tSQQAAAAD6dVJBAAAAAHUwUkEAAACANT1RQQAAAMDRG1FBAAAAABTqUEEAAADA8uFQQQAAAMCPjVBBAAAAwBBuUEEAAAAA2UhQQQAAAADv/k9BAAAAAPzwTEEAAAAAVslMQQAAAIBsuEtBAAAAgFPuSUEAAACA0Z5JQQAAAADSb0lBAAAAgGGHSEEAAACAPftHQQAAAIDveUdBAAAAgChARUGBGHRrNNBEQQAAAABwgERBAAAAAKAmREEAAAAA90lBQQAAAADfP0BBAAAAAJVFP0EAAAAA/iU/QQAAAADE1z5BAAAAAGJQPUEAAAAAKFU5QQAAAAAWCjhBAAAAAN8YNkEAAAAAA3U0QQAAAACMWDRBAAAAAF6LM0EAAAAAdlwzQQAAAADa0TFBAAAAAMRRKkEAAAAAQqsnQQAAAACK9SRBAAAAAPodJEGpYCyg5qMjQQAAAADEDiBBAAAAANBwH0EAAAAAwG8eQQAAAAC4JBlBAAAAAGDxF0EAAAAAEJwUQQAAAACYXxNBAAAAAAyeEkEAAAAAUIwMQQAAAACo1QVBAAAAAHCNA0EAAAAA8L75QAAAAADgSPlA', 'shape': (162,), 'dtype': 'float64'}},</div></div><div class=\"5539\" style=\"display: none;\"><div style=\"display: table-cell;\"></div><div style=\"display: table-cell;\">js_event_callbacks&nbsp;=&nbsp;{},</div></div><div class=\"5539\" style=\"display: none;\"><div style=\"display: table-cell;\"></div><div style=\"display: table-cell;\">js_property_callbacks&nbsp;=&nbsp;{},</div></div><div class=\"5539\" style=\"display: none;\"><div style=\"display: table-cell;\"></div><div style=\"display: table-cell;\">name&nbsp;=&nbsp;None,</div></div><div class=\"5539\" style=\"display: none;\"><div style=\"display: table-cell;\"></div><div style=\"display: table-cell;\">selected&nbsp;=&nbsp;Selection(id='5542', ...),</div></div><div class=\"5539\" style=\"display: none;\"><div style=\"display: table-cell;\"></div><div style=\"display: table-cell;\">selection_policy&nbsp;=&nbsp;UnionRenderers(id='5541', ...),</div></div><div class=\"5539\" style=\"display: none;\"><div style=\"display: table-cell;\"></div><div style=\"display: table-cell;\">subscribed_events&nbsp;=&nbsp;[],</div></div><div class=\"5539\" style=\"display: none;\"><div style=\"display: table-cell;\"></div><div style=\"display: table-cell;\">tags&nbsp;=&nbsp;[])</div></div></div>\n",
       "<script>\n",
       "(function() {\n",
       "  var expanded = false;\n",
       "  var ellipsis = document.getElementById(\"5540\");\n",
       "  ellipsis.addEventListener(\"click\", function() {\n",
       "    var rows = document.getElementsByClassName(\"5539\");\n",
       "    for (var i = 0; i < rows.length; i++) {\n",
       "      var el = rows[i];\n",
       "      el.style.display = expanded ? \"none\" : \"table-row\";\n",
       "    }\n",
       "    ellipsis.innerHTML = expanded ? \"&hellip;)\" : \"&lsaquo;&lsaquo;&lsaquo;\";\n",
       "    expanded = !expanded;\n",
       "  });\n",
       "})();\n",
       "</script>\n"
      ],
      "text/plain": [
       "ColumnDataSource(id='5538', ...)"
      ]
     },
     "execution_count": 67,
     "metadata": {},
     "output_type": "execute_result"
    }
   ],
   "source": [
    "source = ColumnDataSource(df)\n",
    "source"
   ]
  },
  {
   "cell_type": "code",
   "execution_count": 34,
   "metadata": {
    "ExecuteTime": {
     "end_time": "2021-03-11T22:48:36.622477Z",
     "start_time": "2021-03-11T22:48:36.610510Z"
    },
    "hidden": true
   },
   "outputs": [],
   "source": [
    "# Import the ColumnDataSource class from bokeh.plotting\n",
    "from bokeh.plotting import ColumnDataSource\n",
    "\n",
    "# Import figure from bokeh.plotting\n",
    "from bokeh.plotting import figure\n",
    "\n",
    "# Import output_file and show from bokeh.io\n",
    "from bokeh.io import output_file, show\n",
    "\n",
    "# Convert df to a ColumnDataSource: source\n",
    "source = ColumnDataSource(df)\n",
    "\n",
    "# Import row from bokeh.layouts\n",
    "from bokeh.layouts import row"
   ]
  },
  {
   "cell_type": "code",
   "execution_count": 63,
   "metadata": {
    "ExecuteTime": {
     "end_time": "2021-03-11T23:13:37.747339Z",
     "start_time": "2021-03-11T23:13:35.404429Z"
    },
    "hidden": true,
    "scrolled": false
   },
   "outputs": [
    {
     "data": {
      "image/png": "[encoded data removed]",
      "text/plain": [
       "<Figure size 432x288 with 1 Axes>"
      ]
     },
     "metadata": {
      "needs_background": "light"
     },
     "output_type": "display_data"
    }
   ],
   "source": [
    "import matplotlib.pyplot as plt\n",
    "plt.scatter(df['fertility'], df['female literacy'])\n",
    "plt.show()"
   ]
  },
  {
   "cell_type": "code",
   "execution_count": 60,
   "metadata": {
    "ExecuteTime": {
     "end_time": "2021-03-11T23:09:12.364932Z",
     "start_time": "2021-03-11T23:09:10.703248Z"
    },
    "hidden": true,
    "scrolled": true
   },
   "outputs": [
    {
     "data": {
      "image/png": "[encoded data removed]",
      "text/plain": [
       "<Figure size 432x288 with 1 Axes>"
      ]
     },
     "metadata": {
      "needs_background": "light"
     },
     "output_type": "display_data"
    }
   ],
   "source": [
    "import matplotlib.pyplot as plt\n",
    "plt.scatter(df['population'], df['female literacy'])\n",
    "plt.show()"
   ]
  },
  {
   "cell_type": "code",
   "execution_count": 74,
   "metadata": {
    "ExecuteTime": {
     "end_time": "2021-03-11T23:17:01.955157Z",
     "start_time": "2021-03-11T23:17:01.793587Z"
    },
    "hidden": true,
    "scrolled": true
   },
   "outputs": [],
   "source": [
    "# Convert df to a ColumnDataSource: source\n",
    "source = ColumnDataSource(df)\n",
    "\n",
    "# Create the first figure: p1\n",
    "p1 = figure(x_axis_label='fertility (children per woman)',\n",
    "            y_axis_label='female_literacy (% population)')\n",
    "# Add a circle glyph to p1\n",
    "p1.circle('fertility', 'female literacy', source=source)\n",
    "\n",
    "# Create the second figure: p2\n",
    "p2 = figure(x_axis_label='population',\n",
    "            y_axis_label='female_literacy (% population)')\n",
    "# Add a circle glyph to p2\n",
    "p2.circle('population', 'female literacy', source=source)\n",
    "\n",
    "# Put p1 and p2 into a horizontal row: layout\n",
    "layout = row(p1, p2)\n",
    "\n",
    "# Specify the name of the output_file and show the result\n",
    "output_file('fert_row.html')\n",
    "show(layout)"
   ]
  },
  {
   "cell_type": "markdown",
   "metadata": {
    "hidden": true
   },
   "source": [
    "<img src='figures/04.04b-result1.PNG' width=800/>"
   ]
  },
  {
   "cell_type": "markdown",
   "metadata": {
    "hidden": true
   },
   "source": [
    "**Creating columns of plots**\n",
    "\n",
    "In this exercise, you're going to use the column() function to create a single column layout of the two plots you created in the previous exercise.\n",
    "\n",
    "Figure p1 has been created for you.\n",
    "\n",
    "In this exercise and the ones to follow, you may have to scroll down to view the lower portion of the figure.\n",
    "\n",
    "Instructions\n",
    "- Import column from the bokeh.layouts module.\n",
    "- The figure p1 has been created for you. Create a new figure p2 with an x-axis label of 'population' and y-axis label of 'female_literacy (% population)'.\n",
    "- Add a circle glyph to the figure p2.\n",
    "- Put p1 and p2 into a vertical layout using column().\n",
    "- Click 'Submit Answer' to output the file and show the figure.\n",
    "\n",
    "Hint\n",
    "- You can import x from y using the command from y import x.\n",
    "- You can create p2 using figure() with x_axis_label = 'population' and y_axis_label = 'female_literacy (% population)'.\n",
    "- To add a circle glyph to p2, use p2.circle() with 'population', 'female_literacy' and source=source as arguments.\n",
    "- Pass in p1 and p2 as arguments to column()."
   ]
  },
  {
   "cell_type": "code",
   "execution_count": 14,
   "metadata": {
    "ExecuteTime": {
     "end_time": "2021-03-11T22:29:42.318170Z",
     "start_time": "2021-03-11T22:29:42.309187Z"
    },
    "hidden": true
   },
   "outputs": [
    {
     "data": {
      "text/plain": [
       "Index(['Country ', 'Continent', 'female literacy', 'fertility', 'population'], dtype='object')"
      ]
     },
     "execution_count": 14,
     "metadata": {},
     "output_type": "execute_result"
    }
   ],
   "source": [
    "df.columns"
   ]
  },
  {
   "cell_type": "code",
   "execution_count": 72,
   "metadata": {
    "ExecuteTime": {
     "end_time": "2021-03-11T23:16:48.372521Z",
     "start_time": "2021-03-11T23:16:48.188371Z"
    },
    "hidden": true
   },
   "outputs": [],
   "source": [
    "# Import column from the bokeh.layouts module\n",
    "from bokeh.layouts import column\n",
    "\n",
    "# Convert df to a ColumnDataSource: source\n",
    "source = ColumnDataSource(df)\n",
    "\n",
    "# Create a blank figure: p1\n",
    "p1 = figure(x_axis_label='fertility (children per woman)',\n",
    "            y_axis_label='female_literacy (% population)')\n",
    "\n",
    "# Add circle scatter to the figure p1\n",
    "p1.circle('fertility', 'female literacy', source=source)\n",
    "\n",
    "# Create a new blank figure: p2\n",
    "p2 = figure(x_axis_label='population',\n",
    "            y_axis_label='female_literacy (% population)')\n",
    "\n",
    "# Add circle scatter to the figure p2\n",
    "p2.circle('population', 'female literacy', source=source)\n",
    "\n",
    "# Put figures p1 and p2 into a column: layout\n",
    "layout = column(p1, p2)\n",
    "\n",
    "# Specify the name of the output_file and show the result\n",
    "output_file('fert_column.html')\n",
    "show(layout)"
   ]
  },
  {
   "cell_type": "markdown",
   "metadata": {
    "hidden": true
   },
   "source": [
    "**Nesting rows and columns of plots**\n",
    "\n",
    "You can create nested layouts of plots by combining row and column layouts. In this exercise, you'll make a 3-plot layout in two rows using the auto-mpg data set. **Three plots have been created for you of average mpg vs year (avg_mpg), mpg vs hp (mpg_hp), and mpg vs weight (mpg_weight).**\n",
    "\n",
    "Your job is to use the row() and column() functions to make a two-row layout where the first row will have only the average mpg vs year plot and the second row will have mpg vs hp and mpg vs weight plots as columns.\n",
    "\n",
    "By using the sizing_mode argument, you can scale the widths to fill the whole figure.\n",
    "\n",
    "Instructions\n",
    "- Import row and column from bokeh.layouts.\n",
    "- Create a row layout called row2 with the figures mpg_hp and mpg_weight in a list and set sizing_mode='scale_width'.\n",
    "- Create a column layout called layout with the figure avg_mpg and the row layout row2 in a list and set sizing_mode='scale_width'.\n",
    "\n",
    "Hint\n",
    "- To import x from y, you can use the command from y import x.\n",
    "- To create a row layout, use the row() function. As arguments, pass in the figures mpg_hp and mpg_weight in the form of a list and be sure to also set sizing_mode='scale_width'.\n",
    "- To create a column layout, use the column() function. As arguments, pass in the figure avg_mpg and the row layout you created above in the form of a list and be sure to also set sizing_mode='scale_width'."
   ]
  },
  {
   "cell_type": "code",
   "execution_count": 75,
   "metadata": {
    "ExecuteTime": {
     "end_time": "2021-03-11T23:19:34.815656Z",
     "start_time": "2021-03-11T23:19:34.805658Z"
    },
    "hidden": true,
    "scrolled": false
   },
   "outputs": [],
   "source": [
    "df = pd.read_csv('data/04b-auto-mpg.csv')"
   ]
  },
  {
   "cell_type": "markdown",
   "metadata": {
    "hidden": true
   },
   "source": [
    "<img src='figures/04.04b-result-nesting-rows.PNG' width=1000>"
   ]
  },
  {
   "cell_type": "code",
   "execution_count": null,
   "metadata": {
    "hidden": true
   },
   "outputs": [],
   "source": []
  },
  {
   "cell_type": "markdown",
   "metadata": {
    "hidden": true
   },
   "source": [
    "**Investigating the layout API**\n",
    "\n",
    "Bokeh layouts allow for positioning items visually in the page presented to the user. What kinds of objects can be put into Bokeh layouts?\n",
    "\n",
    "Answer the question\n",
    "- Plots\n",
    "- Widgets\n",
    "- Other Layouts\n",
    "- **All of the above**\n",
    "\n",
    "Correct. Plots, widgets and nested sub-layouts can be handled."
   ]
  },
  {
   "cell_type": "markdown",
   "metadata": {
    "hidden": true
   },
   "source": [
    "**Creating gridded layouts**\n",
    "\n",
    "Regular grids of Bokeh plots can be generated with gridplot.\n",
    "\n",
    "In this example, you're going to display four plots of fertility vs female literacy for four regions: Latin America, Africa, Asia and Europe.\n",
    "\n",
    "Your job is to create a list-of-lists for the four Bokeh plots that have been provided to you as p1, p2, p3 and p4. The list-of-lists defines the row and column placement of each plot.\n",
    "\n",
    "Instructions\n",
    "- Import gridplot from the bokeh.layouts module.\n",
    "- Create a list called row1 containing plots p1 and p2.\n",
    "- Create a list called row2 containing plots p3 and p4.\n",
    "- Create a gridplot using row1 and row2. You will have to pass in row1 and row2 in the form of a list.\n",
    "\n",
    "Hint\n",
    "- To import x from y, you can use the command from y import x.\n",
    "- To create a list example_list containing x and y, you can use the command example_list = [x, y].\n",
    "- To create a gridplot, use the gridplot() function with the argument [row1, row2]."
   ]
  },
  {
   "cell_type": "code",
   "execution_count": null,
   "metadata": {
    "hidden": true
   },
   "outputs": [],
   "source": [
    "# Import gridplot from bokeh.layouts\n",
    "from bokeh.layouts import gridplot\n",
    "\n",
    "# Create a list of plot p1 and p2: row1\n",
    "row1 = [p1, p2]\n",
    "\n",
    "# Create a list of plot p3 and p4: row1\n",
    "row2 = [p3, p4]\n",
    "\n",
    "# Create a gridplot using row1 and row2: layout\n",
    "layout = gridplot([row1, row2])\n",
    "\n",
    "# Specify the name of the output_file and show the result\n",
    "output_file('grid.html')\n",
    "show(layout)"
   ]
  },
  {
   "cell_type": "markdown",
   "metadata": {
    "hidden": true
   },
   "source": [
    "<img src='figures/04.04b-result-gridded-layouts.PNG' width=600>"
   ]
  },
  {
   "cell_type": "markdown",
   "metadata": {
    "hidden": true
   },
   "source": [
    "**Starting tabbed layouts**\n",
    "\n",
    "Tabbed layouts can be created in Bokeh by placing plots or layouts in Panels.\n",
    "\n",
    "In this exercise, you'll take the four fertility vs female literacy plots from the last exercise and make a Panel() for each.\n",
    "\n",
    "No figure will be generated in this exercise. Instead, you will use these panels in the next exercise to build and display a tabbed layout.\n",
    "\n",
    "Instructions\n",
    "- Import Panel from bokeh.models.widgets.\n",
    "- Create a new panel tab1 with child p1 and a title of 'Latin America'.\n",
    "- Create a new panel tab2 with child p2 and a title of 'Africa'.\n",
    "- Create a new panel tab3 with child p3 and a title of 'Asia'.\n",
    "- Create a new panel tab4 with child p4 and a title of 'Europe'.\n",
    "- Click submit to check your work.\n",
    "\n",
    "Hint\n",
    "- To import x from y, you can use the command from y import x.\n",
    "- To create a panel, use the Panel() function and specify the relevant child and title arguments."
   ]
  },
  {
   "cell_type": "code",
   "execution_count": null,
   "metadata": {
    "hidden": true
   },
   "outputs": [],
   "source": [
    "# Import Panel from bokeh.models.widgets\n",
    "from bokeh.models.widgets import Panel\n",
    "\n",
    "# Create tab1 from plot p1: tab1\n",
    "tab1 = Panel(child=p1, title='Latin America')\n",
    "\n",
    "# Create tab2 from plot p2: tab2\n",
    "tab2 = Panel(child=p2, title='Africa')\n",
    "\n",
    "# Create tab3 from plot p3: tab3\n",
    "tab3 = Panel(child=p3, title='Asia')\n",
    "\n",
    "# Create tab4 from plot p4: tab4\n",
    "tab4 = Panel(child=p4, title='Europe')"
   ]
  },
  {
   "cell_type": "markdown",
   "metadata": {
    "hidden": true
   },
   "source": [
    "Great work! In the next exercise, you will use these panels to build and display a tabbed layout."
   ]
  },
  {
   "cell_type": "markdown",
   "metadata": {
    "hidden": true
   },
   "source": [
    "**Displaying tabbed layouts**\n",
    "\n",
    "Tabbed layouts are collections of Panel objects. Using the figures and Panels from the previous two exercises, you'll create a tabbed layout to change the region in the fertility vs female literacy plots.\n",
    "\n",
    "Your job is to create the layout using Tabs() and assign the tabs keyword argument to your list of Panels. The Panels have been created for you as tab1, tab2, tab3 and tab4.\n",
    "\n",
    "After you've displayed the figure, explore the tabs you just added! The \"Pan\", \"Box Zoom\" and \"Wheel Zoom\" tools are also all available as before.\n",
    "\n",
    "Instructions\n",
    "- Import Tabs from bokeh.models.widgets.\n",
    "- Create a Tabs layout called layout with tab1, tab2, tab3, and tab4.\n",
    "- Click 'Submit Answer' to output the file and show the figure.\n",
    "\n",
    "Hint\n",
    "- You can import x from y using the command from y import x.\n",
    "- To create a Tabs layout, first create a list containing tab1, tab2, tab3, and tab4. Assign this list to the tabs keyword argument inside the Tabs() function."
   ]
  },
  {
   "cell_type": "code",
   "execution_count": null,
   "metadata": {
    "hidden": true
   },
   "outputs": [],
   "source": [
    "# Import Tabs from bokeh.models.widgets\n",
    "from bokeh.models.widgets import Tabs\n",
    "\n",
    "# Create a Tabs layout: layout\n",
    "layout = Tabs(tabs=[tab1, tab2, tab3, tab4])\n",
    "\n",
    "# Specify the name of the output_file and show the result\n",
    "output_file('tabs.html')\n",
    "show(layout)"
   ]
  },
  {
   "cell_type": "markdown",
   "metadata": {
    "hidden": true
   },
   "source": [
    "<img src='figures/04.04b-result-tabbed-layouts.PNG' width=400>"
   ]
  },
  {
   "cell_type": "markdown",
   "metadata": {
    "hidden": true
   },
   "source": [
    "**Linked axes**\n",
    "\n",
    "Linking axes between plots is achieved by sharing range objects.\n",
    "\n",
    "In this exercise, you'll link four plots of female literacy vs fertility so that when one plot is zoomed or dragged, one or more of the other plots will respond.\n",
    "\n",
    "The four plots p1, p2, p3 and p4 along with the layout that you created in the last section have been provided for you.\n",
    "\n",
    "Your job is link p1 with the three other plots by assignment of the .x_range and .y_range attributes.\n",
    "\n",
    "After you have linked the axes, explore the plots by clicking and dragging along the x or y axes of any of the plots, and notice how the linked plots change together.\n",
    "\n",
    "Instructions\n",
    "- Link the x_range of p2 to p1.\n",
    "- Link the y_range of p2 to p1.\n",
    "- Link the x_range of p3 to p1.\n",
    "- Link the y_range of p4 to p1.\n",
    "- Click 'Submit Answer' to output the file and show the figure.\n",
    "\n",
    "Hint\n",
    "- To link the x_range of p2 to p1, for example, you can do p2.x_range = p1.x_range. Do the same for the y_range of p2, x_range of p3 and y_range of p4."
   ]
  },
  {
   "cell_type": "code",
   "execution_count": null,
   "metadata": {
    "hidden": true
   },
   "outputs": [],
   "source": [
    "# Link the x_range of p2 to p1: p2.x_range\n",
    "p2.x_range = p1.x_range\n",
    "\n",
    "# Link the y_range of p2 to p1: p2.y_range\n",
    "p2.y_range = p1.y_range\n",
    "\n",
    "# Link the x_range of p3 to p1: p3.x_range\n",
    "p3.x_range = p1.x_range\n",
    "\n",
    "# Link the y_range of p4 to p1: p4.y_range\n",
    "p4.y_range = p1.y_range\n",
    "\n",
    "# Specify the name of the output_file and show the result\n",
    "output_file('linked_range.html')\n",
    "show(layout)"
   ]
  },
  {
   "cell_type": "markdown",
   "metadata": {
    "hidden": true
   },
   "source": [
    "<img src='figures/04.04b-result-linked-axes.PNG' width=600>"
   ]
  },
  {
   "cell_type": "markdown",
   "metadata": {
    "hidden": true
   },
   "source": [
    "**Linked brushing**\n",
    "\n",
    "By sharing the same ColumnDataSource object between multiple plots, selection tools like BoxSelect and LassoSelect will highlight points in both plots that share a row in the ColumnDataSource.\n",
    "\n",
    "In this exercise, you'll plot female literacy vs fertility and population vs fertility in two plots using the same ColumnDataSource.\n",
    "\n",
    "After you have built the figure, experiment with the Lasso Select and Box Select tools. Use your mouse to drag a box or lasso around points in one figure, and notice how points in the other figure that share a row in the ColumnDataSource also get highlighted.\n",
    "\n",
    "Before experimenting with the Lasso Select, however, click the Bokeh plot pop-out icon to pop out the figure so that you can definitely see everything that you're doing.\n",
    "\n",
    "Instructions\n",
    "- Create a ColumnDataSource object called source from the data DataFrame.\n",
    "- Create a new figure p1 using the figure() function. In addition to specifying the parameters x_axis_label and y_axis_label, you will also have to specify the BoxSelect and LassoSelect selection tools with tools='box_select,lasso_select'.\n",
    "- Add a circle glyph to p1. The x-axis data is fertility and y-axis data is female literacy. Be sure to also specify source=source.\n",
    "- Create a second figure p2 similar to how you created p1.\n",
    "- Add a circle glyph to p2. The x-axis data is fertility and y-axis data is population. Be sure to also specify source=source.\n",
    "- Create a row layout of figures p1 and p2.\n",
    "\n",
    "Hint\n",
    "- You can create a ColumnDataSource object using ColumnDataSource() and passing in the DataFrame (in this case, data).\n",
    "- You can create p1 using figure() with x_axis_label='fertility (children per woman)', y_axis_label='female literacy (% population)' and tools='box_select, lasso_select'.\n",
    "- To add a circle glyph to p1, use p1.circle() with 'fertility', 'female literacy' and source=source as arguments.\n",
    "- You can create p2 using figure() with x_axis_label='fertility (children per woman)', y_axis_label='population (millions)' and tools='box_select, lasso_select'.\n",
    "- To add a circle glyph to p2, use p2.circle() with 'fertility', 'population' and source=source as arguments.\n",
    "- You can use row() with the arguments p1 and p2 to create a row layout."
   ]
  },
  {
   "cell_type": "code",
   "execution_count": null,
   "metadata": {
    "hidden": true
   },
   "outputs": [],
   "source": [
    "# Create ColumnDataSource: source\n",
    "source = ColumnDataSource(data)\n",
    "\n",
    "# Create the first figure: p1\n",
    "p1 = figure(x_axis_label='fertility (children per woman)', y_axis_label='female literacy (% population)',\n",
    "            tools='box_select,lasso_select')\n",
    "\n",
    "# Add a circle glyph to p1\n",
    "p1.circle('fertility', 'female literacy', source=source)\n",
    "\n",
    "# Create the second figure: p2\n",
    "p2 = figure(x_axis_label='fertility (children per woman)', y_axis_label='population (millions)',\n",
    "            tools='box_select,lasso_select')\n",
    "\n",
    "# Add a circle glyph to p2\n",
    "p2.circle('fertility', 'population', source=source)\n",
    "\n",
    "# Create row layout of figures p1 and p2: layout\n",
    "layout = row(p1, p2)\n",
    "\n",
    "# Specify the name of the output_file and show the result\n",
    "output_file('linked_brush.html')\n",
    "show(layout)"
   ]
  },
  {
   "cell_type": "markdown",
   "metadata": {
    "ExecuteTime": {
     "end_time": "2021-03-11T23:32:49.754660Z",
     "start_time": "2021-03-11T23:32:49.748677Z"
    },
    "hidden": true
   },
   "source": [
    "<img src='figures/04.04b-result-linked-brushing.PNG' width=1000>"
   ]
  },
  {
   "cell_type": "markdown",
   "metadata": {
    "hidden": true
   },
   "source": [
    "Great work! Be sure to pop the figure out into a new window before playing with the Box Select and Lasso Select tools to make sure you can see everything.\n",
    "\n"
   ]
  },
  {
   "cell_type": "markdown",
   "metadata": {
    "hidden": true
   },
   "source": [
    "**How to create legends**\n",
    "\n",
    "Legends can be added to any glyph by using the legend keyword argument.\n",
    "\n",
    "In this exercise, you will plot two circle glyphs for female literacy vs fertility in Africa and Latin America.\n",
    "\n",
    "Two ColumnDataSources called latin_america and africa have been provided.\n",
    "\n",
    "Your job is to plot two circle glyphs for these two objects with fertility on the x axis and female_literacy on the y axis and add the legend values. The figure p has been provided for you.\n",
    "\n",
    "Instructions\n",
    "- Add a red circle glyph to the figure p using the latin_america ColumnDataSource. Specify a size of 10 and legend of Latin America.\n",
    "- Add a blue circle glyph to the figure p using the africa ColumnDataSource. Specify a size of 10 and legend of Africa.\n",
    "\n",
    "Hint\n",
    "- You can plot female_literacy vs fertility columns from latin_america using p.circle with source=latin_america, size=10, color='red' and legend='Latin America'.\n",
    "- You can plot female_literacy vs fertility columns from africa using p.circle and with source=africa, size=10, color='blue' and legend='Africa'."
   ]
  },
  {
   "cell_type": "code",
   "execution_count": null,
   "metadata": {
    "hidden": true
   },
   "outputs": [],
   "source": [
    "# Add the first circle glyph to the figure p\n",
    "p.circle('fertility', 'female_literacy', source=latin_america, size=10, color=\"red\", legend=\"Latin America\")\n",
    "\n",
    "# Add the second circle glyph to the figure p\n",
    "p.circle('fertility', 'female_literacy', source=africa, size=10, color=\"blue\", legend=\"Africa\")\n",
    "\n",
    "# Specify the name of the output_file and show the result\n",
    "output_file('fert_lit_groups.html')\n",
    "show(p)"
   ]
  },
  {
   "cell_type": "markdown",
   "metadata": {
    "hidden": true
   },
   "source": [
    "<img src='figures/04.04b-result-legends.PNG' width=500>"
   ]
  },
  {
   "cell_type": "markdown",
   "metadata": {
    "hidden": true
   },
   "source": [
    "**Positioning and styling legends**\n",
    "\n",
    "Properties of the legend can be changed by using the legend member attribute of a Bokeh figure after the glyphs have been plotted.\n",
    "\n",
    "In this exercise, you'll adjust the background color and legend location of the female literacy vs fertility plot from the previous exercise.\n",
    "\n",
    "The figure object p has been created for you along with the circle glyphs.\n",
    "\n",
    "Instructions\n",
    "- Use p.legend.location to adjust the legend location to be on the 'bottom_left'.\n",
    "- Use p.legend.background_fill_color to set the background color of the legend to 'lightgray'.\n",
    "\n",
    "Hint\n",
    "- Set p.legend.location to 'bottom_left'.\n",
    "- Set p.legend.background_fill_color to 'lightgray'."
   ]
  },
  {
   "cell_type": "code",
   "execution_count": null,
   "metadata": {
    "hidden": true
   },
   "outputs": [],
   "source": [
    "# Assign the legend to the bottom left: p.legend.location\n",
    "p.legend.location = 'bottom_left'\n",
    "\n",
    "# Fill the legend background with the color 'lightgray': p.legend.background_fill_color\n",
    "p.legend.background_fill_color = 'lightgray'\n",
    "\n",
    "# Specify the name of the output_file and show the result\n",
    "output_file('fert_lit_groups.html')\n",
    "show(p)"
   ]
  },
  {
   "cell_type": "markdown",
   "metadata": {
    "hidden": true
   },
   "source": [
    "<img src='figures/04.04b-result-styling-legends.PNG' width=400>"
   ]
  },
  {
   "cell_type": "markdown",
   "metadata": {
    "hidden": true
   },
   "source": [
    "**Hover tooltips for exposing details**\n",
    "\n",
    "When configuring hover tools, certain pre-defined fields such as mouse position or glyph index can be accessed with $-prefixed names, for example $x, $index. But tooltips can display values from arbitrary columns in a ColumnDataSource.\n",
    "\n",
    "What is the correct format to display values from a column \"sales\" in a hover tooltip?\n",
    "\n",
    "Answer the question\n",
    "\n",
    "- &{sales}\n",
    "- %sales%\n",
    "- **@sales**\n",
    "\n",
    "Correct. The @ prefix denotes the name of a column to display values from."
   ]
  },
  {
   "cell_type": "markdown",
   "metadata": {
    "hidden": true
   },
   "source": [
    "**Adding a hover tooltip**\n",
    "\n",
    "Working with the HoverTool is easy for data stored in a ColumnDataSource.\n",
    "\n",
    "In this exercise, you will create a HoverTool object and display the country for each circle glyph in the figure that you created in the last exercise. This is done by assigning the tooltips keyword argument to a list-of-tuples specifying the label and the column of values from the ColumnDataSource using the @ operator.\n",
    "\n",
    "The figure object has been prepared for you as p.\n",
    "\n",
    "After you have added the hover tooltip to the figure, be sure to interact with it by hovering your mouse over each point to see which country it represents.\n",
    "\n",
    "Instructions\n",
    "- Import the HoverTool class from bokeh.models.\n",
    "- Use the HoverTool() function to create a HoverTool object called hover and set the tooltips argument to be [('Country','@Country')].\n",
    "- Use p.add_tools() with your HoverTool object to add it to the figure.\n",
    "\n",
    "Hint\n",
    "- To import x from y, you can use the command from y import x.\n",
    "- You can create a HoverTool object by using the HoverTool() function and setting the tooltips argument to be [('Country','@Country')].\n",
    "- To add the HoverTool object hover to the figure p, you need to pass in hover as an argument to p.add_tools()."
   ]
  },
  {
   "cell_type": "code",
   "execution_count": null,
   "metadata": {
    "hidden": true
   },
   "outputs": [],
   "source": [
    "# Import HoverTool from bokeh.models\n",
    "from bokeh.models import HoverTool\n",
    "\n",
    "# Create a HoverTool object: hover\n",
    "hover = HoverTool(tooltips=[ ('Country', '@Country')])\n",
    "\n",
    "# Add the HoverTool object to figure p\n",
    "p.add_tools(hover)\n",
    "\n",
    "# Specify the name of the output_file and show the result\n",
    "output_file('hover.html')\n",
    "show(p)"
   ]
  },
  {
   "cell_type": "markdown",
   "metadata": {
    "hidden": true
   },
   "source": [
    "<img src='figures/04.04b-result-hoover.PNG' width=600>"
   ]
  },
  {
   "cell_type": "markdown",
   "metadata": {},
   "source": [
    "## Building interactive apps with Bokeh"
   ]
  },
  {
   "cell_type": "markdown",
   "metadata": {},
   "source": [
    "## Putting It All Together! A Case Study"
   ]
  }
 ],
 "metadata": {
  "hide_input": false,
  "kernelspec": {
   "display_name": "Python 3",
   "language": "python",
   "name": "python3"
  },
  "language_info": {
   "codemirror_mode": {
    "name": "ipython",
    "version": 3
   },
   "file_extension": ".py",
   "mimetype": "text/x-python",
   "name": "python",
   "nbconvert_exporter": "python",
   "pygments_lexer": "ipython3",
   "version": "3.7.6"
  },
  "latex_envs": {
   "LaTeX_envs_menu_present": true,
   "autoclose": false,
   "autocomplete": true,
   "bibliofile": "biblio.bib",
   "cite_by": "apalike",
   "current_citInitial": 1,
   "eqLabelWithNumbers": true,
   "eqNumInitial": 1,
   "hotkeys": {
    "equation": "Ctrl-E",
    "itemize": "Ctrl-I"
   },
   "labels_anchors": false,
   "latex_user_defs": false,
   "report_style_numbering": false,
   "user_envs_cfg": false
  },
  "toc": {
   "base_numbering": 1,
   "nav_menu": {},
   "number_sections": true,
   "sideBar": true,
   "skip_h1_title": false,
   "title_cell": "Table of Contents",
   "title_sidebar": "Contents",
   "toc_cell": false,
   "toc_position": {},
   "toc_section_display": true,
   "toc_window_display": false
  },
  "varInspector": {
   "cols": {
    "lenName": 16,
    "lenType": 16,
    "lenVar": 40
   },
   "kernels_config": {
    "python": {
     "delete_cmd_postfix": "",
     "delete_cmd_prefix": "del ",
     "library": "var_list.py",
     "varRefreshCmd": "print(var_dic_list())"
    },
    "r": {
     "delete_cmd_postfix": ") ",
     "delete_cmd_prefix": "rm(",
     "library": "var_list.r",
     "varRefreshCmd": "cat(var_dic_list()) "
    }
   },
   "position": {
    "height": "357.969px",
    "left": "1147.78px",
    "right": "20px",
    "top": "120px",
    "width": "350px"
   },
   "types_to_exclude": [
    "module",
    "function",
    "builtin_function_or_method",
    "instance",
    "_Feature"
   ],
   "window_display": false
  }
 },
 "nbformat": 4,
 "nbformat_minor": 4
}
