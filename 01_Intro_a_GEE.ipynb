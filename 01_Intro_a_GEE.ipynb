{
  "nbformat": 4,
  "nbformat_minor": 0,
  "metadata": {
    "colab": {
      "name": "01_Intro_a_GEE.ipynb",
      "provenance": [],
      "collapsed_sections": [],
      "authorship_tag": "ABX9TyOZOfnIHKzkTxGdCuKUf52I",
      "include_colab_link": true
    },
    "kernelspec": {
      "name": "python3",
      "display_name": "Python 3"
    }
  },
  "cells": [
    {
      "cell_type": "markdown",
      "metadata": {
        "id": "view-in-github",
        "colab_type": "text"
      },
      "source": [
        "<a href=\"https://colab.research.google.com/github/vilcagamarracf/Playing-with-colab/blob/main/01_Intro_a_GEE.ipynb\" target=\"_parent\"><img src=\"https://colab.research.google.com/assets/colab-badge.svg\" alt=\"Open In Colab\"/></a>"
      ]
    },
    {
      "cell_type": "markdown",
      "metadata": {
        "id": "RA7uCT3Qu9u_"
      },
      "source": [
        "# 1. Introducción a GEE usando la API de Python (Colab)\r\n",
        "\r\n",
        "\r\n",
        "\r\n"
      ]
    },
    {
      "cell_type": "markdown",
      "metadata": {
        "id": "1T2ptHj-pVDo"
      },
      "source": [
        "Breve tutorial para comenzar a usar GEE en Google Colab (Python IDE).\r\n",
        "- [Portal de GEE](https://earthengine.google.com/)\r\n",
        "\r\n",
        "<center>\r\n",
        "<img src='https://developers.google.com/earth-engine/images/EE_new_logo_480.png' width=15%/>\r\n",
        "<img src='https://developers.google.com/earth-engine/images/colab_logo.svg' width=15%/>\r\n",
        "</center>"
      ]
    },
    {
      "cell_type": "markdown",
      "metadata": {
        "id": "FnbArgBZnOue"
      },
      "source": [
        "## ¿Qué es Google Earth Engine?\r\n",
        "\r\n",
        "\r\n"
      ]
    },
    {
      "cell_type": "markdown",
      "metadata": {
        "id": "yMKrs9PQoh0_"
      },
      "source": [
        "Google Earth Engine es una plataforma basada en la nube para el análisis geoespacial a escala planetaria que incorpora las capacidades computacionales masivas de Google para abordar una variedad de problemas sociales de alto impacto que incluyen deforestación, sequía, desastres, enfermedades, seguridad alimentaria, gestión del agua, monitoreo del clima y protección del medio ambiente. Es único en el campo como una plataforma integrada diseñada para empoderar no solo a los científicos tradicionales de teledetección, sino también a una audiencia mucho más amplia que carece de la capacidad técnica necesaria para utilizar supercomputadoras tradicionales o recursos de computación en la nube de productos básicos a gran escala.\r\n",
        "\r\n",
        "Mayor información:\r\n",
        "\r\n",
        "- [GEE - FAQ](https://earthengine.google.com/faq/): La sección de preguntas frecuentes brinda información (en idioma inglés) sobre la plataforma.\r\n",
        "- [Google Earth Engine: Planetary-scale geospatial analysis for everyone](https://doi.org/10.1016/j.rse.2017.06.031): Artículo científico donde se brinda información sobre GEE (disponible gratuitamente en el portal de Elsevier). "
      ]
    },
    {
      "cell_type": "markdown",
      "metadata": {
        "id": "gYBmtXcCoZmi"
      },
      "source": [
        "## ¿Cómo usar GEE? Primeros Pasos"
      ]
    },
    {
      "cell_type": "markdown",
      "metadata": {
        "id": "eBf8X9UlpveQ"
      },
      "source": [
        "- [La sección de desarrolladores](https://developers.google.com/earth-engine) brinda buena información sobre el uso de GEE.\r\n",
        "- [Notas sobre la instalación de EE usando Python](https://developers.google.com/earth-engine/guides/python_install)"
      ]
    },
    {
      "cell_type": "markdown",
      "metadata": {
        "id": "Lpud7cbUof3H"
      },
      "source": [
        "1. Para usar la plataforma es necesario primero [crearse una cuenta](https://signup.earthengine.google.com/). \r\n",
        "  - Nota: Debe marcarse la opción de: Uso académico.\r\n",
        "2. Esperar (horas, días) el correo de confirmación y activar la cuenta.\r\n",
        "3. Ingresar a la plataforma mediante Google Colab."
      ]
    },
    {
      "cell_type": "code",
      "metadata": {
        "colab": {
          "base_uri": "https://localhost:8080/",
          "height": 35
        },
        "id": "0zXMJPGjodSC",
        "outputId": "a63897d4-2e63-440b-8574-b319df4e7b4a"
      },
      "source": [
        "# !pip install earthengine-api\r\n",
        "\r\n",
        "import ee       # Importar ee\r\n",
        "ee.__version__  # versión de ee"
      ],
      "execution_count": null,
      "outputs": [
        {
          "output_type": "execute_result",
          "data": {
            "application/vnd.google.colaboratory.intrinsic+json": {
              "type": "string"
            },
            "text/plain": [
              "'0.1.238'"
            ]
          },
          "metadata": {
            "tags": []
          },
          "execution_count": 8
        }
      ]
    },
    {
      "cell_type": "markdown",
      "metadata": {
        "id": "sRH8_pIRsArX"
      },
      "source": [
        "Nota: La versión instalada es la 0.1.238 -> **Actualizarla** (para evitar posibles errores)"
      ]
    },
    {
      "cell_type": "code",
      "metadata": {
        "id": "we3_7WsqsHsT"
      },
      "source": [
        "#!pip install earthengine-api --upgrade"
      ],
      "execution_count": null,
      "outputs": []
    },
    {
      "cell_type": "code",
      "metadata": {
        "id": "7obuuolctb6o"
      },
      "source": [
        "ee.Authenticate()   # Autentificar la cuenta creada \r\n",
        "ee.Initialize()     # Iniciar la sesión \r\n",
        "print('Autentificación lista!')\r\n",
        "print(f'Versión de GEE: {ee.__version__}')"
      ],
      "execution_count": null,
      "outputs": []
    }
  ]
}